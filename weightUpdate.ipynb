{
 "cells": [
  {
   "cell_type": "markdown",
   "id": "cfc2a700",
   "metadata": {},
   "source": [
    "# Import Libraries"
   ]
  },
  {
   "cell_type": "code",
   "execution_count": 535,
   "id": "b60b117f-a7b2-480a-9c81-875a51f4da57",
   "metadata": {},
   "outputs": [],
   "source": [
    "import pandas as pd\n",
    "import numpy as np\n",
    "import matplotlib.pyplot as plt\n",
    "import sklearn\n",
    "import tensorflow as tf"
   ]
  },
  {
   "cell_type": "code",
   "execution_count": 1,
   "id": "934d5ad1-20ab-462e-a236-f10b2de2e14e",
   "metadata": {},
   "outputs": [],
   "source": [
    "# input_1 = np.array([[0,1,0],[0,1,0],[0,1,0]])\n",
    "# input_2 = np.array([[1,1,1],[0,1,0],[1,1,1]])\n",
    "# input_3 = np.array([[1,1,1],[0,0,1],[0,0,1]])\n",
    "# input_4 = np.array([[1,0,1],[1,1,1],[0,0,1]])"
   ]
  },
  {
   "cell_type": "markdown",
   "id": "6588804b",
   "metadata": {},
   "source": [
    "# MNIST Data Download and Processing"
   ]
  },
  {
   "cell_type": "code",
   "execution_count": 2,
   "id": "260e0767",
   "metadata": {},
   "outputs": [],
   "source": [
    "from tensorflow.keras.datasets import mnist"
   ]
  },
  {
   "cell_type": "code",
   "execution_count": 3,
   "id": "4b359f82",
   "metadata": {},
   "outputs": [],
   "source": [
    "(X_train,Y_train) , (X_test,Y_test) = mnist.load_data()"
   ]
  },
  {
   "cell_type": "code",
   "execution_count": 4,
   "id": "8cad41ee",
   "metadata": {},
   "outputs": [
    {
     "name": "stdout",
     "output_type": "stream",
     "text": [
      "MNIST Dataset Shape:\n",
      "X_train: (60000, 28, 28)\n",
      "Y_train: (60000,)\n",
      "X_test:  (10000, 28, 28)\n",
      "Y_test:  (10000,)\n"
     ]
    }
   ],
   "source": [
    "print('MNIST Dataset Shape:')\n",
    "print('X_train: ' + str(X_train.shape))\n",
    "print('Y_train: ' + str(Y_train.shape))\n",
    "print('X_test:  '  + str(X_test.shape))\n",
    "print('Y_test:  '  + str(Y_test.shape))"
   ]
  },
  {
   "cell_type": "markdown",
   "id": "a4a85111",
   "metadata": {},
   "source": [
    "# Filtering the Data (0,1,2,3,4)"
   ]
  },
  {
   "cell_type": "code",
   "execution_count": 540,
   "id": "053dee28",
   "metadata": {},
   "outputs": [],
   "source": [
    "train_filter = np.where((Y_train == 0 ) | (Y_train == 1) | (Y_train == 2) | (Y_train == 3) | (Y_train == 4))\n",
    "test_filter = np.where((Y_test == 0) | (Y_test == 1) | (Y_test == 2) | (Y_test == 3) | (Y_test == 4))"
   ]
  },
  {
   "cell_type": "code",
   "execution_count": 541,
   "id": "d8b9ff69",
   "metadata": {},
   "outputs": [],
   "source": [
    "X_train, Y_train = X_train[train_filter], Y_train[train_filter]\n",
    "X_test, Y_test = X_test[test_filter], Y_test[test_filter]"
   ]
  },
  {
   "cell_type": "code",
   "execution_count": 542,
   "id": "80ac9a9b",
   "metadata": {},
   "outputs": [
    {
     "data": {
      "text/plain": [
       "<matplotlib.image.AxesImage at 0x281975730>"
      ]
     },
     "execution_count": 542,
     "metadata": {},
     "output_type": "execute_result"
    },
    {
     "data": {
      "image/png": "[encoded data removed]",
      "text/plain": [
       "<Figure size 640x480 with 1 Axes>"
      ]
     },
     "metadata": {},
     "output_type": "display_data"
    }
   ],
   "source": [
    "plt.imshow(X_train[3])"
   ]
  },
  {
   "cell_type": "code",
   "execution_count": 543,
   "id": "8277189d",
   "metadata": {},
   "outputs": [
    {
     "data": {
      "text/plain": [
       "<matplotlib.image.AxesImage at 0x281b621f0>"
      ]
     },
     "execution_count": 543,
     "metadata": {},
     "output_type": "execute_result"
    },
    {
     "data": {
      "image/png": "[encoded data removed]",
      "text/plain": [
       "<Figure size 640x480 with 1 Axes>"
      ]
     },
     "metadata": {},
     "output_type": "display_data"
    }
   ],
   "source": [
    "plt.imshow(X_train[0])"
   ]
  },
  {
   "cell_type": "code",
   "execution_count": 544,
   "id": "a67f8c39",
   "metadata": {},
   "outputs": [
    {
     "data": {
      "text/plain": [
       "array([  0,   6,   7,  10,  12,  19,  21,  25,  28,  29,  37,  38,  47,\n",
       "        48,  50,  51,  54,  56,  57,  60,  63,  71,  75,  76,  79,  84,\n",
       "        85,  86,  96, 112, 114, 121, 122, 128, 130, 131, 135, 141, 145,\n",
       "       146, 148, 159, 162, 163, 165, 167, 168, 173, 178, 179, 186, 189,\n",
       "       190, 195, 196, 198, 199, 202, 208, 215, 223, 224, 225, 227, 228,\n",
       "       229, 230, 233, 237, 238, 239, 240, 243, 246, 249, 252, 253, 255],\n",
       "      dtype=uint8)"
      ]
     },
     "execution_count": 544,
     "metadata": {},
     "output_type": "execute_result"
    }
   ],
   "source": [
    "np.unique(X_train[0])"
   ]
  },
  {
   "cell_type": "markdown",
   "id": "ce3985cb",
   "metadata": {},
   "source": [
    "# MNIST Data Information"
   ]
  },
  {
   "cell_type": "code",
   "execution_count": 545,
   "id": "1c582e17",
   "metadata": {},
   "outputs": [
    {
     "name": "stdout",
     "output_type": "stream",
     "text": [
      "MNIST Dataset Shape:\n",
      "X_train: (30596, 28, 28)\n",
      "Y_train: (30596,)\n",
      "X_test:  (5139, 28, 28)\n",
      "Y_test:  (5139,)\n"
     ]
    }
   ],
   "source": [
    "print('MNIST Dataset Shape:')\n",
    "print('X_train: ' + str(X_train.shape))\n",
    "print('Y_train: ' + str(Y_train.shape))\n",
    "print('X_test:  '  + str(X_test.shape))\n",
    "print('Y_test:  '  + str(Y_test.shape))"
   ]
  },
  {
   "cell_type": "markdown",
   "id": "03b26496",
   "metadata": {},
   "source": [
    "# Normalize the Images"
   ]
  },
  {
   "cell_type": "code",
   "execution_count": 546,
   "id": "01c43962",
   "metadata": {},
   "outputs": [],
   "source": [
    "X_train = X_train/255.0\n",
    "X_test = X_test/255.0"
   ]
  },
  {
   "cell_type": "code",
   "execution_count": 547,
   "id": "71355d87",
   "metadata": {},
   "outputs": [
    {
     "data": {
      "text/plain": [
       "(28, 28)"
      ]
     },
     "execution_count": 547,
     "metadata": {},
     "output_type": "execute_result"
    }
   ],
   "source": [
    "X_train[1].shape"
   ]
  },
  {
   "cell_type": "markdown",
   "id": "82e9a477-5091-42b1-bd33-125f75245d27",
   "metadata": {},
   "source": [
    "# Flattening the Input"
   ]
  },
  {
   "cell_type": "code",
   "execution_count": 548,
   "id": "8b464413",
   "metadata": {},
   "outputs": [],
   "source": [
    "def flattenInput(mat):\n",
    "        mat = mat.flatten()\n",
    "        mat = mat.reshape(mat.shape[0],1)\n",
    "        return mat\n",
    "\n",
    "flattenInput_ = flattenInput(input_1)"
   ]
  },
  {
   "cell_type": "code",
   "execution_count": 549,
   "id": "8e5a1d96",
   "metadata": {},
   "outputs": [
    {
     "data": {
      "text/plain": [
       "(9, 1)"
      ]
     },
     "execution_count": 549,
     "metadata": {},
     "output_type": "execute_result"
    }
   ],
   "source": [
    "flattenInput_.shape"
   ]
  },
  {
   "cell_type": "markdown",
   "id": "559aac83-5f34-49e9-a4b2-69b87fb6d65f",
   "metadata": {},
   "source": [
    "# Weight Initialization(Random,Normalized)"
   ]
  },
  {
   "cell_type": "code",
   "execution_count": 550,
   "id": "5ccf990a-f4ba-44b6-9ff3-4e4fe5939676",
   "metadata": {},
   "outputs": [],
   "source": [
    "def weightInitialization(rows , cols, type = \"random\"):\n",
    "    if(type == \"random\"):\n",
    "        initialWeights = np.random.random(size = (rows,cols))\n",
    "    else:\n",
    "        initialWeights = np.random.normal(size = (rows,cols))\n",
    "    \n",
    "    initialWeights = initialWeights.reshape(rows,cols)\n",
    "    return initialWeights"
   ]
  },
  {
   "cell_type": "code",
   "execution_count": 551,
   "id": "60309a33-ec7a-45c1-85c1-3b63daa7faf1",
   "metadata": {},
   "outputs": [],
   "source": [
    "weights = weightInitialization(784,20,\"random\")"
   ]
  },
  {
   "cell_type": "code",
   "execution_count": 552,
   "id": "fb75c651-1866-48d3-a27b-be8b8c3f8af7",
   "metadata": {},
   "outputs": [
    {
     "data": {
      "text/plain": [
       "(784, 20)"
      ]
     },
     "execution_count": 552,
     "metadata": {},
     "output_type": "execute_result"
    }
   ],
   "source": [
    "weights.shape"
   ]
  },
  {
   "cell_type": "markdown",
   "id": "8c524f73-5b11-4e09-9427-d6f95ea2ceb0",
   "metadata": {},
   "source": [
    "# Manipulating the Array"
   ]
  },
  {
   "cell_type": "code",
   "execution_count": 553,
   "id": "b7c563ea-dcfb-48a8-99a4-8435b661e5f3",
   "metadata": {},
   "outputs": [],
   "source": [
    "def manipulatingTheArray(mat):\n",
    "    mat = flattenInput(mat)\n",
    "    \n",
    "    for index in range(mat.shape[0]):    \n",
    "        if mat[index] == 0:\n",
    "            mat[index] = -1\n",
    "    return mat"
   ]
  },
  {
   "cell_type": "code",
   "execution_count": 554,
   "id": "75a64691-d5b7-4254-949b-3f43775370da",
   "metadata": {},
   "outputs": [
    {
     "data": {
      "text/plain": [
       "array([[-1],\n",
       "       [ 1],\n",
       "       [-1],\n",
       "       [-1],\n",
       "       [ 1],\n",
       "       [-1],\n",
       "       [-1],\n",
       "       [ 1],\n",
       "       [-1]])"
      ]
     },
     "execution_count": 554,
     "metadata": {},
     "output_type": "execute_result"
    }
   ],
   "source": [
    "manipulatingTheArray(input_1)"
   ]
  },
  {
   "cell_type": "markdown",
   "id": "6bf23071",
   "metadata": {},
   "source": [
    "# Thresholding Weight"
   ]
  },
  {
   "cell_type": "code",
   "execution_count": 555,
   "id": "d665276d",
   "metadata": {},
   "outputs": [],
   "source": [
    "def thresholding(out):\n",
    "    for item in range(out.shape[1]):\n",
    "        if out[0][item] >= 0.8:\n",
    "            out[0][item] = 0.8\n",
    "        elif out[0][item] >= 0.5 and out[0][item] < 0.8:\n",
    "            out[0][item] = 0.5\n",
    "        elif out[0][item] > 0.1 and out[0][item] < 0.5:\n",
    "            out[0][item] = 0.3\n",
    "        else:\n",
    "            out[0][item] = 0.1\n",
    "    return out"
   ]
  },
  {
   "cell_type": "code",
   "execution_count": 556,
   "id": "be367877",
   "metadata": {},
   "outputs": [],
   "source": [
    "def ActThresholding(out):\n",
    "    for item in range(out.shape[1]):\n",
    "        if out[0][item] >= 0.9:\n",
    "            out[0][item] = 0.9\n",
    "        else:\n",
    "            out[0][item] = 0.1\n",
    "    return out"
   ]
  },
  {
   "cell_type": "markdown",
   "id": "39b94b59",
   "metadata": {},
   "source": [
    "# Threshold Check"
   ]
  },
  {
   "cell_type": "code",
   "execution_count": 557,
   "id": "b36657ca",
   "metadata": {},
   "outputs": [],
   "source": [
    "def crossThreshold(out):\n",
    "    for item in range(out.shape[1]):\n",
    "        if out[0][item] >= 0.9:\n",
    "            return True\n",
    "\n",
    "    return False"
   ]
  },
  {
   "cell_type": "markdown",
   "id": "724e02b6",
   "metadata": {},
   "source": [
    "# Weight Threshold (Future Reference)"
   ]
  },
  {
   "cell_type": "code",
   "execution_count": 558,
   "id": "d392ac78",
   "metadata": {},
   "outputs": [],
   "source": [
    "def weightThreshold(weight):\n",
    "    for item in range(weight.shape[1]):\n",
    "        if weight[0][item] <= 0:\n",
    "            weight[0][item] = 0\n",
    "    \n",
    "    return weight\n",
    "            "
   ]
  },
  {
   "cell_type": "markdown",
   "id": "3e93e7d8",
   "metadata": {},
   "source": [
    "# Print Results"
   ]
  },
  {
   "cell_type": "code",
   "execution_count": 559,
   "id": "8ae8b3f6",
   "metadata": {},
   "outputs": [],
   "source": [
    "def printResults(inputImage,finalWeight):\n",
    "    result = []\n",
    "    for item in inputImage:\n",
    "        item = flattenInput(item)\n",
    "        #item = manipulatingTheArray(item)\n",
    "        result.append(np.dot(item.T,finalWeight))\n",
    "    return result"
   ]
  },
  {
   "cell_type": "code",
   "execution_count": 560,
   "id": "18a2f6a6",
   "metadata": {},
   "outputs": [],
   "source": [
    "testFlatten = []\n",
    "\n",
    "for image_ in X_test:\n",
    "        image_ = flattenInput(image_)\n",
    "        testFlatten.append(image_)"
   ]
  },
  {
   "cell_type": "markdown",
   "id": "0f2b5a53-3dd8-40d2-804e-0d67cd2333a2",
   "metadata": {},
   "source": [
    "\n",
    "\n",
    "\n",
    "# Weight Update"
   ]
  },
  {
   "cell_type": "code",
   "execution_count": 561,
   "id": "a44625ea",
   "metadata": {},
   "outputs": [],
   "source": [
    "def weightUpateContainingMemoryElement(epoch,iteration,inputImage,weight):\n",
    "    \"\"\"\n",
    "    Every epoch , We are doing iterations for every image in \n",
    "    the list\n",
    "    \"\"\"\n",
    "    flattenImage = []\n",
    "    for image_ in inputImage:\n",
    "        image_ = flattenInput(image_)\n",
    "        flattenImage.append(image_)\n",
    "    out = np.array(0)\n",
    "    alpha =1e-4\n",
    "    beta = 1e-5\n",
    "    for epoch_ in range(epoch):\n",
    "            for input_ in flattenImage:\n",
    "                    out = alpha * np.dot(input_.T , weight) + out\n",
    "                    out = ActThresholding(out)\n",
    "                    inputM = manipulatingTheArray(input_)\n",
    "                    weight = weight + beta * np.dot(inputM,out)\n",
    "                    weight = weightThreshold(weight)\n",
    "                    if(crossThreshold(out)):\n",
    "                        out = 0\n",
    "                    else:\n",
    "                        out = out - 0.1\n",
    "    return weight"
   ]
  },
  {
   "cell_type": "code",
   "execution_count": 562,
   "id": "0e2e8cdc",
   "metadata": {},
   "outputs": [],
   "source": [
    "finalWeight = weightUpateContainingMemoryElement(3,1,X_train,weights)"
   ]
  },
  {
   "cell_type": "code",
   "execution_count": 563,
   "id": "86ce2af6",
   "metadata": {},
   "outputs": [
    {
     "data": {
      "text/plain": [
       "array([[ 0.71699847,  0.42683203,  0.19909667, ...,  0.17723817,\n",
       "         0.49301317,  0.3696507 ],\n",
       "       [ 0.64055101,  0.5234017 ,  0.04333012, ...,  0.02557459,\n",
       "        -0.0672761 ,  0.14968823],\n",
       "       [ 0.49722946,  0.32698053,  0.50525217, ..., -0.0441126 ,\n",
       "         0.86506062,  0.19305701],\n",
       "       ...,\n",
       "       [ 0.89381857,  0.11620128,  0.65045717, ...,  0.40856457,\n",
       "         0.74178992,  0.57545439],\n",
       "       [ 0.08997719, -0.01173686,  0.74433771, ...,  0.51605582,\n",
       "        -0.03698417,  0.1920063 ],\n",
       "       [ 0.44743281,  0.81135575,  0.70950403, ...,  0.4649761 ,\n",
       "         0.83309938,  0.61906041]])"
      ]
     },
     "execution_count": 563,
     "metadata": {},
     "output_type": "execute_result"
    }
   ],
   "source": [
    "finalWeight"
   ]
  },
  {
   "cell_type": "code",
   "execution_count": 564,
   "id": "ca12c7df",
   "metadata": {},
   "outputs": [],
   "source": [
    "results=printResults(X_train,finalWeight)"
   ]
  },
  {
   "cell_type": "code",
   "execution_count": 565,
   "id": "958e5400",
   "metadata": {},
   "outputs": [],
   "source": [
    "resultsAvg = []\n",
    "for item in range(len(results)):\n",
    "    resultsAvg.append(np.mean(results[item]))"
   ]
  },
  {
   "cell_type": "code",
   "execution_count": null,
   "id": "06af0a16",
   "metadata": {},
   "outputs": [],
   "source": []
  },
  {
   "cell_type": "code",
   "execution_count": 566,
   "id": "65fe6ada",
   "metadata": {},
   "outputs": [],
   "source": [
    "res0 = []\n",
    "res1 = []\n",
    "res2 = []\n",
    "res3 = []\n",
    "res4 = []\n",
    "\n",
    "index = 0\n",
    "\n",
    "for item in Y_train: \n",
    "    if item == 0:\n",
    "        res0.append(index)\n",
    "    elif item == 1:\n",
    "        res1.append(index)\n",
    "    elif item == 2:\n",
    "        res2.append(index)\n",
    "    elif item == 3:\n",
    "        res3.append(index)\n",
    "    else:\n",
    "        res4.append(\n",
    "            index)\n",
    "    index += 1\n",
    "        "
   ]
  },
  {
   "cell_type": "markdown",
   "id": "e0c96368",
   "metadata": {},
   "source": [
    "# Checking the values of Zeros"
   ]
  },
  {
   "cell_type": "code",
   "execution_count": 567,
   "id": "5f947e55",
   "metadata": {},
   "outputs": [
    {
     "data": {
      "text/plain": [
       "<matplotlib.image.AxesImage at 0x2818d1850>"
      ]
     },
     "execution_count": 567,
     "metadata": {},
     "output_type": "execute_result"
    },
    {
     "data": {
      "image/png": "[encoded data removed]",
      "text/plain": [
       "<Figure size 640x480 with 1 Axes>"
      ]
     },
     "metadata": {},
     "output_type": "display_data"
    }
   ],
   "source": [
    "plt.imshow(X_train[res0[100]])"
   ]
  },
  {
   "cell_type": "markdown",
   "id": "5044245c",
   "metadata": {},
   "source": [
    "# Storing the index of the images"
   ]
  },
  {
   "cell_type": "code",
   "execution_count": 568,
   "id": "97635c1e",
   "metadata": {},
   "outputs": [],
   "source": [
    "\n",
    "def storingIndexes(res0,res1,res2,res3,res4):\n",
    "    result0 = []\n",
    "    result1 = []\n",
    "    result2 = []\n",
    "    result3 = []\n",
    "    result4 = []\n",
    "    \n",
    "    for index in res0:\n",
    "        result0.append(resultsAvg[index])\n",
    "    \n",
    "    for index in res1:\n",
    "        result1.append(resultsAvg[index])\n",
    "        \n",
    "    for index in res2:\n",
    "        result2.append(resultsAvg[index])\n",
    "    \n",
    "    for index in res3:\n",
    "        result3.append(resultsAvg[index])\n",
    "    \n",
    "    for index in res4:\n",
    "        result4.append(resultsAvg[index])\n",
    "        \n",
    "    \n",
    "    return result0,result1,result2,result3,result4\n",
    "        "
   ]
  },
  {
   "cell_type": "code",
   "execution_count": 569,
   "id": "e97cfc6e",
   "metadata": {},
   "outputs": [],
   "source": [
    "result0 , result1 , result2 , result3, result4 = storingIndexes(res0,res1,res2,res3,res4)"
   ]
  },
  {
   "cell_type": "code",
   "execution_count": 570,
   "id": "8813baa9",
   "metadata": {},
   "outputs": [
    {
     "data": {
      "text/plain": [
       "22.182178270307602"
      ]
     },
     "execution_count": 570,
     "metadata": {},
     "output_type": "execute_result"
    }
   ],
   "source": [
    "np.min(result0)"
   ]
  },
  {
   "cell_type": "code",
   "execution_count": 571,
   "id": "f4e375a8",
   "metadata": {},
   "outputs": [
    {
     "data": {
      "text/plain": [
       "148.30960006722486"
      ]
     },
     "execution_count": 571,
     "metadata": {},
     "output_type": "execute_result"
    }
   ],
   "source": [
    "np.max(result0)"
   ]
  },
  {
   "cell_type": "code",
   "execution_count": 572,
   "id": "18c620ba",
   "metadata": {},
   "outputs": [],
   "source": [
    "def MaxMinResult(res):\n",
    "    return np.min(res) , np.max(res)"
   ]
  },
  {
   "cell_type": "code",
   "execution_count": 573,
   "id": "46472f84",
   "metadata": {},
   "outputs": [],
   "source": [
    "min0 , max0 = MaxMinResult(result0)\n",
    "min1 , max1 = MaxMinResult(result1)\n",
    "min2 , max2 = MaxMinResult(result2)\n",
    "min3 , max3 = MaxMinResult(result3)\n",
    "min4 , max4 = MaxMinResult(result4)"
   ]
  },
  {
   "cell_type": "code",
   "execution_count": 574,
   "id": "6fbc4ec1",
   "metadata": {},
   "outputs": [
    {
     "name": "stdout",
     "output_type": "stream",
     "text": [
      "22.182178270307602\n",
      "148.30960006722486\n"
     ]
    }
   ],
   "source": [
    "print(min0)\n",
    "print(max0)"
   ]
  },
  {
   "cell_type": "code",
   "execution_count": 575,
   "id": "5f01df4c",
   "metadata": {},
   "outputs": [
    {
     "name": "stdout",
     "output_type": "stream",
     "text": [
      "10.060199849009193\n",
      "84.77926879463686\n"
     ]
    }
   ],
   "source": [
    "print(min1)\n",
    "print(max1)"
   ]
  },
  {
   "cell_type": "code",
   "execution_count": 576,
   "id": "32bcb9c4",
   "metadata": {},
   "outputs": [
    {
     "name": "stdout",
     "output_type": "stream",
     "text": [
      "17.023349657700354\n",
      "121.68607737311072\n"
     ]
    }
   ],
   "source": [
    "print(min2)\n",
    "print(max2)"
   ]
  },
  {
   "cell_type": "code",
   "execution_count": 577,
   "id": "f881bf3b",
   "metadata": {},
   "outputs": [
    {
     "name": "stdout",
     "output_type": "stream",
     "text": [
      "15.71253109258837\n",
      "115.16812034586341\n"
     ]
    }
   ],
   "source": [
    "print(min3)\n",
    "print(max3)"
   ]
  },
  {
   "cell_type": "code",
   "execution_count": 578,
   "id": "9a10fadf",
   "metadata": {},
   "outputs": [
    {
     "name": "stdout",
     "output_type": "stream",
     "text": [
      "16.04609646622481\n",
      "101.87317102790755\n"
     ]
    }
   ],
   "source": [
    "print(min4)\n",
    "print(max4)"
   ]
  },
  {
   "cell_type": "code",
   "execution_count": 579,
   "id": "c8fc49b0",
   "metadata": {},
   "outputs": [
    {
     "name": "stdout",
     "output_type": "stream",
     "text": [
      "4077\n"
     ]
    }
   ],
   "source": [
    "max_value = np.max(result0)\n",
    "index = result0.index(max_value)\n",
    "print(index)\n"
   ]
  },
  {
   "cell_type": "code",
   "execution_count": 580,
   "id": "231c9455",
   "metadata": {},
   "outputs": [
    {
     "data": {
      "text/plain": [
       "<matplotlib.image.AxesImage at 0x281c971c0>"
      ]
     },
     "execution_count": 580,
     "metadata": {},
     "output_type": "execute_result"
    },
    {
     "data": {
      "image/png": "[encoded data removed]",
      "text/plain": [
       "<Figure size 640x480 with 1 Axes>"
      ]
     },
     "metadata": {},
     "output_type": "display_data"
    }
   ],
   "source": [
    "plt.imshow(X_train[res0[4077]])"
   ]
  },
  {
   "cell_type": "code",
   "execution_count": 581,
   "id": "300ada15",
   "metadata": {},
   "outputs": [
    {
     "name": "stdout",
     "output_type": "stream",
     "text": [
      "3525\n"
     ]
    }
   ],
   "source": [
    "max_value = np.min(result0)\n",
    "index = result0.index(max_value)\n",
    "print(index)\n"
   ]
  },
  {
   "cell_type": "code",
   "execution_count": 582,
   "id": "00ebd244",
   "metadata": {},
   "outputs": [
    {
     "data": {
      "text/plain": [
       "<matplotlib.image.AxesImage at 0x2819474c0>"
      ]
     },
     "execution_count": 582,
     "metadata": {},
     "output_type": "execute_result"
    },
    {
     "data": {
      "image/png": "[encoded data removed]",
      "text/plain": [
       "<Figure size 640x480 with 1 Axes>"
      ]
     },
     "metadata": {},
     "output_type": "display_data"
    }
   ],
   "source": [
    "plt.imshow(X_train[res0[3525]])"
   ]
  },
  {
   "cell_type": "code",
   "execution_count": 584,
   "id": "38bfba7e",
   "metadata": {},
   "outputs": [
    {
     "data": {
      "text/plain": [
       "53.54726209114002"
      ]
     },
     "execution_count": 584,
     "metadata": {},
     "output_type": "execute_result"
    }
   ],
   "source": [
    "np.mean(np.dot(testFlatten[0].T,finalWeight))"
   ]
  },
  {
   "cell_type": "code",
   "execution_count": 585,
   "id": "bb628530",
   "metadata": {},
   "outputs": [
    {
     "data": {
      "text/plain": [
       "<matplotlib.image.AxesImage at 0x281c76280>"
      ]
     },
     "execution_count": 585,
     "metadata": {},
     "output_type": "execute_result"
    },
    {
     "data": {
      "image/png": "[encoded data removed]",
      "text/plain": [
       "<Figure size 640x480 with 1 Axes>"
      ]
     },
     "metadata": {},
     "output_type": "display_data"
    }
   ],
   "source": [
    "plt.imshow(X_test[0])"
   ]
  },
  {
   "cell_type": "code",
   "execution_count": 591,
   "id": "05d2be17",
   "metadata": {},
   "outputs": [
    {
     "data": {
      "text/plain": [
       "35.34987058964693"
      ]
     },
     "execution_count": 591,
     "metadata": {},
     "output_type": "execute_result"
    }
   ],
   "source": [
    "np.mean(np.dot(testFlatten[3].T,finalWeight))"
   ]
  },
  {
   "cell_type": "code",
   "execution_count": 592,
   "id": "ed5f1467",
   "metadata": {},
   "outputs": [
    {
     "data": {
      "text/plain": [
       "<matplotlib.image.AxesImage at 0x282836a30>"
      ]
     },
     "execution_count": 592,
     "metadata": {},
     "output_type": "execute_result"
    },
    {
     "data": {
      "image/png": "[encoded data removed]",
      "text/plain": [
       "<Figure size 640x480 with 1 Axes>"
      ]
     },
     "metadata": {},
     "output_type": "display_data"
    }
   ],
   "source": [
    "plt.imshow(X_test[3])"
   ]
  },
  {
   "cell_type": "markdown",
   "id": "862e3610",
   "metadata": {},
   "source": [
    "# Problem\n",
    "\n",
    "1. Proper Encoding of the MNIST Data is required\n",
    "2. Check the algorithm for previous data\n",
    "    - The weight values are increasing\n",
    "3. Thresholding on weights\n",
    "4. If weights are increasing then the output will be increasing , we have to work on the the weight clipping.\n",
    "5. Epochs 10\n",
    "6. Digits 0-5 (20 output neurons)"
   ]
  },
  {
   "cell_type": "code",
   "execution_count": 47,
   "id": "bd5c2647-11c1-40b6-a472-bb7962fab074",
   "metadata": {},
   "outputs": [],
   "source": [
    "def weightUpdate(epoch,iteration,inputImage,weight):\n",
    "    \"\"\"\n",
    "    Every epoch , We are doing iterations for every image in \n",
    "    the list\n",
    "    \"\"\"\n",
    "    flattenImage = []\n",
    "    for image_ in inputImage:\n",
    "        image_ = flattenInput(image_)\n",
    "        flattenImage.append(image_)\n",
    "\n",
    "    for epoch_ in range(epoch):\n",
    "            for input_ in flattenImage:\n",
    "                input_ = manipulatingTheArray(input_)\n",
    "                for iteration_ in range(iteration):\n",
    "                    out = np.dot(input_.T , weight)\n",
    "                    out = thresholding(out)\n",
    "                    #manipulatedinput = manipulatingTheArray(input_)\n",
    "                    weight = weight + np.dot(input_, out)\n",
    "                print(out)\n",
    "            "
   ]
  },
  {
   "cell_type": "code",
   "execution_count": 48,
   "id": "a4c67876-55ff-43cd-8b94-46a78bd207b4",
   "metadata": {},
   "outputs": [
    {
     "name": "stdout",
     "output_type": "stream",
     "text": [
      "[[0.8 0.8 0.8 0.8]]\n",
      "[[0.8 0.8 0.8 0.8]]\n",
      "[[0.8 0.1 0.1 0.1]]\n",
      "[[0.1 0.1 0.1 0.1]]\n"
     ]
    }
   ],
   "source": [
    "weightUpdate(1,10,inputImage,weights)"
   ]
  },
  {
   "cell_type": "markdown",
   "id": "4429d459",
   "metadata": {},
   "source": [
    "# Experimenting with the Weight Update Function "
   ]
  },
  {
   "cell_type": "markdown",
   "id": "929b0b1f",
   "metadata": {},
   "source": [
    "1. Without Thresholding"
   ]
  },
  {
   "cell_type": "code",
   "execution_count": 49,
   "id": "16ea9760",
   "metadata": {},
   "outputs": [],
   "source": [
    "def weightUpdateNoThresholding(epoch,iteration,inputImage,weight):\n",
    "    \"\"\"\n",
    "    Every epoch , We are doing iterations for every image in \n",
    "    the list\n",
    "    \"\"\"\n",
    "    flattenImage = []\n",
    "    for image_ in inputImage:\n",
    "        image_ = flattenInput(image_)\n",
    "        flattenImage.append(image_)\n",
    "\n",
    "    for epoch_ in range(epoch):\n",
    "            for input_ in flattenImage:\n",
    "                for iteration_ in range(iteration):\n",
    "                    out = np.dot(input_.T , weight)\n",
    "                    mInput = manipulatingTheArray(input_)\n",
    "                    weight = weight + np.dot(mInput, out)\n",
    "                print(out)\n",
    "    \n",
    "    #return weight"
   ]
  },
  {
   "cell_type": "code",
   "execution_count": 50,
   "id": "c00892b8",
   "metadata": {},
   "outputs": [
    {
     "name": "stdout",
     "output_type": "stream",
     "text": [
      "[[155576.39768674 385378.01137161 202981.67210939 450812.2380949 ]]\n",
      "[[-2.78410072e+13 -6.89656659e+13 -3.63246339e+13 -8.06754756e+13]]\n",
      "[[-9.61965288e+20 -2.38290864e+21 -1.25509241e+21 -2.78750716e+21]]\n",
      "[[-9.31650470e+28 -2.30781503e+29 -1.21554015e+29 -2.69966328e+29]]\n"
     ]
    }
   ],
   "source": [
    "weightUpdateNoThresholding(1,10,inputImage,weights)"
   ]
  },
  {
   "cell_type": "markdown",
   "id": "eccce30a",
   "metadata": {},
   "source": [
    "2. No Input Manipulation"
   ]
  },
  {
   "cell_type": "code",
   "execution_count": 33,
   "id": "600e6981",
   "metadata": {},
   "outputs": [],
   "source": [
    "def weightUpdateNoInputManipulation(epoch,iteration,inputImage,weight):\n",
    "    \"\"\"\n",
    "    Every epoch , We are doing iterations for every image in \n",
    "    the list\n",
    "    \"\"\"\n",
    "    flattenImage = []\n",
    "    for image_ in inputImage:\n",
    "        image_ = flattenInput(image_)\n",
    "        flattenImage.append(image_)\n",
    "\n",
    "    for epoch_ in range(epoch):\n",
    "            for input_ in flattenImage:\n",
    "                for iteration_ in range(iteration):\n",
    "                    out = np.dot(input_.T , weight)\n",
    "                    out = thresholding(out)\n",
    "                    weight = weight + np.dot(input_, out)\n",
    "\n",
    "    return weight"
   ]
  },
  {
   "cell_type": "code",
   "execution_count": 38,
   "id": "b541ef36",
   "metadata": {},
   "outputs": [],
   "source": [
    "finalWeights = weightUpdateNoInputManipulation(1,10,inputImage,weights)"
   ]
  },
  {
   "cell_type": "code",
   "execution_count": 41,
   "id": "e6919335",
   "metadata": {},
   "outputs": [
    {
     "name": "stdout",
     "output_type": "stream",
     "text": [
      "[[-44.01405281 -40.88787408 -42.02877323 -40.81974185]]\n",
      "[[121.46048886 121.38450421 121.14038429 122.29584165]]\n",
      "[[58.267655   55.21240137 57.42401618 56.73500904]]\n",
      "[[73.95550314 72.03892014 74.53764588 73.69424831]]\n"
     ]
    }
   ],
   "source": [
    "printResults(inputImage,finalWeights)"
   ]
  },
  {
   "cell_type": "markdown",
   "id": "fbf4e27f",
   "metadata": {},
   "source": [
    "3. Do combined Iteration for every image"
   ]
  },
  {
   "cell_type": "code",
   "execution_count": 51,
   "id": "7c41b5c7",
   "metadata": {},
   "outputs": [],
   "source": [
    "def weightUpdateCombinedIterationForEveryImage(epoch,iteration,inputImage,weight):\n",
    "    \"\"\"\n",
    "    Every epoch , We are doing iterations for every image in \n",
    "    the list\n",
    "    \"\"\"\n",
    "    flattenImage = []\n",
    "    for image_ in inputImage:\n",
    "        image_ = flattenInput(image_)\n",
    "        flattenImage.append(image_)\n",
    "\n",
    "    for epoch_ in range(epoch):\n",
    "        for iteration_ in range(iteration):\n",
    "            for input_ in flattenImage:\n",
    "                    out = np.dot(input_.T , weight)\n",
    "                    out = thresholding(out)\n",
    "                    weight = weight + np.dot(input_, out)\n",
    "\n",
    "    return weight"
   ]
  },
  {
   "cell_type": "code",
   "execution_count": 58,
   "id": "26eedeeb",
   "metadata": {},
   "outputs": [],
   "source": [
    "finalWeights = weightUpdateCombinedIterationForEveryImage(1,100,inputImage,weights)"
   ]
  },
  {
   "cell_type": "code",
   "execution_count": 59,
   "id": "75353341",
   "metadata": {},
   "outputs": [
    {
     "name": "stdout",
     "output_type": "stream",
     "text": [
      "[[-473.11405281 -465.28787408 -471.12877323 -470.81974185]]\n",
      "[[732.36048886 731.38450421 732.04038429 732.29584165]]\n",
      "[[1011.967655   1000.81240137 1011.12401618 1010.73500904]]\n",
      "[[831.65550314 821.63892014 832.23764588 831.69424831]]\n"
     ]
    }
   ],
   "source": [
    "printResults(inputImage,finalWeights)"
   ]
  },
  {
   "cell_type": "markdown",
   "id": "5b079a61",
   "metadata": {},
   "source": [
    "4. Changing the input to 0 to -1"
   ]
  },
  {
   "cell_type": "code",
   "execution_count": 60,
   "id": "4956e8a7",
   "metadata": {},
   "outputs": [],
   "source": [
    "def weightUpdateCombinedIterationForEveryImage(epoch,iteration,inputImage,weight):\n",
    "    \"\"\"\n",
    "    Every epoch , We are doing iterations for every image in \n",
    "    the list\n",
    "    \"\"\"\n",
    "    flattenImage = []\n",
    "    for image_ in inputImage:\n",
    "        image_ = flattenInput(image_)\n",
    "        flattenImage.append(image_)\n",
    "\n",
    "    for epoch_ in range(epoch):\n",
    "        for iteration_ in range(iteration):\n",
    "            for input_ in flattenImage:\n",
    "                    input_ = manipulatingTheArray(input_)\n",
    "                    out = np.dot(input_.T , weight)\n",
    "                    out = thresholding(out)\n",
    "                    weight = weight + np.dot(input_, out)\n",
    "\n",
    "    return weight"
   ]
  },
  {
   "cell_type": "code",
   "execution_count": 61,
   "id": "d3d9e82c",
   "metadata": {},
   "outputs": [],
   "source": [
    "finalWeight = weightUpdateCombinedIterationForEveryImage(3,10,inputImage,weights)"
   ]
  },
  {
   "cell_type": "code",
   "execution_count": 62,
   "id": "fdf13db4",
   "metadata": {},
   "outputs": [
    {
     "name": "stdout",
     "output_type": "stream",
     "text": [
      "[[-144.11405281 -136.28787408 -142.12877323 -141.81974185]]\n",
      "[[221.36048886 220.38450421 221.04038429 221.29584165]]\n",
      "[[304.967655   293.81240137 304.12401618 303.73500904]]\n",
      "[[250.65550314 240.63892014 251.23764588 250.69424831]]\n"
     ]
    }
   ],
   "source": [
    "for item in inputImage:\n",
    "    item = flattenInput(item)\n",
    "    item = manipulatingTheArray(item)\n",
    "    print(np.dot(item.T,finalWeight))"
   ]
  },
  {
   "cell_type": "code",
   "execution_count": 57,
   "id": "6de92c6e",
   "metadata": {},
   "outputs": [
    {
     "data": {
      "text/plain": [
       "array([[ 69.39000612,  68.04254974,  69.43624434,  69.21410972],\n",
       "       [ 27.32086988,  27.73503806,  27.14569411,  27.62237861],\n",
       "       [ 69.59175721,  67.63236573,  69.84716618,  69.13499989],\n",
       "       [-26.91268329, -26.00519731, -26.88039291, -26.61352704],\n",
       "       [ 27.07747724,  27.15349475,  27.58290186,  27.71552529],\n",
       "       [ 21.88294213,  19.82698269,  21.19890101,  21.59518935],\n",
       "       [-26.19324792, -25.02202828, -26.97153446, -26.72172794],\n",
       "       [-20.80487026, -19.01843236, -20.95428235, -20.61819169],\n",
       "       [ 69.94875543,  67.68330195,  69.2727027 ,  69.93041008]])"
      ]
     },
     "execution_count": 57,
     "metadata": {},
     "output_type": "execute_result"
    }
   ],
   "source": [
    "finalWeight"
   ]
  },
  {
   "cell_type": "code",
   "execution_count": null,
   "id": "993d03f3",
   "metadata": {},
   "outputs": [],
   "source": []
  }
 ],
 "metadata": {
  "kernelspec": {
   "display_name": "Python 3 (ipykernel)",
   "language": "python",
   "name": "python3"
  },
  "language_info": {
   "codemirror_mode": {
    "name": "ipython",
    "version": 3
   },
   "file_extension": ".py",
   "mimetype": "text/x-python",
   "name": "python",
   "nbconvert_exporter": "python",
   "pygments_lexer": "ipython3",
   "version": "3.8.15"
  },
  "vscode": {
   "interpreter": {
    "hash": "aee8b7b246df8f9039afb4144a1f6fd8d2ca17a180786b69acc140d282b71a49"
   }
  }
 },
 "nbformat": 4,
 "nbformat_minor": 5
}
