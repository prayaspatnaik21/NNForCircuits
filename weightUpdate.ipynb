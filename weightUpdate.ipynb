{
 "cells": [
  {
   "cell_type": "code",
   "execution_count": 13,
   "id": "b60b117f-a7b2-480a-9c81-875a51f4da57",
   "metadata": {},
   "outputs": [],
   "source": [
    "import pandas as pd\n",
    "import numpy as np\n",
    "import matplotlib as pyplot"
   ]
  },
  {
   "cell_type": "code",
   "execution_count": 14,
   "id": "934d5ad1-20ab-462e-a236-f10b2de2e14e",
   "metadata": {},
   "outputs": [],
   "source": [
    "input_1 = np.array([[0,1,0],[0,1,0],[0,1,0]])\n",
    "input_2 = np.array([[1,1,1],[0,1,0],[1,1,1]])\n",
    "input_3 = np.array([[1,1,1],[0,0,1],[0,0,1]])\n",
    "input_4 = np.array([[1,0,1],[1,1,1],[0,0,1]])"
   ]
  },
  {
   "cell_type": "markdown",
   "id": "10cfc9da",
   "metadata": {},
   "source": [
    "# Print Input"
   ]
  },
  {
   "cell_type": "code",
   "execution_count": 18,
   "id": "3bc7122b",
   "metadata": {},
   "outputs": [
    {
     "data": {
      "text/plain": [
       "array([[0, 1, 0],\n",
       "       [0, 1, 0],\n",
       "       [0, 1, 0]])"
      ]
     },
     "execution_count": 18,
     "metadata": {},
     "output_type": "execute_result"
    }
   ],
   "source": [
    "input_1"
   ]
  },
  {
   "cell_type": "markdown",
   "id": "1047e703-5d3c-4b38-906f-330c74a2a127",
   "metadata": {},
   "source": [
    "# Shape of the Input"
   ]
  },
  {
   "cell_type": "code",
   "execution_count": 19,
   "id": "16d176b9-4b6c-438c-aa0a-a17a2f35987a",
   "metadata": {},
   "outputs": [
    {
     "data": {
      "text/plain": [
       "(3, 3)"
      ]
     },
     "execution_count": 19,
     "metadata": {},
     "output_type": "execute_result"
    }
   ],
   "source": [
    "input_1.shape"
   ]
  },
  {
   "cell_type": "markdown",
   "id": "82e9a477-5091-42b1-bd33-125f75245d27",
   "metadata": {},
   "source": [
    "# Flattening the Input"
   ]
  },
  {
   "cell_type": "code",
   "execution_count": 93,
   "id": "8b464413",
   "metadata": {},
   "outputs": [],
   "source": [
    "def flattenInput(mat):\n",
    "        mat = mat.flatten()\n",
    "        mat = mat.reshape(mat.shape[0],1)\n",
    "        return mat\n",
    "\n",
    "flattenInput_ = flattenInput(input_1)"
   ]
  },
  {
   "cell_type": "markdown",
   "id": "559aac83-5f34-49e9-a4b2-69b87fb6d65f",
   "metadata": {},
   "source": [
    "# Weight Initialization"
   ]
  },
  {
   "cell_type": "code",
   "execution_count": 94,
   "id": "5ccf990a-f4ba-44b6-9ff3-4e4fe5939676",
   "metadata": {},
   "outputs": [],
   "source": [
    "def weightInitialization(type = \"random\"):\n",
    "    if(type == \"random\"):\n",
    "        initialWeights = np.random.random(size = (9,4))\n",
    "    else:\n",
    "        initialWeights = np.random.normal(size = (9,4))\n",
    "    \n",
    "    initialWeights = initialWeights.reshape(9,4)\n",
    "    return initialWeights"
   ]
  },
  {
   "cell_type": "code",
   "execution_count": 95,
   "id": "60309a33-ec7a-45c1-85c1-3b63daa7faf1",
   "metadata": {},
   "outputs": [],
   "source": [
    "weights = weightInitialization(\"random\")"
   ]
  },
  {
   "cell_type": "code",
   "execution_count": 96,
   "id": "72053934-3e2a-4ab8-87fb-17fe64094f5e",
   "metadata": {},
   "outputs": [
    {
     "data": {
      "text/plain": [
       "array([[0.36285853, 0.52483573, 0.49826119, 0.11927936],\n",
       "       [0.60166989, 0.10080622, 0.22590126, 0.96678413],\n",
       "       [0.13224824, 0.90745252, 0.26729121, 0.57112392],\n",
       "       [0.46983777, 0.81156609, 0.60615638, 0.74292144],\n",
       "       [0.00388488, 0.42398963, 0.18058268, 0.04204677],\n",
       "       [0.89911768, 0.01086082, 0.23060321, 0.62445653],\n",
       "       [0.1653292 , 0.49343422, 0.40717113, 0.32882756],\n",
       "       [0.70733165, 0.76490453, 0.80887864, 0.33398016],\n",
       "       [0.51977209, 0.70750114, 0.40061724, 0.34351531]])"
      ]
     },
     "execution_count": 96,
     "metadata": {},
     "output_type": "execute_result"
    }
   ],
   "source": [
    "weights"
   ]
  },
  {
   "cell_type": "code",
   "execution_count": 97,
   "id": "fb75c651-1866-48d3-a27b-be8b8c3f8af7",
   "metadata": {},
   "outputs": [
    {
     "data": {
      "text/plain": [
       "(9, 4)"
      ]
     },
     "execution_count": 97,
     "metadata": {},
     "output_type": "execute_result"
    }
   ],
   "source": [
    "weights.shape"
   ]
  },
  {
   "cell_type": "markdown",
   "id": "8c524f73-5b11-4e09-9427-d6f95ea2ceb0",
   "metadata": {},
   "source": [
    "# Manipulating the Array"
   ]
  },
  {
   "cell_type": "code",
   "execution_count": 159,
   "id": "b7c563ea-dcfb-48a8-99a4-8435b661e5f3",
   "metadata": {},
   "outputs": [],
   "source": [
    "def manipulatingTheArray(mat):\n",
    "    mat = flattenInput(mat)\n",
    "    \n",
    "    for index in range(mat.shape[0]):    \n",
    "        if mat[index] == 0:\n",
    "            mat[index] = -1\n",
    "    return mat"
   ]
  },
  {
   "cell_type": "code",
   "execution_count": 160,
   "id": "75a64691-d5b7-4254-949b-3f43775370da",
   "metadata": {},
   "outputs": [
    {
     "data": {
      "text/plain": [
       "array([[-1],\n",
       "       [ 1],\n",
       "       [-1],\n",
       "       [-1],\n",
       "       [ 1],\n",
       "       [-1],\n",
       "       [-1],\n",
       "       [ 1],\n",
       "       [-1]])"
      ]
     },
     "execution_count": 160,
     "metadata": {},
     "output_type": "execute_result"
    }
   ],
   "source": [
    "manipulatingTheArray(input_1)"
   ]
  },
  {
   "cell_type": "markdown",
   "id": "6bf23071",
   "metadata": {},
   "source": [
    "# Thresholding Weight"
   ]
  },
  {
   "cell_type": "code",
   "execution_count": 200,
   "id": "ad754ec6",
   "metadata": {},
   "outputs": [],
   "source": [
    "def thresholding(out):\n",
    "    \n",
    "    for item in range(out.shape[1]):\n",
    "        if out[0][item] > 0.5:\n",
    "            out[0][item] = 0.5\n",
    "        else:\n",
    "            out[0][item] = -0.1\n",
    "            \n",
    "    return out\n",
    "    "
   ]
  },
  {
   "cell_type": "code",
   "execution_count": 201,
   "id": "9eae00de",
   "metadata": {},
   "outputs": [],
   "source": [
    "inputImage = [input_1,input_2,input_3,input_4]"
   ]
  },
  {
   "cell_type": "markdown",
   "id": "0f2b5a53-3dd8-40d2-804e-0d67cd2333a2",
   "metadata": {},
   "source": [
    "# Weight Update"
   ]
  },
  {
   "cell_type": "code",
   "execution_count": 202,
   "id": "bd5c2647-11c1-40b6-a472-bb7962fab074",
   "metadata": {},
   "outputs": [],
   "source": [
    "def weightUpdate(epoch,iteration,inputImage,weight):\n",
    "    \"\"\"\n",
    "    Every epoch , We are doing iterations for every image in \n",
    "    the list\n",
    "    \"\"\"\n",
    "    flattenImage = []\n",
    "    for image_ in inputImage:\n",
    "        image_ = flattenInput(image_)\n",
    "        flattenImage.append(image_)\n",
    "\n",
    "    for epoch_ in range(epoch):\n",
    "            for input_ in flattenImage:\n",
    "                for iteration_ in range(iteration):\n",
    "                    out = np.dot(input_.T , weight)\n",
    "                    out = thresholding(out)\n",
    "                    manipulatedinput = manipulatingTheArray(input_)\n",
    "                    weight = weight + np.dot(manipulatedinput , out)\n",
    "                print(out)\n",
    "            "
   ]
  },
  {
   "cell_type": "code",
   "execution_count": 203,
   "id": "a4c67876-55ff-43cd-8b94-46a78bd207b4",
   "metadata": {},
   "outputs": [
    {
     "name": "stdout",
     "output_type": "stream",
     "text": [
      "[[0.5 0.5 0.5 0.5]]\n",
      "[[-0.1  0.5 -0.1 -0.1]]\n",
      "[[-0.1  0.5 -0.1 -0.1]]\n",
      "[[-0.1  0.5 -0.1 -0.1]]\n"
     ]
    }
   ],
   "source": [
    "weightUpdate(1,5,inputImage,weights)"
   ]
  }
 ],
 "metadata": {
  "kernelspec": {
   "display_name": "Python 3.10.7 64-bit",
   "language": "python",
   "name": "python3"
  },
  "language_info": {
   "codemirror_mode": {
    "name": "ipython",
    "version": 3
   },
   "file_extension": ".py",
   "mimetype": "text/x-python",
   "name": "python",
   "nbconvert_exporter": "python",
   "pygments_lexer": "ipython3",
   "version": "3.10.7"
  },
  "vscode": {
   "interpreter": {
    "hash": "aee8b7b246df8f9039afb4144a1f6fd8d2ca17a180786b69acc140d282b71a49"
   }
  }
 },
 "nbformat": 4,
 "nbformat_minor": 5
}
