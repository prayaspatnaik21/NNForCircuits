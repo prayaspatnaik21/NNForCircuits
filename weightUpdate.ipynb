{
 "cells": [
  {
   "cell_type": "code",
   "execution_count": 271,
   "id": "b60b117f-a7b2-480a-9c81-875a51f4da57",
   "metadata": {},
   "outputs": [],
   "source": [
    "import pandas as pd\n",
    "import numpy as np\n",
    "import matplotlib as pyplot"
   ]
  },
  {
   "cell_type": "code",
   "execution_count": 272,
   "id": "934d5ad1-20ab-462e-a236-f10b2de2e14e",
   "metadata": {},
   "outputs": [],
   "source": [
    "input_1 = np.array([[0,1,0],[0,1,0],[0,1,0]])\n",
    "input_2 = np.array([[1,1,1],[0,1,0],[1,1,1]])\n",
    "input_3 = np.array([[1,1,1],[0,0,1],[0,0,1]])\n",
    "input_4 = np.array([[1,0,1],[1,1,1],[0,0,1]])"
   ]
  },
  {
   "cell_type": "markdown",
   "id": "10cfc9da",
   "metadata": {},
   "source": [
    "# Print Input"
   ]
  },
  {
   "cell_type": "code",
   "execution_count": 273,
   "id": "3bc7122b",
   "metadata": {},
   "outputs": [
    {
     "data": {
      "text/plain": [
       "array([[0, 1, 0],\n",
       "       [0, 1, 0],\n",
       "       [0, 1, 0]])"
      ]
     },
     "execution_count": 273,
     "metadata": {},
     "output_type": "execute_result"
    }
   ],
   "source": [
    "input_1"
   ]
  },
  {
   "cell_type": "markdown",
   "id": "1047e703-5d3c-4b38-906f-330c74a2a127",
   "metadata": {},
   "source": [
    "# Shape of the Input"
   ]
  },
  {
   "cell_type": "code",
   "execution_count": 274,
   "id": "16d176b9-4b6c-438c-aa0a-a17a2f35987a",
   "metadata": {},
   "outputs": [
    {
     "data": {
      "text/plain": [
       "(3, 3)"
      ]
     },
     "execution_count": 274,
     "metadata": {},
     "output_type": "execute_result"
    }
   ],
   "source": [
    "input_1.shape"
   ]
  },
  {
   "cell_type": "markdown",
   "id": "82e9a477-5091-42b1-bd33-125f75245d27",
   "metadata": {},
   "source": [
    "# Flattening the Input"
   ]
  },
  {
   "cell_type": "code",
   "execution_count": 275,
   "id": "8b464413",
   "metadata": {},
   "outputs": [],
   "source": [
    "def flattenInput(mat):\n",
    "        mat = mat.flatten()\n",
    "        mat = mat.reshape(mat.shape[0],1)\n",
    "        return mat\n",
    "\n",
    "flattenInput_ = flattenInput(input_1)"
   ]
  },
  {
   "cell_type": "markdown",
   "id": "559aac83-5f34-49e9-a4b2-69b87fb6d65f",
   "metadata": {},
   "source": [
    "# Weight Initialization"
   ]
  },
  {
   "cell_type": "code",
   "execution_count": 276,
   "id": "5ccf990a-f4ba-44b6-9ff3-4e4fe5939676",
   "metadata": {},
   "outputs": [],
   "source": [
    "def weightInitialization(type = \"random\"):\n",
    "    if(type == \"random\"):\n",
    "        initialWeights = np.random.random(size = (9,4))\n",
    "    else:\n",
    "        initialWeights = np.random.normal(size = (9,4))\n",
    "    \n",
    "    initialWeights = initialWeights.reshape(9,4)\n",
    "    return initialWeights"
   ]
  },
  {
   "cell_type": "code",
   "execution_count": 277,
   "id": "60309a33-ec7a-45c1-85c1-3b63daa7faf1",
   "metadata": {},
   "outputs": [],
   "source": [
    "weights = weightInitialization(\"random\")"
   ]
  },
  {
   "cell_type": "code",
   "execution_count": 278,
   "id": "72053934-3e2a-4ab8-87fb-17fe64094f5e",
   "metadata": {},
   "outputs": [
    {
     "data": {
      "text/plain": [
       "array([[0.82755444, 0.8456071 , 0.60557598, 0.22609874],\n",
       "       [0.75293716, 0.09851981, 0.6077168 , 0.7100797 ],\n",
       "       [0.61220666, 0.83377502, 0.2534754 , 0.98061023],\n",
       "       [0.11883868, 0.79966333, 0.30517174, 0.14091617],\n",
       "       [0.88128317, 0.23194534, 0.55395444, 0.96146012],\n",
       "       [0.58799042, 0.29805243, 0.67625967, 0.08289472],\n",
       "       [0.7553429 , 0.69875351, 0.84272549, 0.85226495],\n",
       "       [0.22451872, 0.48436359, 0.9194592 , 0.1128543 ],\n",
       "       [0.80264717, 0.62445747, 0.88599917, 0.22230676]])"
      ]
     },
     "execution_count": 278,
     "metadata": {},
     "output_type": "execute_result"
    }
   ],
   "source": [
    "weights"
   ]
  },
  {
   "cell_type": "code",
   "execution_count": 279,
   "id": "fb75c651-1866-48d3-a27b-be8b8c3f8af7",
   "metadata": {},
   "outputs": [
    {
     "data": {
      "text/plain": [
       "(9, 4)"
      ]
     },
     "execution_count": 279,
     "metadata": {},
     "output_type": "execute_result"
    }
   ],
   "source": [
    "weights.shape"
   ]
  },
  {
   "cell_type": "markdown",
   "id": "8c524f73-5b11-4e09-9427-d6f95ea2ceb0",
   "metadata": {},
   "source": [
    "# Manipulating the Array"
   ]
  },
  {
   "cell_type": "code",
   "execution_count": 280,
   "id": "b7c563ea-dcfb-48a8-99a4-8435b661e5f3",
   "metadata": {},
   "outputs": [],
   "source": [
    "def manipulatingTheArray(mat):\n",
    "    mat = flattenInput(mat)\n",
    "    \n",
    "    for index in range(mat.shape[0]):    \n",
    "        if mat[index] == 0:\n",
    "            mat[index] = -1\n",
    "    return mat"
   ]
  },
  {
   "cell_type": "code",
   "execution_count": 281,
   "id": "75a64691-d5b7-4254-949b-3f43775370da",
   "metadata": {},
   "outputs": [
    {
     "data": {
      "text/plain": [
       "array([[-1],\n",
       "       [ 1],\n",
       "       [-1],\n",
       "       [-1],\n",
       "       [ 1],\n",
       "       [-1],\n",
       "       [-1],\n",
       "       [ 1],\n",
       "       [-1]])"
      ]
     },
     "execution_count": 281,
     "metadata": {},
     "output_type": "execute_result"
    }
   ],
   "source": [
    "manipulatingTheArray(input_1)"
   ]
  },
  {
   "cell_type": "markdown",
   "id": "6bf23071",
   "metadata": {},
   "source": [
    "# Thresholding Weight"
   ]
  },
  {
   "cell_type": "code",
   "execution_count": 346,
   "id": "ad754ec6",
   "metadata": {},
   "outputs": [],
   "source": [
    "def thresholding(out):\n",
    "    \n",
    "    for item in range(out.shape[1]):\n",
    "        if out[0][item] > 0.8:\n",
    "            out[0][item] = 0.8\n",
    "        else:\n",
    "            out[0][item] = -10\n",
    "            \n",
    "    return out\n",
    "    "
   ]
  },
  {
   "cell_type": "code",
   "execution_count": 347,
   "id": "9eae00de",
   "metadata": {},
   "outputs": [],
   "source": [
    "inputImage = [input_1,input_2,input_3,input_4]"
   ]
  },
  {
   "cell_type": "markdown",
   "id": "0f2b5a53-3dd8-40d2-804e-0d67cd2333a2",
   "metadata": {},
   "source": [
    "# Weight Update"
   ]
  },
  {
   "cell_type": "code",
   "execution_count": 348,
   "id": "bd5c2647-11c1-40b6-a472-bb7962fab074",
   "metadata": {},
   "outputs": [],
   "source": [
    "def weightUpdate(epoch,iteration,inputImage,weight):\n",
    "    \"\"\"\n",
    "    Every epoch , We are doing iterations for every image in \n",
    "    the list\n",
    "    \"\"\"\n",
    "    flattenImage = []\n",
    "    for image_ in inputImage:\n",
    "        image_ = flattenInput(image_)\n",
    "        flattenImage.append(image_)\n",
    "\n",
    "    for epoch_ in range(epoch):\n",
    "            for input_ in flattenImage:\n",
    "                input_ = manipulatingTheArray(input_)\n",
    "                for iteration_ in range(iteration):\n",
    "                    out = np.dot(input_.T , weight)\n",
    "                    out = thresholding(out)\n",
    "                    #manipulatedinput = manipulatingTheArray(input_)\n",
    "                    weight = weight + np.dot(input_, out)\n",
    "                print(out)\n",
    "            "
   ]
  },
  {
   "cell_type": "code",
   "execution_count": 349,
   "id": "a4c67876-55ff-43cd-8b94-46a78bd207b4",
   "metadata": {},
   "outputs": [
    {
     "name": "stdout",
     "output_type": "stream",
     "text": [
      "[[-10. -10. -10. -10.]]\n",
      "[[-10. -10. -10. -10.]]\n",
      "[[0.8 0.8 0.8 0.8]]\n",
      "[[0.8 0.8 0.8 0.8]]\n"
     ]
    }
   ],
   "source": [
    "weightUpdate(1,10,inputImage,weights)"
   ]
  },
  {
   "cell_type": "markdown",
   "id": "4429d459",
   "metadata": {},
   "source": [
    "# Experimenting with the Weight Update Function "
   ]
  },
  {
   "cell_type": "markdown",
   "id": "929b0b1f",
   "metadata": {},
   "source": [
    "1. Without Thresholding"
   ]
  },
  {
   "cell_type": "code",
   "execution_count": 350,
   "id": "16ea9760",
   "metadata": {},
   "outputs": [],
   "source": [
    "def weightUpdateNoThresholding(epoch,iteration,inputImage,weight):\n",
    "    \"\"\"\n",
    "    Every epoch , We are doing iterations for every image in \n",
    "    the list\n",
    "    \"\"\"\n",
    "    flattenImage = []\n",
    "    for image_ in inputImage:\n",
    "        image_ = flattenInput(image_)\n",
    "        flattenImage.append(image_)\n",
    "\n",
    "    for epoch_ in range(epoch):\n",
    "            for input_ in flattenImage:\n",
    "                for iteration_ in range(iteration):\n",
    "                    out = np.dot(input_.T , weight)\n",
    "                    mInput = manipulatingTheArray(input_)\n",
    "                    weight = weight + np.dot(mInput, out)\n",
    "    \n",
    "    return weight"
   ]
  },
  {
   "cell_type": "code",
   "execution_count": 351,
   "id": "c00892b8",
   "metadata": {},
   "outputs": [
    {
     "name": "stdout",
     "output_type": "stream",
     "text": [
      "[[-3.40422426e+29 -1.49232530e+29 -3.81153139e+29 -3.26806687e+29]\n",
      " [ 3.40422419e+29  1.49232527e+29  3.81153131e+29  3.26806681e+29]\n",
      " [-3.40422426e+29 -1.49232530e+29 -3.81153139e+29 -3.26806687e+29]\n",
      " [-3.40422419e+29 -1.49232527e+29 -3.81153131e+29 -3.26806681e+29]\n",
      " [-3.40422419e+29 -1.49232527e+29 -3.81153131e+29 -3.26806681e+29]\n",
      " [-3.40422426e+29 -1.49232530e+29 -3.81153139e+29 -3.26806687e+29]\n",
      " [ 3.40422426e+29  1.49232530e+29  3.81153139e+29  3.26806687e+29]\n",
      " [ 3.40422426e+29  1.49232530e+29  3.81153139e+29  3.26806687e+29]\n",
      " [-3.40422426e+29 -1.49232530e+29 -3.81153139e+29 -3.26806687e+29]]\n"
     ]
    }
   ],
   "source": [
    "print(weightUpdateNoThresholding(1,10,inputImage,weights))"
   ]
  },
  {
   "cell_type": "markdown",
   "id": "eccce30a",
   "metadata": {},
   "source": [
    "2. No Input Manipulation"
   ]
  },
  {
   "cell_type": "code",
   "execution_count": 352,
   "id": "600e6981",
   "metadata": {},
   "outputs": [],
   "source": [
    "def weightUpdateNoInputManipulation(epoch,iteration,inputImage,weight):\n",
    "    \"\"\"\n",
    "    Every epoch , We are doing iterations for every image in \n",
    "    the list\n",
    "    \"\"\"\n",
    "    flattenImage = []\n",
    "    for image_ in inputImage:\n",
    "        image_ = flattenInput(image_)\n",
    "        flattenImage.append(image_)\n",
    "\n",
    "    for epoch_ in range(epoch):\n",
    "            for input_ in flattenImage:\n",
    "                for iteration_ in range(iteration):\n",
    "                    out = np.dot(input_.T , weight)\n",
    "                    out = thresholding(out)\n",
    "                    weight = weight + np.dot(input_, out)\n",
    "\n",
    "    return weight"
   ]
  },
  {
   "cell_type": "code",
   "execution_count": 353,
   "id": "b541ef36",
   "metadata": {},
   "outputs": [
    {
     "name": "stdout",
     "output_type": "stream",
     "text": [
      "[[240.82755444 240.8456071  240.60557598 240.22609874]\n",
      " [240.75293716 240.09851981 240.6077168  240.7100797 ]\n",
      " [240.61220666 240.83377502 240.2534754  240.98061023]\n",
      " [ 80.11883868  80.79966333  80.30517174  80.14091617]\n",
      " [240.88128317 240.23194534 240.55395444 240.96146012]\n",
      " [160.58799042 160.29805243 160.67625967 160.08289472]\n",
      " [ 80.7553429   80.69875351  80.84272549  80.85226495]\n",
      " [160.22451872 160.48436359 160.9194592  160.1128543 ]\n",
      " [240.80264717 240.62445747 240.88599917 240.22230676]]\n"
     ]
    }
   ],
   "source": [
    "print(weightUpdateNoInputManipulation(1,100,inputImage,weights))"
   ]
  },
  {
   "cell_type": "markdown",
   "id": "fbf4e27f",
   "metadata": {},
   "source": [
    "3. Do combined Iteration for every image"
   ]
  },
  {
   "cell_type": "code",
   "execution_count": 354,
   "id": "7c41b5c7",
   "metadata": {},
   "outputs": [],
   "source": [
    "def weightUpdateCombinedIterationForEveryImage(epoch,iteration,inputImage,weight):\n",
    "    \"\"\"\n",
    "    Every epoch , We are doing iterations for every image in \n",
    "    the list\n",
    "    \"\"\"\n",
    "    flattenImage = []\n",
    "    for image_ in inputImage:\n",
    "        image_ = flattenInput(image_)\n",
    "        flattenImage.append(image_)\n",
    "\n",
    "    for epoch_ in range(epoch):\n",
    "        for iteration_ in range(iteration):\n",
    "            for input_ in flattenImage:\n",
    "                    out = np.dot(input_.T , weight)\n",
    "                    out = thresholding(out)\n",
    "                    weight = weight + np.dot(input_, out)\n",
    "\n",
    "    return weight"
   ]
  },
  {
   "cell_type": "code",
   "execution_count": 355,
   "id": "26eedeeb",
   "metadata": {},
   "outputs": [
    {
     "name": "stdout",
     "output_type": "stream",
     "text": [
      "[[24.82755444 24.8456071  24.60557598 24.22609874]\n",
      " [24.75293716 24.09851981 24.6077168  24.7100797 ]\n",
      " [24.61220666 24.83377502 24.2534754  24.98061023]\n",
      " [ 8.11883868  8.79966333  8.30517174  8.14091617]\n",
      " [24.88128317 24.23194534 24.55395444 24.96146012]\n",
      " [16.58799042 16.29805243 16.67625967 16.08289472]\n",
      " [ 8.7553429   8.69875351  8.84272549  8.85226495]\n",
      " [16.22451872 16.48436359 16.9194592  16.1128543 ]\n",
      " [24.80264717 24.62445747 24.88599917 24.22230676]]\n"
     ]
    }
   ],
   "source": [
    "print(weightUpdateCombinedIterationForEveryImage(1,10,inputImage,weights))"
   ]
  },
  {
   "cell_type": "markdown",
   "id": "5b079a61",
   "metadata": {},
   "source": [
    "4. Changing the input to 0 to -1"
   ]
  },
  {
   "cell_type": "code",
   "execution_count": 356,
   "id": "4956e8a7",
   "metadata": {},
   "outputs": [],
   "source": [
    "def weightUpdateCombinedIterationForEveryImage(epoch,iteration,inputImage,weight):\n",
    "    \"\"\"\n",
    "    Every epoch , We are doing iterations for every image in \n",
    "    the list\n",
    "    \"\"\"\n",
    "    flattenImage = []\n",
    "    for image_ in inputImage:\n",
    "        image_ = flattenInput(image_)\n",
    "        flattenImage.append(image_)\n",
    "\n",
    "    for epoch_ in range(epoch):\n",
    "        for iteration_ in range(iteration):\n",
    "            for input_ in flattenImage:\n",
    "                    input_ = manipulatingTheArray(input_)\n",
    "                    out = np.dot(input_.T , weight)\n",
    "                    out = thresholding(out)\n",
    "                    weight = weight + np.dot(input_, out)\n",
    "\n",
    "    return weight"
   ]
  },
  {
   "cell_type": "code",
   "execution_count": 357,
   "id": "d3d9e82c",
   "metadata": {},
   "outputs": [],
   "source": [
    "finalWeight = weightUpdateCombinedIterationForEveryImage(1,10,inputImage,weights)"
   ]
  },
  {
   "cell_type": "code",
   "execution_count": 358,
   "id": "fdf13db4",
   "metadata": {},
   "outputs": [
    {
     "name": "stdout",
     "output_type": "stream",
     "text": [
      "[[-1065.84584122 -1067.28548012 -1065.48807701 -1064.72069746]]\n",
      "[[-995.85033885 -997.28029391 -996.31252491 -996.15813609]]\n",
      "[[297.60335239 296.48568605 296.40771615 296.15449463]]\n",
      "[[698.09772176 698.35186377 696.91053491 696.93908779]]\n"
     ]
    }
   ],
   "source": [
    "for item in inputImage:\n",
    "    item = flattenInput(item)\n",
    "    item = manipulatingTheArray(item)\n",
    "    print(np.dot(item.T,finalWeight))"
   ]
  },
  {
   "cell_type": "code",
   "execution_count": 359,
   "id": "6de92c6e",
   "metadata": {},
   "outputs": [
    {
     "data": {
      "text/plain": [
       "array([[  16.82755444,   16.8456071 ,   16.60557598,   16.22609874],\n",
       "       [-199.24706284, -199.90148019, -199.3922832 , -199.2899203 ],\n",
       "       [  16.61220666,   16.83377502,   16.2534754 ,   16.98061023],\n",
       "       [ 200.11883868,  200.79966333,  200.30517174,  200.14091617],\n",
       "       [-199.11871683, -199.76805466, -199.44604556, -199.03853988],\n",
       "       [ 216.58799042,  216.29805243,  216.67625967,  216.08289472],\n",
       "       [ -15.2446571 ,  -15.30124649,  -15.15727451,  -15.14773505],\n",
       "       [-215.77548128, -215.51563641, -215.0805408 , -215.8871457 ],\n",
       "       [  16.80264717,   16.62445747,   16.88599917,   16.22230676]])"
      ]
     },
     "execution_count": 359,
     "metadata": {},
     "output_type": "execute_result"
    }
   ],
   "source": [
    "finalWeight"
   ]
  },
  {
   "cell_type": "code",
   "execution_count": null,
   "id": "25850782",
   "metadata": {},
   "outputs": [],
   "source": []
  },
  {
   "cell_type": "code",
   "execution_count": null,
   "id": "36e6b835",
   "metadata": {},
   "outputs": [],
   "source": []
  }
 ],
 "metadata": {
  "kernelspec": {
   "display_name": "Python 3.10.7 64-bit",
   "language": "python",
   "name": "python3"
  },
  "language_info": {
   "codemirror_mode": {
    "name": "ipython",
    "version": 3
   },
   "file_extension": ".py",
   "mimetype": "text/x-python",
   "name": "python",
   "nbconvert_exporter": "python",
   "pygments_lexer": "ipython3",
   "version": "3.10.7"
  },
  "vscode": {
   "interpreter": {
    "hash": "aee8b7b246df8f9039afb4144a1f6fd8d2ca17a180786b69acc140d282b71a49"
   }
  }
 },
 "nbformat": 4,
 "nbformat_minor": 5
}
