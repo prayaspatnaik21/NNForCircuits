{
 "cells": [
  {
   "cell_type": "code",
   "execution_count": 1,
   "id": "fd18bf5d",
   "metadata": {},
   "outputs": [],
   "source": [
    "import pandas as pd\n",
    "from collections import Counter\n",
    "import numpy as np\n",
    "import matplotlib.pyplot as plt\n",
    "import sklearn\n",
    "import random\n",
    "import statistics"
   ]
  },
  {
   "cell_type": "code",
   "execution_count": 2,
   "id": "6bbafc2d",
   "metadata": {},
   "outputs": [],
   "source": [
    "from tensorflow.keras.datasets import mnist"
   ]
  },
  {
   "cell_type": "code",
   "execution_count": 3,
   "id": "ce468c19",
   "metadata": {},
   "outputs": [],
   "source": [
    "(X_train,Y_train) , (X_test,Y_test) = mnist.load_data()"
   ]
  },
  {
   "cell_type": "code",
   "execution_count": 4,
   "id": "59fc1577",
   "metadata": {},
   "outputs": [
    {
     "name": "stdout",
     "output_type": "stream",
     "text": [
      "MNIST Dataset Shape:\n",
      "X_train: (60000, 28, 28)\n",
      "Y_train: (60000,)\n",
      "X_test:  (10000, 28, 28)\n",
      "Y_test:  (10000,)\n"
     ]
    }
   ],
   "source": [
    "print('MNIST Dataset Shape:')\n",
    "print('X_train: ' + str(X_train.shape))\n",
    "print('Y_train: ' + str(Y_train.shape))\n",
    "print('X_test:  '  + str(X_test.shape))\n",
    "print('Y_test:  '  + str(Y_test.shape))"
   ]
  },
  {
   "cell_type": "code",
   "execution_count": 5,
   "id": "e488007f",
   "metadata": {},
   "outputs": [],
   "source": [
    "sharpen = np.array([\n",
    "    [0, -1, 0],\n",
    "    [-1, 5, -1],\n",
    "    [0, -1, 0]\n",
    "])\n",
    "\n",
    "blur = np.array([\n",
    "    [0.0625, 0.125, 0.0625],\n",
    "    [0.125,  0.25,  0.125],\n",
    "    [0.0625, 0.125, 0.0625]\n",
    "])\n",
    "\n",
    "outline = np.array([\n",
    "    [-1, -1, -1],\n",
    "    [-1,  8, -1],\n",
    "    [-1, -1, -1]\n",
    "])"
   ]
  },
  {
   "cell_type": "code",
   "execution_count": 6,
   "id": "1475fbbb",
   "metadata": {},
   "outputs": [],
   "source": [
    "def calculateOutputSize(imgSize, kernelSize):\n",
    "    return imgSize - kernelSize + 1;"
   ]
  },
  {
   "cell_type": "code",
   "execution_count": 7,
   "id": "4a49a29a",
   "metadata": {},
   "outputs": [],
   "source": [
    "def convolve(img, kernel):\n",
    "    outputSize = calculateOutputSize(img.shape[0],kernel.shape[0])\n",
    "    k = kernel.shape[0]\n",
    "    convolvedImage = np.zeros(shape=(outputSize, outputSize))\n",
    "    for rowIndex in range(outputSize):\n",
    "        for colIndex in range(outputSize):\n",
    "            mat = img[rowIndex:rowIndex+k, colIndex:colIndex+k]\n",
    "            convolvedImage[rowIndex, colIndex] = np.sum(np.multiply(mat, kernel))\n",
    "            \n",
    "    return convolvedImage"
   ]
  },
  {
   "cell_type": "code",
   "execution_count": 8,
   "id": "0ab48880",
   "metadata": {},
   "outputs": [],
   "source": [
    "# X_train_convolve = []\n",
    "\n",
    "# for img in X_train:\n",
    "#     img = convolve(img,blur)\n",
    "#     img = convolve(img,blur)\n",
    "#     img = convolve(img,blur)\n",
    "#     img = convolve(img,blur)\n",
    "#     #img = convolve(img,blur)\n",
    "#     X_train_convolve.append(img)"
   ]
  },
  {
   "cell_type": "code",
   "execution_count": 9,
   "id": "2fd179c4",
   "metadata": {},
   "outputs": [],
   "source": [
    "# X_train_convolve = np.array(X_train_convolve)"
   ]
  },
  {
   "cell_type": "code",
   "execution_count": 10,
   "id": "5dfc2564",
   "metadata": {},
   "outputs": [],
   "source": [
    "# X_test_convolve = []\n",
    "# for img in X_test:\n",
    "#     img = convolve(img,blur)\n",
    "#     img = convolve(img,blur)\n",
    "#     img = convolve(img,blur)\n",
    "#     img = convolve(img,blur)\n",
    "#     #img = convolve(img,blur)\n",
    "#     X_test_convolve.append(img)"
   ]
  },
  {
   "cell_type": "code",
   "execution_count": 11,
   "id": "af0d6992",
   "metadata": {},
   "outputs": [],
   "source": [
    "# X_test_convolve = np.array(X_test_convolve)  "
   ]
  },
  {
   "cell_type": "code",
   "execution_count": 12,
   "id": "863c0ca1",
   "metadata": {},
   "outputs": [],
   "source": [
    "# train_filter = np.where((Y_train == 0 ) | (Y_train == 1) | (Y_train == 2) | (Y_train == 3) | (Y_train == 4))\n",
    "# test_filter = np.where((Y_test == 0) | (Y_test == 1) | (Y_test == 2) | (Y_test == 3) | (Y_test == 4))"
   ]
  },
  {
   "cell_type": "code",
   "execution_count": null,
   "id": "330237c5",
   "metadata": {},
   "outputs": [],
   "source": [
    "class imagePreparation:\n",
    "    def __init__(trainX , trainY , testX , testY):\n",
    "        self.trainX = trainX\n",
    "        self.trainY = trainY\n",
    "        self.testX = testX\n",
    "        self.testY = testy\n",
    "    \n",
    "    def giveData(need):\n",
    "        data = []\n",
    "        trainFilter = np.where()\n",
    "        \n",
    "        "
   ]
  },
  {
   "cell_type": "code",
   "execution_count": 13,
   "id": "d803729c",
   "metadata": {},
   "outputs": [],
   "source": [
    "train_filter = np.where((Y_train == 0 ) | (Y_train == 1) | (Y_train == 2))\n",
    "test_filter = np.where((Y_test == 0) | (Y_test == 1) | (Y_test == 2))"
   ]
  },
  {
   "cell_type": "code",
   "execution_count": 14,
   "id": "8e35058c",
   "metadata": {},
   "outputs": [],
   "source": [
    "X_train_filter, Y_train_filter = X_train[train_filter], Y_train[train_filter]\n",
    "X_test_filter, Y_test_filter = X_test[test_filter], Y_test[test_filter]"
   ]
  },
  {
   "cell_type": "code",
   "execution_count": 15,
   "id": "9508cc4c",
   "metadata": {},
   "outputs": [],
   "source": [
    "train_filter_0 = np.where(Y_train == 0)\n",
    "test_filter_0 = np.where(Y_test == 0)\n",
    "\n",
    "X_train_filter_0 , Y_train_filter_0 = X_train[train_filter_0],Y_train[train_filter_0]\n",
    "X_test_filter_0 , Y_test_filter_0 = X_test[test_filter_0] , Y_test[test_filter_0]"
   ]
  },
  {
   "cell_type": "code",
   "execution_count": 16,
   "id": "3f743fc7",
   "metadata": {},
   "outputs": [],
   "source": [
    "train_filter_1 = np.where(Y_train == 1)\n",
    "test_filter_1 = np.where(Y_test == 1)\n",
    "\n",
    "X_train_filter_1 , Y_train_filter_1 = X_train[train_filter_1],Y_train[train_filter_1]\n",
    "X_test_filter_1 , Y_test_filter_1 = X_test[test_filter_1] , Y_test[test_filter_1]"
   ]
  },
  {
   "cell_type": "code",
   "execution_count": 17,
   "id": "0f785e2d",
   "metadata": {},
   "outputs": [],
   "source": [
    "# train_filter_3 = np.where(Y_train == 3)\n",
    "# test_filter_3 = np.where(Y_test == 3)\n",
    "\n",
    "# X_train_filter_3 , Y_train_filter_3 = X_train[train_filter_3],Y_train[train_filter_3]\n",
    "# X_test_filter_3 , Y_test_filter_3 = X_test[test_filter_3] , Y_test[test_filter_3]"
   ]
  },
  {
   "cell_type": "code",
   "execution_count": 18,
   "id": "0e8fea8d",
   "metadata": {},
   "outputs": [],
   "source": [
    "# train_filter_4 = np.where(Y_train == 4)\n",
    "# test_filter_4 = np.where(Y_test == 4)\n",
    "\n",
    "# X_train_filter_4 , Y_train_filter_4 = X_train[train_filter_4],Y_train[train_filter_4]\n",
    "# X_test_filter_4 , Y_test_filter_4 = X_test[test_filter_4] , Y_test[test_filter_4]"
   ]
  },
  {
   "cell_type": "code",
   "execution_count": 19,
   "id": "274f3549",
   "metadata": {},
   "outputs": [],
   "source": [
    "train_filter_2 = np.where(Y_train == 2)\n",
    "test_filter_2 = np.where(Y_test == 2)\n",
    "\n",
    "X_train_filter_2 , Y_train_filter_2 = X_train[train_filter_2],Y_train[train_filter_2]\n",
    "X_test_filter_2 , Y_test_filter_2 = X_test[test_filter_2] , Y_test[test_filter_2]"
   ]
  },
  {
   "cell_type": "code",
   "execution_count": 20,
   "id": "79d8c7d7",
   "metadata": {},
   "outputs": [],
   "source": [
    "# Normalize the Images"
   ]
  },
  {
   "cell_type": "code",
   "execution_count": 21,
   "id": "ccd77268",
   "metadata": {},
   "outputs": [],
   "source": [
    "X_train_filter = X_train_filter/255.0\n",
    "X_test_filter = X_test_filter/255.0"
   ]
  },
  {
   "cell_type": "code",
   "execution_count": 22,
   "id": "751c74f0",
   "metadata": {},
   "outputs": [],
   "source": [
    "X_train_filter_0 = X_train_filter_0/255.0\n",
    "X_test_filter_0 = X_test_filter_0/255.0"
   ]
  },
  {
   "cell_type": "code",
   "execution_count": 23,
   "id": "7e8d017c",
   "metadata": {},
   "outputs": [],
   "source": [
    "X_train_filter_2 = X_train_filter_2/255.0\n",
    "X_test_filter_2 = X_test_filter_2/255.0"
   ]
  },
  {
   "cell_type": "code",
   "execution_count": 24,
   "id": "cb94f8f4",
   "metadata": {},
   "outputs": [],
   "source": [
    "X_train_filter_1 = X_train_filter_1/255.0\n",
    "X_test_filter_1 = X_test_filter_1/255.0"
   ]
  },
  {
   "cell_type": "code",
   "execution_count": 25,
   "id": "275080af",
   "metadata": {},
   "outputs": [],
   "source": [
    "# X_train_filter_3 = X_train_filter_3/255.0\n",
    "# X_test_filter_3 = X_test_filter_3/255.0"
   ]
  },
  {
   "cell_type": "code",
   "execution_count": 26,
   "id": "8684de11",
   "metadata": {},
   "outputs": [],
   "source": [
    "# X_train_filter_4 = X_train_filter_4/255.0\n",
    "# X_test_filter_4 = X_test_filter_4/255.0"
   ]
  },
  {
   "cell_type": "code",
   "execution_count": 27,
   "id": "69e12e14",
   "metadata": {},
   "outputs": [
    {
     "data": {
      "text/plain": [
       "(28, 28)"
      ]
     },
     "execution_count": 27,
     "metadata": {},
     "output_type": "execute_result"
    }
   ],
   "source": [
    "X_train_filter_0[1].shape"
   ]
  },
  {
   "cell_type": "code",
   "execution_count": 28,
   "id": "2f13bf7d",
   "metadata": {},
   "outputs": [],
   "source": [
    "# Flattening the Input"
   ]
  },
  {
   "cell_type": "code",
   "execution_count": 29,
   "id": "4997f0e2",
   "metadata": {},
   "outputs": [],
   "source": [
    "def flattenInput(mat):\n",
    "        mat = mat.flatten()\n",
    "        mat = mat.reshape(mat.shape[0],1)\n",
    "        return mat"
   ]
  },
  {
   "cell_type": "code",
   "execution_count": 30,
   "id": "de730428",
   "metadata": {},
   "outputs": [],
   "source": [
    "# Weight Initialization(Random,Normalized)"
   ]
  },
  {
   "cell_type": "code",
   "execution_count": 31,
   "id": "9479785f",
   "metadata": {},
   "outputs": [],
   "source": [
    "def weightInitialization(rows , cols, type = \"random\"):\n",
    "    if(type == \"random\"):\n",
    "        initialWeights = np.random.random(size = (rows,cols))\n",
    "    else:\n",
    "        initialWeights = np.random.normal(size = (rows,cols))\n",
    "    initialWeights = initialWeights.reshape(rows,cols)\n",
    "    return initialWeights"
   ]
  },
  {
   "cell_type": "code",
   "execution_count": 32,
   "id": "8d69148d",
   "metadata": {},
   "outputs": [],
   "source": [
    "weights = weightInitialization(784,20,\"normalize\")"
   ]
  },
  {
   "cell_type": "code",
   "execution_count": 33,
   "id": "90967c1f",
   "metadata": {},
   "outputs": [
    {
     "data": {
      "text/plain": [
       "(784, 20)"
      ]
     },
     "execution_count": 33,
     "metadata": {},
     "output_type": "execute_result"
    }
   ],
   "source": [
    "weights.shape"
   ]
  },
  {
   "cell_type": "code",
   "execution_count": 34,
   "id": "58cbdb72",
   "metadata": {},
   "outputs": [],
   "source": [
    "# Manipulating the Array"
   ]
  },
  {
   "cell_type": "code",
   "execution_count": 35,
   "id": "19ea89ab",
   "metadata": {},
   "outputs": [],
   "source": [
    "def manipulatingTheArray(mat):\n",
    "    mat = flattenInput(mat)\n",
    "    \n",
    "    for index in range(mat.shape[0]): \n",
    "        if mat[index] == 0:\n",
    "            mat[index] = -0.002\n",
    "    return mat"
   ]
  },
  {
   "cell_type": "code",
   "execution_count": 36,
   "id": "cdaf3fd2",
   "metadata": {},
   "outputs": [],
   "source": [
    "# Thresholding Weight"
   ]
  },
  {
   "cell_type": "code",
   "execution_count": 37,
   "id": "27c0e5ad",
   "metadata": {},
   "outputs": [],
   "source": [
    "def thresholding(out):\n",
    "    for item in range(out.shape[1]):\n",
    "        if out[0][item] >= 0.8:\n",
    "            out[0][item] = 0.8\n",
    "        elif out[0][item] >= 0.5 and out[0][item] < 0.8:\n",
    "            out[0][item] = 0.5\n",
    "        elif out[0][item] > 0.1 and out[0][item] < 0.5:\n",
    "            out[0][item] = 0.3\n",
    "        else:\n",
    "            out[0][item] = 0.1\n",
    "    return out"
   ]
  },
  {
   "cell_type": "code",
   "execution_count": 38,
   "id": "b88b8e6d",
   "metadata": {},
   "outputs": [],
   "source": [
    "def ActThresholding(out):\n",
    "    for item in range(out.shape[1]):\n",
    "        if out[0][item] >= 0.9:\n",
    "            out[0][item] = 0.9\n",
    "        else:\n",
    "            out[0][item] = -0.9\n",
    "    return out"
   ]
  },
  {
   "cell_type": "code",
   "execution_count": 39,
   "id": "1245b278",
   "metadata": {},
   "outputs": [],
   "source": [
    "# Threshold Check"
   ]
  },
  {
   "cell_type": "code",
   "execution_count": 40,
   "id": "22121add",
   "metadata": {},
   "outputs": [],
   "source": [
    "def crossThreshold(out,neuronThreshold):\n",
    "    flag = 0\n",
    "    for item in range(out.shape[1]):\n",
    "        if out[0][item] > neuronThreshold[0][item]:\n",
    "            neuronThreshold[0][item] += 0.2\n",
    "            flag = 1\n",
    "    \n",
    "    if flag == 1:\n",
    "        return True\n",
    "    return False"
   ]
  },
  {
   "cell_type": "code",
   "execution_count": 41,
   "id": "630a7eb0",
   "metadata": {},
   "outputs": [],
   "source": [
    "def crossThresholdUpdate(afterActivation,neuronThreshold):\n",
    "    flag = 0\n",
    "    for item in range(afterActivation.shape[1]):\n",
    "        if afterActivation[0][item] > 0.8:\n",
    "            neuronThreshold[0][item] += 0.002\n",
    "            afterActivation[0][item] = 0\n",
    "        else:\n",
    "            afterActivation[0][item] = afterActivation[0][item] - 0.001\n",
    "            #neuronThreshold[0][item] -= 0.001\n",
    "            \n",
    "    return afterActivation,neuronThreshold"
   ]
  },
  {
   "cell_type": "code",
   "execution_count": 42,
   "id": "1efb59e7",
   "metadata": {},
   "outputs": [],
   "source": [
    "# Weight Threshold (Future Reference)"
   ]
  },
  {
   "cell_type": "code",
   "execution_count": 43,
   "id": "89147142",
   "metadata": {},
   "outputs": [],
   "source": [
    "def weightThreshold(weight):\n",
    "    for indexi in range(weight.shape[0]):\n",
    "        for indexj in range(weight.shape[1]):\n",
    "            if weight[indexi][indexj] >= 1:\n",
    "                weight[indexi][indexj] = 1\n",
    "    return weight"
   ]
  },
  {
   "cell_type": "code",
   "execution_count": 44,
   "id": "bbd81d06",
   "metadata": {},
   "outputs": [],
   "source": [
    "# Calculate Accuracy"
   ]
  },
  {
   "cell_type": "code",
   "execution_count": 45,
   "id": "7345c994",
   "metadata": {},
   "outputs": [],
   "source": [
    "def accuracy(data,finalWeight):\n",
    "    predict_0 = []\n",
    "    predict_7 = []\n",
    "    for item in data:\n",
    "        item = flattenInput(item)\n",
    "        res = np.dot(item.T,finalWeight)\n",
    "        res = np.median(res)\n",
    "        if res >= 55 and res <= 85:\n",
    "            predict_0.append(1)\n",
    "        elif res >=30 and res <55:\n",
    "            predict_7.append(1)\n",
    "    return len(predict_0), len(predict_7)"
   ]
  },
  {
   "cell_type": "code",
   "execution_count": 46,
   "id": "95827b4e",
   "metadata": {},
   "outputs": [],
   "source": [
    "# Print Results"
   ]
  },
  {
   "cell_type": "code",
   "execution_count": 47,
   "id": "2af6654c",
   "metadata": {},
   "outputs": [],
   "source": [
    "def printResults(inputImage,finalWeight):\n",
    "    result = []\n",
    "    for item in inputImage:\n",
    "        item = flattenInput(item)\n",
    "        #item = manipulatingTheArray(item)\n",
    "        result.append(np.dot(item.T,finalWeight))\n",
    "    return result"
   ]
  },
  {
   "cell_type": "code",
   "execution_count": 48,
   "id": "d60c4464",
   "metadata": {},
   "outputs": [],
   "source": [
    "def printResultsBlock(inputImage,weight):\n",
    "    result = []\n",
    "    resultSum = []\n",
    "    for item in inputImage:\n",
    "        item = flattenInput(item)\n",
    "        #item = manipulatingTheArray(item)\n",
    "        \n",
    "        startIndex = 0\n",
    "        blockSize = 7\n",
    "        pval = 0\n",
    "        resultRow = []\n",
    "        sum_ = 0\n",
    "        while(startIndex < 784):\n",
    "            image_ = item[startIndex:startIndex + blockSize]\n",
    "            weight_ = weight[startIndex : startIndex + blockSize]\n",
    "                \n",
    "            resultDotProduct = np.dot(image_.T,weight_)\n",
    "            sum_ = sum_ + resultDotProduct\n",
    "            resultRow.append(resultDotProduct)\n",
    "            startIndex += blockSize\n",
    "            \n",
    "        result.append(resultRow)\n",
    "        resultSum.append(sum_)\n",
    "    return result , resultSum\n",
    "\n"
   ]
  },
  {
   "cell_type": "code",
   "execution_count": 49,
   "id": "5072fbe0",
   "metadata": {},
   "outputs": [],
   "source": [
    "def printResultsBlockIncludingAnotherLayer(inputImage,weight1,weight2):\n",
    "    result = []\n",
    "    resultSum = []\n",
    "    for item in inputImage:\n",
    "        item = flattenInput(item)\n",
    "        #item = manipulatingTheArray(item)\n",
    "        \n",
    "        startIndex = 0\n",
    "        blockSize = 28\n",
    "        pval = 0\n",
    "        resultRow = []\n",
    "        sum_ = 0\n",
    "        while(startIndex < 784):\n",
    "            image_ = item[startIndex:startIndex + blockSize]\n",
    "            weight_ = weight1[startIndex : startIndex + blockSize]\n",
    "                \n",
    "            resultDotProduct = np.dot(image_.T,weight_)\n",
    "            sum_ = sum_ + resultDotProduct\n",
    "            resultRow.append(resultDotProduct)\n",
    "            startIndex += blockSize\n",
    "            \n",
    "        #result.append(resultRow)\n",
    "        \n",
    "        resultRow = np.array(resultRow)\n",
    "        ans = np.dot(resultRow.T,weight2)\n",
    "        result.append(ans)\n",
    "        \n",
    "    return result , resultRow\n"
   ]
  },
  {
   "cell_type": "code",
   "execution_count": 50,
   "id": "0fcb28d1",
   "metadata": {},
   "outputs": [],
   "source": [
    "def printResults2(inputImage,weight1,weight2):\n",
    "    result = []\n",
    "    for item in inputImage:\n",
    "        item = flattenInput(item)\n",
    "        out = np.dot(item.T,weight1)\n",
    "        out = np.dot(out,weight2)\n",
    "        result.append(out)\n",
    "    return result"
   ]
  },
  {
   "cell_type": "code",
   "execution_count": 51,
   "id": "a81e9477",
   "metadata": {},
   "outputs": [],
   "source": [
    "testFlatten = []\n",
    "\n",
    "for image_ in X_test:\n",
    "        image_ = flattenInput(image_)\n",
    "        testFlatten.append(image_)"
   ]
  },
  {
   "cell_type": "code",
   "execution_count": 52,
   "id": "2b236780",
   "metadata": {},
   "outputs": [],
   "source": [
    "def convertToBinary(activation,neuronThreshold):\n",
    "    for index in range(activation[0].shape[0]):\n",
    "        \n",
    "        if activation[0][index] > neuronThreshold[0][index]:\n",
    "            activation[0][index] = 0.9\n",
    "        else:\n",
    "            \n",
    "            activation[0][index] = 0.001\n",
    "            \n",
    "    return activation"
   ]
  },
  {
   "cell_type": "code",
   "execution_count": 53,
   "id": "dacc4fad",
   "metadata": {},
   "outputs": [],
   "source": [
    "def binaryConversion(image):\n",
    "    \n",
    "    for index in range(image.shape[0]):\n",
    "        if image[index] != 0:\n",
    "            image[index] = 1\n",
    "    \n",
    "    return image"
   ]
  },
  {
   "cell_type": "code",
   "execution_count": 54,
   "id": "215214de",
   "metadata": {},
   "outputs": [
    {
     "data": {
      "text/plain": [
       "(784, 1)"
      ]
     },
     "execution_count": 54,
     "metadata": {},
     "output_type": "execute_result"
    }
   ],
   "source": [
    "testFlatten[0].shape"
   ]
  },
  {
   "cell_type": "code",
   "execution_count": 55,
   "id": "220668b7",
   "metadata": {},
   "outputs": [],
   "source": [
    "x = np.full((4),1)"
   ]
  },
  {
   "cell_type": "code",
   "execution_count": 56,
   "id": "66f95d79",
   "metadata": {},
   "outputs": [
    {
     "data": {
      "text/plain": [
       "array([1, 1, 1, 1])"
      ]
     },
     "execution_count": 56,
     "metadata": {},
     "output_type": "execute_result"
    }
   ],
   "source": [
    "x"
   ]
  },
  {
   "cell_type": "code",
   "execution_count": 57,
   "id": "29b7d06c",
   "metadata": {},
   "outputs": [],
   "source": [
    "# Weight Update"
   ]
  },
  {
   "cell_type": "code",
   "execution_count": 58,
   "id": "a6ae7646",
   "metadata": {},
   "outputs": [],
   "source": [
    "def weightUpdateContainingMemoryElement(epoch,iteration,inputImage,weight):\n",
    "    \"\"\"\n",
    "    Every epoch , We are doing iterations for every image in \n",
    "    the list\n",
    "    \"\"\"\n",
    "    flattenImage = []\n",
    "    for image_ in inputImage:\n",
    "        image_ = flattenInput(image_)\n",
    "        flattenImage.append(image_)\n",
    "    out = np.array(0)\n",
    "    alpha =1e-5 #4 \n",
    "    beta = 1e-7 #5\n",
    "     # alpha , beta = 1e-3 , 1e-2 \n",
    "    # alpha ,beta = 1e-1,1e-2 best values\n",
    "    \n",
    "    thresholdNeurons = np.full((1,20),0.02)\n",
    "    for epoch_ in range(epoch):\n",
    "            random.shuffle(flattenImage)\n",
    "            for input_ in flattenImage:\n",
    "                    out = alpha * np.dot(input_.T , weight) + out \n",
    "                    #out = ActThresholding(out)\n",
    "                    inputM = manipulatingTheArray(input_)\n",
    "                    weight = weight + beta * np.dot(input_,out)\n",
    "                    weight = weightThreshold(weight)\n",
    "                    if(crossThreshold(out,thresholdNeurons)):\n",
    "                       out = 0.0\n",
    "                    else:\n",
    "                       out = out - beta * 0.01\n",
    "            \n",
    "            print(f\"Epoch number {epoch_} finishes\")\n",
    "    return weight"
   ]
  },
  {
   "cell_type": "code",
   "execution_count": 70,
   "id": "97effd6f",
   "metadata": {},
   "outputs": [],
   "source": [
    "def normalize(arr, t_min, t_max):\n",
    "    norm_arr = []\n",
    "    diff = t_max - t_min\n",
    "    diff_arr = max(arr) - min(arr)   \n",
    "    for i in arr:\n",
    "        temp = (((i - min(arr))*diff)/diff_arr) + t_min\n",
    "        norm_arr.append(temp)\n",
    "    return norm_arr"
   ]
  },
  {
   "cell_type": "code",
   "execution_count": 59,
   "id": "e6a1f1bf",
   "metadata": {},
   "outputs": [],
   "source": [
    "def weightUpdateThresholding(epoch,inputImage,weight):\n",
    "    \"\"\"\n",
    "    Every epoch , We are doing iterations for every image in \n",
    "    the list\n",
    "    \"\"\"\n",
    "    flattenImage = []\n",
    "    for image_ in inputImage:\n",
    "        image_ = flattenInput(image_)\n",
    "        image_ = binaryConversion(image_)\n",
    "        flattenImage.append(image_)\n",
    "    activation = np.array(0)\n",
    "    alpha =1e-5 #4 \n",
    "    beta = 1e-7 #5\n",
    "    \n",
    "    \n",
    "    \n",
    "    thresholdNeurons = np.full((1,200),0.02)\n",
    "    for epoch_ in range(epoch):\n",
    "            random.shuffle(flattenImage)\n",
    "            for input_ in flattenImage:\n",
    "                    activation = alpha * np.dot(input_.T , weight) + activation\n",
    "                    #out = ActThresholding(out)\n",
    "                    afterActivation = convertToBinary(activation,thresholdNeurons)\n",
    "                    #weight = weight + beta * np.dot(input_,afterActivation)\n",
    "                    \n",
    "                    \n",
    "                    \n",
    "                    afterActivation , thresholdNeuron = crossThresholdUpdate(afterActivation,thresholdNeurons)\n",
    "                    weight = weight + beta * np.dot(input_,afterActivation)\n",
    "                    activation = afterActivation\n",
    "            \n",
    "            print(f\"Epoch number {epoch_} finishes\")\n",
    "    return weight"
   ]
  },
  {
   "cell_type": "code",
   "execution_count": 60,
   "id": "106d77ee",
   "metadata": {},
   "outputs": [],
   "source": [
    "def weightUpdateThresholding(epoch,inputImage,weight):\n",
    "    \"\"\"\n",
    "    Every epoch , We are doing iterations for every image in \n",
    "    the list\n",
    "    \"\"\"\n",
    "    flattenImage = []\n",
    "    for image_ in inputImage:\n",
    "        image_ = flattenInput(image_)\n",
    "        image_ = binaryConversion(image_)\n",
    "        flattenImage.append(image_)\n",
    "    activation = np.array(0)\n",
    "    alpha =1e-5 #4 \n",
    "    beta = 1e-7 #5\n",
    "    \n",
    "    \n",
    "    \n",
    "    thresholdNeurons = np.full((1,201),0.02)\n",
    "    for epoch_ in range(epoch):\n",
    "            random.shuffle(flattenImage)\n",
    "            for input_ in flattenImage:\n",
    "                    activation = alpha * np.dot(input_.T , weight) + activation\n",
    "                    #out = ActThresholding(out)\n",
    "                    afterActivation = convertToBinary(activation,thresholdNeurons)\n",
    "                    #weight = weight + beta * np.dot(input_,afterActivation\n",
    "                    \n",
    "                    afterActivation , thresholdNeuron = crossThresholdUpdate(afterActivation,thresholdNeurons)\n",
    "                    weight = weight + beta * np.dot(input_,afterActivation)\n",
    "                    activation = afterActivation\n",
    "            \n",
    "            print(f\"Epoch number {epoch_} finishes\")\n",
    "    return weight"
   ]
  },
  {
   "cell_type": "code",
   "execution_count": 61,
   "id": "6591498f",
   "metadata": {},
   "outputs": [],
   "source": [
    "def multipleBlocks(epoch, inputImage, weight):\n",
    "    flattenImage = []\n",
    "    check  = []\n",
    "    for image_ in inputImage:\n",
    "        image_ = flattenInput(image_)\n",
    "        flattenImage.append(image_)\n",
    "    #creating block of images\n",
    "    #print(flattenImage[0])\n",
    "    \n",
    "    index = 0\n",
    "    blockSize = 28\n",
    "    \n",
    "    alpha = 0.1\n",
    "    for epoch_ in range(epoch):\n",
    "        random.shuffle(flattenImage)\n",
    "        for input_ in flattenImage:\n",
    "            \n",
    "            startIndex = 0\n",
    "            errorFromThePreviousLevel = 0\n",
    "            prevVal = 0\n",
    "            val = 0\n",
    "            pVal = 0\n",
    "            while(startIndex < 784):\n",
    "                image_ = input_[startIndex:startIndex + blockSize]\n",
    "                weight_ = weight[startIndex : startIndex + blockSize]\n",
    "                \n",
    "                dotProduct =  np.dot(image_.T,weight_)\n",
    "                \n",
    "                if dotProduct  >= 5 and dotProduct < 1000:\n",
    "                    for index in range(weight_.shape[0]):\n",
    "                        check.append(\"increase\")\n",
    "                        if weight_[index] < 200:\n",
    "                            weight_[index] = weight_[index] + alpha * dotProduct\n",
    "                elif dotProduct < 2:\n",
    "                     for index in range(weight_.shape[0]):\n",
    "                        check.append(\"decrease\")\n",
    "                        if weight_[index] > -200:\n",
    "                            weight_[index] = weight_[index] - alpha * dotProduct\n",
    "                startIndex += blockSize\n",
    "        \n",
    "        print(f\"Epoch : {epoch_} Completed\")\n",
    "    \n",
    "    return weight , check\n"
   ]
  },
  {
   "cell_type": "code",
   "execution_count": 62,
   "id": "f8d9e8f3",
   "metadata": {},
   "outputs": [],
   "source": [
    "def multipleBlocksWithMemoryElement(epoch, inputImage, weight1 , weight2):\n",
    "    flattenImage = []\n",
    "    check  = []\n",
    "    for image_ in inputImage:\n",
    "        image_ = flattenInput(image_)\n",
    "        flattenImage.append(image_)\n",
    "\n",
    "    \n",
    "    index = 0\n",
    "    blockSize = 28\n",
    "    blockIndex = 0\n",
    "    output = np.full((28,1),0)\n",
    "    output2Layer = np.full((3,1),0)\n",
    "    alpha = 0.1\n",
    "    for epoch_ in range(epoch):\n",
    "        random.shuffle(flattenImage)\n",
    "        output.fill(0)\n",
    "        output2Layer.fill(0)\n",
    "        for input_ in flattenImage:\n",
    "            \n",
    "            startIndex = 0\n",
    "            blockIndex = 0\n",
    "            while(startIndex < 784):\n",
    "                image_ = input_[startIndex:startIndex + blockSize]\n",
    "                weight_ = weight1[startIndex : startIndex + blockSize]\n",
    "                dotProduct =  np.dot(image_.T,weight_)\n",
    "                output[blockIndex] = output[blockIndex] + dotProduct\n",
    "                \n",
    "                if dotProduct  >= 5 and dotProduct < 200:\n",
    "                    for index in range(weight_.shape[0]):\n",
    "                        if weight_[index] < 50 and weight_[index] > 0:\n",
    "                            weight_[index] = weight_[index] + alpha * output[blockIndex]\n",
    "                elif dotProduct < 5:\n",
    "                     for index in range(weight_.shape[0]):\n",
    "                        if weight_[index] > -50 and weight_[index] < 3:\n",
    "                            weight_[index] = weight_[index] - alpha * output[blockIndex]\n",
    "                startIndex += blockSize\n",
    "                \n",
    "                if(output[blockIndex] > 100):\n",
    "                    output[blockIndex] = 0\n",
    "                else:\n",
    "                    output[blockIndex] = output[blockIndex] -  alpha * 0.9\n",
    "                blockIndex += 1\n",
    "            #print(output)\n",
    "            output2nLayer = np.dot(output.T,weight2)\n",
    "            output2Layer[0] = output2Layer[0] + output2nLayer[0][0]\n",
    "            output2Layer[1] = output2Layer[1] + output2nLayer[0][1]\n",
    "            output2Layer[2] = output2Layer[2] + output2nLayer[0][2]\n",
    "            \n",
    "            for index in range(3):\n",
    "                if(output2Layer[index] > 200):\n",
    "                    output2Layer[index] = 0\n",
    "                else:\n",
    "                    output2Layer[index] = output2Layer[index] -  alpha * 20\n",
    "            #print(output2nLayer.shape)\n",
    "            #print(output2nLayer)\n",
    "            for outputNeuronIndex in range(output2nLayer.shape[1]):\n",
    "                 #print(output2nLayer[0][outputNeuronIndex])\n",
    "                if output2Layer[outputNeuronIndex] > 20:\n",
    "                    for index in range(weight2.shape[0]):\n",
    "                        #print(weight2[index][outputNeuronIndex])\n",
    "                        if weight2[index][outputNeuronIndex] < 100 and output[index] > 30:\n",
    "                            weight2[index][outputNeuronIndex] = weight2[index][outputNeuronIndex] + alpha * output2Layer[outputNeuronIndex] + alpha * output[index]\n",
    "                            #weight2[index][outputNeuronIndex] = weight2[index][outputNeuronIndex] + alpha * output[]\n",
    "                            #print(weight2[index][outputNeuronIndex]\n",
    "                            \n",
    "                else:\n",
    "                    for index in range(weight2.shape[0]):\n",
    "                        #print(weight2[index][outputNeuronIndex])\n",
    "                        if weight2[index][outputNeuronIndex] > -100 and weight2[index][outputNeuronIndex] < 0:\n",
    "                            weight2[index][outputNeuronIndex] = weight2[index][outputNeuronIndex] - alpha * output2Layer[outputNeuronIndex] - alpha * output[index]\n",
    "                \n",
    "                        \n",
    "    #print(f\"Epoch : {epoch_} Completed\")\n",
    "    return weight1 , weight2 , check , output\n"
   ]
  },
  {
   "cell_type": "code",
   "execution_count": 419,
   "id": "a7b9a010",
   "metadata": {},
   "outputs": [],
   "source": [
    "def hidden(epoch, inputImage, weight1 , weight2):\n",
    "    flattenImage = []\n",
    "    check  = []\n",
    "    for image_ in inputImage:\n",
    "        image_ = flattenInput(image_)\n",
    "        flattenImage.append(image_)\n",
    "\n",
    "    \n",
    "    index = 0\n",
    "    blockSize = 28\n",
    "    blockIndex = 0\n",
    "    output = np.full((28,1),0)\n",
    "    output2Layer = np.full((3,1),0)\n",
    "    alpha = 0.1\n",
    "    for epoch_ in range(epoch):\n",
    "        random.shuffle(flattenImage)\n",
    "        output.fill(0)\n",
    "        output2Layer.fill(0)\n",
    "        for input_ in flattenImage:\n",
    "            \n",
    "            startIndex = 0\n",
    "            blockIndex = 0\n",
    "            while(startIndex < 784):\n",
    "                image_ = input_[startIndex:startIndex + blockSize]\n",
    "                weight_ = weight1[startIndex : startIndex + blockSize]\n",
    "                dotProduct =  np.dot(image_.T,weight_)\n",
    "                output[blockIndex] = output[blockIndex] + dotProduct\n",
    "                \n",
    "                if dotProduct  >= 5 and dotProduct < 200:\n",
    "                    for index in range(weight_.shape[0]):\n",
    "                        if weight_[index] < 50 and weight_[index] > 0:\n",
    "                            weight_[index] = weight_[index] + alpha * output[blockIndex]\n",
    "                elif dotProduct < 5:\n",
    "                     for index in range(weight_.shape[0]):\n",
    "                        if weight_[index] > -50 and weight_[index] < 3:\n",
    "                            weight_[index] = weight_[index] - alpha * output[blockIndex]\n",
    "                startIndex += blockSize\n",
    "                \n",
    "                if(output[blockIndex] > 100):\n",
    "                    output[blockIndex] = 0\n",
    "                else:\n",
    "                    output[blockIndex] = output[blockIndex] -  alpha * 0.9\n",
    "                blockIndex += 1\n",
    "            #print(output)\n",
    "            output = np.array(normalize(output,0,1))\n",
    "            \n",
    "            output2nLayer = np.dot(output.T,weight2)\n",
    "            output2Layer[0] = output2Layer[0] + output2nLayer[0][0]\n",
    "            output2Layer[1] = output2Layer[1] + output2nLayer[0][1]\n",
    "            output2Layer[2] = output2Layer[2] + output2nLayer[0][2]\n",
    "            \n",
    "            output2Layer = np.array(normalize(output2Layer,0,1))\n",
    "            \n",
    "            for index in range(3):\n",
    "                if(output2Layer[index] > 200):\n",
    "                    output2Layer[index] = 0\n",
    "                else:\n",
    "                    output2Layer[index] = output2Layer[index] -  alpha * 0.9\n",
    "            #print(output2nLayer.shape)\n",
    "            #print(output2nLayer)\n",
    "            for outputNeuronIndex in range(output2nLayer.shape[1]):\n",
    "                 #print(output2nLayer[0][outputNeuronIndex])\n",
    "                if output2Layer[outputNeuronIndex] > 20:\n",
    "                    for index in range(weight2.shape[0]):\n",
    "                        #print(weight2[index][outputNeuronIndex])\n",
    "                        if weight2[index][outputNeuronIndex] < 10:\n",
    "                            weight2[index][outputNeuronIndex] = weight2[index][outputNeuronIndex] + alpha * output2Layer[outputNeuronIndex] + alpha * output[index]\n",
    "                            #weight2[index][outputNeuronIndex] = weight2[index][outputNeuronIndex] + alpha * output[]\n",
    "                            #print(weight2[index][outputNeuronIndex]\n",
    "                else:\n",
    "                    for index in range(weight2.shape[0]):\n",
    "                        #print(weight2[index][outputNeuronIndex])\n",
    "                        if weight2[index][outputNeuronIndex] > -10 and weight2[index][outputNeuronIndex] < 0 :\n",
    "                            weight2[index][outputNeuronIndex] = weight2[index][outputNeuronIndex] - alpha * output2Layer[outputNeuronIndex] - alpha * output[index]\n",
    "                \n",
    "                        \n",
    "    #print(f\"Epoch : {epoch_} Completed\")\n",
    "    return weight1 , weight2 , check , output\n"
   ]
  },
  {
   "cell_type": "code",
   "execution_count": 420,
   "id": "fcae9aed",
   "metadata": {},
   "outputs": [],
   "source": [
    "# 0.9 is working well\n",
    "# 1.5"
   ]
  },
  {
   "cell_type": "code",
   "execution_count": 421,
   "id": "59cad9bc",
   "metadata": {},
   "outputs": [],
   "source": [
    "weight1 = weightInitialization(784,1)\n",
    "weight2 = weightInitialization(28,3)"
   ]
  },
  {
   "cell_type": "code",
   "execution_count": 422,
   "id": "4752723c",
   "metadata": {
    "scrolled": true
   },
   "outputs": [
    {
     "data": {
      "text/plain": [
       "[<matplotlib.lines.Line2D at 0x2c21883d0>]"
      ]
     },
     "execution_count": 422,
     "metadata": {},
     "output_type": "execute_result"
    },
    {
     "data": {
      "image/png": "[encoded data removed]",
      "text/plain": [
       "<Figure size 640x480 with 1 Axes>"
      ]
     },
     "metadata": {},
     "output_type": "display_data"
    }
   ],
   "source": [
    "plt.plot(weight1)"
   ]
  },
  {
   "cell_type": "code",
   "execution_count": 423,
   "id": "47c10525",
   "metadata": {},
   "outputs": [
    {
     "name": "stdout",
     "output_type": "stream",
     "text": [
      "[0.41660496]\n"
     ]
    }
   ],
   "source": [
    "print(weight1[456])\n",
    "weight1 ,weight2, check , output= hidden(1,X_train_filter,weight1,weight2)"
   ]
  },
  {
   "cell_type": "code",
   "execution_count": 424,
   "id": "4a830151",
   "metadata": {},
   "outputs": [
    {
     "data": {
      "text/plain": [
       "array([[-5.00411369e+01],\n",
       "       [-5.00521062e+01],\n",
       "       [-5.00842895e+01],\n",
       "       [-5.00631605e+01],\n",
       "       [-5.00161255e+01],\n",
       "       [-5.00303631e+01],\n",
       "       [-5.00478175e+01],\n",
       "       [-5.00897469e+01],\n",
       "       [-5.00827471e+01],\n",
       "       [-5.00636287e+01],\n",
       "       [-5.00862761e+01],\n",
       "       [-5.00685609e+01],\n",
       "       [-5.00546555e+01],\n",
       "       [-5.00292624e+01],\n",
       "       [-5.00690493e+01],\n",
       "       [-5.00017435e+01],\n",
       "       [-5.00423371e+01],\n",
       "       [-5.00043147e+01],\n",
       "       [-5.00694122e+01],\n",
       "       [-5.00383075e+01],\n",
       "       [-5.00329969e+01],\n",
       "       [-5.00240511e+01],\n",
       "       [-5.00278899e+01],\n",
       "       [-5.00120890e+01],\n",
       "       [-5.00539261e+01],\n",
       "       [-5.00611930e+01],\n",
       "       [-5.00344546e+01],\n",
       "       [-5.00180908e+01],\n",
       "       [-5.00218731e+01],\n",
       "       [-5.00389962e+01],\n",
       "       [-5.00616814e+01],\n",
       "       [-5.00109593e+01],\n",
       "       [-5.00548697e+01],\n",
       "       [-5.00514979e+01],\n",
       "       [-5.00399802e+01],\n",
       "       [-5.00209190e+01],\n",
       "       [-5.00794514e+01],\n",
       "       [-5.00063927e+01],\n",
       "       [-5.00148960e+01],\n",
       "       [-5.00748840e+01],\n",
       "       [-5.00813282e+01],\n",
       "       [-5.00039473e+01],\n",
       "       [-5.00802427e+01],\n",
       "       [-5.00901112e+01],\n",
       "       [-5.00318499e+01],\n",
       "       [-5.00899063e+01],\n",
       "       [-5.00694879e+01],\n",
       "       [-5.00859788e+01],\n",
       "       [-5.00432445e+01],\n",
       "       [-5.00554035e+01],\n",
       "       [-5.00320358e+01],\n",
       "       [-5.00323309e+01],\n",
       "       [-5.00252235e+01],\n",
       "       [-5.00776453e+01],\n",
       "       [-5.00492295e+01],\n",
       "       [-5.00840579e+01],\n",
       "       [-3.89144221e+01],\n",
       "       [-3.89413772e+01],\n",
       "       [-3.83747832e+01],\n",
       "       [-3.82689530e+01],\n",
       "       [-3.80677017e+01],\n",
       "       [-3.84587720e+01],\n",
       "       [-3.86688047e+01],\n",
       "       [-3.87986390e+01],\n",
       "       [-3.89463749e+01],\n",
       "       [-3.86084353e+01],\n",
       "       [-3.84613551e+01],\n",
       "       [-3.83454475e+01],\n",
       "       [-3.81231310e+01],\n",
       "       [-3.83849558e+01],\n",
       "       [-3.89640258e+01],\n",
       "       [-3.82162309e+01],\n",
       "       [-3.82072325e+01],\n",
       "       [-3.83256616e+01],\n",
       "       [-3.85892712e+01],\n",
       "       [-3.88058804e+01],\n",
       "       [-3.89530422e+01],\n",
       "       [-3.83745614e+01],\n",
       "       [-3.88284947e+01],\n",
       "       [-3.88817580e+01],\n",
       "       [-3.85460647e+01],\n",
       "       [-3.81255024e+01],\n",
       "       [-3.81586485e+01],\n",
       "       [-3.88717541e+01],\n",
       "       [-4.98903345e-01],\n",
       "       [-5.82391208e-01],\n",
       "       [-1.97478329e-01],\n",
       "       [-2.04162542e-01],\n",
       "       [-3.08781122e-01],\n",
       "       [-5.03659104e-01],\n",
       "       [-6.82928747e-02],\n",
       "       [-6.08012776e-01],\n",
       "       [-7.05987845e-01],\n",
       "       [-4.77185905e-01],\n",
       "       [-3.71878270e-01],\n",
       "       [-6.93236773e-01],\n",
       "       [-2.07793841e-01],\n",
       "       [-5.04916040e-01],\n",
       "       [ 2.52720918e-02],\n",
       "       [-4.83907390e-01],\n",
       "       [-7.71089791e-01],\n",
       "       [-3.25747701e-01],\n",
       "       [-1.97207927e-01],\n",
       "       [-3.76675872e-01],\n",
       "       [-1.72102611e-01],\n",
       "       [-7.13628937e-01],\n",
       "       [-4.88758161e-01],\n",
       "       [-8.19061177e-01],\n",
       "       [-8.02683866e-01],\n",
       "       [-2.49605351e-01],\n",
       "       [ 9.87467229e-03],\n",
       "       [-1.65392520e-01],\n",
       "       [-8.70361074e-01],\n",
       "       [-2.36946206e-01],\n",
       "       [-2.56541241e-01],\n",
       "       [-6.72617466e-02],\n",
       "       [ 9.29817107e-02],\n",
       "       [-2.71392237e-01],\n",
       "       [-1.52495346e-01],\n",
       "       [-8.23931602e-02],\n",
       "       [-8.35731557e-01],\n",
       "       [-7.47936272e-01],\n",
       "       [ 1.19481449e-01],\n",
       "       [-8.53602133e-01],\n",
       "       [-1.84183260e-01],\n",
       "       [ 1.03371889e-01],\n",
       "       [ 3.60049922e-02],\n",
       "       [-5.02978066e-01],\n",
       "       [-3.08070195e-01],\n",
       "       [ 1.07203883e-01],\n",
       "       [-3.24884168e-01],\n",
       "       [-7.47021989e-01],\n",
       "       [-5.37118853e-01],\n",
       "       [-7.97600869e-01],\n",
       "       [ 3.71005033e-02],\n",
       "       [-2.19251159e-01],\n",
       "       [-6.60367359e-01],\n",
       "       [-8.03258860e-01],\n",
       "       [ 5.42140649e-02],\n",
       "       [-4.41276804e-01],\n",
       "       [ 1.17003623e-01],\n",
       "       [-3.65892595e-01],\n",
       "       [ 9.57497886e-02],\n",
       "       [ 8.00648601e-02],\n",
       "       [-6.61261186e-01],\n",
       "       [-1.27867957e-01],\n",
       "       [-1.89003197e-01],\n",
       "       [ 2.68183706e-01],\n",
       "       [-6.65647581e-01],\n",
       "       [-6.02755615e-01],\n",
       "       [-1.98530632e-01],\n",
       "       [-4.68653834e-01],\n",
       "       [ 1.70128282e-01],\n",
       "       [ 2.59263059e-01],\n",
       "       [-3.91990516e-01],\n",
       "       [ 2.14898664e-01],\n",
       "       [-6.10570380e-01],\n",
       "       [-5.25838922e-01],\n",
       "       [ 2.90071987e-01],\n",
       "       [ 3.22617469e-01],\n",
       "       [ 1.53239730e-01],\n",
       "       [ 6.16694081e-03],\n",
       "       [ 1.72198939e-01],\n",
       "       [ 2.53040923e-01],\n",
       "       [ 3.20000327e-01],\n",
       "       [ 1.34912625e-02],\n",
       "       [ 3.22027669e-01],\n",
       "       [ 1.23789952e-01],\n",
       "       [ 6.57120069e-02],\n",
       "       [ 3.65252487e-01],\n",
       "       [ 8.82625329e-02],\n",
       "       [-1.31446175e-01],\n",
       "       [ 1.85882387e-01],\n",
       "       [-3.19285582e-01],\n",
       "       [ 1.18279622e-01],\n",
       "       [-3.29892940e-02],\n",
       "       [ 1.04705387e-01],\n",
       "       [-2.70631797e-01],\n",
       "       [-3.62012372e-01],\n",
       "       [ 3.29982621e-01],\n",
       "       [-1.16259877e-01],\n",
       "       [ 2.42424849e-01],\n",
       "       [ 1.14825897e-01],\n",
       "       [-3.40671236e-01],\n",
       "       [ 2.25609738e-01],\n",
       "       [-3.98818181e-01],\n",
       "       [-3.32358552e-01],\n",
       "       [-1.48934397e-01],\n",
       "       [ 3.35570316e-01],\n",
       "       [ 9.78705111e-02],\n",
       "       [-1.16325440e-01],\n",
       "       [ 9.83074369e-02],\n",
       "       [-1.57418766e-01],\n",
       "       [ 3.19379481e-01],\n",
       "       [ 3.00712777e-01],\n",
       "       [ 4.65937134e-03],\n",
       "       [ 5.19022569e-02],\n",
       "       [-3.95518226e-01],\n",
       "       [-6.22633689e-01],\n",
       "       [-5.57109958e-01],\n",
       "       [-3.98412679e-01],\n",
       "       [ 3.02173971e-01],\n",
       "       [-9.31924421e-03],\n",
       "       [ 6.66509528e-02],\n",
       "       [-2.56704098e-01],\n",
       "       [ 3.08086713e-01],\n",
       "       [-5.12504362e-01],\n",
       "       [-2.58067012e-01],\n",
       "       [ 2.04300314e-01],\n",
       "       [-3.16730241e-02],\n",
       "       [-2.35817015e-03],\n",
       "       [-3.43981810e-01],\n",
       "       [ 5.45588502e-03],\n",
       "       [-5.60546456e-02],\n",
       "       [ 3.48206403e-01],\n",
       "       [-3.54057750e-01],\n",
       "       [ 3.15127196e-02],\n",
       "       [ 1.39375308e-01],\n",
       "       [ 5.12643829e-02],\n",
       "       [-5.21401467e-01],\n",
       "       [-1.88313865e-01],\n",
       "       [-4.58613678e-01],\n",
       "       [-1.22672408e-01],\n",
       "       [ 2.03458688e-01],\n",
       "       [-5.77932317e-02],\n",
       "       [-1.24562582e-01],\n",
       "       [ 2.36433180e-01],\n",
       "       [-2.24763199e-01],\n",
       "       [-3.27417503e-01],\n",
       "       [-2.32474055e-01],\n",
       "       [ 6.71733006e-02],\n",
       "       [ 3.36668296e-01],\n",
       "       [ 1.10749148e-01],\n",
       "       [-5.08764035e-02],\n",
       "       [-3.42094296e-01],\n",
       "       [ 4.87138803e-01],\n",
       "       [-4.98322969e-02],\n",
       "       [ 3.13295693e-01],\n",
       "       [ 1.77815656e-01],\n",
       "       [-4.38419881e-01],\n",
       "       [ 1.59870579e-01],\n",
       "       [ 3.20928083e-01],\n",
       "       [-2.88634319e-01],\n",
       "       [-4.29207017e-01],\n",
       "       [-3.19489832e-01],\n",
       "       [ 8.58047267e-02],\n",
       "       [ 4.20622854e-01],\n",
       "       [-1.88796909e-01],\n",
       "       [-8.73322640e-02],\n",
       "       [ 5.10518686e-01],\n",
       "       [ 3.96154401e-01],\n",
       "       [ 2.29959784e-01],\n",
       "       [-5.22600505e-01],\n",
       "       [ 2.02988216e-01],\n",
       "       [ 2.66606490e-01],\n",
       "       [ 4.11508111e-01],\n",
       "       [ 2.87460738e-01],\n",
       "       [ 4.39763102e-01],\n",
       "       [-1.21486189e-01],\n",
       "       [ 2.56606633e-01],\n",
       "       [ 9.13695715e-02],\n",
       "       [-2.32372989e-01],\n",
       "       [ 3.65822817e-01],\n",
       "       [ 2.36643888e-01],\n",
       "       [ 1.99245244e-01],\n",
       "       [-1.45551138e-01],\n",
       "       [-4.08614545e-01],\n",
       "       [ 1.83781340e-01],\n",
       "       [-3.52570007e-01],\n",
       "       [ 2.80490080e-02],\n",
       "       [-1.24421590e-01],\n",
       "       [-2.78683677e-01],\n",
       "       [-4.36250357e-01],\n",
       "       [ 2.61060283e-02],\n",
       "       [-1.98130766e-03],\n",
       "       [-1.13872139e-01],\n",
       "       [ 1.97258749e-01],\n",
       "       [ 3.91524050e-01],\n",
       "       [-3.15521913e-01],\n",
       "       [-3.75235688e-01],\n",
       "       [-2.87754596e-01],\n",
       "       [-3.53150498e-01],\n",
       "       [-1.39736747e-01],\n",
       "       [ 3.49141241e-01],\n",
       "       [ 8.50139448e-02],\n",
       "       [ 3.05569947e-01],\n",
       "       [-5.69138541e-01],\n",
       "       [-7.73346288e-02],\n",
       "       [-4.34518440e-01],\n",
       "       [ 1.08962639e-01],\n",
       "       [-4.93420411e-01],\n",
       "       [ 3.43541060e-01],\n",
       "       [ 3.55205428e-01],\n",
       "       [-4.51272197e-01],\n",
       "       [-7.55937899e-02],\n",
       "       [ 2.88483210e-01],\n",
       "       [ 7.49488627e-02],\n",
       "       [-2.85477556e-01],\n",
       "       [ 3.70999157e-01],\n",
       "       [-2.51778028e-01],\n",
       "       [-2.27826022e-02],\n",
       "       [-1.54235970e-01],\n",
       "       [ 4.02525368e-01],\n",
       "       [-4.16723039e-01],\n",
       "       [-2.73502059e-01],\n",
       "       [-4.76269037e-01],\n",
       "       [-2.97067109e-01],\n",
       "       [ 2.41177460e-01],\n",
       "       [ 2.42526764e-01],\n",
       "       [ 1.57344384e-01],\n",
       "       [-4.05238278e-01],\n",
       "       [-2.61129742e-01],\n",
       "       [-3.82339730e-01],\n",
       "       [-3.51259484e-01],\n",
       "       [ 2.59501435e-01],\n",
       "       [-1.47159955e-01],\n",
       "       [-5.07276659e-01],\n",
       "       [-7.54713555e-03],\n",
       "       [ 1.04896183e-01],\n",
       "       [-1.66721301e-01],\n",
       "       [ 3.44724023e-02],\n",
       "       [ 9.38304956e-02],\n",
       "       [-4.10403427e-01],\n",
       "       [-3.66959648e-01],\n",
       "       [-2.19588170e-01],\n",
       "       [-4.47568501e-01],\n",
       "       [-1.19373846e-01],\n",
       "       [-5.06980103e-01],\n",
       "       [-2.78436146e-01],\n",
       "       [ 1.29570265e-01],\n",
       "       [ 1.50207264e-01],\n",
       "       [-5.82940786e-02],\n",
       "       [-1.87861644e-01],\n",
       "       [-3.65592093e-01],\n",
       "       [-3.23149398e-01],\n",
       "       [ 2.03338789e-01],\n",
       "       [ 3.28853025e-01],\n",
       "       [ 1.55998320e-02],\n",
       "       [-2.71360034e-01],\n",
       "       [-5.08544785e-01],\n",
       "       [ 5.52521889e-02],\n",
       "       [-4.69541084e-01],\n",
       "       [ 1.86597452e-01],\n",
       "       [ 5.15645514e-02],\n",
       "       [-1.70038602e-01],\n",
       "       [-2.46154392e-01],\n",
       "       [-3.65080677e-01],\n",
       "       [-2.87430634e-01],\n",
       "       [-4.84724717e-01],\n",
       "       [ 4.00018066e-01],\n",
       "       [ 3.00117752e-01],\n",
       "       [ 4.82200711e-01],\n",
       "       [-1.32555260e-01],\n",
       "       [-1.29190926e-01],\n",
       "       [ 3.78511082e-01],\n",
       "       [ 2.84780495e-01],\n",
       "       [ 3.29115750e-01],\n",
       "       [-1.71107437e-01],\n",
       "       [ 1.91261591e-01],\n",
       "       [-3.35855686e-01],\n",
       "       [-1.67026556e-01],\n",
       "       [-3.56549566e-01],\n",
       "       [ 2.42466616e-01],\n",
       "       [ 4.75819130e-01],\n",
       "       [ 1.03133566e-02],\n",
       "       [-2.56578562e-01],\n",
       "       [-4.91004469e-01],\n",
       "       [ 2.70812461e-01],\n",
       "       [-6.27121157e-01],\n",
       "       [-5.61698126e-01],\n",
       "       [ 2.34257559e-01],\n",
       "       [-1.07736684e-01],\n",
       "       [ 4.72090919e-02],\n",
       "       [ 3.06933761e-01],\n",
       "       [-1.33708785e-01],\n",
       "       [ 1.92387644e-01],\n",
       "       [-3.32082345e-01],\n",
       "       [ 2.42438867e-01],\n",
       "       [ 2.61289520e-01],\n",
       "       [-1.44816941e-01],\n",
       "       [ 2.03702873e-01],\n",
       "       [ 1.73233616e-01],\n",
       "       [-7.63748160e-02],\n",
       "       [-5.39552518e-01],\n",
       "       [-3.93167859e-01],\n",
       "       [-1.36959242e-01],\n",
       "       [ 1.53409469e-02],\n",
       "       [-5.69422037e-01],\n",
       "       [-5.70710417e-01],\n",
       "       [-4.26240394e-01],\n",
       "       [-2.60782179e-02],\n",
       "       [-3.42936844e-01],\n",
       "       [-1.08374159e-01],\n",
       "       [ 1.13180581e-01],\n",
       "       [ 4.35857096e-01],\n",
       "       [-4.73457196e-02],\n",
       "       [-1.41878664e-01],\n",
       "       [-2.53366938e-02],\n",
       "       [-3.82617468e-01],\n",
       "       [ 3.18297950e-01],\n",
       "       [-3.01753045e-01],\n",
       "       [ 3.66269238e-01],\n",
       "       [-3.92971661e-01],\n",
       "       [ 1.44465879e-01],\n",
       "       [-2.37103181e-01],\n",
       "       [-4.16725944e-01],\n",
       "       [ 4.01165721e-01],\n",
       "       [ 6.92503595e-02],\n",
       "       [-3.55563589e-01],\n",
       "       [ 3.28345027e-01],\n",
       "       [-1.36077015e-01],\n",
       "       [-2.78463784e-01],\n",
       "       [ 4.99524282e-02],\n",
       "       [-2.47260825e-02],\n",
       "       [-1.72407051e-01],\n",
       "       [-4.76905994e-01],\n",
       "       [ 1.43556001e-01],\n",
       "       [ 2.82387723e-01],\n",
       "       [ 1.06092892e-01],\n",
       "       [ 2.51797607e-01],\n",
       "       [ 2.58882303e-01],\n",
       "       [-3.60164275e-01],\n",
       "       [ 4.07337665e-01],\n",
       "       [-4.15182125e-01],\n",
       "       [-3.93178370e-02],\n",
       "       [ 4.90428499e-01],\n",
       "       [ 1.43984097e-01],\n",
       "       [-3.97727335e-01],\n",
       "       [-4.83057928e-01],\n",
       "       [ 7.87344346e-02],\n",
       "       [-4.17223969e-01],\n",
       "       [ 3.97527018e-01],\n",
       "       [ 1.16765108e-01],\n",
       "       [ 4.18273031e-01],\n",
       "       [-4.40052611e-01],\n",
       "       [-6.31356663e-02],\n",
       "       [ 2.08475330e-01],\n",
       "       [-1.61194350e-01],\n",
       "       [ 9.01278903e-02],\n",
       "       [-6.05983048e-02],\n",
       "       [-5.27853028e-02],\n",
       "       [ 8.42456409e-03],\n",
       "       [ 9.59951617e-02],\n",
       "       [ 6.72504681e-02],\n",
       "       [-1.33256570e-01],\n",
       "       [-2.85275826e-01],\n",
       "       [-4.51136517e-01],\n",
       "       [-4.13855417e-02],\n",
       "       [-1.78503853e-01],\n",
       "       [-3.30971101e-01],\n",
       "       [-2.04432274e-01],\n",
       "       [ 5.15103254e-01],\n",
       "       [ 4.71455134e-01],\n",
       "       [-1.66901986e-01],\n",
       "       [-2.81742314e-01],\n",
       "       [-2.86951664e-01],\n",
       "       [-6.62750980e-04],\n",
       "       [ 3.22838355e-01],\n",
       "       [-1.67992155e-01],\n",
       "       [-2.56265166e-01],\n",
       "       [ 3.17196606e-01],\n",
       "       [ 4.31709116e-01],\n",
       "       [ 4.31620886e-01],\n",
       "       [ 1.61749839e-01],\n",
       "       [ 1.31569108e-01],\n",
       "       [ 5.51228987e-01],\n",
       "       [-3.33041003e-01],\n",
       "       [ 6.88506356e-02],\n",
       "       [-2.22378937e-01],\n",
       "       [ 8.05296407e-03],\n",
       "       [ 4.15542852e-01],\n",
       "       [ 4.61104639e-01],\n",
       "       [-1.45776845e-01],\n",
       "       [ 1.71900447e-01],\n",
       "       [ 2.59655861e-01],\n",
       "       [ 2.14232903e-01],\n",
       "       [-3.14116142e-01],\n",
       "       [ 2.71816387e-01],\n",
       "       [ 1.88564028e-01],\n",
       "       [ 3.74370510e-01],\n",
       "       [-3.26331770e-02],\n",
       "       [ 2.55335311e-01],\n",
       "       [-1.43064946e-01],\n",
       "       [ 2.48183691e-01],\n",
       "       [-2.43030552e-01],\n",
       "       [-2.91967487e-01],\n",
       "       [-2.60906631e-01],\n",
       "       [-7.66126454e-02],\n",
       "       [ 3.13204741e-01],\n",
       "       [ 4.84822058e-01],\n",
       "       [-1.42346995e-01],\n",
       "       [ 2.71842573e-01],\n",
       "       [-2.85325496e-01],\n",
       "       [-1.30016986e-01],\n",
       "       [-2.55498013e-01],\n",
       "       [-2.74246770e-01],\n",
       "       [-4.12284214e-01],\n",
       "       [ 1.89564766e-01],\n",
       "       [-4.20037476e-01],\n",
       "       [-2.73482251e-02],\n",
       "       [ 3.72885074e-01],\n",
       "       [ 4.93212563e-01],\n",
       "       [-5.98729632e-02],\n",
       "       [ 3.41054730e-01],\n",
       "       [-4.36765336e-01],\n",
       "       [ 3.86014926e-02],\n",
       "       [-4.33832756e-01],\n",
       "       [ 1.53508937e-01],\n",
       "       [-3.39515056e-01],\n",
       "       [-4.02151111e-01],\n",
       "       [-2.02894369e-01],\n",
       "       [ 3.51940881e-01],\n",
       "       [-4.52777279e-01],\n",
       "       [ 2.94317173e-01],\n",
       "       [-1.92515862e-01],\n",
       "       [ 4.56473215e-02],\n",
       "       [-3.60561823e-01],\n",
       "       [ 1.65332673e-01],\n",
       "       [-3.83058604e-01],\n",
       "       [-2.94192167e-01],\n",
       "       [-3.42353262e-01],\n",
       "       [ 2.72624275e-01],\n",
       "       [ 3.50212920e-02],\n",
       "       [-8.59561288e-02],\n",
       "       [-4.37532750e-01],\n",
       "       [ 1.95055352e-01],\n",
       "       [-1.83116654e-01],\n",
       "       [ 3.77066187e-02],\n",
       "       [-3.05930504e-01],\n",
       "       [-4.88355901e-02],\n",
       "       [ 1.03036009e-01],\n",
       "       [-3.85441075e-01],\n",
       "       [-2.06640472e-01],\n",
       "       [ 2.86080376e-01],\n",
       "       [-5.27310772e-01],\n",
       "       [ 3.69870565e-02],\n",
       "       [ 2.41138226e-01],\n",
       "       [ 3.05700687e-01],\n",
       "       [ 2.64190416e-01],\n",
       "       [-4.66653362e-01],\n",
       "       [ 3.94582783e-02],\n",
       "       [ 1.76942913e-01],\n",
       "       [-1.25318627e-01],\n",
       "       [ 1.26956159e-01],\n",
       "       [-1.18474277e-01],\n",
       "       [-3.19726344e-01],\n",
       "       [ 2.97110733e-01],\n",
       "       [-1.12591358e-01],\n",
       "       [ 1.51216552e-01],\n",
       "       [-6.29645321e-01],\n",
       "       [-9.68945799e-04],\n",
       "       [-4.01537757e-01],\n",
       "       [ 2.21357109e-01],\n",
       "       [ 1.60752716e-01],\n",
       "       [ 1.82086513e-01],\n",
       "       [-3.38969408e-01],\n",
       "       [ 2.10370919e-01],\n",
       "       [-3.12826319e-01],\n",
       "       [-9.22991229e-02],\n",
       "       [-6.28510845e-01],\n",
       "       [ 3.43854698e-01],\n",
       "       [ 7.20628684e-02],\n",
       "       [ 3.17800757e-01],\n",
       "       [-1.29597529e-01],\n",
       "       [-5.68437789e-01],\n",
       "       [-3.52326435e-01],\n",
       "       [-5.23123232e-01],\n",
       "       [-2.18044579e-01],\n",
       "       [-2.13422296e-01],\n",
       "       [ 3.62554945e-01],\n",
       "       [ 2.35252801e-01],\n",
       "       [-2.13973228e-02],\n",
       "       [ 2.38063801e-01],\n",
       "       [-1.86063682e-01],\n",
       "       [-2.91803534e-01],\n",
       "       [-2.03159353e-01],\n",
       "       [ 3.33001203e-02],\n",
       "       [ 3.30575105e-01],\n",
       "       [ 2.74928201e-01],\n",
       "       [ 1.83303904e-01],\n",
       "       [-4.83579146e-01],\n",
       "       [-7.50190210e-02],\n",
       "       [ 8.11073583e-02],\n",
       "       [-4.62636477e-01],\n",
       "       [ 1.12289058e-01],\n",
       "       [-5.01900057e-01],\n",
       "       [-9.02498963e-02],\n",
       "       [-5.81121997e-01],\n",
       "       [-4.98273013e-01],\n",
       "       [-6.47908346e-02],\n",
       "       [-3.49368022e-01],\n",
       "       [-3.17830590e-01],\n",
       "       [ 1.99721471e-01],\n",
       "       [-4.44164874e-01],\n",
       "       [-5.23272711e-01],\n",
       "       [-1.55971040e-01],\n",
       "       [ 3.80557476e-02],\n",
       "       [-1.56606811e-02],\n",
       "       [ 1.74737479e-01],\n",
       "       [-1.11602705e-01],\n",
       "       [-6.14302840e-01],\n",
       "       [-1.23005820e-01],\n",
       "       [-4.68777174e-01],\n",
       "       [ 3.50574987e-01],\n",
       "       [ 8.95855494e-02],\n",
       "       [-2.30959777e-01],\n",
       "       [-2.42369544e-01],\n",
       "       [-5.39003490e-01],\n",
       "       [-3.68715913e-01],\n",
       "       [-2.35715166e-01],\n",
       "       [-4.37545279e-01],\n",
       "       [ 3.22957713e-01],\n",
       "       [-7.40621625e-02],\n",
       "       [ 1.79834106e-01],\n",
       "       [-3.16514316e-02],\n",
       "       [ 2.13618624e-01],\n",
       "       [-3.15558486e-01],\n",
       "       [-4.22602391e-01],\n",
       "       [-5.66375529e-01],\n",
       "       [-5.22046767e-01],\n",
       "       [-1.90006969e-01],\n",
       "       [ 1.22123518e-01],\n",
       "       [ 3.61484276e-01],\n",
       "       [-3.92119362e-01],\n",
       "       [ 3.03295549e-01],\n",
       "       [-4.18422587e-01],\n",
       "       [ 2.11869639e-01],\n",
       "       [-1.03633652e-02],\n",
       "       [-5.30804940e-01],\n",
       "       [ 1.41419737e-01],\n",
       "       [ 1.00182857e-01],\n",
       "       [ 2.14546970e-01],\n",
       "       [-9.68119891e-02],\n",
       "       [-5.34391188e-01],\n",
       "       [ 8.44989804e-03],\n",
       "       [-1.35166639e-01],\n",
       "       [ 1.60062636e-01],\n",
       "       [-5.32739597e-01],\n",
       "       [-9.18816976e-02],\n",
       "       [-4.80088275e-01],\n",
       "       [-2.36639236e-01],\n",
       "       [ 3.29064118e-01],\n",
       "       [ 3.84832034e-01],\n",
       "       [-5.70413463e-01],\n",
       "       [ 4.15707923e-01],\n",
       "       [ 2.41993419e-03],\n",
       "       [-2.08722053e-01],\n",
       "       [ 5.03725241e-01],\n",
       "       [ 3.42849485e-01],\n",
       "       [-1.19544526e-01],\n",
       "       [ 4.71030610e-01],\n",
       "       [-2.49099212e-01],\n",
       "       [-3.03585347e-01],\n",
       "       [-3.01020473e-01],\n",
       "       [ 2.30743642e-02],\n",
       "       [ 4.66372850e-01],\n",
       "       [ 2.20938126e-01],\n",
       "       [ 6.92205607e-02],\n",
       "       [-2.28821123e-01],\n",
       "       [-3.88486765e-01],\n",
       "       [ 3.60337534e-01],\n",
       "       [ 1.03511749e-02],\n",
       "       [-4.13811314e-01],\n",
       "       [ 1.24391013e-01],\n",
       "       [-4.68807608e-01],\n",
       "       [-7.97591077e-02],\n",
       "       [-2.62901722e-01],\n",
       "       [-3.04474733e-01],\n",
       "       [-2.29340694e-01],\n",
       "       [-1.49746227e-01],\n",
       "       [-2.68432838e-01],\n",
       "       [ 1.51580291e-01],\n",
       "       [-1.59198668e+00],\n",
       "       [-1.08741719e+00],\n",
       "       [-1.54133778e+00],\n",
       "       [-1.02379006e+00],\n",
       "       [-1.50421718e+00],\n",
       "       [-1.09147004e+00],\n",
       "       [-1.35180290e+00],\n",
       "       [-1.12308625e+00],\n",
       "       [-1.48777794e+00],\n",
       "       [-1.57362713e+00],\n",
       "       [-1.39400271e+00],\n",
       "       [-1.08250130e+00],\n",
       "       [-1.08209494e+00],\n",
       "       [-1.51817404e+00],\n",
       "       [-1.32449034e+00],\n",
       "       [-1.52476350e+00],\n",
       "       [-1.59183048e+00],\n",
       "       [-1.54761727e+00],\n",
       "       [-1.64845615e+00],\n",
       "       [-1.66274199e+00],\n",
       "       [-1.12446557e+00],\n",
       "       [-9.57093435e-01],\n",
       "       [-1.23039371e+00],\n",
       "       [-1.18895216e+00],\n",
       "       [-1.37311274e+00],\n",
       "       [-1.00238532e+00],\n",
       "       [-1.05734935e+00],\n",
       "       [-1.58163721e+00],\n",
       "       [-5.00343540e+01],\n",
       "       [-5.00599598e+01],\n",
       "       [-5.00559968e+01],\n",
       "       [-5.00277844e+01],\n",
       "       [-5.00713636e+01],\n",
       "       [-5.00555722e+01],\n",
       "       [-5.00180167e+01],\n",
       "       [-5.00747070e+01],\n",
       "       [-5.00703444e+01],\n",
       "       [-5.00799081e+01],\n",
       "       [-5.00250005e+01],\n",
       "       [-5.00840181e+01],\n",
       "       [-5.00895504e+01],\n",
       "       [-5.00161097e+01],\n",
       "       [-5.00423866e+01],\n",
       "       [-5.00024101e+01],\n",
       "       [-5.00751854e+01],\n",
       "       [-5.00939537e+01],\n",
       "       [-5.00426354e+01],\n",
       "       [-5.00274311e+01],\n",
       "       [-5.00304527e+01],\n",
       "       [-5.00676560e+01],\n",
       "       [-5.00158431e+01],\n",
       "       [-5.00540326e+01],\n",
       "       [-5.00880686e+01],\n",
       "       [-5.00724421e+01],\n",
       "       [-5.00868270e+01],\n",
       "       [-5.00554253e+01],\n",
       "       [-5.00194750e+01],\n",
       "       [-5.00086434e+01],\n",
       "       [-5.00541555e+01],\n",
       "       [-5.00774604e+01],\n",
       "       [-5.00376171e+01],\n",
       "       [-5.00124097e+01],\n",
       "       [-5.00308276e+01],\n",
       "       [-5.00368432e+01],\n",
       "       [-5.00629000e+01],\n",
       "       [-5.00935346e+01],\n",
       "       [-5.00483635e+01],\n",
       "       [-5.00711742e+01],\n",
       "       [-5.00045437e+01],\n",
       "       [-5.00505688e+01],\n",
       "       [-5.00856262e+01],\n",
       "       [-5.00193796e+01],\n",
       "       [-5.00084756e+01],\n",
       "       [-5.00865874e+01],\n",
       "       [-5.00683541e+01],\n",
       "       [-5.00827272e+01],\n",
       "       [-5.00346767e+01],\n",
       "       [-5.00792510e+01],\n",
       "       [-5.00470128e+01],\n",
       "       [-5.00650148e+01],\n",
       "       [-5.00748336e+01],\n",
       "       [-5.00422647e+01],\n",
       "       [-5.00540917e+01],\n",
       "       [-5.00829661e+01],\n",
       "       [-5.00168056e+01],\n",
       "       [-5.00045292e+01],\n",
       "       [-5.00772660e+01],\n",
       "       [-5.00446545e+01],\n",
       "       [-5.00047703e+01],\n",
       "       [-5.00658764e+01],\n",
       "       [-5.00092011e+01],\n",
       "       [-5.00027399e+01],\n",
       "       [-5.00669220e+01],\n",
       "       [-5.00059788e+01],\n",
       "       [-5.00106457e+01],\n",
       "       [-5.00271944e+01],\n",
       "       [-5.00870856e+01],\n",
       "       [-5.00532838e+01],\n",
       "       [-5.00239014e+01],\n",
       "       [-5.00549224e+01],\n",
       "       [-5.00869181e+01],\n",
       "       [-5.00393506e+01],\n",
       "       [-5.00138869e+01],\n",
       "       [-5.00896754e+01],\n",
       "       [-5.00642986e+01],\n",
       "       [-5.00728363e+01],\n",
       "       [-5.00360829e+01],\n",
       "       [-5.00380160e+01],\n",
       "       [-5.00518769e+01],\n",
       "       [-5.00065482e+01],\n",
       "       [-5.00488064e+01],\n",
       "       [-5.00507481e+01]])"
      ]
     },
     "execution_count": 424,
     "metadata": {},
     "output_type": "execute_result"
    }
   ],
   "source": [
    "weight1"
   ]
  },
  {
   "cell_type": "code",
   "execution_count": 426,
   "id": "af9f1b23",
   "metadata": {},
   "outputs": [
    {
     "data": {
      "text/plain": [
       "array([[0.18426752, 0.0055995 , 0.43310089],\n",
       "       [0.69673463, 0.16620032, 0.18304994],\n",
       "       [0.07902508, 0.75520992, 0.06524448],\n",
       "       [0.18779301, 0.8467679 , 0.33457082],\n",
       "       [0.96774502, 0.75180321, 0.39790293],\n",
       "       [0.93481916, 0.34812943, 0.30136077],\n",
       "       [0.15265258, 0.41757834, 0.66850454],\n",
       "       [0.09345877, 0.52029385, 0.25571534],\n",
       "       [0.76084862, 0.60627281, 0.6501333 ],\n",
       "       [0.59542938, 0.442602  , 0.59117718],\n",
       "       [0.58828593, 0.70355467, 0.16475938],\n",
       "       [0.65713871, 0.85542826, 0.44621163],\n",
       "       [0.74482648, 0.90100103, 0.26559933],\n",
       "       [0.63459972, 0.45317954, 0.27302694],\n",
       "       [0.68689987, 0.80625655, 0.64695772],\n",
       "       [0.47961919, 0.52808093, 0.50089423],\n",
       "       [0.97744539, 0.87390943, 0.57308821],\n",
       "       [0.55016717, 0.48108908, 0.42521595],\n",
       "       [0.35743393, 0.18067795, 0.49253454],\n",
       "       [0.46296862, 0.67735415, 0.86690632],\n",
       "       [0.33552374, 0.21273512, 0.23685095],\n",
       "       [0.61994701, 0.88799984, 0.2710703 ],\n",
       "       [0.74267205, 0.47376198, 0.02534769],\n",
       "       [0.56904889, 0.03552213, 0.85577939],\n",
       "       [0.61122594, 0.39214637, 0.26224886],\n",
       "       [0.31647004, 0.82809861, 0.61496747],\n",
       "       [0.00809775, 0.32029491, 0.38966683],\n",
       "       [0.56643798, 0.61390529, 0.07005865]])"
      ]
     },
     "execution_count": 426,
     "metadata": {},
     "output_type": "execute_result"
    }
   ],
   "source": [
    "weight2"
   ]
  },
  {
   "cell_type": "code",
   "execution_count": 427,
   "id": "b51f1e7c",
   "metadata": {},
   "outputs": [
    {
     "data": {
      "text/plain": [
       "[<matplotlib.lines.Line2D at 0x2c37085b0>]"
      ]
     },
     "execution_count": 427,
     "metadata": {},
     "output_type": "execute_result"
    },
    {
     "data": {
      "image/png": "[encoded data removed]",
      "text/plain": [
       "<Figure size 640x480 with 1 Axes>"
      ]
     },
     "metadata": {},
     "output_type": "display_data"
    }
   ],
   "source": [
    "plt.plot(weight1)"
   ]
  },
  {
   "cell_type": "code",
   "execution_count": 428,
   "id": "901a7cd2",
   "metadata": {},
   "outputs": [
    {
     "data": {
      "text/plain": [
       "array([-0.00066275])"
      ]
     },
     "execution_count": 428,
     "metadata": {},
     "output_type": "execute_result"
    }
   ],
   "source": [
    "weight1[456]"
   ]
  },
  {
   "cell_type": "code",
   "execution_count": null,
   "id": "e329ab05",
   "metadata": {},
   "outputs": [],
   "source": []
  },
  {
   "cell_type": "code",
   "execution_count": 429,
   "id": "312e71e0",
   "metadata": {},
   "outputs": [
    {
     "data": {
      "text/plain": [
       "[<matplotlib.lines.Line2D at 0x2c2682760>,\n",
       " <matplotlib.lines.Line2D at 0x2c26827c0>,\n",
       " <matplotlib.lines.Line2D at 0x2c26827f0>]"
      ]
     },
     "execution_count": 429,
     "metadata": {},
     "output_type": "execute_result"
    },
    {
     "data": {
      "image/png": "[encoded data removed]",
      "text/plain": [
       "<Figure size 640x480 with 1 Axes>"
      ]
     },
     "metadata": {},
     "output_type": "display_data"
    }
   ],
   "source": [
    "plt.plot(weight2)"
   ]
  },
  {
   "cell_type": "code",
   "execution_count": 430,
   "id": "c5bf3732",
   "metadata": {},
   "outputs": [],
   "source": [
    "def testingMemoryElementWork(inputImage,weight):\n",
    "    result = []\n",
    "    for item in inputImage:\n",
    "        item = flattenInput(item)\n",
    "        result.append(np.dot(item.T,weight))\n",
    "    return result"
   ]
  },
  {
   "cell_type": "code",
   "execution_count": 431,
   "id": "0194634a",
   "metadata": {},
   "outputs": [],
   "source": [
    "# weight1 = weightInitialization(784,200)\n",
    "# weight1 = weightUpdateThresholding(10,X_train_filter,weight1)"
   ]
  },
  {
   "cell_type": "code",
   "execution_count": 432,
   "id": "6de46829",
   "metadata": {},
   "outputs": [],
   "source": [
    "# weight1 = weightInitialization(784,20)\n",
    "# weight1 = weightUpdateContainingMemoryElement(2,1,X_train_filter,weight1)"
   ]
  },
  {
   "cell_type": "code",
   "execution_count": 433,
   "id": "4ad0859f",
   "metadata": {},
   "outputs": [
    {
     "data": {
      "text/plain": [
       "array([0.2380638])"
      ]
     },
     "execution_count": 433,
     "metadata": {},
     "output_type": "execute_result"
    }
   ],
   "source": [
    "weight1[572]"
   ]
  },
  {
   "cell_type": "code",
   "execution_count": 434,
   "id": "61910d55",
   "metadata": {},
   "outputs": [
    {
     "data": {
      "text/plain": [
       "array([[-5.00411369e+01],\n",
       "       [-5.00521062e+01],\n",
       "       [-5.00842895e+01],\n",
       "       [-5.00631605e+01],\n",
       "       [-5.00161255e+01],\n",
       "       [-5.00303631e+01],\n",
       "       [-5.00478175e+01],\n",
       "       [-5.00897469e+01],\n",
       "       [-5.00827471e+01],\n",
       "       [-5.00636287e+01],\n",
       "       [-5.00862761e+01],\n",
       "       [-5.00685609e+01],\n",
       "       [-5.00546555e+01],\n",
       "       [-5.00292624e+01],\n",
       "       [-5.00690493e+01],\n",
       "       [-5.00017435e+01],\n",
       "       [-5.00423371e+01],\n",
       "       [-5.00043147e+01],\n",
       "       [-5.00694122e+01],\n",
       "       [-5.00383075e+01],\n",
       "       [-5.00329969e+01],\n",
       "       [-5.00240511e+01],\n",
       "       [-5.00278899e+01],\n",
       "       [-5.00120890e+01],\n",
       "       [-5.00539261e+01],\n",
       "       [-5.00611930e+01],\n",
       "       [-5.00344546e+01],\n",
       "       [-5.00180908e+01],\n",
       "       [-5.00218731e+01],\n",
       "       [-5.00389962e+01],\n",
       "       [-5.00616814e+01],\n",
       "       [-5.00109593e+01],\n",
       "       [-5.00548697e+01],\n",
       "       [-5.00514979e+01],\n",
       "       [-5.00399802e+01],\n",
       "       [-5.00209190e+01],\n",
       "       [-5.00794514e+01],\n",
       "       [-5.00063927e+01],\n",
       "       [-5.00148960e+01],\n",
       "       [-5.00748840e+01],\n",
       "       [-5.00813282e+01],\n",
       "       [-5.00039473e+01],\n",
       "       [-5.00802427e+01],\n",
       "       [-5.00901112e+01],\n",
       "       [-5.00318499e+01],\n",
       "       [-5.00899063e+01],\n",
       "       [-5.00694879e+01],\n",
       "       [-5.00859788e+01],\n",
       "       [-5.00432445e+01],\n",
       "       [-5.00554035e+01],\n",
       "       [-5.00320358e+01],\n",
       "       [-5.00323309e+01],\n",
       "       [-5.00252235e+01],\n",
       "       [-5.00776453e+01],\n",
       "       [-5.00492295e+01],\n",
       "       [-5.00840579e+01],\n",
       "       [-3.89144221e+01],\n",
       "       [-3.89413772e+01],\n",
       "       [-3.83747832e+01],\n",
       "       [-3.82689530e+01],\n",
       "       [-3.80677017e+01],\n",
       "       [-3.84587720e+01],\n",
       "       [-3.86688047e+01],\n",
       "       [-3.87986390e+01],\n",
       "       [-3.89463749e+01],\n",
       "       [-3.86084353e+01],\n",
       "       [-3.84613551e+01],\n",
       "       [-3.83454475e+01],\n",
       "       [-3.81231310e+01],\n",
       "       [-3.83849558e+01],\n",
       "       [-3.89640258e+01],\n",
       "       [-3.82162309e+01],\n",
       "       [-3.82072325e+01],\n",
       "       [-3.83256616e+01],\n",
       "       [-3.85892712e+01],\n",
       "       [-3.88058804e+01],\n",
       "       [-3.89530422e+01],\n",
       "       [-3.83745614e+01],\n",
       "       [-3.88284947e+01],\n",
       "       [-3.88817580e+01],\n",
       "       [-3.85460647e+01],\n",
       "       [-3.81255024e+01],\n",
       "       [-3.81586485e+01],\n",
       "       [-3.88717541e+01],\n",
       "       [-4.98903345e-01],\n",
       "       [-5.82391208e-01],\n",
       "       [-1.97478329e-01],\n",
       "       [-2.04162542e-01],\n",
       "       [-3.08781122e-01],\n",
       "       [-5.03659104e-01],\n",
       "       [-6.82928747e-02],\n",
       "       [-6.08012776e-01],\n",
       "       [-7.05987845e-01],\n",
       "       [-4.77185905e-01],\n",
       "       [-3.71878270e-01],\n",
       "       [-6.93236773e-01],\n",
       "       [-2.07793841e-01],\n",
       "       [-5.04916040e-01],\n",
       "       [ 2.52720918e-02],\n",
       "       [-4.83907390e-01],\n",
       "       [-7.71089791e-01],\n",
       "       [-3.25747701e-01],\n",
       "       [-1.97207927e-01],\n",
       "       [-3.76675872e-01],\n",
       "       [-1.72102611e-01],\n",
       "       [-7.13628937e-01],\n",
       "       [-4.88758161e-01],\n",
       "       [-8.19061177e-01],\n",
       "       [-8.02683866e-01],\n",
       "       [-2.49605351e-01],\n",
       "       [ 9.87467229e-03],\n",
       "       [-1.65392520e-01],\n",
       "       [-8.70361074e-01],\n",
       "       [-2.36946206e-01],\n",
       "       [-2.56541241e-01],\n",
       "       [-6.72617466e-02],\n",
       "       [ 9.29817107e-02],\n",
       "       [-2.71392237e-01],\n",
       "       [-1.52495346e-01],\n",
       "       [-8.23931602e-02],\n",
       "       [-8.35731557e-01],\n",
       "       [-7.47936272e-01],\n",
       "       [ 1.19481449e-01],\n",
       "       [-8.53602133e-01],\n",
       "       [-1.84183260e-01],\n",
       "       [ 1.03371889e-01],\n",
       "       [ 3.60049922e-02],\n",
       "       [-5.02978066e-01],\n",
       "       [-3.08070195e-01],\n",
       "       [ 1.07203883e-01],\n",
       "       [-3.24884168e-01],\n",
       "       [-7.47021989e-01],\n",
       "       [-5.37118853e-01],\n",
       "       [-7.97600869e-01],\n",
       "       [ 3.71005033e-02],\n",
       "       [-2.19251159e-01],\n",
       "       [-6.60367359e-01],\n",
       "       [-8.03258860e-01],\n",
       "       [ 5.42140649e-02],\n",
       "       [-4.41276804e-01],\n",
       "       [ 1.17003623e-01],\n",
       "       [-3.65892595e-01],\n",
       "       [ 9.57497886e-02],\n",
       "       [ 8.00648601e-02],\n",
       "       [-6.61261186e-01],\n",
       "       [-1.27867957e-01],\n",
       "       [-1.89003197e-01],\n",
       "       [ 2.68183706e-01],\n",
       "       [-6.65647581e-01],\n",
       "       [-6.02755615e-01],\n",
       "       [-1.98530632e-01],\n",
       "       [-4.68653834e-01],\n",
       "       [ 1.70128282e-01],\n",
       "       [ 2.59263059e-01],\n",
       "       [-3.91990516e-01],\n",
       "       [ 2.14898664e-01],\n",
       "       [-6.10570380e-01],\n",
       "       [-5.25838922e-01],\n",
       "       [ 2.90071987e-01],\n",
       "       [ 3.22617469e-01],\n",
       "       [ 1.53239730e-01],\n",
       "       [ 6.16694081e-03],\n",
       "       [ 1.72198939e-01],\n",
       "       [ 2.53040923e-01],\n",
       "       [ 3.20000327e-01],\n",
       "       [ 1.34912625e-02],\n",
       "       [ 3.22027669e-01],\n",
       "       [ 1.23789952e-01],\n",
       "       [ 6.57120069e-02],\n",
       "       [ 3.65252487e-01],\n",
       "       [ 8.82625329e-02],\n",
       "       [-1.31446175e-01],\n",
       "       [ 1.85882387e-01],\n",
       "       [-3.19285582e-01],\n",
       "       [ 1.18279622e-01],\n",
       "       [-3.29892940e-02],\n",
       "       [ 1.04705387e-01],\n",
       "       [-2.70631797e-01],\n",
       "       [-3.62012372e-01],\n",
       "       [ 3.29982621e-01],\n",
       "       [-1.16259877e-01],\n",
       "       [ 2.42424849e-01],\n",
       "       [ 1.14825897e-01],\n",
       "       [-3.40671236e-01],\n",
       "       [ 2.25609738e-01],\n",
       "       [-3.98818181e-01],\n",
       "       [-3.32358552e-01],\n",
       "       [-1.48934397e-01],\n",
       "       [ 3.35570316e-01],\n",
       "       [ 9.78705111e-02],\n",
       "       [-1.16325440e-01],\n",
       "       [ 9.83074369e-02],\n",
       "       [-1.57418766e-01],\n",
       "       [ 3.19379481e-01],\n",
       "       [ 3.00712777e-01],\n",
       "       [ 4.65937134e-03],\n",
       "       [ 5.19022569e-02],\n",
       "       [-3.95518226e-01],\n",
       "       [-6.22633689e-01],\n",
       "       [-5.57109958e-01],\n",
       "       [-3.98412679e-01],\n",
       "       [ 3.02173971e-01],\n",
       "       [-9.31924421e-03],\n",
       "       [ 6.66509528e-02],\n",
       "       [-2.56704098e-01],\n",
       "       [ 3.08086713e-01],\n",
       "       [-5.12504362e-01],\n",
       "       [-2.58067012e-01],\n",
       "       [ 2.04300314e-01],\n",
       "       [-3.16730241e-02],\n",
       "       [-2.35817015e-03],\n",
       "       [-3.43981810e-01],\n",
       "       [ 5.45588502e-03],\n",
       "       [-5.60546456e-02],\n",
       "       [ 3.48206403e-01],\n",
       "       [-3.54057750e-01],\n",
       "       [ 3.15127196e-02],\n",
       "       [ 1.39375308e-01],\n",
       "       [ 5.12643829e-02],\n",
       "       [-5.21401467e-01],\n",
       "       [-1.88313865e-01],\n",
       "       [-4.58613678e-01],\n",
       "       [-1.22672408e-01],\n",
       "       [ 2.03458688e-01],\n",
       "       [-5.77932317e-02],\n",
       "       [-1.24562582e-01],\n",
       "       [ 2.36433180e-01],\n",
       "       [-2.24763199e-01],\n",
       "       [-3.27417503e-01],\n",
       "       [-2.32474055e-01],\n",
       "       [ 6.71733006e-02],\n",
       "       [ 3.36668296e-01],\n",
       "       [ 1.10749148e-01],\n",
       "       [-5.08764035e-02],\n",
       "       [-3.42094296e-01],\n",
       "       [ 4.87138803e-01],\n",
       "       [-4.98322969e-02],\n",
       "       [ 3.13295693e-01],\n",
       "       [ 1.77815656e-01],\n",
       "       [-4.38419881e-01],\n",
       "       [ 1.59870579e-01],\n",
       "       [ 3.20928083e-01],\n",
       "       [-2.88634319e-01],\n",
       "       [-4.29207017e-01],\n",
       "       [-3.19489832e-01],\n",
       "       [ 8.58047267e-02],\n",
       "       [ 4.20622854e-01],\n",
       "       [-1.88796909e-01],\n",
       "       [-8.73322640e-02],\n",
       "       [ 5.10518686e-01],\n",
       "       [ 3.96154401e-01],\n",
       "       [ 2.29959784e-01],\n",
       "       [-5.22600505e-01],\n",
       "       [ 2.02988216e-01],\n",
       "       [ 2.66606490e-01],\n",
       "       [ 4.11508111e-01],\n",
       "       [ 2.87460738e-01],\n",
       "       [ 4.39763102e-01],\n",
       "       [-1.21486189e-01],\n",
       "       [ 2.56606633e-01],\n",
       "       [ 9.13695715e-02],\n",
       "       [-2.32372989e-01],\n",
       "       [ 3.65822817e-01],\n",
       "       [ 2.36643888e-01],\n",
       "       [ 1.99245244e-01],\n",
       "       [-1.45551138e-01],\n",
       "       [-4.08614545e-01],\n",
       "       [ 1.83781340e-01],\n",
       "       [-3.52570007e-01],\n",
       "       [ 2.80490080e-02],\n",
       "       [-1.24421590e-01],\n",
       "       [-2.78683677e-01],\n",
       "       [-4.36250357e-01],\n",
       "       [ 2.61060283e-02],\n",
       "       [-1.98130766e-03],\n",
       "       [-1.13872139e-01],\n",
       "       [ 1.97258749e-01],\n",
       "       [ 3.91524050e-01],\n",
       "       [-3.15521913e-01],\n",
       "       [-3.75235688e-01],\n",
       "       [-2.87754596e-01],\n",
       "       [-3.53150498e-01],\n",
       "       [-1.39736747e-01],\n",
       "       [ 3.49141241e-01],\n",
       "       [ 8.50139448e-02],\n",
       "       [ 3.05569947e-01],\n",
       "       [-5.69138541e-01],\n",
       "       [-7.73346288e-02],\n",
       "       [-4.34518440e-01],\n",
       "       [ 1.08962639e-01],\n",
       "       [-4.93420411e-01],\n",
       "       [ 3.43541060e-01],\n",
       "       [ 3.55205428e-01],\n",
       "       [-4.51272197e-01],\n",
       "       [-7.55937899e-02],\n",
       "       [ 2.88483210e-01],\n",
       "       [ 7.49488627e-02],\n",
       "       [-2.85477556e-01],\n",
       "       [ 3.70999157e-01],\n",
       "       [-2.51778028e-01],\n",
       "       [-2.27826022e-02],\n",
       "       [-1.54235970e-01],\n",
       "       [ 4.02525368e-01],\n",
       "       [-4.16723039e-01],\n",
       "       [-2.73502059e-01],\n",
       "       [-4.76269037e-01],\n",
       "       [-2.97067109e-01],\n",
       "       [ 2.41177460e-01],\n",
       "       [ 2.42526764e-01],\n",
       "       [ 1.57344384e-01],\n",
       "       [-4.05238278e-01],\n",
       "       [-2.61129742e-01],\n",
       "       [-3.82339730e-01],\n",
       "       [-3.51259484e-01],\n",
       "       [ 2.59501435e-01],\n",
       "       [-1.47159955e-01],\n",
       "       [-5.07276659e-01],\n",
       "       [-7.54713555e-03],\n",
       "       [ 1.04896183e-01],\n",
       "       [-1.66721301e-01],\n",
       "       [ 3.44724023e-02],\n",
       "       [ 9.38304956e-02],\n",
       "       [-4.10403427e-01],\n",
       "       [-3.66959648e-01],\n",
       "       [-2.19588170e-01],\n",
       "       [-4.47568501e-01],\n",
       "       [-1.19373846e-01],\n",
       "       [-5.06980103e-01],\n",
       "       [-2.78436146e-01],\n",
       "       [ 1.29570265e-01],\n",
       "       [ 1.50207264e-01],\n",
       "       [-5.82940786e-02],\n",
       "       [-1.87861644e-01],\n",
       "       [-3.65592093e-01],\n",
       "       [-3.23149398e-01],\n",
       "       [ 2.03338789e-01],\n",
       "       [ 3.28853025e-01],\n",
       "       [ 1.55998320e-02],\n",
       "       [-2.71360034e-01],\n",
       "       [-5.08544785e-01],\n",
       "       [ 5.52521889e-02],\n",
       "       [-4.69541084e-01],\n",
       "       [ 1.86597452e-01],\n",
       "       [ 5.15645514e-02],\n",
       "       [-1.70038602e-01],\n",
       "       [-2.46154392e-01],\n",
       "       [-3.65080677e-01],\n",
       "       [-2.87430634e-01],\n",
       "       [-4.84724717e-01],\n",
       "       [ 4.00018066e-01],\n",
       "       [ 3.00117752e-01],\n",
       "       [ 4.82200711e-01],\n",
       "       [-1.32555260e-01],\n",
       "       [-1.29190926e-01],\n",
       "       [ 3.78511082e-01],\n",
       "       [ 2.84780495e-01],\n",
       "       [ 3.29115750e-01],\n",
       "       [-1.71107437e-01],\n",
       "       [ 1.91261591e-01],\n",
       "       [-3.35855686e-01],\n",
       "       [-1.67026556e-01],\n",
       "       [-3.56549566e-01],\n",
       "       [ 2.42466616e-01],\n",
       "       [ 4.75819130e-01],\n",
       "       [ 1.03133566e-02],\n",
       "       [-2.56578562e-01],\n",
       "       [-4.91004469e-01],\n",
       "       [ 2.70812461e-01],\n",
       "       [-6.27121157e-01],\n",
       "       [-5.61698126e-01],\n",
       "       [ 2.34257559e-01],\n",
       "       [-1.07736684e-01],\n",
       "       [ 4.72090919e-02],\n",
       "       [ 3.06933761e-01],\n",
       "       [-1.33708785e-01],\n",
       "       [ 1.92387644e-01],\n",
       "       [-3.32082345e-01],\n",
       "       [ 2.42438867e-01],\n",
       "       [ 2.61289520e-01],\n",
       "       [-1.44816941e-01],\n",
       "       [ 2.03702873e-01],\n",
       "       [ 1.73233616e-01],\n",
       "       [-7.63748160e-02],\n",
       "       [-5.39552518e-01],\n",
       "       [-3.93167859e-01],\n",
       "       [-1.36959242e-01],\n",
       "       [ 1.53409469e-02],\n",
       "       [-5.69422037e-01],\n",
       "       [-5.70710417e-01],\n",
       "       [-4.26240394e-01],\n",
       "       [-2.60782179e-02],\n",
       "       [-3.42936844e-01],\n",
       "       [-1.08374159e-01],\n",
       "       [ 1.13180581e-01],\n",
       "       [ 4.35857096e-01],\n",
       "       [-4.73457196e-02],\n",
       "       [-1.41878664e-01],\n",
       "       [-2.53366938e-02],\n",
       "       [-3.82617468e-01],\n",
       "       [ 3.18297950e-01],\n",
       "       [-3.01753045e-01],\n",
       "       [ 3.66269238e-01],\n",
       "       [-3.92971661e-01],\n",
       "       [ 1.44465879e-01],\n",
       "       [-2.37103181e-01],\n",
       "       [-4.16725944e-01],\n",
       "       [ 4.01165721e-01],\n",
       "       [ 6.92503595e-02],\n",
       "       [-3.55563589e-01],\n",
       "       [ 3.28345027e-01],\n",
       "       [-1.36077015e-01],\n",
       "       [-2.78463784e-01],\n",
       "       [ 4.99524282e-02],\n",
       "       [-2.47260825e-02],\n",
       "       [-1.72407051e-01],\n",
       "       [-4.76905994e-01],\n",
       "       [ 1.43556001e-01],\n",
       "       [ 2.82387723e-01],\n",
       "       [ 1.06092892e-01],\n",
       "       [ 2.51797607e-01],\n",
       "       [ 2.58882303e-01],\n",
       "       [-3.60164275e-01],\n",
       "       [ 4.07337665e-01],\n",
       "       [-4.15182125e-01],\n",
       "       [-3.93178370e-02],\n",
       "       [ 4.90428499e-01],\n",
       "       [ 1.43984097e-01],\n",
       "       [-3.97727335e-01],\n",
       "       [-4.83057928e-01],\n",
       "       [ 7.87344346e-02],\n",
       "       [-4.17223969e-01],\n",
       "       [ 3.97527018e-01],\n",
       "       [ 1.16765108e-01],\n",
       "       [ 4.18273031e-01],\n",
       "       [-4.40052611e-01],\n",
       "       [-6.31356663e-02],\n",
       "       [ 2.08475330e-01],\n",
       "       [-1.61194350e-01],\n",
       "       [ 9.01278903e-02],\n",
       "       [-6.05983048e-02],\n",
       "       [-5.27853028e-02],\n",
       "       [ 8.42456409e-03],\n",
       "       [ 9.59951617e-02],\n",
       "       [ 6.72504681e-02],\n",
       "       [-1.33256570e-01],\n",
       "       [-2.85275826e-01],\n",
       "       [-4.51136517e-01],\n",
       "       [-4.13855417e-02],\n",
       "       [-1.78503853e-01],\n",
       "       [-3.30971101e-01],\n",
       "       [-2.04432274e-01],\n",
       "       [ 5.15103254e-01],\n",
       "       [ 4.71455134e-01],\n",
       "       [-1.66901986e-01],\n",
       "       [-2.81742314e-01],\n",
       "       [-2.86951664e-01],\n",
       "       [-6.62750980e-04],\n",
       "       [ 3.22838355e-01],\n",
       "       [-1.67992155e-01],\n",
       "       [-2.56265166e-01],\n",
       "       [ 3.17196606e-01],\n",
       "       [ 4.31709116e-01],\n",
       "       [ 4.31620886e-01],\n",
       "       [ 1.61749839e-01],\n",
       "       [ 1.31569108e-01],\n",
       "       [ 5.51228987e-01],\n",
       "       [-3.33041003e-01],\n",
       "       [ 6.88506356e-02],\n",
       "       [-2.22378937e-01],\n",
       "       [ 8.05296407e-03],\n",
       "       [ 4.15542852e-01],\n",
       "       [ 4.61104639e-01],\n",
       "       [-1.45776845e-01],\n",
       "       [ 1.71900447e-01],\n",
       "       [ 2.59655861e-01],\n",
       "       [ 2.14232903e-01],\n",
       "       [-3.14116142e-01],\n",
       "       [ 2.71816387e-01],\n",
       "       [ 1.88564028e-01],\n",
       "       [ 3.74370510e-01],\n",
       "       [-3.26331770e-02],\n",
       "       [ 2.55335311e-01],\n",
       "       [-1.43064946e-01],\n",
       "       [ 2.48183691e-01],\n",
       "       [-2.43030552e-01],\n",
       "       [-2.91967487e-01],\n",
       "       [-2.60906631e-01],\n",
       "       [-7.66126454e-02],\n",
       "       [ 3.13204741e-01],\n",
       "       [ 4.84822058e-01],\n",
       "       [-1.42346995e-01],\n",
       "       [ 2.71842573e-01],\n",
       "       [-2.85325496e-01],\n",
       "       [-1.30016986e-01],\n",
       "       [-2.55498013e-01],\n",
       "       [-2.74246770e-01],\n",
       "       [-4.12284214e-01],\n",
       "       [ 1.89564766e-01],\n",
       "       [-4.20037476e-01],\n",
       "       [-2.73482251e-02],\n",
       "       [ 3.72885074e-01],\n",
       "       [ 4.93212563e-01],\n",
       "       [-5.98729632e-02],\n",
       "       [ 3.41054730e-01],\n",
       "       [-4.36765336e-01],\n",
       "       [ 3.86014926e-02],\n",
       "       [-4.33832756e-01],\n",
       "       [ 1.53508937e-01],\n",
       "       [-3.39515056e-01],\n",
       "       [-4.02151111e-01],\n",
       "       [-2.02894369e-01],\n",
       "       [ 3.51940881e-01],\n",
       "       [-4.52777279e-01],\n",
       "       [ 2.94317173e-01],\n",
       "       [-1.92515862e-01],\n",
       "       [ 4.56473215e-02],\n",
       "       [-3.60561823e-01],\n",
       "       [ 1.65332673e-01],\n",
       "       [-3.83058604e-01],\n",
       "       [-2.94192167e-01],\n",
       "       [-3.42353262e-01],\n",
       "       [ 2.72624275e-01],\n",
       "       [ 3.50212920e-02],\n",
       "       [-8.59561288e-02],\n",
       "       [-4.37532750e-01],\n",
       "       [ 1.95055352e-01],\n",
       "       [-1.83116654e-01],\n",
       "       [ 3.77066187e-02],\n",
       "       [-3.05930504e-01],\n",
       "       [-4.88355901e-02],\n",
       "       [ 1.03036009e-01],\n",
       "       [-3.85441075e-01],\n",
       "       [-2.06640472e-01],\n",
       "       [ 2.86080376e-01],\n",
       "       [-5.27310772e-01],\n",
       "       [ 3.69870565e-02],\n",
       "       [ 2.41138226e-01],\n",
       "       [ 3.05700687e-01],\n",
       "       [ 2.64190416e-01],\n",
       "       [-4.66653362e-01],\n",
       "       [ 3.94582783e-02],\n",
       "       [ 1.76942913e-01],\n",
       "       [-1.25318627e-01],\n",
       "       [ 1.26956159e-01],\n",
       "       [-1.18474277e-01],\n",
       "       [-3.19726344e-01],\n",
       "       [ 2.97110733e-01],\n",
       "       [-1.12591358e-01],\n",
       "       [ 1.51216552e-01],\n",
       "       [-6.29645321e-01],\n",
       "       [-9.68945799e-04],\n",
       "       [-4.01537757e-01],\n",
       "       [ 2.21357109e-01],\n",
       "       [ 1.60752716e-01],\n",
       "       [ 1.82086513e-01],\n",
       "       [-3.38969408e-01],\n",
       "       [ 2.10370919e-01],\n",
       "       [-3.12826319e-01],\n",
       "       [-9.22991229e-02],\n",
       "       [-6.28510845e-01],\n",
       "       [ 3.43854698e-01],\n",
       "       [ 7.20628684e-02],\n",
       "       [ 3.17800757e-01],\n",
       "       [-1.29597529e-01],\n",
       "       [-5.68437789e-01],\n",
       "       [-3.52326435e-01],\n",
       "       [-5.23123232e-01],\n",
       "       [-2.18044579e-01],\n",
       "       [-2.13422296e-01],\n",
       "       [ 3.62554945e-01],\n",
       "       [ 2.35252801e-01],\n",
       "       [-2.13973228e-02],\n",
       "       [ 2.38063801e-01],\n",
       "       [-1.86063682e-01],\n",
       "       [-2.91803534e-01],\n",
       "       [-2.03159353e-01],\n",
       "       [ 3.33001203e-02],\n",
       "       [ 3.30575105e-01],\n",
       "       [ 2.74928201e-01],\n",
       "       [ 1.83303904e-01],\n",
       "       [-4.83579146e-01],\n",
       "       [-7.50190210e-02],\n",
       "       [ 8.11073583e-02],\n",
       "       [-4.62636477e-01],\n",
       "       [ 1.12289058e-01],\n",
       "       [-5.01900057e-01],\n",
       "       [-9.02498963e-02],\n",
       "       [-5.81121997e-01],\n",
       "       [-4.98273013e-01],\n",
       "       [-6.47908346e-02],\n",
       "       [-3.49368022e-01],\n",
       "       [-3.17830590e-01],\n",
       "       [ 1.99721471e-01],\n",
       "       [-4.44164874e-01],\n",
       "       [-5.23272711e-01],\n",
       "       [-1.55971040e-01],\n",
       "       [ 3.80557476e-02],\n",
       "       [-1.56606811e-02],\n",
       "       [ 1.74737479e-01],\n",
       "       [-1.11602705e-01],\n",
       "       [-6.14302840e-01],\n",
       "       [-1.23005820e-01],\n",
       "       [-4.68777174e-01],\n",
       "       [ 3.50574987e-01],\n",
       "       [ 8.95855494e-02],\n",
       "       [-2.30959777e-01],\n",
       "       [-2.42369544e-01],\n",
       "       [-5.39003490e-01],\n",
       "       [-3.68715913e-01],\n",
       "       [-2.35715166e-01],\n",
       "       [-4.37545279e-01],\n",
       "       [ 3.22957713e-01],\n",
       "       [-7.40621625e-02],\n",
       "       [ 1.79834106e-01],\n",
       "       [-3.16514316e-02],\n",
       "       [ 2.13618624e-01],\n",
       "       [-3.15558486e-01],\n",
       "       [-4.22602391e-01],\n",
       "       [-5.66375529e-01],\n",
       "       [-5.22046767e-01],\n",
       "       [-1.90006969e-01],\n",
       "       [ 1.22123518e-01],\n",
       "       [ 3.61484276e-01],\n",
       "       [-3.92119362e-01],\n",
       "       [ 3.03295549e-01],\n",
       "       [-4.18422587e-01],\n",
       "       [ 2.11869639e-01],\n",
       "       [-1.03633652e-02],\n",
       "       [-5.30804940e-01],\n",
       "       [ 1.41419737e-01],\n",
       "       [ 1.00182857e-01],\n",
       "       [ 2.14546970e-01],\n",
       "       [-9.68119891e-02],\n",
       "       [-5.34391188e-01],\n",
       "       [ 8.44989804e-03],\n",
       "       [-1.35166639e-01],\n",
       "       [ 1.60062636e-01],\n",
       "       [-5.32739597e-01],\n",
       "       [-9.18816976e-02],\n",
       "       [-4.80088275e-01],\n",
       "       [-2.36639236e-01],\n",
       "       [ 3.29064118e-01],\n",
       "       [ 3.84832034e-01],\n",
       "       [-5.70413463e-01],\n",
       "       [ 4.15707923e-01],\n",
       "       [ 2.41993419e-03],\n",
       "       [-2.08722053e-01],\n",
       "       [ 5.03725241e-01],\n",
       "       [ 3.42849485e-01],\n",
       "       [-1.19544526e-01],\n",
       "       [ 4.71030610e-01],\n",
       "       [-2.49099212e-01],\n",
       "       [-3.03585347e-01],\n",
       "       [-3.01020473e-01],\n",
       "       [ 2.30743642e-02],\n",
       "       [ 4.66372850e-01],\n",
       "       [ 2.20938126e-01],\n",
       "       [ 6.92205607e-02],\n",
       "       [-2.28821123e-01],\n",
       "       [-3.88486765e-01],\n",
       "       [ 3.60337534e-01],\n",
       "       [ 1.03511749e-02],\n",
       "       [-4.13811314e-01],\n",
       "       [ 1.24391013e-01],\n",
       "       [-4.68807608e-01],\n",
       "       [-7.97591077e-02],\n",
       "       [-2.62901722e-01],\n",
       "       [-3.04474733e-01],\n",
       "       [-2.29340694e-01],\n",
       "       [-1.49746227e-01],\n",
       "       [-2.68432838e-01],\n",
       "       [ 1.51580291e-01],\n",
       "       [-1.59198668e+00],\n",
       "       [-1.08741719e+00],\n",
       "       [-1.54133778e+00],\n",
       "       [-1.02379006e+00],\n",
       "       [-1.50421718e+00],\n",
       "       [-1.09147004e+00],\n",
       "       [-1.35180290e+00],\n",
       "       [-1.12308625e+00],\n",
       "       [-1.48777794e+00],\n",
       "       [-1.57362713e+00],\n",
       "       [-1.39400271e+00],\n",
       "       [-1.08250130e+00],\n",
       "       [-1.08209494e+00],\n",
       "       [-1.51817404e+00],\n",
       "       [-1.32449034e+00],\n",
       "       [-1.52476350e+00],\n",
       "       [-1.59183048e+00],\n",
       "       [-1.54761727e+00],\n",
       "       [-1.64845615e+00],\n",
       "       [-1.66274199e+00],\n",
       "       [-1.12446557e+00],\n",
       "       [-9.57093435e-01],\n",
       "       [-1.23039371e+00],\n",
       "       [-1.18895216e+00],\n",
       "       [-1.37311274e+00],\n",
       "       [-1.00238532e+00],\n",
       "       [-1.05734935e+00],\n",
       "       [-1.58163721e+00],\n",
       "       [-5.00343540e+01],\n",
       "       [-5.00599598e+01],\n",
       "       [-5.00559968e+01],\n",
       "       [-5.00277844e+01],\n",
       "       [-5.00713636e+01],\n",
       "       [-5.00555722e+01],\n",
       "       [-5.00180167e+01],\n",
       "       [-5.00747070e+01],\n",
       "       [-5.00703444e+01],\n",
       "       [-5.00799081e+01],\n",
       "       [-5.00250005e+01],\n",
       "       [-5.00840181e+01],\n",
       "       [-5.00895504e+01],\n",
       "       [-5.00161097e+01],\n",
       "       [-5.00423866e+01],\n",
       "       [-5.00024101e+01],\n",
       "       [-5.00751854e+01],\n",
       "       [-5.00939537e+01],\n",
       "       [-5.00426354e+01],\n",
       "       [-5.00274311e+01],\n",
       "       [-5.00304527e+01],\n",
       "       [-5.00676560e+01],\n",
       "       [-5.00158431e+01],\n",
       "       [-5.00540326e+01],\n",
       "       [-5.00880686e+01],\n",
       "       [-5.00724421e+01],\n",
       "       [-5.00868270e+01],\n",
       "       [-5.00554253e+01],\n",
       "       [-5.00194750e+01],\n",
       "       [-5.00086434e+01],\n",
       "       [-5.00541555e+01],\n",
       "       [-5.00774604e+01],\n",
       "       [-5.00376171e+01],\n",
       "       [-5.00124097e+01],\n",
       "       [-5.00308276e+01],\n",
       "       [-5.00368432e+01],\n",
       "       [-5.00629000e+01],\n",
       "       [-5.00935346e+01],\n",
       "       [-5.00483635e+01],\n",
       "       [-5.00711742e+01],\n",
       "       [-5.00045437e+01],\n",
       "       [-5.00505688e+01],\n",
       "       [-5.00856262e+01],\n",
       "       [-5.00193796e+01],\n",
       "       [-5.00084756e+01],\n",
       "       [-5.00865874e+01],\n",
       "       [-5.00683541e+01],\n",
       "       [-5.00827272e+01],\n",
       "       [-5.00346767e+01],\n",
       "       [-5.00792510e+01],\n",
       "       [-5.00470128e+01],\n",
       "       [-5.00650148e+01],\n",
       "       [-5.00748336e+01],\n",
       "       [-5.00422647e+01],\n",
       "       [-5.00540917e+01],\n",
       "       [-5.00829661e+01],\n",
       "       [-5.00168056e+01],\n",
       "       [-5.00045292e+01],\n",
       "       [-5.00772660e+01],\n",
       "       [-5.00446545e+01],\n",
       "       [-5.00047703e+01],\n",
       "       [-5.00658764e+01],\n",
       "       [-5.00092011e+01],\n",
       "       [-5.00027399e+01],\n",
       "       [-5.00669220e+01],\n",
       "       [-5.00059788e+01],\n",
       "       [-5.00106457e+01],\n",
       "       [-5.00271944e+01],\n",
       "       [-5.00870856e+01],\n",
       "       [-5.00532838e+01],\n",
       "       [-5.00239014e+01],\n",
       "       [-5.00549224e+01],\n",
       "       [-5.00869181e+01],\n",
       "       [-5.00393506e+01],\n",
       "       [-5.00138869e+01],\n",
       "       [-5.00896754e+01],\n",
       "       [-5.00642986e+01],\n",
       "       [-5.00728363e+01],\n",
       "       [-5.00360829e+01],\n",
       "       [-5.00380160e+01],\n",
       "       [-5.00518769e+01],\n",
       "       [-5.00065482e+01],\n",
       "       [-5.00488064e+01],\n",
       "       [-5.00507481e+01]])"
      ]
     },
     "execution_count": 434,
     "metadata": {},
     "output_type": "execute_result"
    }
   ],
   "source": [
    "weight1"
   ]
  },
  {
   "cell_type": "code",
   "execution_count": 435,
   "id": "deca7b1f",
   "metadata": {},
   "outputs": [
    {
     "data": {
      "text/plain": [
       "array([[0.18426752, 0.0055995 , 0.43310089],\n",
       "       [0.69673463, 0.16620032, 0.18304994],\n",
       "       [0.07902508, 0.75520992, 0.06524448],\n",
       "       [0.18779301, 0.8467679 , 0.33457082],\n",
       "       [0.96774502, 0.75180321, 0.39790293],\n",
       "       [0.93481916, 0.34812943, 0.30136077],\n",
       "       [0.15265258, 0.41757834, 0.66850454],\n",
       "       [0.09345877, 0.52029385, 0.25571534],\n",
       "       [0.76084862, 0.60627281, 0.6501333 ],\n",
       "       [0.59542938, 0.442602  , 0.59117718],\n",
       "       [0.58828593, 0.70355467, 0.16475938],\n",
       "       [0.65713871, 0.85542826, 0.44621163],\n",
       "       [0.74482648, 0.90100103, 0.26559933],\n",
       "       [0.63459972, 0.45317954, 0.27302694],\n",
       "       [0.68689987, 0.80625655, 0.64695772],\n",
       "       [0.47961919, 0.52808093, 0.50089423],\n",
       "       [0.97744539, 0.87390943, 0.57308821],\n",
       "       [0.55016717, 0.48108908, 0.42521595],\n",
       "       [0.35743393, 0.18067795, 0.49253454],\n",
       "       [0.46296862, 0.67735415, 0.86690632],\n",
       "       [0.33552374, 0.21273512, 0.23685095],\n",
       "       [0.61994701, 0.88799984, 0.2710703 ],\n",
       "       [0.74267205, 0.47376198, 0.02534769],\n",
       "       [0.56904889, 0.03552213, 0.85577939],\n",
       "       [0.61122594, 0.39214637, 0.26224886],\n",
       "       [0.31647004, 0.82809861, 0.61496747],\n",
       "       [0.00809775, 0.32029491, 0.38966683],\n",
       "       [0.56643798, 0.61390529, 0.07005865]])"
      ]
     },
     "execution_count": 435,
     "metadata": {},
     "output_type": "execute_result"
    }
   ],
   "source": [
    "weight2"
   ]
  },
  {
   "cell_type": "code",
   "execution_count": 436,
   "id": "3b7cf2ca",
   "metadata": {},
   "outputs": [],
   "source": [
    "# Finding the Values for the Digits\""
   ]
  },
  {
   "cell_type": "code",
   "execution_count": 437,
   "id": "99e2b742",
   "metadata": {},
   "outputs": [],
   "source": [
    "# results_0=printResults(X_train_filter_0,weight1)\n",
    "\n",
    "# results_1=printResults(X_train_filter_1,weight1)\n",
    "# results_2=printResults(X_train_filter_2,weight1)\n",
    "# results_3=printResults(X_train_filter_3,weight1)\n",
    "#results_4=printResults(X_train_filter_4,weight1)"
   ]
  },
  {
   "cell_type": "code",
   "execution_count": 438,
   "id": "8cccbd46",
   "metadata": {
    "scrolled": false
   },
   "outputs": [],
   "source": [
    "#weight1"
   ]
  },
  {
   "cell_type": "code",
   "execution_count": 439,
   "id": "7c0f2c7b",
   "metadata": {},
   "outputs": [],
   "source": [
    "results_0 , resultRow_0 = printResultsBlockIncludingAnotherLayer(X_train_filter_0,weight1,weight2)\n",
    "\n",
    "results_1 , resultRow_1 = printResultsBlockIncludingAnotherLayer(X_train_filter_1,weight1,weight2)\n",
    "results_2  , resultRow_2 = printResultsBlockIncludingAnotherLayer(X_train_filter_2,weight1,weight2)"
   ]
  },
  {
   "cell_type": "code",
   "execution_count": 440,
   "id": "d0064b78",
   "metadata": {},
   "outputs": [
    {
     "data": {
      "text/plain": [
       "5923"
      ]
     },
     "execution_count": 440,
     "metadata": {},
     "output_type": "execute_result"
    }
   ],
   "source": [
    "len(results_0)"
   ]
  },
  {
   "cell_type": "code",
   "execution_count": 441,
   "id": "64a679ef",
   "metadata": {},
   "outputs": [],
   "source": [
    "index1_results_0 = []\n",
    "for index in range(len(results_0)):\n",
    "    #print(results_0[index][0][0][1])\n",
    "    index1_results_0.append(results_0[index][0][0][1])"
   ]
  },
  {
   "cell_type": "code",
   "execution_count": 442,
   "id": "12d03a72",
   "metadata": {},
   "outputs": [],
   "source": [
    "def resultMax(result):\n",
    "    maxValue = []\n",
    "    for index in range(len(result)):\n",
    "        maxValue.append(max(result[index][0][0]))\n",
    "    return maxValue"
   ]
  },
  {
   "cell_type": "code",
   "execution_count": 443,
   "id": "b6d02574",
   "metadata": {},
   "outputs": [],
   "source": [
    "maxValue0 = resultMax(results_0)\n",
    "maxValue1 = resultMax(results_1)\n",
    "maxValue2 = resultMax(results_2)"
   ]
  },
  {
   "cell_type": "code",
   "execution_count": 444,
   "id": "1e4e66b5",
   "metadata": {},
   "outputs": [
    {
     "data": {
      "text/plain": [
       "[-3.5044292430627975,\n",
       " -3.9192122597197265,\n",
       " -4.479344364184392,\n",
       " -5.17812205475145,\n",
       " -7.370323479976664,\n",
       " -5.67700925974242,\n",
       " -7.612213774025573,\n",
       " -3.1409445867880335,\n",
       " -5.988941209836481,\n",
       " -6.4157602425416504,\n",
       " -5.676409670266665,\n",
       " -3.7215303648962266,\n",
       " -5.030808920066645,\n",
       " -2.872786879899337,\n",
       " -3.822595609458467,\n",
       " -1.633796635088773,\n",
       " -4.347185128187848,\n",
       " -3.609958019675983,\n",
       " -2.524444885300939,\n",
       " -4.076019490662833,\n",
       " -5.174179469167094,\n",
       " -4.635310865761753,\n",
       " -4.175416092086785,\n",
       " -2.0730187880612223,\n",
       " -2.7116569479207007,\n",
       " -3.4496505063845646,\n",
       " -1.9563630506837026,\n",
       " -3.2821737371062536,\n",
       " -3.087760475419645,\n",
       " -2.642068294876033,\n",
       " -2.088875931758458,\n",
       " -3.5132839440016816,\n",
       " -3.762548364085382,\n",
       " -3.984914752437122,\n",
       " -4.632863962504943,\n",
       " -2.5899236536566552,\n",
       " -2.455991130691256,\n",
       " -3.9376628325004455,\n",
       " -4.779734377701633,\n",
       " -4.959774413524431,\n",
       " -3.3169244300501495,\n",
       " -3.622521207658956,\n",
       " -3.9216144654413965,\n",
       " -3.606663515989379,\n",
       " -3.6776602827542493,\n",
       " -5.29119649294556,\n",
       " -4.7260788315285,\n",
       " -4.220516321063053,\n",
       " -3.317497074557027,\n",
       " -1.9742695547390812,\n",
       " -5.209699372449815,\n",
       " -3.3650516978687732,\n",
       " -4.156401797191218,\n",
       " -2.764217059973519,\n",
       " -4.341898983606852,\n",
       " -3.677157376558853,\n",
       " -4.355102491422657,\n",
       " -2.834826401099483,\n",
       " -5.341804361092922,\n",
       " -2.5334442858125845,\n",
       " -5.2325992945740705,\n",
       " -4.669414433877025,\n",
       " -4.827464054120434,\n",
       " -3.3724110869061366,\n",
       " -3.0526435935204637,\n",
       " -3.727330591987466,\n",
       " -5.262963525647869,\n",
       " -5.506791935337782,\n",
       " -5.113537590955189,\n",
       " -4.513180537450313,\n",
       " -3.7958852516036794,\n",
       " -3.859488784801875,\n",
       " -4.033369152241817,\n",
       " -4.735195970290227,\n",
       " -4.668418618640825,\n",
       " -2.244744713274751,\n",
       " -4.724996858880815,\n",
       " -4.061661366060955,\n",
       " -3.0458564583940495,\n",
       " -3.1921022641110364,\n",
       " -5.315064751261019,\n",
       " -5.891149044268303,\n",
       " -4.562911125746929,\n",
       " -4.120001043182731,\n",
       " -4.036682027927656,\n",
       " -4.299901050002363,\n",
       " -1.8287931106489992,\n",
       " -2.310664472101695,\n",
       " -5.473296590307287,\n",
       " -3.869359525736055,\n",
       " -4.609076285473044,\n",
       " -3.821731338987279,\n",
       " -3.2806370598905867,\n",
       " -3.007160886597365,\n",
       " -5.1589440241216336,\n",
       " -3.494513944612926,\n",
       " -4.553027732456403,\n",
       " -3.604794022745578,\n",
       " -3.0131270599802287,\n",
       " -3.5979808445799923,\n",
       " -2.9995034276539267,\n",
       " -3.1537374249814882,\n",
       " -4.319096935442671,\n",
       " -3.967942051125167,\n",
       " -2.8414942254135953,\n",
       " -4.355789632381452,\n",
       " -2.671535887535382,\n",
       " -1.8020042043157982,\n",
       " -2.9995821648083885,\n",
       " -2.103621124394133,\n",
       " -4.442077341700516,\n",
       " -1.8074594229078829,\n",
       " -3.4799920344979136,\n",
       " -2.7068214124154224,\n",
       " -1.5025929551668935,\n",
       " -4.904720928667488,\n",
       " -5.210950317102599,\n",
       " -4.638645561322817,\n",
       " -3.6473153700712317,\n",
       " -5.60033557097748,\n",
       " -3.8695796790677335,\n",
       " -2.9152717004647366,\n",
       " -5.022022178935464,\n",
       " -5.502934649911355,\n",
       " -3.49152090799356,\n",
       " -6.837838903842646,\n",
       " -3.949871271605624,\n",
       " -5.985548783440468,\n",
       " -6.702406652618541,\n",
       " -5.5457553480064625,\n",
       " -4.852304425763463,\n",
       " -4.3269507292777805,\n",
       " -4.046223395982238,\n",
       " -3.2897049768983924,\n",
       " -4.653389689652507,\n",
       " -4.050898721786772,\n",
       " -5.479106538062604,\n",
       " -4.006497239547968,\n",
       " -4.921642233788573,\n",
       " -5.659137390108064,\n",
       " -2.7333994892071956,\n",
       " -3.2691290225420313,\n",
       " -2.066301611348682,\n",
       " -5.0103179854850834,\n",
       " -2.1197704471212044,\n",
       " -5.335604617444205,\n",
       " -3.285026231977496,\n",
       " -5.074819709186306,\n",
       " -2.272324314158613,\n",
       " -4.09568282645306,\n",
       " -2.6966746526741634,\n",
       " -3.741677597805444,\n",
       " -3.40002663391342,\n",
       " -2.5071802457366044,\n",
       " -3.8816286892871945,\n",
       " -4.894192677704477,\n",
       " -4.060335208061517,\n",
       " -4.674787155379651,\n",
       " -4.3881444987195035,\n",
       " -3.47285738180283,\n",
       " -5.016897866275112,\n",
       " -4.552708546119859,\n",
       " -5.14337369406256,\n",
       " -3.3641272798491375,\n",
       " -2.810481969460361,\n",
       " -3.173317495255187,\n",
       " -2.4304223242447858,\n",
       " -2.09849489250509,\n",
       " -3.3183253778665422,\n",
       " -2.8258396266594232,\n",
       " -3.4589977946298487,\n",
       " -3.604218227290241,\n",
       " -3.1705970498408753,\n",
       " -4.988080089967213,\n",
       " -5.233784271957253,\n",
       " -4.640576861074507,\n",
       " -4.532411180971224,\n",
       " -0.7520013241400019,\n",
       " -4.444195790905484,\n",
       " -4.945491524158573,\n",
       " -0.7104366178001529,\n",
       " -5.5317310246577645,\n",
       " -2.3991000788504864,\n",
       " -4.84367452759527,\n",
       " -5.067912667598089,\n",
       " -2.1704471060821073,\n",
       " -4.908851779013711,\n",
       " -6.1328556891763455,\n",
       " -5.082550635988647,\n",
       " -5.120430469141094,\n",
       " -6.314498711850371,\n",
       " -6.384093858801399,\n",
       " -3.693337907632272,\n",
       " -4.025731895679811,\n",
       " -1.3915290501064805,\n",
       " -5.800559603006016,\n",
       " -6.164176958107867,\n",
       " -4.040287555616022,\n",
       " -4.577733540949132,\n",
       " -4.194152345938701,\n",
       " -4.9260444015894045,\n",
       " -2.9043952671413438,\n",
       " -5.132295951044993,\n",
       " -5.34580657755905,\n",
       " -4.108139183664895,\n",
       " -3.2265175795702166,\n",
       " -4.672926991205705,\n",
       " -2.264194940088069,\n",
       " -3.1324122260288028,\n",
       " -3.0963338150463486,\n",
       " -6.845560161729897,\n",
       " -3.5184641003394,\n",
       " -4.548528009767607,\n",
       " -3.802393983899799,\n",
       " -3.011976457017496,\n",
       " -4.057971432475217,\n",
       " -1.9054347933599682,\n",
       " -5.132286935203781,\n",
       " -2.8668009664244263,\n",
       " -4.255178721014899,\n",
       " -2.479232436753566,\n",
       " -3.5473708359151486,\n",
       " -3.369885179433288,\n",
       " -3.4446528729851233,\n",
       " -4.545541526167277,\n",
       " -3.773270463209657,\n",
       " -2.845770641800971,\n",
       " -4.614743737494006,\n",
       " -3.3238824048399955,\n",
       " -1.3583722925796902,\n",
       " -3.661583194436609,\n",
       " -4.362998001199308,\n",
       " -3.87478495500856,\n",
       " -5.081688567956745,\n",
       " -4.003768170308278,\n",
       " -4.783551736795981,\n",
       " -3.0485828976940166,\n",
       " -5.252969131271463,\n",
       " -3.5840131100497787,\n",
       " -2.0075633713396948,\n",
       " -5.898276039298484,\n",
       " -3.2821575877264415,\n",
       " -5.6602944258903936,\n",
       " -3.9949902099152603,\n",
       " -4.612998495247182,\n",
       " -3.7670030420668725,\n",
       " -4.275539028208506,\n",
       " -3.8867590893287733,\n",
       " -3.536444088822471,\n",
       " -2.6247807857566903,\n",
       " -6.02312892798832,\n",
       " -3.642829396309587,\n",
       " -4.947043754326427,\n",
       " -3.1496902112716154,\n",
       " -2.0762967227938858,\n",
       " -5.144110295908175,\n",
       " -3.7454225325071784,\n",
       " -2.336550280583268,\n",
       " -3.1132270500723718,\n",
       " -2.2811679027833183,\n",
       " -3.6010621789465556,\n",
       " -2.2387189844563733,\n",
       " -3.3731649307979668,\n",
       " -3.9236145801388274,\n",
       " -2.6260515207586446,\n",
       " -2.6805802515269113,\n",
       " -3.802878791116075,\n",
       " -1.764800886204208,\n",
       " -2.435101549749721,\n",
       " -2.5864675375282182,\n",
       " -5.23067719918449,\n",
       " -2.727555661260429,\n",
       " -1.719085980735166,\n",
       " -2.8261078273735785,\n",
       " -2.5303513955297006,\n",
       " -2.4684595714303037,\n",
       " -6.372795359852789,\n",
       " -5.304020091415297,\n",
       " -5.117867204978354,\n",
       " -4.305681966258654,\n",
       " -2.3623773558304735,\n",
       " -5.076713233731961,\n",
       " -4.774448653128801,\n",
       " -3.795886804514886,\n",
       " -2.8519198895526374,\n",
       " -2.6754455399296524,\n",
       " -4.3004754805778695,\n",
       " -3.9622969871073392,\n",
       " -6.936043894167088,\n",
       " -4.555620900068527,\n",
       " -2.4576065433100402,\n",
       " -3.5778519867773393,\n",
       " -3.3962668987435447,\n",
       " -3.5981889488296255,\n",
       " -5.045774453476945,\n",
       " -2.920775744140229,\n",
       " -4.127000276356535,\n",
       " -4.171926569447667,\n",
       " -2.639958064683593,\n",
       " -4.957225989759815,\n",
       " -3.3760888765386747,\n",
       " -4.059848340523128,\n",
       " -3.8337673438463566,\n",
       " -4.583822638063204,\n",
       " -4.330417169353623,\n",
       " -4.49632016033403,\n",
       " -5.341220841254212,\n",
       " -4.409692262552047,\n",
       " -3.539136402444087,\n",
       " -5.836017528465483,\n",
       " -4.950671099645447,\n",
       " -3.7104850439757535,\n",
       " -5.255619912586782,\n",
       " -4.714436384071807,\n",
       " -2.342858014141989,\n",
       " -5.226921013662702,\n",
       " -2.4088435978655225,\n",
       " -4.450142921636787,\n",
       " -5.151741554722029,\n",
       " -3.589814920718612,\n",
       " -2.1727169484354794,\n",
       " -5.49444274762158,\n",
       " -2.458687773927825,\n",
       " -4.786434577682735,\n",
       " -5.098614448895346,\n",
       " -2.4665659854964925,\n",
       " -2.1618990770527415,\n",
       " -5.481236269347237,\n",
       " -1.3346713359614673,\n",
       " -4.351264605412591,\n",
       " -5.341806486199331,\n",
       " -2.731736972734469,\n",
       " -3.9205553303746967,\n",
       " -4.100990846900759,\n",
       " -3.479675160317384,\n",
       " -3.78974789780689,\n",
       " -3.373218849054453,\n",
       " -2.829059098261851,\n",
       " -4.940937319378028,\n",
       " -6.117380243650324,\n",
       " -6.051264826584961,\n",
       " -59.79121679781255,\n",
       " -4.550139704430721,\n",
       " -4.040701343808645,\n",
       " -5.423619746557121,\n",
       " -3.649678249750684,\n",
       " -4.754417927419872,\n",
       " -2.869043763555138,\n",
       " -3.5650658494676803,\n",
       " -5.979236419733118,\n",
       " -3.8284195525673694,\n",
       " -52.406809664203,\n",
       " -2.1891693596456965,\n",
       " -6.0431728498901585,\n",
       " -3.0247904100446865,\n",
       " -3.7270100624763307,\n",
       " -3.874552950942214,\n",
       " -74.96623997656033,\n",
       " -1.5293193046682187,\n",
       " -2.8179561226065815,\n",
       " -4.977565030508569,\n",
       " -3.9293027258577355,\n",
       " -3.3837731227381256,\n",
       " -2.853595745808143,\n",
       " -4.812810752025317,\n",
       " -3.846463805431609,\n",
       " -3.234989438615647,\n",
       " -3.3275848201291924,\n",
       " -4.19474803642276,\n",
       " -1.8078861626543323,\n",
       " -2.153140149079896,\n",
       " -1.0836712005336617,\n",
       " -5.346762575823008,\n",
       " -2.3216071452435423,\n",
       " -3.101938262630027,\n",
       " -6.064022056118144,\n",
       " -1.9804904618598542,\n",
       " -1.7366669194081696,\n",
       " -2.2797273984735793,\n",
       " -4.631654804389282,\n",
       " -1.8730441681192622,\n",
       " -4.738859376463679,\n",
       " -5.300480772027246,\n",
       " -4.74683596089967,\n",
       " -4.318895309949972,\n",
       " -3.629113528661013,\n",
       " -3.778512427119674,\n",
       " -4.020755976131838,\n",
       " -3.9850137350512145,\n",
       " -1.4941205442294005,\n",
       " -5.620818214593025,\n",
       " -4.54369559673272,\n",
       " -2.1515083390083065,\n",
       " -5.0613370815080065,\n",
       " -3.6554510552880224,\n",
       " -5.895362983753732,\n",
       " -6.792202084987266,\n",
       " -4.759552851082086,\n",
       " -4.3117849396229575,\n",
       " -3.5560613262973293,\n",
       " -2.7262386212517673,\n",
       " -4.83277498793727,\n",
       " -4.604665268070502,\n",
       " -3.164423122017444,\n",
       " -5.913211547202017,\n",
       " -4.82527735895112,\n",
       " -1.6763491607405863,\n",
       " -5.591719636544592,\n",
       " -3.7081765620741804,\n",
       " -4.863165903239667,\n",
       " -2.7334126333703535,\n",
       " -5.4854299876602886,\n",
       " -5.2077941644809975,\n",
       " -4.659633641429933,\n",
       " -4.595235279671136,\n",
       " -3.4487710663908935,\n",
       " -4.049606607445853,\n",
       " -4.906950525206941,\n",
       " -2.677989769256532,\n",
       " -3.1510874696149074,\n",
       " -4.560485171054273,\n",
       " -2.202681170531702,\n",
       " -2.9681559558409005,\n",
       " -4.199703233892187,\n",
       " -4.138091761482695,\n",
       " -4.15318218614226,\n",
       " -5.2498151637999895,\n",
       " -2.4301024250501086,\n",
       " -3.1483256689381536,\n",
       " -3.2455684333090735,\n",
       " -4.968113009346115,\n",
       " -5.417415473840906,\n",
       " -3.0653593810040545,\n",
       " -3.995119729743502,\n",
       " -3.369594692897101,\n",
       " -4.985401691028893,\n",
       " -4.436526698935198,\n",
       " -6.529643962584254,\n",
       " -4.245341546977957,\n",
       " -3.7269116123293418,\n",
       " -2.7190422474772,\n",
       " -2.695898788627759,\n",
       " -5.214731741560081,\n",
       " -1.5643889492282057,\n",
       " -4.559773890944284,\n",
       " -5.049927306185555,\n",
       " -2.7148989075653356,\n",
       " -3.650735315459253,\n",
       " -2.853163038586698,\n",
       " -2.4101416503575392,\n",
       " -3.2442220618057243,\n",
       " -2.7877636577951144,\n",
       " -7.000879989371677,\n",
       " -3.9789486997656316,\n",
       " -2.9106599094630745,\n",
       " -4.110445829695086,\n",
       " -1.806517371437606,\n",
       " -2.8108978145841537,\n",
       " -3.8578942418713673,\n",
       " -3.8158279447875048,\n",
       " -6.272284575847384,\n",
       " -1.8958331037442493,\n",
       " -2.913331327564137,\n",
       " -3.887613754132463,\n",
       " -6.099323262832845,\n",
       " -2.9838174570882763,\n",
       " -3.9268624188753223,\n",
       " -2.774205400714605,\n",
       " -4.670063200915603,\n",
       " -4.174894270980715,\n",
       " -6.181616429069556,\n",
       " -2.828019588606498,\n",
       " -4.730666240683263,\n",
       " -3.101706318608188,\n",
       " -3.68890982445193,\n",
       " -1.500133885337737,\n",
       " -4.02363742368298,\n",
       " -4.946924288324866,\n",
       " -2.090360644954969,\n",
       " -3.3607428909252035,\n",
       " -4.061068092947928,\n",
       " -4.105290193346154,\n",
       " -3.424871288767982,\n",
       " -4.213162569046364,\n",
       " -1.3142574079303482,\n",
       " -3.7156093561670267,\n",
       " -3.8398782251527237,\n",
       " -3.1488583856351977,\n",
       " -2.4414792815384563,\n",
       " -3.525211504053096,\n",
       " -4.515921760221421,\n",
       " -4.898019741944313,\n",
       " -4.329599769147968,\n",
       " -5.181064160644285,\n",
       " -4.8627117160447675,\n",
       " -4.129670779821076,\n",
       " -2.550284997873788,\n",
       " -4.278194405174945,\n",
       " -5.020002424038515,\n",
       " -4.755844588566258,\n",
       " -5.2860294143210895,\n",
       " -4.615906667293381,\n",
       " -2.542744413501225,\n",
       " -2.1650470355942013,\n",
       " -1.8699698330972576,\n",
       " -5.798608099975225,\n",
       " -3.6607220090597905,\n",
       " -2.8364438810126793,\n",
       " -4.813850540053291,\n",
       " -5.290397329949771,\n",
       " -3.0858588666686684,\n",
       " -3.616334330998595,\n",
       " -4.737057711666481,\n",
       " -4.7811164603308915,\n",
       " -4.502427230610396,\n",
       " -4.810217871012493,\n",
       " -2.307417687930465,\n",
       " -0.9238150053213448,\n",
       " -5.063098859945277,\n",
       " -6.685871367038221,\n",
       " -4.213160967767011,\n",
       " -4.482105448313311,\n",
       " -5.102718895224,\n",
       " -4.366497964612378,\n",
       " -2.9476810523597696,\n",
       " -3.166583633356899,\n",
       " -4.680069489540127,\n",
       " -4.365455332766138,\n",
       " -3.933394385600066,\n",
       " -3.7024951034570983,\n",
       " -2.31879221753856,\n",
       " -5.178768367323818,\n",
       " -2.398334414474774,\n",
       " -0.11891688812244564,\n",
       " -5.75292529106471,\n",
       " -6.4233022246677836,\n",
       " -1.500710564246286,\n",
       " -5.6260660226989465,\n",
       " -5.033254532822994,\n",
       " -5.557672478879409,\n",
       " -1.9585232259448133,\n",
       " -2.6287353812887275,\n",
       " -5.062201011453398,\n",
       " -3.9411238437636436,\n",
       " -1.5444262421980879,\n",
       " -7.657338629146308,\n",
       " -5.1058607694374025,\n",
       " -7.320578396514134,\n",
       " -5.121726946360881,\n",
       " -4.764823774404594,\n",
       " -3.6650442183068943,\n",
       " -0.5262017202050215,\n",
       " -3.7694077651113256,\n",
       " -1.6702157580678398,\n",
       " -5.916549878287751,\n",
       " -3.8506064629298944,\n",
       " -5.520770081787307,\n",
       " -5.501601984245439,\n",
       " -4.16817567316355,\n",
       " -5.685411638862091,\n",
       " -6.320745905429219,\n",
       " -3.6011962258142036,\n",
       " -4.2710438432962725,\n",
       " -4.353236413159912,\n",
       " -3.849084808797959,\n",
       " -5.206398582269479,\n",
       " -5.611249084110717,\n",
       " -2.957523969476719,\n",
       " -4.776093176566753,\n",
       " -4.2691110989451655,\n",
       " -4.548094016030142,\n",
       " -3.817226811892049,\n",
       " -3.9466998433721865,\n",
       " -4.880751236705494,\n",
       " -3.2516745350783607,\n",
       " -3.3461747845231193,\n",
       " -4.841498966293585,\n",
       " -2.477733874264643,\n",
       " -4.539262650181695,\n",
       " -3.749377668281601,\n",
       " -4.126543393921415,\n",
       " -2.130018899045739,\n",
       " -2.1605399899385698,\n",
       " -3.9386499765108125,\n",
       " -3.467453194620037,\n",
       " -3.1244624341481777,\n",
       " -3.5629447531748206,\n",
       " -2.598241934613666,\n",
       " -5.064242702742071,\n",
       " -4.453877309326767,\n",
       " -2.9714378288908256,\n",
       " -4.803561617123856,\n",
       " -4.397541392013714,\n",
       " -1.7796427200773266,\n",
       " -5.145625981601958,\n",
       " -3.274219947441317,\n",
       " -5.4256111550700235,\n",
       " -4.891628555783777,\n",
       " -3.4742429667040415,\n",
       " -1.510481380537063,\n",
       " -3.5837415520287195,\n",
       " -6.3185650490490985,\n",
       " -4.674429989763586,\n",
       " -5.060846586332591,\n",
       " -5.027507252424073,\n",
       " -5.045326237315276,\n",
       " -4.013048532284569,\n",
       " -4.089083772795134,\n",
       " -3.75594443926016,\n",
       " -3.523340025375113,\n",
       " -4.238234011656022,\n",
       " -4.8440025128662105,\n",
       " -3.2663250362028644,\n",
       " -2.4486543095334423,\n",
       " -1.6535674787186494,\n",
       " -3.0384020491241044,\n",
       " -2.8040716230010942,\n",
       " -2.2632807711632106,\n",
       " -4.574600872805308,\n",
       " -1.682734056622324,\n",
       " -2.5168674045344948,\n",
       " -4.047304001040105,\n",
       " -3.200197844137201,\n",
       " -4.788609910767315,\n",
       " -4.644349890718554,\n",
       " -4.510586711712253,\n",
       " -4.7979596765307955,\n",
       " -4.787989421327967,\n",
       " -4.1635508126002705,\n",
       " -0.8721920363810002,\n",
       " -5.56355161531128,\n",
       " -4.123856057739278,\n",
       " -1.6621994405956437,\n",
       " -2.966055096081128,\n",
       " -3.968416500644933,\n",
       " -3.4497373974023127,\n",
       " -3.9141898658755223,\n",
       " -3.5357848240211824,\n",
       " -1.6847305679556712,\n",
       " -3.4154725303361624,\n",
       " -2.8741585630497193,\n",
       " -4.2206190267380315,\n",
       " -4.333854405839341,\n",
       " -4.507007681215336,\n",
       " -4.660677277371608,\n",
       " -4.393881165662938,\n",
       " -4.200396819291306,\n",
       " -4.4130023402994984,\n",
       " -3.363833020204591,\n",
       " -5.341445530981623,\n",
       " -3.342923646562848,\n",
       " -4.375315347146332,\n",
       " -1.6167453746683575,\n",
       " -2.05767155115187,\n",
       " -3.718303724718885,\n",
       " -4.226254999638258,\n",
       " -4.59469938761708,\n",
       " -3.997841773144993,\n",
       " -4.877450800764294,\n",
       " -1.936035353310727,\n",
       " -2.4238295282828837,\n",
       " -2.27242224582179,\n",
       " -1.875519774454561,\n",
       " -2.3638066128548294,\n",
       " -4.325589190936349,\n",
       " -2.350776950072235,\n",
       " -2.769653379156843,\n",
       " -4.925193368340471,\n",
       " -4.377751597220204,\n",
       " -3.412658148988622,\n",
       " -2.810494410856945,\n",
       " -3.0500993639592755,\n",
       " -4.1005880081553,\n",
       " -3.09308552144876,\n",
       " -4.86198276915949,\n",
       " -5.8877507668408935,\n",
       " -3.621709416426848,\n",
       " -77.1488665377457,\n",
       " -4.369373920301968,\n",
       " -3.4852783746476397,\n",
       " -4.495451875745488,\n",
       " -1.6713533953522401,\n",
       " -3.5317152593553343,\n",
       " -80.43856497333984,\n",
       " -6.385769684489255,\n",
       " -5.30257872879967,\n",
       " -4.389650924094981,\n",
       " -5.224864938441643,\n",
       " -59.06097167479278,\n",
       " -4.812539942447735,\n",
       " -6.6101800319815665,\n",
       " -5.407597301074798,\n",
       " -3.925650116567346,\n",
       " -3.6092752132508474,\n",
       " -5.018624569115157,\n",
       " -4.7923164281558135,\n",
       " -2.4958898536646736,\n",
       " -7.069284313687381,\n",
       " -2.284180691303529,\n",
       " -3.061849634944059,\n",
       " -4.081169423579141,\n",
       " -2.3382300445106172,\n",
       " -1.8119618845321603,\n",
       " -3.35722243813526,\n",
       " -5.086809994793011,\n",
       " -3.5947620776253593,\n",
       " -3.6865867745510172,\n",
       " -3.4116141739523242,\n",
       " -4.522713268987089,\n",
       " -3.6541650112602175,\n",
       " -2.9570359818022456,\n",
       " -3.730749669386956,\n",
       " -3.675385497914103,\n",
       " -4.116025677421067,\n",
       " -5.030452859294669,\n",
       " -2.0883684758293533,\n",
       " -3.490065628928478,\n",
       " -4.71041572130063,\n",
       " -4.798214741463242,\n",
       " -4.063046084302386,\n",
       " -5.53028405921445,\n",
       " -2.111222815550751,\n",
       " -4.498855527541204,\n",
       " -3.2689026261492145,\n",
       " -4.2679798020223085,\n",
       " -3.981611938330674,\n",
       " -3.0336060528731834,\n",
       " -3.073103666027983,\n",
       " -4.1152591898118756,\n",
       " -3.0879300678809027,\n",
       " -2.4014447316255234,\n",
       " -3.1071181542430657,\n",
       " -3.9273021267471346,\n",
       " -3.471292194810695,\n",
       " -3.7496280321083524,\n",
       " -5.498861668750072,\n",
       " -3.0057810340751305,\n",
       " -3.6243229140280535,\n",
       " -3.4698145416505013,\n",
       " -2.5515808477620396,\n",
       " -4.474822772244141,\n",
       " -2.3889926091773424,\n",
       " -2.7063317318840068,\n",
       " -2.3092176401801097,\n",
       " -1.848928148630545,\n",
       " -3.5164934798908756,\n",
       " -3.4320165547300086,\n",
       " -3.4375191653763704,\n",
       " -4.165864564540492,\n",
       " -2.420997879009348,\n",
       " -5.9385600419440205,\n",
       " -2.223674495044438,\n",
       " -1.4744511457535514,\n",
       " -1.8604990845572416,\n",
       " -6.157619812495713,\n",
       " -5.936725647964559,\n",
       " -5.436392560496171,\n",
       " -2.7449345254438295,\n",
       " -4.009746204922548,\n",
       " -4.378354296162126,\n",
       " -5.119462731039721,\n",
       " -5.607608756939365,\n",
       " -4.239476927655012,\n",
       " -2.5388121005695408,\n",
       " -4.530899678998982,\n",
       " -2.694448740209576,\n",
       " -3.1441646638746565,\n",
       " -4.268287770270521,\n",
       " -3.5339707079707057,\n",
       " -4.432812525688922,\n",
       " -5.40700518114494,\n",
       " -3.4296095238535917,\n",
       " -3.7085608942785377,\n",
       " -4.638853536799013,\n",
       " -3.2047518310342844,\n",
       " -3.621790461598913,\n",
       " -3.061638670689863,\n",
       " -2.8602406500189193,\n",
       " -5.0846441127562105,\n",
       " -5.2292240257242035,\n",
       " -5.810724098494368,\n",
       " -4.648858247543588,\n",
       " -5.360841150528013,\n",
       " -3.6053822926414614,\n",
       " -4.512894400485388,\n",
       " -3.946446295646428,\n",
       " -4.56635061539407,\n",
       " -0.9720394683642772,\n",
       " -3.5613761831675714,\n",
       " -3.246579060317504,\n",
       " -2.981264215345501,\n",
       " -5.333536611935143,\n",
       " -3.2858990765416927,\n",
       " -4.871632210691948,\n",
       " -5.8655455570398845,\n",
       " -4.84676548697845,\n",
       " -5.941095969540994,\n",
       " -2.676566350622963,\n",
       " -4.233202235757298,\n",
       " -5.458692361914703,\n",
       " -2.914485145502969,\n",
       " -2.730989339966901,\n",
       " -2.3696435002541043,\n",
       " -3.4360496424542037,\n",
       " -5.1139323710856,\n",
       " -6.000736540053276,\n",
       " 0.03670152854186292,\n",
       " -3.4378341226620237,\n",
       " -6.740908235146545,\n",
       " -1.6508933394474263,\n",
       " -5.3618971091601395,\n",
       " -3.51807001748152,\n",
       " -2.0699309182050794,\n",
       " -3.8764592832434803,\n",
       " -1.5882505326243492,\n",
       " -2.7612579507462263,\n",
       " -4.5858123499980685,\n",
       " -3.9117410441957707,\n",
       " -4.2307716341290424,\n",
       " -3.4536881862301123,\n",
       " -4.3366055345623735,\n",
       " -4.5008501429144205,\n",
       " -2.5981303635007187,\n",
       " -3.7263878522257907,\n",
       " -2.0170791545503692,\n",
       " -2.5720250705333876,\n",
       " -6.179232970413555,\n",
       " -0.5624184306387883,\n",
       " -5.2923020222472275,\n",
       " -3.9045628511276638,\n",
       " -4.162634327355339,\n",
       " -2.3957688454956534,\n",
       " -1.078719572273648,\n",
       " -4.207052997621701,\n",
       " -2.585213421709632,\n",
       " -2.038915967987539,\n",
       " -5.164699373042365,\n",
       " -3.607801966156271,\n",
       " -5.371192069831215,\n",
       " -5.901200873552528,\n",
       " -5.575531478264153,\n",
       " -3.8974524922011122,\n",
       " -6.050469979748644,\n",
       " -4.514123488682321,\n",
       " -4.931399413160596,\n",
       " -6.295982723252592,\n",
       " -3.806947840865786,\n",
       " -18.482220899119184,\n",
       " -4.681392294968249,\n",
       " -2.6509684440099512,\n",
       " -5.822001526944158,\n",
       " -5.763007403472202,\n",
       " -7.000439473588182,\n",
       " -5.731076373536919,\n",
       " -5.993054273680199,\n",
       " -5.871068906750366,\n",
       " -1.876918576092177,\n",
       " -5.762857370035775,\n",
       " -3.7665606474870845,\n",
       " -5.4924914008538,\n",
       " -6.701643652465219,\n",
       " -4.359511803055117,\n",
       " -7.014002640221474,\n",
       " -4.992872761078463,\n",
       " -5.209315369499841,\n",
       " -2.722978592128181,\n",
       " -6.547255009300295,\n",
       " -4.8427296216349385,\n",
       " -3.8022134770621228,\n",
       " -2.832629340769132,\n",
       " -6.615392466538632,\n",
       " -1.5094424238259112,\n",
       " -3.2883624348790286,\n",
       " -2.4720057945561944,\n",
       " -3.6653587578273927,\n",
       " -3.403669569560031,\n",
       " -3.6431616734037524,\n",
       " -5.510273231234737,\n",
       " -2.2960981990840463,\n",
       " -5.0121905624598755,\n",
       " -4.516453261870628,\n",
       " -3.655831382057835,\n",
       " -3.6809098693531657,\n",
       " -2.7422923981786638,\n",
       " -2.456379989234714,\n",
       " -4.015933291005691,\n",
       " -3.3492700168132856,\n",
       " -3.9883228521005196,\n",
       " -4.258601643630797,\n",
       " -4.966099329773959,\n",
       " -2.109309687993123,\n",
       " -3.9085933090364158,\n",
       " -2.6534842447597824,\n",
       " -2.0373199452501436,\n",
       " -3.8902688033000543,\n",
       " -0.5847786721327278,\n",
       " -2.531819720240221,\n",
       " -2.9601748405826154,\n",
       " -3.766905987016501,\n",
       " -3.4350339948096793,\n",
       " -0.6088886942526195,\n",
       " -3.9449370139332243,\n",
       " -6.550582181890823,\n",
       " -28.92161637655119,\n",
       " -5.9547786055252905,\n",
       " -4.152918575999163,\n",
       " -4.0626548272352325,\n",
       " -4.235686949380938,\n",
       " -2.703472381563111,\n",
       " -1.955120287784892,\n",
       " -3.520983151760433,\n",
       " -3.778890079215888,\n",
       " -5.04342368221851,\n",
       " -3.6627919245114793,\n",
       " -3.478299913408565,\n",
       " -1.6840391227346465,\n",
       " -4.3144102456845985,\n",
       " -4.718207744639782,\n",
       " -5.047362742993581,\n",
       " -3.0693310941335037,\n",
       " -4.050550594245696,\n",
       " -2.2787748872366764,\n",
       " -3.5348364597820563,\n",
       " -6.401828304741772,\n",
       " -1.9264269472035973,\n",
       " -3.78921767592958,\n",
       " -3.1415140163548534,\n",
       " -2.6310125021611834,\n",
       " -4.5892284856883885,\n",
       " -5.715413225738163,\n",
       " -2.2748338551717633,\n",
       " -4.69081799303046,\n",
       " -4.422947614813549,\n",
       " -4.872771529017128,\n",
       " -2.3986005251246567,\n",
       " -5.105346808969987,\n",
       " -3.85046328728062,\n",
       " -2.809146334876018,\n",
       " -3.1874509480988813,\n",
       " -2.2183547693072687,\n",
       " -3.2802263268095855,\n",
       " -5.2979576851431,\n",
       " -4.537410736185856,\n",
       " -6.94370897619492,\n",
       " -2.0677337305541434,\n",
       " -3.0773335045849812,\n",
       " -3.676150623070082,\n",
       " -2.787939907132415,\n",
       " -5.3306851683883885,\n",
       " -6.085526049016477,\n",
       " -4.465116232391458,\n",
       " -3.6402664951000823,\n",
       " -4.612083314909496,\n",
       " -2.8096604353726677,\n",
       " -3.5807361030277134,\n",
       " -4.449617465236415,\n",
       " -3.281134623196239,\n",
       " -3.0448815689397626,\n",
       " -4.648130377692552,\n",
       " -1.3285139436936508,\n",
       " -5.5196571923699125,\n",
       " -4.3049937045050095,\n",
       " -2.8760106069393196,\n",
       " -4.657925718172293,\n",
       " -3.293925503231987,\n",
       " -3.9365042915058224,\n",
       " -4.732563588676253,\n",
       " -4.3594279230662965,\n",
       " -3.5067863223852638,\n",
       " -3.3491691137507718,\n",
       " -3.4271807902567475,\n",
       " -3.0601190973062695,\n",
       " -5.198089771899702,\n",
       " -3.1264012746246834,\n",
       " -2.190057609379403,\n",
       " -5.951403074595655,\n",
       " -2.4495449580124284,\n",
       " -2.5878711317852834,\n",
       " -3.5206260506979383,\n",
       " -2.3772933101606584,\n",
       " -3.525368115998047,\n",
       " -3.580906887954339,\n",
       " -3.7824812694397116,\n",
       " -3.4438456350694766,\n",
       " -4.08398013853309,\n",
       " -2.1830916639134412,\n",
       " -3.279009490953554,\n",
       " -3.0595699826484095,\n",
       " -2.989073678401715,\n",
       " -3.2338189833624984,\n",
       " -4.860460585824474,\n",
       " -2.5682393392755416,\n",
       " -4.446456857385612,\n",
       " -3.280658574070728,\n",
       " -4.610336533533144,\n",
       " -3.8820777972139346,\n",
       " -1.8555323012301341,\n",
       " -2.40107995042997,\n",
       " -5.591829682301203,\n",
       " -1.7492496790205991,\n",
       " ...]"
      ]
     },
     "execution_count": 444,
     "metadata": {},
     "output_type": "execute_result"
    }
   ],
   "source": [
    "maxValue0"
   ]
  },
  {
   "cell_type": "code",
   "execution_count": 327,
   "id": "f4bcfd45",
   "metadata": {},
   "outputs": [
    {
     "data": {
      "text/plain": [
       "[<matplotlib.lines.Line2D at 0x2c4b0a520>]"
      ]
     },
     "execution_count": 327,
     "metadata": {},
     "output_type": "execute_result"
    },
    {
     "data": {
      "image/png": "[encoded data removed]",
      "text/plain": [
       "<Figure size 640x480 with 1 Axes>"
      ]
     },
     "metadata": {},
     "output_type": "display_data"
    }
   ],
   "source": [
    "# maxValue0 = np.array(maxValue0)\n",
    "# maxValue0 = maxValue0.reshape(-1,5923)\n",
    "plt.plot(maxValue0)"
   ]
  },
  {
   "cell_type": "code",
   "execution_count": 328,
   "id": "c1a3c6ee",
   "metadata": {},
   "outputs": [
    {
     "data": {
      "text/plain": [
       "[<matplotlib.lines.Line2D at 0x2c48108e0>]"
      ]
     },
     "execution_count": 328,
     "metadata": {},
     "output_type": "execute_result"
    },
    {
     "data": {
      "image/png": "[encoded data removed]",
      "text/plain": [
       "<Figure size 640x480 with 1 Axes>"
      ]
     },
     "metadata": {},
     "output_type": "display_data"
    }
   ],
   "source": [
    "plt.plot(maxValue1)"
   ]
  },
  {
   "cell_type": "code",
   "execution_count": 329,
   "id": "4221ec84",
   "metadata": {},
   "outputs": [
    {
     "data": {
      "text/plain": [
       "[<matplotlib.lines.Line2D at 0x2c576c430>]"
      ]
     },
     "execution_count": 329,
     "metadata": {},
     "output_type": "execute_result"
    },
    {
     "data": {
      "image/png": "[encoded data removed]",
      "text/plain": [
       "<Figure size 640x480 with 1 Axes>"
      ]
     },
     "metadata": {},
     "output_type": "display_data"
    }
   ],
   "source": [
    "plt.plot(maxValue2)"
   ]
  },
  {
   "cell_type": "code",
   "execution_count": 266,
   "id": "26d352eb",
   "metadata": {},
   "outputs": [
    {
     "data": {
      "text/plain": [
       "[<matplotlib.lines.Line2D at 0x29a98c580>]"
      ]
     },
     "execution_count": 266,
     "metadata": {},
     "output_type": "execute_result"
    },
    {
     "data": {
      "image/png": "[encoded data removed]",
      "text/plain": [
       "<Figure size 640x480 with 1 Axes>"
      ]
     },
     "metadata": {},
     "output_type": "display_data"
    }
   ],
   "source": [
    "plt.plot(index1_results_0)"
   ]
  },
  {
   "cell_type": "code",
   "execution_count": 330,
   "id": "058433d9",
   "metadata": {},
   "outputs": [],
   "source": [
    "resultSum_0 = maxValue0\n",
    "resultSum_1 = maxValue1\n",
    "resultSum_2 = maxValue2"
   ]
  },
  {
   "cell_type": "code",
   "execution_count": 267,
   "id": "5d9b70f5",
   "metadata": {},
   "outputs": [
    {
     "data": {
      "text/plain": [
       "(1, 3)"
      ]
     },
     "execution_count": 267,
     "metadata": {},
     "output_type": "execute_result"
    }
   ],
   "source": [
    "results_0[0][0].shape"
   ]
  },
  {
   "cell_type": "code",
   "execution_count": null,
   "id": "8391bb34",
   "metadata": {},
   "outputs": [],
   "source": []
  },
  {
   "cell_type": "code",
   "execution_count": 268,
   "id": "e2300336",
   "metadata": {},
   "outputs": [
    {
     "data": {
      "text/plain": [
       "array([[[ -8.30049652, -11.60981595,  -9.6689546 ]]])"
      ]
     },
     "execution_count": 268,
     "metadata": {},
     "output_type": "execute_result"
    }
   ],
   "source": [
    "results_0[0]"
   ]
  },
  {
   "cell_type": "code",
   "execution_count": 269,
   "id": "1ba481ef",
   "metadata": {},
   "outputs": [
    {
     "data": {
      "text/plain": [
       "-11.609815954470603"
      ]
     },
     "execution_count": 269,
     "metadata": {},
     "output_type": "execute_result"
    }
   ],
   "source": [
    "results_0[0][0][0][1]"
   ]
  },
  {
   "cell_type": "code",
   "execution_count": 270,
   "id": "3e180bb8",
   "metadata": {},
   "outputs": [
    {
     "data": {
      "text/plain": [
       "array([[[-2.97095777, -5.05354842, -2.61352763]]])"
      ]
     },
     "execution_count": 270,
     "metadata": {},
     "output_type": "execute_result"
    }
   ],
   "source": [
    "results_1[1]"
   ]
  },
  {
   "cell_type": "code",
   "execution_count": 271,
   "id": "965f17c8",
   "metadata": {},
   "outputs": [
    {
     "data": {
      "text/plain": [
       "-5.053548419825815"
      ]
     },
     "execution_count": 271,
     "metadata": {},
     "output_type": "execute_result"
    }
   ],
   "source": [
    "results_1[1][0][0][1]"
   ]
  },
  {
   "cell_type": "code",
   "execution_count": 272,
   "id": "54bdb4dd",
   "metadata": {},
   "outputs": [
    {
     "data": {
      "text/plain": [
       "-9.608197478423572"
      ]
     },
     "execution_count": 272,
     "metadata": {},
     "output_type": "execute_result"
    }
   ],
   "source": [
    "results_1[0][0][0][1]"
   ]
  },
  {
   "cell_type": "code",
   "execution_count": 273,
   "id": "4d54177c",
   "metadata": {},
   "outputs": [
    {
     "data": {
      "text/plain": [
       "array([[[ -6.83806595, -11.17104491,  -8.95886187]]])"
      ]
     },
     "execution_count": 273,
     "metadata": {},
     "output_type": "execute_result"
    }
   ],
   "source": [
    "results_2[0]"
   ]
  },
  {
   "cell_type": "code",
   "execution_count": 274,
   "id": "d1a202cd",
   "metadata": {},
   "outputs": [
    {
     "data": {
      "text/plain": [
       "array([[[-9.98793388, -9.60819748, -7.56046268]]])"
      ]
     },
     "execution_count": 274,
     "metadata": {},
     "output_type": "execute_result"
    }
   ],
   "source": [
    "results_1[0]"
   ]
  },
  {
   "cell_type": "code",
   "execution_count": 275,
   "id": "f8f7b32b",
   "metadata": {},
   "outputs": [
    {
     "data": {
      "text/plain": [
       "array([[[ 0.        ]],\n",
       "\n",
       "       [[ 0.        ]],\n",
       "\n",
       "       [[ 0.        ]],\n",
       "\n",
       "       [[-0.76816308]],\n",
       "\n",
       "       [[-1.26163324]],\n",
       "\n",
       "       [[-0.81085336]],\n",
       "\n",
       "       [[ 0.14439374]],\n",
       "\n",
       "       [[ 0.610247  ]],\n",
       "\n",
       "       [[-0.09148648]],\n",
       "\n",
       "       [[-0.94534647]],\n",
       "\n",
       "       [[-0.82057833]],\n",
       "\n",
       "       [[-0.49878106]],\n",
       "\n",
       "       [[-0.79807789]],\n",
       "\n",
       "       [[-0.82918499]],\n",
       "\n",
       "       [[-0.87011203]],\n",
       "\n",
       "       [[-1.01000581]],\n",
       "\n",
       "       [[-0.552414  ]],\n",
       "\n",
       "       [[-2.20249363]],\n",
       "\n",
       "       [[-2.30540837]],\n",
       "\n",
       "       [[-1.81105029]],\n",
       "\n",
       "       [[-1.08941695]],\n",
       "\n",
       "       [[ 0.32256796]],\n",
       "\n",
       "       [[-0.02805558]],\n",
       "\n",
       "       [[ 0.        ]],\n",
       "\n",
       "       [[ 0.        ]],\n",
       "\n",
       "       [[ 0.        ]],\n",
       "\n",
       "       [[ 0.        ]],\n",
       "\n",
       "       [[ 0.        ]]])"
      ]
     },
     "execution_count": 275,
     "metadata": {},
     "output_type": "execute_result"
    }
   ],
   "source": [
    "resultRow_2"
   ]
  },
  {
   "cell_type": "code",
   "execution_count": 276,
   "id": "da6b0d71",
   "metadata": {
    "scrolled": false
   },
   "outputs": [
    {
     "data": {
      "text/plain": [
       "array([[[ -8.30049652, -11.60981595,  -9.6689546 ]]])"
      ]
     },
     "execution_count": 276,
     "metadata": {},
     "output_type": "execute_result"
    }
   ],
   "source": [
    "results_0[0]"
   ]
  },
  {
   "cell_type": "code",
   "execution_count": 277,
   "id": "3eb3f865",
   "metadata": {},
   "outputs": [
    {
     "data": {
      "text/plain": [
       "array([[[ 0.        ]],\n",
       "\n",
       "       [[ 0.        ]],\n",
       "\n",
       "       [[ 0.        ]],\n",
       "\n",
       "       [[ 0.        ]],\n",
       "\n",
       "       [[-0.70488852]],\n",
       "\n",
       "       [[-1.12650653]],\n",
       "\n",
       "       [[-0.96662391]],\n",
       "\n",
       "       [[ 0.36615084]],\n",
       "\n",
       "       [[-0.19813079]],\n",
       "\n",
       "       [[-0.93170753]],\n",
       "\n",
       "       [[-1.21326502]],\n",
       "\n",
       "       [[-2.42095711]],\n",
       "\n",
       "       [[-0.0147042 ]],\n",
       "\n",
       "       [[-1.09585906]],\n",
       "\n",
       "       [[-1.72830531]],\n",
       "\n",
       "       [[-1.65417004]],\n",
       "\n",
       "       [[-0.36825633]],\n",
       "\n",
       "       [[-0.93238744]],\n",
       "\n",
       "       [[-0.75029742]],\n",
       "\n",
       "       [[-1.86533582]],\n",
       "\n",
       "       [[-1.11037886]],\n",
       "\n",
       "       [[-0.32256171]],\n",
       "\n",
       "       [[-1.18090054]],\n",
       "\n",
       "       [[-0.85697357]],\n",
       "\n",
       "       [[ 0.        ]],\n",
       "\n",
       "       [[ 0.        ]],\n",
       "\n",
       "       [[ 0.        ]],\n",
       "\n",
       "       [[ 0.        ]]])"
      ]
     },
     "execution_count": 277,
     "metadata": {},
     "output_type": "execute_result"
    }
   ],
   "source": [
    "resultRow_0"
   ]
  },
  {
   "cell_type": "code",
   "execution_count": 278,
   "id": "57c85d91",
   "metadata": {},
   "outputs": [
    {
     "data": {
      "text/plain": [
       "array([[[ 0.        ]],\n",
       "\n",
       "       [[ 0.        ]],\n",
       "\n",
       "       [[ 0.        ]],\n",
       "\n",
       "       [[ 0.        ]],\n",
       "\n",
       "       [[ 0.        ]],\n",
       "\n",
       "       [[ 0.06555576]],\n",
       "\n",
       "       [[-0.30563285]],\n",
       "\n",
       "       [[-0.1469632 ]],\n",
       "\n",
       "       [[-0.53680486]],\n",
       "\n",
       "       [[-0.63264686]],\n",
       "\n",
       "       [[-0.42351406]],\n",
       "\n",
       "       [[-0.46760072]],\n",
       "\n",
       "       [[-0.81806711]],\n",
       "\n",
       "       [[-0.09144958]],\n",
       "\n",
       "       [[-0.45119334]],\n",
       "\n",
       "       [[-0.30387651]],\n",
       "\n",
       "       [[-0.7678757 ]],\n",
       "\n",
       "       [[-0.69886273]],\n",
       "\n",
       "       [[-0.59294714]],\n",
       "\n",
       "       [[-0.59348864]],\n",
       "\n",
       "       [[-0.57156719]],\n",
       "\n",
       "       [[ 0.21651323]],\n",
       "\n",
       "       [[-0.65703139]],\n",
       "\n",
       "       [[-0.9439336 ]],\n",
       "\n",
       "       [[-2.10489311]],\n",
       "\n",
       "       [[ 0.        ]],\n",
       "\n",
       "       [[ 0.        ]],\n",
       "\n",
       "       [[ 0.        ]]])"
      ]
     },
     "execution_count": 278,
     "metadata": {},
     "output_type": "execute_result"
    }
   ],
   "source": [
    "resultRow_1"
   ]
  },
  {
   "cell_type": "code",
   "execution_count": 279,
   "id": "5391b374",
   "metadata": {},
   "outputs": [
    {
     "data": {
      "text/plain": [
       "array([[[-9.98793388, -9.60819748, -7.56046268]]])"
      ]
     },
     "execution_count": 279,
     "metadata": {},
     "output_type": "execute_result"
    }
   ],
   "source": [
    "results_1[0]"
   ]
  },
  {
   "cell_type": "code",
   "execution_count": 280,
   "id": "02d9ff26",
   "metadata": {},
   "outputs": [
    {
     "data": {
      "text/plain": [
       "[<matplotlib.lines.Line2D at 0x2bc749370>]"
      ]
     },
     "execution_count": 280,
     "metadata": {},
     "output_type": "execute_result"
    },
    {
     "data": {
      "image/png": "[encoded data removed]",
      "text/plain": [
       "<Figure size 640x480 with 1 Axes>"
      ]
     },
     "metadata": {},
     "output_type": "display_data"
    }
   ],
   "source": [
    "plt.plot(weight1)"
   ]
  },
  {
   "cell_type": "code",
   "execution_count": 281,
   "id": "c52dc580",
   "metadata": {},
   "outputs": [],
   "source": [
    "results_0 , resultSum_0 =printResultsBlock(X_train_filter_0,weight1)\n",
    "\n",
    "results_1 , resultSum_1 =printResultsBlock(X_train_filter_1,weight1)\n",
    "results_2 , resultSum_2 =printResultsBlock(X_train_filter_2,weight1)"
   ]
  },
  {
   "cell_type": "code",
   "execution_count": 282,
   "id": "07ee26b9",
   "metadata": {},
   "outputs": [
    {
     "data": {
      "text/plain": [
       "112"
      ]
     },
     "execution_count": 282,
     "metadata": {},
     "output_type": "execute_result"
    }
   ],
   "source": [
    "len(results_0[0])"
   ]
  },
  {
   "cell_type": "code",
   "execution_count": 283,
   "id": "e4b70a3d",
   "metadata": {},
   "outputs": [],
   "source": [
    "def findMaxNode(result):\n",
    "    max_ = 0\n",
    "    indices = []\n",
    "    ansMode = []\n",
    "    for images in result:\n",
    "        max_index = -1\n",
    "        max_ = 0\n",
    "        for index in range(28):\n",
    "            if(images[index] > max_):\n",
    "                max_ = images[index]\n",
    "                max_index = index\n",
    "        \n",
    "        indices.append(max_index)\n",
    "        \n",
    "    data = Counter(indices)\n",
    "    mode = statistics.mode(indices)\n",
    "    return data,indices,mode"
   ]
  },
  {
   "cell_type": "code",
   "execution_count": 284,
   "id": "d3b1121e",
   "metadata": {},
   "outputs": [],
   "source": [
    "data_0 , indices_0 , mode_0 = findMaxNode(results_0)\n",
    "data_1 , indices_1 , mode_1 = findMaxNode(results_1)\n",
    "data_2 , indices_2 , mode_2 = findMaxNode(results_2)"
   ]
  },
  {
   "cell_type": "code",
   "execution_count": 285,
   "id": "3ad90003",
   "metadata": {},
   "outputs": [
    {
     "data": {
      "text/plain": [
       "Counter({26: 2385,\n",
       "         18: 69,\n",
       "         27: 380,\n",
       "         21: 1145,\n",
       "         17: 352,\n",
       "         23: 875,\n",
       "         -1: 659,\n",
       "         22: 20,\n",
       "         24: 31,\n",
       "         20: 1,\n",
       "         25: 3,\n",
       "         19: 3})"
      ]
     },
     "execution_count": 285,
     "metadata": {},
     "output_type": "execute_result"
    }
   ],
   "source": [
    "data_0"
   ]
  },
  {
   "cell_type": "code",
   "execution_count": 286,
   "id": "177cb0f3",
   "metadata": {},
   "outputs": [
    {
     "data": {
      "text/plain": [
       "26"
      ]
     },
     "execution_count": 286,
     "metadata": {},
     "output_type": "execute_result"
    }
   ],
   "source": [
    "mode_0"
   ]
  },
  {
   "cell_type": "code",
   "execution_count": 287,
   "id": "0f3c30e9",
   "metadata": {},
   "outputs": [
    {
     "data": {
      "text/plain": [
       "Counter({23: 696,\n",
       "         26: 3563,\n",
       "         21: 235,\n",
       "         27: 77,\n",
       "         -1: 1604,\n",
       "         24: 10,\n",
       "         18: 376,\n",
       "         22: 84,\n",
       "         17: 87,\n",
       "         20: 4,\n",
       "         19: 5,\n",
       "         25: 1})"
      ]
     },
     "execution_count": 287,
     "metadata": {},
     "output_type": "execute_result"
    }
   ],
   "source": [
    "data_1"
   ]
  },
  {
   "cell_type": "code",
   "execution_count": 288,
   "id": "972c0647",
   "metadata": {},
   "outputs": [
    {
     "data": {
      "text/plain": [
       "26"
      ]
     },
     "execution_count": 288,
     "metadata": {},
     "output_type": "execute_result"
    }
   ],
   "source": [
    "mode_1"
   ]
  },
  {
   "cell_type": "code",
   "execution_count": 289,
   "id": "5795306b",
   "metadata": {},
   "outputs": [
    {
     "data": {
      "text/plain": [
       "Counter({-1: 482,\n",
       "         26: 2700,\n",
       "         17: 1229,\n",
       "         24: 267,\n",
       "         27: 114,\n",
       "         23: 338,\n",
       "         21: 761,\n",
       "         20: 23,\n",
       "         18: 26,\n",
       "         22: 13,\n",
       "         25: 4,\n",
       "         19: 1})"
      ]
     },
     "execution_count": 289,
     "metadata": {},
     "output_type": "execute_result"
    }
   ],
   "source": [
    "data_2"
   ]
  },
  {
   "cell_type": "code",
   "execution_count": 290,
   "id": "f9ff8aa5",
   "metadata": {},
   "outputs": [
    {
     "data": {
      "text/plain": [
       "26"
      ]
     },
     "execution_count": 290,
     "metadata": {},
     "output_type": "execute_result"
    }
   ],
   "source": [
    "mode_2"
   ]
  },
  {
   "cell_type": "code",
   "execution_count": 97,
   "id": "44229641",
   "metadata": {},
   "outputs": [],
   "source": [
    "#st.t.interval(alpha=0.95, df=len(data)-1, loc=np.mean(data), scale=st.sem(data))\n",
    "#do this and maximum val and then go with variations"
   ]
  },
  {
   "cell_type": "code",
   "execution_count": 98,
   "id": "0d1d593b",
   "metadata": {},
   "outputs": [],
   "source": [
    "#results_0=printResultsBlock(X_train_filter_0,weight1)\n",
    "#results_1=printResultsBlock(X_train_filter_1,weight1)\n",
    "#results_2=printResultsBlock(X_train_filter_2,weight1)\n",
    "# results_3=printResultsBlock(X_train_filter_3,weight1)\n",
    "# results_4=printResultsBlock(X_train_filter_4,weight1)"
   ]
  },
  {
   "cell_type": "code",
   "execution_count": 1608,
   "id": "c578039c",
   "metadata": {},
   "outputs": [],
   "source": [
    "#results_0"
   ]
  },
  {
   "cell_type": "code",
   "execution_count": 1609,
   "id": "9a54997d",
   "metadata": {},
   "outputs": [],
   "source": [
    "#results_1"
   ]
  },
  {
   "cell_type": "code",
   "execution_count": 1610,
   "id": "53866c24",
   "metadata": {},
   "outputs": [],
   "source": [
    "#results_2"
   ]
  },
  {
   "cell_type": "code",
   "execution_count": 1611,
   "id": "a35c8176",
   "metadata": {},
   "outputs": [],
   "source": [
    "#results_3"
   ]
  },
  {
   "cell_type": "code",
   "execution_count": 445,
   "id": "a395b19a",
   "metadata": {},
   "outputs": [],
   "source": [
    "meanOfTrainingData_0 = []\n",
    "medianOfTrainingData_0 = []\n",
    "for index in range(len(resultSum_0)):\n",
    "    meanOfTrainingData_0.append(np.mean(resultSum_0[index]))\n",
    "    medianOfTrainingData_0.append(np.median(resultSum_0[index]))\n",
    "    trainingMeanValue_0 = np.mean(medianOfTrainingData_0)"
   ]
  },
  {
   "cell_type": "code",
   "execution_count": 446,
   "id": "faea5f23",
   "metadata": {},
   "outputs": [],
   "source": [
    "meanOfTrainingData_1 = []\n",
    "medianOfTrainingData_1 = []\n",
    "for index in range(len(resultSum_1)):\n",
    "    meanOfTrainingData_1.append(np.mean(resultSum_1[index]))\n",
    "    medianOfTrainingData_1.append(np.median(resultSum_1[index]))\n",
    "    trainingMeanValue_1 = np.mean(medianOfTrainingData_1)"
   ]
  },
  {
   "cell_type": "code",
   "execution_count": 447,
   "id": "1741cefb",
   "metadata": {},
   "outputs": [],
   "source": [
    "meanOfTrainingData_2 = []\n",
    "medianOfTrainingData_2 = []\n",
    "for index in range(len(resultSum_2)):\n",
    "    meanOfTrainingData_2.append(np.mean(resultSum_2[index]))\n",
    "    medianOfTrainingData_2.append(np.median(resultSum_2[index]))\n",
    "    trainingMeanValue_2 = np.mean(medianOfTrainingData_2)"
   ]
  },
  {
   "cell_type": "code",
   "execution_count": 448,
   "id": "503622f9",
   "metadata": {},
   "outputs": [],
   "source": [
    "# meanOfTrainingData_3 = []\n",
    "# medianOfTrainingData_3 = []\n",
    "# for index in range(len(results_3)):\n",
    "#     meanOfTrainingData_3.append(np.mean(results_3[index]))\n",
    "#     medianOfTrainingData_3.append(np.median(results_3[index]))\n",
    "#     trainingMeanValue_3 = np.mean(medianOfTrainingData_3)"
   ]
  },
  {
   "cell_type": "code",
   "execution_count": 449,
   "id": "a265f102",
   "metadata": {},
   "outputs": [],
   "source": [
    "# meanOfTrainingData_4 = []\n",
    "# medianOfTrainingData_4 = []\n",
    "# for index in range(len(results_4)):\n",
    "#     meanOfTrainingData_4.append(np.mean(results_4[index]))\n",
    "#     medianOfTrainingData_4.append(np.median(results_4[index]))\n",
    "#     trainingMeanValue_4 = np.mean(medianOfTrainingData_4)"
   ]
  },
  {
   "cell_type": "code",
   "execution_count": 450,
   "id": "71b300cc",
   "metadata": {},
   "outputs": [
    {
     "data": {
      "text/plain": [
       "-9.372710565137238"
      ]
     },
     "execution_count": 450,
     "metadata": {},
     "output_type": "execute_result"
    }
   ],
   "source": [
    "trainingMeanValue_0"
   ]
  },
  {
   "cell_type": "code",
   "execution_count": 451,
   "id": "29bd0005",
   "metadata": {},
   "outputs": [
    {
     "data": {
      "text/plain": [
       "-4.447624211691775"
      ]
     },
     "execution_count": 451,
     "metadata": {},
     "output_type": "execute_result"
    }
   ],
   "source": [
    "trainingMeanValue_1"
   ]
  },
  {
   "cell_type": "code",
   "execution_count": 452,
   "id": "d3d614d1",
   "metadata": {},
   "outputs": [
    {
     "data": {
      "text/plain": [
       "-10.142375406346115"
      ]
     },
     "execution_count": 452,
     "metadata": {},
     "output_type": "execute_result"
    }
   ],
   "source": [
    "trainingMeanValue_2"
   ]
  },
  {
   "cell_type": "code",
   "execution_count": 453,
   "id": "590c983c",
   "metadata": {},
   "outputs": [],
   "source": [
    "# trainingMeanValue_3"
   ]
  },
  {
   "cell_type": "code",
   "execution_count": 454,
   "id": "da89ffc7",
   "metadata": {},
   "outputs": [],
   "source": [
    "# trainingMeanValue_4"
   ]
  },
  {
   "cell_type": "code",
   "execution_count": 455,
   "id": "c209828c",
   "metadata": {},
   "outputs": [],
   "source": [
    "outputTrainingValues = np.array([trainingMeanValue_0,trainingMeanValue_1,trainingMeanValue_2])#,trainingMeanValue_3,trainingMeanValue_4])"
   ]
  },
  {
   "cell_type": "code",
   "execution_count": 456,
   "id": "67783900",
   "metadata": {},
   "outputs": [],
   "source": [
    "outputTrainingValuesMax = np.array([9,10,17])"
   ]
  },
  {
   "cell_type": "code",
   "execution_count": 457,
   "id": "8728faf9",
   "metadata": {},
   "outputs": [],
   "source": [
    "# Prediction"
   ]
  },
  {
   "cell_type": "code",
   "execution_count": 458,
   "id": "5bd0676d",
   "metadata": {},
   "outputs": [],
   "source": [
    "def prediction(data,finalWeight):\n",
    "        predict = []\n",
    "        for item in data:\n",
    "            item = flattenInput(item)\n",
    "            res = np.dot(item.T,finalWeight)\n",
    "            res = np.median(res)\n",
    "            distance = np.abs(outputTrainingValues - res)\n",
    "            predict.append(np.argmin(distance))\n",
    "        return predict"
   ]
  },
  {
   "cell_type": "code",
   "execution_count": 459,
   "id": "c09f4c0d",
   "metadata": {},
   "outputs": [],
   "source": [
    "def predictionBlocks(data,finalWeight):\n",
    "        predict = []\n",
    "        for item in data:\n",
    "            item = flattenInput(item)\n",
    "            res = np.dot(item.T,finalWeight)\n",
    "            distance = np.abs(outputTrainingValues - res)\n",
    "            predict.append(np.argmin(distance))\n",
    "        return predict"
   ]
  },
  {
   "cell_type": "code",
   "execution_count": null,
   "id": "5540122e",
   "metadata": {},
   "outputs": [],
   "source": []
  },
  {
   "cell_type": "code",
   "execution_count": 460,
   "id": "18203ede",
   "metadata": {},
   "outputs": [],
   "source": [
    "def predictionMax(data,finalWeight):\n",
    "        predict = []\n",
    "        results, resultSum = printResultsBlockIncludingAnotherLayer(data,weight1 , weight2)\n",
    "        #data_ , indices_ , mode_ = findMaxNode(results)\n",
    "        predictMax = []\n",
    "        combinedPred = []\n",
    "        for index in range(len(results)):\n",
    "            #print(resultSum[index])\n",
    "            #print(indices_[index])\n",
    "            distance = np.abs(outputTrainingValues - results[index])\n",
    "            #distanceMax = np.abs(outputTrainingValuesMax - indices_[index]) \n",
    "            \n",
    "            predict.append(np.argmin(distance))\n",
    "            #predictMax.append(np.argmin(distanceMax))\n",
    "            \n",
    "            \n",
    "            #print(predictDist)\n",
    "            #if indices_[index] == 21:\n",
    "            #    predictMax.append(0)\n",
    "            #elif indices_[index] == 6:\n",
    "            #    predictMax.append(1)\n",
    "            #elif indices_[index] == 19:\n",
    "            #    predictMax.append(2)\n",
    "            \n",
    "           \n",
    "                #predict.append(0)\n",
    "                #if predictDist == 0 and predictMode == 1:\n",
    "                #    predict.append(0)\n",
    "                #elif predictDist == 1 and predictMode == 1:\n",
    "                #    predict.append(1)\n",
    "                #elif predictDist == 2 and predictMode == 1:\n",
    "                #    predict.append(2)\n",
    "        return predict , predictMax"
   ]
  },
  {
   "cell_type": "code",
   "execution_count": 461,
   "id": "4b7f8be3",
   "metadata": {},
   "outputs": [],
   "source": [
    "#pred = predictionBlocks(X_test_filter ,weight1)"
   ]
  },
  {
   "cell_type": "code",
   "execution_count": 462,
   "id": "bb67979a",
   "metadata": {},
   "outputs": [],
   "source": [
    "#pred = prediction(X_test_filter ,weight1)"
   ]
  },
  {
   "cell_type": "code",
   "execution_count": 463,
   "id": "ff6ab04d",
   "metadata": {},
   "outputs": [],
   "source": [
    "pred , predictMax =  predictionMax(X_test_filter,weight1)"
   ]
  },
  {
   "cell_type": "code",
   "execution_count": 464,
   "id": "5a2588c4",
   "metadata": {},
   "outputs": [
    {
     "data": {
      "text/plain": [
       "array([0, 1, 2])"
      ]
     },
     "execution_count": 464,
     "metadata": {},
     "output_type": "execute_result"
    }
   ],
   "source": [
    "np.unique(pred)"
   ]
  },
  {
   "cell_type": "code",
   "execution_count": 465,
   "id": "f7a7e622",
   "metadata": {},
   "outputs": [
    {
     "data": {
      "text/plain": [
       "array([], dtype=float64)"
      ]
     },
     "execution_count": 465,
     "metadata": {},
     "output_type": "execute_result"
    }
   ],
   "source": [
    "np.unique(predictMax)"
   ]
  },
  {
   "cell_type": "code",
   "execution_count": 466,
   "id": "2bfbb8fd",
   "metadata": {},
   "outputs": [
    {
     "data": {
      "text/plain": [
       "array([0, 1, 2], dtype=uint8)"
      ]
     },
     "execution_count": 466,
     "metadata": {},
     "output_type": "execute_result"
    }
   ],
   "source": [
    "np.unique(Y_test_filter)"
   ]
  },
  {
   "cell_type": "code",
   "execution_count": 467,
   "id": "e09674f0",
   "metadata": {},
   "outputs": [],
   "source": [
    "def compute_accuracy(y_true, y_pred):\n",
    "    correct_predictions = 0\n",
    "    accuracy = 0\n",
    "    for true, predicted in zip(y_true, y_pred):\n",
    "        if true == predicted:\n",
    "            correct_predictions += 1\n",
    "            accuracy = correct_predictions/len(y_true)\n",
    "    return accuracy"
   ]
  },
  {
   "cell_type": "code",
   "execution_count": 468,
   "id": "e3465ff0",
   "metadata": {},
   "outputs": [],
   "source": [
    "acc = compute_accuracy(Y_test_filter,pred)"
   ]
  },
  {
   "cell_type": "code",
   "execution_count": 469,
   "id": "92eadc36",
   "metadata": {},
   "outputs": [
    {
     "data": {
      "text/plain": [
       "0.4559898315856371"
      ]
     },
     "execution_count": 469,
     "metadata": {},
     "output_type": "execute_result"
    }
   ],
   "source": [
    "acc"
   ]
  },
  {
   "cell_type": "code",
   "execution_count": 470,
   "id": "b9062810",
   "metadata": {},
   "outputs": [],
   "source": [
    "acc = compute_accuracy(Y_test_filter,predictMax)"
   ]
  },
  {
   "cell_type": "code",
   "execution_count": 471,
   "id": "1837a06b",
   "metadata": {},
   "outputs": [
    {
     "data": {
      "text/plain": [
       "0"
      ]
     },
     "execution_count": 471,
     "metadata": {},
     "output_type": "execute_result"
    }
   ],
   "source": [
    "acc"
   ]
  },
  {
   "cell_type": "markdown",
   "id": "7bb8639d",
   "metadata": {},
   "source": [
    "# Calculating Individual Accuracies"
   ]
  },
  {
   "cell_type": "code",
   "execution_count": 472,
   "id": "b997e66d",
   "metadata": {},
   "outputs": [],
   "source": [
    "def prediction_0(X, w):\n",
    "    result = []\n",
    "    res = printResultsBlock(X,w)\n",
    "    indices = findMaxNode(res)\n",
    "    \n",
    "    for info in indices:\n",
    "        if info == 8:\n",
    "            result.append(0)\n",
    "        else:\n",
    "            result.append(-1)\n",
    "    \n",
    "    return result\n",
    "        "
   ]
  },
  {
   "cell_type": "code",
   "execution_count": 473,
   "id": "34a5a2e5",
   "metadata": {},
   "outputs": [],
   "source": [
    "pred_for_0 , predMax_0 = predictionMax(X_test_filter_0 ,weight1)"
   ]
  },
  {
   "cell_type": "code",
   "execution_count": 474,
   "id": "dc813ecf",
   "metadata": {},
   "outputs": [],
   "source": [
    "acc_0 = compute_accuracy(Y_test_filter_0,predMax_0)"
   ]
  },
  {
   "cell_type": "code",
   "execution_count": 475,
   "id": "73d1cfe5",
   "metadata": {},
   "outputs": [
    {
     "data": {
      "text/plain": [
       "0"
      ]
     },
     "execution_count": 475,
     "metadata": {},
     "output_type": "execute_result"
    }
   ],
   "source": [
    "acc_0"
   ]
  },
  {
   "cell_type": "code",
   "execution_count": 476,
   "id": "b9f58c24",
   "metadata": {},
   "outputs": [],
   "source": [
    "pred_for_1 , predMax_1= predictionMax(X_test_filter_1 ,weight1)"
   ]
  },
  {
   "cell_type": "code",
   "execution_count": 477,
   "id": "77354fd3",
   "metadata": {},
   "outputs": [],
   "source": [
    "acc_1 = compute_accuracy(Y_test_filter_1,predMax_1)"
   ]
  },
  {
   "cell_type": "code",
   "execution_count": 478,
   "id": "32382ba3",
   "metadata": {},
   "outputs": [
    {
     "data": {
      "text/plain": [
       "0"
      ]
     },
     "execution_count": 478,
     "metadata": {},
     "output_type": "execute_result"
    }
   ],
   "source": [
    "acc_1"
   ]
  },
  {
   "cell_type": "code",
   "execution_count": 479,
   "id": "06bd8941",
   "metadata": {},
   "outputs": [],
   "source": [
    "pred_for_2 , predMax_2 = predictionMax(X_test_filter_2,weight1)"
   ]
  },
  {
   "cell_type": "code",
   "execution_count": 480,
   "id": "e9d1edba",
   "metadata": {},
   "outputs": [],
   "source": [
    "acc_2 = compute_accuracy(Y_test_filter_2,predMax_2)"
   ]
  },
  {
   "cell_type": "code",
   "execution_count": 481,
   "id": "edabbc61",
   "metadata": {},
   "outputs": [
    {
     "data": {
      "text/plain": [
       "0"
      ]
     },
     "execution_count": 481,
     "metadata": {},
     "output_type": "execute_result"
    }
   ],
   "source": [
    "acc_2"
   ]
  },
  {
   "cell_type": "code",
   "execution_count": 482,
   "id": "4e2e9705",
   "metadata": {},
   "outputs": [],
   "source": [
    "#pred_for_3 = prediction(X_test_filter_3,weight1)"
   ]
  },
  {
   "cell_type": "code",
   "execution_count": 483,
   "id": "170c2442",
   "metadata": {},
   "outputs": [],
   "source": [
    "#acc_3 = compute_accuracy(Y_test_filter_3,pred_for_3)"
   ]
  },
  {
   "cell_type": "code",
   "execution_count": 484,
   "id": "655a4add",
   "metadata": {},
   "outputs": [],
   "source": [
    "#acc_3"
   ]
  },
  {
   "cell_type": "code",
   "execution_count": 485,
   "id": "c67c985c",
   "metadata": {},
   "outputs": [],
   "source": [
    "#pred_for_4 = prediction(X_test_filter_4,weight1)"
   ]
  },
  {
   "cell_type": "code",
   "execution_count": 486,
   "id": "36f5348b",
   "metadata": {},
   "outputs": [],
   "source": [
    "#acc_4 = compute_accuracy(Y_test_filter_4,pred_for_4)"
   ]
  },
  {
   "cell_type": "code",
   "execution_count": 487,
   "id": "13b5e8cf",
   "metadata": {},
   "outputs": [],
   "source": [
    "#acc_4"
   ]
  },
  {
   "cell_type": "markdown",
   "id": "ae141bb2",
   "metadata": {},
   "source": [
    "# Visualization"
   ]
  },
  {
   "cell_type": "code",
   "execution_count": 488,
   "id": "d55aee91",
   "metadata": {},
   "outputs": [],
   "source": [
    "#medianOfTrainingData_0,medianOfTrainingData_1,medianOfTrainingData_4"
   ]
  },
  {
   "cell_type": "code",
   "execution_count": 489,
   "id": "7024d245",
   "metadata": {},
   "outputs": [
    {
     "data": {
      "image/png": "[encoded data removed]",
      "text/plain": [
       "<Figure size 640x480 with 2 Axes>"
      ]
     },
     "metadata": {},
     "output_type": "display_data"
    }
   ],
   "source": [
    "import matplotlib.pyplot as plt\n",
    "import numpy\n",
    "from sklearn import metrics\n",
    "\n",
    "actual = numpy.random.binomial(1,.9,size = 1000)\n",
    "predicted = numpy.random.binomial(1,.9,size = 1000)\n",
    "\n",
    "confusion_matrix = metrics.confusion_matrix(Y_test_filter,pred)\n",
    "\n",
    "cm_display = metrics.ConfusionMatrixDisplay(confusion_matrix = confusion_matrix, display_labels = [0,1 ,2])\n",
    "\n",
    "cm_display.plot()\n",
    "plt.show()"
   ]
  },
  {
   "cell_type": "code",
   "execution_count": 490,
   "id": "e59ec1d8",
   "metadata": {},
   "outputs": [
    {
     "ename": "ValueError",
     "evalue": "Found input variables with inconsistent numbers of samples: [3147, 0]",
     "output_type": "error",
     "traceback": [
      "\u001b[0;31m---------------------------------------------------------------------------\u001b[0m",
      "\u001b[0;31mValueError\u001b[0m                                Traceback (most recent call last)",
      "Cell \u001b[0;32mIn[490], line 8\u001b[0m\n\u001b[1;32m      5\u001b[0m actual \u001b[38;5;241m=\u001b[39m numpy\u001b[38;5;241m.\u001b[39mrandom\u001b[38;5;241m.\u001b[39mbinomial(\u001b[38;5;241m1\u001b[39m,\u001b[38;5;241m.9\u001b[39m,size \u001b[38;5;241m=\u001b[39m \u001b[38;5;241m1000\u001b[39m)\n\u001b[1;32m      6\u001b[0m predicted \u001b[38;5;241m=\u001b[39m numpy\u001b[38;5;241m.\u001b[39mrandom\u001b[38;5;241m.\u001b[39mbinomial(\u001b[38;5;241m1\u001b[39m,\u001b[38;5;241m.9\u001b[39m,size \u001b[38;5;241m=\u001b[39m \u001b[38;5;241m1000\u001b[39m)\n\u001b[0;32m----> 8\u001b[0m confusion_matrix \u001b[38;5;241m=\u001b[39m \u001b[43mmetrics\u001b[49m\u001b[38;5;241;43m.\u001b[39;49m\u001b[43mconfusion_matrix\u001b[49m\u001b[43m(\u001b[49m\u001b[43mY_test_filter\u001b[49m\u001b[43m,\u001b[49m\u001b[43mpredictMax\u001b[49m\u001b[43m)\u001b[49m\n\u001b[1;32m     10\u001b[0m cm_display \u001b[38;5;241m=\u001b[39m metrics\u001b[38;5;241m.\u001b[39mConfusionMatrixDisplay(confusion_matrix \u001b[38;5;241m=\u001b[39m confusion_matrix, display_labels \u001b[38;5;241m=\u001b[39m [\u001b[38;5;241m0\u001b[39m,\u001b[38;5;241m1\u001b[39m ,\u001b[38;5;241m2\u001b[39m])\n\u001b[1;32m     12\u001b[0m cm_display\u001b[38;5;241m.\u001b[39mplot()\n",
      "File \u001b[0;32m~/miniforge3/envs/everything/lib/python3.8/site-packages/sklearn/metrics/_classification.py:317\u001b[0m, in \u001b[0;36mconfusion_matrix\u001b[0;34m(y_true, y_pred, labels, sample_weight, normalize)\u001b[0m\n\u001b[1;32m    232\u001b[0m \u001b[38;5;28;01mdef\u001b[39;00m \u001b[38;5;21mconfusion_matrix\u001b[39m(\n\u001b[1;32m    233\u001b[0m     y_true, y_pred, \u001b[38;5;241m*\u001b[39m, labels\u001b[38;5;241m=\u001b[39m\u001b[38;5;28;01mNone\u001b[39;00m, sample_weight\u001b[38;5;241m=\u001b[39m\u001b[38;5;28;01mNone\u001b[39;00m, normalize\u001b[38;5;241m=\u001b[39m\u001b[38;5;28;01mNone\u001b[39;00m\n\u001b[1;32m    234\u001b[0m ):\n\u001b[1;32m    235\u001b[0m     \u001b[38;5;124;03m\"\"\"Compute confusion matrix to evaluate the accuracy of a classification.\u001b[39;00m\n\u001b[1;32m    236\u001b[0m \n\u001b[1;32m    237\u001b[0m \u001b[38;5;124;03m    By definition a confusion matrix :math:`C` is such that :math:`C_{i, j}`\u001b[39;00m\n\u001b[0;32m   (...)\u001b[0m\n\u001b[1;32m    315\u001b[0m \u001b[38;5;124;03m    (0, 2, 1, 1)\u001b[39;00m\n\u001b[1;32m    316\u001b[0m \u001b[38;5;124;03m    \"\"\"\u001b[39;00m\n\u001b[0;32m--> 317\u001b[0m     y_type, y_true, y_pred \u001b[38;5;241m=\u001b[39m \u001b[43m_check_targets\u001b[49m\u001b[43m(\u001b[49m\u001b[43my_true\u001b[49m\u001b[43m,\u001b[49m\u001b[43m \u001b[49m\u001b[43my_pred\u001b[49m\u001b[43m)\u001b[49m\n\u001b[1;32m    318\u001b[0m     \u001b[38;5;28;01mif\u001b[39;00m y_type \u001b[38;5;129;01mnot\u001b[39;00m \u001b[38;5;129;01min\u001b[39;00m (\u001b[38;5;124m\"\u001b[39m\u001b[38;5;124mbinary\u001b[39m\u001b[38;5;124m\"\u001b[39m, \u001b[38;5;124m\"\u001b[39m\u001b[38;5;124mmulticlass\u001b[39m\u001b[38;5;124m\"\u001b[39m):\n\u001b[1;32m    319\u001b[0m         \u001b[38;5;28;01mraise\u001b[39;00m \u001b[38;5;167;01mValueError\u001b[39;00m(\u001b[38;5;124m\"\u001b[39m\u001b[38;5;132;01m%s\u001b[39;00m\u001b[38;5;124m is not supported\u001b[39m\u001b[38;5;124m\"\u001b[39m \u001b[38;5;241m%\u001b[39m y_type)\n",
      "File \u001b[0;32m~/miniforge3/envs/everything/lib/python3.8/site-packages/sklearn/metrics/_classification.py:86\u001b[0m, in \u001b[0;36m_check_targets\u001b[0;34m(y_true, y_pred)\u001b[0m\n\u001b[1;32m     59\u001b[0m \u001b[38;5;28;01mdef\u001b[39;00m \u001b[38;5;21m_check_targets\u001b[39m(y_true, y_pred):\n\u001b[1;32m     60\u001b[0m     \u001b[38;5;124;03m\"\"\"Check that y_true and y_pred belong to the same classification task.\u001b[39;00m\n\u001b[1;32m     61\u001b[0m \n\u001b[1;32m     62\u001b[0m \u001b[38;5;124;03m    This converts multiclass or binary types to a common shape, and raises a\u001b[39;00m\n\u001b[0;32m   (...)\u001b[0m\n\u001b[1;32m     84\u001b[0m \u001b[38;5;124;03m    y_pred : array or indicator matrix\u001b[39;00m\n\u001b[1;32m     85\u001b[0m \u001b[38;5;124;03m    \"\"\"\u001b[39;00m\n\u001b[0;32m---> 86\u001b[0m     \u001b[43mcheck_consistent_length\u001b[49m\u001b[43m(\u001b[49m\u001b[43my_true\u001b[49m\u001b[43m,\u001b[49m\u001b[43m \u001b[49m\u001b[43my_pred\u001b[49m\u001b[43m)\u001b[49m\n\u001b[1;32m     87\u001b[0m     type_true \u001b[38;5;241m=\u001b[39m type_of_target(y_true, input_name\u001b[38;5;241m=\u001b[39m\u001b[38;5;124m\"\u001b[39m\u001b[38;5;124my_true\u001b[39m\u001b[38;5;124m\"\u001b[39m)\n\u001b[1;32m     88\u001b[0m     type_pred \u001b[38;5;241m=\u001b[39m type_of_target(y_pred, input_name\u001b[38;5;241m=\u001b[39m\u001b[38;5;124m\"\u001b[39m\u001b[38;5;124my_pred\u001b[39m\u001b[38;5;124m\"\u001b[39m)\n",
      "File \u001b[0;32m~/miniforge3/envs/everything/lib/python3.8/site-packages/sklearn/utils/validation.py:397\u001b[0m, in \u001b[0;36mcheck_consistent_length\u001b[0;34m(*arrays)\u001b[0m\n\u001b[1;32m    395\u001b[0m uniques \u001b[38;5;241m=\u001b[39m np\u001b[38;5;241m.\u001b[39munique(lengths)\n\u001b[1;32m    396\u001b[0m \u001b[38;5;28;01mif\u001b[39;00m \u001b[38;5;28mlen\u001b[39m(uniques) \u001b[38;5;241m>\u001b[39m \u001b[38;5;241m1\u001b[39m:\n\u001b[0;32m--> 397\u001b[0m     \u001b[38;5;28;01mraise\u001b[39;00m \u001b[38;5;167;01mValueError\u001b[39;00m(\n\u001b[1;32m    398\u001b[0m         \u001b[38;5;124m\"\u001b[39m\u001b[38;5;124mFound input variables with inconsistent numbers of samples: \u001b[39m\u001b[38;5;132;01m%r\u001b[39;00m\u001b[38;5;124m\"\u001b[39m\n\u001b[1;32m    399\u001b[0m         \u001b[38;5;241m%\u001b[39m [\u001b[38;5;28mint\u001b[39m(l) \u001b[38;5;28;01mfor\u001b[39;00m l \u001b[38;5;129;01min\u001b[39;00m lengths]\n\u001b[1;32m    400\u001b[0m     )\n",
      "\u001b[0;31mValueError\u001b[0m: Found input variables with inconsistent numbers of samples: [3147, 0]"
     ]
    }
   ],
   "source": [
    "import matplotlib.pyplot as plt\n",
    "import numpy\n",
    "from sklearn import metrics\n",
    "\n",
    "actual = numpy.random.binomial(1,.9,size = 1000)\n",
    "predicted = numpy.random.binomial(1,.9,size = 1000)\n",
    "\n",
    "confusion_matrix = metrics.confusion_matrix(Y_test_filter,predictMax)\n",
    "\n",
    "cm_display = metrics.ConfusionMatrixDisplay(confusion_matrix = confusion_matrix, display_labels = [0,1 ,2])\n",
    "\n",
    "cm_display.plot()\n",
    "plt.show()"
   ]
  },
  {
   "cell_type": "code",
   "execution_count": 548,
   "id": "d79615c1",
   "metadata": {},
   "outputs": [
    {
     "data": {
      "text/plain": [
       "5923"
      ]
     },
     "execution_count": 548,
     "metadata": {},
     "output_type": "execute_result"
    }
   ],
   "source": [
    "len(medianOfTrainingData_0)"
   ]
  },
  {
   "cell_type": "code",
   "execution_count": null,
   "id": "9e1ad661",
   "metadata": {},
   "outputs": [],
   "source": [
    "if _name_ == \"_main_\":\n",
    "    summary = []\n",
    "\n",
    "    for key_size in key_sizes:\n",
    "        attempts_list = []\n",
    "        for i in range(total_runs):\n",
    "            attempts = find_nonce(message, key_size)\n",
    "            attempts_list.append(attempts)\n",
    "        average_attempts = round(sum(attempts_list) / total_runs, 4)\n",
    "        sum_ = 0\n",
    "        for a in attempts_list:\n",
    "            sum_ = sum_ + (a-average_attempts)**2)\n",
    "        variance = sum_ / total_runs\n",
    "        standard_deviation = round(variance ** 0.5, 4)\n",
    "        summary.append((key_size, average_attempts, standard_deviation))"
   ]
  },
  {
   "cell_type": "code",
   "execution_count": null,
   "id": "6b772f23",
   "metadata": {},
   "outputs": [],
   "source": []
  }
 ],
 "metadata": {
  "kernelspec": {
   "display_name": "Python 3 (ipykernel)",
   "language": "python",
   "name": "python3"
  },
  "language_info": {
   "codemirror_mode": {
    "name": "ipython",
    "version": 3
   },
   "file_extension": ".py",
   "mimetype": "text/x-python",
   "name": "python",
   "nbconvert_exporter": "python",
   "pygments_lexer": "ipython3",
   "version": "3.8.15"
  }
 },
 "nbformat": 4,
 "nbformat_minor": 5
}
