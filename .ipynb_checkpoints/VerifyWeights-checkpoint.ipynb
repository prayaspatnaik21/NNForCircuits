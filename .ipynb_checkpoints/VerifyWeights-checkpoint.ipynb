{
 "cells": [
  {
   "cell_type": "code",
   "execution_count": 13,
   "id": "fd18bf5d",
   "metadata": {},
   "outputs": [],
   "source": [
    "import pandas as pd\n",
    "from collections import Counter\n",
    "import numpy as np\n",
    "import matplotlib.pyplot as plt\n",
    "import sklearn\n",
    "import random\n",
    "import statistics\n",
    "import tensorflow as tf"
   ]
  },
  {
   "cell_type": "code",
   "execution_count": 14,
   "id": "6bbafc2d",
   "metadata": {},
   "outputs": [],
   "source": [
    "from tensorflow.keras.datasets import mnist"
   ]
  },
  {
   "cell_type": "code",
   "execution_count": 15,
   "id": "ce468c19",
   "metadata": {},
   "outputs": [],
   "source": [
    "(X_train,Y_train) , (X_test,Y_test) = mnist.load_data()"
   ]
  },
  {
   "cell_type": "code",
   "execution_count": 16,
   "id": "59fc1577",
   "metadata": {},
   "outputs": [
    {
     "name": "stdout",
     "output_type": "stream",
     "text": [
      "MNIST Dataset Shape:\n",
      "X_train: (60000, 28, 28)\n",
      "Y_train: (60000,)\n",
      "X_test:  (10000, 28, 28)\n",
      "Y_test:  (10000,)\n"
     ]
    }
   ],
   "source": [
    "print('MNIST Dataset Shape:')\n",
    "print('X_train: ' + str(X_train.shape))\n",
    "print('Y_train: ' + str(Y_train.shape))\n",
    "print('X_test:  '  + str(X_test.shape))\n",
    "print('Y_test:  '  + str(Y_test.shape))"
   ]
  },
  {
   "cell_type": "code",
   "execution_count": 17,
   "id": "3c4e5fd1",
   "metadata": {},
   "outputs": [
    {
     "ename": "ValueError",
     "evalue": "in user code:\n\n    File \"/var/folders/l8/ff1gcl6975n_zzc22b_6swxr0000gn/T/ipykernel_42090/2123741110.py\", line 11, in None  *\n        lambda x, y: (resize_image(tf.expand_dims(x, axis=-1), target_size), y)\n    File \"/var/folders/l8/ff1gcl6975n_zzc22b_6swxr0000gn/T/ipykernel_42090/129804430.py\", line 6, in resize_image  *\n        resized_image = tf.image.resize(image, target_size)\n\n    ValueError: 'size' must be a 1-D Tensor of 2 elements: new_height, new_width\n",
     "output_type": "error",
     "traceback": [
      "\u001b[0;31m---------------------------------------------------------------------------\u001b[0m",
      "\u001b[0;31mValueError\u001b[0m                                Traceback (most recent call last)",
      "Cell \u001b[0;32mIn[17], line 11\u001b[0m\n\u001b[1;32m      9\u001b[0m \u001b[38;5;66;03m# Map the resize_image function to the dataset\u001b[39;00m\n\u001b[1;32m     10\u001b[0m target_size \u001b[38;5;241m=\u001b[39m (\u001b[38;5;241m10\u001b[39m, \u001b[38;5;241m10\u001b[39m,\u001b[38;5;241m1\u001b[39m)\n\u001b[0;32m---> 11\u001b[0m resized_dataset \u001b[38;5;241m=\u001b[39m \u001b[43mdataset\u001b[49m\u001b[38;5;241;43m.\u001b[39;49m\u001b[43mmap\u001b[49m\u001b[43m(\u001b[49m\u001b[38;5;28;43;01mlambda\u001b[39;49;00m\u001b[43m \u001b[49m\u001b[43mx\u001b[49m\u001b[43m,\u001b[49m\u001b[43m \u001b[49m\u001b[43my\u001b[49m\u001b[43m:\u001b[49m\u001b[43m \u001b[49m\u001b[43m(\u001b[49m\u001b[43mresize_image\u001b[49m\u001b[43m(\u001b[49m\u001b[43mtf\u001b[49m\u001b[38;5;241;43m.\u001b[39;49m\u001b[43mexpand_dims\u001b[49m\u001b[43m(\u001b[49m\u001b[43mx\u001b[49m\u001b[43m,\u001b[49m\u001b[43m \u001b[49m\u001b[43maxis\u001b[49m\u001b[38;5;241;43m=\u001b[39;49m\u001b[38;5;241;43m-\u001b[39;49m\u001b[38;5;241;43m1\u001b[39;49m\u001b[43m)\u001b[49m\u001b[43m,\u001b[49m\u001b[43m \u001b[49m\u001b[43mtarget_size\u001b[49m\u001b[43m)\u001b[49m\u001b[43m,\u001b[49m\u001b[43m \u001b[49m\u001b[43my\u001b[49m\u001b[43m)\u001b[49m\u001b[43m)\u001b[49m\n\u001b[1;32m     13\u001b[0m \u001b[38;5;66;03m# (Optional) Normalize the pixel values\u001b[39;00m\n\u001b[1;32m     14\u001b[0m \u001b[38;5;66;03m# resized_dataset = resized_dataset.map(lambda x, y: (x / 255.0, y))\u001b[39;00m\n\u001b[1;32m     15\u001b[0m \n\u001b[1;32m     16\u001b[0m \u001b[38;5;66;03m# Iterate through the resized dataset\u001b[39;00m\n\u001b[1;32m     17\u001b[0m \u001b[38;5;28;01mfor\u001b[39;00m image, label \u001b[38;5;129;01min\u001b[39;00m resized_dataset\u001b[38;5;241m.\u001b[39mtake(\u001b[38;5;241m5\u001b[39m):  \u001b[38;5;66;03m# Take the first 5 samples as an example\u001b[39;00m\n",
      "File \u001b[0;32m~/miniforge3/envs/everything/lib/python3.8/site-packages/tensorflow/python/data/ops/dataset_ops.py:2048\u001b[0m, in \u001b[0;36mDatasetV2.map\u001b[0;34m(self, map_func, num_parallel_calls, deterministic, name)\u001b[0m\n\u001b[1;32m   2045\u001b[0m   \u001b[38;5;28;01mif\u001b[39;00m deterministic \u001b[38;5;129;01mis\u001b[39;00m \u001b[38;5;129;01mnot\u001b[39;00m \u001b[38;5;28;01mNone\u001b[39;00m \u001b[38;5;129;01mand\u001b[39;00m \u001b[38;5;129;01mnot\u001b[39;00m DEBUG_MODE:\n\u001b[1;32m   2046\u001b[0m     warnings\u001b[38;5;241m.\u001b[39mwarn(\u001b[38;5;124m\"\u001b[39m\u001b[38;5;124mThe `deterministic` argument has no effect unless the \u001b[39m\u001b[38;5;124m\"\u001b[39m\n\u001b[1;32m   2047\u001b[0m                   \u001b[38;5;124m\"\u001b[39m\u001b[38;5;124m`num_parallel_calls` argument is specified.\u001b[39m\u001b[38;5;124m\"\u001b[39m)\n\u001b[0;32m-> 2048\u001b[0m   \u001b[38;5;28;01mreturn\u001b[39;00m \u001b[43mMapDataset\u001b[49m\u001b[43m(\u001b[49m\u001b[38;5;28;43mself\u001b[39;49m\u001b[43m,\u001b[49m\u001b[43m \u001b[49m\u001b[43mmap_func\u001b[49m\u001b[43m,\u001b[49m\u001b[43m \u001b[49m\u001b[43mpreserve_cardinality\u001b[49m\u001b[38;5;241;43m=\u001b[39;49m\u001b[38;5;28;43;01mTrue\u001b[39;49;00m\u001b[43m,\u001b[49m\u001b[43m \u001b[49m\u001b[43mname\u001b[49m\u001b[38;5;241;43m=\u001b[39;49m\u001b[43mname\u001b[49m\u001b[43m)\u001b[49m\n\u001b[1;32m   2049\u001b[0m \u001b[38;5;28;01melse\u001b[39;00m:\n\u001b[1;32m   2050\u001b[0m   \u001b[38;5;28;01mreturn\u001b[39;00m ParallelMapDataset(\n\u001b[1;32m   2051\u001b[0m       \u001b[38;5;28mself\u001b[39m,\n\u001b[1;32m   2052\u001b[0m       map_func,\n\u001b[0;32m   (...)\u001b[0m\n\u001b[1;32m   2055\u001b[0m       preserve_cardinality\u001b[38;5;241m=\u001b[39m\u001b[38;5;28;01mTrue\u001b[39;00m,\n\u001b[1;32m   2056\u001b[0m       name\u001b[38;5;241m=\u001b[39mname)\n",
      "File \u001b[0;32m~/miniforge3/envs/everything/lib/python3.8/site-packages/tensorflow/python/data/ops/dataset_ops.py:5243\u001b[0m, in \u001b[0;36mMapDataset.__init__\u001b[0;34m(self, input_dataset, map_func, use_inter_op_parallelism, preserve_cardinality, use_legacy_function, name)\u001b[0m\n\u001b[1;32m   5241\u001b[0m \u001b[38;5;28mself\u001b[39m\u001b[38;5;241m.\u001b[39m_use_inter_op_parallelism \u001b[38;5;241m=\u001b[39m use_inter_op_parallelism\n\u001b[1;32m   5242\u001b[0m \u001b[38;5;28mself\u001b[39m\u001b[38;5;241m.\u001b[39m_preserve_cardinality \u001b[38;5;241m=\u001b[39m preserve_cardinality\n\u001b[0;32m-> 5243\u001b[0m \u001b[38;5;28mself\u001b[39m\u001b[38;5;241m.\u001b[39m_map_func \u001b[38;5;241m=\u001b[39m \u001b[43mstructured_function\u001b[49m\u001b[38;5;241;43m.\u001b[39;49m\u001b[43mStructuredFunctionWrapper\u001b[49m\u001b[43m(\u001b[49m\n\u001b[1;32m   5244\u001b[0m \u001b[43m    \u001b[49m\u001b[43mmap_func\u001b[49m\u001b[43m,\u001b[49m\n\u001b[1;32m   5245\u001b[0m \u001b[43m    \u001b[49m\u001b[38;5;28;43mself\u001b[39;49m\u001b[38;5;241;43m.\u001b[39;49m\u001b[43m_transformation_name\u001b[49m\u001b[43m(\u001b[49m\u001b[43m)\u001b[49m\u001b[43m,\u001b[49m\n\u001b[1;32m   5246\u001b[0m \u001b[43m    \u001b[49m\u001b[43mdataset\u001b[49m\u001b[38;5;241;43m=\u001b[39;49m\u001b[43minput_dataset\u001b[49m\u001b[43m,\u001b[49m\n\u001b[1;32m   5247\u001b[0m \u001b[43m    \u001b[49m\u001b[43muse_legacy_function\u001b[49m\u001b[38;5;241;43m=\u001b[39;49m\u001b[43muse_legacy_function\u001b[49m\u001b[43m)\u001b[49m\n\u001b[1;32m   5248\u001b[0m \u001b[38;5;28mself\u001b[39m\u001b[38;5;241m.\u001b[39m_name \u001b[38;5;241m=\u001b[39m name\n\u001b[1;32m   5249\u001b[0m variant_tensor \u001b[38;5;241m=\u001b[39m gen_dataset_ops\u001b[38;5;241m.\u001b[39mmap_dataset(\n\u001b[1;32m   5250\u001b[0m     input_dataset\u001b[38;5;241m.\u001b[39m_variant_tensor,  \u001b[38;5;66;03m# pylint: disable=protected-access\u001b[39;00m\n\u001b[1;32m   5251\u001b[0m     \u001b[38;5;28mself\u001b[39m\u001b[38;5;241m.\u001b[39m_map_func\u001b[38;5;241m.\u001b[39mfunction\u001b[38;5;241m.\u001b[39mcaptured_inputs,\n\u001b[0;32m   (...)\u001b[0m\n\u001b[1;32m   5254\u001b[0m     preserve_cardinality\u001b[38;5;241m=\u001b[39m\u001b[38;5;28mself\u001b[39m\u001b[38;5;241m.\u001b[39m_preserve_cardinality,\n\u001b[1;32m   5255\u001b[0m     \u001b[38;5;241m*\u001b[39m\u001b[38;5;241m*\u001b[39m\u001b[38;5;28mself\u001b[39m\u001b[38;5;241m.\u001b[39m_common_args)\n",
      "File \u001b[0;32m~/miniforge3/envs/everything/lib/python3.8/site-packages/tensorflow/python/data/ops/structured_function.py:271\u001b[0m, in \u001b[0;36mStructuredFunctionWrapper.__init__\u001b[0;34m(self, func, transformation_name, dataset, input_classes, input_shapes, input_types, input_structure, add_to_graph, use_legacy_function, defun_kwargs)\u001b[0m\n\u001b[1;32m    264\u001b[0m       warnings\u001b[38;5;241m.\u001b[39mwarn(\n\u001b[1;32m    265\u001b[0m           \u001b[38;5;124m\"\u001b[39m\u001b[38;5;124mEven though the `tf.config.experimental_run_functions_eagerly` \u001b[39m\u001b[38;5;124m\"\u001b[39m\n\u001b[1;32m    266\u001b[0m           \u001b[38;5;124m\"\u001b[39m\u001b[38;5;124moption is set, this option does not apply to tf.data functions. \u001b[39m\u001b[38;5;124m\"\u001b[39m\n\u001b[1;32m    267\u001b[0m           \u001b[38;5;124m\"\u001b[39m\u001b[38;5;124mTo force eager execution of tf.data functions, please use \u001b[39m\u001b[38;5;124m\"\u001b[39m\n\u001b[1;32m    268\u001b[0m           \u001b[38;5;124m\"\u001b[39m\u001b[38;5;124m`tf.data.experimental.enable_debug_mode()`.\u001b[39m\u001b[38;5;124m\"\u001b[39m)\n\u001b[1;32m    269\u001b[0m     fn_factory \u001b[38;5;241m=\u001b[39m trace_tf_function(defun_kwargs)\n\u001b[0;32m--> 271\u001b[0m \u001b[38;5;28mself\u001b[39m\u001b[38;5;241m.\u001b[39m_function \u001b[38;5;241m=\u001b[39m \u001b[43mfn_factory\u001b[49m\u001b[43m(\u001b[49m\u001b[43m)\u001b[49m\n\u001b[1;32m    272\u001b[0m \u001b[38;5;66;03m# There is no graph to add in eager mode.\u001b[39;00m\n\u001b[1;32m    273\u001b[0m add_to_graph \u001b[38;5;241m&\u001b[39m\u001b[38;5;241m=\u001b[39m \u001b[38;5;129;01mnot\u001b[39;00m context\u001b[38;5;241m.\u001b[39mexecuting_eagerly()\n",
      "File \u001b[0;32m~/miniforge3/envs/everything/lib/python3.8/site-packages/tensorflow/python/eager/function.py:2567\u001b[0m, in \u001b[0;36mFunction.get_concrete_function\u001b[0;34m(self, *args, **kwargs)\u001b[0m\n\u001b[1;32m   2558\u001b[0m \u001b[38;5;28;01mdef\u001b[39;00m \u001b[38;5;21mget_concrete_function\u001b[39m(\u001b[38;5;28mself\u001b[39m, \u001b[38;5;241m*\u001b[39margs, \u001b[38;5;241m*\u001b[39m\u001b[38;5;241m*\u001b[39mkwargs):\n\u001b[1;32m   2559\u001b[0m \u001b[38;5;250m  \u001b[39m\u001b[38;5;124;03m\"\"\"Returns a `ConcreteFunction` specialized to inputs and execution context.\u001b[39;00m\n\u001b[1;32m   2560\u001b[0m \n\u001b[1;32m   2561\u001b[0m \u001b[38;5;124;03m  Args:\u001b[39;00m\n\u001b[0;32m   (...)\u001b[0m\n\u001b[1;32m   2565\u001b[0m \u001b[38;5;124;03m       or `tf.Tensor` or `tf.TensorSpec`.\u001b[39;00m\n\u001b[1;32m   2566\u001b[0m \u001b[38;5;124;03m  \"\"\"\u001b[39;00m\n\u001b[0;32m-> 2567\u001b[0m   graph_function \u001b[38;5;241m=\u001b[39m \u001b[38;5;28;43mself\u001b[39;49m\u001b[38;5;241;43m.\u001b[39;49m\u001b[43m_get_concrete_function_garbage_collected\u001b[49m\u001b[43m(\u001b[49m\n\u001b[1;32m   2568\u001b[0m \u001b[43m      \u001b[49m\u001b[38;5;241;43m*\u001b[39;49m\u001b[43margs\u001b[49m\u001b[43m,\u001b[49m\u001b[43m \u001b[49m\u001b[38;5;241;43m*\u001b[39;49m\u001b[38;5;241;43m*\u001b[39;49m\u001b[43mkwargs\u001b[49m\u001b[43m)\u001b[49m\n\u001b[1;32m   2569\u001b[0m   graph_function\u001b[38;5;241m.\u001b[39m_garbage_collector\u001b[38;5;241m.\u001b[39mrelease()  \u001b[38;5;66;03m# pylint: disable=protected-access\u001b[39;00m\n\u001b[1;32m   2570\u001b[0m   \u001b[38;5;28;01mreturn\u001b[39;00m graph_function\n",
      "File \u001b[0;32m~/miniforge3/envs/everything/lib/python3.8/site-packages/tensorflow/python/eager/function.py:2533\u001b[0m, in \u001b[0;36mFunction._get_concrete_function_garbage_collected\u001b[0;34m(self, *args, **kwargs)\u001b[0m\n\u001b[1;32m   2531\u001b[0m   args, kwargs \u001b[38;5;241m=\u001b[39m \u001b[38;5;28;01mNone\u001b[39;00m, \u001b[38;5;28;01mNone\u001b[39;00m\n\u001b[1;32m   2532\u001b[0m \u001b[38;5;28;01mwith\u001b[39;00m \u001b[38;5;28mself\u001b[39m\u001b[38;5;241m.\u001b[39m_lock:\n\u001b[0;32m-> 2533\u001b[0m   graph_function, _ \u001b[38;5;241m=\u001b[39m \u001b[38;5;28;43mself\u001b[39;49m\u001b[38;5;241;43m.\u001b[39;49m\u001b[43m_maybe_define_function\u001b[49m\u001b[43m(\u001b[49m\u001b[43margs\u001b[49m\u001b[43m,\u001b[49m\u001b[43m \u001b[49m\u001b[43mkwargs\u001b[49m\u001b[43m)\u001b[49m\n\u001b[1;32m   2534\u001b[0m   seen_names \u001b[38;5;241m=\u001b[39m \u001b[38;5;28mset\u001b[39m()\n\u001b[1;32m   2535\u001b[0m   captured \u001b[38;5;241m=\u001b[39m object_identity\u001b[38;5;241m.\u001b[39mObjectIdentitySet(\n\u001b[1;32m   2536\u001b[0m       graph_function\u001b[38;5;241m.\u001b[39mgraph\u001b[38;5;241m.\u001b[39minternal_captures)\n",
      "File \u001b[0;32m~/miniforge3/envs/everything/lib/python3.8/site-packages/tensorflow/python/eager/function.py:2711\u001b[0m, in \u001b[0;36mFunction._maybe_define_function\u001b[0;34m(self, args, kwargs)\u001b[0m\n\u001b[1;32m   2708\u001b[0m   cache_key \u001b[38;5;241m=\u001b[39m \u001b[38;5;28mself\u001b[39m\u001b[38;5;241m.\u001b[39m_function_cache\u001b[38;5;241m.\u001b[39mgeneralize(cache_key)\n\u001b[1;32m   2709\u001b[0m   (args, kwargs) \u001b[38;5;241m=\u001b[39m cache_key\u001b[38;5;241m.\u001b[39m_placeholder_value()  \u001b[38;5;66;03m# pylint: disable=protected-access\u001b[39;00m\n\u001b[0;32m-> 2711\u001b[0m graph_function \u001b[38;5;241m=\u001b[39m \u001b[38;5;28;43mself\u001b[39;49m\u001b[38;5;241;43m.\u001b[39;49m\u001b[43m_create_graph_function\u001b[49m\u001b[43m(\u001b[49m\u001b[43margs\u001b[49m\u001b[43m,\u001b[49m\u001b[43m \u001b[49m\u001b[43mkwargs\u001b[49m\u001b[43m)\u001b[49m\n\u001b[1;32m   2712\u001b[0m \u001b[38;5;28mself\u001b[39m\u001b[38;5;241m.\u001b[39m_function_cache\u001b[38;5;241m.\u001b[39madd(cache_key, cache_key_deletion_observer,\n\u001b[1;32m   2713\u001b[0m                          graph_function)\n\u001b[1;32m   2715\u001b[0m \u001b[38;5;28;01mreturn\u001b[39;00m graph_function, filtered_flat_args\n",
      "File \u001b[0;32m~/miniforge3/envs/everything/lib/python3.8/site-packages/tensorflow/python/eager/function.py:2627\u001b[0m, in \u001b[0;36mFunction._create_graph_function\u001b[0;34m(self, args, kwargs)\u001b[0m\n\u001b[1;32m   2622\u001b[0m missing_arg_names \u001b[38;5;241m=\u001b[39m [\n\u001b[1;32m   2623\u001b[0m     \u001b[38;5;124m\"\u001b[39m\u001b[38;5;132;01m%s\u001b[39;00m\u001b[38;5;124m_\u001b[39m\u001b[38;5;132;01m%d\u001b[39;00m\u001b[38;5;124m\"\u001b[39m \u001b[38;5;241m%\u001b[39m (arg, i) \u001b[38;5;28;01mfor\u001b[39;00m i, arg \u001b[38;5;129;01min\u001b[39;00m \u001b[38;5;28menumerate\u001b[39m(missing_arg_names)\n\u001b[1;32m   2624\u001b[0m ]\n\u001b[1;32m   2625\u001b[0m arg_names \u001b[38;5;241m=\u001b[39m base_arg_names \u001b[38;5;241m+\u001b[39m missing_arg_names\n\u001b[1;32m   2626\u001b[0m graph_function \u001b[38;5;241m=\u001b[39m ConcreteFunction(\n\u001b[0;32m-> 2627\u001b[0m     \u001b[43mfunc_graph_module\u001b[49m\u001b[38;5;241;43m.\u001b[39;49m\u001b[43mfunc_graph_from_py_func\u001b[49m\u001b[43m(\u001b[49m\n\u001b[1;32m   2628\u001b[0m \u001b[43m        \u001b[49m\u001b[38;5;28;43mself\u001b[39;49m\u001b[38;5;241;43m.\u001b[39;49m\u001b[43m_name\u001b[49m\u001b[43m,\u001b[49m\n\u001b[1;32m   2629\u001b[0m \u001b[43m        \u001b[49m\u001b[38;5;28;43mself\u001b[39;49m\u001b[38;5;241;43m.\u001b[39;49m\u001b[43m_python_function\u001b[49m\u001b[43m,\u001b[49m\n\u001b[1;32m   2630\u001b[0m \u001b[43m        \u001b[49m\u001b[43margs\u001b[49m\u001b[43m,\u001b[49m\n\u001b[1;32m   2631\u001b[0m \u001b[43m        \u001b[49m\u001b[43mkwargs\u001b[49m\u001b[43m,\u001b[49m\n\u001b[1;32m   2632\u001b[0m \u001b[43m        \u001b[49m\u001b[38;5;28;43mself\u001b[39;49m\u001b[38;5;241;43m.\u001b[39;49m\u001b[43minput_signature\u001b[49m\u001b[43m,\u001b[49m\n\u001b[1;32m   2633\u001b[0m \u001b[43m        \u001b[49m\u001b[43mautograph\u001b[49m\u001b[38;5;241;43m=\u001b[39;49m\u001b[38;5;28;43mself\u001b[39;49m\u001b[38;5;241;43m.\u001b[39;49m\u001b[43m_autograph\u001b[49m\u001b[43m,\u001b[49m\n\u001b[1;32m   2634\u001b[0m \u001b[43m        \u001b[49m\u001b[43mautograph_options\u001b[49m\u001b[38;5;241;43m=\u001b[39;49m\u001b[38;5;28;43mself\u001b[39;49m\u001b[38;5;241;43m.\u001b[39;49m\u001b[43m_autograph_options\u001b[49m\u001b[43m,\u001b[49m\n\u001b[1;32m   2635\u001b[0m \u001b[43m        \u001b[49m\u001b[43marg_names\u001b[49m\u001b[38;5;241;43m=\u001b[39;49m\u001b[43marg_names\u001b[49m\u001b[43m,\u001b[49m\n\u001b[1;32m   2636\u001b[0m \u001b[43m        \u001b[49m\u001b[43mcapture_by_value\u001b[49m\u001b[38;5;241;43m=\u001b[39;49m\u001b[38;5;28;43mself\u001b[39;49m\u001b[38;5;241;43m.\u001b[39;49m\u001b[43m_capture_by_value\u001b[49m\u001b[43m)\u001b[49m,\n\u001b[1;32m   2637\u001b[0m     \u001b[38;5;28mself\u001b[39m\u001b[38;5;241m.\u001b[39m_function_attributes,\n\u001b[1;32m   2638\u001b[0m     spec\u001b[38;5;241m=\u001b[39m\u001b[38;5;28mself\u001b[39m\u001b[38;5;241m.\u001b[39mfunction_spec,\n\u001b[1;32m   2639\u001b[0m     \u001b[38;5;66;03m# Tell the ConcreteFunction to clean up its graph once it goes out of\u001b[39;00m\n\u001b[1;32m   2640\u001b[0m     \u001b[38;5;66;03m# scope. This is not the default behavior since it gets used in some\u001b[39;00m\n\u001b[1;32m   2641\u001b[0m     \u001b[38;5;66;03m# places (like Keras) where the FuncGraph lives longer than the\u001b[39;00m\n\u001b[1;32m   2642\u001b[0m     \u001b[38;5;66;03m# ConcreteFunction.\u001b[39;00m\n\u001b[1;32m   2643\u001b[0m     shared_func_graph\u001b[38;5;241m=\u001b[39m\u001b[38;5;28;01mFalse\u001b[39;00m)\n\u001b[1;32m   2644\u001b[0m \u001b[38;5;28;01mreturn\u001b[39;00m graph_function\n",
      "File \u001b[0;32m~/miniforge3/envs/everything/lib/python3.8/site-packages/tensorflow/python/framework/func_graph.py:1141\u001b[0m, in \u001b[0;36mfunc_graph_from_py_func\u001b[0;34m(name, python_func, args, kwargs, signature, func_graph, autograph, autograph_options, add_control_dependencies, arg_names, op_return_value, collections, capture_by_value, acd_record_initial_resource_uses)\u001b[0m\n\u001b[1;32m   1138\u001b[0m \u001b[38;5;28;01melse\u001b[39;00m:\n\u001b[1;32m   1139\u001b[0m   _, original_func \u001b[38;5;241m=\u001b[39m tf_decorator\u001b[38;5;241m.\u001b[39munwrap(python_func)\n\u001b[0;32m-> 1141\u001b[0m func_outputs \u001b[38;5;241m=\u001b[39m \u001b[43mpython_func\u001b[49m\u001b[43m(\u001b[49m\u001b[38;5;241;43m*\u001b[39;49m\u001b[43mfunc_args\u001b[49m\u001b[43m,\u001b[49m\u001b[43m \u001b[49m\u001b[38;5;241;43m*\u001b[39;49m\u001b[38;5;241;43m*\u001b[39;49m\u001b[43mfunc_kwargs\u001b[49m\u001b[43m)\u001b[49m\n\u001b[1;32m   1143\u001b[0m \u001b[38;5;66;03m# invariant: `func_outputs` contains only Tensors, CompositeTensors,\u001b[39;00m\n\u001b[1;32m   1144\u001b[0m \u001b[38;5;66;03m# TensorArrays and `None`s.\u001b[39;00m\n\u001b[1;32m   1145\u001b[0m func_outputs \u001b[38;5;241m=\u001b[39m nest\u001b[38;5;241m.\u001b[39mmap_structure(\n\u001b[1;32m   1146\u001b[0m     convert, func_outputs, expand_composites\u001b[38;5;241m=\u001b[39m\u001b[38;5;28;01mTrue\u001b[39;00m)\n",
      "File \u001b[0;32m~/miniforge3/envs/everything/lib/python3.8/site-packages/tensorflow/python/data/ops/structured_function.py:248\u001b[0m, in \u001b[0;36mStructuredFunctionWrapper.__init__.<locals>.trace_tf_function.<locals>.wrapped_fn\u001b[0;34m(*args)\u001b[0m\n\u001b[1;32m    242\u001b[0m \u001b[38;5;129m@eager_function\u001b[39m\u001b[38;5;241m.\u001b[39mdefun_with_attributes(\n\u001b[1;32m    243\u001b[0m     input_signature\u001b[38;5;241m=\u001b[39mstructure\u001b[38;5;241m.\u001b[39mget_flat_tensor_specs(\n\u001b[1;32m    244\u001b[0m         \u001b[38;5;28mself\u001b[39m\u001b[38;5;241m.\u001b[39m_input_structure),\n\u001b[1;32m    245\u001b[0m     autograph\u001b[38;5;241m=\u001b[39m\u001b[38;5;28;01mFalse\u001b[39;00m,\n\u001b[1;32m    246\u001b[0m     attributes\u001b[38;5;241m=\u001b[39mdefun_kwargs)\n\u001b[1;32m    247\u001b[0m \u001b[38;5;28;01mdef\u001b[39;00m \u001b[38;5;21mwrapped_fn\u001b[39m(\u001b[38;5;241m*\u001b[39margs):  \u001b[38;5;66;03m# pylint: disable=missing-docstring\u001b[39;00m\n\u001b[0;32m--> 248\u001b[0m   ret \u001b[38;5;241m=\u001b[39m \u001b[43mwrapper_helper\u001b[49m\u001b[43m(\u001b[49m\u001b[38;5;241;43m*\u001b[39;49m\u001b[43margs\u001b[49m\u001b[43m)\u001b[49m\n\u001b[1;32m    249\u001b[0m   ret \u001b[38;5;241m=\u001b[39m structure\u001b[38;5;241m.\u001b[39mto_tensor_list(\u001b[38;5;28mself\u001b[39m\u001b[38;5;241m.\u001b[39m_output_structure, ret)\n\u001b[1;32m    250\u001b[0m   \u001b[38;5;28;01mreturn\u001b[39;00m [ops\u001b[38;5;241m.\u001b[39mconvert_to_tensor(t) \u001b[38;5;28;01mfor\u001b[39;00m t \u001b[38;5;129;01min\u001b[39;00m ret]\n",
      "File \u001b[0;32m~/miniforge3/envs/everything/lib/python3.8/site-packages/tensorflow/python/data/ops/structured_function.py:177\u001b[0m, in \u001b[0;36mStructuredFunctionWrapper.__init__.<locals>.wrapper_helper\u001b[0;34m(*args)\u001b[0m\n\u001b[1;32m    175\u001b[0m \u001b[38;5;28;01mif\u001b[39;00m \u001b[38;5;129;01mnot\u001b[39;00m _should_unpack(nested_args):\n\u001b[1;32m    176\u001b[0m   nested_args \u001b[38;5;241m=\u001b[39m (nested_args,)\n\u001b[0;32m--> 177\u001b[0m ret \u001b[38;5;241m=\u001b[39m \u001b[43mautograph\u001b[49m\u001b[38;5;241;43m.\u001b[39;49m\u001b[43mtf_convert\u001b[49m\u001b[43m(\u001b[49m\u001b[38;5;28;43mself\u001b[39;49m\u001b[38;5;241;43m.\u001b[39;49m\u001b[43m_func\u001b[49m\u001b[43m,\u001b[49m\u001b[43m \u001b[49m\u001b[43mag_ctx\u001b[49m\u001b[43m)\u001b[49m\u001b[43m(\u001b[49m\u001b[38;5;241;43m*\u001b[39;49m\u001b[43mnested_args\u001b[49m\u001b[43m)\u001b[49m\n\u001b[1;32m    178\u001b[0m \u001b[38;5;28;01mif\u001b[39;00m _should_pack(ret):\n\u001b[1;32m    179\u001b[0m   ret \u001b[38;5;241m=\u001b[39m \u001b[38;5;28mtuple\u001b[39m(ret)\n",
      "File \u001b[0;32m~/miniforge3/envs/everything/lib/python3.8/site-packages/tensorflow/python/autograph/impl/api.py:692\u001b[0m, in \u001b[0;36mconvert.<locals>.decorator.<locals>.wrapper\u001b[0;34m(*args, **kwargs)\u001b[0m\n\u001b[1;32m    690\u001b[0m \u001b[38;5;28;01mexcept\u001b[39;00m \u001b[38;5;167;01mException\u001b[39;00m \u001b[38;5;28;01mas\u001b[39;00m e:  \u001b[38;5;66;03m# pylint:disable=broad-except\u001b[39;00m\n\u001b[1;32m    691\u001b[0m   \u001b[38;5;28;01mif\u001b[39;00m \u001b[38;5;28mhasattr\u001b[39m(e, \u001b[38;5;124m'\u001b[39m\u001b[38;5;124mag_error_metadata\u001b[39m\u001b[38;5;124m'\u001b[39m):\n\u001b[0;32m--> 692\u001b[0m     \u001b[38;5;28;01mraise\u001b[39;00m e\u001b[38;5;241m.\u001b[39mag_error_metadata\u001b[38;5;241m.\u001b[39mto_exception(e)\n\u001b[1;32m    693\u001b[0m   \u001b[38;5;28;01melse\u001b[39;00m:\n\u001b[1;32m    694\u001b[0m     \u001b[38;5;28;01mraise\u001b[39;00m\n",
      "File \u001b[0;32m~/miniforge3/envs/everything/lib/python3.8/site-packages/tensorflow/python/autograph/impl/api.py:689\u001b[0m, in \u001b[0;36mconvert.<locals>.decorator.<locals>.wrapper\u001b[0;34m(*args, **kwargs)\u001b[0m\n\u001b[1;32m    687\u001b[0m \u001b[38;5;28;01mtry\u001b[39;00m:\n\u001b[1;32m    688\u001b[0m   \u001b[38;5;28;01mwith\u001b[39;00m conversion_ctx:\n\u001b[0;32m--> 689\u001b[0m     \u001b[38;5;28;01mreturn\u001b[39;00m \u001b[43mconverted_call\u001b[49m\u001b[43m(\u001b[49m\u001b[43mf\u001b[49m\u001b[43m,\u001b[49m\u001b[43m \u001b[49m\u001b[43margs\u001b[49m\u001b[43m,\u001b[49m\u001b[43m \u001b[49m\u001b[43mkwargs\u001b[49m\u001b[43m,\u001b[49m\u001b[43m \u001b[49m\u001b[43moptions\u001b[49m\u001b[38;5;241;43m=\u001b[39;49m\u001b[43moptions\u001b[49m\u001b[43m)\u001b[49m\n\u001b[1;32m    690\u001b[0m \u001b[38;5;28;01mexcept\u001b[39;00m \u001b[38;5;167;01mException\u001b[39;00m \u001b[38;5;28;01mas\u001b[39;00m e:  \u001b[38;5;66;03m# pylint:disable=broad-except\u001b[39;00m\n\u001b[1;32m    691\u001b[0m   \u001b[38;5;28;01mif\u001b[39;00m \u001b[38;5;28mhasattr\u001b[39m(e, \u001b[38;5;124m'\u001b[39m\u001b[38;5;124mag_error_metadata\u001b[39m\u001b[38;5;124m'\u001b[39m):\n",
      "File \u001b[0;32m~/miniforge3/envs/everything/lib/python3.8/site-packages/tensorflow/python/autograph/impl/api.py:439\u001b[0m, in \u001b[0;36mconverted_call\u001b[0;34m(f, args, kwargs, caller_fn_scope, options)\u001b[0m\n\u001b[1;32m    437\u001b[0m \u001b[38;5;28;01mtry\u001b[39;00m:\n\u001b[1;32m    438\u001b[0m   \u001b[38;5;28;01mif\u001b[39;00m kwargs \u001b[38;5;129;01mis\u001b[39;00m \u001b[38;5;129;01mnot\u001b[39;00m \u001b[38;5;28;01mNone\u001b[39;00m:\n\u001b[0;32m--> 439\u001b[0m     result \u001b[38;5;241m=\u001b[39m \u001b[43mconverted_f\u001b[49m\u001b[43m(\u001b[49m\u001b[38;5;241;43m*\u001b[39;49m\u001b[43meffective_args\u001b[49m\u001b[43m,\u001b[49m\u001b[43m \u001b[49m\u001b[38;5;241;43m*\u001b[39;49m\u001b[38;5;241;43m*\u001b[39;49m\u001b[43mkwargs\u001b[49m\u001b[43m)\u001b[49m\n\u001b[1;32m    440\u001b[0m   \u001b[38;5;28;01melse\u001b[39;00m:\n\u001b[1;32m    441\u001b[0m     result \u001b[38;5;241m=\u001b[39m converted_f(\u001b[38;5;241m*\u001b[39meffective_args)\n",
      "File \u001b[0;32m/var/folders/l8/ff1gcl6975n_zzc22b_6swxr0000gn/T/__autograph_generated_file9r2zm12b.py:5\u001b[0m, in \u001b[0;36mouter_factory.<locals>.inner_factory.<locals>.<lambda>\u001b[0;34m(x, y)\u001b[0m\n\u001b[1;32m      4\u001b[0m \u001b[38;5;28;01mdef\u001b[39;00m \u001b[38;5;21minner_factory\u001b[39m(ag__):\n\u001b[0;32m----> 5\u001b[0m     tf__lam \u001b[38;5;241m=\u001b[39m (\u001b[38;5;28;01mlambda\u001b[39;00m x, y: \u001b[43mag__\u001b[49m\u001b[38;5;241;43m.\u001b[39;49m\u001b[43mwith_function_scope\u001b[49m\u001b[43m(\u001b[49m\u001b[43m(\u001b[49m\u001b[38;5;28;43;01mlambda\u001b[39;49;00m\u001b[43m \u001b[49m\u001b[43mlscope\u001b[49m\u001b[43m:\u001b[49m\u001b[43m \u001b[49m\u001b[43m(\u001b[49m\u001b[43mag__\u001b[49m\u001b[38;5;241;43m.\u001b[39;49m\u001b[43mconverted_call\u001b[49m\u001b[43m(\u001b[49m\u001b[43mresize_image\u001b[49m\u001b[43m,\u001b[49m\u001b[43m \u001b[49m\u001b[43m(\u001b[49m\u001b[43mag__\u001b[49m\u001b[38;5;241;43m.\u001b[39;49m\u001b[43mconverted_call\u001b[49m\u001b[43m(\u001b[49m\u001b[43mtf\u001b[49m\u001b[38;5;241;43m.\u001b[39;49m\u001b[43mexpand_dims\u001b[49m\u001b[43m,\u001b[49m\u001b[43m \u001b[49m\u001b[43m(\u001b[49m\u001b[43mx\u001b[49m\u001b[43m,\u001b[49m\u001b[43m)\u001b[49m\u001b[43m,\u001b[49m\u001b[43m \u001b[49m\u001b[38;5;28;43mdict\u001b[39;49m\u001b[43m(\u001b[49m\u001b[43maxis\u001b[49m\u001b[38;5;241;43m=\u001b[39;49m\u001b[43m(\u001b[49m\u001b[38;5;241;43m-\u001b[39;49m\u001b[43m \u001b[49m\u001b[38;5;241;43m1\u001b[39;49m\u001b[43m)\u001b[49m\u001b[43m)\u001b[49m\u001b[43m,\u001b[49m\u001b[43m \u001b[49m\u001b[43mlscope\u001b[49m\u001b[43m)\u001b[49m\u001b[43m,\u001b[49m\u001b[43m \u001b[49m\u001b[43mtarget_size\u001b[49m\u001b[43m)\u001b[49m\u001b[43m,\u001b[49m\u001b[43m \u001b[49m\u001b[38;5;28;43;01mNone\u001b[39;49;00m\u001b[43m,\u001b[49m\u001b[43m \u001b[49m\u001b[43mlscope\u001b[49m\u001b[43m)\u001b[49m\u001b[43m,\u001b[49m\u001b[43m \u001b[49m\u001b[43my\u001b[49m\u001b[43m)\u001b[49m\u001b[43m)\u001b[49m\u001b[43m,\u001b[49m\u001b[43m \u001b[49m\u001b[38;5;124;43m'\u001b[39;49m\u001b[38;5;124;43mlscope\u001b[39;49m\u001b[38;5;124;43m'\u001b[39;49m\u001b[43m,\u001b[49m\u001b[43m \u001b[49m\u001b[43mag__\u001b[49m\u001b[38;5;241;43m.\u001b[39;49m\u001b[43mSTD\u001b[49m\u001b[43m)\u001b[49m)\n\u001b[1;32m      6\u001b[0m     \u001b[38;5;28;01mreturn\u001b[39;00m tf__lam\n",
      "File \u001b[0;32m~/miniforge3/envs/everything/lib/python3.8/site-packages/tensorflow/python/autograph/core/function_wrappers.py:113\u001b[0m, in \u001b[0;36mwith_function_scope\u001b[0;34m(thunk, scope_name, options)\u001b[0m\n\u001b[1;32m    111\u001b[0m \u001b[38;5;250m\u001b[39m\u001b[38;5;124;03m\"\"\"Inline version of the FunctionScope context manager.\"\"\"\u001b[39;00m\n\u001b[1;32m    112\u001b[0m \u001b[38;5;28;01mwith\u001b[39;00m FunctionScope(\u001b[38;5;124m'\u001b[39m\u001b[38;5;124mlambda_\u001b[39m\u001b[38;5;124m'\u001b[39m, scope_name, options) \u001b[38;5;28;01mas\u001b[39;00m scope:\n\u001b[0;32m--> 113\u001b[0m   \u001b[38;5;28;01mreturn\u001b[39;00m \u001b[43mthunk\u001b[49m\u001b[43m(\u001b[49m\u001b[43mscope\u001b[49m\u001b[43m)\u001b[49m\n",
      "File \u001b[0;32m/var/folders/l8/ff1gcl6975n_zzc22b_6swxr0000gn/T/__autograph_generated_file9r2zm12b.py:5\u001b[0m, in \u001b[0;36mouter_factory.<locals>.inner_factory.<locals>.<lambda>\u001b[0;34m(lscope)\u001b[0m\n\u001b[1;32m      4\u001b[0m \u001b[38;5;28;01mdef\u001b[39;00m \u001b[38;5;21minner_factory\u001b[39m(ag__):\n\u001b[0;32m----> 5\u001b[0m     tf__lam \u001b[38;5;241m=\u001b[39m (\u001b[38;5;28;01mlambda\u001b[39;00m x, y: ag__\u001b[38;5;241m.\u001b[39mwith_function_scope((\u001b[38;5;28;01mlambda\u001b[39;00m lscope: (\u001b[43mag__\u001b[49m\u001b[38;5;241;43m.\u001b[39;49m\u001b[43mconverted_call\u001b[49m\u001b[43m(\u001b[49m\u001b[43mresize_image\u001b[49m\u001b[43m,\u001b[49m\u001b[43m \u001b[49m\u001b[43m(\u001b[49m\u001b[43mag__\u001b[49m\u001b[38;5;241;43m.\u001b[39;49m\u001b[43mconverted_call\u001b[49m\u001b[43m(\u001b[49m\u001b[43mtf\u001b[49m\u001b[38;5;241;43m.\u001b[39;49m\u001b[43mexpand_dims\u001b[49m\u001b[43m,\u001b[49m\u001b[43m \u001b[49m\u001b[43m(\u001b[49m\u001b[43mx\u001b[49m\u001b[43m,\u001b[49m\u001b[43m)\u001b[49m\u001b[43m,\u001b[49m\u001b[43m \u001b[49m\u001b[38;5;28;43mdict\u001b[39;49m\u001b[43m(\u001b[49m\u001b[43maxis\u001b[49m\u001b[38;5;241;43m=\u001b[39;49m\u001b[43m(\u001b[49m\u001b[38;5;241;43m-\u001b[39;49m\u001b[43m \u001b[49m\u001b[38;5;241;43m1\u001b[39;49m\u001b[43m)\u001b[49m\u001b[43m)\u001b[49m\u001b[43m,\u001b[49m\u001b[43m \u001b[49m\u001b[43mlscope\u001b[49m\u001b[43m)\u001b[49m\u001b[43m,\u001b[49m\u001b[43m \u001b[49m\u001b[43mtarget_size\u001b[49m\u001b[43m)\u001b[49m\u001b[43m,\u001b[49m\u001b[43m \u001b[49m\u001b[38;5;28;43;01mNone\u001b[39;49;00m\u001b[43m,\u001b[49m\u001b[43m \u001b[49m\u001b[43mlscope\u001b[49m\u001b[43m)\u001b[49m, y)), \u001b[38;5;124m'\u001b[39m\u001b[38;5;124mlscope\u001b[39m\u001b[38;5;124m'\u001b[39m, ag__\u001b[38;5;241m.\u001b[39mSTD))\n\u001b[1;32m      6\u001b[0m     \u001b[38;5;28;01mreturn\u001b[39;00m tf__lam\n",
      "File \u001b[0;32m~/miniforge3/envs/everything/lib/python3.8/site-packages/tensorflow/python/autograph/impl/api.py:441\u001b[0m, in \u001b[0;36mconverted_call\u001b[0;34m(f, args, kwargs, caller_fn_scope, options)\u001b[0m\n\u001b[1;32m    439\u001b[0m     result \u001b[38;5;241m=\u001b[39m converted_f(\u001b[38;5;241m*\u001b[39meffective_args, \u001b[38;5;241m*\u001b[39m\u001b[38;5;241m*\u001b[39mkwargs)\n\u001b[1;32m    440\u001b[0m   \u001b[38;5;28;01melse\u001b[39;00m:\n\u001b[0;32m--> 441\u001b[0m     result \u001b[38;5;241m=\u001b[39m \u001b[43mconverted_f\u001b[49m\u001b[43m(\u001b[49m\u001b[38;5;241;43m*\u001b[39;49m\u001b[43meffective_args\u001b[49m\u001b[43m)\u001b[49m\n\u001b[1;32m    442\u001b[0m \u001b[38;5;28;01mexcept\u001b[39;00m \u001b[38;5;167;01mException\u001b[39;00m \u001b[38;5;28;01mas\u001b[39;00m e:\n\u001b[1;32m    443\u001b[0m   _attach_error_metadata(e, converted_f)\n",
      "File \u001b[0;32m/var/folders/l8/ff1gcl6975n_zzc22b_6swxr0000gn/T/__autograph_generated_file204zy_zs.py:10\u001b[0m, in \u001b[0;36mouter_factory.<locals>.inner_factory.<locals>.tf__resize_image\u001b[0;34m(image, target_size)\u001b[0m\n\u001b[1;32m      8\u001b[0m do_return \u001b[38;5;241m=\u001b[39m \u001b[38;5;28;01mFalse\u001b[39;00m\n\u001b[1;32m      9\u001b[0m retval_ \u001b[38;5;241m=\u001b[39m ag__\u001b[38;5;241m.\u001b[39mUndefinedReturnValue()\n\u001b[0;32m---> 10\u001b[0m resized_image \u001b[38;5;241m=\u001b[39m \u001b[43mag__\u001b[49m\u001b[38;5;241;43m.\u001b[39;49m\u001b[43mconverted_call\u001b[49m\u001b[43m(\u001b[49m\u001b[43mag__\u001b[49m\u001b[38;5;241;43m.\u001b[39;49m\u001b[43mld\u001b[49m\u001b[43m(\u001b[49m\u001b[43mtf\u001b[49m\u001b[43m)\u001b[49m\u001b[38;5;241;43m.\u001b[39;49m\u001b[43mimage\u001b[49m\u001b[38;5;241;43m.\u001b[39;49m\u001b[43mresize\u001b[49m\u001b[43m,\u001b[49m\u001b[43m \u001b[49m\u001b[43m(\u001b[49m\u001b[43mag__\u001b[49m\u001b[38;5;241;43m.\u001b[39;49m\u001b[43mld\u001b[49m\u001b[43m(\u001b[49m\u001b[43mimage\u001b[49m\u001b[43m)\u001b[49m\u001b[43m,\u001b[49m\u001b[43m \u001b[49m\u001b[43mag__\u001b[49m\u001b[38;5;241;43m.\u001b[39;49m\u001b[43mld\u001b[49m\u001b[43m(\u001b[49m\u001b[43mtarget_size\u001b[49m\u001b[43m)\u001b[49m\u001b[43m)\u001b[49m\u001b[43m,\u001b[49m\u001b[43m \u001b[49m\u001b[38;5;28;43;01mNone\u001b[39;49;00m\u001b[43m,\u001b[49m\u001b[43m \u001b[49m\u001b[43mfscope\u001b[49m\u001b[43m)\u001b[49m\n\u001b[1;32m     11\u001b[0m \u001b[38;5;28;01mtry\u001b[39;00m:\n\u001b[1;32m     12\u001b[0m     do_return \u001b[38;5;241m=\u001b[39m \u001b[38;5;28;01mTrue\u001b[39;00m\n",
      "File \u001b[0;32m~/miniforge3/envs/everything/lib/python3.8/site-packages/tensorflow/python/autograph/impl/api.py:331\u001b[0m, in \u001b[0;36mconverted_call\u001b[0;34m(f, args, kwargs, caller_fn_scope, options)\u001b[0m\n\u001b[1;32m    329\u001b[0m \u001b[38;5;28;01mif\u001b[39;00m conversion\u001b[38;5;241m.\u001b[39mis_in_allowlist_cache(f, options):\n\u001b[1;32m    330\u001b[0m   logging\u001b[38;5;241m.\u001b[39mlog(\u001b[38;5;241m2\u001b[39m, \u001b[38;5;124m'\u001b[39m\u001b[38;5;124mAllowlisted \u001b[39m\u001b[38;5;132;01m%s\u001b[39;00m\u001b[38;5;124m: from cache\u001b[39m\u001b[38;5;124m'\u001b[39m, f)\n\u001b[0;32m--> 331\u001b[0m   \u001b[38;5;28;01mreturn\u001b[39;00m \u001b[43m_call_unconverted\u001b[49m\u001b[43m(\u001b[49m\u001b[43mf\u001b[49m\u001b[43m,\u001b[49m\u001b[43m \u001b[49m\u001b[43margs\u001b[49m\u001b[43m,\u001b[49m\u001b[43m \u001b[49m\u001b[43mkwargs\u001b[49m\u001b[43m,\u001b[49m\u001b[43m \u001b[49m\u001b[43moptions\u001b[49m\u001b[43m,\u001b[49m\u001b[43m \u001b[49m\u001b[38;5;28;43;01mFalse\u001b[39;49;00m\u001b[43m)\u001b[49m\n\u001b[1;32m    333\u001b[0m \u001b[38;5;28;01mif\u001b[39;00m ag_ctx\u001b[38;5;241m.\u001b[39mcontrol_status_ctx()\u001b[38;5;241m.\u001b[39mstatus \u001b[38;5;241m==\u001b[39m ag_ctx\u001b[38;5;241m.\u001b[39mStatus\u001b[38;5;241m.\u001b[39mDISABLED:\n\u001b[1;32m    334\u001b[0m   logging\u001b[38;5;241m.\u001b[39mlog(\u001b[38;5;241m2\u001b[39m, \u001b[38;5;124m'\u001b[39m\u001b[38;5;124mAllowlisted: \u001b[39m\u001b[38;5;132;01m%s\u001b[39;00m\u001b[38;5;124m: AutoGraph is disabled in context\u001b[39m\u001b[38;5;124m'\u001b[39m, f)\n",
      "File \u001b[0;32m~/miniforge3/envs/everything/lib/python3.8/site-packages/tensorflow/python/autograph/impl/api.py:459\u001b[0m, in \u001b[0;36m_call_unconverted\u001b[0;34m(f, args, kwargs, options, update_cache)\u001b[0m\n\u001b[1;32m    457\u001b[0m \u001b[38;5;28;01mif\u001b[39;00m kwargs \u001b[38;5;129;01mis\u001b[39;00m \u001b[38;5;129;01mnot\u001b[39;00m \u001b[38;5;28;01mNone\u001b[39;00m:\n\u001b[1;32m    458\u001b[0m   \u001b[38;5;28;01mreturn\u001b[39;00m f(\u001b[38;5;241m*\u001b[39margs, \u001b[38;5;241m*\u001b[39m\u001b[38;5;241m*\u001b[39mkwargs)\n\u001b[0;32m--> 459\u001b[0m \u001b[38;5;28;01mreturn\u001b[39;00m \u001b[43mf\u001b[49m\u001b[43m(\u001b[49m\u001b[38;5;241;43m*\u001b[39;49m\u001b[43margs\u001b[49m\u001b[43m)\u001b[49m\n",
      "File \u001b[0;32m~/miniforge3/envs/everything/lib/python3.8/site-packages/tensorflow/python/util/traceback_utils.py:153\u001b[0m, in \u001b[0;36mfilter_traceback.<locals>.error_handler\u001b[0;34m(*args, **kwargs)\u001b[0m\n\u001b[1;32m    151\u001b[0m \u001b[38;5;28;01mexcept\u001b[39;00m \u001b[38;5;167;01mException\u001b[39;00m \u001b[38;5;28;01mas\u001b[39;00m e:\n\u001b[1;32m    152\u001b[0m   filtered_tb \u001b[38;5;241m=\u001b[39m _process_traceback_frames(e\u001b[38;5;241m.\u001b[39m__traceback__)\n\u001b[0;32m--> 153\u001b[0m   \u001b[38;5;28;01mraise\u001b[39;00m e\u001b[38;5;241m.\u001b[39mwith_traceback(filtered_tb) \u001b[38;5;28;01mfrom\u001b[39;00m \u001b[38;5;28;01mNone\u001b[39;00m\n\u001b[1;32m    154\u001b[0m \u001b[38;5;28;01mfinally\u001b[39;00m:\n\u001b[1;32m    155\u001b[0m   \u001b[38;5;28;01mdel\u001b[39;00m filtered_tb\n",
      "File \u001b[0;32m~/miniforge3/envs/everything/lib/python3.8/site-packages/tensorflow/python/ops/image_ops_impl.py:1452\u001b[0m, in \u001b[0;36m_resize_images_common\u001b[0;34m(images, resizer_fn, size, preserve_aspect_ratio, name, skip_resize_if_same)\u001b[0m\n\u001b[1;32m   1450\u001b[0m   \u001b[38;5;28;01mraise\u001b[39;00m \u001b[38;5;167;01mValueError\u001b[39;00m(\u001b[38;5;124m'\u001b[39m\u001b[38;5;130;01m\\'\u001b[39;00m\u001b[38;5;124msize\u001b[39m\u001b[38;5;130;01m\\'\u001b[39;00m\u001b[38;5;124m must be a 1-D int32 Tensor\u001b[39m\u001b[38;5;124m'\u001b[39m)\n\u001b[1;32m   1451\u001b[0m \u001b[38;5;28;01mif\u001b[39;00m \u001b[38;5;129;01mnot\u001b[39;00m size\u001b[38;5;241m.\u001b[39mget_shape()\u001b[38;5;241m.\u001b[39mis_compatible_with([\u001b[38;5;241m2\u001b[39m]):\n\u001b[0;32m-> 1452\u001b[0m   \u001b[38;5;28;01mraise\u001b[39;00m \u001b[38;5;167;01mValueError\u001b[39;00m(\u001b[38;5;124m'\u001b[39m\u001b[38;5;130;01m\\'\u001b[39;00m\u001b[38;5;124msize\u001b[39m\u001b[38;5;130;01m\\'\u001b[39;00m\u001b[38;5;124m must be a 1-D Tensor of 2 elements: \u001b[39m\u001b[38;5;124m'\u001b[39m\n\u001b[1;32m   1453\u001b[0m                    \u001b[38;5;124m'\u001b[39m\u001b[38;5;124mnew_height, new_width\u001b[39m\u001b[38;5;124m'\u001b[39m)\n\u001b[1;32m   1455\u001b[0m \u001b[38;5;28;01mif\u001b[39;00m preserve_aspect_ratio:\n\u001b[1;32m   1456\u001b[0m   \u001b[38;5;66;03m# Get the current shapes of the image, even if dynamic.\u001b[39;00m\n\u001b[1;32m   1457\u001b[0m   _, current_height, current_width, _ \u001b[38;5;241m=\u001b[39m _ImageDimensions(images, rank\u001b[38;5;241m=\u001b[39m\u001b[38;5;241m4\u001b[39m)\n",
      "\u001b[0;31mValueError\u001b[0m: in user code:\n\n    File \"/var/folders/l8/ff1gcl6975n_zzc22b_6swxr0000gn/T/ipykernel_42090/2123741110.py\", line 11, in None  *\n        lambda x, y: (resize_image(tf.expand_dims(x, axis=-1), target_size), y)\n    File \"/var/folders/l8/ff1gcl6975n_zzc22b_6swxr0000gn/T/ipykernel_42090/129804430.py\", line 6, in resize_image  *\n        resized_image = tf.image.resize(image, target_size)\n\n    ValueError: 'size' must be a 1-D Tensor of 2 elements: new_height, new_width\n"
     ]
    }
   ],
   "source": [
    "# Create a TensorFlow dataset\n",
    "dataset = tf.data.Dataset.from_tensor_slices((X_train, Y_train))\n",
    "\n",
    "# Define a function to resize the images\n",
    "def resize_image(image, target_size=(10, 10)):\n",
    "    resized_image = tf.image.resize(image, target_size)\n",
    "    return resized_image\n",
    "\n",
    "# Map the resize_image function to the dataset\n",
    "target_size = [10, 10]\n",
    "resized_dataset = dataset.map(lambda x, y: (resize_image(tf.expand_dims(x, axis=-1), target_size), y))\n",
    "\n",
    "# (Optional) Normalize the pixel values\n",
    "# resized_dataset = resized_dataset.map(lambda x, y: (x / 255.0, y))\n",
    "\n",
    "# Iterate through the resized dataset\n",
    "for image, label in resized_dataset.take(5):  # Take the first 5 samples as an example\n",
    "    print(\"Resized Image Shape:\", image.shape)\n",
    "    print(\"Label:\", label.numpy())\n"
   ]
  },
  {
   "cell_type": "code",
   "execution_count": 6,
   "id": "e488007f",
   "metadata": {},
   "outputs": [],
   "source": [
    "# sharpen = np.array([\n",
    "#     [0, -1, 0],\n",
    "#     [-1, 5, -1],\n",
    "#     [0, -1, 0]\n",
    "# ])\n",
    "\n",
    "# blur = np.array([\n",
    "#     [0.0625, 0.125, 0.0625],\n",
    "#     [0.125,  0.25,  0.125],\n",
    "#     [0.0625, 0.125, 0.0625]\n",
    "# ])\n",
    "\n",
    "# outline = np.array([\n",
    "#     [-1, -1, -1],\n",
    "#     [-1,  8, -1],\n",
    "#     [-1, -1, -1]\n",
    "# ])"
   ]
  },
  {
   "cell_type": "code",
   "execution_count": 7,
   "id": "1475fbbb",
   "metadata": {},
   "outputs": [],
   "source": [
    "# def calculateOutputSize(imgSize, kernelSize):\n",
    "#     return imgSize - kernelSize + 1;"
   ]
  },
  {
   "cell_type": "code",
   "execution_count": 8,
   "id": "4a49a29a",
   "metadata": {},
   "outputs": [],
   "source": [
    "# def convolve(img, kernel):\n",
    "#     outputSize = calculateOutputSize(img.shape[0],kernel.shape[0])\n",
    "#     k = kernel.shape[0]\n",
    "#     convolvedImage = np.zeros(shape=(outputSize, outputSize))\n",
    "#     for rowIndex in range(outputSize):\n",
    "#         for colIndex in range(outputSize):\n",
    "#             mat = img[rowIndex:rowIndex+k, colIndex:colIndex+k]\n",
    "#             convolvedImage[rowIndex, colIndex] = np.sum(np.multiply(mat, kernel))\n",
    "            \n",
    "#     return convolvedImage"
   ]
  },
  {
   "cell_type": "code",
   "execution_count": 9,
   "id": "0ab48880",
   "metadata": {},
   "outputs": [],
   "source": [
    "# X_train_convolve = []\n",
    "\n",
    "# for img in X_train:\n",
    "#     img = convolve(img,blur)\n",
    "#     img = convolve(img,blur)\n",
    "#     img = convolve(img,blur)\n",
    "#     img = convolve(img,blur)\n",
    "#     #img = convolve(img,blur)\n",
    "#     X_train_convolve.append(img)"
   ]
  },
  {
   "cell_type": "code",
   "execution_count": 10,
   "id": "2fd179c4",
   "metadata": {},
   "outputs": [],
   "source": [
    "# X_train_convolve = np.array(X_train_convolve)"
   ]
  },
  {
   "cell_type": "code",
   "execution_count": 11,
   "id": "5dfc2564",
   "metadata": {},
   "outputs": [],
   "source": [
    "# X_test_convolve = []\n",
    "# for img in X_test:\n",
    "#     img = convolve(img,blur)\n",
    "#     img = convolve(img,blur)\n",
    "#     img = convolve(img,blur)\n",
    "#     img = convolve(img,blur)\n",
    "#     #img = convolve(img,blur)\n",
    "#     X_test_convolve.append(img)"
   ]
  },
  {
   "cell_type": "code",
   "execution_count": 12,
   "id": "af0d6992",
   "metadata": {},
   "outputs": [],
   "source": [
    "# X_test_convolve = np.array(X_test_convolve)  "
   ]
  },
  {
   "cell_type": "code",
   "execution_count": 13,
   "id": "863c0ca1",
   "metadata": {},
   "outputs": [],
   "source": [
    "# train_filter = np.where((Y_train == 0 ) | (Y_train == 1) | (Y_train == 2) | (Y_train == 3) | (Y_train == 4))\n",
    "# test_filter = np.where((Y_test == 0) | (Y_test == 1) | (Y_test == 2) | (Y_test == 3) | (Y_test == 4))"
   ]
  },
  {
   "cell_type": "code",
   "execution_count": 14,
   "id": "330237c5",
   "metadata": {},
   "outputs": [],
   "source": [
    "class imagePreparation:\n",
    "    def __init__(trainX , trainY , testX , testY):\n",
    "        self.trainX = trainX\n",
    "        self.trainY = trainY\n",
    "        self.testX = testX\n",
    "        self.testY = testy\n",
    "    \n",
    "    def giveData(need):\n",
    "        data = []\n",
    "        trainFilter = np.where()\n",
    "        \n",
    "        "
   ]
  },
  {
   "cell_type": "markdown",
   "id": "486fa34b",
   "metadata": {},
   "source": [
    "# Filter out data (0,1,2)"
   ]
  },
  {
   "cell_type": "code",
   "execution_count": 18,
   "id": "d803729c",
   "metadata": {},
   "outputs": [],
   "source": [
    "train_filter = np.where((Y_train == 0 ) | (Y_train == 1) | (Y_train == 2))\n",
    "test_filter = np.where((Y_test == 0) | (Y_test == 1) | (Y_test == 2))"
   ]
  },
  {
   "cell_type": "code",
   "execution_count": 19,
   "id": "8e35058c",
   "metadata": {},
   "outputs": [],
   "source": [
    "X_train_filter, Y_train_filter = X_train[train_filter], Y_train[train_filter]\n",
    "X_test_filter, Y_test_filter = X_test[test_filter], Y_test[test_filter]"
   ]
  },
  {
   "cell_type": "code",
   "execution_count": 20,
   "id": "9508cc4c",
   "metadata": {},
   "outputs": [],
   "source": [
    "train_filter_0 = np.where(Y_train == 0)\n",
    "test_filter_0 = np.where(Y_test == 0)\n",
    "\n",
    "X_train_filter_0 , Y_train_filter_0 = X_train[train_filter_0],Y_train[train_filter_0]\n",
    "X_test_filter_0 , Y_test_filter_0 = X_test[test_filter_0] , Y_test[test_filter_0]"
   ]
  },
  {
   "cell_type": "code",
   "execution_count": 21,
   "id": "3f743fc7",
   "metadata": {},
   "outputs": [],
   "source": [
    "train_filter_1 = np.where(Y_train == 1)\n",
    "test_filter_1 = np.where(Y_test == 1)\n",
    "\n",
    "X_train_filter_1 , Y_train_filter_1 = X_train[train_filter_1],Y_train[train_filter_1]\n",
    "X_test_filter_1 , Y_test_filter_1 = X_test[test_filter_1] , Y_test[test_filter_1]"
   ]
  },
  {
   "cell_type": "code",
   "execution_count": 22,
   "id": "0f785e2d",
   "metadata": {},
   "outputs": [],
   "source": [
    "# train_filter_3 = np.where(Y_train == 3)\n",
    "# test_filter_3 = np.where(Y_test == 3)\n",
    "\n",
    "# X_train_filter_3 , Y_train_filter_3 = X_train[train_filter_3],Y_train[train_filter_3]\n",
    "# X_test_filter_3 , Y_test_filter_3 = X_test[test_filter_3] , Y_test[test_filter_3]"
   ]
  },
  {
   "cell_type": "code",
   "execution_count": 23,
   "id": "0e8fea8d",
   "metadata": {},
   "outputs": [],
   "source": [
    "# train_filter_4 = np.where(Y_train == 4)\n",
    "# test_filter_4 = np.where(Y_test == 4)\n",
    "\n",
    "# X_train_filter_4 , Y_train_filter_4 = X_train[train_filter_4],Y_train[train_filter_4]\n",
    "# X_test_filter_4 , Y_test_filter_4 = X_test[test_filter_4] , Y_test[test_filter_4]"
   ]
  },
  {
   "cell_type": "code",
   "execution_count": 24,
   "id": "274f3549",
   "metadata": {},
   "outputs": [],
   "source": [
    "train_filter_2 = np.where(Y_train == 2)\n",
    "test_filter_2 = np.where(Y_test == 2)\n",
    "\n",
    "X_train_filter_2 , Y_train_filter_2 = X_train[train_filter_2],Y_train[train_filter_2]\n",
    "X_test_filter_2 , Y_test_filter_2 = X_test[test_filter_2] , Y_test[test_filter_2]"
   ]
  },
  {
   "cell_type": "code",
   "execution_count": 25,
   "id": "79d8c7d7",
   "metadata": {},
   "outputs": [],
   "source": [
    "# Normalize the Images"
   ]
  },
  {
   "cell_type": "code",
   "execution_count": 26,
   "id": "ccd77268",
   "metadata": {},
   "outputs": [],
   "source": [
    "X_train_filter = X_train_filter/255.0\n",
    "X_test_filter = X_test_filter/255.0"
   ]
  },
  {
   "cell_type": "code",
   "execution_count": 27,
   "id": "751c74f0",
   "metadata": {},
   "outputs": [],
   "source": [
    "X_train_filter_0 = X_train_filter_0/255.0\n",
    "X_test_filter_0 = X_test_filter_0/255.0"
   ]
  },
  {
   "cell_type": "code",
   "execution_count": 28,
   "id": "7e8d017c",
   "metadata": {},
   "outputs": [],
   "source": [
    "X_train_filter_2 = X_train_filter_2/255.0\n",
    "X_test_filter_2 = X_test_filter_2/255.0"
   ]
  },
  {
   "cell_type": "code",
   "execution_count": 29,
   "id": "cb94f8f4",
   "metadata": {},
   "outputs": [],
   "source": [
    "X_train_filter_1 = X_train_filter_1/255.0\n",
    "X_test_filter_1 = X_test_filter_1/255.0"
   ]
  },
  {
   "cell_type": "code",
   "execution_count": 30,
   "id": "275080af",
   "metadata": {},
   "outputs": [],
   "source": [
    "# X_train_filter_3 = X_train_filter_3/255.0\n",
    "# X_test_filter_3 = X_test_filter_3/255.0"
   ]
  },
  {
   "cell_type": "code",
   "execution_count": 31,
   "id": "8684de11",
   "metadata": {},
   "outputs": [],
   "source": [
    "# X_train_filter_4 = X_train_filter_4/255.0\n",
    "# X_test_filter_4 = X_test_filter_4/255.0"
   ]
  },
  {
   "cell_type": "code",
   "execution_count": 32,
   "id": "69e12e14",
   "metadata": {},
   "outputs": [
    {
     "data": {
      "text/plain": [
       "(28, 28)"
      ]
     },
     "execution_count": 32,
     "metadata": {},
     "output_type": "execute_result"
    }
   ],
   "source": [
    "X_train_filter_0[1].shape"
   ]
  },
  {
   "cell_type": "code",
   "execution_count": 33,
   "id": "2f13bf7d",
   "metadata": {},
   "outputs": [],
   "source": [
    "# Flattening the Input"
   ]
  },
  {
   "cell_type": "code",
   "execution_count": 34,
   "id": "4997f0e2",
   "metadata": {},
   "outputs": [],
   "source": [
    "def flattenInput(mat):\n",
    "        mat = mat.flatten()\n",
    "        mat = mat.reshape(mat.shape[0],1)\n",
    "        return mat"
   ]
  },
  {
   "cell_type": "code",
   "execution_count": 35,
   "id": "de730428",
   "metadata": {},
   "outputs": [],
   "source": [
    "# Weight Initialization(Random,Normalized)"
   ]
  },
  {
   "cell_type": "code",
   "execution_count": 36,
   "id": "9479785f",
   "metadata": {},
   "outputs": [],
   "source": [
    "def weightInitialization(rows , cols, type = \"random\"):\n",
    "    if(type == \"random\"):\n",
    "        initialWeights = np.random.random(size = (rows,cols))\n",
    "    else:\n",
    "        initialWeights = np.random.normal(size = (rows,cols))\n",
    "    initialWeights = initialWeights.reshape(rows,cols)\n",
    "    return initialWeights"
   ]
  },
  {
   "cell_type": "code",
   "execution_count": 37,
   "id": "8d69148d",
   "metadata": {},
   "outputs": [],
   "source": [
    "weights = weightInitialization(784,20,\"normalize\")"
   ]
  },
  {
   "cell_type": "code",
   "execution_count": 38,
   "id": "90967c1f",
   "metadata": {},
   "outputs": [
    {
     "data": {
      "text/plain": [
       "(784, 20)"
      ]
     },
     "execution_count": 38,
     "metadata": {},
     "output_type": "execute_result"
    }
   ],
   "source": [
    "weights.shape"
   ]
  },
  {
   "cell_type": "code",
   "execution_count": 70,
   "id": "58cbdb72",
   "metadata": {},
   "outputs": [],
   "source": [
    "# Manipulating the Array"
   ]
  },
  {
   "cell_type": "code",
   "execution_count": 40,
   "id": "19ea89ab",
   "metadata": {},
   "outputs": [],
   "source": [
    "def manipulatingTheArray(mat):\n",
    "    mat = flattenInput(mat)\n",
    "    \n",
    "    for index in range(mat.shape[0]): \n",
    "        if mat[index] == 0:\n",
    "            mat[index] = -0.002\n",
    "    return mat"
   ]
  },
  {
   "cell_type": "code",
   "execution_count": 41,
   "id": "cdaf3fd2",
   "metadata": {},
   "outputs": [],
   "source": [
    "# Thresholding Weight"
   ]
  },
  {
   "cell_type": "code",
   "execution_count": 42,
   "id": "27c0e5ad",
   "metadata": {},
   "outputs": [],
   "source": [
    "def thresholding(out):\n",
    "    for item in range(out.shape[1]):\n",
    "        if out[0][item] >= 0.8:\n",
    "            out[0][item] = 0.8\n",
    "        elif out[0][item] >= 0.5 and out[0][item] < 0.8:\n",
    "            out[0][item] = 0.5\n",
    "        elif out[0][item] > 0.1 and out[0][item] < 0.5:\n",
    "            out[0][item] = 0.3\n",
    "        else:\n",
    "            out[0][item] = 0.1\n",
    "    return out"
   ]
  },
  {
   "cell_type": "code",
   "execution_count": 43,
   "id": "b88b8e6d",
   "metadata": {},
   "outputs": [],
   "source": [
    "def ActThresholding(out):\n",
    "    for item in range(out.shape[1]):\n",
    "        if out[0][item] >= 0.9:\n",
    "            out[0][item] = 0.9\n",
    "        else:\n",
    "            out[0][item] = -0.9\n",
    "    return out"
   ]
  },
  {
   "cell_type": "code",
   "execution_count": 44,
   "id": "1245b278",
   "metadata": {},
   "outputs": [],
   "source": [
    "# Threshold Check"
   ]
  },
  {
   "cell_type": "code",
   "execution_count": 45,
   "id": "22121add",
   "metadata": {},
   "outputs": [],
   "source": [
    "def crossThreshold(out,neuronThreshold):\n",
    "    flag = 0\n",
    "    for item in range(out.shape[1]):\n",
    "        if out[0][item] > neuronThreshold[0][item]:\n",
    "            neuronThreshold[0][item] += 0.2\n",
    "            flag = 1\n",
    "    \n",
    "    if flag == 1:\n",
    "        return True\n",
    "    return False"
   ]
  },
  {
   "cell_type": "markdown",
   "id": "e4933c14",
   "metadata": {},
   "source": [
    "# Cross Threshold Update\n",
    "* function : crossThresholdUpdate\n",
    "* parameter: afteractivation , neuronThreshold Matrix\n",
    "* return : updated activation matrix"
   ]
  },
  {
   "cell_type": "code",
   "execution_count": 76,
   "id": "630a7eb0",
   "metadata": {},
   "outputs": [],
   "source": [
    "def crossThresholdUpdate(afterActivation,neuronThreshold):\n",
    "    for item in range(afterActivation.shape[1]):\n",
    "        if afterActivation[0][item] > 0.8:\n",
    "            neuronThreshold[0][item] += 0.002\n",
    "            afterActivation[0][item] = 0\n",
    "        else:\n",
    "            afterActivation[0][item] = afterActivation[0][item] - 0.001\n",
    "            \n",
    "    return afterActivation"
   ]
  },
  {
   "cell_type": "code",
   "execution_count": 77,
   "id": "1efb59e7",
   "metadata": {},
   "outputs": [],
   "source": [
    "# Weight Threshold (Future Reference)"
   ]
  },
  {
   "cell_type": "code",
   "execution_count": 48,
   "id": "89147142",
   "metadata": {},
   "outputs": [],
   "source": [
    "def weightThreshold(weight):\n",
    "    for indexi in range(weight.shape[0]):\n",
    "        for indexj in range(weight.shape[1]):\n",
    "            if weight[indexi][indexj] >= 1:\n",
    "                weight[indexi][indexj] = 1\n",
    "    return weight"
   ]
  },
  {
   "cell_type": "code",
   "execution_count": 49,
   "id": "bbd81d06",
   "metadata": {},
   "outputs": [],
   "source": [
    "# Calculate Accuracy"
   ]
  },
  {
   "cell_type": "code",
   "execution_count": 50,
   "id": "7345c994",
   "metadata": {},
   "outputs": [],
   "source": [
    "def accuracy(data,finalWeight):\n",
    "    predict_0 = []\n",
    "    predict_7 = []\n",
    "    for item in data:\n",
    "        item = flattenInput(item)\n",
    "        res = np.dot(item.T,finalWeight)\n",
    "        res = np.median(res)\n",
    "        if res >= 55 and res <= 85:\n",
    "            predict_0.append(1)\n",
    "        elif res >=30 and res <55:\n",
    "            predict_7.append(1)\n",
    "    return len(predict_0), len(predict_7)"
   ]
  },
  {
   "cell_type": "code",
   "execution_count": 51,
   "id": "95827b4e",
   "metadata": {},
   "outputs": [],
   "source": [
    "# Print Results"
   ]
  },
  {
   "cell_type": "code",
   "execution_count": 52,
   "id": "2af6654c",
   "metadata": {},
   "outputs": [],
   "source": [
    "def printResults(inputImage,finalWeight):\n",
    "    result = []\n",
    "    for item in inputImage:\n",
    "        item = flattenInput(item)\n",
    "        #item = manipulatingTheArray(item)\n",
    "        result.append(np.dot(item.T,finalWeight))\n",
    "    return result"
   ]
  },
  {
   "cell_type": "code",
   "execution_count": 53,
   "id": "d60c4464",
   "metadata": {},
   "outputs": [],
   "source": [
    "def printResultsBlock(inputImage,weight):\n",
    "    result = []\n",
    "    resultSum = []\n",
    "    for item in inputImage:\n",
    "        item = flattenInput(item)\n",
    "        #item = manipulatingTheArray(item)\n",
    "        \n",
    "        startIndex = 0\n",
    "        blockSize = 7\n",
    "        pval = 0\n",
    "        resultRow = []\n",
    "        sum_ = 0\n",
    "        while(startIndex < 784):\n",
    "            image_ = item[startIndex:startIndex + blockSize]\n",
    "            weight_ = weight[startIndex : startIndex + blockSize]\n",
    "                \n",
    "            resultDotProduct = np.dot(image_.T,weight_)\n",
    "            sum_ = sum_ + resultDotProduct\n",
    "            resultRow.append(resultDotProduct)\n",
    "            startIndex += blockSize\n",
    "            \n",
    "        result.append(resultRow)\n",
    "        resultSum.append(sum_)\n",
    "    return result , resultSum\n",
    "\n"
   ]
  },
  {
   "cell_type": "markdown",
   "id": "18df552c",
   "metadata": {},
   "source": [
    "# Print Result\n",
    "\n",
    "* function   : printResultsBlockIncludingAnotherLayer\n",
    "* parameters : images , weights of (1st Layer , 2nd Layer)\n",
    "* return     : final result and 1st layer result"
   ]
  },
  {
   "cell_type": "code",
   "execution_count": 55,
   "id": "5072fbe0",
   "metadata": {},
   "outputs": [],
   "source": [
    "def printResultsBlockIncludingAnotherLayer(inputImage,weight1,weight2):\n",
    "    result = []\n",
    "    resultSum = []\n",
    "    for item in inputImage:\n",
    "        item = flattenInput(item)\n",
    "        #item = manipulatingTheArray(item)\n",
    "        \n",
    "        startIndex = 0\n",
    "        blockSize = 28\n",
    "        pval = 0\n",
    "        resultRow = []\n",
    "        sum_ = 0\n",
    "        while(startIndex < 784):\n",
    "            image_ = item[startIndex:startIndex + blockSize]\n",
    "            weight_ = weight1[startIndex : startIndex + blockSize]\n",
    "                \n",
    "            resultDotProduct = np.dot(image_.T,weight_)\n",
    "            sum_ = sum_ + resultDotProduct\n",
    "            resultRow.append(resultDotProduct)\n",
    "            startIndex += blockSize\n",
    "            \n",
    "        #result.append(resultRow)\n",
    "        \n",
    "        resultRow = np.array(resultRow)\n",
    "        ans = np.dot(resultRow.T,weight2)\n",
    "        result.append(ans)\n",
    "        \n",
    "    return result , resultRow\n"
   ]
  },
  {
   "cell_type": "markdown",
   "id": "8fc6dad8",
   "metadata": {},
   "source": [
    "# Print Result( Other way of calculating results)\n",
    "\n",
    "* function    : printResults2(Need to think of a better name)\n",
    "* parameters  : images , weights (1st Layer , 2nd Layer)\n",
    "* return      : result matrix"
   ]
  },
  {
   "cell_type": "code",
   "execution_count": 57,
   "id": "0fcb28d1",
   "metadata": {},
   "outputs": [],
   "source": [
    "def printResults2(inputImage,weight1,weight2):\n",
    "    result = []\n",
    "    for item in inputImage:\n",
    "        item = flattenInput(item)\n",
    "        out = np.dot(item.T,weight1)\n",
    "        out = np.dot(out,weight2)\n",
    "        result.append(out)\n",
    "    return result"
   ]
  },
  {
   "cell_type": "markdown",
   "id": "918a2d1f",
   "metadata": {},
   "source": [
    "* flatten the test image set"
   ]
  },
  {
   "cell_type": "code",
   "execution_count": 58,
   "id": "a81e9477",
   "metadata": {},
   "outputs": [],
   "source": [
    "testFlatten = []\n",
    "\n",
    "for image_ in X_test:\n",
    "        image_ = flattenInput(image_)\n",
    "        testFlatten.append(image_)"
   ]
  },
  {
   "cell_type": "markdown",
   "id": "7b237661",
   "metadata": {},
   "source": [
    "# ConverToBinary\n",
    "\n",
    "* function   : convertToBinary\n",
    "* parameters : activation and neuronThreshold matrix\n",
    "* return : updated activation matrix\n",
    "* Description: if the value in the activation is greater than the threshold value for that neuron , then value becomes 0.9 otherwise 0.001"
   ]
  },
  {
   "cell_type": "code",
   "execution_count": 59,
   "id": "2b236780",
   "metadata": {},
   "outputs": [],
   "source": [
    "def convertToBinary(activation,neuronThreshold):\n",
    "    for index in range(activation[0].shape[0]):\n",
    "        \n",
    "        if activation[0][index] > neuronThreshold[0][index]:\n",
    "            activation[0][index] = 0.9\n",
    "        else:\n",
    "            \n",
    "            activation[0][index] = 0.001\n",
    "            \n",
    "    return activation"
   ]
  },
  {
   "cell_type": "code",
   "execution_count": 60,
   "id": "dacc4fad",
   "metadata": {},
   "outputs": [],
   "source": [
    "# def binaryConversion(image):\n",
    "    \n",
    "#     for index in range(image.shape[0]):\n",
    "#         if image[index] != 0:\n",
    "#             image[index] = 1\n",
    "    \n",
    "#     return image"
   ]
  },
  {
   "cell_type": "code",
   "execution_count": 61,
   "id": "215214de",
   "metadata": {},
   "outputs": [
    {
     "data": {
      "text/plain": [
       "(784, 1)"
      ]
     },
     "execution_count": 61,
     "metadata": {},
     "output_type": "execute_result"
    }
   ],
   "source": [
    "testFlatten[0].shape"
   ]
  },
  {
   "cell_type": "code",
   "execution_count": 62,
   "id": "220668b7",
   "metadata": {},
   "outputs": [],
   "source": [
    "x = np.full((4),1)"
   ]
  },
  {
   "cell_type": "code",
   "execution_count": 63,
   "id": "66f95d79",
   "metadata": {},
   "outputs": [
    {
     "data": {
      "text/plain": [
       "array([1, 1, 1, 1])"
      ]
     },
     "execution_count": 63,
     "metadata": {},
     "output_type": "execute_result"
    }
   ],
   "source": [
    "x"
   ]
  },
  {
   "cell_type": "code",
   "execution_count": 64,
   "id": "29b7d06c",
   "metadata": {},
   "outputs": [],
   "source": [
    "# Weight Update"
   ]
  },
  {
   "cell_type": "code",
   "execution_count": 78,
   "id": "a6ae7646",
   "metadata": {},
   "outputs": [],
   "source": [
    "def weightUpdateContainingMemoryElement(epoch,iteration,inputImage,weight):\n",
    "    \"\"\"\n",
    "    Every epoch , We are doing iterations for every image in \n",
    "    the list\n",
    "    \"\"\"\n",
    "    flattenImage = []\n",
    "    for image_ in inputImage:\n",
    "        image_ = flattenInput(image_)\n",
    "        flattenImage.append(image_)\n",
    "    out = np.array(0)\n",
    "    alpha =1e-5 #4 \n",
    "    beta = 1e-7 #5\n",
    "     # alpha , beta = 1e-3 , 1e-2 \n",
    "    # alpha ,beta = 1e-1,1e-2 best values\n",
    "    \n",
    "    thresholdNeurons = np.full((1,20),0.02)\n",
    "    for epoch_ in range(epoch):\n",
    "            random.shuffle(flattenImage)\n",
    "            for input_ in flattenImage:\n",
    "                    out = alpha * np.dot(input_.T , weight) + out # dot product of input and weight and adding to out\n",
    "                    #out = ActThresholding(out)\n",
    "                    inputM = manipulatingTheArray(input_) # manipulating out (similiar to thresholding)\n",
    "                    weight = weight + beta * np.dot(input_,out) # Adding it to weight\n",
    "                    weight = weightThreshold(weight) # weight thresholding\n",
    "#                     if(crossThreshold(out,thresholdNeurons)):\n",
    "#                        out = 0.0\n",
    "#                     else:\n",
    "#                        out = out - beta * 0.01\n",
    "                    thresholdNeurons = crossThreshold(out,thresholdNeurons) #updating the threshold matrix\n",
    "            \n",
    "            print(f\"Epoch number {epoch_} finishes\")\n",
    "    return weight"
   ]
  },
  {
   "cell_type": "code",
   "execution_count": 79,
   "id": "97effd6f",
   "metadata": {},
   "outputs": [],
   "source": [
    "# Normalize function given min , max\n",
    "def normalize(arr, t_min, t_max):\n",
    "    norm_arr = []\n",
    "    diff = t_max - t_min\n",
    "    diff_arr = max(arr) - min(arr)   \n",
    "    for i in arr:\n",
    "        temp = (((i - min(arr))*diff)/diff_arr) + t_min\n",
    "        norm_arr.append(temp)\n",
    "    return norm_arr"
   ]
  },
  {
   "cell_type": "code",
   "execution_count": 81,
   "id": "e6a1f1bf",
   "metadata": {},
   "outputs": [],
   "source": [
    "def weightUpdateThresholding(epoch,inputImage,weight):\n",
    "    \"\"\"\n",
    "    Every epoch , We are doing iterations for every image in \n",
    "    the list\n",
    "    \"\"\"\n",
    "    flattenImage = []\n",
    "    for image_ in inputImage:\n",
    "        image_ = flattenInput(image_)\n",
    "        image_ = binaryConversion(image_)\n",
    "        flattenImage.append(image_)\n",
    "    activation = np.array(0)\n",
    "    alpha =1e-5 #4 \n",
    "    beta = 1e-7 #5\n",
    "    \n",
    "    thresholdNeurons = np.full((1,200),0.02)\n",
    "    for epoch_ in range(epoch):\n",
    "            random.shuffle(flattenImage)\n",
    "            for input_ in flattenImage:\n",
    "                    activation = alpha * np.dot(input_.T , weight) + activation # dot product of input and weight and adding to out\n",
    "                    #out = ActThresholding(out)\n",
    "                    afterActivation = convertToBinary(activation,thresholdNeurons) # Calculate activation\n",
    "                    #weight = weight + beta * np.dot(input_,afterActivation)\n",
    "                    afterActivation = crossThresholdUpdate(afterActivation,thresholdNeurons) #Cross Threshold function\n",
    "                    weight = weight + beta * np.dot(input_,afterActivation) # Add to the weight\n",
    "                    activation = afterActivation # change the activation value to the current one\n",
    "            \n",
    "            print(f\"Epoch number {epoch_} finishes\")\n",
    "    return weight"
   ]
  },
  {
   "cell_type": "code",
   "execution_count": 82,
   "id": "106d77ee",
   "metadata": {},
   "outputs": [],
   "source": [
    "def weightUpdateThresholding(epoch,inputImage,weight):\n",
    "    \"\"\"\n",
    "    Every epoch , We are doing iterations for every image in \n",
    "    the list\n",
    "    \"\"\"\n",
    "    flattenImage = []\n",
    "    for image_ in inputImage:\n",
    "        image_ = flattenInput(image_)\n",
    "        image_ = binaryConversion(image_)\n",
    "        flattenImage.append(image_)\n",
    "    activation = np.array(0)\n",
    "    alpha =1e-5 #4 \n",
    "    beta = 1e-7 #5\n",
    "    \n",
    "    \n",
    "    \n",
    "    thresholdNeurons = np.full((1,201),0.02)\n",
    "    for epoch_ in range(epoch):\n",
    "            random.shuffle(flattenImage)\n",
    "            for input_ in flattenImage:\n",
    "                    activation = alpha * np.dot(input_.T , weight) + activation\n",
    "                    #out = ActThresholding(out)\n",
    "                    afterActivation = convertToBinary(activation,thresholdNeurons)\n",
    "                    #weight = weight + beta * np.dot(input_,afterActivation\n",
    "                    \n",
    "                    afterActivation , thresholdNeuron = crossThresholdUpdate(afterActivation,thresholdNeurons)\n",
    "                    weight = weight + beta * np.dot(input_,afterActivation)\n",
    "                    activation = afterActivation\n",
    "            \n",
    "            print(f\"Epoch number {epoch_} finishes\")\n",
    "    return weight"
   ]
  },
  {
   "cell_type": "code",
   "execution_count": 83,
   "id": "6591498f",
   "metadata": {},
   "outputs": [],
   "source": [
    "def multipleBlocks(epoch, inputImage, weight):\n",
    "    flattenImage = []\n",
    "    check  = []\n",
    "    for image_ in inputImage:\n",
    "        image_ = flattenInput(image_)\n",
    "        flattenImage.append(image_)\n",
    "    #creating block of images\n",
    "    #print(flattenImage[0])\n",
    "    \n",
    "    index = 0\n",
    "    blockSize = 28\n",
    "    \n",
    "    alpha = 0.1\n",
    "    for epoch_ in range(epoch):\n",
    "        random.shuffle(flattenImage)\n",
    "        for input_ in flattenImage:\n",
    "            \n",
    "            startIndex = 0\n",
    "            errorFromThePreviousLevel = 0\n",
    "            prevVal = 0\n",
    "            val = 0\n",
    "            pVal = 0\n",
    "            while(startIndex < 784):\n",
    "                image_ = input_[startIndex:startIndex + blockSize]\n",
    "                weight_ = weight[startIndex : startIndex + blockSize]\n",
    "                \n",
    "                dotProduct =  np.dot(image_.T,weight_)\n",
    "                \n",
    "                if dotProduct  >= 5 and dotProduct < 1000:\n",
    "                    for index in range(weight_.shape[0]):\n",
    "                        check.append(\"increase\")\n",
    "                        if weight_[index] < 200:\n",
    "                            weight_[index] = weight_[index] + alpha * dotProduct\n",
    "                elif dotProduct < 2:\n",
    "                     for index in range(weight_.shape[0]):\n",
    "                        check.append(\"decrease\")\n",
    "                        if weight_[index] > -200:\n",
    "                            weight_[index] = weight_[index] - alpha * dotProduct\n",
    "                startIndex += blockSize\n",
    "        \n",
    "        print(f\"Epoch : {epoch_} Completed\")\n",
    "    \n",
    "    return weight , check\n"
   ]
  },
  {
   "cell_type": "code",
   "execution_count": 84,
   "id": "f8d9e8f3",
   "metadata": {},
   "outputs": [],
   "source": [
    "def multipleBlocksWithMemoryElement(epoch, inputImage, weight1 , weight2):\n",
    "    flattenImage = []\n",
    "    check  = []\n",
    "    for image_ in inputImage:\n",
    "        image_ = flattenInput(image_)\n",
    "        flattenImage.append(image_)\n",
    "\n",
    "    \n",
    "    index = 0\n",
    "    blockSize = 28\n",
    "    blockIndex = 0\n",
    "    output = np.full((28,1),0)\n",
    "    output2Layer = np.full((3,1),0)\n",
    "    alpha = 0.1\n",
    "    for epoch_ in range(epoch):\n",
    "        random.shuffle(flattenImage)\n",
    "        output.fill(0)\n",
    "        output2Layer.fill(0)\n",
    "        for input_ in flattenImage:\n",
    "            \n",
    "            startIndex = 0\n",
    "            blockIndex = 0\n",
    "            while(startIndex < 784):\n",
    "                image_ = input_[startIndex:startIndex + blockSize]\n",
    "                weight_ = weight1[startIndex : startIndex + blockSize]\n",
    "                dotProduct =  np.dot(image_.T,weight_)\n",
    "                output[blockIndex] = output[blockIndex] + dotProduct\n",
    "                \n",
    "                if dotProduct  >= 5 and dotProduct < 200:\n",
    "                    for index in range(weight_.shape[0]):\n",
    "                        if weight_[index] < 50 and weight_[index] > 0:\n",
    "                            weight_[index] = weight_[index] + alpha * output[blockIndex]\n",
    "                elif dotProduct < 5:\n",
    "                     for index in range(weight_.shape[0]):\n",
    "                        if weight_[index] > -50 and weight_[index] < 3:\n",
    "                            weight_[index] = weight_[index] - alpha * output[blockIndex]\n",
    "                startIndex += blockSize\n",
    "                \n",
    "                if(output[blockIndex] > 100):\n",
    "                    output[blockIndex] = 0\n",
    "                else:\n",
    "                    output[blockIndex] = output[blockIndex] -  alpha * 0.9\n",
    "                blockIndex += 1\n",
    "            #print(output)\n",
    "            output2nLayer = np.dot(output.T,weight2)\n",
    "            output2Layer[0] = output2Layer[0] + output2nLayer[0][0]\n",
    "            output2Layer[1] = output2Layer[1] + output2nLayer[0][1]\n",
    "            output2Layer[2] = output2Layer[2] + output2nLayer[0][2]\n",
    "            \n",
    "            for index in range(3):\n",
    "                if(output2Layer[index] > 200):\n",
    "                    output2Layer[index] = 0\n",
    "                else:\n",
    "                    output2Layer[index] = output2Layer[index] -  alpha * 20\n",
    "            #print(output2nLayer.shape)\n",
    "            #print(output2nLayer)\n",
    "            for outputNeuronIndex in range(output2nLayer.shape[1]):\n",
    "                 #print(output2nLayer[0][outputNeuronIndex])\n",
    "                if output2Layer[outputNeuronIndex] > 20:\n",
    "                    for index in range(weight2.shape[0]):\n",
    "                        #print(weight2[index][outputNeuronIndex])\n",
    "                        if weight2[index][outputNeuronIndex] < 100 and output[index] > 30:\n",
    "                            weight2[index][outputNeuronIndex] = weight2[index][outputNeuronIndex] + alpha * output2Layer[outputNeuronIndex] + alpha * output[index]\n",
    "                            #weight2[index][outputNeuronIndex] = weight2[index][outputNeuronIndex] + alpha * output[]\n",
    "                            #print(weight2[index][outputNeuronIndex]\n",
    "                            \n",
    "                else:\n",
    "                    for index in range(weight2.shape[0]):\n",
    "                        #print(weight2[index][outputNeuronIndex])\n",
    "                        if weight2[index][outputNeuronIndex] > -100 and weight2[index][outputNeuronIndex] < 0:\n",
    "                            weight2[index][outputNeuronIndex] = weight2[index][outputNeuronIndex] - alpha * output2Layer[outputNeuronIndex] - alpha * output[index]\n",
    "                \n",
    "                        \n",
    "    #print(f\"Epoch : {epoch_} Completed\")\n",
    "    return weight1 , weight2 , check , output\n"
   ]
  },
  {
   "cell_type": "code",
   "execution_count": 85,
   "id": "a7b9a010",
   "metadata": {},
   "outputs": [],
   "source": [
    "def hidden(epoch, inputImage, weight1 , weight2):\n",
    "    flattenImage = []\n",
    "    check  = []\n",
    "    for image_ in inputImage:\n",
    "        image_ = flattenInput(image_)\n",
    "        flattenImage.append(image_)\n",
    "\n",
    "    \n",
    "    index = 0\n",
    "    blockSize = 28\n",
    "    blockIndex = 0\n",
    "    output = np.full((28,1),0)\n",
    "    output2Layer = np.full((3,1),0)\n",
    "    alpha = 0.1\n",
    "    for epoch_ in range(epoch):\n",
    "        random.shuffle(flattenImage)\n",
    "        output.fill(0)\n",
    "        output2Layer.fill(0)\n",
    "        for input_ in flattenImage:\n",
    "            \n",
    "            startIndex = 0\n",
    "            blockIndex = 0\n",
    "            while(startIndex < 784):\n",
    "                image_ = input_[startIndex:startIndex + blockSize]\n",
    "                weight_ = weight1[startIndex : startIndex + blockSize]\n",
    "                dotProduct =  np.dot(image_.T,weight_)\n",
    "                output[blockIndex] = output[blockIndex] + dotProduct\n",
    "                \n",
    "                if dotProduct  >= 5 and dotProduct < 200:\n",
    "                    for index in range(weight_.shape[0]):\n",
    "                        if weight_[index] < 50 and weight_[index] > 0:\n",
    "                            weight_[index] = weight_[index] + alpha * output[blockIndex]\n",
    "                elif dotProduct < 5:\n",
    "                     for index in range(weight_.shape[0]):\n",
    "                        if weight_[index] > -50 and weight_[index] < 3:\n",
    "                            weight_[index] = weight_[index] - alpha * output[blockIndex]\n",
    "                startIndex += blockSize\n",
    "                \n",
    "                if(output[blockIndex] > 100):\n",
    "                    output[blockIndex] = 0\n",
    "                else:\n",
    "                    output[blockIndex] = output[blockIndex] -  alpha * 0.9\n",
    "                blockIndex += 1\n",
    "            #print(output)\n",
    "            output = np.array(normalize(output,0,1))\n",
    "            \n",
    "            output2nLayer = np.dot(output.T,weight2)\n",
    "            output2Layer[0] = output2Layer[0] + output2nLayer[0][0]\n",
    "            output2Layer[1] = output2Layer[1] + output2nLayer[0][1]\n",
    "            output2Layer[2] = output2Layer[2] + output2nLayer[0][2]\n",
    "            \n",
    "            output2Layer = np.array(normalize(output2Layer,0,1))\n",
    "            \n",
    "            for index in range(3):\n",
    "                if(output2Layer[index] > 200):\n",
    "                    output2Layer[index] = 0\n",
    "                else:\n",
    "                    output2Layer[index] = output2Layer[index] -  alpha * 0.9\n",
    "            #print(output2nLayer.shape)\n",
    "            #print(output2nLayer)\n",
    "            for outputNeuronIndex in range(output2nLayer.shape[1]):\n",
    "                 #print(output2nLayer[0][outputNeuronIndex])\n",
    "                if output2Layer[outputNeuronIndex] > 20:\n",
    "                    for index in range(weight2.shape[0]):\n",
    "                        #print(weight2[index][outputNeuronIndex])\n",
    "                        if weight2[index][outputNeuronIndex] < 10:\n",
    "                            weight2[index][outputNeuronIndex] = weight2[index][outputNeuronIndex] + alpha * output2Layer[outputNeuronIndex] + alpha * output[index]\n",
    "                            #weight2[index][outputNeuronIndex] = weight2[index][outputNeuronIndex] + alpha * output[]\n",
    "                            #print(weight2[index][outputNeuronIndex]\n",
    "                else:\n",
    "                    for index in range(weight2.shape[0]):\n",
    "                        #print(weight2[index][outputNeuronIndex])\n",
    "                        if weight2[index][outputNeuronIndex] > -10 and weight2[index][outputNeuronIndex] < 0 :\n",
    "                            weight2[index][outputNeuronIndex] = weight2[index][outputNeuronIndex] - alpha * output2Layer[outputNeuronIndex] - alpha * output[index]\n",
    "                \n",
    "                        \n",
    "    #print(f\"Epoch : {epoch_} Completed\")\n",
    "    return weight1 , weight2 , check , output\n"
   ]
  },
  {
   "cell_type": "code",
   "execution_count": 86,
   "id": "fcae9aed",
   "metadata": {},
   "outputs": [],
   "source": [
    "# 0.9 is working well\n",
    "# 1.5"
   ]
  },
  {
   "cell_type": "code",
   "execution_count": 87,
   "id": "59cad9bc",
   "metadata": {},
   "outputs": [],
   "source": [
    "weight1 = weightInitialization(784,1)\n",
    "weight2 = weightInitialization(28,3)"
   ]
  },
  {
   "cell_type": "code",
   "execution_count": 88,
   "id": "4752723c",
   "metadata": {
    "scrolled": true
   },
   "outputs": [
    {
     "data": {
      "text/plain": [
       "[<matplotlib.lines.Line2D at 0x284de0cd0>]"
      ]
     },
     "execution_count": 88,
     "metadata": {},
     "output_type": "execute_result"
    },
    {
     "data": {
      "image/png": "[encoded data removed]",
      "text/plain": [
       "<Figure size 640x480 with 1 Axes>"
      ]
     },
     "metadata": {},
     "output_type": "display_data"
    }
   ],
   "source": [
    "plt.plot(weight1)"
   ]
  },
  {
   "cell_type": "code",
   "execution_count": 89,
   "id": "47c10525",
   "metadata": {},
   "outputs": [
    {
     "name": "stdout",
     "output_type": "stream",
     "text": [
      "[0.24734263]\n"
     ]
    }
   ],
   "source": [
    "print(weight1[456])\n",
    "weight1 ,weight2, check , output= hidden(1,X_train_filter,weight1,weight2)"
   ]
  },
  {
   "cell_type": "code",
   "execution_count": 90,
   "id": "4a830151",
   "metadata": {},
   "outputs": [
    {
     "data": {
      "text/plain": [
       "array([[-5.00180871e+01],\n",
       "       [-5.00368749e+01],\n",
       "       [-5.00373629e+01],\n",
       "       [-5.00241890e+01],\n",
       "       [-5.00061909e+01],\n",
       "       [-5.00116231e+01],\n",
       "       [-5.00041152e+01],\n",
       "       [-5.00830885e+01],\n",
       "       [-5.00005201e+01],\n",
       "       [-5.00248072e+01],\n",
       "       [-5.00354607e+01],\n",
       "       [-5.00572096e+01],\n",
       "       [-5.00110448e+01],\n",
       "       [-5.00898197e+01],\n",
       "       [-5.00540909e+01],\n",
       "       [-5.00290351e+01],\n",
       "       [-5.00608661e+01],\n",
       "       [-5.00454606e+01],\n",
       "       [-5.00837485e+01],\n",
       "       [-5.00547450e+01],\n",
       "       [-5.00215841e+01],\n",
       "       [-5.00855988e+01],\n",
       "       [-5.00204251e+01],\n",
       "       [-5.00241159e+01],\n",
       "       [-5.00459959e+01],\n",
       "       [-5.00691823e+01],\n",
       "       [-5.00709541e+01],\n",
       "       [-5.00635786e+01],\n",
       "       [-5.00577119e+01],\n",
       "       [-5.00145866e+01],\n",
       "       [-5.00846383e+01],\n",
       "       [-5.00403024e+01],\n",
       "       [-5.00703273e+01],\n",
       "       [-5.00780251e+01],\n",
       "       [-5.00675970e+01],\n",
       "       [-5.00331025e+01],\n",
       "       [-5.00514019e+01],\n",
       "       [-5.00020754e+01],\n",
       "       [-5.00874893e+01],\n",
       "       [-5.00010151e+01],\n",
       "       [-5.00365005e+01],\n",
       "       [-5.00906890e+01],\n",
       "       [-5.00771823e+01],\n",
       "       [-5.00490090e+01],\n",
       "       [-5.00601787e+01],\n",
       "       [-5.00076727e+01],\n",
       "       [-5.00139709e+01],\n",
       "       [-5.00755555e+01],\n",
       "       [-5.00317009e+01],\n",
       "       [-5.00578831e+01],\n",
       "       [-5.00202483e+01],\n",
       "       [-5.00684070e+01],\n",
       "       [-5.00221812e+01],\n",
       "       [-5.00491002e+01],\n",
       "       [-5.00325974e+01],\n",
       "       [-5.00996499e+01],\n",
       "       [-3.64798344e+01],\n",
       "       [-3.63094759e+01],\n",
       "       [-3.64344762e+01],\n",
       "       [-3.64479788e+01],\n",
       "       [-3.65041174e+01],\n",
       "       [-3.69960210e+01],\n",
       "       [-3.66343222e+01],\n",
       "       [-3.63703828e+01],\n",
       "       [-3.62684916e+01],\n",
       "       [-3.68016627e+01],\n",
       "       [-3.66011344e+01],\n",
       "       [-3.62896032e+01],\n",
       "       [-3.68503254e+01],\n",
       "       [-3.67332742e+01],\n",
       "       [-3.64027363e+01],\n",
       "       [-3.69788859e+01],\n",
       "       [-3.62234913e+01],\n",
       "       [-3.62714393e+01],\n",
       "       [-3.65839857e+01],\n",
       "       [-3.62767694e+01],\n",
       "       [-3.69370987e+01],\n",
       "       [-3.67438050e+01],\n",
       "       [-3.62884926e+01],\n",
       "       [-3.64070233e+01],\n",
       "       [-3.63342606e+01],\n",
       "       [-3.69542928e+01],\n",
       "       [-3.64845821e+01],\n",
       "       [-3.68093108e+01],\n",
       "       [-1.65570712e+00],\n",
       "       [-1.99304513e+00],\n",
       "       [-2.55715906e+00],\n",
       "       [-2.40948954e+00],\n",
       "       [-2.36206692e+00],\n",
       "       [-2.30973230e+00],\n",
       "       [-2.04244520e+00],\n",
       "       [-1.85244331e+00],\n",
       "       [-2.55943491e+00],\n",
       "       [-2.19128843e+00],\n",
       "       [-2.34648970e+00],\n",
       "       [-2.13352262e+00],\n",
       "       [-2.29697533e+00],\n",
       "       [-2.33048495e+00],\n",
       "       [-2.49720250e+00],\n",
       "       [-1.92423813e+00],\n",
       "       [-1.84212831e+00],\n",
       "       [-1.77884149e+00],\n",
       "       [-1.99592185e+00],\n",
       "       [-1.95431518e+00],\n",
       "       [-1.95327078e+00],\n",
       "       [-2.48571736e+00],\n",
       "       [-2.29022800e+00],\n",
       "       [-1.99952635e+00],\n",
       "       [-1.63938575e+00],\n",
       "       [-2.39785107e+00],\n",
       "       [-2.10346215e+00],\n",
       "       [-2.39118519e+00],\n",
       "       [ 1.22024417e-01],\n",
       "       [ 1.88323653e-01],\n",
       "       [ 1.30620692e-01],\n",
       "       [ 2.89882339e-01],\n",
       "       [-2.64439893e-01],\n",
       "       [-5.91159775e-01],\n",
       "       [ 2.91866591e-01],\n",
       "       [ 1.63032139e-01],\n",
       "       [-2.63954225e-01],\n",
       "       [ 1.38238429e-01],\n",
       "       [-1.32430714e-01],\n",
       "       [-2.18245459e-01],\n",
       "       [ 2.77091934e-01],\n",
       "       [-5.08653299e-01],\n",
       "       [-3.48024538e-01],\n",
       "       [ 1.93517706e-01],\n",
       "       [-5.48072271e-02],\n",
       "       [-6.00855566e-01],\n",
       "       [-1.46996234e-01],\n",
       "       [-6.65902677e-01],\n",
       "       [ 1.54120728e-01],\n",
       "       [-2.99698020e-01],\n",
       "       [-2.02429037e-01],\n",
       "       [-4.86448250e-01],\n",
       "       [-5.50355143e-01],\n",
       "       [-3.75234456e-01],\n",
       "       [ 1.03672140e-01],\n",
       "       [-2.52690268e-01],\n",
       "       [-5.66541641e-01],\n",
       "       [-6.86391346e-02],\n",
       "       [ 1.52028776e-01],\n",
       "       [-2.05869173e-01],\n",
       "       [ 1.62124901e-01],\n",
       "       [-1.62785342e-01],\n",
       "       [-2.08224982e-01],\n",
       "       [-1.48981044e-01],\n",
       "       [-2.66585047e-01],\n",
       "       [-2.64451745e-01],\n",
       "       [ 3.33594812e-01],\n",
       "       [ 2.07993806e-01],\n",
       "       [-4.04887854e-02],\n",
       "       [ 1.72036950e-01],\n",
       "       [-1.99344851e-01],\n",
       "       [-4.75294913e-01],\n",
       "       [-2.34117928e-01],\n",
       "       [ 3.61022740e-02],\n",
       "       [-1.73943048e-01],\n",
       "       [ 3.26283695e-01],\n",
       "       [-5.70589437e-01],\n",
       "       [ 8.64906956e-02],\n",
       "       [ 2.19583433e-01],\n",
       "       [-2.01592626e-01],\n",
       "       [-4.24365744e-01],\n",
       "       [-2.31476221e-01],\n",
       "       [ 1.41505689e-01],\n",
       "       [-2.96209684e-02],\n",
       "       [ 2.43509879e-01],\n",
       "       [-3.52422534e-01],\n",
       "       [-1.70558828e-01],\n",
       "       [ 3.74416486e-01],\n",
       "       [ 4.99440430e-01],\n",
       "       [ 2.48162792e-01],\n",
       "       [ 1.80530657e-03],\n",
       "       [-4.21058223e-01],\n",
       "       [-3.79407021e-01],\n",
       "       [ 4.02128837e-01],\n",
       "       [ 3.25239730e-01],\n",
       "       [ 2.93505211e-01],\n",
       "       [ 1.25468124e-01],\n",
       "       [-5.25396806e-02],\n",
       "       [-3.22148315e-01],\n",
       "       [-4.66773235e-01],\n",
       "       [-1.62290809e-01],\n",
       "       [-1.55700841e-01],\n",
       "       [-7.83705539e-02],\n",
       "       [-6.29496954e-02],\n",
       "       [ 4.40745798e-01],\n",
       "       [-3.98847396e-01],\n",
       "       [ 3.05326703e-01],\n",
       "       [-4.57496043e-01],\n",
       "       [ 2.49618556e-01],\n",
       "       [ 3.91000016e-01],\n",
       "       [-4.40806805e-01],\n",
       "       [ 1.80325839e-01],\n",
       "       [ 2.23097804e-01],\n",
       "       [-1.99890661e-01],\n",
       "       [-4.36457737e-01],\n",
       "       [-1.52377358e-01],\n",
       "       [-4.07334814e-01],\n",
       "       [-2.84370862e-01],\n",
       "       [-1.46702347e-01],\n",
       "       [-1.33443521e-01],\n",
       "       [ 1.97368946e-01],\n",
       "       [ 2.54511119e-01],\n",
       "       [-5.12723242e-01],\n",
       "       [ 7.51426782e-02],\n",
       "       [ 1.49543923e-01],\n",
       "       [-3.78997365e-01],\n",
       "       [ 2.39188755e-01],\n",
       "       [-5.06458062e-01],\n",
       "       [ 1.68690744e-01],\n",
       "       [-1.99182052e-01],\n",
       "       [ 1.33814527e-01],\n",
       "       [ 1.94145411e-01],\n",
       "       [-1.85257113e-01],\n",
       "       [-1.67251043e-01],\n",
       "       [-4.57328823e-01],\n",
       "       [-4.82341598e-01],\n",
       "       [ 1.63623187e-01],\n",
       "       [ 2.60080000e-01],\n",
       "       [ 2.78014159e-01],\n",
       "       [ 2.90532894e-01],\n",
       "       [ 4.48579262e-01],\n",
       "       [-4.21825429e-01],\n",
       "       [ 1.03433326e-01],\n",
       "       [ 5.10143102e-01],\n",
       "       [ 4.39955932e-01],\n",
       "       [-2.12012377e-01],\n",
       "       [-4.33390513e-01],\n",
       "       [-1.60050538e-02],\n",
       "       [ 4.28024511e-01],\n",
       "       [ 3.04204682e-01],\n",
       "       [ 4.09660759e-01],\n",
       "       [-1.54572553e-01],\n",
       "       [ 3.46075895e-01],\n",
       "       [-2.72907562e-01],\n",
       "       [-3.46386465e-01],\n",
       "       [-3.79410829e-01],\n",
       "       [-6.41471939e-03],\n",
       "       [ 3.84019395e-01],\n",
       "       [-3.07674321e-01],\n",
       "       [-3.75496895e-01],\n",
       "       [-2.52878764e-02],\n",
       "       [-3.04860456e-01],\n",
       "       [ 3.25773570e-01],\n",
       "       [ 2.81486766e-01],\n",
       "       [-4.70976251e-01],\n",
       "       [-4.48837658e-01],\n",
       "       [-3.06628007e-01],\n",
       "       [ 4.02798194e-01],\n",
       "       [-1.30606769e-01],\n",
       "       [-5.98143253e-01],\n",
       "       [ 3.55352864e-01],\n",
       "       [-2.86682032e-01],\n",
       "       [ 3.30220936e-01],\n",
       "       [-2.57190352e-01],\n",
       "       [ 1.66615765e-01],\n",
       "       [-5.65902779e-02],\n",
       "       [-2.54063915e-01],\n",
       "       [-3.82110184e-01],\n",
       "       [-5.43373408e-01],\n",
       "       [-7.96250835e-02],\n",
       "       [ 2.43578364e-01],\n",
       "       [-5.81257372e-01],\n",
       "       [-4.19467626e-01],\n",
       "       [-1.01343018e-02],\n",
       "       [-4.27717423e-03],\n",
       "       [-1.43376868e-01],\n",
       "       [-6.10798415e-02],\n",
       "       [ 2.92632944e-01],\n",
       "       [-4.05335309e-01],\n",
       "       [ 2.92647665e-01],\n",
       "       [-3.77524335e-01],\n",
       "       [-7.50865294e-02],\n",
       "       [-1.97609345e-01],\n",
       "       [-5.22490002e-01],\n",
       "       [-3.50423172e-01],\n",
       "       [ 1.52008679e-01],\n",
       "       [-4.60433040e-01],\n",
       "       [-6.87466722e-01],\n",
       "       [-6.39326135e-01],\n",
       "       [-8.56154697e-02],\n",
       "       [-5.67211540e-01],\n",
       "       [-5.05310651e-01],\n",
       "       [-2.08309884e-01],\n",
       "       [ 1.33025237e-01],\n",
       "       [-5.26375321e-01],\n",
       "       [-4.71888389e-01],\n",
       "       [-6.93095557e-01],\n",
       "       [ 1.57701568e-01],\n",
       "       [-4.62489659e-01],\n",
       "       [ 2.28292786e-01],\n",
       "       [-1.07640901e-01],\n",
       "       [-5.69206694e-01],\n",
       "       [-6.34494226e-01],\n",
       "       [ 2.35482394e-01],\n",
       "       [ 6.74170195e-02],\n",
       "       [-5.58507750e-01],\n",
       "       [ 2.00910711e-01],\n",
       "       [-2.14260227e-01],\n",
       "       [ 1.63735435e-01],\n",
       "       [-6.80586842e-01],\n",
       "       [-7.14733744e-01],\n",
       "       [-5.11928963e-01],\n",
       "       [ 1.44667146e-01],\n",
       "       [-4.83297727e-01],\n",
       "       [ 1.90223771e-01],\n",
       "       [-1.86891633e-01],\n",
       "       [-4.38010569e-02],\n",
       "       [ 9.83045145e-02],\n",
       "       [-7.09901587e-01],\n",
       "       [-6.86689172e-01],\n",
       "       [-4.88573385e-01],\n",
       "       [-3.52020410e-01],\n",
       "       [-1.11823396e-01],\n",
       "       [ 1.82928526e-01],\n",
       "       [ 1.37589620e-01],\n",
       "       [ 1.95476004e-01],\n",
       "       [-6.31574057e-01],\n",
       "       [-6.45464084e-01],\n",
       "       [-5.11802193e-01],\n",
       "       [ 2.08346404e-01],\n",
       "       [ 1.44402028e-01],\n",
       "       [-1.10746243e-01],\n",
       "       [-1.81904286e-01],\n",
       "       [-6.00004477e-01],\n",
       "       [-5.40373279e-01],\n",
       "       [-1.76876575e-01],\n",
       "       [-4.11436778e-01],\n",
       "       [-4.42833156e-01],\n",
       "       [-3.20118248e-01],\n",
       "       [-5.89792611e-01],\n",
       "       [ 1.10254307e-01],\n",
       "       [-1.83621181e-01],\n",
       "       [-9.75645154e-02],\n",
       "       [-5.59551803e-01],\n",
       "       [-4.36848622e-01],\n",
       "       [-6.43687497e-01],\n",
       "       [-4.11645155e-01],\n",
       "       [-1.68628840e-01],\n",
       "       [-4.38916144e-01],\n",
       "       [-2.49213419e-01],\n",
       "       [ 2.27448613e-01],\n",
       "       [ 1.33640119e-01],\n",
       "       [-2.44452047e-01],\n",
       "       [ 2.07666018e-01],\n",
       "       [-7.49892870e-02],\n",
       "       [-5.44606623e-01],\n",
       "       [ 9.32929325e-02],\n",
       "       [-2.76834697e-02],\n",
       "       [-4.97616595e-01],\n",
       "       [-5.47785295e-01],\n",
       "       [ 1.05265443e-01],\n",
       "       [ 1.56676722e-01],\n",
       "       [-6.72829617e-01],\n",
       "       [-1.72271364e-01],\n",
       "       [-6.12900545e-01],\n",
       "       [-2.18227262e-01],\n",
       "       [-6.33535231e-01],\n",
       "       [-4.28655704e-01],\n",
       "       [-3.83071114e-01],\n",
       "       [-5.26837497e-01],\n",
       "       [-2.37518145e-01],\n",
       "       [-3.24410554e-01],\n",
       "       [-5.21079252e-01],\n",
       "       [ 1.37855479e-01],\n",
       "       [-6.22628364e-01],\n",
       "       [ 1.83577168e-01],\n",
       "       [-5.75807130e-01],\n",
       "       [-1.22946086e-01],\n",
       "       [ 1.19369481e-01],\n",
       "       [-2.91975733e-01],\n",
       "       [-4.78052961e-02],\n",
       "       [-3.61359905e-01],\n",
       "       [-1.00530068e-01],\n",
       "       [ 1.47053563e-01],\n",
       "       [-3.04825692e-01],\n",
       "       [ 1.85080230e-02],\n",
       "       [ 2.32612182e-02],\n",
       "       [-5.93268488e-01],\n",
       "       [ 1.04047102e-01],\n",
       "       [-2.06916481e-01],\n",
       "       [-7.82576069e-02],\n",
       "       [-2.71639243e-02],\n",
       "       [-4.76335670e-01],\n",
       "       [-1.57345021e-01],\n",
       "       [-4.01104227e-01],\n",
       "       [-5.67484030e-01],\n",
       "       [ 2.61178122e-01],\n",
       "       [ 9.59739562e-02],\n",
       "       [-5.96467566e-01],\n",
       "       [ 2.41254520e-01],\n",
       "       [-6.32901903e-02],\n",
       "       [ 2.82368202e-01],\n",
       "       [-4.71047616e-01],\n",
       "       [ 2.62532461e-01],\n",
       "       [ 2.64130092e-01],\n",
       "       [ 1.08289192e-02],\n",
       "       [ 2.27727549e-01],\n",
       "       [ 1.28104383e-02],\n",
       "       [-4.10162927e-01],\n",
       "       [-1.37970835e-01],\n",
       "       [ 1.62970875e-02],\n",
       "       [ 1.99291166e-01],\n",
       "       [-2.41125285e-01],\n",
       "       [-5.68432007e-01],\n",
       "       [-2.90417143e-01],\n",
       "       [ 1.89671657e-01],\n",
       "       [ 4.51523523e-02],\n",
       "       [-2.77197454e-03],\n",
       "       [-6.11980168e-01],\n",
       "       [-3.26218006e-01],\n",
       "       [-5.77212996e-01],\n",
       "       [-4.53005716e-01],\n",
       "       [-5.86397408e-01],\n",
       "       [-4.15648659e-01],\n",
       "       [ 2.65033035e-01],\n",
       "       [-3.31231131e-01],\n",
       "       [ 3.24238629e-01],\n",
       "       [ 2.63324885e-01],\n",
       "       [-1.24018457e-01],\n",
       "       [-3.63565929e-01],\n",
       "       [-4.42687584e-01],\n",
       "       [-1.55015569e-01],\n",
       "       [ 2.26773075e-01],\n",
       "       [-5.49750566e-02],\n",
       "       [-3.63391031e-01],\n",
       "       [ 3.59148285e-01],\n",
       "       [-3.34216152e-01],\n",
       "       [-3.19572317e-01],\n",
       "       [-5.53434204e-01],\n",
       "       [-2.40270537e-01],\n",
       "       [ 2.22157500e-02],\n",
       "       [-5.17296178e-01],\n",
       "       [-2.45432439e-01],\n",
       "       [ 2.78121501e-01],\n",
       "       [-2.37998439e-01],\n",
       "       [-4.48859318e-01],\n",
       "       [-3.20933936e-01],\n",
       "       [ 2.03593308e-01],\n",
       "       [-5.48784443e-01],\n",
       "       [-9.44898860e-02],\n",
       "       [ 3.67762453e-01],\n",
       "       [ 1.14140123e-01],\n",
       "       [-2.73054318e-01],\n",
       "       [ 2.21174489e-03],\n",
       "       [-5.97730883e-01],\n",
       "       [-4.16098437e-01],\n",
       "       [ 5.89448800e-03],\n",
       "       [-4.17326018e-01],\n",
       "       [ 1.90089426e-01],\n",
       "       [-6.25043189e-01],\n",
       "       [ 1.37325903e-01],\n",
       "       [ 1.28322664e-01],\n",
       "       [-4.86585302e-01],\n",
       "       [-5.71517984e-01],\n",
       "       [-5.36781025e-01],\n",
       "       [ 9.77487102e-03],\n",
       "       [-2.75678306e-01],\n",
       "       [-9.01033055e-03],\n",
       "       [ 1.77637053e-01],\n",
       "       [-1.24641711e-01],\n",
       "       [-1.51487267e-01],\n",
       "       [ 1.15463911e-01],\n",
       "       [ 2.22990637e-01],\n",
       "       [ 6.84880350e-02],\n",
       "       [-1.30143050e-01],\n",
       "       [ 1.72476646e-01],\n",
       "       [-6.73434520e-01],\n",
       "       [-7.20900578e-01],\n",
       "       [-4.12631718e-01],\n",
       "       [-4.74666098e-01],\n",
       "       [-6.15453264e-01],\n",
       "       [-5.63491591e-01],\n",
       "       [-3.20697658e-01],\n",
       "       [-1.22897274e-01],\n",
       "       [-1.39525302e-01],\n",
       "       [-1.65224700e-01],\n",
       "       [-1.53346487e-01],\n",
       "       [-4.07157538e-01],\n",
       "       [-2.65852816e-01],\n",
       "       [-9.17626937e-02],\n",
       "       [-4.53746655e-01],\n",
       "       [-3.46501384e-01],\n",
       "       [ 1.42729968e-01],\n",
       "       [ 9.09327458e-02],\n",
       "       [ 6.82947037e-02],\n",
       "       [ 2.13887432e-01],\n",
       "       [-1.96947151e-01],\n",
       "       [ 4.32600675e-02],\n",
       "       [-2.66723444e-01],\n",
       "       [-5.53393031e-01],\n",
       "       [ 8.22289828e-02],\n",
       "       [-4.34022122e-01],\n",
       "       [ 1.04221168e-01],\n",
       "       [-6.46975657e-01],\n",
       "       [ 2.67792534e-01],\n",
       "       [-4.33332707e-01],\n",
       "       [-4.47991768e-01],\n",
       "       [ 9.75522743e-02],\n",
       "       [-8.17409591e-02],\n",
       "       [ 9.58562890e-02],\n",
       "       [-8.90370753e-02],\n",
       "       [-4.00477863e-01],\n",
       "       [ 2.81606358e-01],\n",
       "       [-1.15248875e-01],\n",
       "       [-3.34837817e-01],\n",
       "       [-1.74336639e-03],\n",
       "       [-2.66998609e-01],\n",
       "       [-9.49260379e-02],\n",
       "       [-5.93243032e-02],\n",
       "       [ 3.29416275e-01],\n",
       "       [-2.42463505e-01],\n",
       "       [ 3.45209120e-01],\n",
       "       [-2.00485114e-01],\n",
       "       [-5.79479465e-02],\n",
       "       [-4.06862216e-01],\n",
       "       [ 1.37179710e-01],\n",
       "       [ 3.85724880e-01],\n",
       "       [-4.05119282e-01],\n",
       "       [ 3.30935824e-03],\n",
       "       [ 1.19878647e-01],\n",
       "       [-2.57959037e-01],\n",
       "       [-4.10445234e-01],\n",
       "       [-3.25918930e-01],\n",
       "       [ 1.43108981e-01],\n",
       "       [-2.91984682e-01],\n",
       "       [ 3.50097903e-01],\n",
       "       [-4.95931332e-01],\n",
       "       [ 3.48060058e-01],\n",
       "       [ 5.11493315e-01],\n",
       "       [ 4.23534867e-01],\n",
       "       [ 4.09034216e-01],\n",
       "       [ 1.10039252e-01],\n",
       "       [ 4.95666311e-01],\n",
       "       [-2.93024218e-01],\n",
       "       [-1.53089763e-01],\n",
       "       [-3.89475244e-02],\n",
       "       [-1.01435168e-01],\n",
       "       [ 3.28682959e-01],\n",
       "       [ 4.17721579e-01],\n",
       "       [-4.32958841e-01],\n",
       "       [-3.21020004e-01],\n",
       "       [ 4.36817321e-01],\n",
       "       [-2.54339532e-01],\n",
       "       [-4.80309490e-01],\n",
       "       [-2.85546361e-01],\n",
       "       [ 1.93888351e-01],\n",
       "       [ 1.47126928e-01],\n",
       "       [-3.57613264e-01],\n",
       "       [-1.03984938e-01],\n",
       "       [-4.17008529e-01],\n",
       "       [ 2.02808240e-01],\n",
       "       [ 3.10341269e-01],\n",
       "       [ 4.96486368e-01],\n",
       "       [ 4.64324551e-01],\n",
       "       [ 2.87349947e-02],\n",
       "       [ 4.49433897e-01],\n",
       "       [ 5.08076909e+01],\n",
       "       [ 5.14944606e+01],\n",
       "       [ 5.09209339e+01],\n",
       "       [ 5.10621132e+01],\n",
       "       [ 5.07995343e+01],\n",
       "       [ 5.11050553e+01],\n",
       "       [ 5.09221029e+01],\n",
       "       [ 5.15714339e+01],\n",
       "       [ 5.15353973e+01],\n",
       "       [ 5.16247568e+01],\n",
       "       [ 5.15840891e+01],\n",
       "       [ 5.16383346e+01],\n",
       "       [ 5.10296492e+01],\n",
       "       [ 5.15074110e+01],\n",
       "       [ 5.10076442e+01],\n",
       "       [ 5.14321388e+01],\n",
       "       [ 5.12645158e+01],\n",
       "       [ 5.15659401e+01],\n",
       "       [ 5.06787476e+01],\n",
       "       [ 5.09505005e+01],\n",
       "       [ 5.08930934e+01],\n",
       "       [ 5.12237601e+01],\n",
       "       [ 5.11488507e+01],\n",
       "       [ 5.15100968e+01],\n",
       "       [ 5.07818114e+01],\n",
       "       [ 5.07662825e+01],\n",
       "       [ 5.13944772e+01],\n",
       "       [ 5.12095137e+01],\n",
       "       [-4.65677270e-01],\n",
       "       [-3.19937178e-01],\n",
       "       [-2.44823019e-01],\n",
       "       [-3.91131492e-01],\n",
       "       [ 3.52900970e-01],\n",
       "       [-1.56935339e-01],\n",
       "       [ 2.02304734e-02],\n",
       "       [ 1.77746274e-01],\n",
       "       [-4.30089298e-01],\n",
       "       [ 4.41411018e-01],\n",
       "       [ 8.43155655e-02],\n",
       "       [-4.38565921e-01],\n",
       "       [ 3.77505072e-01],\n",
       "       [-4.54501503e-01],\n",
       "       [ 3.07481924e-01],\n",
       "       [-3.75923709e-01],\n",
       "       [ 8.15777770e-02],\n",
       "       [-1.62463182e-01],\n",
       "       [-3.07273471e-01],\n",
       "       [ 2.73268439e-01],\n",
       "       [ 4.43564448e-02],\n",
       "       [ 5.98646848e-02],\n",
       "       [-1.33533171e-01],\n",
       "       [ 4.15427993e-01],\n",
       "       [-1.17218526e-01],\n",
       "       [-3.58061664e-02],\n",
       "       [ 3.14053832e-02],\n",
       "       [-3.37763328e-01],\n",
       "       [-1.76267473e-01],\n",
       "       [-3.02216433e-01],\n",
       "       [ 4.45299666e-01],\n",
       "       [-4.53414873e-01],\n",
       "       [ 4.28002093e-01],\n",
       "       [-1.70217568e-01],\n",
       "       [ 1.03208158e-01],\n",
       "       [-4.63162505e-01],\n",
       "       [ 9.48176289e-02],\n",
       "       [ 2.77697089e-01],\n",
       "       [-3.45755404e-01],\n",
       "       [ 4.48285487e-01],\n",
       "       [-4.68473091e-01],\n",
       "       [-2.79653184e-01],\n",
       "       [-3.79459895e-01],\n",
       "       [ 8.94336869e-02],\n",
       "       [-2.42423315e-02],\n",
       "       [ 2.85350591e-01],\n",
       "       [-6.44206443e-03],\n",
       "       [-2.36683723e-01],\n",
       "       [ 4.68993123e-01],\n",
       "       [-4.05073370e-01],\n",
       "       [-1.71357887e-02],\n",
       "       [-4.27898978e-01],\n",
       "       [-4.47646673e-01],\n",
       "       [ 4.88496391e-01],\n",
       "       [-2.53947154e-01],\n",
       "       [ 9.95165255e-02],\n",
       "       [-2.92255485e-01],\n",
       "       [ 4.59531351e-01],\n",
       "       [-3.48039334e-01],\n",
       "       [-3.26674880e-01],\n",
       "       [ 2.52791846e-01],\n",
       "       [ 1.96356856e-01],\n",
       "       [-3.30517404e-03],\n",
       "       [-2.64553143e-01],\n",
       "       [-4.01752750e-01],\n",
       "       [-9.28203461e-02],\n",
       "       [-2.47572714e-01],\n",
       "       [-3.40006299e-02],\n",
       "       [-1.85576504e-01],\n",
       "       [-6.41478266e-02],\n",
       "       [ 9.07109784e-02],\n",
       "       [ 1.76019509e-01],\n",
       "       [-3.16663204e-01],\n",
       "       [-2.56388774e-01],\n",
       "       [ 3.14091175e-01],\n",
       "       [ 2.44341309e-01],\n",
       "       [ 4.47380237e-01],\n",
       "       [ 2.49861594e-01],\n",
       "       [-4.90635608e-02],\n",
       "       [ 5.27436353e-01],\n",
       "       [-1.04595798e-02],\n",
       "       [-3.10968245e-01],\n",
       "       [ 2.73162630e-01],\n",
       "       [ 4.35791905e-01],\n",
       "       [-1.23687443e+00],\n",
       "       [-1.67536194e+00],\n",
       "       [-1.09264125e+00],\n",
       "       [-8.45320228e-01],\n",
       "       [-1.54544445e+00],\n",
       "       [-1.16260162e+00],\n",
       "       [-9.49994875e-01],\n",
       "       [-1.00034783e+00],\n",
       "       [-1.75322022e+00],\n",
       "       [-1.03264484e+00],\n",
       "       [-1.33602846e+00],\n",
       "       [-1.57140451e+00],\n",
       "       [-1.59605857e+00],\n",
       "       [-1.69982921e+00],\n",
       "       [-1.49335831e+00],\n",
       "       [-1.25898503e+00],\n",
       "       [-1.62905601e+00],\n",
       "       [-1.63616298e+00],\n",
       "       [-1.08550122e+00],\n",
       "       [-1.47844084e+00],\n",
       "       [-1.45000472e+00],\n",
       "       [-1.37762575e+00],\n",
       "       [-9.38331320e-01],\n",
       "       [-1.14731033e+00],\n",
       "       [-1.13777107e+00],\n",
       "       [-1.05723042e+00],\n",
       "       [-1.15194352e+00],\n",
       "       [-1.40705674e+00],\n",
       "       [-5.00406374e+01],\n",
       "       [-5.00782397e+01],\n",
       "       [-5.00754416e+01],\n",
       "       [-5.00135646e+01],\n",
       "       [-5.00989550e+01],\n",
       "       [-5.00436325e+01],\n",
       "       [-5.00683031e+01],\n",
       "       [-5.00574265e+01],\n",
       "       [-5.00068912e+01],\n",
       "       [-5.00273236e+01],\n",
       "       [-5.00360526e+01],\n",
       "       [-5.00348486e+01],\n",
       "       [-5.00643750e+01],\n",
       "       [-5.00258345e+01],\n",
       "       [-5.00243239e+01],\n",
       "       [-5.00615792e+01],\n",
       "       [-5.00663366e+01],\n",
       "       [-5.00482675e+01],\n",
       "       [-5.00744576e+01],\n",
       "       [-5.00042949e+01],\n",
       "       [-5.00494823e+01],\n",
       "       [-5.00529226e+01],\n",
       "       [-5.00572549e+01],\n",
       "       [-5.00396574e+01],\n",
       "       [-5.00588173e+01],\n",
       "       [-5.00652628e+01],\n",
       "       [-5.00445931e+01],\n",
       "       [-5.00185870e+01],\n",
       "       [-5.00029373e+01],\n",
       "       [-5.00197999e+01],\n",
       "       [-5.00603799e+01],\n",
       "       [-5.00160481e+01],\n",
       "       [-5.00732650e+01],\n",
       "       [-5.00561965e+01],\n",
       "       [-5.00409313e+01],\n",
       "       [-5.00177130e+01],\n",
       "       [-5.00468649e+01],\n",
       "       [-5.00820347e+01],\n",
       "       [-5.00656470e+01],\n",
       "       [-5.00706681e+01],\n",
       "       [-5.00189983e+01],\n",
       "       [-5.00595559e+01],\n",
       "       [-5.00255286e+01],\n",
       "       [-5.00302460e+01],\n",
       "       [-5.00902443e+01],\n",
       "       [-5.00433698e+01],\n",
       "       [-5.00083675e+01],\n",
       "       [-5.00666997e+01],\n",
       "       [-5.00501118e+01],\n",
       "       [-5.00289546e+01],\n",
       "       [-5.00506075e+01],\n",
       "       [-5.00299630e+01],\n",
       "       [-5.00088231e+01],\n",
       "       [-5.00022573e+01],\n",
       "       [-5.00608366e+01],\n",
       "       [-5.00200562e+01],\n",
       "       [-5.00722596e+01],\n",
       "       [-5.00109826e+01],\n",
       "       [-5.00812027e+01],\n",
       "       [-5.00217373e+01],\n",
       "       [-5.00661300e+01],\n",
       "       [-5.00366939e+01],\n",
       "       [-5.00521593e+01],\n",
       "       [-5.00089333e+01],\n",
       "       [-5.00343473e+01],\n",
       "       [-5.00371388e+01],\n",
       "       [-5.00447420e+01],\n",
       "       [-5.00620996e+01],\n",
       "       [-5.00055413e+01],\n",
       "       [-5.00137094e+01],\n",
       "       [-5.00145700e+01],\n",
       "       [-5.00293356e+01],\n",
       "       [-5.00702570e+01],\n",
       "       [-5.00163002e+01],\n",
       "       [-5.00890076e+01],\n",
       "       [-5.00003959e+01],\n",
       "       [-5.00004445e+01],\n",
       "       [-5.00615082e+01],\n",
       "       [-5.00075522e+01],\n",
       "       [-5.00718649e+01],\n",
       "       [-5.00711715e+01],\n",
       "       [-5.00181719e+01],\n",
       "       [-5.00679307e+01],\n",
       "       [-5.00759879e+01]])"
      ]
     },
     "execution_count": 90,
     "metadata": {},
     "output_type": "execute_result"
    }
   ],
   "source": [
    "weight1"
   ]
  },
  {
   "cell_type": "code",
   "execution_count": 91,
   "id": "af9f1b23",
   "metadata": {},
   "outputs": [
    {
     "data": {
      "text/plain": [
       "array([[0.66523199, 0.852216  , 0.6516754 ],\n",
       "       [0.20827888, 0.89230083, 0.89268033],\n",
       "       [0.51234089, 0.92335178, 0.69023755],\n",
       "       [0.40160303, 0.39026501, 0.99349302],\n",
       "       [0.93369192, 0.43251706, 0.35994937],\n",
       "       [0.52112058, 0.14228261, 0.99816455],\n",
       "       [0.41815335, 0.26567129, 0.51293642],\n",
       "       [0.35401659, 0.11456455, 0.20180734],\n",
       "       [0.17110197, 0.07743364, 0.3185524 ],\n",
       "       [0.34854475, 0.27135252, 0.80303674],\n",
       "       [0.15892993, 0.87551631, 0.80237828],\n",
       "       [0.58460432, 0.26358534, 0.13556755],\n",
       "       [0.33647616, 0.04821397, 0.81343734],\n",
       "       [0.72554187, 0.53208084, 0.34332849],\n",
       "       [0.90170329, 0.78627499, 0.89259791],\n",
       "       [0.63782225, 0.69177569, 0.61642348],\n",
       "       [0.32165928, 0.96192509, 0.89526861],\n",
       "       [0.42721533, 0.8807968 , 0.23283807],\n",
       "       [0.001754  , 0.06720677, 0.39424142],\n",
       "       [0.22882354, 0.90908659, 0.10683638],\n",
       "       [0.60711187, 0.90370135, 0.9723862 ],\n",
       "       [0.09435529, 0.1807224 , 0.39609748],\n",
       "       [0.7708829 , 0.21455337, 0.56598001],\n",
       "       [0.32138843, 0.53021508, 0.81043299],\n",
       "       [0.11726028, 0.39086524, 0.77156672],\n",
       "       [0.15443702, 0.12521101, 0.24491928],\n",
       "       [0.43978734, 0.96791997, 0.02532132],\n",
       "       [0.41971783, 0.72029937, 0.96822476]])"
      ]
     },
     "execution_count": 91,
     "metadata": {},
     "output_type": "execute_result"
    }
   ],
   "source": [
    "weight2"
   ]
  },
  {
   "cell_type": "code",
   "execution_count": 92,
   "id": "b51f1e7c",
   "metadata": {},
   "outputs": [
    {
     "data": {
      "text/plain": [
       "[<matplotlib.lines.Line2D at 0x29a805d60>]"
      ]
     },
     "execution_count": 92,
     "metadata": {},
     "output_type": "execute_result"
    },
    {
     "data": {
      "image/png": "[encoded data removed]",
      "text/plain": [
       "<Figure size 640x480 with 1 Axes>"
      ]
     },
     "metadata": {},
     "output_type": "display_data"
    }
   ],
   "source": [
    "plt.plot(weight1)"
   ]
  },
  {
   "cell_type": "code",
   "execution_count": 93,
   "id": "901a7cd2",
   "metadata": {},
   "outputs": [
    {
     "data": {
      "text/plain": [
       "array([-0.4865853])"
      ]
     },
     "execution_count": 93,
     "metadata": {},
     "output_type": "execute_result"
    }
   ],
   "source": [
    "weight1[456]"
   ]
  },
  {
   "cell_type": "code",
   "execution_count": null,
   "id": "e329ab05",
   "metadata": {},
   "outputs": [],
   "source": []
  },
  {
   "cell_type": "code",
   "execution_count": 94,
   "id": "312e71e0",
   "metadata": {},
   "outputs": [
    {
     "data": {
      "text/plain": [
       "[<matplotlib.lines.Line2D at 0x28a13c520>,\n",
       " <matplotlib.lines.Line2D at 0x28a13c580>,\n",
       " <matplotlib.lines.Line2D at 0x28a13c5b0>]"
      ]
     },
     "execution_count": 94,
     "metadata": {},
     "output_type": "execute_result"
    },
    {
     "data": {
      "image/png": "[encoded data removed]",
      "text/plain": [
       "<Figure size 640x480 with 1 Axes>"
      ]
     },
     "metadata": {},
     "output_type": "display_data"
    }
   ],
   "source": [
    "plt.plot(weight2)"
   ]
  },
  {
   "cell_type": "code",
   "execution_count": 95,
   "id": "c5bf3732",
   "metadata": {},
   "outputs": [],
   "source": [
    "def testingMemoryElementWork(inputImage,weight):\n",
    "    result = []\n",
    "    for item in inputImage:\n",
    "        item = flattenInput(item)\n",
    "        result.append(np.dot(item.T,weight))\n",
    "    return result"
   ]
  },
  {
   "cell_type": "code",
   "execution_count": 96,
   "id": "0194634a",
   "metadata": {},
   "outputs": [],
   "source": [
    "# weight1 = weightInitialization(784,200)\n",
    "# weight1 = weightUpdateThresholding(10,X_train_filter,weight1)"
   ]
  },
  {
   "cell_type": "code",
   "execution_count": 97,
   "id": "6de46829",
   "metadata": {},
   "outputs": [],
   "source": [
    "# weight1 = weightInitialization(784,20)\n",
    "# weight1 = weightUpdateContainingMemoryElement(2,1,X_train_filter,weight1)"
   ]
  },
  {
   "cell_type": "code",
   "execution_count": 98,
   "id": "4ad0859f",
   "metadata": {},
   "outputs": [
    {
     "data": {
      "text/plain": [
       "array([51.02964921])"
      ]
     },
     "execution_count": 98,
     "metadata": {},
     "output_type": "execute_result"
    }
   ],
   "source": [
    "weight1[572]"
   ]
  },
  {
   "cell_type": "code",
   "execution_count": 99,
   "id": "61910d55",
   "metadata": {},
   "outputs": [
    {
     "data": {
      "text/plain": [
       "array([[-5.00180871e+01],\n",
       "       [-5.00368749e+01],\n",
       "       [-5.00373629e+01],\n",
       "       [-5.00241890e+01],\n",
       "       [-5.00061909e+01],\n",
       "       [-5.00116231e+01],\n",
       "       [-5.00041152e+01],\n",
       "       [-5.00830885e+01],\n",
       "       [-5.00005201e+01],\n",
       "       [-5.00248072e+01],\n",
       "       [-5.00354607e+01],\n",
       "       [-5.00572096e+01],\n",
       "       [-5.00110448e+01],\n",
       "       [-5.00898197e+01],\n",
       "       [-5.00540909e+01],\n",
       "       [-5.00290351e+01],\n",
       "       [-5.00608661e+01],\n",
       "       [-5.00454606e+01],\n",
       "       [-5.00837485e+01],\n",
       "       [-5.00547450e+01],\n",
       "       [-5.00215841e+01],\n",
       "       [-5.00855988e+01],\n",
       "       [-5.00204251e+01],\n",
       "       [-5.00241159e+01],\n",
       "       [-5.00459959e+01],\n",
       "       [-5.00691823e+01],\n",
       "       [-5.00709541e+01],\n",
       "       [-5.00635786e+01],\n",
       "       [-5.00577119e+01],\n",
       "       [-5.00145866e+01],\n",
       "       [-5.00846383e+01],\n",
       "       [-5.00403024e+01],\n",
       "       [-5.00703273e+01],\n",
       "       [-5.00780251e+01],\n",
       "       [-5.00675970e+01],\n",
       "       [-5.00331025e+01],\n",
       "       [-5.00514019e+01],\n",
       "       [-5.00020754e+01],\n",
       "       [-5.00874893e+01],\n",
       "       [-5.00010151e+01],\n",
       "       [-5.00365005e+01],\n",
       "       [-5.00906890e+01],\n",
       "       [-5.00771823e+01],\n",
       "       [-5.00490090e+01],\n",
       "       [-5.00601787e+01],\n",
       "       [-5.00076727e+01],\n",
       "       [-5.00139709e+01],\n",
       "       [-5.00755555e+01],\n",
       "       [-5.00317009e+01],\n",
       "       [-5.00578831e+01],\n",
       "       [-5.00202483e+01],\n",
       "       [-5.00684070e+01],\n",
       "       [-5.00221812e+01],\n",
       "       [-5.00491002e+01],\n",
       "       [-5.00325974e+01],\n",
       "       [-5.00996499e+01],\n",
       "       [-3.64798344e+01],\n",
       "       [-3.63094759e+01],\n",
       "       [-3.64344762e+01],\n",
       "       [-3.64479788e+01],\n",
       "       [-3.65041174e+01],\n",
       "       [-3.69960210e+01],\n",
       "       [-3.66343222e+01],\n",
       "       [-3.63703828e+01],\n",
       "       [-3.62684916e+01],\n",
       "       [-3.68016627e+01],\n",
       "       [-3.66011344e+01],\n",
       "       [-3.62896032e+01],\n",
       "       [-3.68503254e+01],\n",
       "       [-3.67332742e+01],\n",
       "       [-3.64027363e+01],\n",
       "       [-3.69788859e+01],\n",
       "       [-3.62234913e+01],\n",
       "       [-3.62714393e+01],\n",
       "       [-3.65839857e+01],\n",
       "       [-3.62767694e+01],\n",
       "       [-3.69370987e+01],\n",
       "       [-3.67438050e+01],\n",
       "       [-3.62884926e+01],\n",
       "       [-3.64070233e+01],\n",
       "       [-3.63342606e+01],\n",
       "       [-3.69542928e+01],\n",
       "       [-3.64845821e+01],\n",
       "       [-3.68093108e+01],\n",
       "       [-1.65570712e+00],\n",
       "       [-1.99304513e+00],\n",
       "       [-2.55715906e+00],\n",
       "       [-2.40948954e+00],\n",
       "       [-2.36206692e+00],\n",
       "       [-2.30973230e+00],\n",
       "       [-2.04244520e+00],\n",
       "       [-1.85244331e+00],\n",
       "       [-2.55943491e+00],\n",
       "       [-2.19128843e+00],\n",
       "       [-2.34648970e+00],\n",
       "       [-2.13352262e+00],\n",
       "       [-2.29697533e+00],\n",
       "       [-2.33048495e+00],\n",
       "       [-2.49720250e+00],\n",
       "       [-1.92423813e+00],\n",
       "       [-1.84212831e+00],\n",
       "       [-1.77884149e+00],\n",
       "       [-1.99592185e+00],\n",
       "       [-1.95431518e+00],\n",
       "       [-1.95327078e+00],\n",
       "       [-2.48571736e+00],\n",
       "       [-2.29022800e+00],\n",
       "       [-1.99952635e+00],\n",
       "       [-1.63938575e+00],\n",
       "       [-2.39785107e+00],\n",
       "       [-2.10346215e+00],\n",
       "       [-2.39118519e+00],\n",
       "       [ 1.22024417e-01],\n",
       "       [ 1.88323653e-01],\n",
       "       [ 1.30620692e-01],\n",
       "       [ 2.89882339e-01],\n",
       "       [-2.64439893e-01],\n",
       "       [-5.91159775e-01],\n",
       "       [ 2.91866591e-01],\n",
       "       [ 1.63032139e-01],\n",
       "       [-2.63954225e-01],\n",
       "       [ 1.38238429e-01],\n",
       "       [-1.32430714e-01],\n",
       "       [-2.18245459e-01],\n",
       "       [ 2.77091934e-01],\n",
       "       [-5.08653299e-01],\n",
       "       [-3.48024538e-01],\n",
       "       [ 1.93517706e-01],\n",
       "       [-5.48072271e-02],\n",
       "       [-6.00855566e-01],\n",
       "       [-1.46996234e-01],\n",
       "       [-6.65902677e-01],\n",
       "       [ 1.54120728e-01],\n",
       "       [-2.99698020e-01],\n",
       "       [-2.02429037e-01],\n",
       "       [-4.86448250e-01],\n",
       "       [-5.50355143e-01],\n",
       "       [-3.75234456e-01],\n",
       "       [ 1.03672140e-01],\n",
       "       [-2.52690268e-01],\n",
       "       [-5.66541641e-01],\n",
       "       [-6.86391346e-02],\n",
       "       [ 1.52028776e-01],\n",
       "       [-2.05869173e-01],\n",
       "       [ 1.62124901e-01],\n",
       "       [-1.62785342e-01],\n",
       "       [-2.08224982e-01],\n",
       "       [-1.48981044e-01],\n",
       "       [-2.66585047e-01],\n",
       "       [-2.64451745e-01],\n",
       "       [ 3.33594812e-01],\n",
       "       [ 2.07993806e-01],\n",
       "       [-4.04887854e-02],\n",
       "       [ 1.72036950e-01],\n",
       "       [-1.99344851e-01],\n",
       "       [-4.75294913e-01],\n",
       "       [-2.34117928e-01],\n",
       "       [ 3.61022740e-02],\n",
       "       [-1.73943048e-01],\n",
       "       [ 3.26283695e-01],\n",
       "       [-5.70589437e-01],\n",
       "       [ 8.64906956e-02],\n",
       "       [ 2.19583433e-01],\n",
       "       [-2.01592626e-01],\n",
       "       [-4.24365744e-01],\n",
       "       [-2.31476221e-01],\n",
       "       [ 1.41505689e-01],\n",
       "       [-2.96209684e-02],\n",
       "       [ 2.43509879e-01],\n",
       "       [-3.52422534e-01],\n",
       "       [-1.70558828e-01],\n",
       "       [ 3.74416486e-01],\n",
       "       [ 4.99440430e-01],\n",
       "       [ 2.48162792e-01],\n",
       "       [ 1.80530657e-03],\n",
       "       [-4.21058223e-01],\n",
       "       [-3.79407021e-01],\n",
       "       [ 4.02128837e-01],\n",
       "       [ 3.25239730e-01],\n",
       "       [ 2.93505211e-01],\n",
       "       [ 1.25468124e-01],\n",
       "       [-5.25396806e-02],\n",
       "       [-3.22148315e-01],\n",
       "       [-4.66773235e-01],\n",
       "       [-1.62290809e-01],\n",
       "       [-1.55700841e-01],\n",
       "       [-7.83705539e-02],\n",
       "       [-6.29496954e-02],\n",
       "       [ 4.40745798e-01],\n",
       "       [-3.98847396e-01],\n",
       "       [ 3.05326703e-01],\n",
       "       [-4.57496043e-01],\n",
       "       [ 2.49618556e-01],\n",
       "       [ 3.91000016e-01],\n",
       "       [-4.40806805e-01],\n",
       "       [ 1.80325839e-01],\n",
       "       [ 2.23097804e-01],\n",
       "       [-1.99890661e-01],\n",
       "       [-4.36457737e-01],\n",
       "       [-1.52377358e-01],\n",
       "       [-4.07334814e-01],\n",
       "       [-2.84370862e-01],\n",
       "       [-1.46702347e-01],\n",
       "       [-1.33443521e-01],\n",
       "       [ 1.97368946e-01],\n",
       "       [ 2.54511119e-01],\n",
       "       [-5.12723242e-01],\n",
       "       [ 7.51426782e-02],\n",
       "       [ 1.49543923e-01],\n",
       "       [-3.78997365e-01],\n",
       "       [ 2.39188755e-01],\n",
       "       [-5.06458062e-01],\n",
       "       [ 1.68690744e-01],\n",
       "       [-1.99182052e-01],\n",
       "       [ 1.33814527e-01],\n",
       "       [ 1.94145411e-01],\n",
       "       [-1.85257113e-01],\n",
       "       [-1.67251043e-01],\n",
       "       [-4.57328823e-01],\n",
       "       [-4.82341598e-01],\n",
       "       [ 1.63623187e-01],\n",
       "       [ 2.60080000e-01],\n",
       "       [ 2.78014159e-01],\n",
       "       [ 2.90532894e-01],\n",
       "       [ 4.48579262e-01],\n",
       "       [-4.21825429e-01],\n",
       "       [ 1.03433326e-01],\n",
       "       [ 5.10143102e-01],\n",
       "       [ 4.39955932e-01],\n",
       "       [-2.12012377e-01],\n",
       "       [-4.33390513e-01],\n",
       "       [-1.60050538e-02],\n",
       "       [ 4.28024511e-01],\n",
       "       [ 3.04204682e-01],\n",
       "       [ 4.09660759e-01],\n",
       "       [-1.54572553e-01],\n",
       "       [ 3.46075895e-01],\n",
       "       [-2.72907562e-01],\n",
       "       [-3.46386465e-01],\n",
       "       [-3.79410829e-01],\n",
       "       [-6.41471939e-03],\n",
       "       [ 3.84019395e-01],\n",
       "       [-3.07674321e-01],\n",
       "       [-3.75496895e-01],\n",
       "       [-2.52878764e-02],\n",
       "       [-3.04860456e-01],\n",
       "       [ 3.25773570e-01],\n",
       "       [ 2.81486766e-01],\n",
       "       [-4.70976251e-01],\n",
       "       [-4.48837658e-01],\n",
       "       [-3.06628007e-01],\n",
       "       [ 4.02798194e-01],\n",
       "       [-1.30606769e-01],\n",
       "       [-5.98143253e-01],\n",
       "       [ 3.55352864e-01],\n",
       "       [-2.86682032e-01],\n",
       "       [ 3.30220936e-01],\n",
       "       [-2.57190352e-01],\n",
       "       [ 1.66615765e-01],\n",
       "       [-5.65902779e-02],\n",
       "       [-2.54063915e-01],\n",
       "       [-3.82110184e-01],\n",
       "       [-5.43373408e-01],\n",
       "       [-7.96250835e-02],\n",
       "       [ 2.43578364e-01],\n",
       "       [-5.81257372e-01],\n",
       "       [-4.19467626e-01],\n",
       "       [-1.01343018e-02],\n",
       "       [-4.27717423e-03],\n",
       "       [-1.43376868e-01],\n",
       "       [-6.10798415e-02],\n",
       "       [ 2.92632944e-01],\n",
       "       [-4.05335309e-01],\n",
       "       [ 2.92647665e-01],\n",
       "       [-3.77524335e-01],\n",
       "       [-7.50865294e-02],\n",
       "       [-1.97609345e-01],\n",
       "       [-5.22490002e-01],\n",
       "       [-3.50423172e-01],\n",
       "       [ 1.52008679e-01],\n",
       "       [-4.60433040e-01],\n",
       "       [-6.87466722e-01],\n",
       "       [-6.39326135e-01],\n",
       "       [-8.56154697e-02],\n",
       "       [-5.67211540e-01],\n",
       "       [-5.05310651e-01],\n",
       "       [-2.08309884e-01],\n",
       "       [ 1.33025237e-01],\n",
       "       [-5.26375321e-01],\n",
       "       [-4.71888389e-01],\n",
       "       [-6.93095557e-01],\n",
       "       [ 1.57701568e-01],\n",
       "       [-4.62489659e-01],\n",
       "       [ 2.28292786e-01],\n",
       "       [-1.07640901e-01],\n",
       "       [-5.69206694e-01],\n",
       "       [-6.34494226e-01],\n",
       "       [ 2.35482394e-01],\n",
       "       [ 6.74170195e-02],\n",
       "       [-5.58507750e-01],\n",
       "       [ 2.00910711e-01],\n",
       "       [-2.14260227e-01],\n",
       "       [ 1.63735435e-01],\n",
       "       [-6.80586842e-01],\n",
       "       [-7.14733744e-01],\n",
       "       [-5.11928963e-01],\n",
       "       [ 1.44667146e-01],\n",
       "       [-4.83297727e-01],\n",
       "       [ 1.90223771e-01],\n",
       "       [-1.86891633e-01],\n",
       "       [-4.38010569e-02],\n",
       "       [ 9.83045145e-02],\n",
       "       [-7.09901587e-01],\n",
       "       [-6.86689172e-01],\n",
       "       [-4.88573385e-01],\n",
       "       [-3.52020410e-01],\n",
       "       [-1.11823396e-01],\n",
       "       [ 1.82928526e-01],\n",
       "       [ 1.37589620e-01],\n",
       "       [ 1.95476004e-01],\n",
       "       [-6.31574057e-01],\n",
       "       [-6.45464084e-01],\n",
       "       [-5.11802193e-01],\n",
       "       [ 2.08346404e-01],\n",
       "       [ 1.44402028e-01],\n",
       "       [-1.10746243e-01],\n",
       "       [-1.81904286e-01],\n",
       "       [-6.00004477e-01],\n",
       "       [-5.40373279e-01],\n",
       "       [-1.76876575e-01],\n",
       "       [-4.11436778e-01],\n",
       "       [-4.42833156e-01],\n",
       "       [-3.20118248e-01],\n",
       "       [-5.89792611e-01],\n",
       "       [ 1.10254307e-01],\n",
       "       [-1.83621181e-01],\n",
       "       [-9.75645154e-02],\n",
       "       [-5.59551803e-01],\n",
       "       [-4.36848622e-01],\n",
       "       [-6.43687497e-01],\n",
       "       [-4.11645155e-01],\n",
       "       [-1.68628840e-01],\n",
       "       [-4.38916144e-01],\n",
       "       [-2.49213419e-01],\n",
       "       [ 2.27448613e-01],\n",
       "       [ 1.33640119e-01],\n",
       "       [-2.44452047e-01],\n",
       "       [ 2.07666018e-01],\n",
       "       [-7.49892870e-02],\n",
       "       [-5.44606623e-01],\n",
       "       [ 9.32929325e-02],\n",
       "       [-2.76834697e-02],\n",
       "       [-4.97616595e-01],\n",
       "       [-5.47785295e-01],\n",
       "       [ 1.05265443e-01],\n",
       "       [ 1.56676722e-01],\n",
       "       [-6.72829617e-01],\n",
       "       [-1.72271364e-01],\n",
       "       [-6.12900545e-01],\n",
       "       [-2.18227262e-01],\n",
       "       [-6.33535231e-01],\n",
       "       [-4.28655704e-01],\n",
       "       [-3.83071114e-01],\n",
       "       [-5.26837497e-01],\n",
       "       [-2.37518145e-01],\n",
       "       [-3.24410554e-01],\n",
       "       [-5.21079252e-01],\n",
       "       [ 1.37855479e-01],\n",
       "       [-6.22628364e-01],\n",
       "       [ 1.83577168e-01],\n",
       "       [-5.75807130e-01],\n",
       "       [-1.22946086e-01],\n",
       "       [ 1.19369481e-01],\n",
       "       [-2.91975733e-01],\n",
       "       [-4.78052961e-02],\n",
       "       [-3.61359905e-01],\n",
       "       [-1.00530068e-01],\n",
       "       [ 1.47053563e-01],\n",
       "       [-3.04825692e-01],\n",
       "       [ 1.85080230e-02],\n",
       "       [ 2.32612182e-02],\n",
       "       [-5.93268488e-01],\n",
       "       [ 1.04047102e-01],\n",
       "       [-2.06916481e-01],\n",
       "       [-7.82576069e-02],\n",
       "       [-2.71639243e-02],\n",
       "       [-4.76335670e-01],\n",
       "       [-1.57345021e-01],\n",
       "       [-4.01104227e-01],\n",
       "       [-5.67484030e-01],\n",
       "       [ 2.61178122e-01],\n",
       "       [ 9.59739562e-02],\n",
       "       [-5.96467566e-01],\n",
       "       [ 2.41254520e-01],\n",
       "       [-6.32901903e-02],\n",
       "       [ 2.82368202e-01],\n",
       "       [-4.71047616e-01],\n",
       "       [ 2.62532461e-01],\n",
       "       [ 2.64130092e-01],\n",
       "       [ 1.08289192e-02],\n",
       "       [ 2.27727549e-01],\n",
       "       [ 1.28104383e-02],\n",
       "       [-4.10162927e-01],\n",
       "       [-1.37970835e-01],\n",
       "       [ 1.62970875e-02],\n",
       "       [ 1.99291166e-01],\n",
       "       [-2.41125285e-01],\n",
       "       [-5.68432007e-01],\n",
       "       [-2.90417143e-01],\n",
       "       [ 1.89671657e-01],\n",
       "       [ 4.51523523e-02],\n",
       "       [-2.77197454e-03],\n",
       "       [-6.11980168e-01],\n",
       "       [-3.26218006e-01],\n",
       "       [-5.77212996e-01],\n",
       "       [-4.53005716e-01],\n",
       "       [-5.86397408e-01],\n",
       "       [-4.15648659e-01],\n",
       "       [ 2.65033035e-01],\n",
       "       [-3.31231131e-01],\n",
       "       [ 3.24238629e-01],\n",
       "       [ 2.63324885e-01],\n",
       "       [-1.24018457e-01],\n",
       "       [-3.63565929e-01],\n",
       "       [-4.42687584e-01],\n",
       "       [-1.55015569e-01],\n",
       "       [ 2.26773075e-01],\n",
       "       [-5.49750566e-02],\n",
       "       [-3.63391031e-01],\n",
       "       [ 3.59148285e-01],\n",
       "       [-3.34216152e-01],\n",
       "       [-3.19572317e-01],\n",
       "       [-5.53434204e-01],\n",
       "       [-2.40270537e-01],\n",
       "       [ 2.22157500e-02],\n",
       "       [-5.17296178e-01],\n",
       "       [-2.45432439e-01],\n",
       "       [ 2.78121501e-01],\n",
       "       [-2.37998439e-01],\n",
       "       [-4.48859318e-01],\n",
       "       [-3.20933936e-01],\n",
       "       [ 2.03593308e-01],\n",
       "       [-5.48784443e-01],\n",
       "       [-9.44898860e-02],\n",
       "       [ 3.67762453e-01],\n",
       "       [ 1.14140123e-01],\n",
       "       [-2.73054318e-01],\n",
       "       [ 2.21174489e-03],\n",
       "       [-5.97730883e-01],\n",
       "       [-4.16098437e-01],\n",
       "       [ 5.89448800e-03],\n",
       "       [-4.17326018e-01],\n",
       "       [ 1.90089426e-01],\n",
       "       [-6.25043189e-01],\n",
       "       [ 1.37325903e-01],\n",
       "       [ 1.28322664e-01],\n",
       "       [-4.86585302e-01],\n",
       "       [-5.71517984e-01],\n",
       "       [-5.36781025e-01],\n",
       "       [ 9.77487102e-03],\n",
       "       [-2.75678306e-01],\n",
       "       [-9.01033055e-03],\n",
       "       [ 1.77637053e-01],\n",
       "       [-1.24641711e-01],\n",
       "       [-1.51487267e-01],\n",
       "       [ 1.15463911e-01],\n",
       "       [ 2.22990637e-01],\n",
       "       [ 6.84880350e-02],\n",
       "       [-1.30143050e-01],\n",
       "       [ 1.72476646e-01],\n",
       "       [-6.73434520e-01],\n",
       "       [-7.20900578e-01],\n",
       "       [-4.12631718e-01],\n",
       "       [-4.74666098e-01],\n",
       "       [-6.15453264e-01],\n",
       "       [-5.63491591e-01],\n",
       "       [-3.20697658e-01],\n",
       "       [-1.22897274e-01],\n",
       "       [-1.39525302e-01],\n",
       "       [-1.65224700e-01],\n",
       "       [-1.53346487e-01],\n",
       "       [-4.07157538e-01],\n",
       "       [-2.65852816e-01],\n",
       "       [-9.17626937e-02],\n",
       "       [-4.53746655e-01],\n",
       "       [-3.46501384e-01],\n",
       "       [ 1.42729968e-01],\n",
       "       [ 9.09327458e-02],\n",
       "       [ 6.82947037e-02],\n",
       "       [ 2.13887432e-01],\n",
       "       [-1.96947151e-01],\n",
       "       [ 4.32600675e-02],\n",
       "       [-2.66723444e-01],\n",
       "       [-5.53393031e-01],\n",
       "       [ 8.22289828e-02],\n",
       "       [-4.34022122e-01],\n",
       "       [ 1.04221168e-01],\n",
       "       [-6.46975657e-01],\n",
       "       [ 2.67792534e-01],\n",
       "       [-4.33332707e-01],\n",
       "       [-4.47991768e-01],\n",
       "       [ 9.75522743e-02],\n",
       "       [-8.17409591e-02],\n",
       "       [ 9.58562890e-02],\n",
       "       [-8.90370753e-02],\n",
       "       [-4.00477863e-01],\n",
       "       [ 2.81606358e-01],\n",
       "       [-1.15248875e-01],\n",
       "       [-3.34837817e-01],\n",
       "       [-1.74336639e-03],\n",
       "       [-2.66998609e-01],\n",
       "       [-9.49260379e-02],\n",
       "       [-5.93243032e-02],\n",
       "       [ 3.29416275e-01],\n",
       "       [-2.42463505e-01],\n",
       "       [ 3.45209120e-01],\n",
       "       [-2.00485114e-01],\n",
       "       [-5.79479465e-02],\n",
       "       [-4.06862216e-01],\n",
       "       [ 1.37179710e-01],\n",
       "       [ 3.85724880e-01],\n",
       "       [-4.05119282e-01],\n",
       "       [ 3.30935824e-03],\n",
       "       [ 1.19878647e-01],\n",
       "       [-2.57959037e-01],\n",
       "       [-4.10445234e-01],\n",
       "       [-3.25918930e-01],\n",
       "       [ 1.43108981e-01],\n",
       "       [-2.91984682e-01],\n",
       "       [ 3.50097903e-01],\n",
       "       [-4.95931332e-01],\n",
       "       [ 3.48060058e-01],\n",
       "       [ 5.11493315e-01],\n",
       "       [ 4.23534867e-01],\n",
       "       [ 4.09034216e-01],\n",
       "       [ 1.10039252e-01],\n",
       "       [ 4.95666311e-01],\n",
       "       [-2.93024218e-01],\n",
       "       [-1.53089763e-01],\n",
       "       [-3.89475244e-02],\n",
       "       [-1.01435168e-01],\n",
       "       [ 3.28682959e-01],\n",
       "       [ 4.17721579e-01],\n",
       "       [-4.32958841e-01],\n",
       "       [-3.21020004e-01],\n",
       "       [ 4.36817321e-01],\n",
       "       [-2.54339532e-01],\n",
       "       [-4.80309490e-01],\n",
       "       [-2.85546361e-01],\n",
       "       [ 1.93888351e-01],\n",
       "       [ 1.47126928e-01],\n",
       "       [-3.57613264e-01],\n",
       "       [-1.03984938e-01],\n",
       "       [-4.17008529e-01],\n",
       "       [ 2.02808240e-01],\n",
       "       [ 3.10341269e-01],\n",
       "       [ 4.96486368e-01],\n",
       "       [ 4.64324551e-01],\n",
       "       [ 2.87349947e-02],\n",
       "       [ 4.49433897e-01],\n",
       "       [ 5.08076909e+01],\n",
       "       [ 5.14944606e+01],\n",
       "       [ 5.09209339e+01],\n",
       "       [ 5.10621132e+01],\n",
       "       [ 5.07995343e+01],\n",
       "       [ 5.11050553e+01],\n",
       "       [ 5.09221029e+01],\n",
       "       [ 5.15714339e+01],\n",
       "       [ 5.15353973e+01],\n",
       "       [ 5.16247568e+01],\n",
       "       [ 5.15840891e+01],\n",
       "       [ 5.16383346e+01],\n",
       "       [ 5.10296492e+01],\n",
       "       [ 5.15074110e+01],\n",
       "       [ 5.10076442e+01],\n",
       "       [ 5.14321388e+01],\n",
       "       [ 5.12645158e+01],\n",
       "       [ 5.15659401e+01],\n",
       "       [ 5.06787476e+01],\n",
       "       [ 5.09505005e+01],\n",
       "       [ 5.08930934e+01],\n",
       "       [ 5.12237601e+01],\n",
       "       [ 5.11488507e+01],\n",
       "       [ 5.15100968e+01],\n",
       "       [ 5.07818114e+01],\n",
       "       [ 5.07662825e+01],\n",
       "       [ 5.13944772e+01],\n",
       "       [ 5.12095137e+01],\n",
       "       [-4.65677270e-01],\n",
       "       [-3.19937178e-01],\n",
       "       [-2.44823019e-01],\n",
       "       [-3.91131492e-01],\n",
       "       [ 3.52900970e-01],\n",
       "       [-1.56935339e-01],\n",
       "       [ 2.02304734e-02],\n",
       "       [ 1.77746274e-01],\n",
       "       [-4.30089298e-01],\n",
       "       [ 4.41411018e-01],\n",
       "       [ 8.43155655e-02],\n",
       "       [-4.38565921e-01],\n",
       "       [ 3.77505072e-01],\n",
       "       [-4.54501503e-01],\n",
       "       [ 3.07481924e-01],\n",
       "       [-3.75923709e-01],\n",
       "       [ 8.15777770e-02],\n",
       "       [-1.62463182e-01],\n",
       "       [-3.07273471e-01],\n",
       "       [ 2.73268439e-01],\n",
       "       [ 4.43564448e-02],\n",
       "       [ 5.98646848e-02],\n",
       "       [-1.33533171e-01],\n",
       "       [ 4.15427993e-01],\n",
       "       [-1.17218526e-01],\n",
       "       [-3.58061664e-02],\n",
       "       [ 3.14053832e-02],\n",
       "       [-3.37763328e-01],\n",
       "       [-1.76267473e-01],\n",
       "       [-3.02216433e-01],\n",
       "       [ 4.45299666e-01],\n",
       "       [-4.53414873e-01],\n",
       "       [ 4.28002093e-01],\n",
       "       [-1.70217568e-01],\n",
       "       [ 1.03208158e-01],\n",
       "       [-4.63162505e-01],\n",
       "       [ 9.48176289e-02],\n",
       "       [ 2.77697089e-01],\n",
       "       [-3.45755404e-01],\n",
       "       [ 4.48285487e-01],\n",
       "       [-4.68473091e-01],\n",
       "       [-2.79653184e-01],\n",
       "       [-3.79459895e-01],\n",
       "       [ 8.94336869e-02],\n",
       "       [-2.42423315e-02],\n",
       "       [ 2.85350591e-01],\n",
       "       [-6.44206443e-03],\n",
       "       [-2.36683723e-01],\n",
       "       [ 4.68993123e-01],\n",
       "       [-4.05073370e-01],\n",
       "       [-1.71357887e-02],\n",
       "       [-4.27898978e-01],\n",
       "       [-4.47646673e-01],\n",
       "       [ 4.88496391e-01],\n",
       "       [-2.53947154e-01],\n",
       "       [ 9.95165255e-02],\n",
       "       [-2.92255485e-01],\n",
       "       [ 4.59531351e-01],\n",
       "       [-3.48039334e-01],\n",
       "       [-3.26674880e-01],\n",
       "       [ 2.52791846e-01],\n",
       "       [ 1.96356856e-01],\n",
       "       [-3.30517404e-03],\n",
       "       [-2.64553143e-01],\n",
       "       [-4.01752750e-01],\n",
       "       [-9.28203461e-02],\n",
       "       [-2.47572714e-01],\n",
       "       [-3.40006299e-02],\n",
       "       [-1.85576504e-01],\n",
       "       [-6.41478266e-02],\n",
       "       [ 9.07109784e-02],\n",
       "       [ 1.76019509e-01],\n",
       "       [-3.16663204e-01],\n",
       "       [-2.56388774e-01],\n",
       "       [ 3.14091175e-01],\n",
       "       [ 2.44341309e-01],\n",
       "       [ 4.47380237e-01],\n",
       "       [ 2.49861594e-01],\n",
       "       [-4.90635608e-02],\n",
       "       [ 5.27436353e-01],\n",
       "       [-1.04595798e-02],\n",
       "       [-3.10968245e-01],\n",
       "       [ 2.73162630e-01],\n",
       "       [ 4.35791905e-01],\n",
       "       [-1.23687443e+00],\n",
       "       [-1.67536194e+00],\n",
       "       [-1.09264125e+00],\n",
       "       [-8.45320228e-01],\n",
       "       [-1.54544445e+00],\n",
       "       [-1.16260162e+00],\n",
       "       [-9.49994875e-01],\n",
       "       [-1.00034783e+00],\n",
       "       [-1.75322022e+00],\n",
       "       [-1.03264484e+00],\n",
       "       [-1.33602846e+00],\n",
       "       [-1.57140451e+00],\n",
       "       [-1.59605857e+00],\n",
       "       [-1.69982921e+00],\n",
       "       [-1.49335831e+00],\n",
       "       [-1.25898503e+00],\n",
       "       [-1.62905601e+00],\n",
       "       [-1.63616298e+00],\n",
       "       [-1.08550122e+00],\n",
       "       [-1.47844084e+00],\n",
       "       [-1.45000472e+00],\n",
       "       [-1.37762575e+00],\n",
       "       [-9.38331320e-01],\n",
       "       [-1.14731033e+00],\n",
       "       [-1.13777107e+00],\n",
       "       [-1.05723042e+00],\n",
       "       [-1.15194352e+00],\n",
       "       [-1.40705674e+00],\n",
       "       [-5.00406374e+01],\n",
       "       [-5.00782397e+01],\n",
       "       [-5.00754416e+01],\n",
       "       [-5.00135646e+01],\n",
       "       [-5.00989550e+01],\n",
       "       [-5.00436325e+01],\n",
       "       [-5.00683031e+01],\n",
       "       [-5.00574265e+01],\n",
       "       [-5.00068912e+01],\n",
       "       [-5.00273236e+01],\n",
       "       [-5.00360526e+01],\n",
       "       [-5.00348486e+01],\n",
       "       [-5.00643750e+01],\n",
       "       [-5.00258345e+01],\n",
       "       [-5.00243239e+01],\n",
       "       [-5.00615792e+01],\n",
       "       [-5.00663366e+01],\n",
       "       [-5.00482675e+01],\n",
       "       [-5.00744576e+01],\n",
       "       [-5.00042949e+01],\n",
       "       [-5.00494823e+01],\n",
       "       [-5.00529226e+01],\n",
       "       [-5.00572549e+01],\n",
       "       [-5.00396574e+01],\n",
       "       [-5.00588173e+01],\n",
       "       [-5.00652628e+01],\n",
       "       [-5.00445931e+01],\n",
       "       [-5.00185870e+01],\n",
       "       [-5.00029373e+01],\n",
       "       [-5.00197999e+01],\n",
       "       [-5.00603799e+01],\n",
       "       [-5.00160481e+01],\n",
       "       [-5.00732650e+01],\n",
       "       [-5.00561965e+01],\n",
       "       [-5.00409313e+01],\n",
       "       [-5.00177130e+01],\n",
       "       [-5.00468649e+01],\n",
       "       [-5.00820347e+01],\n",
       "       [-5.00656470e+01],\n",
       "       [-5.00706681e+01],\n",
       "       [-5.00189983e+01],\n",
       "       [-5.00595559e+01],\n",
       "       [-5.00255286e+01],\n",
       "       [-5.00302460e+01],\n",
       "       [-5.00902443e+01],\n",
       "       [-5.00433698e+01],\n",
       "       [-5.00083675e+01],\n",
       "       [-5.00666997e+01],\n",
       "       [-5.00501118e+01],\n",
       "       [-5.00289546e+01],\n",
       "       [-5.00506075e+01],\n",
       "       [-5.00299630e+01],\n",
       "       [-5.00088231e+01],\n",
       "       [-5.00022573e+01],\n",
       "       [-5.00608366e+01],\n",
       "       [-5.00200562e+01],\n",
       "       [-5.00722596e+01],\n",
       "       [-5.00109826e+01],\n",
       "       [-5.00812027e+01],\n",
       "       [-5.00217373e+01],\n",
       "       [-5.00661300e+01],\n",
       "       [-5.00366939e+01],\n",
       "       [-5.00521593e+01],\n",
       "       [-5.00089333e+01],\n",
       "       [-5.00343473e+01],\n",
       "       [-5.00371388e+01],\n",
       "       [-5.00447420e+01],\n",
       "       [-5.00620996e+01],\n",
       "       [-5.00055413e+01],\n",
       "       [-5.00137094e+01],\n",
       "       [-5.00145700e+01],\n",
       "       [-5.00293356e+01],\n",
       "       [-5.00702570e+01],\n",
       "       [-5.00163002e+01],\n",
       "       [-5.00890076e+01],\n",
       "       [-5.00003959e+01],\n",
       "       [-5.00004445e+01],\n",
       "       [-5.00615082e+01],\n",
       "       [-5.00075522e+01],\n",
       "       [-5.00718649e+01],\n",
       "       [-5.00711715e+01],\n",
       "       [-5.00181719e+01],\n",
       "       [-5.00679307e+01],\n",
       "       [-5.00759879e+01]])"
      ]
     },
     "execution_count": 99,
     "metadata": {},
     "output_type": "execute_result"
    }
   ],
   "source": [
    "weight1"
   ]
  },
  {
   "cell_type": "code",
   "execution_count": 100,
   "id": "deca7b1f",
   "metadata": {},
   "outputs": [
    {
     "data": {
      "text/plain": [
       "array([[0.66523199, 0.852216  , 0.6516754 ],\n",
       "       [0.20827888, 0.89230083, 0.89268033],\n",
       "       [0.51234089, 0.92335178, 0.69023755],\n",
       "       [0.40160303, 0.39026501, 0.99349302],\n",
       "       [0.93369192, 0.43251706, 0.35994937],\n",
       "       [0.52112058, 0.14228261, 0.99816455],\n",
       "       [0.41815335, 0.26567129, 0.51293642],\n",
       "       [0.35401659, 0.11456455, 0.20180734],\n",
       "       [0.17110197, 0.07743364, 0.3185524 ],\n",
       "       [0.34854475, 0.27135252, 0.80303674],\n",
       "       [0.15892993, 0.87551631, 0.80237828],\n",
       "       [0.58460432, 0.26358534, 0.13556755],\n",
       "       [0.33647616, 0.04821397, 0.81343734],\n",
       "       [0.72554187, 0.53208084, 0.34332849],\n",
       "       [0.90170329, 0.78627499, 0.89259791],\n",
       "       [0.63782225, 0.69177569, 0.61642348],\n",
       "       [0.32165928, 0.96192509, 0.89526861],\n",
       "       [0.42721533, 0.8807968 , 0.23283807],\n",
       "       [0.001754  , 0.06720677, 0.39424142],\n",
       "       [0.22882354, 0.90908659, 0.10683638],\n",
       "       [0.60711187, 0.90370135, 0.9723862 ],\n",
       "       [0.09435529, 0.1807224 , 0.39609748],\n",
       "       [0.7708829 , 0.21455337, 0.56598001],\n",
       "       [0.32138843, 0.53021508, 0.81043299],\n",
       "       [0.11726028, 0.39086524, 0.77156672],\n",
       "       [0.15443702, 0.12521101, 0.24491928],\n",
       "       [0.43978734, 0.96791997, 0.02532132],\n",
       "       [0.41971783, 0.72029937, 0.96822476]])"
      ]
     },
     "execution_count": 100,
     "metadata": {},
     "output_type": "execute_result"
    }
   ],
   "source": [
    "weight2"
   ]
  },
  {
   "cell_type": "code",
   "execution_count": 436,
   "id": "3b7cf2ca",
   "metadata": {},
   "outputs": [],
   "source": [
    "# Finding the Values for the Digits\""
   ]
  },
  {
   "cell_type": "code",
   "execution_count": 437,
   "id": "99e2b742",
   "metadata": {},
   "outputs": [],
   "source": [
    "# results_0=printResults(X_train_filter_0,weight1)\n",
    "\n",
    "# results_1=printResults(X_train_filter_1,weight1)\n",
    "# results_2=printResults(X_train_filter_2,weight1)\n",
    "# results_3=printResults(X_train_filter_3,weight1)\n",
    "#results_4=printResults(X_train_filter_4,weight1)"
   ]
  },
  {
   "cell_type": "code",
   "execution_count": 101,
   "id": "8cccbd46",
   "metadata": {
    "scrolled": false
   },
   "outputs": [],
   "source": [
    "#Saving the result of 0,1,2"
   ]
  },
  {
   "cell_type": "code",
   "execution_count": 102,
   "id": "7c0f2c7b",
   "metadata": {},
   "outputs": [],
   "source": [
    "results_0 , resultRow_0 = printResultsBlockIncludingAnotherLayer(X_train_filter_0,weight1,weight2)\n",
    "\n",
    "results_1 , resultRow_1 = printResultsBlockIncludingAnotherLayer(X_train_filter_1,weight1,weight2)\n",
    "results_2  , resultRow_2 = printResultsBlockIncludingAnotherLayer(X_train_filter_2,weight1,weight2)"
   ]
  },
  {
   "cell_type": "code",
   "execution_count": 103,
   "id": "d0064b78",
   "metadata": {},
   "outputs": [
    {
     "data": {
      "text/plain": [
       "5923"
      ]
     },
     "execution_count": 103,
     "metadata": {},
     "output_type": "execute_result"
    }
   ],
   "source": [
    "len(results_0)"
   ]
  },
  {
   "cell_type": "code",
   "execution_count": 104,
   "id": "64a679ef",
   "metadata": {},
   "outputs": [],
   "source": [
    "index1_results_0 = []\n",
    "for index in range(len(results_0)):\n",
    "    #print(results_0[index][0][0][1])\n",
    "    index1_results_0.append(results_0[index][0][0][1])"
   ]
  },
  {
   "cell_type": "code",
   "execution_count": 105,
   "id": "12d03a72",
   "metadata": {},
   "outputs": [],
   "source": [
    "def resultMax(result):\n",
    "    maxValue = []\n",
    "    for index in range(len(result)):\n",
    "        maxValue.append(max(result[index][0][0]))\n",
    "    return maxValue"
   ]
  },
  {
   "cell_type": "code",
   "execution_count": 106,
   "id": "b6d02574",
   "metadata": {},
   "outputs": [],
   "source": [
    "maxValue0 = resultMax(results_0)\n",
    "maxValue1 = resultMax(results_1)\n",
    "maxValue2 = resultMax(results_2)"
   ]
  },
  {
   "cell_type": "code",
   "execution_count": 107,
   "id": "1e4e66b5",
   "metadata": {},
   "outputs": [
    {
     "data": {
      "text/plain": [
       "[382.64580451594526,\n",
       " 501.42381763355786,\n",
       " 388.74616064673756,\n",
       " 518.8389077409299,\n",
       " 358.1118462673662,\n",
       " 384.646901195164,\n",
       " 305.48401437619253,\n",
       " 223.71092399780656,\n",
       " 393.12650631573274,\n",
       " 291.2314571585385,\n",
       " 350.1394058475047,\n",
       " 302.56014397124875,\n",
       " 469.5646521570303,\n",
       " 449.80657170165813,\n",
       " 562.5410306233622,\n",
       " 226.97638228489643,\n",
       " 581.1972180815198,\n",
       " 668.7473767828945,\n",
       " 358.6095506046569,\n",
       " 498.8241998428751,\n",
       " 489.75915291392056,\n",
       " 317.54956554949683,\n",
       " 546.6925193464971,\n",
       " 115.16393467010651,\n",
       " 184.92104853155521,\n",
       " 370.983571693313,\n",
       " 234.99119807167787,\n",
       " 236.17314749561228,\n",
       " 166.31585685227557,\n",
       " 445.2725770614426,\n",
       " 302.8357773487361,\n",
       " 684.1816415215568,\n",
       " 676.4783834020582,\n",
       " 525.6066928635282,\n",
       " 644.4290044065672,\n",
       " 577.6822894986318,\n",
       " 236.82694962853287,\n",
       " 359.7425911384562,\n",
       " 635.4473615531197,\n",
       " 664.3042321410405,\n",
       " 681.9977844955423,\n",
       " 632.8235736784961,\n",
       " 543.172792692669,\n",
       " 568.9634845577716,\n",
       " 478.0891810932482,\n",
       " 410.50812040389843,\n",
       " 734.9708978984262,\n",
       " 741.4595010208158,\n",
       " 490.0425250490956,\n",
       " 425.18408861389247,\n",
       " 602.538724205047,\n",
       " 321.1096353811029,\n",
       " 762.000408928809,\n",
       " 395.28993057073177,\n",
       " 500.7522618289862,\n",
       " 551.9699256412106,\n",
       " 290.3557323768857,\n",
       " 710.9535770763129,\n",
       " 377.12228581066165,\n",
       " 393.8146544811216,\n",
       " 360.162120787346,\n",
       " 421.43487709217646,\n",
       " 451.8335778824569,\n",
       " 229.39597744632655,\n",
       " 437.8577767780055,\n",
       " 479.21569967877684,\n",
       " 313.28938328925165,\n",
       " 413.8971256646829,\n",
       " 380.2258115157163,\n",
       " 332.42154853541354,\n",
       " 395.67783873070323,\n",
       " 483.75940313527866,\n",
       " 389.28556619510175,\n",
       " 546.3161033457714,\n",
       " 451.0750522616824,\n",
       " 450.9919630582246,\n",
       " 522.7822715096389,\n",
       " 416.50962861397085,\n",
       " 438.28196400309633,\n",
       " 212.55756031977435,\n",
       " 559.7843852706989,\n",
       " 539.4062009796191,\n",
       " 501.25130369545576,\n",
       " 440.25473892420814,\n",
       " 316.1566831270343,\n",
       " 607.3772078713927,\n",
       " 381.5895223448021,\n",
       " 364.89915564441475,\n",
       " 447.20552074963325,\n",
       " 354.4720730896814,\n",
       " 430.7474473572557,\n",
       " 203.97005682909722,\n",
       " 266.4534268595779,\n",
       " 286.40758849171084,\n",
       " 328.6570541432462,\n",
       " 216.9822389746103,\n",
       " 342.4743043768669,\n",
       " 210.02689239852154,\n",
       " 248.0918315133982,\n",
       " 435.10183019042034,\n",
       " 570.3715838601912,\n",
       " 308.1380064613442,\n",
       " 362.19173692452705,\n",
       " 107.90413463532447,\n",
       " 227.09808097476215,\n",
       " 328.45477138333996,\n",
       " 362.59234765535456,\n",
       " 303.9656117508321,\n",
       " 327.332658707103,\n",
       " 229.59980872521913,\n",
       " 316.7928740314735,\n",
       " 233.0021765380415,\n",
       " 219.36012054029044,\n",
       " 459.0347518154684,\n",
       " 139.39711585174143,\n",
       " 621.882617429067,\n",
       " 557.5428460038369,\n",
       " 603.5315424211998,\n",
       " 449.63745649545007,\n",
       " 389.640445538025,\n",
       " 277.94703648273673,\n",
       " 456.3399461429346,\n",
       " 520.0570082309882,\n",
       " 574.0179368726153,\n",
       " 589.9603435222467,\n",
       " 858.0477337070339,\n",
       " 330.74477609399673,\n",
       " 728.2816078121955,\n",
       " 514.5783766220751,\n",
       " 550.0799749741175,\n",
       " 287.74976301280225,\n",
       " 552.9198656397871,\n",
       " 619.4210297025733,\n",
       " 440.9227746720783,\n",
       " 568.4018131632416,\n",
       " 247.58263517288756,\n",
       " 570.7125628814518,\n",
       " 601.305617053161,\n",
       " 609.1444850617818,\n",
       " 645.4104764791131,\n",
       " 589.5023968237126,\n",
       " 472.94673069860613,\n",
       " 317.0296665991972,\n",
       " 618.1247003254439,\n",
       " 251.64021001035758,\n",
       " 306.01967674249096,\n",
       " 531.6076257986741,\n",
       " 319.1477927426725,\n",
       " 338.84693796302844,\n",
       " 365.6833316942489,\n",
       " 244.163143573791,\n",
       " 328.1676647077281,\n",
       " 268.8664312339631,\n",
       " 298.49403091708484,\n",
       " 256.5979428840017,\n",
       " 324.9665163220815,\n",
       " 769.2791934914015,\n",
       " 592.4068849028322,\n",
       " 329.88969895363937,\n",
       " 533.5422897990178,\n",
       " 516.1969482859677,\n",
       " 464.00849678780884,\n",
       " 372.26620736307086,\n",
       " 618.1930969592466,\n",
       " 459.001153938685,\n",
       " 409.39848178767363,\n",
       " 363.67938153421744,\n",
       " 425.34846826674703,\n",
       " 524.6295364151548,\n",
       " 251.79403600581244,\n",
       " 486.80882108651997,\n",
       " 301.57757926592865,\n",
       " 358.2948174034458,\n",
       " 609.1934550755358,\n",
       " 396.1467824853556,\n",
       " 756.75428845028,\n",
       " 298.37430269877285,\n",
       " 318.16325198128425,\n",
       " 587.6549436622734,\n",
       " 654.7790804376071,\n",
       " 163.574290821525,\n",
       " 553.3429935869409,\n",
       " 165.22137688565135,\n",
       " 662.5427509984614,\n",
       " 607.5513073408001,\n",
       " 677.3485543836741,\n",
       " 545.1566415211202,\n",
       " 680.4477832213265,\n",
       " 567.9242180718861,\n",
       " 689.2763839320353,\n",
       " 788.8717602549109,\n",
       " 732.9800100657183,\n",
       " 737.4140793456112,\n",
       " 377.05359258936096,\n",
       " 180.94237699124048,\n",
       " 673.8243869496356,\n",
       " 279.55216894160264,\n",
       " 338.85476135697854,\n",
       " 546.120451489833,\n",
       " 545.3315878236709,\n",
       " 280.195184658647,\n",
       " 454.00231961772266,\n",
       " 390.1264300046051,\n",
       " 350.8003495425241,\n",
       " 710.7668301296189,\n",
       " 504.26581571841155,\n",
       " 448.30633034947004,\n",
       " 359.54403753151786,\n",
       " 618.803826927177,\n",
       " 244.47527166338358,\n",
       " 306.4656055194436,\n",
       " 495.2247215218047,\n",
       " 672.1849802413202,\n",
       " 440.2223489343618,\n",
       " 375.8785287021668,\n",
       " 594.1755293010918,\n",
       " 176.44232857502666,\n",
       " 264.61559080476985,\n",
       " 386.2719618514286,\n",
       " 518.6892045296623,\n",
       " 298.1690955548065,\n",
       " 268.70051653977384,\n",
       " 582.4245115733451,\n",
       " 463.74357886617236,\n",
       " 749.251085416051,\n",
       " 616.1467964199923,\n",
       " 381.5915258649071,\n",
       " 637.0611947152711,\n",
       " 462.964905373824,\n",
       " 183.61142084180148,\n",
       " 415.2565838237242,\n",
       " 661.1247455578491,\n",
       " 518.7846000752846,\n",
       " 342.3714242180176,\n",
       " 617.2117024206099,\n",
       " 603.6472352586284,\n",
       " 260.91114394171007,\n",
       " 630.2043675761877,\n",
       " 384.0961729596305,\n",
       " 314.9663279053339,\n",
       " 701.9115486640537,\n",
       " 508.95263293105506,\n",
       " 326.43534876807604,\n",
       " 318.8776897470668,\n",
       " 456.5766188871695,\n",
       " 461.24906252779044,\n",
       " 483.10714874969483,\n",
       " 474.7791667203452,\n",
       " 201.68625133643832,\n",
       " 325.1977677578041,\n",
       " 280.74415716393406,\n",
       " 565.8830647153659,\n",
       " 385.01778607930305,\n",
       " 337.90574322014413,\n",
       " 283.636809463278,\n",
       " 285.31767922872893,\n",
       " 469.40714417108893,\n",
       " 455.177413927279,\n",
       " 441.04197530722433,\n",
       " 739.7082540763123,\n",
       " 208.83038627352784,\n",
       " -6.265937928279584,\n",
       " 331.2720408020071,\n",
       " 627.9576570205222,\n",
       " 472.64847975635837,\n",
       " 253.70188301059602,\n",
       " 315.40487634642477,\n",
       " 413.6418965695544,\n",
       " 249.23465715359788,\n",
       " 276.0643390279131,\n",
       " 668.614723396094,\n",
       " 323.3964478700606,\n",
       " 343.5417719044463,\n",
       " 553.1334469883282,\n",
       " 406.46276186810525,\n",
       " 354.6532503699604,\n",
       " 337.15118169348597,\n",
       " 661.0779263863343,\n",
       " 295.3330953895363,\n",
       " 440.94225070962085,\n",
       " 480.42220149574206,\n",
       " 220.99191027249086,\n",
       " 247.7200067754422,\n",
       " 282.0752622697139,\n",
       " 527.9275576968718,\n",
       " 266.9885127766895,\n",
       " 616.6547735164517,\n",
       " 342.90822043773215,\n",
       " 668.7182669485076,\n",
       " 258.9464614339028,\n",
       " 369.8548198850534,\n",
       " 602.9368257704664,\n",
       " 197.9881987918717,\n",
       " 310.98458593058604,\n",
       " 608.1543014869605,\n",
       " 272.91108509836187,\n",
       " 366.49800292738496,\n",
       " 462.9630370767698,\n",
       " 326.7465862203023,\n",
       " 331.7926980054681,\n",
       " 374.64518985888003,\n",
       " 294.15820130316496,\n",
       " 456.9327134711619,\n",
       " 421.81963921840645,\n",
       " 435.9735861543369,\n",
       " 435.9423144314179,\n",
       " 518.7475518261047,\n",
       " 540.9249656719581,\n",
       " 538.9766089753807,\n",
       " 455.4234509222513,\n",
       " 623.8106824451941,\n",
       " 327.54483016633145,\n",
       " 445.45186174356286,\n",
       " 630.072668526538,\n",
       " 474.37743661139643,\n",
       " 454.08249270225446,\n",
       " 290.3298224248198,\n",
       " 416.13053218579006,\n",
       " 370.19300219245434,\n",
       " 395.5591605575599,\n",
       " 386.4452089703232,\n",
       " 348.9191853000091,\n",
       " 447.40694972109503,\n",
       " 282.2078634748418,\n",
       " 388.24358610548836,\n",
       " 263.9912607476826,\n",
       " 239.50777912487285,\n",
       " 307.23535103984943,\n",
       " 362.1744432934766,\n",
       " 343.8192119009134,\n",
       " 582.9454854024356,\n",
       " 697.0282366114641,\n",
       " 777.8227052112256,\n",
       " 421.1053650176281,\n",
       " 569.4249664386888,\n",
       " 578.6835182042615,\n",
       " 640.2687953408592,\n",
       " 312.1642679467519,\n",
       " 654.0420958568429,\n",
       " 478.5703271421458,\n",
       " 491.1561718146652,\n",
       " 182.67115902123325,\n",
       " 782.2965944320212,\n",
       " 397.6212702136801,\n",
       " 592.1123676804225,\n",
       " 567.740032625419,\n",
       " 429.318193255208,\n",
       " 801.2151094372758,\n",
       " 329.1175865876964,\n",
       " 259.9260240722829,\n",
       " 434.3665469527867,\n",
       " 138.47107976035647,\n",
       " 300.7739671918239,\n",
       " 474.0488396122797,\n",
       " 453.8526383736971,\n",
       " 791.9042555426327,\n",
       " 660.834137772321,\n",
       " 258.7098597030791,\n",
       " 291.72450675180136,\n",
       " 572.2547622066949,\n",
       " 513.654072363058,\n",
       " 520.101056776143,\n",
       " 395.4785280643994,\n",
       " 187.29470182716634,\n",
       " 337.0779664095924,\n",
       " 264.2550875667675,\n",
       " 229.62767119686836,\n",
       " 241.57131647450737,\n",
       " 624.6783782166044,\n",
       " 398.61155552286255,\n",
       " 177.96249379952752,\n",
       " 326.48476293056393,\n",
       " 367.7481167522692,\n",
       " 640.170889610697,\n",
       " 763.4290105894871,\n",
       " 421.3328796360761,\n",
       " 673.0931114870205,\n",
       " 468.68953754349445,\n",
       " 256.5003870350762,\n",
       " 587.4639180065606,\n",
       " 255.06089149178737,\n",
       " 265.3075667155521,\n",
       " 352.94939002921484,\n",
       " 469.0531870502882,\n",
       " 502.7014217575953,\n",
       " 310.30276144792145,\n",
       " 634.3254591332426,\n",
       " 582.9350092712793,\n",
       " 243.7169969799385,\n",
       " 205.3404804211784,\n",
       " 663.8256642261056,\n",
       " 684.3703965096746,\n",
       " 375.3988817875386,\n",
       " 371.17188769498887,\n",
       " 380.92768909211554,\n",
       " 568.1186415970221,\n",
       " 699.0019937816271,\n",
       " 766.2431757794142,\n",
       " 538.5718701450471,\n",
       " 636.7635063398236,\n",
       " 284.18324718869206,\n",
       " 392.2054517481071,\n",
       " 692.2900611846803,\n",
       " 454.95087269771875,\n",
       " 653.8487997495378,\n",
       " 347.01020693153646,\n",
       " 272.1247531526405,\n",
       " 306.62381343116164,\n",
       " 236.1303253819375,\n",
       " 392.0361282327781,\n",
       " 599.8383058866903,\n",
       " 310.28469108034477,\n",
       " 397.2556949684797,\n",
       " 340.6419046391219,\n",
       " 280.3744203018119,\n",
       " 664.0124326658132,\n",
       " 388.9106195207338,\n",
       " 591.7111503124501,\n",
       " 278.48119661631296,\n",
       " 324.1025658967275,\n",
       " 326.33411188787056,\n",
       " 395.58097594482524,\n",
       " 391.05447520918847,\n",
       " 353.29566431489764,\n",
       " 720.2592388620928,\n",
       " 544.2170448624338,\n",
       " 530.8529888013894,\n",
       " 120.84964780373332,\n",
       " 564.9269254774803,\n",
       " 644.6432424304338,\n",
       " 611.9548234571782,\n",
       " 369.4935234817854,\n",
       " 577.5893954774813,\n",
       " 693.7235387794002,\n",
       " 316.310867096673,\n",
       " 599.0675350744739,\n",
       " 629.2907593272438,\n",
       " 245.75112096218035,\n",
       " 604.2200750313782,\n",
       " 708.6281044358552,\n",
       " 674.080519668585,\n",
       " 239.88520867973,\n",
       " 695.7006831086832,\n",
       " 441.2292880135013,\n",
       " 684.4590804356775,\n",
       " 755.6797193861117,\n",
       " 243.93932930680094,\n",
       " 569.4131519704493,\n",
       " 455.9877881089521,\n",
       " 250.4960307261294,\n",
       " 355.2167098620913,\n",
       " 348.41342474202304,\n",
       " 286.0397865498893,\n",
       " 558.9352165794688,\n",
       " 236.3806516943087,\n",
       " 562.9452909763562,\n",
       " 313.9455242379385,\n",
       " 321.6911397636537,\n",
       " 290.9273349477682,\n",
       " 331.08168139816905,\n",
       " 289.26536324868783,\n",
       " 175.98877082646678,\n",
       " 404.22569798250754,\n",
       " 510.21589239524627,\n",
       " 756.2692676302615,\n",
       " 286.02667235298105,\n",
       " 504.51884877716805,\n",
       " 314.2075213176659,\n",
       " 427.6835035224084,\n",
       " 280.4327693714946,\n",
       " 320.7540374259501,\n",
       " 301.1443799910322,\n",
       " 468.19320590049534,\n",
       " 389.3163449643156,\n",
       " 369.4783190444861,\n",
       " 243.4620707651539,\n",
       " 428.5052963505354,\n",
       " 436.5715717912233,\n",
       " 209.19134347878105,\n",
       " 606.7546611195326,\n",
       " 299.53103944386675,\n",
       " 541.6335585539927,\n",
       " 818.1059710286186,\n",
       " 245.75393728192446,\n",
       " 251.76336685727463,\n",
       " 415.9063609027549,\n",
       " 363.92840823792824,\n",
       " 495.64676026980527,\n",
       " 247.67827326384287,\n",
       " 488.5128542391467,\n",
       " 409.86267281354566,\n",
       " 366.44108243655336,\n",
       " 576.2599154185988,\n",
       " 400.5398041513134,\n",
       " 397.0599260069439,\n",
       " 570.984077866587,\n",
       " 169.89606742565675,\n",
       " 571.2791579198641,\n",
       " 560.521644415792,\n",
       " 406.51924802704684,\n",
       " 384.606062046072,\n",
       " 290.18713083137385,\n",
       " 555.1703766534538,\n",
       " 125.84963057918259,\n",
       " 352.09653213614547,\n",
       " 382.63304731649345,\n",
       " 763.7494363689117,\n",
       " 340.48575602112186,\n",
       " 778.1516866702632,\n",
       " 414.0203924455667,\n",
       " 662.8144997056155,\n",
       " 598.3099655254365,\n",
       " 350.9534278828997,\n",
       " 414.57872429618646,\n",
       " 402.5133728195783,\n",
       " 236.52965403335654,\n",
       " 126.58339348339463,\n",
       " -4.397658781977942,\n",
       " 492.5339860996317,\n",
       " 443.2467237053212,\n",
       " 565.7405705169094,\n",
       " 315.7576920146516,\n",
       " 281.8390783173995,\n",
       " 699.585519930515,\n",
       " 264.54039853568565,\n",
       " 306.21865954704754,\n",
       " 678.6183401183307,\n",
       " 378.98849632616225,\n",
       " 674.2856387202049,\n",
       " 448.8291872061297,\n",
       " 573.5992841454579,\n",
       " 695.1292127100214,\n",
       " 226.73589452526076,\n",
       " 223.07420062714135,\n",
       " 290.68635940340204,\n",
       " 702.7050444846172,\n",
       " 510.0415307638948,\n",
       " 701.7798674959691,\n",
       " 438.9897235342183,\n",
       " 516.3275042433268,\n",
       " 333.68293238543623,\n",
       " 221.60289781343798,\n",
       " 537.0847285830233,\n",
       " 653.0380912315698,\n",
       " 356.7048492596137,\n",
       " 389.31087952529816,\n",
       " 337.3337140888817,\n",
       " 586.3979105175002,\n",
       " 390.1592861819637,\n",
       " 487.1367797338669,\n",
       " 433.2377471959434,\n",
       " 213.46877899023036,\n",
       " 624.4521037635838,\n",
       " 158.43713421615922,\n",
       " 603.432532803748,\n",
       " 340.56336307002283,\n",
       " 361.6068682362406,\n",
       " 382.20741891044804,\n",
       " 266.71742654051593,\n",
       " 269.6246155039377,\n",
       " 318.9526542647545,\n",
       " 507.0174594717166,\n",
       " 184.3111491998222,\n",
       " 654.3083506313902,\n",
       " 674.2208341721506,\n",
       " 253.58064561164048,\n",
       " 837.7064112186392,\n",
       " 446.1158805568763,\n",
       " 387.1942522854938,\n",
       " 588.6558885210574,\n",
       " 315.4942674875797,\n",
       " 495.8496196580186,\n",
       " 343.61100554101586,\n",
       " 514.5491690027062,\n",
       " 403.0899818191847,\n",
       " 401.4107312669412,\n",
       " 126.06029589187017,\n",
       " 238.55613097108895,\n",
       " 488.04962976516384,\n",
       " 401.2641864218166,\n",
       " 369.6049341575141,\n",
       " 428.1686628997627,\n",
       " 233.72426576307777,\n",
       " 325.41754803826774,\n",
       " 345.28823647462997,\n",
       " 348.7989957201733,\n",
       " 375.55099821381503,\n",
       " 258.12045635762485,\n",
       " 412.8027910441237,\n",
       " 704.2622793798074,\n",
       " 594.0375273426018,\n",
       " 619.017966307648,\n",
       " 707.3911572119478,\n",
       " 387.59287748979125,\n",
       " 727.0364085584175,\n",
       " 235.7445073498441,\n",
       " 833.8796786688146,\n",
       " 709.0745616757498,\n",
       " 418.97579702771884,\n",
       " 248.88931477650607,\n",
       " 604.2160156488793,\n",
       " 790.2628947931765,\n",
       " 630.9119209971857,\n",
       " 685.7704808205293,\n",
       " 528.8085239253377,\n",
       " 665.9091583116382,\n",
       " 442.8328777218919,\n",
       " 764.496962807786,\n",
       " 559.1915361419075,\n",
       " 536.7120639807147,\n",
       " 294.2219077004289,\n",
       " 572.6718661447331,\n",
       " 435.4244809409034,\n",
       " 235.742975672084,\n",
       " 289.348280519742,\n",
       " 375.3929772851757,\n",
       " 355.8460265307091,\n",
       " 238.73943515502907,\n",
       " 546.3191599616185,\n",
       " 441.60115270856824,\n",
       " 307.53643091124786,\n",
       " 463.8323644696795,\n",
       " 271.01714470175455,\n",
       " 545.3526937072174,\n",
       " 603.1942879226656,\n",
       " 555.0592242690848,\n",
       " 522.7454991576999,\n",
       " 336.6272086690961,\n",
       " 295.12851105933896,\n",
       " 187.43764910781783,\n",
       " 567.3485238029731,\n",
       " 573.3522228317509,\n",
       " 181.29091931081425,\n",
       " 398.1931926291668,\n",
       " 317.3303892494318,\n",
       " 321.1025301907386,\n",
       " 454.8611677044962,\n",
       " 152.79117984094927,\n",
       " 367.19790741193924,\n",
       " 401.7855149954424,\n",
       " 531.0819613963081,\n",
       " 462.5619106388443,\n",
       " 410.5123776620579,\n",
       " 658.064379570573,\n",
       " 619.2657852422465,\n",
       " 592.9650784167363,\n",
       " 334.81840082179855,\n",
       " 604.3352179612256,\n",
       " 596.9857558302036,\n",
       " 468.33420168120193,\n",
       " 384.65102185114824,\n",
       " 252.1108989950197,\n",
       " 177.7132286999729,\n",
       " 232.8224795105487,\n",
       " 418.04549512885563,\n",
       " 236.7158849860141,\n",
       " 440.23482595848964,\n",
       " 654.7916742223214,\n",
       " 331.2297217772061,\n",
       " -2.988204527481221,\n",
       " 186.01563564871134,\n",
       " 241.69646163274732,\n",
       " 177.9483304605847,\n",
       " 210.4415560317602,\n",
       " 242.33911303587576,\n",
       " 404.86105999214715,\n",
       " 272.9546161729767,\n",
       " 568.4954366525438,\n",
       " 203.09681350926328,\n",
       " 594.0037872234733,\n",
       " 223.78512371291654,\n",
       " 169.40951809320205,\n",
       " 236.5211786061259,\n",
       " 163.32632347058444,\n",
       " 454.5528248912645,\n",
       " 417.4149356655062,\n",
       " 404.61073754315584,\n",
       " 358.12370896807465,\n",
       " 349.54663556688104,\n",
       " 315.3045006040485,\n",
       " 343.69699914634435,\n",
       " 205.98670692206153,\n",
       " 329.7454919497693,\n",
       " 376.5397777009387,\n",
       " 541.6301939368698,\n",
       " 550.5615708976751,\n",
       " 245.0292710742711,\n",
       " 552.4578142164489,\n",
       " 383.3850918133651,\n",
       " 589.533341142132,\n",
       " 324.3578807441722,\n",
       " 406.873813456831,\n",
       " 308.44814636051996,\n",
       " 336.00205606578095,\n",
       " 384.9559944934678,\n",
       " 337.9095516316078,\n",
       " 349.1913026395088,\n",
       " 590.2137461955001,\n",
       " 323.10177240583306,\n",
       " 366.6585579741298,\n",
       " 268.82843324249563,\n",
       " 609.265629422834,\n",
       " 280.6509746911414,\n",
       " 270.30504931325197,\n",
       " 348.99687004595984,\n",
       " 291.72190342434726,\n",
       " 250.75483691335532,\n",
       " 332.1412858706917,\n",
       " 268.04070680918636,\n",
       " 324.44497528772416,\n",
       " 657.5331824597046,\n",
       " 289.6019572246602,\n",
       " 336.8820763216334,\n",
       " 258.41710598739076,\n",
       " 203.84059428467967,\n",
       " 186.84139853002807,\n",
       " 90.16678013256788,\n",
       " 623.6204889141329,\n",
       " 177.58992457719296,\n",
       " 84.61748999152165,\n",
       " 757.4427845346868,\n",
       " 382.92053426235026,\n",
       " 536.7532938811644,\n",
       " 219.47199916391418,\n",
       " 227.44741585202664,\n",
       " 156.2146586326045,\n",
       " 361.82757606163636,\n",
       " 174.45432008504318,\n",
       " 405.75872540453463,\n",
       " 497.30889243520056,\n",
       " 273.92266617841375,\n",
       " 252.87941836737065,\n",
       " 199.41895469991255,\n",
       " 560.0471831753702,\n",
       " 258.2244049691492,\n",
       " 199.21162465349764,\n",
       " 234.62464568567614,\n",
       " 399.15448152361756,\n",
       " 231.23666460498995,\n",
       " 326.3082464979753,\n",
       " 340.40886531365766,\n",
       " 490.17962966342816,\n",
       " 236.15008136573263,\n",
       " 269.47286724110216,\n",
       " 220.75476890418204,\n",
       " 242.61290545143228,\n",
       " 258.0818701575688,\n",
       " 727.2646451133146,\n",
       " 160.532346549403,\n",
       " 238.96198171799026,\n",
       " 787.7007972945548,\n",
       " 245.81726817943428,\n",
       " 209.58959041816397,\n",
       " 277.1848781063283,\n",
       " 577.4327651665776,\n",
       " 222.31480709002662,\n",
       " 591.021066913824,\n",
       " 374.0126644799307,\n",
       " 537.7947579284292,\n",
       " 540.2648042066642,\n",
       " 679.8123869915196,\n",
       " 520.4600549128099,\n",
       " 478.6112724111505,\n",
       " 289.5212161878563,\n",
       " 577.5207170274437,\n",
       " 240.32739648492387,\n",
       " 422.0177166600113,\n",
       " 507.0398491351222,\n",
       " 497.5227052749913,\n",
       " 319.79805466886495,\n",
       " 507.16068238837875,\n",
       " 284.06002464766283,\n",
       " 472.412043259247,\n",
       " 678.4131324098072,\n",
       " 626.9412303817493,\n",
       " 593.1191649789696,\n",
       " 375.0459064415062,\n",
       " 273.2775654066775,\n",
       " 587.427842599191,\n",
       " 371.9185556386272,\n",
       " 566.3340731805724,\n",
       " 634.6582188871905,\n",
       " 471.7572853548227,\n",
       " 681.5566391446489,\n",
       " 698.9719896208543,\n",
       " 699.8181293923836,\n",
       " 340.7290163010831,\n",
       " 344.76509152037636,\n",
       " 487.39782378321695,\n",
       " 289.4661772467753,\n",
       " 346.2700045264265,\n",
       " 727.3998245932779,\n",
       " 602.8035743044984,\n",
       " 591.7751359178615,\n",
       " 665.0421643335053,\n",
       " 575.1820784805711,\n",
       " 766.9830826845168,\n",
       " 324.8366566116011,\n",
       " 719.9834912761021,\n",
       " 656.0646487566569,\n",
       " 192.36879354087912,\n",
       " 324.41114045360575,\n",
       " 282.4854787198573,\n",
       " 603.382545520047,\n",
       " 767.5791505251523,\n",
       " 370.62956224889234,\n",
       " 198.72538391450257,\n",
       " 525.6522444726606,\n",
       " 489.42668877965434,\n",
       " 305.70300962192306,\n",
       " 294.1122339176165,\n",
       " 464.1731077863296,\n",
       " 349.84831306833405,\n",
       " 228.86392809894554,\n",
       " 364.1398772546915,\n",
       " 290.48981406983756,\n",
       " 273.2149470893819,\n",
       " 255.8441151617517,\n",
       " 302.4790236867551,\n",
       " 306.1599229203295,\n",
       " 348.3558262644789,\n",
       " 496.5807083220621,\n",
       " 310.39915643349275,\n",
       " 282.65939356317176,\n",
       " 290.0588911884162,\n",
       " 306.78382660706103,\n",
       " 443.80502580758406,\n",
       " 282.8017115316965,\n",
       " 383.51301371356345,\n",
       " 489.2485766537694,\n",
       " 655.484329147482,\n",
       " 292.23223721398216,\n",
       " 263.79033962847615,\n",
       " 534.9323625984224,\n",
       " 287.4309998201353,\n",
       " 317.53375909946783,\n",
       " 442.2903414271298,\n",
       " 616.5578376454152,\n",
       " 509.31787365634744,\n",
       " 445.8159154995147,\n",
       " 586.2564978213237,\n",
       " 586.482183314465,\n",
       " 520.0863804026956,\n",
       " 532.7290536080465,\n",
       " 467.8526767658598,\n",
       " 591.6233162948007,\n",
       " 486.99138924736627,\n",
       " 193.5197444339415,\n",
       " 627.0884690974244,\n",
       " 537.729071719165,\n",
       " 777.4214405785636,\n",
       " 566.6710261694359,\n",
       " 697.5917244239496,\n",
       " 683.4705908919543,\n",
       " 742.3422709957348,\n",
       " 746.1482183635449,\n",
       " 227.73087996735254,\n",
       " 790.2816672039786,\n",
       " 727.5163987488098,\n",
       " 738.4274200650862,\n",
       " 681.4483910523726,\n",
       " 574.498072034234,\n",
       " 530.5237575980271,\n",
       " 335.08212830380165,\n",
       " 396.28138213010124,\n",
       " 252.68228182033408,\n",
       " 324.117719547206,\n",
       " 330.0932170060262,\n",
       " 531.4623420945694,\n",
       " 364.6480442241267,\n",
       " 517.658235270479,\n",
       " 341.46165121318194,\n",
       " 505.4624834792802,\n",
       " 497.6530965131883,\n",
       " 380.537833038058,\n",
       " 404.13487365042323,\n",
       " 383.78426554425414,\n",
       " 612.937508748777,\n",
       " 288.2849360023689,\n",
       " 618.1779910476947,\n",
       " 568.8964180200184,\n",
       " 679.4302280454943,\n",
       " 475.65260426583154,\n",
       " 675.1523585670398,\n",
       " 232.95281011022882,\n",
       " 635.0552650929246,\n",
       " 580.0628423616804,\n",
       " 544.183301298615,\n",
       " 352.8071818361137,\n",
       " 412.09806842162476,\n",
       " 317.88001300145106,\n",
       " 526.7380898296032,\n",
       " 593.019919640768,\n",
       " 269.04464389189656,\n",
       " 444.97655130014135,\n",
       " 181.14969303786188,\n",
       " 291.97766960845684,\n",
       " 480.1368419884111,\n",
       " 314.89450363451664,\n",
       " 644.6829757907093,\n",
       " 190.11089658182698,\n",
       " 588.0877260530721,\n",
       " 582.4959742576134,\n",
       " 497.92027329498313,\n",
       " 323.2159165222096,\n",
       " 251.0570403739508,\n",
       " 294.99573763132054,\n",
       " 311.4678210870401,\n",
       " 376.94614934528823,\n",
       " 529.8962110158686,\n",
       " 546.9282945365353,\n",
       " 304.74002755572303,\n",
       " 349.3805616200353,\n",
       " 559.9340406564172,\n",
       " 338.2881652619058,\n",
       " 327.0074114369927,\n",
       " 478.3015381260936,\n",
       " 431.2380884128291,\n",
       " 356.2457958727865,\n",
       " 365.5861867905614,\n",
       " 256.5687251425215,\n",
       " 242.4121973192323,\n",
       " 404.5954936164058,\n",
       " 642.3884956268582,\n",
       " 514.75552293493,\n",
       " 416.60058601618687,\n",
       " 267.35151025670285,\n",
       " 480.53498895148726,\n",
       " 459.59259510200417,\n",
       " 194.91664873370715,\n",
       " 182.9755331768777,\n",
       " 262.81178555759493,\n",
       " 435.14798217834385,\n",
       " 559.554667574949,\n",
       " 365.7121513476647,\n",
       " 475.31957442824967,\n",
       " 510.06416819535474,\n",
       " 330.7750704461996,\n",
       " 600.4619409024449,\n",
       " 566.796398826568,\n",
       " 442.5563433423864,\n",
       " 355.77039404527306,\n",
       " 306.4823734112054,\n",
       " 381.4799414316551,\n",
       " 481.9164232150833,\n",
       " 292.3494204817126,\n",
       " 567.0152063424155,\n",
       " 488.35206520567044,\n",
       " 496.2050096752416,\n",
       " 362.58248428942466,\n",
       " 481.4279048379658,\n",
       " 422.00791282966435,\n",
       " 726.4337357223533,\n",
       " 185.50554106176023,\n",
       " 402.5211003136252,\n",
       " 347.3155196764198,\n",
       " 269.98104820169686,\n",
       " 293.1310288262962,\n",
       " 746.5320978656613,\n",
       " 338.81519049208976,\n",
       " 250.04976114070507,\n",
       " 676.7295422767654,\n",
       " 357.3613832303064,\n",
       " 542.2221105647423,\n",
       " 363.6243384791203,\n",
       " 477.16485523290095,\n",
       " 462.3263438443366,\n",
       " 523.5173954229707,\n",
       " 254.971971520899,\n",
       " 418.12999111535805,\n",
       " 523.1974254683091,\n",
       " 185.41525321354078,\n",
       " 686.9381657437477,\n",
       " 539.1279708890656,\n",
       " 403.73298867075175,\n",
       " 401.18565939034164,\n",
       " 386.5531683993368,\n",
       " 473.93558207681355,\n",
       " 575.8945043438636,\n",
       " 591.4473042879232,\n",
       " 281.1917352795085,\n",
       " 405.109307376974,\n",
       " 492.01848344411826,\n",
       " 468.2256760130006,\n",
       " 338.5060637811823,\n",
       " 384.8381514179033,\n",
       " 664.7882867350082,\n",
       " 538.5817429523412,\n",
       " 395.9888244526826,\n",
       " 269.8152802893992,\n",
       " 613.8738370771762,\n",
       " 302.65044494162095,\n",
       " 403.3042052996103,\n",
       " 543.3715540800259,\n",
       " 261.06309365322454,\n",
       " 615.0215674841514,\n",
       " 362.4777320683821,\n",
       " 502.25918171888935,\n",
       " 449.5724440982104,\n",
       " 346.2894071112577,\n",
       " ...]"
      ]
     },
     "execution_count": 107,
     "metadata": {},
     "output_type": "execute_result"
    }
   ],
   "source": [
    "maxValue0"
   ]
  },
  {
   "cell_type": "code",
   "execution_count": 108,
   "id": "f4bcfd45",
   "metadata": {},
   "outputs": [
    {
     "data": {
      "text/plain": [
       "[<matplotlib.lines.Line2D at 0x29a20ae80>]"
      ]
     },
     "execution_count": 108,
     "metadata": {},
     "output_type": "execute_result"
    },
    {
     "data": {
      "image/png": "[encoded data removed]",
      "text/plain": [
       "<Figure size 640x480 with 1 Axes>"
      ]
     },
     "metadata": {},
     "output_type": "display_data"
    }
   ],
   "source": [
    "# maxValue0 = np.array(maxValue0)\n",
    "# maxValue0 = maxValue0.reshape(-1,5923)\n",
    "plt.plot(maxValue0)"
   ]
  },
  {
   "cell_type": "code",
   "execution_count": 109,
   "id": "c1a3c6ee",
   "metadata": {},
   "outputs": [
    {
     "data": {
      "text/plain": [
       "[<matplotlib.lines.Line2D at 0x29a282190>]"
      ]
     },
     "execution_count": 109,
     "metadata": {},
     "output_type": "execute_result"
    },
    {
     "data": {
      "image/png": "[encoded data removed]",
      "text/plain": [
       "<Figure size 640x480 with 1 Axes>"
      ]
     },
     "metadata": {},
     "output_type": "display_data"
    }
   ],
   "source": [
    "plt.plot(maxValue1)"
   ]
  },
  {
   "cell_type": "code",
   "execution_count": 110,
   "id": "4221ec84",
   "metadata": {},
   "outputs": [
    {
     "data": {
      "text/plain": [
       "[<matplotlib.lines.Line2D at 0x29a2fd0d0>]"
      ]
     },
     "execution_count": 110,
     "metadata": {},
     "output_type": "execute_result"
    },
    {
     "data": {
      "image/png": "[encoded data removed]",
      "text/plain": [
       "<Figure size 640x480 with 1 Axes>"
      ]
     },
     "metadata": {},
     "output_type": "display_data"
    }
   ],
   "source": [
    "plt.plot(maxValue2)"
   ]
  },
  {
   "cell_type": "code",
   "execution_count": 111,
   "id": "26d352eb",
   "metadata": {},
   "outputs": [
    {
     "data": {
      "text/plain": [
       "[<matplotlib.lines.Line2D at 0x29a36acd0>]"
      ]
     },
     "execution_count": 111,
     "metadata": {},
     "output_type": "execute_result"
    },
    {
     "data": {
      "image/png": "[encoded data removed]",
      "text/plain": [
       "<Figure size 640x480 with 1 Axes>"
      ]
     },
     "metadata": {},
     "output_type": "display_data"
    }
   ],
   "source": [
    "plt.plot(index1_results_0)"
   ]
  },
  {
   "cell_type": "code",
   "execution_count": 112,
   "id": "058433d9",
   "metadata": {},
   "outputs": [],
   "source": [
    "resultSum_0 = maxValue0\n",
    "resultSum_1 = maxValue1\n",
    "resultSum_2 = maxValue2"
   ]
  },
  {
   "cell_type": "code",
   "execution_count": 113,
   "id": "5d9b70f5",
   "metadata": {},
   "outputs": [
    {
     "data": {
      "text/plain": [
       "(1, 3)"
      ]
     },
     "execution_count": 113,
     "metadata": {},
     "output_type": "execute_result"
    }
   ],
   "source": [
    "results_0[0][0].shape"
   ]
  },
  {
   "cell_type": "code",
   "execution_count": null,
   "id": "8391bb34",
   "metadata": {},
   "outputs": [],
   "source": []
  },
  {
   "cell_type": "code",
   "execution_count": 114,
   "id": "e2300336",
   "metadata": {},
   "outputs": [
    {
     "data": {
      "text/plain": [
       "array([[[237.06242131, 356.83676695, 382.64580452]]])"
      ]
     },
     "execution_count": 114,
     "metadata": {},
     "output_type": "execute_result"
    }
   ],
   "source": [
    "results_0[0]"
   ]
  },
  {
   "cell_type": "code",
   "execution_count": 115,
   "id": "1ba481ef",
   "metadata": {},
   "outputs": [
    {
     "data": {
      "text/plain": [
       "356.836766950013"
      ]
     },
     "execution_count": 115,
     "metadata": {},
     "output_type": "execute_result"
    }
   ],
   "source": [
    "results_0[0][0][0][1]"
   ]
  },
  {
   "cell_type": "code",
   "execution_count": 116,
   "id": "3e180bb8",
   "metadata": {},
   "outputs": [
    {
     "data": {
      "text/plain": [
       "array([[[120.16421907, 180.23536482, 193.79539393]]])"
      ]
     },
     "execution_count": 116,
     "metadata": {},
     "output_type": "execute_result"
    }
   ],
   "source": [
    "results_1[1]"
   ]
  },
  {
   "cell_type": "code",
   "execution_count": 117,
   "id": "965f17c8",
   "metadata": {},
   "outputs": [
    {
     "data": {
      "text/plain": [
       "180.23536482493674"
      ]
     },
     "execution_count": 117,
     "metadata": {},
     "output_type": "execute_result"
    }
   ],
   "source": [
    "results_1[1][0][0][1]"
   ]
  },
  {
   "cell_type": "code",
   "execution_count": 118,
   "id": "54bdb4dd",
   "metadata": {},
   "outputs": [
    {
     "data": {
      "text/plain": [
       "169.83627090482426"
      ]
     },
     "execution_count": 118,
     "metadata": {},
     "output_type": "execute_result"
    }
   ],
   "source": [
    "results_1[0][0][0][1]"
   ]
  },
  {
   "cell_type": "code",
   "execution_count": 119,
   "id": "4d54177c",
   "metadata": {},
   "outputs": [
    {
     "data": {
      "text/plain": [
       "array([[[242.55765517, 361.87351006, 390.08622803]]])"
      ]
     },
     "execution_count": 119,
     "metadata": {},
     "output_type": "execute_result"
    }
   ],
   "source": [
    "results_2[0]"
   ]
  },
  {
   "cell_type": "code",
   "execution_count": 120,
   "id": "d1a202cd",
   "metadata": {},
   "outputs": [
    {
     "data": {
      "text/plain": [
       "array([[[114.42735716, 169.8362709 , 180.76027536]]])"
      ]
     },
     "execution_count": 120,
     "metadata": {},
     "output_type": "execute_result"
    }
   ],
   "source": [
    "results_1[0]"
   ]
  },
  {
   "cell_type": "code",
   "execution_count": 121,
   "id": "f8f7b32b",
   "metadata": {},
   "outputs": [
    {
     "data": {
      "text/plain": [
       "array([[[ 0.00000000e+00]],\n",
       "\n",
       "       [[ 0.00000000e+00]],\n",
       "\n",
       "       [[ 0.00000000e+00]],\n",
       "\n",
       "       [[-7.32727686e-01]],\n",
       "\n",
       "       [[-1.43872955e+00]],\n",
       "\n",
       "       [[-5.46602957e-01]],\n",
       "\n",
       "       [[-1.02519715e+00]],\n",
       "\n",
       "       [[-9.70399593e-01]],\n",
       "\n",
       "       [[ 2.49384472e-01]],\n",
       "\n",
       "       [[-1.02996683e-01]],\n",
       "\n",
       "       [[-1.72499607e-02]],\n",
       "\n",
       "       [[-7.00005117e-01]],\n",
       "\n",
       "       [[-4.44139317e-01]],\n",
       "\n",
       "       [[-1.35529093e-01]],\n",
       "\n",
       "       [[ 1.58681073e-01]],\n",
       "\n",
       "       [[-9.84551716e-02]],\n",
       "\n",
       "       [[-1.66519287e+00]],\n",
       "\n",
       "       [[-8.75300227e-01]],\n",
       "\n",
       "       [[-4.01228170e-01]],\n",
       "\n",
       "       [[ 1.02123086e-01]],\n",
       "\n",
       "       [[ 3.29493514e+02]],\n",
       "\n",
       "       [[ 1.63899861e-01]],\n",
       "\n",
       "       [[-4.20404412e-02]],\n",
       "\n",
       "       [[ 0.00000000e+00]],\n",
       "\n",
       "       [[ 0.00000000e+00]],\n",
       "\n",
       "       [[ 0.00000000e+00]],\n",
       "\n",
       "       [[ 0.00000000e+00]],\n",
       "\n",
       "       [[ 0.00000000e+00]]])"
      ]
     },
     "execution_count": 121,
     "metadata": {},
     "output_type": "execute_result"
    }
   ],
   "source": [
    "resultRow_2"
   ]
  },
  {
   "cell_type": "code",
   "execution_count": 122,
   "id": "da6b0d71",
   "metadata": {
    "scrolled": false
   },
   "outputs": [
    {
     "data": {
      "text/plain": [
       "array([[[237.06242131, 356.83676695, 382.64580452]]])"
      ]
     },
     "execution_count": 122,
     "metadata": {},
     "output_type": "execute_result"
    }
   ],
   "source": [
    "results_0[0]"
   ]
  },
  {
   "cell_type": "code",
   "execution_count": 123,
   "id": "3eb3f865",
   "metadata": {},
   "outputs": [
    {
     "data": {
      "text/plain": [
       "array([[[ 0.00000000e+00]],\n",
       "\n",
       "       [[ 0.00000000e+00]],\n",
       "\n",
       "       [[ 0.00000000e+00]],\n",
       "\n",
       "       [[ 0.00000000e+00]],\n",
       "\n",
       "       [[-8.93871848e-01]],\n",
       "\n",
       "       [[-7.39123532e-01]],\n",
       "\n",
       "       [[-8.80755891e-01]],\n",
       "\n",
       "       [[-1.45562632e+00]],\n",
       "\n",
       "       [[-3.04122675e-01]],\n",
       "\n",
       "       [[-1.19897162e+00]],\n",
       "\n",
       "       [[-1.03697204e+00]],\n",
       "\n",
       "       [[-1.96559141e+00]],\n",
       "\n",
       "       [[-1.04533460e+00]],\n",
       "\n",
       "       [[-1.07178690e+00]],\n",
       "\n",
       "       [[-1.41627762e+00]],\n",
       "\n",
       "       [[-9.72901522e-01]],\n",
       "\n",
       "       [[ 6.35053940e-02]],\n",
       "\n",
       "       [[-1.60297735e+00]],\n",
       "\n",
       "       [[-4.22279614e-01]],\n",
       "\n",
       "       [[-5.44118753e-01]],\n",
       "\n",
       "       [[ 6.07378243e+02]],\n",
       "\n",
       "       [[ 4.10837293e-02]],\n",
       "\n",
       "       [[ 2.10063725e-01]],\n",
       "\n",
       "       [[-2.60123794e-01]],\n",
       "\n",
       "       [[ 0.00000000e+00]],\n",
       "\n",
       "       [[ 0.00000000e+00]],\n",
       "\n",
       "       [[ 0.00000000e+00]],\n",
       "\n",
       "       [[ 0.00000000e+00]]])"
      ]
     },
     "execution_count": 123,
     "metadata": {},
     "output_type": "execute_result"
    }
   ],
   "source": [
    "resultRow_0"
   ]
  },
  {
   "cell_type": "code",
   "execution_count": 124,
   "id": "57c85d91",
   "metadata": {},
   "outputs": [
    {
     "data": {
      "text/plain": [
       "array([[[ 0.00000000e+00]],\n",
       "\n",
       "       [[ 0.00000000e+00]],\n",
       "\n",
       "       [[ 0.00000000e+00]],\n",
       "\n",
       "       [[ 0.00000000e+00]],\n",
       "\n",
       "       [[ 0.00000000e+00]],\n",
       "\n",
       "       [[ 2.64151603e-02]],\n",
       "\n",
       "       [[-6.84100532e-02]],\n",
       "\n",
       "       [[-2.60867175e-01]],\n",
       "\n",
       "       [[-4.94614229e-01]],\n",
       "\n",
       "       [[ 9.59551210e-02]],\n",
       "\n",
       "       [[-1.30886951e-01]],\n",
       "\n",
       "       [[ 1.43674664e-01]],\n",
       "\n",
       "       [[-3.99636046e-01]],\n",
       "\n",
       "       [[-2.46858328e-01]],\n",
       "\n",
       "       [[-1.48454152e-01]],\n",
       "\n",
       "       [[-3.95586551e-01]],\n",
       "\n",
       "       [[-1.42894530e-01]],\n",
       "\n",
       "       [[ 2.21622077e-01]],\n",
       "\n",
       "       [[ 7.69776043e-02]],\n",
       "\n",
       "       [[-5.31890256e-01]],\n",
       "\n",
       "       [[ 9.88507543e+01]],\n",
       "\n",
       "       [[-6.96852807e-02]],\n",
       "\n",
       "       [[-1.25415807e-01]],\n",
       "\n",
       "       [[-3.06938089e-01]],\n",
       "\n",
       "       [[-1.58435486e+00]],\n",
       "\n",
       "       [[ 0.00000000e+00]],\n",
       "\n",
       "       [[ 0.00000000e+00]],\n",
       "\n",
       "       [[ 0.00000000e+00]]])"
      ]
     },
     "execution_count": 124,
     "metadata": {},
     "output_type": "execute_result"
    }
   ],
   "source": [
    "resultRow_1"
   ]
  },
  {
   "cell_type": "code",
   "execution_count": 125,
   "id": "5391b374",
   "metadata": {},
   "outputs": [
    {
     "data": {
      "text/plain": [
       "array([[[114.42735716, 169.8362709 , 180.76027536]]])"
      ]
     },
     "execution_count": 125,
     "metadata": {},
     "output_type": "execute_result"
    }
   ],
   "source": [
    "results_1[0]"
   ]
  },
  {
   "cell_type": "code",
   "execution_count": 126,
   "id": "02d9ff26",
   "metadata": {},
   "outputs": [
    {
     "data": {
      "text/plain": [
       "[<matplotlib.lines.Line2D at 0x29a37bc40>]"
      ]
     },
     "execution_count": 126,
     "metadata": {},
     "output_type": "execute_result"
    },
    {
     "data": {
      "image/png": "[encoded data removed]",
      "text/plain": [
       "<Figure size 640x480 with 1 Axes>"
      ]
     },
     "metadata": {},
     "output_type": "display_data"
    }
   ],
   "source": [
    "plt.plot(weight1)"
   ]
  },
  {
   "cell_type": "code",
   "execution_count": 127,
   "id": "c52dc580",
   "metadata": {},
   "outputs": [],
   "source": [
    "results_0 , resultSum_0 =printResultsBlock(X_train_filter_0,weight1)\n",
    "\n",
    "results_1 , resultSum_1 =printResultsBlock(X_train_filter_1,weight1)\n",
    "results_2 , resultSum_2 =printResultsBlock(X_train_filter_2,weight1)"
   ]
  },
  {
   "cell_type": "code",
   "execution_count": 128,
   "id": "07ee26b9",
   "metadata": {},
   "outputs": [
    {
     "data": {
      "text/plain": [
       "112"
      ]
     },
     "execution_count": 128,
     "metadata": {},
     "output_type": "execute_result"
    }
   ],
   "source": [
    "len(results_0[0])"
   ]
  },
  {
   "cell_type": "code",
   "execution_count": 129,
   "id": "e4b70a3d",
   "metadata": {},
   "outputs": [],
   "source": [
    "def findMaxNode(result):\n",
    "    max_ = 0\n",
    "    indices = []\n",
    "    ansMode = []\n",
    "    for images in result:\n",
    "        max_index = -1\n",
    "        max_ = 0\n",
    "        for index in range(28):\n",
    "            if(images[index] > max_):\n",
    "                max_ = images[index]\n",
    "                max_index = index\n",
    "        \n",
    "        indices.append(max_index)\n",
    "        \n",
    "    data = Counter(indices)\n",
    "    mode = statistics.mode(indices)\n",
    "    return data,indices,mode"
   ]
  },
  {
   "cell_type": "code",
   "execution_count": 130,
   "id": "d3b1121e",
   "metadata": {},
   "outputs": [],
   "source": [
    "data_0 , indices_0 , mode_0 = findMaxNode(results_0)\n",
    "data_1 , indices_1 , mode_1 = findMaxNode(results_1)\n",
    "data_2 , indices_2 , mode_2 = findMaxNode(results_2)"
   ]
  },
  {
   "cell_type": "code",
   "execution_count": 131,
   "id": "3ad90003",
   "metadata": {},
   "outputs": [
    {
     "data": {
      "text/plain": [
       "Counter({-1: 1033,\n",
       "         23: 883,\n",
       "         25: 2614,\n",
       "         21: 1042,\n",
       "         26: 237,\n",
       "         22: 36,\n",
       "         27: 9,\n",
       "         24: 26,\n",
       "         18: 38,\n",
       "         17: 2,\n",
       "         16: 2,\n",
       "         20: 1})"
      ]
     },
     "execution_count": 131,
     "metadata": {},
     "output_type": "execute_result"
    }
   ],
   "source": [
    "data_0"
   ]
  },
  {
   "cell_type": "code",
   "execution_count": 132,
   "id": "177cb0f3",
   "metadata": {},
   "outputs": [
    {
     "data": {
      "text/plain": [
       "25"
      ]
     },
     "execution_count": 132,
     "metadata": {},
     "output_type": "execute_result"
    }
   ],
   "source": [
    "mode_0"
   ]
  },
  {
   "cell_type": "code",
   "execution_count": 133,
   "id": "0f3c30e9",
   "metadata": {},
   "outputs": [
    {
     "data": {
      "text/plain": [
       "Counter({26: 877,\n",
       "         21: 1814,\n",
       "         -1: 2725,\n",
       "         25: 380,\n",
       "         22: 423,\n",
       "         17: 13,\n",
       "         18: 413,\n",
       "         23: 80,\n",
       "         24: 12,\n",
       "         20: 1,\n",
       "         27: 3,\n",
       "         16: 1})"
      ]
     },
     "execution_count": 133,
     "metadata": {},
     "output_type": "execute_result"
    }
   ],
   "source": [
    "data_1"
   ]
  },
  {
   "cell_type": "code",
   "execution_count": 134,
   "id": "972c0647",
   "metadata": {},
   "outputs": [
    {
     "data": {
      "text/plain": [
       "-1"
      ]
     },
     "execution_count": 134,
     "metadata": {},
     "output_type": "execute_result"
    }
   ],
   "source": [
    "mode_1"
   ]
  },
  {
   "cell_type": "code",
   "execution_count": 135,
   "id": "5795306b",
   "metadata": {},
   "outputs": [
    {
     "data": {
      "text/plain": [
       "Counter({-1: 592,\n",
       "         25: 3442,\n",
       "         24: 170,\n",
       "         23: 375,\n",
       "         21: 1149,\n",
       "         26: 142,\n",
       "         16: 53,\n",
       "         18: 9,\n",
       "         22: 21,\n",
       "         27: 3,\n",
       "         17: 2})"
      ]
     },
     "execution_count": 135,
     "metadata": {},
     "output_type": "execute_result"
    }
   ],
   "source": [
    "data_2"
   ]
  },
  {
   "cell_type": "code",
   "execution_count": 136,
   "id": "f9ff8aa5",
   "metadata": {},
   "outputs": [
    {
     "data": {
      "text/plain": [
       "25"
      ]
     },
     "execution_count": 136,
     "metadata": {},
     "output_type": "execute_result"
    }
   ],
   "source": [
    "mode_2"
   ]
  },
  {
   "cell_type": "code",
   "execution_count": 137,
   "id": "44229641",
   "metadata": {},
   "outputs": [],
   "source": [
    "#st.t.interval(alpha=0.95, df=len(data)-1, loc=np.mean(data), scale=st.sem(data))\n",
    "#do this and maximum val and then go with variations"
   ]
  },
  {
   "cell_type": "code",
   "execution_count": 138,
   "id": "0d1d593b",
   "metadata": {},
   "outputs": [],
   "source": [
    "#results_0=printResultsBlock(X_train_filter_0,weight1)\n",
    "#results_1=printResultsBlock(X_train_filter_1,weight1)\n",
    "#results_2=printResultsBlock(X_train_filter_2,weight1)\n",
    "# results_3=printResultsBlock(X_train_filter_3,weight1)\n",
    "# results_4=printResultsBlock(X_train_filter_4,weight1)"
   ]
  },
  {
   "cell_type": "code",
   "execution_count": 139,
   "id": "c578039c",
   "metadata": {},
   "outputs": [],
   "source": [
    "#results_0"
   ]
  },
  {
   "cell_type": "code",
   "execution_count": 140,
   "id": "9a54997d",
   "metadata": {},
   "outputs": [],
   "source": [
    "#results_1"
   ]
  },
  {
   "cell_type": "code",
   "execution_count": 141,
   "id": "53866c24",
   "metadata": {},
   "outputs": [],
   "source": [
    "#results_2"
   ]
  },
  {
   "cell_type": "code",
   "execution_count": 142,
   "id": "a35c8176",
   "metadata": {},
   "outputs": [],
   "source": [
    "#results_3"
   ]
  },
  {
   "cell_type": "code",
   "execution_count": 143,
   "id": "a395b19a",
   "metadata": {},
   "outputs": [],
   "source": [
    "meanOfTrainingData_0 = []\n",
    "medianOfTrainingData_0 = []\n",
    "for index in range(len(resultSum_0)):\n",
    "    meanOfTrainingData_0.append(np.mean(resultSum_0[index]))\n",
    "    medianOfTrainingData_0.append(np.median(resultSum_0[index]))\n",
    "    trainingMeanValue_0 = np.mean(medianOfTrainingData_0)"
   ]
  },
  {
   "cell_type": "code",
   "execution_count": 144,
   "id": "faea5f23",
   "metadata": {},
   "outputs": [],
   "source": [
    "meanOfTrainingData_1 = []\n",
    "medianOfTrainingData_1 = []\n",
    "for index in range(len(resultSum_1)):\n",
    "    meanOfTrainingData_1.append(np.mean(resultSum_1[index]))\n",
    "    medianOfTrainingData_1.append(np.median(resultSum_1[index]))\n",
    "    trainingMeanValue_1 = np.mean(medianOfTrainingData_1)"
   ]
  },
  {
   "cell_type": "code",
   "execution_count": 145,
   "id": "1741cefb",
   "metadata": {},
   "outputs": [],
   "source": [
    "meanOfTrainingData_2 = []\n",
    "medianOfTrainingData_2 = []\n",
    "for index in range(len(resultSum_2)):\n",
    "    meanOfTrainingData_2.append(np.mean(resultSum_2[index]))\n",
    "    medianOfTrainingData_2.append(np.median(resultSum_2[index]))\n",
    "    trainingMeanValue_2 = np.mean(medianOfTrainingData_2)"
   ]
  },
  {
   "cell_type": "code",
   "execution_count": 146,
   "id": "503622f9",
   "metadata": {},
   "outputs": [],
   "source": [
    "# meanOfTrainingData_3 = []\n",
    "# medianOfTrainingData_3 = []\n",
    "# for index in range(len(results_3)):\n",
    "#     meanOfTrainingData_3.append(np.mean(results_3[index]))\n",
    "#     medianOfTrainingData_3.append(np.median(results_3[index]))\n",
    "#     trainingMeanValue_3 = np.mean(medianOfTrainingData_3)"
   ]
  },
  {
   "cell_type": "code",
   "execution_count": 147,
   "id": "a265f102",
   "metadata": {},
   "outputs": [],
   "source": [
    "# meanOfTrainingData_4 = []\n",
    "# medianOfTrainingData_4 = []\n",
    "# for index in range(len(results_4)):\n",
    "#     meanOfTrainingData_4.append(np.mean(results_4[index]))\n",
    "#     medianOfTrainingData_4.append(np.median(results_4[index]))\n",
    "#     trainingMeanValue_4 = np.mean(medianOfTrainingData_4)"
   ]
  },
  {
   "cell_type": "code",
   "execution_count": 148,
   "id": "71b300cc",
   "metadata": {},
   "outputs": [
    {
     "data": {
      "text/plain": [
       "435.588312550196"
      ]
     },
     "execution_count": 148,
     "metadata": {},
     "output_type": "execute_result"
    }
   ],
   "source": [
    "trainingMeanValue_0"
   ]
  },
  {
   "cell_type": "code",
   "execution_count": 149,
   "id": "29bd0005",
   "metadata": {},
   "outputs": [
    {
     "data": {
      "text/plain": [
       "157.93444421976943"
      ]
     },
     "execution_count": 149,
     "metadata": {},
     "output_type": "execute_result"
    }
   ],
   "source": [
    "trainingMeanValue_1"
   ]
  },
  {
   "cell_type": "code",
   "execution_count": 150,
   "id": "d3d614d1",
   "metadata": {},
   "outputs": [
    {
     "data": {
      "text/plain": [
       "455.2806279589363"
      ]
     },
     "execution_count": 150,
     "metadata": {},
     "output_type": "execute_result"
    }
   ],
   "source": [
    "trainingMeanValue_2"
   ]
  },
  {
   "cell_type": "code",
   "execution_count": 151,
   "id": "590c983c",
   "metadata": {},
   "outputs": [],
   "source": [
    "# trainingMeanValue_3"
   ]
  },
  {
   "cell_type": "code",
   "execution_count": 152,
   "id": "da89ffc7",
   "metadata": {},
   "outputs": [],
   "source": [
    "# trainingMeanValue_4"
   ]
  },
  {
   "cell_type": "code",
   "execution_count": 153,
   "id": "c209828c",
   "metadata": {},
   "outputs": [],
   "source": [
    "outputTrainingValues = np.array([trainingMeanValue_0,trainingMeanValue_1,trainingMeanValue_2])#,trainingMeanValue_3,trainingMeanValue_4])"
   ]
  },
  {
   "cell_type": "code",
   "execution_count": 154,
   "id": "67783900",
   "metadata": {},
   "outputs": [],
   "source": [
    "outputTrainingValuesMax = np.array([9,10,17])"
   ]
  },
  {
   "cell_type": "code",
   "execution_count": 155,
   "id": "8728faf9",
   "metadata": {},
   "outputs": [],
   "source": [
    "# Prediction"
   ]
  },
  {
   "cell_type": "code",
   "execution_count": 156,
   "id": "5bd0676d",
   "metadata": {},
   "outputs": [],
   "source": [
    "def prediction(data,finalWeight):\n",
    "        predict = []\n",
    "        for item in data:\n",
    "            item = flattenInput(item)\n",
    "            res = np.dot(item.T,finalWeight)\n",
    "            res = np.median(res)\n",
    "            distance = np.abs(outputTrainingValues - res)\n",
    "            predict.append(np.argmin(distance))\n",
    "        return predict"
   ]
  },
  {
   "cell_type": "code",
   "execution_count": 157,
   "id": "c09f4c0d",
   "metadata": {},
   "outputs": [],
   "source": [
    "def predictionBlocks(data,finalWeight):\n",
    "        predict = []\n",
    "        for item in data:\n",
    "            item = flattenInput(item)\n",
    "            res = np.dot(item.T,finalWeight)\n",
    "            distance = np.abs(outputTrainingValues - res)\n",
    "            predict.append(np.argmin(distance))\n",
    "        return predict"
   ]
  },
  {
   "cell_type": "code",
   "execution_count": null,
   "id": "5540122e",
   "metadata": {},
   "outputs": [],
   "source": []
  },
  {
   "cell_type": "code",
   "execution_count": 158,
   "id": "18203ede",
   "metadata": {},
   "outputs": [],
   "source": [
    "def predictionMax(data,finalWeight):\n",
    "        predict = []\n",
    "        results, resultSum = printResultsBlockIncludingAnotherLayer(data,weight1 , weight2)\n",
    "        #data_ , indices_ , mode_ = findMaxNode(results)\n",
    "        predictMax = []\n",
    "        combinedPred = []\n",
    "        for index in range(len(results)):\n",
    "            #print(resultSum[index])\n",
    "            #print(indices_[index])\n",
    "            distance = np.abs(outputTrainingValues - results[index])\n",
    "            #distanceMax = np.abs(outputTrainingValuesMax - indices_[index]) \n",
    "            \n",
    "            predict.append(np.argmin(distance))\n",
    "            #predictMax.append(np.argmin(distanceMax))\n",
    "            \n",
    "            \n",
    "            #print(predictDist)\n",
    "            #if indices_[index] == 21:\n",
    "            #    predictMax.append(0)\n",
    "            #elif indices_[index] == 6:\n",
    "            #    predictMax.append(1)\n",
    "            #elif indices_[index] == 19:\n",
    "            #    predictMax.append(2)\n",
    "            \n",
    "           \n",
    "                #predict.append(0)\n",
    "                #if predictDist == 0 and predictMode == 1:\n",
    "                #    predict.append(0)\n",
    "                #elif predictDist == 1 and predictMode == 1:\n",
    "                #    predict.append(1)\n",
    "                #elif predictDist == 2 and predictMode == 1:\n",
    "                #    predict.append(2)\n",
    "        return predict , predictMax"
   ]
  },
  {
   "cell_type": "code",
   "execution_count": 159,
   "id": "4b7f8be3",
   "metadata": {},
   "outputs": [],
   "source": [
    "#pred = predictionBlocks(X_test_filter ,weight1)"
   ]
  },
  {
   "cell_type": "code",
   "execution_count": 160,
   "id": "bb67979a",
   "metadata": {},
   "outputs": [],
   "source": [
    "#pred = prediction(X_test_filter ,weight1)"
   ]
  },
  {
   "cell_type": "code",
   "execution_count": 161,
   "id": "ff6ab04d",
   "metadata": {},
   "outputs": [],
   "source": [
    "pred , predictMax =  predictionMax(X_test_filter,weight1)"
   ]
  },
  {
   "cell_type": "code",
   "execution_count": 162,
   "id": "5a2588c4",
   "metadata": {},
   "outputs": [
    {
     "data": {
      "text/plain": [
       "array([0, 1, 2])"
      ]
     },
     "execution_count": 162,
     "metadata": {},
     "output_type": "execute_result"
    }
   ],
   "source": [
    "np.unique(pred)"
   ]
  },
  {
   "cell_type": "code",
   "execution_count": 163,
   "id": "f7a7e622",
   "metadata": {},
   "outputs": [
    {
     "data": {
      "text/plain": [
       "array([], dtype=float64)"
      ]
     },
     "execution_count": 163,
     "metadata": {},
     "output_type": "execute_result"
    }
   ],
   "source": [
    "np.unique(predictMax)"
   ]
  },
  {
   "cell_type": "code",
   "execution_count": 164,
   "id": "2bfbb8fd",
   "metadata": {},
   "outputs": [
    {
     "data": {
      "text/plain": [
       "array([0, 1, 2], dtype=uint8)"
      ]
     },
     "execution_count": 164,
     "metadata": {},
     "output_type": "execute_result"
    }
   ],
   "source": [
    "np.unique(Y_test_filter)"
   ]
  },
  {
   "cell_type": "code",
   "execution_count": 165,
   "id": "e09674f0",
   "metadata": {},
   "outputs": [],
   "source": [
    "def compute_accuracy(y_true, y_pred):\n",
    "    correct_predictions = 0\n",
    "    accuracy = 0\n",
    "    for true, predicted in zip(y_true, y_pred):\n",
    "        if true == predicted:\n",
    "            correct_predictions += 1\n",
    "            accuracy = correct_predictions/len(y_true)\n",
    "    return accuracy"
   ]
  },
  {
   "cell_type": "code",
   "execution_count": 166,
   "id": "e3465ff0",
   "metadata": {},
   "outputs": [],
   "source": [
    "acc = compute_accuracy(Y_test_filter,pred)"
   ]
  },
  {
   "cell_type": "code",
   "execution_count": 167,
   "id": "92eadc36",
   "metadata": {},
   "outputs": [
    {
     "data": {
      "text/plain": [
       "0.5621226564982523"
      ]
     },
     "execution_count": 167,
     "metadata": {},
     "output_type": "execute_result"
    }
   ],
   "source": [
    "acc"
   ]
  },
  {
   "cell_type": "code",
   "execution_count": 470,
   "id": "b9062810",
   "metadata": {},
   "outputs": [],
   "source": [
    "acc = compute_accuracy(Y_test_filter,predictMax)"
   ]
  },
  {
   "cell_type": "code",
   "execution_count": 471,
   "id": "1837a06b",
   "metadata": {},
   "outputs": [
    {
     "data": {
      "text/plain": [
       "0"
      ]
     },
     "execution_count": 471,
     "metadata": {},
     "output_type": "execute_result"
    }
   ],
   "source": [
    "acc"
   ]
  },
  {
   "cell_type": "markdown",
   "id": "7bb8639d",
   "metadata": {},
   "source": [
    "# Calculating Individual Accuracies"
   ]
  },
  {
   "cell_type": "code",
   "execution_count": 472,
   "id": "b997e66d",
   "metadata": {},
   "outputs": [],
   "source": [
    "def prediction_0(X, w):\n",
    "    result = []\n",
    "    res = printResultsBlock(X,w)\n",
    "    indices = findMaxNode(res)\n",
    "    \n",
    "    for info in indices:\n",
    "        if info == 8:\n",
    "            result.append(0)\n",
    "        else:\n",
    "            result.append(-1)\n",
    "    \n",
    "    return result\n",
    "        "
   ]
  },
  {
   "cell_type": "code",
   "execution_count": 473,
   "id": "34a5a2e5",
   "metadata": {},
   "outputs": [],
   "source": [
    "pred_for_0 , predMax_0 = predictionMax(X_test_filter_0 ,weight1)"
   ]
  },
  {
   "cell_type": "code",
   "execution_count": 474,
   "id": "dc813ecf",
   "metadata": {},
   "outputs": [],
   "source": [
    "acc_0 = compute_accuracy(Y_test_filter_0,predMax_0)"
   ]
  },
  {
   "cell_type": "code",
   "execution_count": 475,
   "id": "73d1cfe5",
   "metadata": {},
   "outputs": [
    {
     "data": {
      "text/plain": [
       "0"
      ]
     },
     "execution_count": 475,
     "metadata": {},
     "output_type": "execute_result"
    }
   ],
   "source": [
    "acc_0"
   ]
  },
  {
   "cell_type": "code",
   "execution_count": 476,
   "id": "b9f58c24",
   "metadata": {},
   "outputs": [],
   "source": [
    "pred_for_1 , predMax_1= predictionMax(X_test_filter_1 ,weight1)"
   ]
  },
  {
   "cell_type": "code",
   "execution_count": 477,
   "id": "77354fd3",
   "metadata": {},
   "outputs": [],
   "source": [
    "acc_1 = compute_accuracy(Y_test_filter_1,predMax_1)"
   ]
  },
  {
   "cell_type": "code",
   "execution_count": 478,
   "id": "32382ba3",
   "metadata": {},
   "outputs": [
    {
     "data": {
      "text/plain": [
       "0"
      ]
     },
     "execution_count": 478,
     "metadata": {},
     "output_type": "execute_result"
    }
   ],
   "source": [
    "acc_1"
   ]
  },
  {
   "cell_type": "code",
   "execution_count": 479,
   "id": "06bd8941",
   "metadata": {},
   "outputs": [],
   "source": [
    "pred_for_2 , predMax_2 = predictionMax(X_test_filter_2,weight1)"
   ]
  },
  {
   "cell_type": "code",
   "execution_count": 480,
   "id": "e9d1edba",
   "metadata": {},
   "outputs": [],
   "source": [
    "acc_2 = compute_accuracy(Y_test_filter_2,predMax_2)"
   ]
  },
  {
   "cell_type": "code",
   "execution_count": 481,
   "id": "edabbc61",
   "metadata": {},
   "outputs": [
    {
     "data": {
      "text/plain": [
       "0"
      ]
     },
     "execution_count": 481,
     "metadata": {},
     "output_type": "execute_result"
    }
   ],
   "source": [
    "acc_2"
   ]
  },
  {
   "cell_type": "code",
   "execution_count": 482,
   "id": "4e2e9705",
   "metadata": {},
   "outputs": [],
   "source": [
    "#pred_for_3 = prediction(X_test_filter_3,weight1)"
   ]
  },
  {
   "cell_type": "code",
   "execution_count": 483,
   "id": "170c2442",
   "metadata": {},
   "outputs": [],
   "source": [
    "#acc_3 = compute_accuracy(Y_test_filter_3,pred_for_3)"
   ]
  },
  {
   "cell_type": "code",
   "execution_count": 484,
   "id": "655a4add",
   "metadata": {},
   "outputs": [],
   "source": [
    "#acc_3"
   ]
  },
  {
   "cell_type": "code",
   "execution_count": 485,
   "id": "c67c985c",
   "metadata": {},
   "outputs": [],
   "source": [
    "#pred_for_4 = prediction(X_test_filter_4,weight1)"
   ]
  },
  {
   "cell_type": "code",
   "execution_count": 486,
   "id": "36f5348b",
   "metadata": {},
   "outputs": [],
   "source": [
    "#acc_4 = compute_accuracy(Y_test_filter_4,pred_for_4)"
   ]
  },
  {
   "cell_type": "code",
   "execution_count": 487,
   "id": "13b5e8cf",
   "metadata": {},
   "outputs": [],
   "source": [
    "#acc_4"
   ]
  },
  {
   "cell_type": "markdown",
   "id": "ae141bb2",
   "metadata": {},
   "source": [
    "# Visualization"
   ]
  },
  {
   "cell_type": "code",
   "execution_count": 168,
   "id": "d55aee91",
   "metadata": {},
   "outputs": [],
   "source": [
    "#medianOfTrainingData_0,medianOfTrainingData_1,medianOfTrainingData_4"
   ]
  },
  {
   "cell_type": "code",
   "execution_count": 169,
   "id": "7024d245",
   "metadata": {
    "scrolled": true
   },
   "outputs": [
    {
     "data": {
      "image/png": "[encoded data removed]",
      "text/plain": [
       "<Figure size 640x480 with 2 Axes>"
      ]
     },
     "metadata": {},
     "output_type": "display_data"
    }
   ],
   "source": [
    "import matplotlib.pyplot as plt\n",
    "import numpy\n",
    "from sklearn import metrics\n",
    "\n",
    "actual = numpy.random.binomial(1,.9,size = 1000)\n",
    "predicted = numpy.random.binomial(1,.9,size = 1000)\n",
    "\n",
    "confusion_matrix = metrics.confusion_matrix(Y_test_filter,pred)\n",
    "\n",
    "cm_display = metrics.ConfusionMatrixDisplay(confusion_matrix = confusion_matrix, display_labels = [0,1 ,2])\n",
    "\n",
    "cm_display.plot()\n",
    "plt.show()"
   ]
  },
  {
   "cell_type": "code",
   "execution_count": 171,
   "id": "e59ec1d8",
   "metadata": {},
   "outputs": [],
   "source": [
    "# import matplotlib.pyplot as plt\n",
    "# import numpy\n",
    "# from sklearn import metrics\n",
    "\n",
    "# actual = numpy.random.binomial(1,.9,size = 1000)\n",
    "# predicted = numpy.random.binomial(1,.9,size = 1000)\n",
    "\n",
    "# confusion_matrix = metrics.confusion_matrix(Y_test_filter,predictMax)\n",
    "\n",
    "# cm_display = metrics.ConfusionMatrixDisplay(confusion_matrix = confusion_matrix, display_labels = [0,1 ,2])\n",
    "\n",
    "# cm_display.plot()\n",
    "# plt.show()"
   ]
  },
  {
   "cell_type": "code",
   "execution_count": 172,
   "id": "d79615c1",
   "metadata": {},
   "outputs": [
    {
     "data": {
      "text/plain": [
       "5923"
      ]
     },
     "execution_count": 172,
     "metadata": {},
     "output_type": "execute_result"
    }
   ],
   "source": [
    "len(medianOfTrainingData_0)"
   ]
  },
  {
   "cell_type": "code",
   "execution_count": 174,
   "id": "9e1ad661",
   "metadata": {},
   "outputs": [],
   "source": [
    "# if _name_ == \"_main_\":\n",
    "#     summary = []\n",
    "\n",
    "#     for key_size in key_sizes:\n",
    "#         attempts_list = []\n",
    "#         for i in range(total_runs):\n",
    "#             attempts = find_nonce(message, key_size)\n",
    "#             attempts_list.append(attempts)\n",
    "#         average_attempts = round(sum(attempts_list) / total_runs, 4)\n",
    "#         sum_ = 0\n",
    "#         for a in attempts_list:\n",
    "#             sum_ = sum_ + (a-average_attempts)**2)\n",
    "#         variance = sum_ / total_runs\n",
    "#         standard_deviation = round(variance ** 0.5, 4)\n",
    "#         summary.append((key_size, average_attempts, standard_deviation))"
   ]
  },
  {
   "cell_type": "code",
   "execution_count": null,
   "id": "6b772f23",
   "metadata": {},
   "outputs": [],
   "source": []
  }
 ],
 "metadata": {
  "kernelspec": {
   "display_name": "Python 3 (ipykernel)",
   "language": "python",
   "name": "python3"
  },
  "language_info": {
   "codemirror_mode": {
    "name": "ipython",
    "version": 3
   },
   "file_extension": ".py",
   "mimetype": "text/x-python",
   "name": "python",
   "nbconvert_exporter": "python",
   "pygments_lexer": "ipython3",
   "version": "3.8.15"
  }
 },
 "nbformat": 4,
 "nbformat_minor": 5
}
