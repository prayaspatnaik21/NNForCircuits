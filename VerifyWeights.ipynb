{
 "cells": [
  {
   "cell_type": "code",
   "execution_count": 871,
   "id": "fd18bf5d",
   "metadata": {},
   "outputs": [],
   "source": [
    "import pandas as pd\n",
    "from collections import Counter\n",
    "import numpy as np\n",
    "import matplotlib.pyplot as plt\n",
    "import sklearn\n",
    "import random\n",
    "import statistics"
   ]
  },
  {
   "cell_type": "code",
   "execution_count": 872,
   "id": "6bbafc2d",
   "metadata": {},
   "outputs": [],
   "source": [
    "from tensorflow.keras.datasets import mnist"
   ]
  },
  {
   "cell_type": "code",
   "execution_count": 873,
   "id": "ce468c19",
   "metadata": {},
   "outputs": [],
   "source": [
    "(X_train,Y_train) , (X_test,Y_test) = mnist.load_data()"
   ]
  },
  {
   "cell_type": "code",
   "execution_count": 874,
   "id": "59fc1577",
   "metadata": {},
   "outputs": [
    {
     "name": "stdout",
     "output_type": "stream",
     "text": [
      "MNIST Dataset Shape:\n",
      "X_train: (60000, 28, 28)\n",
      "Y_train: (60000,)\n",
      "X_test:  (10000, 28, 28)\n",
      "Y_test:  (10000,)\n"
     ]
    }
   ],
   "source": [
    "print('MNIST Dataset Shape:')\n",
    "print('X_train: ' + str(X_train.shape))\n",
    "print('Y_train: ' + str(Y_train.shape))\n",
    "print('X_test:  '  + str(X_test.shape))\n",
    "print('Y_test:  '  + str(Y_test.shape))"
   ]
  },
  {
   "cell_type": "code",
   "execution_count": 875,
   "id": "e488007f",
   "metadata": {},
   "outputs": [],
   "source": [
    "sharpen = np.array([\n",
    "    [0, -1, 0],\n",
    "    [-1, 5, -1],\n",
    "    [0, -1, 0]\n",
    "])\n",
    "\n",
    "blur = np.array([\n",
    "    [0.0625, 0.125, 0.0625],\n",
    "    [0.125,  0.25,  0.125],\n",
    "    [0.0625, 0.125, 0.0625]\n",
    "])\n",
    "\n",
    "outline = np.array([\n",
    "    [-1, -1, -1],\n",
    "    [-1,  8, -1],\n",
    "    [-1, -1, -1]\n",
    "])"
   ]
  },
  {
   "cell_type": "code",
   "execution_count": 876,
   "id": "1475fbbb",
   "metadata": {},
   "outputs": [],
   "source": [
    "def calculateOutputSize(imgSize, kernelSize):\n",
    "    return imgSize - kernelSize + 1;"
   ]
  },
  {
   "cell_type": "code",
   "execution_count": 877,
   "id": "4a49a29a",
   "metadata": {},
   "outputs": [],
   "source": [
    "def convolve(img, kernel):\n",
    "    outputSize = calculateOutputSize(img.shape[0],kernel.shape[0])\n",
    "    k = kernel.shape[0]\n",
    "    convolvedImage = np.zeros(shape=(outputSize, outputSize))\n",
    "    for rowIndex in range(outputSize):\n",
    "        for colIndex in range(outputSize):\n",
    "            mat = img[rowIndex:rowIndex+k, colIndex:colIndex+k]\n",
    "            convolvedImage[rowIndex, colIndex] = np.sum(np.multiply(mat, kernel))\n",
    "            \n",
    "    return convolvedImage"
   ]
  },
  {
   "cell_type": "code",
   "execution_count": 878,
   "id": "0ab48880",
   "metadata": {},
   "outputs": [],
   "source": [
    "# X_train_convolve = []\n",
    "\n",
    "# for img in X_train:\n",
    "#     img = convolve(img,blur)\n",
    "#     img = convolve(img,blur)\n",
    "#     img = convolve(img,blur)\n",
    "#     img = convolve(img,blur)\n",
    "#     #img = convolve(img,blur)\n",
    "#     X_train_convolve.append(img)"
   ]
  },
  {
   "cell_type": "code",
   "execution_count": 879,
   "id": "2fd179c4",
   "metadata": {},
   "outputs": [],
   "source": [
    "# X_train_convolve = np.array(X_train_convolve)"
   ]
  },
  {
   "cell_type": "code",
   "execution_count": 880,
   "id": "5dfc2564",
   "metadata": {},
   "outputs": [],
   "source": [
    "# X_test_convolve = []\n",
    "# for img in X_test:\n",
    "#     img = convolve(img,blur)\n",
    "#     img = convolve(img,blur)\n",
    "#     img = convolve(img,blur)\n",
    "#     img = convolve(img,blur)\n",
    "#     #img = convolve(img,blur)\n",
    "#     X_test_convolve.append(img)"
   ]
  },
  {
   "cell_type": "code",
   "execution_count": 881,
   "id": "af0d6992",
   "metadata": {},
   "outputs": [],
   "source": [
    "# X_test_convolve = np.array(X_test_convolve)  "
   ]
  },
  {
   "cell_type": "code",
   "execution_count": 882,
   "id": "863c0ca1",
   "metadata": {},
   "outputs": [],
   "source": [
    "# train_filter = np.where((Y_train == 0 ) | (Y_train == 1) | (Y_train == 2) | (Y_train == 3) | (Y_train == 4))\n",
    "# test_filter = np.where((Y_test == 0) | (Y_test == 1) | (Y_test == 2) | (Y_test == 3) | (Y_test == 4))"
   ]
  },
  {
   "cell_type": "code",
   "execution_count": 883,
   "id": "d803729c",
   "metadata": {},
   "outputs": [],
   "source": [
    "train_filter = np.where((Y_train == 0 ) | (Y_train == 1) | (Y_train == 2))\n",
    "test_filter = np.where((Y_test == 0) | (Y_test == 1) | (Y_test == 2))"
   ]
  },
  {
   "cell_type": "code",
   "execution_count": 884,
   "id": "8e35058c",
   "metadata": {},
   "outputs": [],
   "source": [
    "X_train_filter, Y_train_filter = X_train[train_filter], Y_train[train_filter]\n",
    "X_test_filter, Y_test_filter = X_test[test_filter], Y_test[test_filter]"
   ]
  },
  {
   "cell_type": "code",
   "execution_count": 885,
   "id": "9508cc4c",
   "metadata": {},
   "outputs": [],
   "source": [
    "train_filter_0 = np.where(Y_train == 0)\n",
    "test_filter_0 = np.where(Y_test == 0)\n",
    "\n",
    "X_train_filter_0 , Y_train_filter_0 = X_train[train_filter_0],Y_train[train_filter_0]\n",
    "X_test_filter_0 , Y_test_filter_0 = X_test[test_filter_0] , Y_test[test_filter_0]"
   ]
  },
  {
   "cell_type": "code",
   "execution_count": 886,
   "id": "3f743fc7",
   "metadata": {},
   "outputs": [],
   "source": [
    "train_filter_1 = np.where(Y_train == 1)\n",
    "test_filter_1 = np.where(Y_test == 1)\n",
    "\n",
    "X_train_filter_1 , Y_train_filter_1 = X_train[train_filter_1],Y_train[train_filter_1]\n",
    "X_test_filter_1 , Y_test_filter_1 = X_test[test_filter_1] , Y_test[test_filter_1]"
   ]
  },
  {
   "cell_type": "code",
   "execution_count": 887,
   "id": "0f785e2d",
   "metadata": {},
   "outputs": [],
   "source": [
    "# train_filter_3 = np.where(Y_train == 3)\n",
    "# test_filter_3 = np.where(Y_test == 3)\n",
    "\n",
    "# X_train_filter_3 , Y_train_filter_3 = X_train[train_filter_3],Y_train[train_filter_3]\n",
    "# X_test_filter_3 , Y_test_filter_3 = X_test[test_filter_3] , Y_test[test_filter_3]"
   ]
  },
  {
   "cell_type": "code",
   "execution_count": 888,
   "id": "0e8fea8d",
   "metadata": {},
   "outputs": [],
   "source": [
    "# train_filter_4 = np.where(Y_train == 4)\n",
    "# test_filter_4 = np.where(Y_test == 4)\n",
    "\n",
    "# X_train_filter_4 , Y_train_filter_4 = X_train[train_filter_4],Y_train[train_filter_4]\n",
    "# X_test_filter_4 , Y_test_filter_4 = X_test[test_filter_4] , Y_test[test_filter_4]"
   ]
  },
  {
   "cell_type": "code",
   "execution_count": 889,
   "id": "274f3549",
   "metadata": {},
   "outputs": [],
   "source": [
    "train_filter_2 = np.where(Y_train == 2)\n",
    "test_filter_2 = np.where(Y_test == 2)\n",
    "\n",
    "X_train_filter_2 , Y_train_filter_2 = X_train[train_filter_2],Y_train[train_filter_2]\n",
    "X_test_filter_2 , Y_test_filter_2 = X_test[test_filter_2] , Y_test[test_filter_2]"
   ]
  },
  {
   "cell_type": "code",
   "execution_count": 890,
   "id": "79d8c7d7",
   "metadata": {},
   "outputs": [],
   "source": [
    "# Normalize the Images"
   ]
  },
  {
   "cell_type": "code",
   "execution_count": 891,
   "id": "ccd77268",
   "metadata": {},
   "outputs": [],
   "source": [
    "X_train_filter = X_train_filter/255.0\n",
    "X_test_filter = X_test_filter/255.0"
   ]
  },
  {
   "cell_type": "code",
   "execution_count": 892,
   "id": "751c74f0",
   "metadata": {},
   "outputs": [],
   "source": [
    "X_train_filter_0 = X_train_filter_0/255.0\n",
    "X_test_filter_0 = X_test_filter_0/255.0"
   ]
  },
  {
   "cell_type": "code",
   "execution_count": 893,
   "id": "7e8d017c",
   "metadata": {},
   "outputs": [],
   "source": [
    "X_train_filter_2 = X_train_filter_2/255.0\n",
    "X_test_filter_2 = X_test_filter_2/255.0"
   ]
  },
  {
   "cell_type": "code",
   "execution_count": 894,
   "id": "cb94f8f4",
   "metadata": {},
   "outputs": [],
   "source": [
    "X_train_filter_1 = X_train_filter_1/255.0\n",
    "X_test_filter_1 = X_test_filter_1/255.0"
   ]
  },
  {
   "cell_type": "code",
   "execution_count": 895,
   "id": "275080af",
   "metadata": {},
   "outputs": [],
   "source": [
    "# X_train_filter_3 = X_train_filter_3/255.0\n",
    "# X_test_filter_3 = X_test_filter_3/255.0"
   ]
  },
  {
   "cell_type": "code",
   "execution_count": 896,
   "id": "8684de11",
   "metadata": {},
   "outputs": [],
   "source": [
    "# X_train_filter_4 = X_train_filter_4/255.0\n",
    "# X_test_filter_4 = X_test_filter_4/255.0"
   ]
  },
  {
   "cell_type": "code",
   "execution_count": 897,
   "id": "69e12e14",
   "metadata": {},
   "outputs": [
    {
     "data": {
      "text/plain": [
       "(28, 28)"
      ]
     },
     "execution_count": 897,
     "metadata": {},
     "output_type": "execute_result"
    }
   ],
   "source": [
    "X_train_filter_0[1].shape"
   ]
  },
  {
   "cell_type": "code",
   "execution_count": 898,
   "id": "2f13bf7d",
   "metadata": {},
   "outputs": [],
   "source": [
    "# Flattening the Input"
   ]
  },
  {
   "cell_type": "code",
   "execution_count": 899,
   "id": "4997f0e2",
   "metadata": {},
   "outputs": [],
   "source": [
    "def flattenInput(mat):\n",
    "        mat = mat.flatten()\n",
    "        mat = mat.reshape(mat.shape[0],1)\n",
    "        return mat"
   ]
  },
  {
   "cell_type": "code",
   "execution_count": 900,
   "id": "de730428",
   "metadata": {},
   "outputs": [],
   "source": [
    "# Weight Initialization(Random,Normalized)"
   ]
  },
  {
   "cell_type": "code",
   "execution_count": 901,
   "id": "9479785f",
   "metadata": {},
   "outputs": [],
   "source": [
    "def weightInitialization(rows , cols, type = \"random\"):\n",
    "    if(type == \"random\"):\n",
    "        initialWeights = np.random.random(size = (rows,cols))\n",
    "    else:\n",
    "        initialWeights = np.random.normal(size = (rows,cols))\n",
    "    initialWeights = initialWeights.reshape(rows,cols)\n",
    "    return initialWeights"
   ]
  },
  {
   "cell_type": "code",
   "execution_count": 902,
   "id": "8d69148d",
   "metadata": {},
   "outputs": [],
   "source": [
    "weights = weightInitialization(784,20,\"normalize\")"
   ]
  },
  {
   "cell_type": "code",
   "execution_count": 903,
   "id": "90967c1f",
   "metadata": {},
   "outputs": [
    {
     "data": {
      "text/plain": [
       "(784, 20)"
      ]
     },
     "execution_count": 903,
     "metadata": {},
     "output_type": "execute_result"
    }
   ],
   "source": [
    "weights.shape"
   ]
  },
  {
   "cell_type": "code",
   "execution_count": 904,
   "id": "58cbdb72",
   "metadata": {},
   "outputs": [],
   "source": [
    "# Manipulating the Array"
   ]
  },
  {
   "cell_type": "code",
   "execution_count": 905,
   "id": "19ea89ab",
   "metadata": {},
   "outputs": [],
   "source": [
    "def manipulatingTheArray(mat):\n",
    "    mat = flattenInput(mat)\n",
    "    \n",
    "    for index in range(mat.shape[0]): \n",
    "        if mat[index] == 0:\n",
    "            mat[index] = -0.002\n",
    "    return mat"
   ]
  },
  {
   "cell_type": "code",
   "execution_count": 906,
   "id": "cdaf3fd2",
   "metadata": {},
   "outputs": [],
   "source": [
    "# Thresholding Weight"
   ]
  },
  {
   "cell_type": "code",
   "execution_count": 907,
   "id": "27c0e5ad",
   "metadata": {},
   "outputs": [],
   "source": [
    "def thresholding(out):\n",
    "    for item in range(out.shape[1]):\n",
    "        if out[0][item] >= 0.8:\n",
    "            out[0][item] = 0.8\n",
    "        elif out[0][item] >= 0.5 and out[0][item] < 0.8:\n",
    "            out[0][item] = 0.5\n",
    "        elif out[0][item] > 0.1 and out[0][item] < 0.5:\n",
    "            out[0][item] = 0.3\n",
    "        else:\n",
    "            out[0][item] = 0.1\n",
    "    return out"
   ]
  },
  {
   "cell_type": "code",
   "execution_count": 908,
   "id": "b88b8e6d",
   "metadata": {},
   "outputs": [],
   "source": [
    "def ActThresholding(out):\n",
    "    for item in range(out.shape[1]):\n",
    "        if out[0][item] >= 0.9:\n",
    "            out[0][item] = 0.9\n",
    "        else:\n",
    "            out[0][item] = -0.9\n",
    "    return out"
   ]
  },
  {
   "cell_type": "code",
   "execution_count": 909,
   "id": "1245b278",
   "metadata": {},
   "outputs": [],
   "source": [
    "# Threshold Check"
   ]
  },
  {
   "cell_type": "code",
   "execution_count": 910,
   "id": "22121add",
   "metadata": {},
   "outputs": [],
   "source": [
    "def crossThreshold(out,neuronThreshold):\n",
    "    flag = 0\n",
    "    for item in range(out.shape[1]):\n",
    "        if out[0][item] > neuronThreshold[0][item]:\n",
    "            neuronThreshold[0][item] += 0.2\n",
    "            flag = 1\n",
    "    \n",
    "    if flag == 1:\n",
    "        return True\n",
    "    return False"
   ]
  },
  {
   "cell_type": "code",
   "execution_count": 911,
   "id": "630a7eb0",
   "metadata": {},
   "outputs": [],
   "source": [
    "def crossThresholdUpdate(afterActivation,neuronThreshold):\n",
    "    flag = 0\n",
    "    for item in range(afterActivation.shape[1]):\n",
    "        if afterActivation[0][item] > 0.8:\n",
    "            neuronThreshold[0][item] += 0.002\n",
    "            afterActivation[0][item] = 0\n",
    "        else:\n",
    "            afterActivation[0][item] = afterActivation[0][item] - 0.001\n",
    "            #neuronThreshold[0][item] -= 0.001\n",
    "            \n",
    "    return afterActivation,neuronThreshold"
   ]
  },
  {
   "cell_type": "code",
   "execution_count": 912,
   "id": "1efb59e7",
   "metadata": {},
   "outputs": [],
   "source": [
    "# Weight Threshold (Future Reference)"
   ]
  },
  {
   "cell_type": "code",
   "execution_count": 913,
   "id": "89147142",
   "metadata": {},
   "outputs": [],
   "source": [
    "def weightThreshold(weight):\n",
    "    for indexi in range(weight.shape[0]):\n",
    "        for indexj in range(weight.shape[1]):\n",
    "            if weight[indexi][indexj] >= 1:\n",
    "                weight[indexi][indexj] = 1\n",
    "    return weight"
   ]
  },
  {
   "cell_type": "code",
   "execution_count": 914,
   "id": "bbd81d06",
   "metadata": {},
   "outputs": [],
   "source": [
    "# Calculate Accuracy"
   ]
  },
  {
   "cell_type": "code",
   "execution_count": 915,
   "id": "7345c994",
   "metadata": {},
   "outputs": [],
   "source": [
    "def accuracy(data,finalWeight):\n",
    "    predict_0 = []\n",
    "    predict_7 = []\n",
    "    for item in data:\n",
    "        item = flattenInput(item)\n",
    "        res = np.dot(item.T,finalWeight)\n",
    "        res = np.median(res)\n",
    "        if res >= 55 and res <= 85:\n",
    "            predict_0.append(1)\n",
    "        elif res >=30 and res <55:\n",
    "            predict_7.append(1)\n",
    "    return len(predict_0), len(predict_7)"
   ]
  },
  {
   "cell_type": "code",
   "execution_count": 916,
   "id": "95827b4e",
   "metadata": {},
   "outputs": [],
   "source": [
    "# Print Results"
   ]
  },
  {
   "cell_type": "code",
   "execution_count": 917,
   "id": "2af6654c",
   "metadata": {},
   "outputs": [],
   "source": [
    "def printResults(inputImage,finalWeight):\n",
    "    result = []\n",
    "    for item in inputImage:\n",
    "        item = flattenInput(item)\n",
    "        #item = manipulatingTheArray(item)\n",
    "        result.append(np.dot(item.T,finalWeight))\n",
    "    return result"
   ]
  },
  {
   "cell_type": "code",
   "execution_count": 1556,
   "id": "d60c4464",
   "metadata": {},
   "outputs": [],
   "source": [
    "def printResultsBlock(inputImage,weight):\n",
    "    result = []\n",
    "    resultSum = []\n",
    "    for item in inputImage:\n",
    "        item = flattenInput(item)\n",
    "        #item = manipulatingTheArray(item)\n",
    "        \n",
    "        startIndex = 0\n",
    "        blockSize = 7\n",
    "        pval = 0\n",
    "        resultRow = []\n",
    "        sum_ = 0\n",
    "        while(startIndex < 784):\n",
    "            image_ = item[startIndex:startIndex + blockSize]\n",
    "            weight_ = weight[startIndex : startIndex + blockSize]\n",
    "                \n",
    "            resultDotProduct = np.dot(image_.T,weight_)\n",
    "            sum_ = sum_ + resultDotProduct\n",
    "            resultRow.append(resultDotProduct)\n",
    "            startIndex += blockSize\n",
    "            \n",
    "        result.append(resultRow)\n",
    "        resultSum.append(sum_)\n",
    "    return result , resultSum\n",
    "\n"
   ]
  },
  {
   "cell_type": "code",
   "execution_count": 1557,
   "id": "0fcb28d1",
   "metadata": {},
   "outputs": [],
   "source": [
    "def printResults2(inputImage,weight1,weight2):\n",
    "    result = []\n",
    "    for item in inputImage:\n",
    "        item = flattenInput(item)\n",
    "        out = np.dot(item.T,weight1)\n",
    "        out = np.dot(out,weight2)\n",
    "        result.append(out)\n",
    "    return result"
   ]
  },
  {
   "cell_type": "code",
   "execution_count": 1558,
   "id": "a81e9477",
   "metadata": {},
   "outputs": [],
   "source": [
    "testFlatten = []\n",
    "\n",
    "for image_ in X_test:\n",
    "        image_ = flattenInput(image_)\n",
    "        testFlatten.append(image_)"
   ]
  },
  {
   "cell_type": "code",
   "execution_count": 1559,
   "id": "2b236780",
   "metadata": {},
   "outputs": [],
   "source": [
    "def convertToBinary(activation,neuronThreshold):\n",
    "    for index in range(activation[0].shape[0]):\n",
    "        \n",
    "        if activation[0][index] > neuronThreshold[0][index]:\n",
    "            activation[0][index] = 0.9\n",
    "        else:\n",
    "            \n",
    "            activation[0][index] = 0.001\n",
    "            \n",
    "    return activation"
   ]
  },
  {
   "cell_type": "code",
   "execution_count": 1560,
   "id": "dacc4fad",
   "metadata": {},
   "outputs": [],
   "source": [
    "def binaryConversion(image):\n",
    "    \n",
    "    for index in range(image.shape[0]):\n",
    "        if image[index] != 0:\n",
    "            image[index] = 1\n",
    "    \n",
    "    return image"
   ]
  },
  {
   "cell_type": "code",
   "execution_count": 1561,
   "id": "215214de",
   "metadata": {},
   "outputs": [
    {
     "data": {
      "text/plain": [
       "(784, 1)"
      ]
     },
     "execution_count": 1561,
     "metadata": {},
     "output_type": "execute_result"
    }
   ],
   "source": [
    "testFlatten[0].shape"
   ]
  },
  {
   "cell_type": "code",
   "execution_count": 1562,
   "id": "220668b7",
   "metadata": {},
   "outputs": [],
   "source": [
    "x = np.full((4),1)"
   ]
  },
  {
   "cell_type": "code",
   "execution_count": 1563,
   "id": "66f95d79",
   "metadata": {},
   "outputs": [
    {
     "data": {
      "text/plain": [
       "array([1, 1, 1, 1])"
      ]
     },
     "execution_count": 1563,
     "metadata": {},
     "output_type": "execute_result"
    }
   ],
   "source": [
    "x"
   ]
  },
  {
   "cell_type": "code",
   "execution_count": 1564,
   "id": "29b7d06c",
   "metadata": {},
   "outputs": [],
   "source": [
    "# Weight Update"
   ]
  },
  {
   "cell_type": "code",
   "execution_count": 1565,
   "id": "a6ae7646",
   "metadata": {},
   "outputs": [],
   "source": [
    "def weightUpdateContainingMemoryElement(epoch,iteration,inputImage,weight):\n",
    "    \"\"\"\n",
    "    Every epoch , We are doing iterations for every image in \n",
    "    the list\n",
    "    \"\"\"\n",
    "    flattenImage = []\n",
    "    for image_ in inputImage:\n",
    "        image_ = flattenInput(image_)\n",
    "        flattenImage.append(image_)\n",
    "    out = np.array(0)\n",
    "    alpha =1e-5 #4 \n",
    "    beta = 1e-7 #5\n",
    "     # alpha , beta = 1e-3 , 1e-2 \n",
    "    # alpha ,beta = 1e-1,1e-2 best values\n",
    "    \n",
    "    thresholdNeurons = np.full((1,20),0.02)\n",
    "    for epoch_ in range(epoch):\n",
    "            random.shuffle(flattenImage)\n",
    "            for input_ in flattenImage:\n",
    "                    out = alpha * np.dot(input_.T , weight) + out \n",
    "                    #out = ActThresholding(out)\n",
    "                    inputM = manipulatingTheArray(input_)\n",
    "                    weight = weight + beta * np.dot(input_,out)\n",
    "                    weight = weightThreshold(weight)\n",
    "                    if(crossThreshold(out,thresholdNeurons)):\n",
    "                       out = 0.0\n",
    "                    else:\n",
    "                       out = out - beta * 0.01\n",
    "            \n",
    "            print(f\"Epoch number {epoch_} finishes\")\n",
    "    return weight"
   ]
  },
  {
   "cell_type": "code",
   "execution_count": 1566,
   "id": "e6a1f1bf",
   "metadata": {},
   "outputs": [],
   "source": [
    "def weightUpdateThresholding(epoch,inputImage,weight):\n",
    "    \"\"\"\n",
    "    Every epoch , We are doing iterations for every image in \n",
    "    the list\n",
    "    \"\"\"\n",
    "    flattenImage = []\n",
    "    for image_ in inputImage:\n",
    "        image_ = flattenInput(image_)\n",
    "        image_ = binaryConversion(image_)\n",
    "        flattenImage.append(image_)\n",
    "    activation = np.array(0)\n",
    "    alpha =1e-5 #4 \n",
    "    beta = 1e-7 #5\n",
    "    \n",
    "    \n",
    "    \n",
    "    thresholdNeurons = np.full((1,200),0.02)\n",
    "    for epoch_ in range(epoch):\n",
    "            random.shuffle(flattenImage)\n",
    "            for input_ in flattenImage:\n",
    "                    activation = alpha * np.dot(input_.T , weight) + activation\n",
    "                    #out = ActThresholding(out)\n",
    "                    afterActivation = convertToBinary(activation,thresholdNeurons)\n",
    "                    #weight = weight + beta * np.dot(input_,afterActivation)\n",
    "                    \n",
    "                    \n",
    "                    \n",
    "                    afterActivation , thresholdNeuron = crossThresholdUpdate(afterActivation,thresholdNeurons)\n",
    "                    weight = weight + beta * np.dot(input_,afterActivation)\n",
    "                    activation = afterActivation\n",
    "            \n",
    "            print(f\"Epoch number {epoch_} finishes\")\n",
    "    return weight"
   ]
  },
  {
   "cell_type": "code",
   "execution_count": 1567,
   "id": "106d77ee",
   "metadata": {},
   "outputs": [],
   "source": [
    "def weightUpdateThresholding(epoch,inputImage,weight):\n",
    "    \"\"\"\n",
    "    Every epoch , We are doing iterations for every image in \n",
    "    the list\n",
    "    \"\"\"\n",
    "    flattenImage = []\n",
    "    for image_ in inputImage:\n",
    "        image_ = flattenInput(image_)\n",
    "        image_ = binaryConversion(image_)\n",
    "        flattenImage.append(image_)\n",
    "    activation = np.array(0)\n",
    "    alpha =1e-5 #4 \n",
    "    beta = 1e-7 #5\n",
    "    \n",
    "    \n",
    "    \n",
    "    thresholdNeurons = np.full((1,201),0.02)\n",
    "    for epoch_ in range(epoch):\n",
    "            random.shuffle(flattenImage)\n",
    "            for input_ in flattenImage:\n",
    "                    activation = alpha * np.dot(input_.T , weight) + activation\n",
    "                    #out = ActThresholding(out)\n",
    "                    afterActivation = convertToBinary(activation,thresholdNeurons)\n",
    "                    #weight = weight + beta * np.dot(input_,afterActivation\n",
    "                    \n",
    "                    afterActivation , thresholdNeuron = crossThresholdUpdate(afterActivation,thresholdNeurons)\n",
    "                    weight = weight + beta * np.dot(input_,afterActivation)\n",
    "                    activation = afterActivation\n",
    "            \n",
    "            print(f\"Epoch number {epoch_} finishes\")\n",
    "    return weight"
   ]
  },
  {
   "cell_type": "code",
   "execution_count": 1568,
   "id": "6591498f",
   "metadata": {},
   "outputs": [],
   "source": [
    "def multipleBlocks(epoch, inputImage, weight):\n",
    "    flattenImage = []\n",
    "    check  = []\n",
    "    for image_ in inputImage:\n",
    "        image_ = flattenInput(image_)\n",
    "        flattenImage.append(image_)\n",
    "    #creating block of images\n",
    "    #print(flattenImage[0])\n",
    "    \n",
    "    index = 0\n",
    "    blockSize = 28\n",
    "    \n",
    "    alpha = 0.1\n",
    "    for epoch_ in range(epoch):\n",
    "        random.shuffle(flattenImage)\n",
    "        for input_ in flattenImage:\n",
    "            \n",
    "            startIndex = 0\n",
    "            errorFromThePreviousLevel = 0\n",
    "            prevVal = 0\n",
    "            val = 0\n",
    "            pVal = 0\n",
    "            while(startIndex < 784):\n",
    "                image_ = input_[startIndex:startIndex + blockSize]\n",
    "                weight_ = weight[startIndex : startIndex + blockSize]\n",
    "                \n",
    "                dotProduct =  np.dot(image_.T,weight_)\n",
    "                \n",
    "                if dotProduct  >= 5 and dotProduct < 1000:\n",
    "                    for index in range(weight_.shape[0]):\n",
    "                        check.append(\"increase\")\n",
    "                        if weight_[index] < 200:\n",
    "                            weight_[index] = weight_[index] + alpha * dotProduct\n",
    "                elif dotProduct < 2:\n",
    "                     for index in range(weight_.shape[0]):\n",
    "                        check.append(\"decrease\")\n",
    "                        if weight_[index] > -200:\n",
    "                            weight_[index] = weight_[index] - alpha * dotProduct\n",
    "                startIndex += blockSize\n",
    "        \n",
    "        print(f\"Epoch : {epoch_} Completed\")\n",
    "    \n",
    "    return weight , check\n"
   ]
  },
  {
   "cell_type": "code",
   "execution_count": 1727,
   "id": "f8d9e8f3",
   "metadata": {},
   "outputs": [],
   "source": [
    "def multipleBlocksWithMemoryElement(epoch, inputImage, weight1 , weight2):\n",
    "    flattenImage = []\n",
    "    check  = []\n",
    "    for image_ in inputImage:\n",
    "        image_ = flattenInput(image_)\n",
    "        flattenImage.append(image_)\n",
    "\n",
    "    \n",
    "    index = 0\n",
    "    blockSize = 28\n",
    "    blockIndex = 0\n",
    "    output = np.full((28,1),0)\n",
    "    alpha = 0.1\n",
    "    for epoch_ in range(epoch):\n",
    "        random.shuffle(flattenImage)\n",
    "        output.fill(0)\n",
    "        for input_ in flattenImage:\n",
    "            \n",
    "            startIndex = 0\n",
    "            blockIndex = 0\n",
    "            while(startIndex < 784):\n",
    "                image_ = input_[startIndex:startIndex + blockSize]\n",
    "                weight_ = weight1[startIndex : startIndex + blockSize]\n",
    "                dotProduct =  np.dot(image_.T,weight_)\n",
    "                output[blockIndex] = output[blockIndex] + dotProduct\n",
    "                \n",
    "                if dotProduct  >= 5 and dotProduct < 1000:\n",
    "                    for index in range(weight_.shape[0]):\n",
    "                        if weight_[index] < 200:\n",
    "                            weight_[index] = weight_[index] + alpha * output[blockIndex]\n",
    "                elif dotProduct < 5:\n",
    "                     for index in range(weight_.shape[0]):\n",
    "                        if weight_[index] > -1000:\n",
    "                            weight_[index] = weight_[index] - alpha * output[blockIndex]\n",
    "                startIndex += blockSize\n",
    "                \n",
    "#                 if(output[blockIndex] > 1000):\n",
    "#                     output[blockIndex] = 0\n",
    "#                 else:\n",
    "#                     output[blockIndex] = output[blockIndex] -  alpha * 0.9\n",
    "                blockIndex += 1\n",
    "            #print(output)\n",
    "            output2nLayer = np.dot(output.T,weight2)\n",
    "            print(output2nLayer)\n",
    "            #print(output2nLayer)\n",
    "#             for outputNeuronIndex in range(output2nLayer.shape[1]):\n",
    "#                 print(output2nLayer[0][outputNeuronIndex])\n",
    "#                 if output2nLayer[0][outputNeuronIndex] > 100:\n",
    "#                     for index in range(weight2.shape[0]):\n",
    "# #                     if weight2[index][outputNeuronIndex] > 100:\n",
    "# #                         continue\n",
    "#                         if weight2[index][outputNeuronIndex] > 100:\n",
    "#                             continue\n",
    "#                         else:\n",
    "#                             weight2[index][outputNeuronIndex] = weight2[index][outputNeuronIndex] + alpha * output2nLayer[0][outputNeuronIndex]\n",
    "#                 else:\n",
    "#                     for index in range(weight2.shape[0]):\n",
    "#                         if weight2[index][outputNeuronIndex] < -100:\n",
    "#                             continue\n",
    "#                         else:\n",
    "#                             weight2[index][outputNeuronIndex] = weight2[index][outputNeuronIndex] - alpha * output2nLayer[0][outputNeuronIndex]\n",
    "                        \n",
    "        print(f\"Epoch : {epoch_} Completed\")\n",
    "    \n",
    "    return weight1 , weight2 , check , output\n"
   ]
  },
  {
   "cell_type": "code",
   "execution_count": 1728,
   "id": "ba867f55",
   "metadata": {},
   "outputs": [],
   "source": [
    "# 0.9 is working well\n",
    "# 1.5"
   ]
  },
  {
   "cell_type": "code",
   "execution_count": 1729,
   "id": "59cad9bc",
   "metadata": {},
   "outputs": [],
   "source": [
    "weight1 = weightInitialization(784,1)\n",
    "weight2 = weightInitialization(28,3)"
   ]
  },
  {
   "cell_type": "code",
   "execution_count": 1730,
   "id": "f72d6cef",
   "metadata": {},
   "outputs": [
    {
     "data": {
      "text/plain": [
       "[<matplotlib.lines.Line2D at 0x37180a160>]"
      ]
     },
     "execution_count": 1730,
     "metadata": {},
     "output_type": "execute_result"
    },
    {
     "data": {
      "image/png": "[encoded data removed]",
      "text/plain": [
       "<Figure size 640x480 with 1 Axes>"
      ]
     },
     "metadata": {},
     "output_type": "display_data"
    }
   ],
   "source": [
    "plt.plot(weight1)"
   ]
  },
  {
   "cell_type": "code",
   "execution_count": 1731,
   "id": "47c10525",
   "metadata": {},
   "outputs": [
    {
     "name": "stdout",
     "output_type": "stream",
     "text": [
      "[0.22593801]\n",
      "[[34.14182269 36.36838    34.02174808]]\n",
      "[[87.13368512 85.95204265 88.89897964]]\n",
      "[[197.8508196  175.23380073 182.626279  ]]\n",
      "[[465.01741649 369.12200901 400.59163235]]\n",
      "[[1465.47614687 1104.19008153 1028.72434328]]\n",
      "[[4027.44253956 2755.45326194 2694.3550807 ]]\n",
      "[[6014.88180008 4470.83879979 4365.85222625]]\n",
      "[[14623.05948514 11215.54160724  8512.84724216]]\n",
      "[[18103.25393307 14513.22927866 12112.59841503]]\n",
      "[[21043.12059344 17603.03559413 14931.17628781]]\n",
      "[[25742.48432907 22602.57173348 19524.52867774]]\n",
      "[[38646.38987917 34948.83596006 30829.8124877 ]]\n",
      "[[41341.81132264 37786.77218805 33391.90947848]]\n",
      "[[46417.39970294 43275.9719087  38412.26585051]]\n",
      "[[56948.51923946 53453.22200788 48764.43734176]]\n",
      "[[62443.89072185 59157.41457606 54041.82646608]]\n",
      "[[74411.70274501 70153.87807786 64866.539652  ]]\n",
      "[[86935.35072344 82114.53683276 76814.70353699]]\n",
      "[[91686.94840744 87237.61869976 81497.99223101]]\n",
      "[[99413.12024415 95040.86965333 89831.83526043]]\n",
      "[[106738.47091579 102009.68809344  97312.12079843]]\n",
      "[[118003.28920067 112278.8239966  105070.2432433 ]]\n",
      "[[117367.71739445  98741.17591026  93044.44732628]]\n",
      "[[118515.63235303  88289.80824822  85003.10167904]]\n",
      "[[119676.76928325  82116.18286529  79725.47675658]]\n",
      "[[120092.32679519  78939.40778802  77430.58096571]]\n",
      "[[122422.04402172  72001.03190078  72448.37281206]]\n",
      "[[127210.03735553  61080.4795917   61882.88591142]]\n",
      "[[129932.7145964   50586.13633716  48655.78496761]]\n",
      "[[136210.09641221  49968.57343028  45733.58981247]]\n",
      "[[135879.84636916  39419.03114123  32136.43452086]]\n",
      "[[136804.96694113  34135.20051941  28223.50084871]]\n",
      "[[139946.99531674  22594.16452806  17611.81394242]]\n",
      "[[140120.22494234  13769.17943425  11097.14774358]]\n",
      "[[139844.31102703  -2007.7628227   -4267.26980942]]\n",
      "[[144441.98715649  -7742.6531808  -11471.13630098]]\n",
      "[[145494.57936522 -10652.94482491 -14728.34146606]]\n",
      "[[148432.08581339 -17796.4731033  -18935.93861123]]\n",
      "[[149522.19274231 -22218.76188828 -22881.77778314]]\n",
      "[[153847.27709198 -33642.40086847 -34021.65422276]]\n",
      "[[155652.67152296 -41556.03375858 -41423.81275856]]\n",
      "[[157454.60971625 -45413.70406182 -45825.91363175]]\n",
      "[[158680.58378829 -49824.27581511 -49772.12656446]]\n",
      "[[159238.12040761 -55571.16738529 -54082.93390953]]\n",
      "[[161673.24158045 -67038.44803455 -69082.18196541]]\n",
      "[[167998.61875008 -63488.06904625 -67754.56076299]]\n",
      "[[ 166053.56330014  -79785.28419284 -101315.20561233]]\n",
      "[[ 165904.59188551  -86323.61429927 -113669.86559294]]\n",
      "[[ 168661.23962101  -96300.09593692 -142407.90437126]]\n",
      "[[ 168935.30168415 -113745.17316375 -181534.03743288]]\n",
      "[[ 168229.2946555  -126304.62148059 -212476.39476099]]\n",
      "[[ 173011.84971109 -139723.92950033 -247905.88121118]]\n",
      "[[ 172711.98976033 -147251.06342753 -263453.64107387]]\n",
      "[[ 170110.53938024 -164387.25363084 -305433.59151263]]\n",
      "[[ 165453.55502618 -191009.14702954 -354413.48388042]]\n",
      "[[ 169259.0912736  -203624.93904356 -383049.77958208]]\n",
      "[[ 167063.39955543 -225917.90804522 -427456.22364322]]\n",
      "[[ 167428.97612195 -245038.54224329 -470011.53306248]]\n",
      "[[ 164971.89655166 -263484.77613726 -505778.54588836]]\n",
      "[[ 162117.06672422 -281718.10673584 -542021.84717533]]\n",
      "[[ 162343.90081845 -289591.2861832  -558658.18749513]]\n",
      "[[ 162437.91329598 -296198.93982624 -572567.38625517]]\n",
      "[[ 166978.32669956 -305403.45614357 -591454.44754229]]\n",
      "[[ 164772.63691912 -326168.19644175 -628651.50716619]]\n",
      "[[ 165870.33501404 -348379.63596015 -674111.5545148 ]]\n",
      "[[ 166531.57649788 -355223.20134434 -688781.39485492]]\n",
      "[[ 169081.6638358  -371855.69531134 -731023.15045615]]\n",
      "[[ 172142.81534099 -391245.01143803 -775691.35219349]]\n",
      "[[ 171945.87830784 -396483.94220959 -785956.97147408]]\n",
      "[[ 171446.11962915 -403997.52968865 -800433.53180595]]\n",
      "[[ 172260.16719386 -414413.06110481 -825148.0643501 ]]\n",
      "[[ 167175.22961089 -439715.72260747 -868861.48071744]]\n",
      "[[ 169180.02687792 -442507.68714433 -877688.30230086]]\n",
      "[[ 168271.89846661 -461287.0647345  -925905.35216421]]\n",
      "[[ 168053.92706986 -468509.33070165 -939700.02589066]]\n",
      "[[ 165976.12100571 -500579.52186756 -997216.63752918]]\n",
      "[[  167613.1345626   -514089.51516797 -1027376.92610757]]\n",
      "[[  166097.97898344  -535576.10758754 -1071652.10910622]]\n",
      "[[  166176.51790155  -541635.70343242 -1084400.52931103]]\n",
      "[[  166219.69181244  -547457.43877995 -1096234.77508828]]\n",
      "[[  165479.51919065  -558281.88101492 -1115755.99110314]]\n",
      "[[  170224.79349612  -556872.077843   -1115293.61574274]]\n",
      "[[  170544.66171501  -563706.46897071 -1129467.64168345]]\n",
      "[[  170412.7660877   -568163.07302756 -1138377.07803921]]\n",
      "[[  172311.21007377  -587684.58218718 -1181708.97004235]]\n",
      "[[  173139.88125287  -602978.0120768  -1223514.42418854]]\n",
      "[[  177919.90968353  -611077.26404546 -1239657.87987488]]\n",
      "[[  177801.39912385  -615357.33657959 -1247270.22200558]]\n",
      "[[  177400.53179621  -637869.6170223  -1296844.91693986]]\n",
      "[[  176511.91473373  -658440.70833909 -1341209.11336123]]\n",
      "[[  177158.11435006  -687546.44992833 -1400912.06822543]]\n",
      "[[  178132.32218013  -700212.87437125 -1438406.74651473]]\n",
      "[[  176244.60093914  -725388.35294999 -1493506.57932749]]\n",
      "[[  180129.57573619  -734070.41240193 -1524524.83292096]]\n",
      "[[  188006.79636808  -746991.60342624 -1553543.61791759]]\n",
      "[[  188320.68100997  -752240.75967569 -1564839.49136052]]\n",
      "[[  186544.83170107  -772218.38423047 -1610310.92267926]]\n",
      "[[  187018.12326641  -781918.00310853 -1631219.45814359]]\n",
      "[[  186627.01358944  -799473.9427609  -1675930.67525179]]\n",
      "[[  186240.17504621  -804913.9934295  -1685725.97299701]]\n",
      "[[  190766.84023144  -820648.4112631  -1719891.5796063 ]]\n",
      "[[  191788.44600846  -829741.3074077  -1741757.51345158]]\n",
      "[[  189473.23909665  -846732.37878303 -1772718.09191147]]\n",
      "[[  190997.53929688  -863064.30365865 -1809376.90403609]]\n",
      "[[  190964.36110225  -869129.75431007 -1820319.72824202]]\n",
      "[[  191399.14677774  -878020.88801258 -1840983.64156039]]\n",
      "[[  192553.45258779  -893546.10432027 -1878475.70269455]]\n",
      "[[  192374.46404984  -905320.76874609 -1901659.07397202]]\n",
      "[[  192414.67189739  -931682.40643652 -1958211.4931972 ]]\n",
      "[[  192463.61450813  -941584.2913957  -1979634.33281844]]\n",
      "[[  188147.98363028  -971512.45496548 -2031383.70725804]]\n",
      "[[  186667.85494768  -987058.92375759 -2063509.31862876]]\n",
      "[[  186183.22642959 -1001086.11306108 -2092282.16750914]]\n",
      "[[  185966.83823418 -1008995.26193583 -2107614.26787672]]\n",
      "[[  185919.2405811  -1014600.72100753 -2118007.34543855]]\n",
      "[[  183128.19485646 -1043991.02033085 -2179849.02469682]]\n",
      "[[  177372.44509695 -1064113.83673031 -2213156.52916101]]\n",
      "[[  180729.55196054 -1082592.82660552 -2261008.07449199]]\n",
      "[[  182160.73004668 -1091861.84021801 -2280095.25706625]]\n",
      "[[  180141.89875477 -1110080.3808958  -2312318.87705583]]\n",
      "[[  180101.68325226 -1116453.66201807 -2324271.8469428 ]]\n",
      "[[  180338.98138376 -1122101.14025519 -2336055.81555243]]\n",
      "[[  179742.76088403 -1134932.0805811  -2359799.84878424]]\n",
      "[[  180536.77862152 -1142977.56500134 -2378347.21737715]]\n",
      "[[  180441.53338969 -1150722.94716452 -2393643.05086215]]\n",
      "[[  184223.1231903  -1165544.06838848 -2421877.29877046]]\n",
      "[[  183366.53800518 -1180763.639394   -2454482.33144683]]\n",
      "[[  182677.15911663 -1202668.59813449 -2505854.41606587]]\n",
      "[[  187703.63762699 -1210362.40232569 -2521980.21822089]]\n",
      "[[  194306.92507431 -1224751.63013297 -2553338.49676163]]\n",
      "[[  199319.98295818 -1237689.26226139 -2587413.21670174]]\n",
      "[[  198795.18105233 -1259558.47284547 -2632031.47247022]]\n",
      "[[  204656.53921226 -1267652.33456922 -2657267.38693259]]\n",
      "[[  204865.40391789 -1272040.77693316 -2666512.21733458]]\n",
      "[[  204133.26165067 -1284575.26153269 -2690445.43329752]]\n",
      "[[  202241.4070466  -1300407.3899634  -2716929.72659107]]\n",
      "[[  201826.15911501 -1307942.01867111 -2731832.40281599]]\n",
      "[[  200913.14145185 -1323821.99980501 -2762916.43692657]]\n",
      "[[  201609.97361771 -1349530.45157244 -2824882.88536996]]\n",
      "[[  201106.83384801 -1362703.55175097 -2849363.46949241]]\n",
      "[[  204191.72194837 -1375759.78917654 -2879926.17253556]]\n",
      "[[  197267.54321845 -1406263.03996084 -2938065.14984994]]\n",
      "[[  202296.52242251 -1417519.32075279 -2972659.45949825]]\n",
      "[[  206140.18915086 -1414126.54645278 -2970794.52080868]]\n",
      "[[  211750.88741057 -1419248.61829226 -2981235.13581082]]\n",
      "[[  211876.15257082 -1435740.67914911 -3017685.48150962]]\n",
      "[[  211952.78417235 -1441829.40833861 -3029701.6118092 ]]\n",
      "[[  211651.22292384 -1448915.64447943 -3044734.99839981]]\n",
      "[[  211758.61405995 -1455006.40427969 -3057126.34190686]]\n",
      "[[  216518.92362175 -1466189.08353217 -3083691.92612393]]\n",
      "[[  223382.59098003 -1476768.90185379 -3109822.31782131]]\n",
      "[[  225697.70135515 -1494310.11705071 -3148421.16631057]]\n",
      "[[  225748.54854476 -1500871.220465   -3162293.30175914]]\n",
      "[[  225017.31909641 -1524753.11348221 -3218026.59350524]]\n",
      "[[  220863.1536298  -1553067.74897307 -3274240.26311503]]\n",
      "[[  220168.33977544 -1561442.82591437 -3290936.00985947]]\n",
      "[[  219498.19831531 -1568738.88291039 -3303474.39736279]]\n",
      "[[  216117.16966055 -1603092.41442121 -3371188.42375267]]\n",
      "[[  213334.73658225 -1619257.85154987 -3401270.9009403 ]]\n",
      "[[  211530.95013921 -1633579.51890802 -3427329.99013023]]\n",
      "[[  216577.38012191 -1645334.72275851 -3463667.12040304]]\n",
      "[[  215644.30977363 -1661282.19700788 -3493784.44721406]]\n",
      "[[  217895.73686964 -1670564.09048874 -3519512.1428521 ]]\n",
      "[[  218231.55033865 -1677083.22067302 -3533465.9710448 ]]\n",
      "[[  221758.25819588 -1694910.2682477  -3566962.11004148]]\n",
      "[[  221256.31879237 -1711819.79362637 -3599981.37276594]]\n",
      "[[  219363.95942069 -1734794.72593224 -3646977.00247674]]\n",
      "[[  219231.15380081 -1743922.12615333 -3664949.51252467]]\n",
      "[[  219520.38470105 -1751725.37886873 -3680153.42157306]]\n",
      "[[  220378.59011717 -1775107.6365016  -3728645.71651748]]\n",
      "[[  221840.7362898  -1782275.57008874 -3746359.99934539]]\n",
      "[[  231270.65238346 -1790288.49671219 -3772190.78558841]]\n",
      "[[  231349.21879114 -1797708.97700302 -3787894.68570712]]\n",
      "[[  231216.19409886 -1808035.11512432 -3815488.24037726]]\n",
      "[[  231304.53865251 -1816688.85825736 -3833539.85796028]]\n",
      "[[  235227.94956299 -1829456.37390945 -3875040.20784678]]\n",
      "[[  234890.12283806 -1852742.14824697 -3926692.38143525]]\n",
      "[[  234072.24779859 -1872220.52183864 -3973248.06534224]]\n",
      "[[  241745.43584249 -1878848.29219787 -4001065.71954426]]\n",
      "[[  247859.31376495 -1889926.22769613 -4032155.64937402]]\n",
      "[[  248042.40293502 -1906564.31219853 -4065538.1156201 ]]\n",
      "[[  248612.90973195 -1913856.28971669 -4081914.26183947]]\n",
      "[[  248930.35349798 -1922184.23356165 -4100880.68782537]]\n",
      "[[  248015.94565741 -1944048.33548665 -4148852.2514444 ]]\n",
      "[[  248582.27007502 -1958658.47479259 -4183360.59318179]]\n",
      "[[  248975.25594926 -1964103.64319911 -4195112.00145887]]\n",
      "[[  246226.96230481 -1984323.64404748 -4236444.7860556 ]]\n",
      "[[  246827.83317196 -2004907.56954229 -4292882.93699227]]\n",
      "[[  246407.49407659 -2028504.25530908 -4342734.74703172]]\n",
      "[[  246206.58005696 -2035766.5165623  -4356602.48740861]]\n"
     ]
    },
    {
     "name": "stdout",
     "output_type": "stream",
     "text": [
      "[[  242604.90171944 -2066515.40575391 -4416365.11172743]]\n",
      "[[  245704.5900727  -2080937.34082828 -4461074.05174134]]\n",
      "[[  245762.42029601 -2085340.63965139 -4469801.62660877]]\n",
      "[[  249139.23319478 -2091422.85373031 -4484867.8080848 ]]\n",
      "[[  250892.50115257 -2107787.93138426 -4520567.80011882]]\n",
      "[[  251241.2050555  -2113266.93360408 -4532681.93478926]]\n",
      "[[  256627.32754576 -2116461.57607287 -4546091.65938763]]\n",
      "[[  259612.49089977 -2134194.14221976 -4585938.29411033]]\n",
      "[[  259349.75235526 -2142169.57333492 -4601859.56485928]]\n",
      "[[  260028.19784801 -2146295.84033792 -4611791.46138568]]\n",
      "[[  259407.77931091 -2159426.28110492 -4641338.56938397]]\n",
      "[[  253543.91663148 -2185401.92634725 -4685383.52843294]]\n",
      "[[  250412.17633881 -2208339.47591656 -4730089.92428841]]\n",
      "[[  255165.11848383 -2220166.81811629 -4758272.87691825]]\n",
      "[[  254558.01299587 -2228390.70235739 -4774301.80757819]]\n",
      "[[  254480.04623126 -2234506.21650345 -4786553.05982478]]\n",
      "[[  252408.99890049 -2260518.91288    -4841587.44414533]]\n",
      "[[  254442.63642133 -2279536.76553359 -4885180.75756862]]\n",
      "[[  251662.8370428  -2297913.54536575 -4920759.14231339]]\n",
      "[[  252203.81153513 -2306630.81545246 -4937868.38083261]]\n",
      "[[  253361.05684713 -2316525.28678931 -4958338.02998947]]\n",
      "[[  259084.73535241 -2329228.89880978 -4982294.52368388]]\n",
      "[[  264421.63261622 -2340651.83352844 -5012169.45347225]]\n",
      "[[  262291.98143018 -2361724.19244728 -5055844.99005088]]\n",
      "[[  262582.11806262 -2371213.3814142  -5075894.81921399]]\n",
      "[[  265212.18465393 -2384948.93442101 -5105731.79409517]]\n",
      "[[  264531.87507457 -2400444.16937953 -5137768.72991405]]\n",
      "[[  264282.9294795  -2408120.69925706 -5154011.78456887]]\n",
      "[[  266576.66236244 -2421716.98202827 -5181207.17006618]]\n",
      "[[  268733.72033043 -2433842.89177442 -5210235.95551029]]\n",
      "[[  263726.90619875 -2473981.8368866  -5287318.5882778 ]]\n",
      "[[  264417.74392705 -2495452.02869517 -5333564.11741516]]\n",
      "[[  261392.31305355 -2514442.01123069 -5371616.12966692]]\n",
      "[[  261904.74163493 -2522973.94629844 -5390733.26171146]]\n",
      "[[  262253.50431423 -2529432.22459422 -5404464.41839641]]\n",
      "[[  261771.24354588 -2539139.85003667 -5423872.87941302]]\n",
      "[[  262212.86266032 -2556795.37480667 -5462831.90094947]]\n",
      "[[  260236.7651037  -2585956.81391313 -5519694.24935602]]\n",
      "[[  260478.80158743 -2616012.63119514 -5584899.04579981]]\n",
      "[[  257106.8280387  -2636486.07155438 -5619456.39157655]]\n",
      "[[  257633.30419838 -2652941.67258742 -5649623.07924369]]\n",
      "[[  257538.88282863 -2659739.21768261 -5662552.79040249]]\n",
      "[[  257430.55725734 -2666772.83177113 -5675984.35012559]]\n",
      "[[  257091.09750621 -2672737.64009825 -5686414.47374394]]\n",
      "[[  257251.35075689 -2679745.12492233 -5699871.41495117]]\n",
      "[[  259640.92281185 -2695254.35365857 -5731645.5848001 ]]\n",
      "[[  260120.53199085 -2704511.0394331  -5752004.50644904]]\n",
      "[[  259885.93805074 -2712742.95656087 -5770317.1133729 ]]\n",
      "[[  259869.85669045 -2719853.72897227 -5784324.3483138 ]]\n",
      "[[  259848.20546563 -2724846.20310679 -5794392.20013435]]\n",
      "[[  259519.41177267 -2732898.46840931 -5810590.62051829]]\n",
      "[[  259954.82815607 -2752172.73453904 -5851335.92910231]]\n",
      "[[  260098.00448862 -2759274.74461686 -5865696.51487746]]\n",
      "[[  259552.8672303  -2775929.64980423 -5910016.56041523]]\n",
      "[[  259609.10972956 -2794550.54068716 -5956629.92110321]]\n",
      "[[  259527.98715577 -2800852.65613389 -5968873.91218217]]\n",
      "[[  262558.23695152 -2818825.98648608 -6011138.54743915]]\n",
      "[[  263034.61440954 -2824419.31473015 -6024405.80743865]]\n",
      "[[  263560.47284777 -2830890.41229659 -6038938.67697032]]\n",
      "[[  265037.67935394 -2849109.21679714 -6074813.47899059]]\n",
      "[[  272083.95245533 -2855942.50150606 -6090073.07592229]]\n",
      "[[  273587.64888213 -2874088.74443973 -6129344.56706672]]\n",
      "[[  273901.02101945 -2891754.57759015 -6165221.29933114]]\n",
      "[[  273626.59039955 -2898950.83461677 -6178687.12254858]]\n",
      "[[  275198.27746627 -2913867.85642269 -6210949.71672152]]\n",
      "[[  272022.13953891 -2937473.65193358 -6252224.26295635]]\n",
      "[[  272770.96575785 -2955538.55607165 -6290994.18102769]]\n",
      "[[  271342.87723952 -2969138.14926922 -6326319.17569076]]\n",
      "[[  271151.78769267 -2992923.57817502 -6378445.99006862]]\n",
      "[[  271699.82943587 -2999627.27315353 -6392803.3402581 ]]\n",
      "[[  272351.21192648 -3015739.9947976  -6431192.89737057]]\n",
      "[[  272753.60083176 -3039471.54187214 -6484177.10197457]]\n",
      "[[  272572.08230191 -3044940.92079295 -6493767.84427852]]\n",
      "[[  272350.39110724 -3054483.04378398 -6513320.30018602]]\n",
      "[[  267577.29878099 -3083520.30734818 -6570504.08972769]]\n",
      "[[  265012.77791551 -3105383.24732686 -6616132.70133627]]\n",
      "[[  265171.29266671 -3110647.95489522 -6626621.92658503]]\n",
      "[[  267983.33374336 -3124617.07909406 -6660034.76241857]]\n",
      "[[  264225.56617388 -3144338.94118314 -6701044.12713789]]\n",
      "[[  263761.42614533 -3153522.54616008 -6719171.35840742]]\n",
      "[[  266937.12437691 -3174800.52289136 -6764974.65195814]]\n",
      "[[  266746.85850924 -3182138.2145297  -6778979.13127329]]\n",
      "[[  266165.52176015 -3198582.09163232 -6813335.8002551 ]]\n",
      "[[  266385.05310327 -3224999.83173533 -6869156.69960657]]\n",
      "[[  263870.71790948 -3245300.09866224 -6910019.88943578]]\n",
      "[[  262837.03780226 -3256821.50687814 -6931680.74688319]]\n",
      "[[  262993.46326    -3264445.2962379  -6946797.58560394]]\n",
      "[[  261395.55386825 -3281801.77538167 -6980914.95662683]]\n",
      "[[  262403.92514682 -3297826.97230937 -7010960.72170609]]\n",
      "[[  262189.75043682 -3306272.11195334 -7028822.56694776]]\n",
      "[[  257996.64928459 -3328928.22612444 -7067918.64552524]]\n",
      "[[  260390.96288205 -3336710.39997286 -7087612.70549713]]\n",
      "[[  264396.54228464 -3346935.8194902  -7113686.63083586]]\n",
      "[[  267015.26425072 -3360069.72371061 -7145053.96693669]]\n",
      "[[  267102.3701818  -3376084.53901808 -7179447.57572582]]\n",
      "[[  267845.31969573 -3379649.26090312 -7188709.75916642]]\n",
      "[[  258312.73227747 -3415404.54206328 -7250127.82517339]]\n",
      "[[  253809.05073763 -3454894.11744281 -7327375.86224342]]\n",
      "[[  255010.59860987 -3472629.47152435 -7369207.30930388]]\n",
      "[[  261058.61897627 -3479953.05360042 -7388871.6200741 ]]\n",
      "[[  259865.92071862 -3500649.16021943 -7428595.30585708]]\n",
      "[[  260051.08946471 -3510603.67794858 -7450521.00551709]]\n",
      "[[  260127.43788094 -3513253.31092219 -7455957.06659853]]\n",
      "[[  259906.62793465 -3521458.3177766  -7472326.13169722]]\n",
      "[[  259462.12329199 -3529742.88640068 -7492070.55432086]]\n",
      "[[  265321.65743467 -3545380.67087542 -7527040.27995692]]\n",
      "[[  269518.58086799 -3565674.37277603 -7572419.51265218]]\n",
      "[[  270961.00303755 -3578732.17145297 -7600377.36745327]]\n",
      "[[  272334.29919986 -3593932.65034459 -7634751.26693222]]\n",
      "[[  271650.39324669 -3620027.31667192 -7687806.38031783]]\n",
      "[[  274298.21109222 -3632068.13790699 -7712723.67847843]]\n",
      "[[  274717.86421511 -3657791.95777981 -7765215.83689085]]\n",
      "[[  278390.86158984 -3668096.18638978 -7795276.5427277 ]]\n",
      "[[  276577.19677797 -3691660.23430441 -7851107.61358301]]\n",
      "[[  277440.51311551 -3697747.6715876  -7865632.53727061]]\n",
      "[[  277540.14604149 -3703051.08535064 -7876761.16219345]]\n",
      "[[  280877.00423163 -3720839.40330348 -7924282.35367078]]\n",
      "[[  280674.84135303 -3725247.09472292 -7933138.92012502]]\n",
      "[[  277443.5943282  -3747040.49887207 -7971052.57624732]]\n",
      "[[  277963.74047177 -3754042.69923153 -7987673.87135595]]\n",
      "[[  274699.4463722  -3775505.54531512 -8035869.54612974]]\n",
      "[[  270138.39480234 -3816785.11464639 -8106763.6886784 ]]\n",
      "[[  271564.71760512 -3830445.19301814 -8132127.09900516]]\n",
      "[[  269641.07583653 -3843838.1888797  -8151446.14171575]]\n",
      "[[  270492.75795108 -3849231.58456145 -8164210.39169441]]\n",
      "[[  273362.23844459 -3867851.85310693 -8209846.79271326]]\n",
      "[[  273019.0813611  -3874665.69183418 -8223051.78402202]]\n",
      "[[  275763.88405686 -3898789.60151574 -8277726.24446318]]\n",
      "[[  274814.47192715 -3927780.18419669 -8337459.26396757]]\n",
      "[[  274859.22919148 -3932811.58705674 -8348770.17590501]]\n",
      "[[  274730.28573237 -3937654.37891235 -8358404.17135452]]\n",
      "[[  274846.31826645 -3946043.76561572 -8375746.93164579]]\n",
      "[[  274806.93737672 -3950547.62319646 -8384475.40464736]]\n",
      "[[  275166.78736983 -3954682.24440537 -8394602.83785351]]\n",
      "[[  275330.88807317 -3960688.86364337 -8407077.40865862]]\n",
      "[[  273301.94095245 -3983558.54314885 -8452930.91948937]]\n",
      "[[  271127.85010373 -3999477.96978107 -8480185.02803864]]\n",
      "[[  269436.11491457 -4023399.58150647 -8529114.38440859]]\n",
      "[[  266883.64418961 -4042861.1633457  -8566409.64849104]]\n",
      "[[  266867.1033981  -4050976.54908552 -8583722.7192769 ]]\n",
      "[[  272285.05066501 -4059107.44302487 -8605069.61866487]]\n",
      "[[  270704.00406641 -4090346.70658369 -8666970.3864188 ]]\n",
      "[[  270357.58165258 -4120118.25529149 -8726125.78442504]]\n",
      "[[  271189.76323641 -4136991.17027648 -8763881.86373007]]\n",
      "[[  273346.61688445 -4157547.86299477 -8807931.30044417]]\n",
      "[[  270995.45634828 -4177478.58738139 -8847618.96242068]]\n",
      "[[  271377.48086467 -4182534.00783486 -8858832.79065647]]\n",
      "[[  269834.30428264 -4205683.5971968  -8907352.84301358]]\n",
      "[[  271480.65396572 -4223459.85480034 -8945335.98416689]]\n",
      "[[  270276.65370432 -4238891.1772477  -8975649.64166266]]\n",
      "[[  270320.75036094 -4241804.13997209 -8982025.11076324]]\n",
      "[[  271955.96484696 -4253671.36780783 -9005413.59068013]]\n",
      "[[  272626.75468188 -4262336.98567471 -9024287.179453  ]]\n",
      "[[  273146.76949773 -4267671.61164049 -9036059.73976158]]\n",
      "[[  274986.17477797 -4275642.70955096 -9063593.76571398]]\n",
      "[[  279391.00479399 -4296165.79031675 -9105945.3515685 ]]\n",
      "[[  279627.62052183 -4302340.53886139 -9118767.48517288]]\n",
      "[[  279943.12153635 -4319119.58519805 -9161354.16911804]]\n",
      "[[  280600.88946672 -4324780.32446958 -9173752.41638702]]\n",
      "[[  281087.17095619 -4331086.42361334 -9187693.63292832]]\n",
      "[[  281825.55664525 -4346348.74556848 -9229867.21212146]]\n",
      "[[  282240.61779439 -4351320.57787822 -9241560.5615743 ]]\n",
      "[[  280530.62772225 -4373371.33942731 -9287950.21057625]]\n",
      "[[  283029.44082987 -4387807.14041701 -9324555.26200006]]\n",
      "[[  288146.92092803 -4393331.05489005 -9336124.83114592]]\n",
      "[[  290260.67444098 -4413550.10353359 -9377426.54908666]]\n",
      "[[  293484.55971373 -4433478.14326266 -9422506.53629645]]\n",
      "[[  289945.18610031 -4453487.85993522 -9456161.8606202 ]]\n",
      "[[  292362.03465297 -4463809.05186087 -9487555.88602983]]\n",
      "[[  289764.38293647 -4483721.99992985 -9532207.60172556]]\n",
      "[[  288612.1699504  -4493661.23530986 -9552798.20960773]]\n",
      "[[  288524.23460925 -4502669.33316005 -9571012.85213567]]\n",
      "[[  284769.04655375 -4524589.62798948 -9603309.56713366]]\n",
      "[[  284368.85979521 -4545714.81002187 -9646197.68245612]]\n",
      "[[  286506.32548363 -4557815.15407578 -9676679.0267946 ]]\n",
      "[[  282220.32295013 -4579777.88711409 -9713375.1243057 ]]\n",
      "[[  287997.24753569 -4589412.67788821 -9738791.76486384]]\n",
      "[[  286679.90045499 -4609050.71612763 -9781522.70692539]]\n",
      "[[  284026.77044742 -4627633.94535158 -9815743.78831371]]\n",
      "[[  282172.49871127 -4662454.44990446 -9892142.06682023]]\n",
      "[[  281213.36209333 -4680761.63811629 -9925324.90452973]]\n",
      "[[  285396.9966052  -4704411.69554257 -9971547.59020875]]\n",
      "[[  285347.0854865  -4711341.60364921 -9984930.38441209]]\n",
      "[[   285712.32647257  -4735348.35914878 -10040044.70803529]]\n",
      "[[   286165.03372881  -4741660.01037203 -10053452.21240733]]\n",
      "[[   286185.08554121  -4767566.86770322 -10110007.82964844]]\n",
      "[[   286240.71030631  -4773988.00737104 -10122841.78369735]]\n",
      "[[   285594.3739794   -4791184.23140291 -10168938.84564977]]\n",
      "[[   286940.08621701  -4802609.57955589 -10191400.50276024]]\n",
      "[[   286718.33439073  -4808129.37433174 -10201799.58865101]]\n",
      "[[   286891.93318255  -4817638.77300846 -10222981.26527343]]\n",
      "[[   287600.80301116  -4835902.06064075 -10261511.64519878]]\n",
      "[[   285863.68562141  -4859421.79040291 -10307264.02232816]]\n",
      "[[   286666.58371401  -4872728.55446337 -10335834.01896345]]\n",
      "[[   291503.33578966  -4882527.57719266 -10356796.81097261]]\n",
      "[[   291309.07213292  -4903510.59993057 -10408110.72006418]]\n",
      "[[   291812.09331452  -4911647.67601517 -10425124.01761523]]\n",
      "[[   295871.8149683   -4917081.70877399 -10444034.46261526]]\n",
      "[[   294472.11309929  -4931411.70460031 -10473259.05293736]]\n",
      "[[   298462.82968235  -4950380.47430126 -10513956.48458738]]\n",
      "[[   298288.81498057  -4954973.17024735 -10524348.1525588 ]]\n",
      "[[   298867.23701952  -4962190.17701542 -10541385.38894952]]\n",
      "[[   302391.28619266  -4975909.365545   -10575028.33189151]]\n",
      "[[   299092.52945675  -4997595.28056261 -10630098.63339122]]\n",
      "[[   298650.16905887  -5003698.46588773 -10643876.63685525]]\n",
      "[[   300817.81994396  -5010562.40460572 -10656048.14054877]]\n",
      "[[   299189.34910648  -5027049.15944191 -10689140.80870213]]\n",
      "[[   299216.74087297  -5031019.53311598 -10697760.79368665]]\n",
      "[[   298842.62869935  -5043770.8218701  -10724770.70442957]]\n",
      "[[   297564.7291684   -5061164.83557552 -10760457.16198249]]\n",
      "[[   297695.83639324  -5068064.11453065 -10775588.02385166]]\n",
      "[[   295631.40374138  -5085913.00348631 -10812822.31883647]]\n"
     ]
    },
    {
     "name": "stdout",
     "output_type": "stream",
     "text": [
      "[[   299942.64454879  -5086650.07369852 -10825349.17741691]]\n",
      "[[   297424.30092592  -5110305.98436902 -10871353.89664945]]\n",
      "[[   298829.99886214  -5123480.09277069 -10899351.88436933]]\n",
      "[[   298517.10151259  -5131927.74208888 -10916546.63090168]]\n",
      "[[   298945.40502419  -5139493.70980415 -10933304.05393624]]\n",
      "[[   297281.21309586  -5151800.644498   -10950172.64404482]]\n",
      "[[   297021.93359387  -5175512.27440397 -10996939.67127157]]\n",
      "[[   295543.11355985  -5188076.1130111  -11014917.23103534]]\n",
      "[[   295514.94966913  -5203752.62210821 -11046358.81635663]]\n",
      "[[   293389.90273241  -5225889.27642496 -11096482.86476733]]\n",
      "[[   299677.29687229  -5227821.98109954 -11103745.98619552]]\n",
      "[[   298126.25459762  -5259018.60410783 -11164888.79607355]]\n",
      "[[   298080.8244213   -5268157.45337971 -11182751.30600413]]\n",
      "[[   291963.24313934  -5300978.93494126 -11239817.48906106]]\n",
      "[[   295872.07049681  -5301985.42236065 -11245755.17180735]]\n",
      "[[   296504.33685854  -5319470.76413657 -11278670.44173356]]\n",
      "[[   302593.01689773  -5326013.12424293 -11293509.39497897]]\n",
      "[[   301248.55296152  -5345936.17364227 -11336251.53116082]]\n",
      "[[   301910.82160391  -5352934.40181921 -11350538.98577098]]\n",
      "[[   303175.6600166   -5366541.72113227 -11388207.20260905]]\n",
      "[[   300608.76393647  -5385248.81453429 -11424080.68357204]]\n",
      "[[   300102.42388619  -5402307.81352937 -11460596.33142065]]\n",
      "[[   299723.98202559  -5410080.09252875 -11477158.24805179]]\n",
      "[[   295991.18631411  -5433965.91222704 -11521028.6319217 ]]\n",
      "[[   298940.30752238  -5437173.39862418 -11532503.55671778]]\n",
      "[[   303135.87814845  -5455640.23881005 -11581395.76458262]]\n",
      "[[   303180.34955824  -5467421.5100519  -11606115.07765469]]\n",
      "[[   309490.62843513  -5475042.81055201 -11636941.70537572]]\n",
      "[[   312074.63295773  -5496838.22930536 -11690606.34855278]]\n",
      "[[   310441.68520338  -5522037.23832192 -11742051.0272971 ]]\n",
      "[[   311420.95962307  -5539934.69445577 -11773060.02727231]]\n",
      "[[   308571.70874892  -5556672.51320971 -11803237.26161859]]\n",
      "[[   310366.30772185  -5581048.75206936 -11847270.76562163]]\n",
      "[[   310837.89946216  -5584628.53258865 -11855601.65216239]]\n",
      "[[   314674.59102509  -5604933.41389678 -11899754.31088818]]\n",
      "[[   314203.71877589  -5615943.63918889 -11923018.04330957]]\n",
      "[[   321981.39492545  -5624514.13489224 -11961676.99411351]]\n",
      "[[   321096.24014837  -5644964.11170338 -12012867.23550207]]\n",
      "[[   319860.87976454  -5666001.78956169 -12057355.9663058 ]]\n",
      "[[   322384.270311    -5679534.68716866 -12082978.72855696]]\n",
      "[[   322313.04611953  -5685880.17931197 -12096491.01937662]]\n",
      "[[   322635.46307857  -5691701.81902402 -12109079.34342423]]\n",
      "[[   324037.70275583  -5698562.6998924  -12123317.572423  ]]\n",
      "[[   324363.69786092  -5716786.5671682  -12153532.98123393]]\n",
      "[[   323866.07804284  -5742399.74430324 -12206244.36528075]]\n",
      "[[   331454.91460138  -5740926.24585829 -12214872.65817878]]\n",
      "[[   331920.19623058  -5752369.52156426 -12239115.48922008]]\n",
      "[[   330045.82924697  -5767744.25079984 -12262555.04426867]]\n",
      "[[   331518.0459598   -5775026.38274037 -12280542.60009981]]\n",
      "[[   331453.75066783  -5785966.63114671 -12305222.4039887 ]]\n",
      "[[   329386.93775717  -5809972.91163903 -12350861.48308078]]\n",
      "[[   330287.87275443  -5831668.64200405 -12395336.53064636]]\n",
      "[[   330187.19520769  -5837522.4319296  -12406774.98971509]]\n",
      "[[   330384.88189661  -5843196.8917377  -12421274.57630417]]\n",
      "[[   330429.7859685   -5850140.84702796 -12435070.84557899]]\n",
      "[[   330572.70533885  -5858283.92070412 -12451375.82337964]]\n",
      "[[   329590.82100648  -5868024.70344102 -12474653.7834722 ]]\n",
      "[[   329752.03455782  -5872707.08141998 -12486144.12757731]]\n",
      "[[   333529.73404956  -5876292.74598073 -12491382.46767185]]\n",
      "[[   333613.34886492  -5900235.79416867 -12542761.17058207]]\n",
      "[[   329309.90239252  -5920447.06052476 -12570021.89257641]]\n",
      "[[   328933.42317225  -5926503.90063488 -12581247.09093953]]\n",
      "[[   320447.48639348  -5955590.53740719 -12622035.21967052]]\n",
      "[[   321462.85995637  -5972127.69661161 -12664502.8183067 ]]\n",
      "[[   321180.04154739  -5978420.22199671 -12675731.70248411]]\n",
      "[[   321000.89229335  -5986602.06240503 -12691664.87646814]]\n",
      "[[   321108.41754351  -5995053.84352614 -12710960.92421704]]\n",
      "[[   325908.5678888   -6009987.93088145 -12740117.38019032]]\n",
      "[[   327091.22058209  -6031541.38066527 -12782279.29748904]]\n",
      "[[   333343.02950957  -6029879.0163705  -12782775.75722213]]\n",
      "[[   333498.04854427  -6036225.43820486 -12796508.46448708]]\n",
      "[[   334254.58125703  -6050771.11380255 -12822758.61085868]]\n",
      "[[   330096.62489049  -6077717.07974148 -12877944.29145035]]\n",
      "[[   348147.56140742  -6089372.79386763 -12897281.0150571 ]]\n",
      "[[   348819.12735856  -6111930.85331707 -12946503.73896608]]\n",
      "[[   354088.93507079  -6124518.6265539  -12975025.85680981]]\n",
      "[[   358712.81389404  -6128326.62128386 -12982171.38527313]]\n",
      "[[   358083.54490542  -6136255.69786043 -12996681.26574037]]\n",
      "[[   359527.54245846  -6151166.2378458  -13028821.57110545]]\n",
      "[[   368257.47252535  -6150183.88565551 -13033230.59045999]]\n",
      "[[   367712.83944484  -6157219.03538162 -13045155.74342104]]\n",
      "[[   369334.93082348  -6181431.95003857 -13095035.9005944 ]]\n",
      "[[   368050.93197871  -6209965.2651025  -13155475.9912363 ]]\n",
      "[[   367490.62856696  -6218537.29784007 -13167885.25984133]]\n",
      "[[   363319.2454154   -6249236.69790544 -13227541.14079573]]\n",
      "[[   366599.99539467  -6266336.1632025  -13274069.85698859]]\n",
      "[[   363199.66904853  -6296796.17119257 -13334679.9463269 ]]\n",
      "[[   364730.96884574  -6305866.21306633 -13360027.79835965]]\n",
      "[[   368054.36512335  -6323808.39664192 -13404470.01626566]]\n",
      "[[   365147.13933424  -6347064.79073151 -13442106.29111473]]\n",
      "[[   366942.17327787  -6365779.55523397 -13488227.49999897]]\n",
      "[[   365327.64498298  -6393545.82255841 -13549147.31762959]]\n",
      "[[   372766.66550683  -6400709.17943757 -13584224.34849374]]\n",
      "[[   372700.26951387  -6407208.1400289  -13597667.62964729]]\n",
      "[[   372994.58793445  -6415668.7160633  -13613951.94564958]]\n",
      "[[   372326.79835611  -6442227.3185568  -13665551.94629239]]\n",
      "[[   374130.70494095  -6459960.68026096 -13701896.84916076]]\n",
      "[[   375560.41496598  -6466698.04563363 -13716426.481041  ]]\n",
      "[[   370895.31495416  -6491425.03437141 -13771875.10933109]]\n",
      "[[   373181.8315863   -6509588.73242951 -13807728.55288967]]\n",
      "[[   374279.69152576  -6535743.78856822 -13864622.25326477]]\n",
      "[[   375104.13367848  -6540447.25953622 -13874756.80249503]]\n",
      "[[   374023.9098645   -6557540.36300465 -13903313.66002265]]\n",
      "[[   374308.7668281   -6565971.90426327 -13917881.52296567]]\n",
      "[[   374466.28590442  -6575657.92742574 -13934264.4555378 ]]\n",
      "[[   373184.41864665  -6597636.22963262 -13974334.9432589 ]]\n",
      "[[   373972.95468672  -6601082.08396497 -13982036.22202436]]\n",
      "[[   379518.53887423  -6616546.75328993 -14013879.14375724]]\n",
      "[[   383778.15257477  -6628899.19630951 -14045373.87404662]]\n",
      "[[   384184.4815687   -6635305.23207625 -14058900.04414991]]\n",
      "[[   384814.45111247  -6645500.25156272 -14078194.41485454]]\n",
      "[[   392395.66029662  -6647780.42222834 -14096064.83489176]]\n",
      "[[   398835.07953956  -6658051.15160962 -14118353.54798205]]\n",
      "[[   398217.44822674  -6679892.00865664 -14160527.61040381]]\n",
      "[[   403545.15732812  -6690272.71517465 -14184217.05558771]]\n",
      "[[   403953.60779003  -6696050.13693434 -14195289.4507854 ]]\n",
      "[[   413712.36130296  -6686832.18117546 -14191286.75791276]]\n",
      "[[   415239.09039515  -6700984.91833756 -14215874.54215163]]\n",
      "[[   415292.89325125  -6707770.10415351 -14230556.3687209 ]]\n",
      "[[   416463.94901571  -6727329.40741396 -14268240.07492085]]\n",
      "[[   420293.13118649  -6749961.69851048 -14319101.83043992]]\n",
      "[[   418354.63747113  -6763643.43383682 -14347607.40514301]]\n",
      "[[   419623.25965058  -6771214.03281179 -14364834.82342036]]\n",
      "[[   418433.1951919   -6793222.63143845 -14404566.76737963]]\n",
      "[[   418994.86281158  -6798766.40251418 -14415827.61405863]]\n",
      "[[   420697.83489966  -6817038.12718006 -14449026.74568531]]\n",
      "[[   424481.71118486  -6832188.06116788 -14488281.36654477]]\n",
      "[[   422826.97676839  -6858550.00482732 -14538024.26433904]]\n",
      "[[   420544.96144582  -6884536.72604008 -14590738.8859196 ]]\n",
      "[[   421174.93132872  -6895123.29667848 -14614548.08542409]]\n",
      "[[   421289.10835983  -6913456.3700741  -14651999.23511813]]\n",
      "[[   430040.00044972  -6933229.05995781 -14701395.93703096]]\n",
      "[[   429979.91840859  -6941211.37854147 -14713807.18526168]]\n",
      "[[   429107.80583577  -6961484.96876412 -14757689.21113087]]\n",
      "[[   429879.20914845  -6967649.88496931 -14770750.41568594]]\n",
      "[[   433003.80970148  -6989629.28223105 -14816554.67730037]]\n",
      "[[   433022.32843172  -6997304.33379478 -14829682.86971625]]\n",
      "[[   429191.98970318  -7021597.54671715 -14879952.18335943]]\n",
      "[[   431461.12807877  -7033084.42995996 -14902983.30948802]]\n",
      "[[   432504.40601164  -7041244.71486151 -14922713.24400015]]\n",
      "[[   433607.50659989  -7045613.58565503 -14933273.42148496]]\n",
      "[[   439883.00570726  -7060902.3966855  -14968706.6339549 ]]\n",
      "[[   439952.99195206  -7067261.01215172 -14979263.61253329]]\n",
      "[[   440535.70713622  -7074589.26064103 -14995352.45191603]]\n",
      "[[   440917.60231277  -7080672.46010847 -15007107.59925432]]\n",
      "[[   444316.25766971  -7089660.54865708 -15029781.5786876 ]]\n",
      "[[   443069.73512129  -7111568.05716432 -15073908.90935798]]\n",
      "[[   444910.75272091  -7123866.41569495 -15098047.19469324]]\n",
      "[[   445137.69010709  -7131156.72582919 -15112895.94324213]]\n",
      "[[   444199.10377132  -7161576.39600452 -15174676.69371455]]\n",
      "[[   447031.05327502  -7182031.7622067  -15219486.74176921]]\n",
      "[[   447742.45531242  -7186698.94004034 -15229779.89539524]]\n",
      "[[   448603.30116977  -7193171.54802077 -15244672.9293433 ]]\n",
      "[[   448486.18567132  -7198979.96927827 -15254283.54059012]]\n",
      "[[   450923.36152263  -7213460.45540123 -15294075.4195902 ]]\n",
      "[[   449437.87068366  -7234334.50494757 -15333595.46965423]]\n",
      "[[   453432.33653107  -7237767.70220947 -15347315.65643306]]\n",
      "[[   453711.43180545  -7243886.30744015 -15358309.63484673]]\n",
      "[[   453795.56813673  -7251485.40417875 -15371135.64250853]]\n",
      "[[   455140.98387317  -7261130.95976703 -15394065.27679141]]\n",
      "[[   461910.68895378  -7281841.91538071 -15434888.02468023]]\n",
      "[[   460821.37582737  -7299888.0836641  -15462853.40010943]]\n",
      "[[   469064.79288529  -7310724.03541154 -15483560.38015847]]\n",
      "[[   467174.91093447  -7330794.2547475  -15522812.34343343]]\n",
      "[[   467656.79188068  -7343760.28523636 -15559518.68481524]]\n",
      "[[   470726.5696265   -7363016.0487984  -15598877.40283772]]\n",
      "[[   471148.66839606  -7374015.97345654 -15619782.17359317]]\n",
      "[[   471103.60790827  -7397067.09506535 -15666885.0769643 ]]\n",
      "[[   471458.53997017  -7419568.77838106 -15715548.21290902]]\n",
      "[[   471817.29558265  -7428074.40243182 -15729372.10365964]]\n",
      "[[   470802.55547526  -7442964.8443767  -15757762.97280528]]\n",
      "[[   473738.89292971  -7461175.57906367 -15809602.06529145]]\n",
      "[[   473304.90519183  -7492002.41399639 -15869836.10599933]]\n",
      "[[   479033.5559268   -7503159.80517899 -15900806.50234199]]\n",
      "[[   480121.9013837   -7510649.74556236 -15916357.37291372]]\n",
      "[[   479955.90890485  -7520226.77126886 -15935257.20196328]]\n",
      "[[   480211.25596113  -7526953.04505787 -15948151.21603348]]\n",
      "[[   480749.90670127  -7555668.6848669  -16002312.23561892]]\n",
      "[[   481282.38282025  -7561548.66146422 -16014586.43304256]]\n",
      "[[   479955.8892433   -7585028.89510205 -16054511.62974323]]\n",
      "[[   479898.72963801  -7594516.74553568 -16072432.01359314]]\n",
      "[[   480343.69543806  -7609249.30718185 -16103967.23902461]]\n",
      "[[   479606.43038012  -7628099.4553329  -16145641.93152383]]\n",
      "[[   482578.83819937  -7644893.2257431  -16181115.69503637]]\n",
      "[[   486922.27082587  -7655414.10557509 -16207271.54184764]]\n",
      "[[   487989.62367909  -7661703.32543864 -16222321.0429994 ]]\n",
      "[[   483912.54081698  -7682210.64194958 -16253810.13693122]]\n",
      "[[   484707.63175107  -7689650.89648254 -16270888.7579909 ]]\n",
      "[[   490516.58930303  -7705005.68080259 -16302824.65525351]]\n",
      "[[   491096.26664123  -7713646.47662311 -16317527.48249699]]\n",
      "[[   491398.98773913  -7720012.02902697 -16330319.69983314]]\n",
      "[[   490569.15148581  -7743925.05445018 -16375567.16703781]]\n",
      "[[   492808.07388076  -7769201.81359703 -16422305.08808099]]\n",
      "[[   491709.18064477  -7795488.4462404  -16472791.82086093]]\n",
      "[[   491993.51318372  -7812291.57985353 -16501877.28711337]]\n",
      "[[   493172.33314923  -7820361.5414483  -16517984.75716617]]\n",
      "[[   496912.7355183   -7830585.36120206 -16540018.97918963]]\n",
      "[[   498494.11656195  -7836380.1292067  -16556814.77368277]]\n",
      "[[   491028.38729511  -7869363.11691684 -16614703.55535634]]\n",
      "[[   491334.978493    -7882132.87511298 -16636474.74390444]]\n",
      "[[   491184.68372343  -7901735.94454592 -16674204.54539992]]\n",
      "[[   494402.7751352   -7913003.9488337  -16697693.84400298]]\n",
      "[[   495095.76889362  -7917648.51056964 -16706013.0897771 ]]\n",
      "[[   496265.26766898  -7926410.45916875 -16724078.80976364]]\n",
      "[[   503222.21088051  -7945924.58012733 -16777416.83102997]]\n",
      "[[   504447.48009002  -7966219.12681235 -16818355.38253608]]\n",
      "[[   506196.67575949  -7974103.30110744 -16835393.28535608]]\n",
      "[[   506453.10174115  -7979531.74058698 -16844699.91653511]]\n",
      "[[   506292.57643675  -7986637.20346374 -16859228.7006995 ]]\n",
      "[[   504747.51041495  -8023265.52381892 -16936665.17457712]]\n",
      "[[   505375.98397436  -8031283.39770852 -16951999.33020022]]\n",
      "[[   506126.71644542  -8039671.55797824 -16969201.66152113]]\n",
      "[[   501527.7989852   -8070700.78626999 -17026450.97773644]]\n",
      "[[   507562.25338328  -8069231.32339994 -17029092.23688989]]\n",
      "[[   508001.64392601  -8074943.94225958 -17041003.47958441]]\n",
      "[[   507267.52922742  -8092175.82356267 -17076192.42815417]]\n",
      "[[   503795.45747572  -8125106.08422643 -17141949.78674001]]\n",
      "[[   504561.55656859  -8128351.45915235 -17148943.3889537 ]]\n",
      "[[   509019.14070819  -8141535.82293204 -17178218.0718774 ]]\n",
      "[[   509106.64842557  -8151544.49601382 -17195741.91549587]]\n",
      "[[   509556.97027653  -8158932.96305235 -17210992.79935676]]\n",
      "[[   510120.46293327  -8166003.05764056 -17225904.29167761]]\n"
     ]
    },
    {
     "name": "stdout",
     "output_type": "stream",
     "text": [
      "[[   506948.35618324  -8195133.3360306  -17279033.12416986]]\n",
      "[[   509301.84702502  -8216806.91820294 -17323844.16430004]]\n",
      "[[   514290.5724689   -8231632.65946438 -17370399.00995536]]\n",
      "[[   518662.50665979  -8239249.74810551 -17382233.36947766]]\n",
      "[[   520902.36942613  -8252988.8173995  -17417917.22605616]]\n",
      "[[   521419.39097115  -8260662.46094566 -17433161.14336111]]\n",
      "[[   524341.84081924  -8280607.80722116 -17470935.87238224]]\n",
      "[[   527242.60042247  -8307640.02959759 -17531021.84315857]]\n",
      "[[   527490.18163654  -8314622.21388001 -17543939.78113431]]\n",
      "[[   529497.24427652  -8325438.41298712 -17578013.42962724]]\n",
      "[[   528763.31928132  -8360569.88943091 -17651344.40656454]]\n",
      "[[   535906.85283131  -8362436.82830427 -17661561.42257464]]\n",
      "[[   537646.83087881  -8383182.56571649 -17710469.0734629 ]]\n",
      "[[   538074.00658844  -8390967.85856401 -17725436.15808346]]\n",
      "[[   539627.54260103  -8407889.48696187 -17762813.38431315]]\n",
      "[[   541752.29581267  -8432612.90272481 -17817287.88461147]]\n",
      "[[   544637.14711272  -8442608.59442077 -17851342.5473405 ]]\n",
      "[[   551814.35789389  -8458413.18773877 -17881995.42781   ]]\n",
      "[[   551498.11535767  -8483468.97201024 -17930929.67797265]]\n",
      "[[   552220.56132001  -8490584.07315998 -17945881.2694477 ]]\n",
      "[[   556715.20356389  -8511475.56116323 -17990117.39265462]]\n",
      "[[   556287.05164673  -8521510.11090135 -18005281.81784628]]\n",
      "[[   556706.33222212  -8527352.27691527 -18016074.00456741]]\n",
      "[[   557017.69597059  -8541257.56721885 -18049673.39154172]]\n",
      "[[   555181.56996201  -8567577.54624273 -18102667.1894541 ]]\n",
      "[[   549827.29339569  -8592620.25840003 -18155720.10965629]]\n",
      "[[   557503.39986771  -8584950.35577804 -18149166.42138377]]\n",
      "[[  -327036.81296133  -8691855.41314334 -18505406.66107732]]\n",
      "[[  -720982.72641632  -8740891.20812127 -18663444.53950448]]\n",
      "[[ -2672445.85814018  -8963077.35873239 -19427751.58186803]]\n",
      "[[ -3667446.09518221  -9075473.95153026 -19819416.25994848]]\n",
      "[[ -4199806.72017303  -9137339.54075133 -20030028.35846403]]\n",
      "[[ -6404050.51457435  -9395812.03684587 -20902408.64994587]]\n",
      "[[ -6957528.6511327   -9463490.02437    -21123770.81436943]]\n",
      "[[ -7354346.35191791  -9511346.07584388 -21282127.76065861]]\n",
      "[[ -8623388.64160859  -9650021.18377847 -21765804.11080741]]\n",
      "[[ -8972631.68311116  -9699171.04060375 -21911922.04788234]]\n",
      "[[ -9411086.8991101   -9751942.06769964 -22087585.27669343]]\n",
      "[[ -9980091.22407771  -9820171.82060846 -22316757.34982111]]\n",
      "[[-10443106.01878904  -9872444.50503261 -22499828.12126781]]\n",
      "[[-10870924.55564434  -9925849.7421851  -22673455.35099565]]\n",
      "[[-11106417.01474837  -9954185.67355349 -22768582.7269801 ]]\n",
      "[[-12342159.51761439 -10090588.48700409 -23248051.32997935]]\n",
      "[[-12747777.5170817  -10137787.81062007 -23409436.13687027]]\n",
      "[[-14333706.62823055 -10324560.53994748 -24042987.46700576]]\n",
      "[[-15195179.28745314 -10422860.50827214 -24382069.21363173]]\n",
      "[[-15570614.53168832 -10467028.7824855  -24532085.67172258]]\n",
      "[[-16330537.28266863 -10560398.60799519 -24841320.17378287]]\n",
      "[[-16720188.85724917 -10608809.46141088 -24999408.62342539]]\n",
      "[[-17023476.60332641 -10644581.78861479 -25120865.76974792]]\n",
      "[[-17421424.90139301 -10692982.69075306 -25281289.96489567]]\n",
      "[[-19335534.25647945 -10913397.57691404 -26034938.11025248]]\n",
      "[[-19581740.15529587 -10942971.78986531 -26133757.29283052]]\n",
      "[[-19848935.26308835 -10961884.8959679  -26229570.26239839]]\n",
      "[[-20228945.84917089 -11009135.94169614 -26383851.60272257]]\n",
      "[[-22108485.93530486 -11222983.9492205  -27119507.05400563]]\n",
      "[[-22915268.43331383 -11329718.3901023  -27452460.14412117]]\n",
      "[[-25421296.50810099 -11613536.83614947 -28439584.73193003]]\n",
      "[[-25826748.56905966 -11673365.1500995  -28610941.67964052]]\n",
      "[[-26257610.76899437 -11710537.62882997 -28766505.04484036]]\n",
      "[[-26558593.43741501 -11769745.40730724 -28983215.4882546 ]]\n",
      "[[-27158136.75232551 -11875955.62745356 -29368587.1245331 ]]\n",
      "[[-29188186.38720594 -12233935.98297296 -30684779.40563225]]\n",
      "[[-29644997.75727761 -12327382.04703518 -31023071.55754412]]\n",
      "[[-32390670.97113577 -12845586.91414777 -32931883.60031011]]\n",
      "[[-32905564.06050441 -12943806.05189048 -33289899.04153449]]\n",
      "[[-35282099.76496893 -13296529.59328404 -34557474.3165226 ]]\n",
      "[[-35993138.66351026 -13443628.13508514 -35092482.58839086]]\n",
      "[[-36301741.3020274  -13499794.44867765 -35295497.12884256]]\n",
      "[[-38251251.47798285 -13815659.06333276 -36428726.76333763]]\n",
      "[[-39602933.43202037 -14136100.08927081 -37597780.66350331]]\n",
      "[[-40306151.99967723 -14277940.7266515  -38114558.99104459]]\n",
      "[[-41248239.95703594 -14456140.18552683 -38798317.1189824 ]]\n",
      "[[-42719279.05985449 -14789361.35926214 -40025773.79936713]]\n",
      "[[-43180309.30057388 -14874013.65861483 -40333885.51085752]]\n",
      "[[-43676247.44442647 -14970171.70513178 -40676019.82101376]]\n",
      "[[-44670364.64925494 -15162791.63830614 -41373975.69281818]]\n",
      "[[-44987712.21478368 -15226091.51025647 -41594899.32425307]]\n",
      "[[-45408423.560302   -15313505.83529889 -41894911.96356446]]\n",
      "[[-45810189.37434242 -15382904.2383768  -42145551.358183  ]]\n",
      "[[-46423955.83561519 -15511696.30058993 -42598441.1639284 ]]\n",
      "[[-49055979.78570876 -15940213.39732904 -44183121.85262129]]\n",
      "[[-50917033.2581647  -16285353.54242603 -45441996.74573693]]\n",
      "[[-51960353.42255473 -16441522.75729217 -46002707.34695177]]\n",
      "[[-55068584.00139613 -17028287.91301024 -48154946.01018081]]\n",
      "[[-56048042.8222798  -17246873.31332034 -48947761.84938548]]\n",
      "[[-57853587.38515784 -17512320.05474683 -49939345.75873137]]\n",
      "[[-58333008.56988263 -17605641.61819312 -50280388.6157935 ]]\n",
      "[[-58861961.25476429 -17715506.76639129 -50677927.93303335]]\n",
      "[[-59364907.46344282 -17810257.30870496 -51020732.3732762 ]]\n",
      "[[-59815462.60541149 -17900982.9581983  -51351990.88930952]]\n",
      "[[-60274735.10163739 -17985085.45874999 -51658789.65392574]]\n",
      "[[-61121175.00940753 -18132623.00983303 -52207245.42197346]]\n",
      "[[-62141975.12495995 -18261268.70260009 -52672875.18529175]]\n",
      "[[-63775296.31772886 -18484928.09033391 -53493666.84526833]]\n",
      "[[-64223391.05172417 -18572769.36574551 -53810339.71128409]]\n",
      "[[-66114444.66143482 -18922668.24281314 -55085709.564183  ]]\n",
      "[[-67944128.5100011  -19260071.40955261 -56309656.6712127 ]]\n",
      "[[-69819245.56778161 -19604607.85976649 -57577952.0117422 ]]\n",
      "[[-70844006.8948841  -19803043.52474504 -58303575.8024357 ]]\n",
      "[[-71487147.30570042 -19930692.09420579 -58766639.43113185]]\n",
      "[[-73054736.79568888 -20160807.26950225 -59575275.7048434 ]]\n",
      "[[-73293886.2550321  -20212541.34972744 -59756079.08609663]]\n",
      "[[-74868476.36537619 -20455458.92524156 -60649901.96067107]]\n",
      "[[-76171687.3850216  -20717902.99216725 -61656516.02900828]]\n",
      "[[-77907217.66771428 -21034345.91614858 -62822958.49270782]]\n",
      "[[-79042737.35260177 -21236904.59655764 -63543956.20162957]]\n",
      "[[-79510970.61623077 -21330369.76896176 -63880911.70123152]]\n",
      "[[-80307400.50016114 -21481311.2830343  -64423951.06301273]]\n",
      "[[-81753678.09687668 -21750316.73106263 -65421908.0247746 ]]\n",
      "[[-83748942.24025047 -22074539.68173839 -66607370.14725498]]\n",
      "[[-84423720.74961554 -22213638.16130017 -67150976.16864605]]\n",
      "[[-85133214.24568503 -22358298.15064921 -67673496.98768114]]\n",
      "[[-87286924.32841519 -22742733.05708959 -69061270.18421364]]\n",
      "[[-89458298.15968257 -23141814.95297609 -70544080.7525711 ]]\n",
      "[[-91119414.9615909  -23421638.50936064 -71540799.63400784]]\n",
      "[[-92272231.09777167 -23608519.85499303 -72216842.65454856]]\n",
      "[[-94298989.62508386 -23975962.37302827 -73549750.6180744 ]]\n",
      "[[-95100514.90575024 -24102781.93809714 -74005157.2116344 ]]\n",
      "[[-95788981.25370885 -24236953.43324567 -74485401.4909557 ]]\n",
      "[[-96248833.63459346 -24331766.21518898 -74826662.57614341]]\n",
      "[[-96776700.06170222 -24439308.8510058  -75215602.03270656]]\n",
      "[[-98541729.50563331 -24844146.29822836 -76671497.17791414]]\n",
      "[[-99158721.57030523 -24962897.34089351 -77102664.37724742]]\n",
      "[[-1.00881091e+08 -2.52775307e+07 -7.82527037e+07]]\n",
      "[[-1.02070210e+08 -2.54607426e+07 -7.89014856e+07]]\n",
      "[[-1.04128379e+08 -2.58626243e+07 -8.03710536e+07]]\n",
      "[[-1.04583574e+08 -2.59455691e+07 -8.06744348e+07]]\n",
      "[[-1.07235917e+08 -2.63638861e+07 -8.21980112e+07]]\n",
      "[[-1.07684860e+08 -2.64538520e+07 -8.25218683e+07]]\n",
      "[[-1.09645771e+08 -2.67696635e+07 -8.36557176e+07]]\n",
      "[[-1.10655015e+08 -2.69604886e+07 -8.43851452e+07]]\n",
      "[[-1.12063409e+08 -2.72056882e+07 -8.52833135e+07]]\n",
      "[[-1.12784788e+08 -2.73696770e+07 -8.58977805e+07]]\n",
      "[[-1.13318364e+08 -2.74744087e+07 -8.62824105e+07]]\n",
      "[[-1.13784396e+08 -2.75578783e+07 -8.65866809e+07]]\n",
      "[[-1.14149475e+08 -2.76316411e+07 -8.68580567e+07]]\n",
      "[[-1.14568350e+08 -2.77141389e+07 -8.71605900e+07]]\n",
      "[[-1.16211479e+08 -2.80569029e+07 -8.84522856e+07]]\n",
      "[[-1.18229834e+08 -2.84344581e+07 -8.98352162e+07]]\n",
      "[[-1.19999950e+08 -2.87663699e+07 -9.10393830e+07]]\n",
      "[[-1.21147087e+08 -2.89944826e+07 -9.18756505e+07]]\n",
      "[[-1.21538917e+08 -2.90739370e+07 -9.21637619e+07]]\n",
      "[[-1.22380615e+08 -2.92340226e+07 -9.27113673e+07]]\n",
      "[[-1.22914060e+08 -2.93532799e+07 -9.31556658e+07]]\n",
      "[[-1.23415527e+08 -2.94470040e+07 -9.34988283e+07]]\n",
      "[[-1.25199533e+08 -2.98150829e+07 -9.48601340e+07]]\n",
      "[[-1.26316809e+08 -3.00546583e+07 -9.57683445e+07]]\n",
      "[[-1.27310615e+08 -3.02259241e+07 -9.63940783e+07]]\n",
      "[[-1.28015396e+08 -3.03583775e+07 -9.68743786e+07]]\n",
      "[[-1.30347778e+08 -3.07717411e+07 -9.84156227e+07]]\n",
      "[[-1.31477725e+08 -3.09383566e+07 -9.90055028e+07]]\n",
      "[[-1.32884334e+08 -3.12592023e+07 -1.00175775e+08]]\n",
      "[[-1.33435932e+08 -3.13660053e+07 -1.00562965e+08]]\n",
      "[[-1.34032789e+08 -3.14958486e+07 -1.01002778e+08]]\n",
      "[[-1.34733191e+08 -3.16304785e+07 -1.01496999e+08]]\n",
      "[[-1.36818584e+08 -3.19783549e+07 -1.02768845e+08]]\n",
      "[[-1.37871495e+08 -3.21698895e+07 -1.03454237e+08]]\n",
      "[[-1.38858581e+08 -3.23488218e+07 -1.04101220e+08]]\n",
      "[[-1.41192480e+08 -3.27264267e+07 -1.05484813e+08]]\n",
      "[[-1.41666472e+08 -3.28198160e+07 -1.05829065e+08]]\n",
      "[[-1.42388854e+08 -3.29513747e+07 -1.06316050e+08]]\n",
      "[[-1.42911975e+08 -3.30541996e+07 -1.06691276e+08]]\n",
      "[[-1.43699542e+08 -3.32079863e+07 -1.07229642e+08]]\n",
      "[[-1.46403646e+08 -3.36796814e+07 -1.08972721e+08]]\n",
      "[[-1.47300966e+08 -3.38960292e+07 -1.09759276e+08]]\n",
      "[[-1.47725834e+08 -3.39842175e+07 -1.10076140e+08]]\n",
      "[[-1.49252610e+08 -3.42839766e+07 -1.11179118e+08]]\n",
      "[[-1.49952770e+08 -3.44252061e+07 -1.11694476e+08]]\n",
      "[[-1.51742283e+08 -3.47574275e+07 -1.12919077e+08]]\n",
      "[[-1.53224688e+08 -3.50497722e+07 -1.13984961e+08]]\n",
      "[[-1.54771885e+08 -3.53431902e+07 -1.15049279e+08]]\n",
      "[[-1.56489540e+08 -3.56574433e+07 -1.16206272e+08]]\n",
      "[[-1.57904072e+08 -3.59650463e+07 -1.17353312e+08]]\n",
      "[[-1.58318048e+08 -3.60424806e+07 -1.17634996e+08]]\n",
      "[[-1.59485490e+08 -3.62460068e+07 -1.18374925e+08]]\n",
      "[[-1.60295688e+08 -3.63938789e+07 -1.18917837e+08]]\n",
      "[[-1.61306576e+08 -3.65801114e+07 -1.19599883e+08]]\n",
      "[[-1.62825250e+08 -3.68791542e+07 -1.20698839e+08]]\n",
      "[[-1.64334732e+08 -3.70827689e+07 -1.21413586e+08]]\n",
      "[[-1.66846162e+08 -3.75519325e+07 -1.23126671e+08]]\n",
      "[[-1.69042889e+08 -3.79122835e+07 -1.24425371e+08]]\n",
      "[[-1.69671292e+08 -3.80418159e+07 -1.24894998e+08]]\n",
      "[[-1.70492432e+08 -3.82321526e+07 -1.25593615e+08]]\n",
      "[[-1.72077116e+08 -3.85370579e+07 -1.26701422e+08]]\n",
      "[[-1.72763452e+08 -3.86815183e+07 -1.27218134e+08]]\n",
      "[[-1.73261190e+08 -3.87830984e+07 -1.27589318e+08]]\n",
      "[[-1.74215540e+08 -3.89372934e+07 -1.28134283e+08]]\n",
      "[[-1.74790316e+08 -3.90538334e+07 -1.28562607e+08]]\n",
      "[[-1.75546561e+08 -3.91926261e+07 -1.29072527e+08]]\n",
      "[[-1.76930966e+08 -3.93904665e+07 -1.29806485e+08]]\n",
      "[[-1.77331945e+08 -3.94702776e+07 -1.30097276e+08]]\n",
      "[[-1.77950565e+08 -3.95856319e+07 -1.30515680e+08]]\n",
      "[[-1.78577562e+08 -3.97217898e+07 -1.31013431e+08]]\n",
      "[[-1.79656467e+08 -3.99905387e+07 -1.31963557e+08]]\n",
      "[[-1.81068792e+08 -4.02435380e+07 -1.32888070e+08]]\n",
      "[[-1.82377681e+08 -4.04634257e+07 -1.33686880e+08]]\n",
      "[[-1.83693686e+08 -4.07135252e+07 -1.34609356e+08]]\n",
      "[[-1.84435421e+08 -4.08188923e+07 -1.34983631e+08]]\n",
      "[[-1.84896650e+08 -4.09195750e+07 -1.35361125e+08]]\n",
      "[[-1.86931312e+08 -4.12402593e+07 -1.36496860e+08]]\n",
      "[[-1.87659461e+08 -4.13864921e+07 -1.37027703e+08]]\n",
      "[[-1.89487192e+08 -4.16396879e+07 -1.37924598e+08]]\n",
      "[[-1.90969993e+08 -4.18343552e+07 -1.38614233e+08]]\n",
      "[[-1.92338034e+08 -4.20776410e+07 -1.39503374e+08]]\n",
      "[[-1.92804646e+08 -4.21636055e+07 -1.39819954e+08]]\n",
      "[[-1.93500259e+08 -4.23078135e+07 -1.40346997e+08]]\n",
      "[[-1.94816346e+08 -4.25279078e+07 -1.41135038e+08]]\n",
      "[[-1.95672872e+08 -4.26651766e+07 -1.41634062e+08]]\n",
      "[[-1.96955057e+08 -4.29625065e+07 -1.42729885e+08]]\n",
      "[[-1.97727114e+08 -4.31102770e+07 -1.43267998e+08]]\n",
      "[[-1.98376220e+08 -4.32240694e+07 -1.43683829e+08]]\n",
      "[[-2.00776157e+08 -4.35998919e+07 -1.45003320e+08]]\n",
      "[[-2.01750024e+08 -4.37955511e+07 -1.45708225e+08]]\n",
      "[[-2.03138452e+08 -4.40598110e+07 -1.46682487e+08]]\n",
      "[[-2.03897290e+08 -4.42532853e+07 -1.47410032e+08]]\n",
      "[[-2.04348371e+08 -4.43362206e+07 -1.47714048e+08]]\n",
      "[[-2.06133253e+08 -4.47111376e+07 -1.49076135e+08]]\n",
      "[[-2.07286371e+08 -4.49512783e+07 -1.49951753e+08]]\n",
      "[[-2.08235919e+08 -4.51416005e+07 -1.50653455e+08]]\n",
      "[[-2.09359299e+08 -4.53801789e+07 -1.51520132e+08]]\n",
      "[[-2.09527554e+08 -4.54497222e+07 -1.51816890e+08]]\n",
      "[[-2.11814963e+08 -4.58050446e+07 -1.53095907e+08]]\n",
      "[[-2.13839777e+08 -4.61372669e+07 -1.54290766e+08]]\n",
      "[[-2.14818639e+08 -4.63177576e+07 -1.54953288e+08]]\n",
      "[[-2.15243866e+08 -4.64012255e+07 -1.55256013e+08]]\n",
      "[[-2.15666382e+08 -4.65023941e+07 -1.55632352e+08]]\n",
      "[[-2.17590549e+08 -4.69096328e+07 -1.57111729e+08]]\n",
      "[[-2.19158615e+08 -4.71293030e+07 -1.57890947e+08]]\n",
      "[[-2.20486417e+08 -4.74172212e+07 -1.58938560e+08]]\n",
      "[[-2.20957898e+08 -4.74968332e+07 -1.59229675e+08]]\n"
     ]
    },
    {
     "name": "stdout",
     "output_type": "stream",
     "text": [
      "[[-2.21685122e+08 -4.76128748e+07 -1.59650331e+08]]\n",
      "[[-2.22484182e+08 -4.77712583e+07 -1.60228734e+08]]\n",
      "[[-2.23808954e+08 -4.79956579e+07 -1.61029540e+08]]\n",
      "[[-2.24603713e+08 -4.81601335e+07 -1.61625294e+08]]\n",
      "[[-2.27113654e+08 -4.86462724e+07 -1.63446206e+08]]\n",
      "[[-2.27155605e+08 -4.86591801e+07 -1.63525371e+08]]\n",
      "[[-2.27464473e+08 -4.87915545e+07 -1.64046996e+08]]\n",
      "[[-2.29907191e+08 -4.92241917e+07 -1.65631440e+08]]\n",
      "[[-2.30689070e+08 -4.93991492e+07 -1.66258139e+08]]\n",
      "[[-2.31167660e+08 -4.94870645e+07 -1.66579362e+08]]\n",
      "[[-2.32471167e+08 -4.98232375e+07 -1.67813929e+08]]\n",
      "[[-2.33743617e+08 -5.01096422e+07 -1.68842687e+08]]\n",
      "[[-2.35688624e+08 -5.04699283e+07 -1.70150874e+08]]\n",
      "[[-2.37510434e+08 -5.08242325e+07 -1.71475371e+08]]\n",
      "[[-2.38774885e+08 -5.10782759e+07 -1.72390295e+08]]\n",
      "[[-2.39313153e+08 -5.11857636e+07 -1.72778066e+08]]\n",
      "[[-2.39964101e+08 -5.12972936e+07 -1.73182828e+08]]\n",
      "[[-2.40972768e+08 -5.14904520e+07 -1.73885768e+08]]\n",
      "[[-2.41852340e+08 -5.16663736e+07 -1.74520897e+08]]\n",
      "[[-2.43561655e+08 -5.20067069e+07 -1.75817774e+08]]\n",
      "[[-2.44050615e+08 -5.20921042e+07 -1.76130245e+08]]\n",
      "[[-2.46495777e+08 -5.25213801e+07 -1.77729255e+08]]\n",
      "[[-2.48006893e+08 -5.28841827e+07 -1.79052881e+08]]\n",
      "[[-2.49415045e+08 -5.32258976e+07 -1.80295205e+08]]\n",
      "[[-2.50053966e+08 -5.33336580e+07 -1.80687382e+08]]\n",
      "[[-2.51131697e+08 -5.35219278e+07 -1.81371462e+08]]\n",
      "[[-2.53003704e+08 -5.37634783e+07 -1.82237571e+08]]\n",
      "[[-2.53772672e+08 -5.40189316e+07 -1.83222938e+08]]\n",
      "[[-2.55279824e+08 -5.42442832e+07 -1.84033956e+08]]\n",
      "[[-2.55545409e+08 -5.42955165e+07 -1.84218628e+08]]\n",
      "[[-2.56146261e+08 -5.44088623e+07 -1.84630400e+08]]\n",
      "[[-2.57149208e+08 -5.46137502e+07 -1.85391494e+08]]\n",
      "[[-2.59350702e+08 -5.50803359e+07 -1.87113653e+08]]\n",
      "[[-2.60130311e+08 -5.52276427e+07 -1.87654300e+08]]\n",
      "[[-2.61069564e+08 -5.53951108e+07 -1.88262388e+08]]\n",
      "[[-2.61377251e+08 -5.55284263e+07 -1.88806112e+08]]\n",
      "[[-2.63378688e+08 -5.59512881e+07 -1.90365460e+08]]\n",
      "[[-2.65965016e+08 -5.63144843e+07 -1.91640099e+08]]\n",
      "[[-2.67193446e+08 -5.64936660e+07 -1.92277282e+08]]\n",
      "[[-2.68557287e+08 -5.67140950e+07 -1.93089688e+08]]\n",
      "[[-2.69119201e+08 -5.68238765e+07 -1.93491955e+08]]\n",
      "[[-2.71684759e+08 -5.72903986e+07 -1.95228450e+08]]\n",
      "[[-2.73441541e+08 -5.75404812e+07 -1.96124298e+08]]\n",
      "[[-2.73949943e+08 -5.76287875e+07 -1.96445128e+08]]\n",
      "[[-2.74615994e+08 -5.77530216e+07 -1.96879715e+08]]\n",
      "[[-2.75115540e+08 -5.78547369e+07 -1.97253122e+08]]\n",
      "[[-2.76624412e+08 -5.80970772e+07 -1.98121351e+08]]\n",
      "[[-2.79027912e+08 -5.85802075e+07 -1.99897767e+08]]\n",
      "[[-2.80158975e+08 -5.88019793e+07 -2.00714643e+08]]\n",
      "[[-2.80740543e+08 -5.89259828e+07 -2.01166985e+08]]\n",
      "[[-2.82035624e+08 -5.91056620e+07 -2.01800701e+08]]\n",
      "[[-2.82420042e+08 -5.91908996e+07 -2.02109252e+08]]\n",
      "[[-2.84584213e+08 -5.95524910e+07 -2.03430553e+08]]\n",
      "[[-2.85041264e+08 -5.96483501e+07 -2.03777468e+08]]\n",
      "[[-2.86141844e+08 -5.98345784e+07 -2.04447444e+08]]\n",
      "[[-2.88062085e+08 -6.01243151e+07 -2.05499660e+08]]\n",
      "[[-2.88454259e+08 -6.01996261e+07 -2.05773441e+08]]\n",
      "[[-2.88901600e+08 -6.02878861e+07 -2.06094090e+08]]\n",
      "[[-2.91177674e+08 -6.07338938e+07 -2.07717998e+08]]\n",
      "[[-2.92420602e+08 -6.09426673e+07 -2.08486319e+08]]\n",
      "[[-2.93698612e+08 -6.12046002e+07 -2.09435782e+08]]\n",
      "[[-2.95218243e+08 -6.15128991e+07 -2.10555446e+08]]\n",
      "[[-2.96516281e+08 -6.16886598e+07 -2.11175761e+08]]\n",
      "[[-2.97845866e+08 -6.19212907e+07 -2.12018117e+08]]\n",
      "[[-2.99282861e+08 -6.21637537e+07 -2.12871698e+08]]\n",
      "[[-3.00427376e+08 -6.23953469e+07 -2.13711096e+08]]\n",
      "[[-3.00711049e+08 -6.24548202e+07 -2.13926558e+08]]\n",
      "[[-3.01586438e+08 -6.26411139e+07 -2.14610773e+08]]\n",
      "[[-3.03259596e+08 -6.29909253e+07 -2.15899812e+08]]\n",
      "[[-3.04785228e+08 -6.32443303e+07 -2.16822149e+08]]\n",
      "[[-3.05235595e+08 -6.33308147e+07 -2.17135735e+08]]\n",
      "[[-3.07521810e+08 -6.37296108e+07 -2.18576279e+08]]\n",
      "[[-3.09124625e+08 -6.40620938e+07 -2.19829197e+08]]\n",
      "[[-3.11852907e+08 -6.45385913e+07 -2.21573697e+08]]\n",
      "[[-3.12349634e+08 -6.46315693e+07 -2.21913144e+08]]\n",
      "[[-3.13585328e+08 -6.48597112e+07 -2.22731929e+08]]\n",
      "[[-3.15901725e+08 -6.52368555e+07 -2.24101608e+08]]\n",
      "[[-3.17185405e+08 -6.55202165e+07 -2.25134814e+08]]\n",
      "[[-3.18474569e+08 -6.57845349e+07 -2.26104133e+08]]\n",
      "[[-3.20563311e+08 -6.61514089e+07 -2.27435843e+08]]\n",
      "[[-3.22441875e+08 -6.64204594e+07 -2.28424433e+08]]\n",
      "[[-3.23879755e+08 -6.67337698e+07 -2.29567595e+08]]\n",
      "[[-3.25599581e+08 -6.70356786e+07 -2.30681799e+08]]\n",
      "[[-3.26548560e+08 -6.72386341e+07 -2.31434144e+08]]\n",
      "[[-3.28638558e+08 -6.76117791e+07 -2.32830358e+08]]\n",
      "[[-3.30637413e+08 -6.79871240e+07 -2.34239429e+08]]\n",
      "[[-3.31851037e+08 -6.82479696e+07 -2.35176611e+08]]\n",
      "[[-3.32291665e+08 -6.83360137e+07 -2.35497613e+08]]\n",
      "[[-3.32661185e+08 -6.84120733e+07 -2.35774310e+08]]\n",
      "[[-3.33702112e+08 -6.85872134e+07 -2.36414146e+08]]\n",
      "[[-3.34548313e+08 -6.87267505e+07 -2.36931029e+08]]\n",
      "[[-3.35783796e+08 -6.89032530e+07 -2.37574548e+08]]\n",
      "[[-3.36948382e+08 -6.91246359e+07 -2.38377876e+08]]\n",
      "[[-3.38534871e+08 -6.93866932e+07 -2.39301425e+08]]\n",
      "[[-3.39274559e+08 -6.95302267e+07 -2.39825069e+08]]\n",
      "[[-3.39751115e+08 -6.96229380e+07 -2.40163188e+08]]\n",
      "[[-3.41164048e+08 -6.98901557e+07 -2.41141624e+08]]\n",
      "[[-3.43548387e+08 -7.02834872e+07 -2.42585363e+08]]\n",
      "[[-3.44109293e+08 -7.04030019e+07 -2.43015855e+08]]\n",
      "[[-3.44760043e+08 -7.05317241e+07 -2.43485116e+08]]\n",
      "[[-3.45913949e+08 -7.06923550e+07 -2.44049200e+08]]\n",
      "[[-3.46422033e+08 -7.08041423e+07 -2.44430858e+08]]\n",
      "[[-3.48647981e+08 -7.11803370e+07 -2.45798739e+08]]\n",
      "[[-3.50457268e+08 -7.15552428e+07 -2.47218445e+08]]\n",
      "[[-3.50761298e+08 -7.16159277e+07 -2.47436793e+08]]\n",
      "[[-3.52021481e+08 -7.18128427e+07 -2.48118279e+08]]\n",
      "[[-3.52473964e+08 -7.18922027e+07 -2.48403522e+08]]\n",
      "[[-3.54049184e+08 -7.22181914e+07 -2.49606646e+08]]\n",
      "[[-3.56814625e+08 -7.26985007e+07 -2.51346558e+08]]\n",
      "[[-3.58519761e+08 -7.29274673e+07 -2.52163277e+08]]\n",
      "[[-3.59964890e+08 -7.31836107e+07 -2.53107474e+08]]\n",
      "[[-3.60554294e+08 -7.32864951e+07 -2.53488716e+08]]\n",
      "[[-3.61635179e+08 -7.34926611e+07 -2.54243988e+08]]\n",
      "[[-3.63753913e+08 -7.39327907e+07 -2.55838795e+08]]\n",
      "[[-3.65391186e+08 -7.42636600e+07 -2.57050878e+08]]\n",
      "[[-3.66769291e+08 -7.45798293e+07 -2.58199734e+08]]\n",
      "[[-3.67575466e+08 -7.47575037e+07 -2.58845147e+08]]\n",
      "[[-3.67656004e+08 -7.47892484e+07 -2.58988708e+08]]\n",
      "[[-3.68607121e+08 -7.51346637e+07 -2.59434374e+08]]\n",
      "[[-3.69955184e+08 -7.56317141e+07 -2.60035641e+08]]\n",
      "[[-3.72663062e+08 -7.65429186e+07 -2.61511755e+08]]\n",
      "[[-3.74031264e+08 -7.70453903e+07 -2.62153625e+08]]\n",
      "[[-3.75565807e+08 -7.75886638e+07 -2.62710207e+08]]\n",
      "[[-3.76327346e+08 -7.78862159e+07 -2.63096924e+08]]\n",
      "[[-3.77054905e+08 -7.81533465e+07 -2.63477451e+08]]\n",
      "[[-3.79493893e+08 -7.90767712e+07 -2.64441509e+08]]\n",
      "[[-3.81717386e+08 -7.98910350e+07 -2.65759020e+08]]\n",
      "[[-3.82644573e+08 -8.02479712e+07 -2.66180425e+08]]\n",
      "[[-3.83507917e+08 -8.05685662e+07 -2.66598485e+08]]\n",
      "[[-3.85718545e+08 -8.13568820e+07 -2.67539382e+08]]\n",
      "[[-3.89707768e+08 -8.28529066e+07 -2.68844622e+08]]\n",
      "[[-3.93897895e+08 -8.42431976e+07 -2.70572093e+08]]\n",
      "[[-3.97038025e+08 -8.54797056e+07 -2.71937993e+08]]\n",
      "[[-3.98043069e+08 -8.58460568e+07 -2.72380710e+08]]\n",
      "[[-4.00163952e+08 -8.65749124e+07 -2.73480451e+08]]\n",
      "[[-4.03238808e+08 -8.76097361e+07 -2.74536895e+08]]\n",
      "[[-4.06009118e+08 -8.85436887e+07 -2.75885151e+08]]\n",
      "[[-4.06735162e+08 -8.88148277e+07 -2.76216486e+08]]\n",
      "[[-4.09091001e+08 -8.97448838e+07 -2.77205598e+08]]\n",
      "[[-4.12670639e+08 -9.09504843e+07 -2.78922464e+08]]\n",
      "[[-4.14572521e+08 -9.16416709e+07 -2.79879442e+08]]\n",
      "[[-4.15183612e+08 -9.18653697e+07 -2.80145021e+08]]\n",
      "[[-4.18928136e+08 -9.31975697e+07 -2.81884180e+08]]\n",
      "[[-4.21852640e+08 -9.42529169e+07 -2.83140363e+08]]\n",
      "[[-4.23648204e+08 -9.49350670e+07 -2.83990553e+08]]\n",
      "[[-4.24449882e+08 -9.52189239e+07 -2.84359630e+08]]\n",
      "[[-4.27033163e+08 -9.61874393e+07 -2.85701101e+08]]\n",
      "[[-4.27697685e+08 -9.64316106e+07 -2.86006779e+08]]\n",
      "[[-4.29375942e+08 -9.70432076e+07 -2.86967205e+08]]\n",
      "[[-4.31275966e+08 -9.77279740e+07 -2.87648284e+08]]\n",
      "[[-4.34568491e+08 -9.88197902e+07 -2.89300578e+08]]\n",
      "[[-4.35323921e+08 -9.90887742e+07 -2.89673205e+08]]\n",
      "[[-4.38180028e+08 -1.00056856e+08 -2.90960249e+08]]\n",
      "[[-4.41442708e+08 -1.01147431e+08 -2.92569626e+08]]\n",
      "[[-4.45339057e+08 -1.02510088e+08 -2.94114661e+08]]\n",
      "[[-4.48606023e+08 -1.03667099e+08 -2.95551978e+08]]\n",
      "[[-4.50457118e+08 -1.04426661e+08 -2.96125325e+08]]\n",
      "[[-4.54348402e+08 -1.05942013e+08 -2.97648370e+08]]\n",
      "[[-4.55429781e+08 -1.06337561e+08 -2.98149969e+08]]\n",
      "[[-4.58928709e+08 -1.07512020e+08 -2.99760441e+08]]\n",
      "[[-4.62370186e+08 -1.08856803e+08 -3.00915447e+08]]\n",
      "[[-4.63972953e+08 -1.09400802e+08 -3.02031601e+08]]\n",
      "[[-4.65356806e+08 -1.09892184e+08 -3.02659111e+08]]\n",
      "[[-4.65947693e+08 -1.10108467e+08 -3.02902311e+08]]\n",
      "[[-4.66937163e+08 -1.10446950e+08 -3.03323023e+08]]\n",
      "[[-4.69574778e+08 -1.11208659e+08 -3.04328554e+08]]\n",
      "[[-4.74427409e+08 -1.12999860e+08 -3.06357930e+08]]\n",
      "[[-4.76476340e+08 -1.13718063e+08 -3.07529143e+08]]\n",
      "[[-4.80522590e+08 -1.15235921e+08 -3.09158908e+08]]\n",
      "[[-4.83559671e+08 -1.16480243e+08 -3.10578180e+08]]\n",
      "[[-4.85642881e+08 -1.17338003e+08 -3.11258407e+08]]\n",
      "[[-4.87788866e+08 -1.18048985e+08 -3.12195365e+08]]\n",
      "[[-4.90809719e+08 -1.19137874e+08 -3.13627232e+08]]\n",
      "[[-4.93854592e+08 -1.20187053e+08 -3.14725677e+08]]\n",
      "[[-4.95752270e+08 -1.20887706e+08 -3.15276034e+08]]\n",
      "[[-4.96566058e+08 -1.21206228e+08 -3.15809207e+08]]\n",
      "[[-5.00348334e+08 -1.22280937e+08 -3.17504013e+08]]\n",
      "[[-5.01644369e+08 -1.22773804e+08 -3.18124517e+08]]\n",
      "[[-5.05152688e+08 -1.24001529e+08 -3.19517935e+08]]\n",
      "[[-5.07578393e+08 -1.24858335e+08 -3.20608858e+08]]\n",
      "[[-5.08383448e+08 -1.25162618e+08 -3.20967175e+08]]\n",
      "[[-5.11039900e+08 -1.26102784e+08 -3.22301305e+08]]\n",
      "[[-5.12296205e+08 -1.26578244e+08 -3.22954860e+08]]\n",
      "[[-5.14798547e+08 -1.27482873e+08 -3.24446945e+08]]\n",
      "[[-5.15724317e+08 -1.27831489e+08 -3.24851748e+08]]\n",
      "[[-5.19536290e+08 -1.28895453e+08 -3.26125252e+08]]\n",
      "[[-5.20573146e+08 -1.29303578e+08 -3.26632777e+08]]\n",
      "[[-5.23827112e+08 -1.30407878e+08 -3.28261887e+08]]\n",
      "[[-5.25170653e+08 -1.30903696e+08 -3.28848450e+08]]\n",
      "[[-5.25708448e+08 -1.31096014e+08 -3.29119292e+08]]\n",
      "[[-5.27327584e+08 -1.31709785e+08 -3.29845213e+08]]\n",
      "[[-5.29582037e+08 -1.32477481e+08 -3.30911863e+08]]\n",
      "[[-5.34676712e+08 -1.34209940e+08 -3.33026009e+08]]\n",
      "[[-5.36945825e+08 -1.34989850e+08 -3.34215754e+08]]\n",
      "[[-5.37853784e+08 -1.35320498e+08 -3.34600488e+08]]\n",
      "[[-5.41626922e+08 -1.36690463e+08 -3.35739569e+08]]\n",
      "[[-5.4554081e+08 -1.3814248e+08 -3.3719371e+08]]\n",
      "[[-5.46336838e+08 -1.38439444e+08 -3.37564474e+08]]\n",
      "[[-5.47770279e+08 -1.38964320e+08 -3.38170844e+08]]\n",
      "[[-5.49269909e+08 -1.39650291e+08 -3.38609467e+08]]\n",
      "[[-5.52466492e+08 -1.40780571e+08 -3.39770684e+08]]\n",
      "[[-5.56076037e+08 -1.42002356e+08 -3.41248657e+08]]\n",
      "[[-5.60388178e+08 -1.43660992e+08 -3.43032605e+08]]\n",
      "[[-5.61782393e+08 -1.44158166e+08 -3.43614161e+08]]\n",
      "[[-5.65771426e+08 -1.45615212e+08 -3.45172472e+08]]\n",
      "[[-5.69833904e+08 -1.47183243e+08 -3.46873635e+08]]\n",
      "[[-5.70399276e+08 -1.47391798e+08 -3.47137023e+08]]\n",
      "[[-5.71346492e+08 -1.47755868e+08 -3.47693268e+08]]\n",
      "[[-5.73339319e+08 -1.48445632e+08 -3.48823013e+08]]\n",
      "[[-5.75034154e+08 -1.49060716e+08 -3.49725358e+08]]\n",
      "[[-5.77433729e+08 -1.49951493e+08 -3.51057920e+08]]\n",
      "[[-5.78678952e+08 -1.50410452e+08 -3.51630503e+08]]\n",
      "[[-5.81513183e+08 -1.51405621e+08 -3.52705832e+08]]\n",
      "[[-5.85367643e+08 -1.52850471e+08 -3.53995848e+08]]\n",
      "[[-5.86470300e+08 -1.53262945e+08 -3.54521718e+08]]\n",
      "[[-5.88735284e+08 -1.54247286e+08 -3.55183901e+08]]\n",
      "[[-5.89441831e+08 -1.54521372e+08 -3.55572872e+08]]\n",
      "[[-5.90376022e+08 -1.54840751e+08 -3.56001327e+08]]\n",
      "[[-5.93548457e+08 -1.55908658e+08 -3.57748272e+08]]\n",
      "[[-5.97147724e+08 -1.57305744e+08 -3.59064363e+08]]\n",
      "[[-5.98368356e+08 -1.57699615e+08 -3.59651811e+08]]\n",
      "[[-5.99541370e+08 -1.58117975e+08 -3.60162955e+08]]\n",
      "[[-6.00832984e+08 -1.58588600e+08 -3.60721831e+08]]\n",
      "[[-6.01872416e+08 -1.58962256e+08 -3.61222099e+08]]\n",
      "[[-6.04835028e+08 -1.60111289e+08 -3.62017418e+08]]\n",
      "[[-6.05681117e+08 -1.60418794e+08 -3.62410007e+08]]\n",
      "[[-6.10188277e+08 -1.62245788e+08 -3.64342716e+08]]\n",
      "[[-6.12331515e+08 -1.62978053e+08 -3.65415876e+08]]\n",
      "[[-6.15429753e+08 -1.63928606e+08 -3.66661043e+08]]\n",
      "[[-6.18651832e+08 -1.65130268e+08 -3.68034294e+08]]\n",
      "[[-6.21085230e+08 -1.65984554e+08 -3.69251110e+08]]\n",
      "[[-6.25416992e+08 -1.67578153e+08 -3.70616960e+08]]\n",
      "[[-6.26058020e+08 -1.67818642e+08 -3.70909814e+08]]\n",
      "[[-6.26973041e+08 -1.68156463e+08 -3.71346604e+08]]\n",
      "[[-6.29897317e+08 -1.69128472e+08 -3.72661430e+08]]\n",
      "[[-6.31002318e+08 -1.69529580e+08 -3.73121398e+08]]\n",
      "[[-6.34082734e+08 -1.70879726e+08 -3.74607636e+08]]\n",
      "[[-6.37522704e+08 -1.71995095e+08 -3.76143937e+08]]\n",
      "[[-6.40492335e+08 -1.73098698e+08 -3.77451172e+08]]\n",
      "[[-6.41879160e+08 -1.73614306e+08 -3.77988683e+08]]\n"
     ]
    },
    {
     "name": "stdout",
     "output_type": "stream",
     "text": [
      "[[-6.43459343e+08 -1.74213426e+08 -3.78957923e+08]]\n",
      "[[-6.46211502e+08 -1.75201982e+08 -3.80269619e+08]]\n",
      "[[-6.47738265e+08 -1.75735057e+08 -3.81043250e+08]]\n",
      "[[-6.48823407e+08 -1.76107029e+08 -3.81502758e+08]]\n",
      "[[-6.49605677e+08 -1.76414069e+08 -3.81837639e+08]]\n",
      "[[-6.54537412e+08 -1.78223603e+08 -3.84028198e+08]]\n",
      "[[-6.55643153e+08 -1.78639729e+08 -3.84537575e+08]]\n",
      "[[-6.56483869e+08 -1.78957331e+08 -3.84955399e+08]]\n",
      "[[-6.58813876e+08 -1.79980856e+08 -3.85847780e+08]]\n",
      "[[-6.60449851e+08 -1.80584172e+08 -3.86610020e+08]]\n",
      "[[-6.61040942e+08 -1.80810126e+08 -3.86871900e+08]]\n",
      "[[-6.61906915e+08 -1.81112145e+08 -3.87269867e+08]]\n",
      "[[-6.64414021e+08 -1.82043905e+08 -3.88666993e+08]]\n",
      "[[-6.70291159e+08 -1.84162162e+08 -3.90903012e+08]]\n",
      "[[-6.72044656e+08 -1.84825991e+08 -3.91682701e+08]]\n",
      "[[-6.73221853e+08 -1.85258469e+08 -3.92216569e+08]]\n",
      "[[-6.75160953e+08 -1.86000445e+08 -3.93042267e+08]]\n",
      "[[-6.77809874e+08 -1.87357315e+08 -3.94019933e+08]]\n",
      "[[-6.78818746e+08 -1.87653964e+08 -3.94541926e+08]]\n",
      "[[-6.82644628e+08 -1.88831364e+08 -3.95961047e+08]]\n",
      "[[-6.83488002e+08 -1.89141489e+08 -3.96353947e+08]]\n",
      "[[-6.84671078e+08 -1.89565580e+08 -3.96897430e+08]]\n",
      "[[-6.85555428e+08 -1.89866709e+08 -3.97284601e+08]]\n",
      "[[-6.87615909e+08 -1.90590002e+08 -3.98281467e+08]]\n",
      "[[-6.88796414e+08 -1.91032531e+08 -3.98790926e+08]]\n",
      "[[-6.90214030e+08 -1.91535690e+08 -3.99476864e+08]]\n",
      "[[-6.90975566e+08 -1.91817124e+08 -3.99819954e+08]]\n",
      "[[-6.91796187e+08 -1.92114627e+08 -4.00220823e+08]]\n",
      "[[-6.92740302e+08 -1.92461934e+08 -4.00647709e+08]]\n",
      "[[-6.94915423e+08 -1.93247169e+08 -4.01934091e+08]]\n",
      "[[-6.97025787e+08 -1.94210069e+08 -4.02439824e+08]]\n",
      "[[-6.99949986e+08 -1.95272017e+08 -4.03818075e+08]]\n",
      "[[-7.03480557e+08 -1.96418471e+08 -4.05243757e+08]]\n",
      "[[-7.06025315e+08 -1.97277338e+08 -4.06349444e+08]]\n",
      "[[-7.06831013e+08 -1.97565626e+08 -4.06747018e+08]]\n",
      "[[-7.10150779e+08 -1.98728250e+08 -4.07863196e+08]]\n",
      "[[-7.13662295e+08 -1.99962026e+08 -4.09059258e+08]]\n",
      "[[-7.16776999e+08 -2.00991254e+08 -4.10552720e+08]]\n",
      "[[-7.17979479e+08 -2.01423759e+08 -4.11102024e+08]]\n",
      "[[-7.20579835e+08 -2.02385866e+08 -4.12427507e+08]]\n",
      "[[-7.24965219e+08 -2.03887900e+08 -4.14435230e+08]]\n",
      "[[-7.27398474e+08 -2.04864017e+08 -4.15553002e+08]]\n",
      "[[-7.28023588e+08 -2.05105182e+08 -4.15858982e+08]]\n",
      "[[-7.29637956e+08 -2.05653687e+08 -4.16624265e+08]]\n",
      "[[-7.30266817e+08 -2.05899761e+08 -4.16979137e+08]]\n",
      "[[-7.31268417e+08 -2.06270982e+08 -4.17436208e+08]]\n",
      "[[-7.32621772e+08 -2.06729470e+08 -4.18000597e+08]]\n",
      "[[-7.35175111e+08 -2.07546831e+08 -4.19258108e+08]]\n",
      "[[-7.36162843e+08 -2.07912333e+08 -4.19744942e+08]]\n",
      "[[-7.37466783e+08 -2.08376633e+08 -4.20274304e+08]]\n",
      "[[-7.39116928e+08 -2.08973048e+08 -4.20968095e+08]]\n",
      "[[-7.44073028e+08 -2.10753762e+08 -4.23207975e+08]]\n",
      "[[-7.46894647e+08 -2.11714700e+08 -4.24082698e+08]]\n",
      "[[-7.47192316e+08 -2.11821811e+08 -4.24252116e+08]]\n",
      "[[-7.51998565e+08 -2.13545857e+08 -4.26003654e+08]]\n",
      "[[-7.55205494e+08 -2.14721035e+08 -4.26952923e+08]]\n",
      "[[-7.57296528e+08 -2.15282997e+08 -4.27753611e+08]]\n",
      "[[-7.58756021e+08 -2.15836187e+08 -4.28622603e+08]]\n",
      "[[-7.60505236e+08 -2.16465116e+08 -4.29449049e+08]]\n",
      "[[-7.64427336e+08 -2.17946524e+08 -4.31250304e+08]]\n",
      "[[-7.67933783e+08 -2.19190855e+08 -4.33028291e+08]]\n",
      "[[-7.71629422e+08 -2.20529881e+08 -4.34760230e+08]]\n",
      "[[-7.75370573e+08 -2.21936929e+08 -4.36733338e+08]]\n",
      "[[-7.77241978e+08 -2.22636961e+08 -4.37320755e+08]]\n",
      "[[-7.79394115e+08 -2.23416401e+08 -4.37999970e+08]]\n",
      "[[-7.80076384e+08 -2.23668968e+08 -4.38366386e+08]]\n",
      "[[-7.81270252e+08 -2.24065033e+08 -4.39013486e+08]]\n",
      "[[-7.83611129e+08 -2.24909929e+08 -4.40098255e+08]]\n",
      "[[-7.86738645e+08 -2.26036851e+08 -4.41401266e+08]]\n",
      "[[-7.89419164e+08 -2.26966072e+08 -4.42285483e+08]]\n",
      "[[-7.92334706e+08 -2.28178753e+08 -4.43249603e+08]]\n",
      "[[-7.95848314e+08 -2.29293482e+08 -4.44749449e+08]]\n",
      "[[-8.00052958e+08 -2.30838818e+08 -4.46409966e+08]]\n",
      "[[-8.01322612e+08 -2.31293867e+08 -4.47045049e+08]]\n",
      "[[-8.05351759e+08 -2.32489173e+08 -4.48573279e+08]]\n",
      "[[-8.06501489e+08 -2.32900897e+08 -4.49088525e+08]]\n",
      "[[-8.09513783e+08 -2.34005289e+08 -4.50337787e+08]]\n",
      "[[-8.11597387e+08 -2.34728597e+08 -4.51388317e+08]]\n",
      "[[-8.14381204e+08 -2.35645296e+08 -4.52486014e+08]]\n",
      "[[-8.16850962e+08 -2.36717399e+08 -4.53453029e+08]]\n",
      "[[-8.19483619e+08 -2.37656081e+08 -4.54784054e+08]]\n",
      "[[-8.20197775e+08 -2.37919525e+08 -4.55131442e+08]]\n",
      "[[-8.22505301e+08 -2.38759069e+08 -4.56317203e+08]]\n",
      "[[-8.24607469e+08 -2.39652309e+08 -4.57291175e+08]]\n",
      "[[-8.25557837e+08 -2.39999145e+08 -4.57741498e+08]]\n",
      "[[-8.26115689e+08 -2.40198340e+08 -4.58006535e+08]]\n",
      "[[-8.29529315e+08 -2.41290976e+08 -4.59157966e+08]]\n",
      "[[-8.31349061e+08 -2.41964307e+08 -4.59851242e+08]]\n",
      "[[-8.32092690e+08 -2.42244159e+08 -4.60186732e+08]]\n",
      "[[-8.35351870e+08 -2.43351919e+08 -4.61914932e+08]]\n",
      "[[-8.36248627e+08 -2.43696234e+08 -4.62370784e+08]]\n",
      "[[-8.39681002e+08 -2.44917583e+08 -4.64081535e+08]]\n",
      "[[-8.40586828e+08 -2.45258542e+08 -4.64490836e+08]]\n",
      "[[-8.46113157e+08 -2.47215512e+08 -4.66728698e+08]]\n",
      "[[-8.48283053e+08 -2.47924544e+08 -4.67915693e+08]]\n",
      "[[-8.49404732e+08 -2.48332023e+08 -4.68453684e+08]]\n",
      "[[-8.53853896e+08 -2.49786137e+08 -4.69760300e+08]]\n",
      "[[-8.56064074e+08 -2.50607426e+08 -4.71043000e+08]]\n",
      "[[-8.59895805e+08 -2.51786074e+08 -4.72312622e+08]]\n",
      "[[-8.60615339e+08 -2.52063477e+08 -4.72628427e+08]]\n",
      "[[-8.63900147e+08 -2.53255841e+08 -4.74133629e+08]]\n",
      "[[-8.66030339e+08 -2.54025809e+08 -4.75201540e+08]]\n",
      "[[-8.66638623e+08 -2.54261656e+08 -4.75591714e+08]]\n",
      "[[-8.68308374e+08 -2.54878866e+08 -4.76313391e+08]]\n",
      "[[-8.72250795e+08 -2.56346971e+08 -4.77937580e+08]]\n",
      "[[-8.74362183e+08 -2.57036934e+08 -4.78849112e+08]]\n",
      "[[-8.78401358e+08 -2.58562964e+08 -4.80036619e+08]]\n",
      "[[-8.81409199e+08 -2.59714999e+08 -4.81361315e+08]]\n",
      "[[-8.85585470e+08 -2.61189124e+08 -4.83256118e+08]]\n",
      "[[-8.89800067e+08 -2.62615806e+08 -4.85372131e+08]]\n",
      "[[-8.91464240e+08 -2.63182278e+08 -4.86171957e+08]]\n",
      "[[-8.94346261e+08 -2.64211379e+08 -4.87438807e+08]]\n",
      "[[-8.95118179e+08 -2.64526144e+08 -4.87809788e+08]]\n",
      "[[-8.98409082e+08 -2.65405194e+08 -4.88916728e+08]]\n",
      "[[-9.00076780e+08 -2.65995986e+08 -4.89764839e+08]]\n",
      "[[-9.00670117e+08 -2.66222790e+08 -4.90027654e+08]]\n",
      "[[-9.01940357e+08 -2.66676377e+08 -4.90485098e+08]]\n",
      "[[-9.02653508e+08 -2.66933602e+08 -4.90802945e+08]]\n",
      "[[-9.05111327e+08 -2.67763216e+08 -4.91949206e+08]]\n",
      "[[-9.07568333e+08 -2.68695791e+08 -4.92754932e+08]]\n",
      "[[-9.10322598e+08 -2.69821884e+08 -4.93861463e+08]]\n",
      "[[-9.13727355e+08 -2.70918940e+08 -4.95652857e+08]]\n",
      "[[-9.17269121e+08 -2.72048482e+08 -4.97319783e+08]]\n",
      "[[-9.19030176e+08 -2.72714515e+08 -4.98097072e+08]]\n",
      "[[-9.19598605e+08 -2.72924970e+08 -4.98359326e+08]]\n",
      "[[-9.20732854e+08 -2.73337213e+08 -4.98868842e+08]]\n",
      "[[-9.24549235e+08 -2.74751473e+08 -5.00518607e+08]]\n",
      "[[-9.25826119e+08 -2.75223510e+08 -5.01089762e+08]]\n",
      "[[-9.26697033e+08 -2.75543310e+08 -5.01502752e+08]]\n",
      "[[-9.28904153e+08 -2.76335742e+08 -5.02611360e+08]]\n",
      "[[-9.30899669e+08 -2.77097598e+08 -5.03253680e+08]]\n",
      "[[-9.32012463e+08 -2.77501743e+08 -5.03782214e+08]]\n",
      "[[-9.33185361e+08 -2.77951913e+08 -5.04390339e+08]]\n",
      "[[-9.33911110e+08 -2.78224372e+08 -5.04695201e+08]]\n",
      "[[-9.35207129e+08 -2.78707158e+08 -5.05343230e+08]]\n",
      "[[-9.36209776e+08 -2.79074877e+08 -5.05791786e+08]]\n",
      "[[-9.37218441e+08 -2.79433121e+08 -5.06245789e+08]]\n",
      "[[-9.38559816e+08 -2.79915408e+08 -5.06849442e+08]]\n",
      "[[-9.40319313e+08 -2.80538558e+08 -5.07756587e+08]]\n",
      "[[-9.41429856e+08 -2.80971776e+08 -5.08343933e+08]]\n",
      "[[-9.42718202e+08 -2.81430182e+08 -5.08911371e+08]]\n",
      "[[-9.43339904e+08 -2.81660344e+08 -5.09199908e+08]]\n",
      "[[-9.44847063e+08 -2.82184142e+08 -5.10017527e+08]]\n",
      "[[-9.45428749e+08 -2.82403924e+08 -5.10284781e+08]]\n"
     ]
    },
    {
     "ename": "KeyboardInterrupt",
     "evalue": "",
     "output_type": "error",
     "traceback": [
      "\u001b[0;31m---------------------------------------------------------------------------\u001b[0m",
      "\u001b[0;31mKeyboardInterrupt\u001b[0m                         Traceback (most recent call last)",
      "Cell \u001b[0;32mIn [1731], line 2\u001b[0m\n\u001b[1;32m      1\u001b[0m \u001b[38;5;28mprint\u001b[39m(weight1[\u001b[38;5;241m456\u001b[39m])\n\u001b[0;32m----> 2\u001b[0m weight1 ,weight2, check , output\u001b[38;5;241m=\u001b[39m \u001b[43mmultipleBlocksWithMemoryElement\u001b[49m\u001b[43m(\u001b[49m\u001b[38;5;241;43m1\u001b[39;49m\u001b[43m,\u001b[49m\u001b[43mX_train_filter\u001b[49m\u001b[43m,\u001b[49m\u001b[43mweight1\u001b[49m\u001b[43m,\u001b[49m\u001b[43mweight2\u001b[49m\u001b[43m)\u001b[49m\n",
      "Cell \u001b[0;32mIn [1727], line 44\u001b[0m, in \u001b[0;36mmultipleBlocksWithMemoryElement\u001b[0;34m(epoch, inputImage, weight1, weight2)\u001b[0m\n\u001b[1;32m     42\u001b[0m             \u001b[38;5;66;03m#print(output)\u001b[39;00m\n\u001b[1;32m     43\u001b[0m             output2nLayer \u001b[38;5;241m=\u001b[39m np\u001b[38;5;241m.\u001b[39mdot(output\u001b[38;5;241m.\u001b[39mT,weight2)\n\u001b[0;32m---> 44\u001b[0m             \u001b[38;5;28;43mprint\u001b[39;49m\u001b[43m(\u001b[49m\u001b[43moutput2nLayer\u001b[49m\u001b[43m)\u001b[49m\n\u001b[1;32m     45\u001b[0m             \u001b[38;5;66;03m#print(output2nLayer)\u001b[39;00m\n\u001b[1;32m     46\u001b[0m \u001b[38;5;66;03m#             for outputNeuronIndex in range(output2nLayer.shape[1]):\u001b[39;00m\n\u001b[1;32m     47\u001b[0m \u001b[38;5;66;03m#                 print(output2nLayer[0][outputNeuronIndex])\u001b[39;00m\n\u001b[0;32m   (...)\u001b[0m\n\u001b[1;32m     60\u001b[0m \u001b[38;5;66;03m#                         else:\u001b[39;00m\n\u001b[1;32m     61\u001b[0m \u001b[38;5;66;03m#                             weight2[index][outputNeuronIndex] = weight2[index][outputNeuronIndex] - alpha * output2nLayer[0][outputNeuronIndex]\u001b[39;00m\n\u001b[1;32m     63\u001b[0m         \u001b[38;5;28mprint\u001b[39m(\u001b[38;5;124mf\u001b[39m\u001b[38;5;124m\"\u001b[39m\u001b[38;5;124mEpoch : \u001b[39m\u001b[38;5;132;01m{\u001b[39;00mepoch_\u001b[38;5;132;01m}\u001b[39;00m\u001b[38;5;124m Completed\u001b[39m\u001b[38;5;124m\"\u001b[39m)\n",
      "File \u001b[0;32m/opt/miniconda3/envs/tensorflow/lib/python3.9/site-packages/numpy/core/arrayprint.py:1592\u001b[0m, in \u001b[0;36m_array_str_implementation\u001b[0;34m(a, max_line_width, precision, suppress_small, array2string)\u001b[0m\n\u001b[1;32m   1586\u001b[0m \u001b[38;5;28;01mif\u001b[39;00m a\u001b[38;5;241m.\u001b[39mshape \u001b[38;5;241m==\u001b[39m ():\n\u001b[1;32m   1587\u001b[0m     \u001b[38;5;66;03m# obtain a scalar and call str on it, avoiding problems for subclasses\u001b[39;00m\n\u001b[1;32m   1588\u001b[0m     \u001b[38;5;66;03m# for which indexing with () returns a 0d instead of a scalar by using\u001b[39;00m\n\u001b[1;32m   1589\u001b[0m     \u001b[38;5;66;03m# ndarray's getindex. Also guard against recursive 0d object arrays.\u001b[39;00m\n\u001b[1;32m   1590\u001b[0m     \u001b[38;5;28;01mreturn\u001b[39;00m _guarded_repr_or_str(np\u001b[38;5;241m.\u001b[39mndarray\u001b[38;5;241m.\u001b[39m\u001b[38;5;21m__getitem__\u001b[39m(a, ()))\n\u001b[0;32m-> 1592\u001b[0m \u001b[38;5;28;01mreturn\u001b[39;00m \u001b[43marray2string\u001b[49m\u001b[43m(\u001b[49m\u001b[43ma\u001b[49m\u001b[43m,\u001b[49m\u001b[43m \u001b[49m\u001b[43mmax_line_width\u001b[49m\u001b[43m,\u001b[49m\u001b[43m \u001b[49m\u001b[43mprecision\u001b[49m\u001b[43m,\u001b[49m\u001b[43m \u001b[49m\u001b[43msuppress_small\u001b[49m\u001b[43m,\u001b[49m\u001b[43m \u001b[49m\u001b[38;5;124;43m'\u001b[39;49m\u001b[38;5;124;43m \u001b[39;49m\u001b[38;5;124;43m'\u001b[39;49m\u001b[43m,\u001b[49m\u001b[43m \u001b[49m\u001b[38;5;124;43m\"\u001b[39;49m\u001b[38;5;124;43m\"\u001b[39;49m\u001b[43m)\u001b[49m\n",
      "File \u001b[0;32m/opt/miniconda3/envs/tensorflow/lib/python3.9/site-packages/numpy/core/arrayprint.py:736\u001b[0m, in \u001b[0;36marray2string\u001b[0;34m(a, max_line_width, precision, suppress_small, separator, prefix, style, formatter, threshold, edgeitems, sign, floatmode, suffix, legacy)\u001b[0m\n\u001b[1;32m    733\u001b[0m \u001b[38;5;28;01mif\u001b[39;00m a\u001b[38;5;241m.\u001b[39msize \u001b[38;5;241m==\u001b[39m \u001b[38;5;241m0\u001b[39m:\n\u001b[1;32m    734\u001b[0m     \u001b[38;5;28;01mreturn\u001b[39;00m \u001b[38;5;124m\"\u001b[39m\u001b[38;5;124m[]\u001b[39m\u001b[38;5;124m\"\u001b[39m\n\u001b[0;32m--> 736\u001b[0m \u001b[38;5;28;01mreturn\u001b[39;00m \u001b[43m_array2string\u001b[49m\u001b[43m(\u001b[49m\u001b[43ma\u001b[49m\u001b[43m,\u001b[49m\u001b[43m \u001b[49m\u001b[43moptions\u001b[49m\u001b[43m,\u001b[49m\u001b[43m \u001b[49m\u001b[43mseparator\u001b[49m\u001b[43m,\u001b[49m\u001b[43m \u001b[49m\u001b[43mprefix\u001b[49m\u001b[43m)\u001b[49m\n",
      "File \u001b[0;32m/opt/miniconda3/envs/tensorflow/lib/python3.9/site-packages/numpy/core/arrayprint.py:513\u001b[0m, in \u001b[0;36m_recursive_guard.<locals>.decorating_function.<locals>.wrapper\u001b[0;34m(self, *args, **kwargs)\u001b[0m\n\u001b[1;32m    511\u001b[0m repr_running\u001b[38;5;241m.\u001b[39madd(key)\n\u001b[1;32m    512\u001b[0m \u001b[38;5;28;01mtry\u001b[39;00m:\n\u001b[0;32m--> 513\u001b[0m     \u001b[38;5;28;01mreturn\u001b[39;00m \u001b[43mf\u001b[49m\u001b[43m(\u001b[49m\u001b[38;5;28;43mself\u001b[39;49m\u001b[43m,\u001b[49m\u001b[43m \u001b[49m\u001b[38;5;241;43m*\u001b[39;49m\u001b[43margs\u001b[49m\u001b[43m,\u001b[49m\u001b[43m \u001b[49m\u001b[38;5;241;43m*\u001b[39;49m\u001b[38;5;241;43m*\u001b[39;49m\u001b[43mkwargs\u001b[49m\u001b[43m)\u001b[49m\n\u001b[1;32m    514\u001b[0m \u001b[38;5;28;01mfinally\u001b[39;00m:\n\u001b[1;32m    515\u001b[0m     repr_running\u001b[38;5;241m.\u001b[39mdiscard(key)\n",
      "File \u001b[0;32m/opt/miniconda3/envs/tensorflow/lib/python3.9/site-packages/numpy/core/arrayprint.py:539\u001b[0m, in \u001b[0;36m_array2string\u001b[0;34m(a, options, separator, prefix)\u001b[0m\n\u001b[1;32m    536\u001b[0m     summary_insert \u001b[38;5;241m=\u001b[39m \u001b[38;5;124m\"\u001b[39m\u001b[38;5;124m\"\u001b[39m\n\u001b[1;32m    538\u001b[0m \u001b[38;5;66;03m# find the right formatting function for the array\u001b[39;00m\n\u001b[0;32m--> 539\u001b[0m format_function \u001b[38;5;241m=\u001b[39m \u001b[43m_get_format_function\u001b[49m\u001b[43m(\u001b[49m\u001b[43mdata\u001b[49m\u001b[43m,\u001b[49m\u001b[43m \u001b[49m\u001b[38;5;241;43m*\u001b[39;49m\u001b[38;5;241;43m*\u001b[39;49m\u001b[43moptions\u001b[49m\u001b[43m)\u001b[49m\n\u001b[1;32m    541\u001b[0m \u001b[38;5;66;03m# skip over \"[\"\u001b[39;00m\n\u001b[1;32m    542\u001b[0m next_line_prefix \u001b[38;5;241m=\u001b[39m \u001b[38;5;124m\"\u001b[39m\u001b[38;5;124m \u001b[39m\u001b[38;5;124m\"\u001b[39m\n",
      "File \u001b[0;32m/opt/miniconda3/envs/tensorflow/lib/python3.9/site-packages/numpy/core/arrayprint.py:472\u001b[0m, in \u001b[0;36m_get_format_function\u001b[0;34m(data, **options)\u001b[0m\n\u001b[1;32m    470\u001b[0m         \u001b[38;5;28;01mreturn\u001b[39;00m formatdict[\u001b[38;5;124m'\u001b[39m\u001b[38;5;124mlongfloat\u001b[39m\u001b[38;5;124m'\u001b[39m]()\n\u001b[1;32m    471\u001b[0m     \u001b[38;5;28;01melse\u001b[39;00m:\n\u001b[0;32m--> 472\u001b[0m         \u001b[38;5;28;01mreturn\u001b[39;00m \u001b[43mformatdict\u001b[49m\u001b[43m[\u001b[49m\u001b[38;5;124;43m'\u001b[39;49m\u001b[38;5;124;43mfloat\u001b[39;49m\u001b[38;5;124;43m'\u001b[39;49m\u001b[43m]\u001b[49m\u001b[43m(\u001b[49m\u001b[43m)\u001b[49m\n\u001b[1;32m    473\u001b[0m \u001b[38;5;28;01melif\u001b[39;00m \u001b[38;5;28missubclass\u001b[39m(dtypeobj, _nt\u001b[38;5;241m.\u001b[39mcomplexfloating):\n\u001b[1;32m    474\u001b[0m     \u001b[38;5;28;01mif\u001b[39;00m \u001b[38;5;28missubclass\u001b[39m(dtypeobj, _nt\u001b[38;5;241m.\u001b[39mclongfloat):\n",
      "File \u001b[0;32m/opt/miniconda3/envs/tensorflow/lib/python3.9/site-packages/numpy/core/arrayprint.py:411\u001b[0m, in \u001b[0;36m_get_formatdict.<locals>.<lambda>\u001b[0;34m()\u001b[0m\n\u001b[1;32m    403\u001b[0m \u001b[38;5;28;01mdef\u001b[39;00m \u001b[38;5;21m_get_formatdict\u001b[39m(data, \u001b[38;5;241m*\u001b[39m, precision, floatmode, suppress, sign, legacy,\n\u001b[1;32m    404\u001b[0m                     formatter, \u001b[38;5;241m*\u001b[39m\u001b[38;5;241m*\u001b[39mkwargs):\n\u001b[1;32m    405\u001b[0m     \u001b[38;5;66;03m# note: extra arguments in kwargs are ignored\u001b[39;00m\n\u001b[1;32m    406\u001b[0m \n\u001b[1;32m    407\u001b[0m     \u001b[38;5;66;03m# wrapped in lambdas to avoid taking a code path with the wrong type of data\u001b[39;00m\n\u001b[1;32m    408\u001b[0m     formatdict \u001b[38;5;241m=\u001b[39m {\n\u001b[1;32m    409\u001b[0m         \u001b[38;5;124m'\u001b[39m\u001b[38;5;124mbool\u001b[39m\u001b[38;5;124m'\u001b[39m: \u001b[38;5;28;01mlambda\u001b[39;00m: BoolFormat(data),\n\u001b[1;32m    410\u001b[0m         \u001b[38;5;124m'\u001b[39m\u001b[38;5;124mint\u001b[39m\u001b[38;5;124m'\u001b[39m: \u001b[38;5;28;01mlambda\u001b[39;00m: IntegerFormat(data),\n\u001b[0;32m--> 411\u001b[0m         \u001b[38;5;124m'\u001b[39m\u001b[38;5;124mfloat\u001b[39m\u001b[38;5;124m'\u001b[39m: \u001b[38;5;28;01mlambda\u001b[39;00m: \u001b[43mFloatingFormat\u001b[49m\u001b[43m(\u001b[49m\n\u001b[1;32m    412\u001b[0m \u001b[43m            \u001b[49m\u001b[43mdata\u001b[49m\u001b[43m,\u001b[49m\u001b[43m \u001b[49m\u001b[43mprecision\u001b[49m\u001b[43m,\u001b[49m\u001b[43m \u001b[49m\u001b[43mfloatmode\u001b[49m\u001b[43m,\u001b[49m\u001b[43m \u001b[49m\u001b[43msuppress\u001b[49m\u001b[43m,\u001b[49m\u001b[43m \u001b[49m\u001b[43msign\u001b[49m\u001b[43m,\u001b[49m\u001b[43m \u001b[49m\u001b[43mlegacy\u001b[49m\u001b[38;5;241;43m=\u001b[39;49m\u001b[43mlegacy\u001b[49m\u001b[43m)\u001b[49m,\n\u001b[1;32m    413\u001b[0m         \u001b[38;5;124m'\u001b[39m\u001b[38;5;124mlongfloat\u001b[39m\u001b[38;5;124m'\u001b[39m: \u001b[38;5;28;01mlambda\u001b[39;00m: FloatingFormat(\n\u001b[1;32m    414\u001b[0m             data, precision, floatmode, suppress, sign, legacy\u001b[38;5;241m=\u001b[39mlegacy),\n\u001b[1;32m    415\u001b[0m         \u001b[38;5;124m'\u001b[39m\u001b[38;5;124mcomplexfloat\u001b[39m\u001b[38;5;124m'\u001b[39m: \u001b[38;5;28;01mlambda\u001b[39;00m: ComplexFloatingFormat(\n\u001b[1;32m    416\u001b[0m             data, precision, floatmode, suppress, sign, legacy\u001b[38;5;241m=\u001b[39mlegacy),\n\u001b[1;32m    417\u001b[0m         \u001b[38;5;124m'\u001b[39m\u001b[38;5;124mlongcomplexfloat\u001b[39m\u001b[38;5;124m'\u001b[39m: \u001b[38;5;28;01mlambda\u001b[39;00m: ComplexFloatingFormat(\n\u001b[1;32m    418\u001b[0m             data, precision, floatmode, suppress, sign, legacy\u001b[38;5;241m=\u001b[39mlegacy),\n\u001b[1;32m    419\u001b[0m         \u001b[38;5;124m'\u001b[39m\u001b[38;5;124mdatetime\u001b[39m\u001b[38;5;124m'\u001b[39m: \u001b[38;5;28;01mlambda\u001b[39;00m: DatetimeFormat(data, legacy\u001b[38;5;241m=\u001b[39mlegacy),\n\u001b[1;32m    420\u001b[0m         \u001b[38;5;124m'\u001b[39m\u001b[38;5;124mtimedelta\u001b[39m\u001b[38;5;124m'\u001b[39m: \u001b[38;5;28;01mlambda\u001b[39;00m: TimedeltaFormat(data),\n\u001b[1;32m    421\u001b[0m         \u001b[38;5;124m'\u001b[39m\u001b[38;5;124mobject\u001b[39m\u001b[38;5;124m'\u001b[39m: \u001b[38;5;28;01mlambda\u001b[39;00m: _object_format,\n\u001b[1;32m    422\u001b[0m         \u001b[38;5;124m'\u001b[39m\u001b[38;5;124mvoid\u001b[39m\u001b[38;5;124m'\u001b[39m: \u001b[38;5;28;01mlambda\u001b[39;00m: str_format,\n\u001b[1;32m    423\u001b[0m         \u001b[38;5;124m'\u001b[39m\u001b[38;5;124mnumpystr\u001b[39m\u001b[38;5;124m'\u001b[39m: \u001b[38;5;28;01mlambda\u001b[39;00m: repr_format}\n\u001b[1;32m    425\u001b[0m     \u001b[38;5;66;03m# we need to wrap values in `formatter` in a lambda, so that the interface\u001b[39;00m\n\u001b[1;32m    426\u001b[0m     \u001b[38;5;66;03m# is the same as the above values.\u001b[39;00m\n\u001b[1;32m    427\u001b[0m     \u001b[38;5;28;01mdef\u001b[39;00m \u001b[38;5;21mindirect\u001b[39m(x):\n",
      "File \u001b[0;32m/opt/miniconda3/envs/tensorflow/lib/python3.9/site-packages/numpy/core/arrayprint.py:932\u001b[0m, in \u001b[0;36mFloatingFormat.__init__\u001b[0;34m(self, data, precision, floatmode, suppress_small, sign, legacy)\u001b[0m\n\u001b[1;32m    929\u001b[0m \u001b[38;5;28mself\u001b[39m\u001b[38;5;241m.\u001b[39mexp_format \u001b[38;5;241m=\u001b[39m \u001b[38;5;28;01mFalse\u001b[39;00m\n\u001b[1;32m    930\u001b[0m \u001b[38;5;28mself\u001b[39m\u001b[38;5;241m.\u001b[39mlarge_exponent \u001b[38;5;241m=\u001b[39m \u001b[38;5;28;01mFalse\u001b[39;00m\n\u001b[0;32m--> 932\u001b[0m \u001b[38;5;28;43mself\u001b[39;49m\u001b[38;5;241;43m.\u001b[39;49m\u001b[43mfillFormat\u001b[49m\u001b[43m(\u001b[49m\u001b[43mdata\u001b[49m\u001b[43m)\u001b[49m\n",
      "File \u001b[0;32m/opt/miniconda3/envs/tensorflow/lib/python3.9/site-packages/numpy/core/arrayprint.py:941\u001b[0m, in \u001b[0;36mFloatingFormat.fillFormat\u001b[0;34m(self, data)\u001b[0m\n\u001b[1;32m    939\u001b[0m abs_non_zero \u001b[38;5;241m=\u001b[39m absolute(finite_vals[finite_vals \u001b[38;5;241m!=\u001b[39m \u001b[38;5;241m0\u001b[39m])\n\u001b[1;32m    940\u001b[0m \u001b[38;5;28;01mif\u001b[39;00m \u001b[38;5;28mlen\u001b[39m(abs_non_zero) \u001b[38;5;241m!=\u001b[39m \u001b[38;5;241m0\u001b[39m:\n\u001b[0;32m--> 941\u001b[0m     max_val \u001b[38;5;241m=\u001b[39m \u001b[43mnp\u001b[49m\u001b[38;5;241;43m.\u001b[39;49m\u001b[43mmax\u001b[49m\u001b[43m(\u001b[49m\u001b[43mabs_non_zero\u001b[49m\u001b[43m)\u001b[49m\n\u001b[1;32m    942\u001b[0m     min_val \u001b[38;5;241m=\u001b[39m np\u001b[38;5;241m.\u001b[39mmin(abs_non_zero)\n\u001b[1;32m    943\u001b[0m     \u001b[38;5;28;01mwith\u001b[39;00m errstate(over\u001b[38;5;241m=\u001b[39m\u001b[38;5;124m'\u001b[39m\u001b[38;5;124mignore\u001b[39m\u001b[38;5;124m'\u001b[39m):  \u001b[38;5;66;03m# division can overflow\u001b[39;00m\n",
      "File \u001b[0;32m<__array_function__ internals>:180\u001b[0m, in \u001b[0;36mamax\u001b[0;34m(*args, **kwargs)\u001b[0m\n",
      "File \u001b[0;32m/opt/miniconda3/envs/tensorflow/lib/python3.9/site-packages/numpy/core/fromnumeric.py:2793\u001b[0m, in \u001b[0;36mamax\u001b[0;34m(a, axis, out, keepdims, initial, where)\u001b[0m\n\u001b[1;32m   2677\u001b[0m \u001b[38;5;129m@array_function_dispatch\u001b[39m(_amax_dispatcher)\n\u001b[1;32m   2678\u001b[0m \u001b[38;5;28;01mdef\u001b[39;00m \u001b[38;5;21mamax\u001b[39m(a, axis\u001b[38;5;241m=\u001b[39m\u001b[38;5;28;01mNone\u001b[39;00m, out\u001b[38;5;241m=\u001b[39m\u001b[38;5;28;01mNone\u001b[39;00m, keepdims\u001b[38;5;241m=\u001b[39mnp\u001b[38;5;241m.\u001b[39m_NoValue, initial\u001b[38;5;241m=\u001b[39mnp\u001b[38;5;241m.\u001b[39m_NoValue,\n\u001b[1;32m   2679\u001b[0m          where\u001b[38;5;241m=\u001b[39mnp\u001b[38;5;241m.\u001b[39m_NoValue):\n\u001b[1;32m   2680\u001b[0m     \u001b[38;5;124;03m\"\"\"\u001b[39;00m\n\u001b[1;32m   2681\u001b[0m \u001b[38;5;124;03m    Return the maximum of an array or maximum along an axis.\u001b[39;00m\n\u001b[1;32m   2682\u001b[0m \n\u001b[0;32m   (...)\u001b[0m\n\u001b[1;32m   2791\u001b[0m \u001b[38;5;124;03m    5\u001b[39;00m\n\u001b[1;32m   2792\u001b[0m \u001b[38;5;124;03m    \"\"\"\u001b[39;00m\n\u001b[0;32m-> 2793\u001b[0m     \u001b[38;5;28;01mreturn\u001b[39;00m \u001b[43m_wrapreduction\u001b[49m\u001b[43m(\u001b[49m\u001b[43ma\u001b[49m\u001b[43m,\u001b[49m\u001b[43m \u001b[49m\u001b[43mnp\u001b[49m\u001b[38;5;241;43m.\u001b[39;49m\u001b[43mmaximum\u001b[49m\u001b[43m,\u001b[49m\u001b[43m \u001b[49m\u001b[38;5;124;43m'\u001b[39;49m\u001b[38;5;124;43mmax\u001b[39;49m\u001b[38;5;124;43m'\u001b[39;49m\u001b[43m,\u001b[49m\u001b[43m \u001b[49m\u001b[43maxis\u001b[49m\u001b[43m,\u001b[49m\u001b[43m \u001b[49m\u001b[38;5;28;43;01mNone\u001b[39;49;00m\u001b[43m,\u001b[49m\u001b[43m \u001b[49m\u001b[43mout\u001b[49m\u001b[43m,\u001b[49m\n\u001b[1;32m   2794\u001b[0m \u001b[43m                          \u001b[49m\u001b[43mkeepdims\u001b[49m\u001b[38;5;241;43m=\u001b[39;49m\u001b[43mkeepdims\u001b[49m\u001b[43m,\u001b[49m\u001b[43m \u001b[49m\u001b[43minitial\u001b[49m\u001b[38;5;241;43m=\u001b[39;49m\u001b[43minitial\u001b[49m\u001b[43m,\u001b[49m\u001b[43m \u001b[49m\u001b[43mwhere\u001b[49m\u001b[38;5;241;43m=\u001b[39;49m\u001b[43mwhere\u001b[49m\u001b[43m)\u001b[49m\n",
      "File \u001b[0;32m/opt/miniconda3/envs/tensorflow/lib/python3.9/site-packages/numpy/core/fromnumeric.py:86\u001b[0m, in \u001b[0;36m_wrapreduction\u001b[0;34m(obj, ufunc, method, axis, dtype, out, **kwargs)\u001b[0m\n\u001b[1;32m     83\u001b[0m         \u001b[38;5;28;01melse\u001b[39;00m:\n\u001b[1;32m     84\u001b[0m             \u001b[38;5;28;01mreturn\u001b[39;00m reduction(axis\u001b[38;5;241m=\u001b[39maxis, out\u001b[38;5;241m=\u001b[39mout, \u001b[38;5;241m*\u001b[39m\u001b[38;5;241m*\u001b[39mpasskwargs)\n\u001b[0;32m---> 86\u001b[0m \u001b[38;5;28;01mreturn\u001b[39;00m ufunc\u001b[38;5;241m.\u001b[39mreduce(obj, axis, dtype, out, \u001b[38;5;241m*\u001b[39m\u001b[38;5;241m*\u001b[39mpasskwargs)\n",
      "\u001b[0;31mKeyboardInterrupt\u001b[0m: "
     ]
    }
   ],
   "source": [
    "print(weight1[456])\n",
    "weight1 ,weight2, check , output= multipleBlocksWithMemoryElement(1,X_train_filter,weight1,weight2)"
   ]
  },
  {
   "cell_type": "code",
   "execution_count": 1700,
   "id": "8df66332",
   "metadata": {},
   "outputs": [
    {
     "data": {
      "text/plain": [
       "array([205.45591881])"
      ]
     },
     "execution_count": 1700,
     "metadata": {},
     "output_type": "execute_result"
    }
   ],
   "source": [
    "weight1[456]"
   ]
  },
  {
   "cell_type": "code",
   "execution_count": 1701,
   "id": "4902eb8a",
   "metadata": {},
   "outputs": [
    {
     "data": {
      "text/plain": [
       "array([[nan, nan, nan],\n",
       "       [nan, nan, nan],\n",
       "       [nan, nan, nan],\n",
       "       [nan, nan, nan],\n",
       "       [nan, nan, nan],\n",
       "       [nan, nan, nan],\n",
       "       [nan, nan, nan],\n",
       "       [nan, nan, nan],\n",
       "       [nan, nan, nan],\n",
       "       [nan, nan, nan],\n",
       "       [nan, nan, nan],\n",
       "       [nan, nan, nan],\n",
       "       [nan, nan, nan],\n",
       "       [nan, nan, nan],\n",
       "       [nan, nan, nan],\n",
       "       [nan, nan, nan],\n",
       "       [nan, nan, nan],\n",
       "       [nan, nan, nan],\n",
       "       [nan, nan, nan],\n",
       "       [nan, nan, nan],\n",
       "       [nan, nan, nan],\n",
       "       [nan, nan, nan],\n",
       "       [nan, nan, nan],\n",
       "       [nan, nan, nan],\n",
       "       [nan, nan, nan],\n",
       "       [nan, nan, nan],\n",
       "       [nan, nan, nan],\n",
       "       [nan, nan, nan]])"
      ]
     },
     "execution_count": 1701,
     "metadata": {},
     "output_type": "execute_result"
    }
   ],
   "source": [
    "weight2"
   ]
  },
  {
   "cell_type": "code",
   "execution_count": 1585,
   "id": "b51f1e7c",
   "metadata": {},
   "outputs": [
    {
     "data": {
      "text/plain": [
       "[<matplotlib.lines.Line2D at 0x29a009cd0>]"
      ]
     },
     "execution_count": 1585,
     "metadata": {},
     "output_type": "execute_result"
    },
    {
     "data": {
      "image/png": "[encoded data removed]",
      "text/plain": [
       "<Figure size 640x480 with 1 Axes>"
      ]
     },
     "metadata": {},
     "output_type": "display_data"
    }
   ],
   "source": [
    "plt.plot(weight1)"
   ]
  },
  {
   "cell_type": "code",
   "execution_count": 1586,
   "id": "901a7cd2",
   "metadata": {},
   "outputs": [
    {
     "data": {
      "text/plain": [
       "array([-0.01381654])"
      ]
     },
     "execution_count": 1586,
     "metadata": {},
     "output_type": "execute_result"
    }
   ],
   "source": [
    "weight1[456]"
   ]
  },
  {
   "cell_type": "code",
   "execution_count": 1587,
   "id": "312e71e0",
   "metadata": {},
   "outputs": [],
   "source": [
    "#weight1"
   ]
  },
  {
   "cell_type": "code",
   "execution_count": 1588,
   "id": "c5bf3732",
   "metadata": {},
   "outputs": [],
   "source": [
    "def testingMemoryElementWork(inputImage,weight):\n",
    "    result = []\n",
    "    for item in inputImage:\n",
    "        item = flattenInput(item)\n",
    "        result.append(np.dot(item.T,weight))\n",
    "    return result"
   ]
  },
  {
   "cell_type": "code",
   "execution_count": 1589,
   "id": "0194634a",
   "metadata": {},
   "outputs": [],
   "source": [
    "# weight1 = weightInitialization(784,200)\n",
    "# weight1 = weightUpdateThresholding(10,X_train_filter,weight1)"
   ]
  },
  {
   "cell_type": "code",
   "execution_count": 1590,
   "id": "6de46829",
   "metadata": {},
   "outputs": [],
   "source": [
    "# weight1 = weightInitialization(784,20)\n",
    "# weight1 = weightUpdateContainingMemoryElement(2,1,X_train_filter,weight1)"
   ]
  },
  {
   "cell_type": "code",
   "execution_count": 1591,
   "id": "4ad0859f",
   "metadata": {},
   "outputs": [
    {
     "data": {
      "text/plain": [
       "array([0.15728995])"
      ]
     },
     "execution_count": 1591,
     "metadata": {},
     "output_type": "execute_result"
    }
   ],
   "source": [
    "weight1[572]"
   ]
  },
  {
   "cell_type": "code",
   "execution_count": 1592,
   "id": "3b7cf2ca",
   "metadata": {},
   "outputs": [],
   "source": [
    "# Finding the Values for the Digits\""
   ]
  },
  {
   "cell_type": "code",
   "execution_count": 1593,
   "id": "99e2b742",
   "metadata": {},
   "outputs": [],
   "source": [
    "# results_0=printResults(X_train_filter_0,weight1)\n",
    "\n",
    "# results_1=printResults(X_train_filter_1,weight1)\n",
    "# results_2=printResults(X_train_filter_2,weight1)\n",
    "# results_3=printResults(X_train_filter_3,weight1)\n",
    "#results_4=printResults(X_train_filter_4,weight1)"
   ]
  },
  {
   "cell_type": "code",
   "execution_count": 1594,
   "id": "8cccbd46",
   "metadata": {
    "scrolled": false
   },
   "outputs": [],
   "source": [
    "#weight1"
   ]
  },
  {
   "cell_type": "code",
   "execution_count": 1595,
   "id": "02d9ff26",
   "metadata": {},
   "outputs": [
    {
     "data": {
      "text/plain": [
       "[<matplotlib.lines.Line2D at 0x16661b850>]"
      ]
     },
     "execution_count": 1595,
     "metadata": {},
     "output_type": "execute_result"
    },
    {
     "data": {
      "image/png": "[encoded data removed]",
      "text/plain": [
       "<Figure size 640x480 with 1 Axes>"
      ]
     },
     "metadata": {},
     "output_type": "display_data"
    }
   ],
   "source": [
    "plt.plot(weight1)"
   ]
  },
  {
   "cell_type": "code",
   "execution_count": 1596,
   "id": "c52dc580",
   "metadata": {},
   "outputs": [],
   "source": [
    "results_0 , resultSum_0 =printResultsBlock(X_train_filter_0,weight1)\n",
    "\n",
    "results_1 , resultSum_1 =printResultsBlock(X_train_filter_1,weight1)\n",
    "results_2 , resultSum_2 =printResultsBlock(X_train_filter_2,weight1)"
   ]
  },
  {
   "cell_type": "code",
   "execution_count": 1597,
   "id": "07ee26b9",
   "metadata": {},
   "outputs": [
    {
     "data": {
      "text/plain": [
       "112"
      ]
     },
     "execution_count": 1597,
     "metadata": {},
     "output_type": "execute_result"
    }
   ],
   "source": [
    "len(results_0[0])"
   ]
  },
  {
   "cell_type": "code",
   "execution_count": 1598,
   "id": "e4b70a3d",
   "metadata": {},
   "outputs": [],
   "source": [
    "def findMaxNode(result):\n",
    "    max_ = 0\n",
    "    indices = []\n",
    "    ansMode = []\n",
    "    for images in result:\n",
    "        max_index = -1\n",
    "        max_ = 0\n",
    "        for index in range(28):\n",
    "            if(images[index] > max_):\n",
    "                max_ = images[index]\n",
    "                max_index = index\n",
    "        \n",
    "        indices.append(max_index)\n",
    "        \n",
    "    data = Counter(indices)\n",
    "    mode = statistics.mode(indices)\n",
    "    return data,indices,mode"
   ]
  },
  {
   "cell_type": "code",
   "execution_count": 1599,
   "id": "d3b1121e",
   "metadata": {},
   "outputs": [],
   "source": [
    "data_0 , indices_0 , mode_0 = findMaxNode(results_0)\n",
    "data_1 , indices_1 , mode_1 = findMaxNode(results_1)\n",
    "data_2 , indices_2 , mode_2 = findMaxNode(results_2)"
   ]
  },
  {
   "cell_type": "code",
   "execution_count": 1600,
   "id": "3ad90003",
   "metadata": {},
   "outputs": [
    {
     "data": {
      "text/plain": [
       "Counter({22: 1274,\n",
       "         26: 2682,\n",
       "         18: 776,\n",
       "         21: 377,\n",
       "         -1: 201,\n",
       "         27: 461,\n",
       "         19: 18,\n",
       "         13: 9,\n",
       "         25: 80,\n",
       "         14: 5,\n",
       "         6: 1,\n",
       "         12: 1,\n",
       "         20: 15,\n",
       "         17: 3,\n",
       "         24: 1,\n",
       "         23: 1,\n",
       "         16: 1,\n",
       "         15: 14,\n",
       "         5: 1,\n",
       "         8: 2})"
      ]
     },
     "execution_count": 1600,
     "metadata": {},
     "output_type": "execute_result"
    }
   ],
   "source": [
    "data_0"
   ]
  },
  {
   "cell_type": "code",
   "execution_count": 1601,
   "id": "177cb0f3",
   "metadata": {},
   "outputs": [
    {
     "data": {
      "text/plain": [
       "26"
      ]
     },
     "execution_count": 1601,
     "metadata": {},
     "output_type": "execute_result"
    }
   ],
   "source": [
    "mode_0"
   ]
  },
  {
   "cell_type": "code",
   "execution_count": 1602,
   "id": "0f3c30e9",
   "metadata": {},
   "outputs": [
    {
     "data": {
      "text/plain": [
       "Counter({23: 171,\n",
       "         18: 1408,\n",
       "         21: 697,\n",
       "         27: 288,\n",
       "         26: 2639,\n",
       "         22: 1085,\n",
       "         25: 76,\n",
       "         20: 10,\n",
       "         19: 232,\n",
       "         16: 1,\n",
       "         -1: 86,\n",
       "         17: 21,\n",
       "         13: 10,\n",
       "         15: 8,\n",
       "         6: 2,\n",
       "         10: 2,\n",
       "         14: 4,\n",
       "         9: 1,\n",
       "         24: 1})"
      ]
     },
     "execution_count": 1602,
     "metadata": {},
     "output_type": "execute_result"
    }
   ],
   "source": [
    "data_1"
   ]
  },
  {
   "cell_type": "code",
   "execution_count": 1603,
   "id": "972c0647",
   "metadata": {},
   "outputs": [
    {
     "data": {
      "text/plain": [
       "26"
      ]
     },
     "execution_count": 1603,
     "metadata": {},
     "output_type": "execute_result"
    }
   ],
   "source": [
    "mode_1"
   ]
  },
  {
   "cell_type": "code",
   "execution_count": 1604,
   "id": "5795306b",
   "metadata": {},
   "outputs": [
    {
     "data": {
      "text/plain": [
       "Counter({26: 1979,\n",
       "         22: 676,\n",
       "         20: 271,\n",
       "         -1: 328,\n",
       "         21: 586,\n",
       "         27: 139,\n",
       "         15: 30,\n",
       "         18: 1740,\n",
       "         10: 25,\n",
       "         25: 83,\n",
       "         13: 23,\n",
       "         23: 1,\n",
       "         14: 12,\n",
       "         11: 1,\n",
       "         9: 30,\n",
       "         24: 7,\n",
       "         6: 6,\n",
       "         16: 7,\n",
       "         12: 7,\n",
       "         5: 3,\n",
       "         17: 2,\n",
       "         19: 2})"
      ]
     },
     "execution_count": 1604,
     "metadata": {},
     "output_type": "execute_result"
    }
   ],
   "source": [
    "data_2"
   ]
  },
  {
   "cell_type": "code",
   "execution_count": 1605,
   "id": "f9ff8aa5",
   "metadata": {},
   "outputs": [
    {
     "data": {
      "text/plain": [
       "26"
      ]
     },
     "execution_count": 1605,
     "metadata": {},
     "output_type": "execute_result"
    }
   ],
   "source": [
    "mode_2"
   ]
  },
  {
   "cell_type": "code",
   "execution_count": 1606,
   "id": "44229641",
   "metadata": {},
   "outputs": [],
   "source": [
    "#st.t.interval(alpha=0.95, df=len(data)-1, loc=np.mean(data), scale=st.sem(data))\n",
    "#do this and maximum val and then go with variations"
   ]
  },
  {
   "cell_type": "code",
   "execution_count": 1607,
   "id": "0d1d593b",
   "metadata": {},
   "outputs": [],
   "source": [
    "#results_0=printResultsBlock(X_train_filter_0,weight1)\n",
    "#results_1=printResultsBlock(X_train_filter_1,weight1)\n",
    "#results_2=printResultsBlock(X_train_filter_2,weight1)\n",
    "# results_3=printResultsBlock(X_train_filter_3,weight1)\n",
    "# results_4=printResultsBlock(X_train_filter_4,weight1)"
   ]
  },
  {
   "cell_type": "code",
   "execution_count": 1608,
   "id": "c578039c",
   "metadata": {},
   "outputs": [],
   "source": [
    "#results_0"
   ]
  },
  {
   "cell_type": "code",
   "execution_count": 1609,
   "id": "9a54997d",
   "metadata": {},
   "outputs": [],
   "source": [
    "#results_1"
   ]
  },
  {
   "cell_type": "code",
   "execution_count": 1610,
   "id": "53866c24",
   "metadata": {},
   "outputs": [],
   "source": [
    "#results_2"
   ]
  },
  {
   "cell_type": "code",
   "execution_count": 1611,
   "id": "a35c8176",
   "metadata": {},
   "outputs": [],
   "source": [
    "#results_3"
   ]
  },
  {
   "cell_type": "code",
   "execution_count": 1612,
   "id": "a395b19a",
   "metadata": {},
   "outputs": [],
   "source": [
    "meanOfTrainingData_0 = []\n",
    "medianOfTrainingData_0 = []\n",
    "for index in range(len(resultSum_0)):\n",
    "    meanOfTrainingData_0.append(np.mean(resultSum_0[index]))\n",
    "    medianOfTrainingData_0.append(np.median(resultSum_0[index]))\n",
    "    trainingMeanValue_0 = np.mean(medianOfTrainingData_0)"
   ]
  },
  {
   "cell_type": "code",
   "execution_count": 1613,
   "id": "faea5f23",
   "metadata": {},
   "outputs": [],
   "source": [
    "meanOfTrainingData_1 = []\n",
    "medianOfTrainingData_1 = []\n",
    "for index in range(len(resultSum_1)):\n",
    "    meanOfTrainingData_1.append(np.mean(resultSum_1[index]))\n",
    "    medianOfTrainingData_1.append(np.median(resultSum_1[index]))\n",
    "    trainingMeanValue_1 = np.mean(medianOfTrainingData_1)"
   ]
  },
  {
   "cell_type": "code",
   "execution_count": 1614,
   "id": "1741cefb",
   "metadata": {},
   "outputs": [],
   "source": [
    "meanOfTrainingData_2 = []\n",
    "medianOfTrainingData_2 = []\n",
    "for index in range(len(resultSum_2)):\n",
    "    meanOfTrainingData_2.append(np.mean(resultSum_2[index]))\n",
    "    medianOfTrainingData_2.append(np.median(resultSum_2[index]))\n",
    "    trainingMeanValue_2 = np.mean(medianOfTrainingData_2)"
   ]
  },
  {
   "cell_type": "code",
   "execution_count": 1615,
   "id": "503622f9",
   "metadata": {},
   "outputs": [],
   "source": [
    "# meanOfTrainingData_3 = []\n",
    "# medianOfTrainingData_3 = []\n",
    "# for index in range(len(results_3)):\n",
    "#     meanOfTrainingData_3.append(np.mean(results_3[index]))\n",
    "#     medianOfTrainingData_3.append(np.median(results_3[index]))\n",
    "#     trainingMeanValue_3 = np.mean(medianOfTrainingData_3)"
   ]
  },
  {
   "cell_type": "code",
   "execution_count": 1616,
   "id": "a265f102",
   "metadata": {},
   "outputs": [],
   "source": [
    "# meanOfTrainingData_4 = []\n",
    "# medianOfTrainingData_4 = []\n",
    "# for index in range(len(results_4)):\n",
    "#     meanOfTrainingData_4.append(np.mean(results_4[index]))\n",
    "#     medianOfTrainingData_4.append(np.median(results_4[index]))\n",
    "#     trainingMeanValue_4 = np.mean(medianOfTrainingData_4)"
   ]
  },
  {
   "cell_type": "code",
   "execution_count": 1617,
   "id": "71b300cc",
   "metadata": {},
   "outputs": [
    {
     "data": {
      "text/plain": [
       "7.49706901260388"
      ]
     },
     "execution_count": 1617,
     "metadata": {},
     "output_type": "execute_result"
    }
   ],
   "source": [
    "trainingMeanValue_0"
   ]
  },
  {
   "cell_type": "code",
   "execution_count": 1618,
   "id": "29bd0005",
   "metadata": {},
   "outputs": [
    {
     "data": {
      "text/plain": [
       "2.6343196870644228"
      ]
     },
     "execution_count": 1618,
     "metadata": {},
     "output_type": "execute_result"
    }
   ],
   "source": [
    "trainingMeanValue_1"
   ]
  },
  {
   "cell_type": "code",
   "execution_count": 1619,
   "id": "d3d614d1",
   "metadata": {},
   "outputs": [
    {
     "data": {
      "text/plain": [
       "6.980979330476247"
      ]
     },
     "execution_count": 1619,
     "metadata": {},
     "output_type": "execute_result"
    }
   ],
   "source": [
    "trainingMeanValue_2"
   ]
  },
  {
   "cell_type": "code",
   "execution_count": 1620,
   "id": "590c983c",
   "metadata": {},
   "outputs": [],
   "source": [
    "# trainingMeanValue_3"
   ]
  },
  {
   "cell_type": "code",
   "execution_count": 1621,
   "id": "da89ffc7",
   "metadata": {},
   "outputs": [],
   "source": [
    "# trainingMeanValue_4"
   ]
  },
  {
   "cell_type": "code",
   "execution_count": 1622,
   "id": "c209828c",
   "metadata": {},
   "outputs": [],
   "source": [
    "outputTrainingValues = np.array([trainingMeanValue_0,trainingMeanValue_1,trainingMeanValue_2])#,trainingMeanValue_3,trainingMeanValue_4])"
   ]
  },
  {
   "cell_type": "code",
   "execution_count": 1623,
   "id": "67783900",
   "metadata": {},
   "outputs": [],
   "source": [
    "outputTrainingValuesMax = np.array([9,10,17])"
   ]
  },
  {
   "cell_type": "code",
   "execution_count": 1624,
   "id": "8728faf9",
   "metadata": {},
   "outputs": [],
   "source": [
    "# Prediction"
   ]
  },
  {
   "cell_type": "code",
   "execution_count": 1625,
   "id": "5bd0676d",
   "metadata": {},
   "outputs": [],
   "source": [
    "def prediction(data,finalWeight):\n",
    "        predict = []\n",
    "        for item in data:\n",
    "            item = flattenInput(item)\n",
    "            res = np.dot(item.T,finalWeight)\n",
    "            res = np.median(res)\n",
    "            distance = np.abs(outputTrainingValues - res)\n",
    "            predict.append(np.argmin(distance))\n",
    "        return predict"
   ]
  },
  {
   "cell_type": "code",
   "execution_count": 1626,
   "id": "c09f4c0d",
   "metadata": {},
   "outputs": [],
   "source": [
    "def predictionBlocks(data,finalWeight):\n",
    "        predict = []\n",
    "        for item in data:\n",
    "            item = flattenInput(item)\n",
    "            res = np.dot(item.T,finalWeight)\n",
    "            distance = np.abs(outputTrainingValues - res)\n",
    "            predict.append(np.argmin(distance))\n",
    "        return predict"
   ]
  },
  {
   "cell_type": "code",
   "execution_count": null,
   "id": "5540122e",
   "metadata": {},
   "outputs": [],
   "source": []
  },
  {
   "cell_type": "code",
   "execution_count": 1627,
   "id": "18203ede",
   "metadata": {},
   "outputs": [],
   "source": [
    "def predictionMax(data,finalWeight):\n",
    "        predict = []\n",
    "        results, resultSum = printResultsBlock(data,finalWeight)\n",
    "        data_ , indices_ , mode_ = findMaxNode(results)\n",
    "        predictMax = []\n",
    "        combinedPred = []\n",
    "        for index in range(len(results)):\n",
    "            #print(resultSum[index])\n",
    "            #print(indices_[index])\n",
    "            distance = np.abs(outputTrainingValues - resultSum[index])\n",
    "            distanceMax = np.abs(outputTrainingValuesMax - indices_[index]) \n",
    "            \n",
    "            predict.append(np.argmin(distance))\n",
    "            predictMax.append(np.argmin(distanceMax))\n",
    "            \n",
    "            \n",
    "            #print(predictDist)\n",
    "            #if indices_[index] == 21:\n",
    "            #    predictMax.append(0)\n",
    "            #elif indices_[index] == 6:\n",
    "            #    predictMax.append(1)\n",
    "            #elif indices_[index] == 19:\n",
    "            #    predictMax.append(2)\n",
    "            \n",
    "           \n",
    "                #predict.append(0)\n",
    "                #if predictDist == 0 and predictMode == 1:\n",
    "                #    predict.append(0)\n",
    "                #elif predictDist == 1 and predictMode == 1:\n",
    "                #    predict.append(1)\n",
    "                #elif predictDist == 2 and predictMode == 1:\n",
    "                #    predict.append(2)\n",
    "        return predict , predictMax"
   ]
  },
  {
   "cell_type": "code",
   "execution_count": 1628,
   "id": "4b7f8be3",
   "metadata": {},
   "outputs": [],
   "source": [
    "#pred = predictionBlocks(X_test_filter ,weight1)"
   ]
  },
  {
   "cell_type": "code",
   "execution_count": 1629,
   "id": "bb67979a",
   "metadata": {},
   "outputs": [],
   "source": [
    "#pred = prediction(X_test_filter ,weight1)"
   ]
  },
  {
   "cell_type": "code",
   "execution_count": 1630,
   "id": "ff6ab04d",
   "metadata": {},
   "outputs": [],
   "source": [
    "pred , predictMax =  predictionMax(X_test_filter,weight1)"
   ]
  },
  {
   "cell_type": "code",
   "execution_count": 1631,
   "id": "5a2588c4",
   "metadata": {},
   "outputs": [
    {
     "data": {
      "text/plain": [
       "array([0, 1, 2])"
      ]
     },
     "execution_count": 1631,
     "metadata": {},
     "output_type": "execute_result"
    }
   ],
   "source": [
    "np.unique(pred)"
   ]
  },
  {
   "cell_type": "code",
   "execution_count": 1632,
   "id": "f7a7e622",
   "metadata": {},
   "outputs": [
    {
     "data": {
      "text/plain": [
       "array([0, 1, 2])"
      ]
     },
     "execution_count": 1632,
     "metadata": {},
     "output_type": "execute_result"
    }
   ],
   "source": [
    "np.unique(predictMax)"
   ]
  },
  {
   "cell_type": "code",
   "execution_count": 1633,
   "id": "2bfbb8fd",
   "metadata": {},
   "outputs": [
    {
     "data": {
      "text/plain": [
       "array([0, 1, 2], dtype=uint8)"
      ]
     },
     "execution_count": 1633,
     "metadata": {},
     "output_type": "execute_result"
    }
   ],
   "source": [
    "np.unique(Y_test_filter)"
   ]
  },
  {
   "cell_type": "code",
   "execution_count": 1634,
   "id": "e09674f0",
   "metadata": {},
   "outputs": [],
   "source": [
    "def compute_accuracy(y_true, y_pred):\n",
    "    correct_predictions = 0\n",
    "    accuracy = 0\n",
    "    for true, predicted in zip(y_true, y_pred):\n",
    "        if true == predicted:\n",
    "            correct_predictions += 1\n",
    "            accuracy = correct_predictions/len(y_true)\n",
    "    return accuracy"
   ]
  },
  {
   "cell_type": "code",
   "execution_count": 1635,
   "id": "e3465ff0",
   "metadata": {},
   "outputs": [],
   "source": [
    "acc = compute_accuracy(Y_test_filter,pred)"
   ]
  },
  {
   "cell_type": "code",
   "execution_count": 1636,
   "id": "92eadc36",
   "metadata": {},
   "outputs": [
    {
     "data": {
      "text/plain": [
       "0.5983476326660312"
      ]
     },
     "execution_count": 1636,
     "metadata": {},
     "output_type": "execute_result"
    }
   ],
   "source": [
    "acc"
   ]
  },
  {
   "cell_type": "code",
   "execution_count": 1637,
   "id": "b9062810",
   "metadata": {},
   "outputs": [],
   "source": [
    "acc = compute_accuracy(Y_test_filter,predictMax)"
   ]
  },
  {
   "cell_type": "code",
   "execution_count": 1638,
   "id": "1837a06b",
   "metadata": {},
   "outputs": [
    {
     "data": {
      "text/plain": [
       "0.3158563711471242"
      ]
     },
     "execution_count": 1638,
     "metadata": {},
     "output_type": "execute_result"
    }
   ],
   "source": [
    "acc"
   ]
  },
  {
   "cell_type": "markdown",
   "id": "7bb8639d",
   "metadata": {},
   "source": [
    "# Calculating Individual Accuracies"
   ]
  },
  {
   "cell_type": "code",
   "execution_count": 760,
   "id": "b997e66d",
   "metadata": {},
   "outputs": [],
   "source": [
    "def prediction_0(X, w):\n",
    "    result = []\n",
    "    res = printResultsBlock(X,w)\n",
    "    indices = findMaxNode(res)\n",
    "    \n",
    "    for info in indices:\n",
    "        if info == 8:\n",
    "            result.append(0)\n",
    "        else:\n",
    "            result.append(-1)\n",
    "    \n",
    "    return result\n",
    "        "
   ]
  },
  {
   "cell_type": "code",
   "execution_count": 761,
   "id": "34a5a2e5",
   "metadata": {},
   "outputs": [],
   "source": [
    "pred_for_0 , predMax_0 = predictionMax(X_test_filter_0 ,weight1)"
   ]
  },
  {
   "cell_type": "code",
   "execution_count": 762,
   "id": "dc813ecf",
   "metadata": {},
   "outputs": [],
   "source": [
    "acc_0 = compute_accuracy(Y_test_filter_0,predMax_0)"
   ]
  },
  {
   "cell_type": "code",
   "execution_count": 763,
   "id": "73d1cfe5",
   "metadata": {},
   "outputs": [
    {
     "data": {
      "text/plain": [
       "0.3295918367346939"
      ]
     },
     "execution_count": 763,
     "metadata": {},
     "output_type": "execute_result"
    }
   ],
   "source": [
    "acc_0"
   ]
  },
  {
   "cell_type": "code",
   "execution_count": 764,
   "id": "b9f58c24",
   "metadata": {},
   "outputs": [],
   "source": [
    "pred_for_1 , predMax_1= predictionMax(X_test_filter_1 ,weight1)"
   ]
  },
  {
   "cell_type": "code",
   "execution_count": 765,
   "id": "77354fd3",
   "metadata": {},
   "outputs": [],
   "source": [
    "acc_1 = compute_accuracy(Y_test_filter_1,predMax_1)"
   ]
  },
  {
   "cell_type": "code",
   "execution_count": 766,
   "id": "32382ba3",
   "metadata": {},
   "outputs": [
    {
     "data": {
      "text/plain": [
       "0.5277533039647577"
      ]
     },
     "execution_count": 766,
     "metadata": {},
     "output_type": "execute_result"
    }
   ],
   "source": [
    "acc_1"
   ]
  },
  {
   "cell_type": "code",
   "execution_count": 767,
   "id": "06bd8941",
   "metadata": {},
   "outputs": [],
   "source": [
    "pred_for_2 , predMax_2 = predictionMax(X_test_filter_2,weight1)"
   ]
  },
  {
   "cell_type": "code",
   "execution_count": 768,
   "id": "e9d1edba",
   "metadata": {},
   "outputs": [],
   "source": [
    "acc_2 = compute_accuracy(Y_test_filter_2,predMax_2)"
   ]
  },
  {
   "cell_type": "code",
   "execution_count": 769,
   "id": "edabbc61",
   "metadata": {},
   "outputs": [
    {
     "data": {
      "text/plain": [
       "0.6753875968992248"
      ]
     },
     "execution_count": 769,
     "metadata": {},
     "output_type": "execute_result"
    }
   ],
   "source": [
    "acc_2"
   ]
  },
  {
   "cell_type": "code",
   "execution_count": 770,
   "id": "4e2e9705",
   "metadata": {},
   "outputs": [],
   "source": [
    "#pred_for_3 = prediction(X_test_filter_3,weight1)"
   ]
  },
  {
   "cell_type": "code",
   "execution_count": 771,
   "id": "170c2442",
   "metadata": {},
   "outputs": [],
   "source": [
    "#acc_3 = compute_accuracy(Y_test_filter_3,pred_for_3)"
   ]
  },
  {
   "cell_type": "code",
   "execution_count": 772,
   "id": "655a4add",
   "metadata": {},
   "outputs": [],
   "source": [
    "#acc_3"
   ]
  },
  {
   "cell_type": "code",
   "execution_count": 773,
   "id": "c67c985c",
   "metadata": {},
   "outputs": [],
   "source": [
    "#pred_for_4 = prediction(X_test_filter_4,weight1)"
   ]
  },
  {
   "cell_type": "code",
   "execution_count": 774,
   "id": "36f5348b",
   "metadata": {},
   "outputs": [],
   "source": [
    "#acc_4 = compute_accuracy(Y_test_filter_4,pred_for_4)"
   ]
  },
  {
   "cell_type": "code",
   "execution_count": 775,
   "id": "13b5e8cf",
   "metadata": {},
   "outputs": [],
   "source": [
    "#acc_4"
   ]
  },
  {
   "cell_type": "markdown",
   "id": "ae141bb2",
   "metadata": {},
   "source": [
    "# Visualization"
   ]
  },
  {
   "cell_type": "code",
   "execution_count": 776,
   "id": "d55aee91",
   "metadata": {},
   "outputs": [],
   "source": [
    "#medianOfTrainingData_0,medianOfTrainingData_1,medianOfTrainingData_4"
   ]
  },
  {
   "cell_type": "code",
   "execution_count": 777,
   "id": "7024d245",
   "metadata": {},
   "outputs": [
    {
     "data": {
      "image/png": "[encoded data removed]",
      "text/plain": [
       "<Figure size 640x480 with 2 Axes>"
      ]
     },
     "metadata": {},
     "output_type": "display_data"
    }
   ],
   "source": [
    "import matplotlib.pyplot as plt\n",
    "import numpy\n",
    "from sklearn import metrics\n",
    "\n",
    "actual = numpy.random.binomial(1,.9,size = 1000)\n",
    "predicted = numpy.random.binomial(1,.9,size = 1000)\n",
    "\n",
    "confusion_matrix = metrics.confusion_matrix(Y_test_filter,pred)\n",
    "\n",
    "cm_display = metrics.ConfusionMatrixDisplay(confusion_matrix = confusion_matrix, display_labels = [0,1 ,2])\n",
    "\n",
    "cm_display.plot()\n",
    "plt.show()"
   ]
  },
  {
   "cell_type": "code",
   "execution_count": 779,
   "id": "e59ec1d8",
   "metadata": {},
   "outputs": [
    {
     "data": {
      "image/png": "[encoded data removed]",
      "text/plain": [
       "<Figure size 640x480 with 2 Axes>"
      ]
     },
     "metadata": {},
     "output_type": "display_data"
    }
   ],
   "source": [
    "import matplotlib.pyplot as plt\n",
    "import numpy\n",
    "from sklearn import metrics\n",
    "\n",
    "actual = numpy.random.binomial(1,.9,size = 1000)\n",
    "predicted = numpy.random.binomial(1,.9,size = 1000)\n",
    "\n",
    "confusion_matrix = metrics.confusion_matrix(Y_test_filter,predictMax)\n",
    "\n",
    "cm_display = metrics.ConfusionMatrixDisplay(confusion_matrix = confusion_matrix, display_labels = [0,1 ,2])\n",
    "\n",
    "cm_display.plot()\n",
    "plt.show()"
   ]
  },
  {
   "cell_type": "code",
   "execution_count": 548,
   "id": "d79615c1",
   "metadata": {},
   "outputs": [
    {
     "data": {
      "text/plain": [
       "5923"
      ]
     },
     "execution_count": 548,
     "metadata": {},
     "output_type": "execute_result"
    }
   ],
   "source": [
    "len(medianOfTrainingData_0)"
   ]
  },
  {
   "cell_type": "code",
   "execution_count": null,
   "id": "9e1ad661",
   "metadata": {},
   "outputs": [],
   "source": []
  },
  {
   "cell_type": "code",
   "execution_count": null,
   "id": "6b772f23",
   "metadata": {},
   "outputs": [],
   "source": []
  }
 ],
 "metadata": {
  "kernelspec": {
   "display_name": "Python 3.9 (Tensorflow)",
   "language": "python",
   "name": "tensorflow"
  },
  "language_info": {
   "codemirror_mode": {
    "name": "ipython",
    "version": 3
   },
   "file_extension": ".py",
   "mimetype": "text/x-python",
   "name": "python",
   "nbconvert_exporter": "python",
   "pygments_lexer": "ipython3",
   "version": "3.9.13"
  }
 },
 "nbformat": 4,
 "nbformat_minor": 5
}
