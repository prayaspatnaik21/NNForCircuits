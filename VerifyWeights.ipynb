{
 "cells": [
  {
   "cell_type": "code",
   "execution_count": 871,
   "id": "fd18bf5d",
   "metadata": {},
   "outputs": [],
   "source": [
    "import pandas as pd\n",
    "from collections import Counter\n",
    "import numpy as np\n",
    "import matplotlib.pyplot as plt\n",
    "import sklearn\n",
    "import random\n",
    "import statistics"
   ]
  },
  {
   "cell_type": "code",
   "execution_count": 872,
   "id": "6bbafc2d",
   "metadata": {},
   "outputs": [],
   "source": [
    "from tensorflow.keras.datasets import mnist"
   ]
  },
  {
   "cell_type": "code",
   "execution_count": 873,
   "id": "ce468c19",
   "metadata": {},
   "outputs": [],
   "source": [
    "(X_train,Y_train) , (X_test,Y_test) = mnist.load_data()"
   ]
  },
  {
   "cell_type": "code",
   "execution_count": 874,
   "id": "59fc1577",
   "metadata": {},
   "outputs": [
    {
     "name": "stdout",
     "output_type": "stream",
     "text": [
      "MNIST Dataset Shape:\n",
      "X_train: (60000, 28, 28)\n",
      "Y_train: (60000,)\n",
      "X_test:  (10000, 28, 28)\n",
      "Y_test:  (10000,)\n"
     ]
    }
   ],
   "source": [
    "print('MNIST Dataset Shape:')\n",
    "print('X_train: ' + str(X_train.shape))\n",
    "print('Y_train: ' + str(Y_train.shape))\n",
    "print('X_test:  '  + str(X_test.shape))\n",
    "print('Y_test:  '  + str(Y_test.shape))"
   ]
  },
  {
   "cell_type": "code",
   "execution_count": 875,
   "id": "e488007f",
   "metadata": {},
   "outputs": [],
   "source": [
    "sharpen = np.array([\n",
    "    [0, -1, 0],\n",
    "    [-1, 5, -1],\n",
    "    [0, -1, 0]\n",
    "])\n",
    "\n",
    "blur = np.array([\n",
    "    [0.0625, 0.125, 0.0625],\n",
    "    [0.125,  0.25,  0.125],\n",
    "    [0.0625, 0.125, 0.0625]\n",
    "])\n",
    "\n",
    "outline = np.array([\n",
    "    [-1, -1, -1],\n",
    "    [-1,  8, -1],\n",
    "    [-1, -1, -1]\n",
    "])"
   ]
  },
  {
   "cell_type": "code",
   "execution_count": 876,
   "id": "1475fbbb",
   "metadata": {},
   "outputs": [],
   "source": [
    "def calculateOutputSize(imgSize, kernelSize):\n",
    "    return imgSize - kernelSize + 1;"
   ]
  },
  {
   "cell_type": "code",
   "execution_count": 877,
   "id": "4a49a29a",
   "metadata": {},
   "outputs": [],
   "source": [
    "def convolve(img, kernel):\n",
    "    outputSize = calculateOutputSize(img.shape[0],kernel.shape[0])\n",
    "    k = kernel.shape[0]\n",
    "    convolvedImage = np.zeros(shape=(outputSize, outputSize))\n",
    "    for rowIndex in range(outputSize):\n",
    "        for colIndex in range(outputSize):\n",
    "            mat = img[rowIndex:rowIndex+k, colIndex:colIndex+k]\n",
    "            convolvedImage[rowIndex, colIndex] = np.sum(np.multiply(mat, kernel))\n",
    "            \n",
    "    return convolvedImage"
   ]
  },
  {
   "cell_type": "code",
   "execution_count": 878,
   "id": "0ab48880",
   "metadata": {},
   "outputs": [],
   "source": [
    "# X_train_convolve = []\n",
    "\n",
    "# for img in X_train:\n",
    "#     img = convolve(img,blur)\n",
    "#     img = convolve(img,blur)\n",
    "#     img = convolve(img,blur)\n",
    "#     img = convolve(img,blur)\n",
    "#     #img = convolve(img,blur)\n",
    "#     X_train_convolve.append(img)"
   ]
  },
  {
   "cell_type": "code",
   "execution_count": 879,
   "id": "2fd179c4",
   "metadata": {},
   "outputs": [],
   "source": [
    "# X_train_convolve = np.array(X_train_convolve)"
   ]
  },
  {
   "cell_type": "code",
   "execution_count": 880,
   "id": "5dfc2564",
   "metadata": {},
   "outputs": [],
   "source": [
    "# X_test_convolve = []\n",
    "# for img in X_test:\n",
    "#     img = convolve(img,blur)\n",
    "#     img = convolve(img,blur)\n",
    "#     img = convolve(img,blur)\n",
    "#     img = convolve(img,blur)\n",
    "#     #img = convolve(img,blur)\n",
    "#     X_test_convolve.append(img)"
   ]
  },
  {
   "cell_type": "code",
   "execution_count": 881,
   "id": "af0d6992",
   "metadata": {},
   "outputs": [],
   "source": [
    "# X_test_convolve = np.array(X_test_convolve)  "
   ]
  },
  {
   "cell_type": "code",
   "execution_count": 882,
   "id": "863c0ca1",
   "metadata": {},
   "outputs": [],
   "source": [
    "# train_filter = np.where((Y_train == 0 ) | (Y_train == 1) | (Y_train == 2) | (Y_train == 3) | (Y_train == 4))\n",
    "# test_filter = np.where((Y_test == 0) | (Y_test == 1) | (Y_test == 2) | (Y_test == 3) | (Y_test == 4))"
   ]
  },
  {
   "cell_type": "code",
   "execution_count": 883,
   "id": "d803729c",
   "metadata": {},
   "outputs": [],
   "source": [
    "train_filter = np.where((Y_train == 0 ) | (Y_train == 1) | (Y_train == 2))\n",
    "test_filter = np.where((Y_test == 0) | (Y_test == 1) | (Y_test == 2))"
   ]
  },
  {
   "cell_type": "code",
   "execution_count": 884,
   "id": "8e35058c",
   "metadata": {},
   "outputs": [],
   "source": [
    "X_train_filter, Y_train_filter = X_train[train_filter], Y_train[train_filter]\n",
    "X_test_filter, Y_test_filter = X_test[test_filter], Y_test[test_filter]"
   ]
  },
  {
   "cell_type": "code",
   "execution_count": 885,
   "id": "9508cc4c",
   "metadata": {},
   "outputs": [],
   "source": [
    "train_filter_0 = np.where(Y_train == 0)\n",
    "test_filter_0 = np.where(Y_test == 0)\n",
    "\n",
    "X_train_filter_0 , Y_train_filter_0 = X_train[train_filter_0],Y_train[train_filter_0]\n",
    "X_test_filter_0 , Y_test_filter_0 = X_test[test_filter_0] , Y_test[test_filter_0]"
   ]
  },
  {
   "cell_type": "code",
   "execution_count": 886,
   "id": "3f743fc7",
   "metadata": {},
   "outputs": [],
   "source": [
    "train_filter_1 = np.where(Y_train == 1)\n",
    "test_filter_1 = np.where(Y_test == 1)\n",
    "\n",
    "X_train_filter_1 , Y_train_filter_1 = X_train[train_filter_1],Y_train[train_filter_1]\n",
    "X_test_filter_1 , Y_test_filter_1 = X_test[test_filter_1] , Y_test[test_filter_1]"
   ]
  },
  {
   "cell_type": "code",
   "execution_count": 887,
   "id": "0f785e2d",
   "metadata": {},
   "outputs": [],
   "source": [
    "# train_filter_3 = np.where(Y_train == 3)\n",
    "# test_filter_3 = np.where(Y_test == 3)\n",
    "\n",
    "# X_train_filter_3 , Y_train_filter_3 = X_train[train_filter_3],Y_train[train_filter_3]\n",
    "# X_test_filter_3 , Y_test_filter_3 = X_test[test_filter_3] , Y_test[test_filter_3]"
   ]
  },
  {
   "cell_type": "code",
   "execution_count": 888,
   "id": "0e8fea8d",
   "metadata": {},
   "outputs": [],
   "source": [
    "# train_filter_4 = np.where(Y_train == 4)\n",
    "# test_filter_4 = np.where(Y_test == 4)\n",
    "\n",
    "# X_train_filter_4 , Y_train_filter_4 = X_train[train_filter_4],Y_train[train_filter_4]\n",
    "# X_test_filter_4 , Y_test_filter_4 = X_test[test_filter_4] , Y_test[test_filter_4]"
   ]
  },
  {
   "cell_type": "code",
   "execution_count": 889,
   "id": "274f3549",
   "metadata": {},
   "outputs": [],
   "source": [
    "train_filter_2 = np.where(Y_train == 2)\n",
    "test_filter_2 = np.where(Y_test == 2)\n",
    "\n",
    "X_train_filter_2 , Y_train_filter_2 = X_train[train_filter_2],Y_train[train_filter_2]\n",
    "X_test_filter_2 , Y_test_filter_2 = X_test[test_filter_2] , Y_test[test_filter_2]"
   ]
  },
  {
   "cell_type": "code",
   "execution_count": 890,
   "id": "79d8c7d7",
   "metadata": {},
   "outputs": [],
   "source": [
    "# Normalize the Images"
   ]
  },
  {
   "cell_type": "code",
   "execution_count": 891,
   "id": "ccd77268",
   "metadata": {},
   "outputs": [],
   "source": [
    "X_train_filter = X_train_filter/255.0\n",
    "X_test_filter = X_test_filter/255.0"
   ]
  },
  {
   "cell_type": "code",
   "execution_count": 892,
   "id": "751c74f0",
   "metadata": {},
   "outputs": [],
   "source": [
    "X_train_filter_0 = X_train_filter_0/255.0\n",
    "X_test_filter_0 = X_test_filter_0/255.0"
   ]
  },
  {
   "cell_type": "code",
   "execution_count": 893,
   "id": "7e8d017c",
   "metadata": {},
   "outputs": [],
   "source": [
    "X_train_filter_2 = X_train_filter_2/255.0\n",
    "X_test_filter_2 = X_test_filter_2/255.0"
   ]
  },
  {
   "cell_type": "code",
   "execution_count": 894,
   "id": "cb94f8f4",
   "metadata": {},
   "outputs": [],
   "source": [
    "X_train_filter_1 = X_train_filter_1/255.0\n",
    "X_test_filter_1 = X_test_filter_1/255.0"
   ]
  },
  {
   "cell_type": "code",
   "execution_count": 895,
   "id": "275080af",
   "metadata": {},
   "outputs": [],
   "source": [
    "# X_train_filter_3 = X_train_filter_3/255.0\n",
    "# X_test_filter_3 = X_test_filter_3/255.0"
   ]
  },
  {
   "cell_type": "code",
   "execution_count": 896,
   "id": "8684de11",
   "metadata": {},
   "outputs": [],
   "source": [
    "# X_train_filter_4 = X_train_filter_4/255.0\n",
    "# X_test_filter_4 = X_test_filter_4/255.0"
   ]
  },
  {
   "cell_type": "code",
   "execution_count": 897,
   "id": "69e12e14",
   "metadata": {},
   "outputs": [
    {
     "data": {
      "text/plain": [
       "(28, 28)"
      ]
     },
     "execution_count": 897,
     "metadata": {},
     "output_type": "execute_result"
    }
   ],
   "source": [
    "X_train_filter_0[1].shape"
   ]
  },
  {
   "cell_type": "code",
   "execution_count": 898,
   "id": "2f13bf7d",
   "metadata": {},
   "outputs": [],
   "source": [
    "# Flattening the Input"
   ]
  },
  {
   "cell_type": "code",
   "execution_count": 899,
   "id": "4997f0e2",
   "metadata": {},
   "outputs": [],
   "source": [
    "def flattenInput(mat):\n",
    "        mat = mat.flatten()\n",
    "        mat = mat.reshape(mat.shape[0],1)\n",
    "        return mat"
   ]
  },
  {
   "cell_type": "code",
   "execution_count": 900,
   "id": "de730428",
   "metadata": {},
   "outputs": [],
   "source": [
    "# Weight Initialization(Random,Normalized)"
   ]
  },
  {
   "cell_type": "code",
   "execution_count": 901,
   "id": "9479785f",
   "metadata": {},
   "outputs": [],
   "source": [
    "def weightInitialization(rows , cols, type = \"random\"):\n",
    "    if(type == \"random\"):\n",
    "        initialWeights = np.random.random(size = (rows,cols))\n",
    "    else:\n",
    "        initialWeights = np.random.normal(size = (rows,cols))\n",
    "    initialWeights = initialWeights.reshape(rows,cols)\n",
    "    return initialWeights"
   ]
  },
  {
   "cell_type": "code",
   "execution_count": 902,
   "id": "8d69148d",
   "metadata": {},
   "outputs": [],
   "source": [
    "weights = weightInitialization(784,20,\"normalize\")"
   ]
  },
  {
   "cell_type": "code",
   "execution_count": 903,
   "id": "90967c1f",
   "metadata": {},
   "outputs": [
    {
     "data": {
      "text/plain": [
       "(784, 20)"
      ]
     },
     "execution_count": 903,
     "metadata": {},
     "output_type": "execute_result"
    }
   ],
   "source": [
    "weights.shape"
   ]
  },
  {
   "cell_type": "code",
   "execution_count": 904,
   "id": "58cbdb72",
   "metadata": {},
   "outputs": [],
   "source": [
    "# Manipulating the Array"
   ]
  },
  {
   "cell_type": "code",
   "execution_count": 905,
   "id": "19ea89ab",
   "metadata": {},
   "outputs": [],
   "source": [
    "def manipulatingTheArray(mat):\n",
    "    mat = flattenInput(mat)\n",
    "    \n",
    "    for index in range(mat.shape[0]): \n",
    "        if mat[index] == 0:\n",
    "            mat[index] = -0.002\n",
    "    return mat"
   ]
  },
  {
   "cell_type": "code",
   "execution_count": 906,
   "id": "cdaf3fd2",
   "metadata": {},
   "outputs": [],
   "source": [
    "# Thresholding Weight"
   ]
  },
  {
   "cell_type": "code",
   "execution_count": 907,
   "id": "27c0e5ad",
   "metadata": {},
   "outputs": [],
   "source": [
    "def thresholding(out):\n",
    "    for item in range(out.shape[1]):\n",
    "        if out[0][item] >= 0.8:\n",
    "            out[0][item] = 0.8\n",
    "        elif out[0][item] >= 0.5 and out[0][item] < 0.8:\n",
    "            out[0][item] = 0.5\n",
    "        elif out[0][item] > 0.1 and out[0][item] < 0.5:\n",
    "            out[0][item] = 0.3\n",
    "        else:\n",
    "            out[0][item] = 0.1\n",
    "    return out"
   ]
  },
  {
   "cell_type": "code",
   "execution_count": 908,
   "id": "b88b8e6d",
   "metadata": {},
   "outputs": [],
   "source": [
    "def ActThresholding(out):\n",
    "    for item in range(out.shape[1]):\n",
    "        if out[0][item] >= 0.9:\n",
    "            out[0][item] = 0.9\n",
    "        else:\n",
    "            out[0][item] = -0.9\n",
    "    return out"
   ]
  },
  {
   "cell_type": "code",
   "execution_count": 909,
   "id": "1245b278",
   "metadata": {},
   "outputs": [],
   "source": [
    "# Threshold Check"
   ]
  },
  {
   "cell_type": "code",
   "execution_count": 910,
   "id": "22121add",
   "metadata": {},
   "outputs": [],
   "source": [
    "def crossThreshold(out,neuronThreshold):\n",
    "    flag = 0\n",
    "    for item in range(out.shape[1]):\n",
    "        if out[0][item] > neuronThreshold[0][item]:\n",
    "            neuronThreshold[0][item] += 0.2\n",
    "            flag = 1\n",
    "    \n",
    "    if flag == 1:\n",
    "        return True\n",
    "    return False"
   ]
  },
  {
   "cell_type": "code",
   "execution_count": 911,
   "id": "630a7eb0",
   "metadata": {},
   "outputs": [],
   "source": [
    "def crossThresholdUpdate(afterActivation,neuronThreshold):\n",
    "    flag = 0\n",
    "    for item in range(afterActivation.shape[1]):\n",
    "        if afterActivation[0][item] > 0.8:\n",
    "            neuronThreshold[0][item] += 0.002\n",
    "            afterActivation[0][item] = 0\n",
    "        else:\n",
    "            afterActivation[0][item] = afterActivation[0][item] - 0.001\n",
    "            #neuronThreshold[0][item] -= 0.001\n",
    "            \n",
    "    return afterActivation,neuronThreshold"
   ]
  },
  {
   "cell_type": "code",
   "execution_count": 912,
   "id": "1efb59e7",
   "metadata": {},
   "outputs": [],
   "source": [
    "# Weight Threshold (Future Reference)"
   ]
  },
  {
   "cell_type": "code",
   "execution_count": 913,
   "id": "89147142",
   "metadata": {},
   "outputs": [],
   "source": [
    "def weightThreshold(weight):\n",
    "    for indexi in range(weight.shape[0]):\n",
    "        for indexj in range(weight.shape[1]):\n",
    "            if weight[indexi][indexj] >= 1:\n",
    "                weight[indexi][indexj] = 1\n",
    "    return weight"
   ]
  },
  {
   "cell_type": "code",
   "execution_count": 914,
   "id": "bbd81d06",
   "metadata": {},
   "outputs": [],
   "source": [
    "# Calculate Accuracy"
   ]
  },
  {
   "cell_type": "code",
   "execution_count": 915,
   "id": "7345c994",
   "metadata": {},
   "outputs": [],
   "source": [
    "def accuracy(data,finalWeight):\n",
    "    predict_0 = []\n",
    "    predict_7 = []\n",
    "    for item in data:\n",
    "        item = flattenInput(item)\n",
    "        res = np.dot(item.T,finalWeight)\n",
    "        res = np.median(res)\n",
    "        if res >= 55 and res <= 85:\n",
    "            predict_0.append(1)\n",
    "        elif res >=30 and res <55:\n",
    "            predict_7.append(1)\n",
    "    return len(predict_0), len(predict_7)"
   ]
  },
  {
   "cell_type": "code",
   "execution_count": 916,
   "id": "95827b4e",
   "metadata": {},
   "outputs": [],
   "source": [
    "# Print Results"
   ]
  },
  {
   "cell_type": "code",
   "execution_count": 917,
   "id": "2af6654c",
   "metadata": {},
   "outputs": [],
   "source": [
    "def printResults(inputImage,finalWeight):\n",
    "    result = []\n",
    "    for item in inputImage:\n",
    "        item = flattenInput(item)\n",
    "        #item = manipulatingTheArray(item)\n",
    "        result.append(np.dot(item.T,finalWeight))\n",
    "    return result"
   ]
  },
  {
   "cell_type": "code",
   "execution_count": 1556,
   "id": "d60c4464",
   "metadata": {},
   "outputs": [],
   "source": [
    "def printResultsBlock(inputImage,weight):\n",
    "    result = []\n",
    "    resultSum = []\n",
    "    for item in inputImage:\n",
    "        item = flattenInput(item)\n",
    "        #item = manipulatingTheArray(item)\n",
    "        \n",
    "        startIndex = 0\n",
    "        blockSize = 7\n",
    "        pval = 0\n",
    "        resultRow = []\n",
    "        sum_ = 0\n",
    "        while(startIndex < 784):\n",
    "            image_ = item[startIndex:startIndex + blockSize]\n",
    "            weight_ = weight[startIndex : startIndex + blockSize]\n",
    "                \n",
    "            resultDotProduct = np.dot(image_.T,weight_)\n",
    "            sum_ = sum_ + resultDotProduct\n",
    "            resultRow.append(resultDotProduct)\n",
    "            startIndex += blockSize\n",
    "            \n",
    "        result.append(resultRow)\n",
    "        resultSum.append(sum_)\n",
    "    return result , resultSum\n",
    "\n"
   ]
  },
  {
   "cell_type": "code",
   "execution_count": 1557,
   "id": "0fcb28d1",
   "metadata": {},
   "outputs": [],
   "source": [
    "def printResults2(inputImage,weight1,weight2):\n",
    "    result = []\n",
    "    for item in inputImage:\n",
    "        item = flattenInput(item)\n",
    "        out = np.dot(item.T,weight1)\n",
    "        out = np.dot(out,weight2)\n",
    "        result.append(out)\n",
    "    return result"
   ]
  },
  {
   "cell_type": "code",
   "execution_count": 1558,
   "id": "a81e9477",
   "metadata": {},
   "outputs": [],
   "source": [
    "testFlatten = []\n",
    "\n",
    "for image_ in X_test:\n",
    "        image_ = flattenInput(image_)\n",
    "        testFlatten.append(image_)"
   ]
  },
  {
   "cell_type": "code",
   "execution_count": 1559,
   "id": "2b236780",
   "metadata": {},
   "outputs": [],
   "source": [
    "def convertToBinary(activation,neuronThreshold):\n",
    "    for index in range(activation[0].shape[0]):\n",
    "        \n",
    "        if activation[0][index] > neuronThreshold[0][index]:\n",
    "            activation[0][index] = 0.9\n",
    "        else:\n",
    "            \n",
    "            activation[0][index] = 0.001\n",
    "            \n",
    "    return activation"
   ]
  },
  {
   "cell_type": "code",
   "execution_count": 1560,
   "id": "dacc4fad",
   "metadata": {},
   "outputs": [],
   "source": [
    "def binaryConversion(image):\n",
    "    \n",
    "    for index in range(image.shape[0]):\n",
    "        if image[index] != 0:\n",
    "            image[index] = 1\n",
    "    \n",
    "    return image"
   ]
  },
  {
   "cell_type": "code",
   "execution_count": 1561,
   "id": "215214de",
   "metadata": {},
   "outputs": [
    {
     "data": {
      "text/plain": [
       "(784, 1)"
      ]
     },
     "execution_count": 1561,
     "metadata": {},
     "output_type": "execute_result"
    }
   ],
   "source": [
    "testFlatten[0].shape"
   ]
  },
  {
   "cell_type": "code",
   "execution_count": 1562,
   "id": "220668b7",
   "metadata": {},
   "outputs": [],
   "source": [
    "x = np.full((4),1)"
   ]
  },
  {
   "cell_type": "code",
   "execution_count": 1563,
   "id": "66f95d79",
   "metadata": {},
   "outputs": [
    {
     "data": {
      "text/plain": [
       "array([1, 1, 1, 1])"
      ]
     },
     "execution_count": 1563,
     "metadata": {},
     "output_type": "execute_result"
    }
   ],
   "source": [
    "x"
   ]
  },
  {
   "cell_type": "code",
   "execution_count": 1564,
   "id": "29b7d06c",
   "metadata": {},
   "outputs": [],
   "source": [
    "# Weight Update"
   ]
  },
  {
   "cell_type": "code",
   "execution_count": 1565,
   "id": "a6ae7646",
   "metadata": {},
   "outputs": [],
   "source": [
    "def weightUpdateContainingMemoryElement(epoch,iteration,inputImage,weight):\n",
    "    \"\"\"\n",
    "    Every epoch , We are doing iterations for every image in \n",
    "    the list\n",
    "    \"\"\"\n",
    "    flattenImage = []\n",
    "    for image_ in inputImage:\n",
    "        image_ = flattenInput(image_)\n",
    "        flattenImage.append(image_)\n",
    "    out = np.array(0)\n",
    "    alpha =1e-5 #4 \n",
    "    beta = 1e-7 #5\n",
    "     # alpha , beta = 1e-3 , 1e-2 \n",
    "    # alpha ,beta = 1e-1,1e-2 best values\n",
    "    \n",
    "    thresholdNeurons = np.full((1,20),0.02)\n",
    "    for epoch_ in range(epoch):\n",
    "            random.shuffle(flattenImage)\n",
    "            for input_ in flattenImage:\n",
    "                    out = alpha * np.dot(input_.T , weight) + out \n",
    "                    #out = ActThresholding(out)\n",
    "                    inputM = manipulatingTheArray(input_)\n",
    "                    weight = weight + beta * np.dot(input_,out)\n",
    "                    weight = weightThreshold(weight)\n",
    "                    if(crossThreshold(out,thresholdNeurons)):\n",
    "                       out = 0.0\n",
    "                    else:\n",
    "                       out = out - beta * 0.01\n",
    "            \n",
    "            print(f\"Epoch number {epoch_} finishes\")\n",
    "    return weight"
   ]
  },
  {
   "cell_type": "code",
   "execution_count": 1566,
   "id": "e6a1f1bf",
   "metadata": {},
   "outputs": [],
   "source": [
    "def weightUpdateThresholding(epoch,inputImage,weight):\n",
    "    \"\"\"\n",
    "    Every epoch , We are doing iterations for every image in \n",
    "    the list\n",
    "    \"\"\"\n",
    "    flattenImage = []\n",
    "    for image_ in inputImage:\n",
    "        image_ = flattenInput(image_)\n",
    "        image_ = binaryConversion(image_)\n",
    "        flattenImage.append(image_)\n",
    "    activation = np.array(0)\n",
    "    alpha =1e-5 #4 \n",
    "    beta = 1e-7 #5\n",
    "    \n",
    "    \n",
    "    \n",
    "    thresholdNeurons = np.full((1,200),0.02)\n",
    "    for epoch_ in range(epoch):\n",
    "            random.shuffle(flattenImage)\n",
    "            for input_ in flattenImage:\n",
    "                    activation = alpha * np.dot(input_.T , weight) + activation\n",
    "                    #out = ActThresholding(out)\n",
    "                    afterActivation = convertToBinary(activation,thresholdNeurons)\n",
    "                    #weight = weight + beta * np.dot(input_,afterActivation)\n",
    "                    \n",
    "                    \n",
    "                    \n",
    "                    afterActivation , thresholdNeuron = crossThresholdUpdate(afterActivation,thresholdNeurons)\n",
    "                    weight = weight + beta * np.dot(input_,afterActivation)\n",
    "                    activation = afterActivation\n",
    "            \n",
    "            print(f\"Epoch number {epoch_} finishes\")\n",
    "    return weight"
   ]
  },
  {
   "cell_type": "code",
   "execution_count": 1567,
   "id": "106d77ee",
   "metadata": {},
   "outputs": [],
   "source": [
    "def weightUpdateThresholding(epoch,inputImage,weight):\n",
    "    \"\"\"\n",
    "    Every epoch , We are doing iterations for every image in \n",
    "    the list\n",
    "    \"\"\"\n",
    "    flattenImage = []\n",
    "    for image_ in inputImage:\n",
    "        image_ = flattenInput(image_)\n",
    "        image_ = binaryConversion(image_)\n",
    "        flattenImage.append(image_)\n",
    "    activation = np.array(0)\n",
    "    alpha =1e-5 #4 \n",
    "    beta = 1e-7 #5\n",
    "    \n",
    "    \n",
    "    \n",
    "    thresholdNeurons = np.full((1,201),0.02)\n",
    "    for epoch_ in range(epoch):\n",
    "            random.shuffle(flattenImage)\n",
    "            for input_ in flattenImage:\n",
    "                    activation = alpha * np.dot(input_.T , weight) + activation\n",
    "                    #out = ActThresholding(out)\n",
    "                    afterActivation = convertToBinary(activation,thresholdNeurons)\n",
    "                    #weight = weight + beta * np.dot(input_,afterActivation\n",
    "                    \n",
    "                    afterActivation , thresholdNeuron = crossThresholdUpdate(afterActivation,thresholdNeurons)\n",
    "                    weight = weight + beta * np.dot(input_,afterActivation)\n",
    "                    activation = afterActivation\n",
    "            \n",
    "            print(f\"Epoch number {epoch_} finishes\")\n",
    "    return weight"
   ]
  },
  {
   "cell_type": "code",
   "execution_count": 1568,
   "id": "6591498f",
   "metadata": {},
   "outputs": [],
   "source": [
    "def multipleBlocks(epoch, inputImage, weight):\n",
    "    flattenImage = []\n",
    "    check  = []\n",
    "    for image_ in inputImage:\n",
    "        image_ = flattenInput(image_)\n",
    "        flattenImage.append(image_)\n",
    "    #creating block of images\n",
    "    #print(flattenImage[0])\n",
    "    \n",
    "    index = 0\n",
    "    blockSize = 28\n",
    "    \n",
    "    alpha = 0.1\n",
    "    for epoch_ in range(epoch):\n",
    "        random.shuffle(flattenImage)\n",
    "        for input_ in flattenImage:\n",
    "            \n",
    "            startIndex = 0\n",
    "            errorFromThePreviousLevel = 0\n",
    "            prevVal = 0\n",
    "            val = 0\n",
    "            pVal = 0\n",
    "            while(startIndex < 784):\n",
    "                image_ = input_[startIndex:startIndex + blockSize]\n",
    "                weight_ = weight[startIndex : startIndex + blockSize]\n",
    "                \n",
    "                dotProduct =  np.dot(image_.T,weight_)\n",
    "                \n",
    "                if dotProduct  >= 5 and dotProduct < 1000:\n",
    "                    for index in range(weight_.shape[0]):\n",
    "                        check.append(\"increase\")\n",
    "                        if weight_[index] < 200:\n",
    "                            weight_[index] = weight_[index] + alpha * dotProduct\n",
    "                elif dotProduct < 2:\n",
    "                     for index in range(weight_.shape[0]):\n",
    "                        check.append(\"decrease\")\n",
    "                        if weight_[index] > -200:\n",
    "                            weight_[index] = weight_[index] - alpha * dotProduct\n",
    "                startIndex += blockSize\n",
    "        \n",
    "        print(f\"Epoch : {epoch_} Completed\")\n",
    "    \n",
    "    return weight , check\n"
   ]
  },
  {
   "cell_type": "code",
   "execution_count": 1579,
   "id": "f8d9e8f3",
   "metadata": {},
   "outputs": [],
   "source": [
    "def multipleBlocksWithMemoryElement(epoch, inputImage, weight):\n",
    "    flattenImage = []\n",
    "    check  = []\n",
    "    for image_ in inputImage:\n",
    "        image_ = flattenInput(image_)\n",
    "        flattenImage.append(image_)\n",
    "    #creating block of images\n",
    "    #print(flattenImage[0])\n",
    "    \n",
    "    index = 0\n",
    "    blockSize = 7\n",
    "    out = 0\n",
    "    blockIndex = 0\n",
    "    alpha = 0.1\n",
    "    for epoch_ in range(epoch):\n",
    "        random.shuffle(flattenImage)\n",
    "        output = np.full((112,1),0)\n",
    "        for input_ in flattenImage:\n",
    "            \n",
    "            startIndex = 0\n",
    "            blockIndex = 0\n",
    "            while(startIndex < 784):\n",
    "                image_ = input_[startIndex:startIndex + blockSize]\n",
    "                weight_ = weight[startIndex : startIndex + blockSize]\n",
    "#                 print(weight_.shape)\n",
    "#                 print(output.shape)\n",
    "                dotProduct =  np.dot(image_.T,weight_)\n",
    "                output[blockIndex] = output[blockIndex] + dotProduct\n",
    "                \n",
    "                if dotProduct  >= 5 and dotProduct < 1000:\n",
    "                    for index in range(weight_.shape[0]):\n",
    "                        if weight_[index] < 200:\n",
    "                            weight_[index] = weight_[index] + alpha * output[blockIndex]\n",
    "                elif dotProduct < 5:\n",
    "                     for index in range(weight_.shape[0]):\n",
    "                        if weight_[index] > -1000:\n",
    "                            weight_[index] = weight_[index] - alpha * output[blockIndex]\n",
    "                startIndex += blockSize\n",
    "                \n",
    "#                 if out > 200:\n",
    "#                     out = 0\n",
    "#                 else:\n",
    "#                     out = out - alpha * 0.01\n",
    "                \n",
    "                if(output[blockIndex] > 1000):\n",
    "                    output[blockIndex] = 0\n",
    "                else:\n",
    "                    output[blockIndex] = output[blockIndex] -  alpha * 0.9\n",
    "                blockIndex += 1\n",
    "       \n",
    "        print(f\"Epoch : {epoch_} Completed\")\n",
    "    \n",
    "    return weight , check , output\n"
   ]
  },
  {
   "cell_type": "code",
   "execution_count": 1580,
   "id": "c3fe4137",
   "metadata": {},
   "outputs": [],
   "source": [
    "# 0.9 is working well\n",
    "# 1.5"
   ]
  },
  {
   "cell_type": "code",
   "execution_count": 1581,
   "id": "59cad9bc",
   "metadata": {},
   "outputs": [],
   "source": [
    "weight1 = weightInitialization(784,1)"
   ]
  },
  {
   "cell_type": "code",
   "execution_count": 1582,
   "id": "1e4c9494",
   "metadata": {},
   "outputs": [
    {
     "data": {
      "text/plain": [
       "[<matplotlib.lines.Line2D at 0x2c5440640>]"
      ]
     },
     "execution_count": 1582,
     "metadata": {},
     "output_type": "execute_result"
    },
    {
     "data": {
      "image/png": "[encoded data removed]",
      "text/plain": [
       "<Figure size 640x480 with 1 Axes>"
      ]
     },
     "metadata": {},
     "output_type": "display_data"
    }
   ],
   "source": [
    "plt.plot(weight1)"
   ]
  },
  {
   "cell_type": "code",
   "execution_count": 1583,
   "id": "47c10525",
   "metadata": {},
   "outputs": [
    {
     "name": "stdout",
     "output_type": "stream",
     "text": [
      "[0.58618346]\n",
      "Epoch : 0 Completed\n"
     ]
    }
   ],
   "source": [
    "print(weight1[456])\n",
    "weight1 , check , output= multipleBlocksWithMemoryElement(1,X_train_filter,weight1)"
   ]
  },
  {
   "cell_type": "code",
   "execution_count": 1584,
   "id": "243578ca",
   "metadata": {},
   "outputs": [
    {
     "data": {
      "text/plain": [
       "array([[0],\n",
       "       [0],\n",
       "       [0],\n",
       "       [0],\n",
       "       [0],\n",
       "       [0],\n",
       "       [0],\n",
       "       [0],\n",
       "       [0],\n",
       "       [0],\n",
       "       [0],\n",
       "       [0],\n",
       "       [0],\n",
       "       [0],\n",
       "       [0],\n",
       "       [0],\n",
       "       [0],\n",
       "       [0],\n",
       "       [0],\n",
       "       [0],\n",
       "       [0],\n",
       "       [0],\n",
       "       [0],\n",
       "       [0],\n",
       "       [0],\n",
       "       [0],\n",
       "       [0],\n",
       "       [0],\n",
       "       [0],\n",
       "       [0],\n",
       "       [0],\n",
       "       [0],\n",
       "       [0],\n",
       "       [0],\n",
       "       [0],\n",
       "       [0],\n",
       "       [0],\n",
       "       [0],\n",
       "       [0],\n",
       "       [0],\n",
       "       [0],\n",
       "       [0],\n",
       "       [0],\n",
       "       [0],\n",
       "       [0],\n",
       "       [0],\n",
       "       [0],\n",
       "       [0],\n",
       "       [0],\n",
       "       [0],\n",
       "       [0],\n",
       "       [0],\n",
       "       [0],\n",
       "       [0],\n",
       "       [0],\n",
       "       [0],\n",
       "       [0],\n",
       "       [0],\n",
       "       [0],\n",
       "       [0],\n",
       "       [0],\n",
       "       [0],\n",
       "       [0],\n",
       "       [0],\n",
       "       [0],\n",
       "       [0],\n",
       "       [0],\n",
       "       [0],\n",
       "       [0],\n",
       "       [0],\n",
       "       [0],\n",
       "       [0],\n",
       "       [0],\n",
       "       [0],\n",
       "       [0],\n",
       "       [0],\n",
       "       [0],\n",
       "       [0],\n",
       "       [0],\n",
       "       [0],\n",
       "       [0],\n",
       "       [0],\n",
       "       [0],\n",
       "       [0],\n",
       "       [0],\n",
       "       [0],\n",
       "       [0],\n",
       "       [0],\n",
       "       [0],\n",
       "       [0],\n",
       "       [0],\n",
       "       [0],\n",
       "       [0],\n",
       "       [0],\n",
       "       [0],\n",
       "       [0],\n",
       "       [0],\n",
       "       [0],\n",
       "       [0],\n",
       "       [0],\n",
       "       [0],\n",
       "       [0],\n",
       "       [0],\n",
       "       [0],\n",
       "       [0],\n",
       "       [0],\n",
       "       [0],\n",
       "       [0],\n",
       "       [0],\n",
       "       [0],\n",
       "       [0],\n",
       "       [0]])"
      ]
     },
     "execution_count": 1584,
     "metadata": {},
     "output_type": "execute_result"
    }
   ],
   "source": [
    "output"
   ]
  },
  {
   "cell_type": "code",
   "execution_count": 1585,
   "id": "b51f1e7c",
   "metadata": {},
   "outputs": [
    {
     "data": {
      "text/plain": [
       "[<matplotlib.lines.Line2D at 0x29a009cd0>]"
      ]
     },
     "execution_count": 1585,
     "metadata": {},
     "output_type": "execute_result"
    },
    {
     "data": {
      "image/png": "[encoded data removed]",
      "text/plain": [
       "<Figure size 640x480 with 1 Axes>"
      ]
     },
     "metadata": {},
     "output_type": "display_data"
    }
   ],
   "source": [
    "plt.plot(weight1)"
   ]
  },
  {
   "cell_type": "code",
   "execution_count": 1586,
   "id": "901a7cd2",
   "metadata": {},
   "outputs": [
    {
     "data": {
      "text/plain": [
       "array([-0.01381654])"
      ]
     },
     "execution_count": 1586,
     "metadata": {},
     "output_type": "execute_result"
    }
   ],
   "source": [
    "weight1[456]"
   ]
  },
  {
   "cell_type": "code",
   "execution_count": 1587,
   "id": "312e71e0",
   "metadata": {},
   "outputs": [],
   "source": [
    "#weight1"
   ]
  },
  {
   "cell_type": "code",
   "execution_count": 1588,
   "id": "c5bf3732",
   "metadata": {},
   "outputs": [],
   "source": [
    "def testingMemoryElementWork(inputImage,weight):\n",
    "    result = []\n",
    "    for item in inputImage:\n",
    "        item = flattenInput(item)\n",
    "        result.append(np.dot(item.T,weight))\n",
    "    return result"
   ]
  },
  {
   "cell_type": "code",
   "execution_count": 1589,
   "id": "0194634a",
   "metadata": {},
   "outputs": [],
   "source": [
    "# weight1 = weightInitialization(784,200)\n",
    "# weight1 = weightUpdateThresholding(10,X_train_filter,weight1)"
   ]
  },
  {
   "cell_type": "code",
   "execution_count": 1590,
   "id": "6de46829",
   "metadata": {},
   "outputs": [],
   "source": [
    "# weight1 = weightInitialization(784,20)\n",
    "# weight1 = weightUpdateContainingMemoryElement(2,1,X_train_filter,weight1)"
   ]
  },
  {
   "cell_type": "code",
   "execution_count": 1591,
   "id": "4ad0859f",
   "metadata": {},
   "outputs": [
    {
     "data": {
      "text/plain": [
       "array([0.15728995])"
      ]
     },
     "execution_count": 1591,
     "metadata": {},
     "output_type": "execute_result"
    }
   ],
   "source": [
    "weight1[572]"
   ]
  },
  {
   "cell_type": "code",
   "execution_count": 1592,
   "id": "3b7cf2ca",
   "metadata": {},
   "outputs": [],
   "source": [
    "# Finding the Values for the Digits\""
   ]
  },
  {
   "cell_type": "code",
   "execution_count": 1593,
   "id": "99e2b742",
   "metadata": {},
   "outputs": [],
   "source": [
    "# results_0=printResults(X_train_filter_0,weight1)\n",
    "\n",
    "# results_1=printResults(X_train_filter_1,weight1)\n",
    "# results_2=printResults(X_train_filter_2,weight1)\n",
    "# results_3=printResults(X_train_filter_3,weight1)\n",
    "#results_4=printResults(X_train_filter_4,weight1)"
   ]
  },
  {
   "cell_type": "code",
   "execution_count": 1594,
   "id": "8cccbd46",
   "metadata": {
    "scrolled": false
   },
   "outputs": [],
   "source": [
    "#weight1"
   ]
  },
  {
   "cell_type": "code",
   "execution_count": 1595,
   "id": "02d9ff26",
   "metadata": {},
   "outputs": [
    {
     "data": {
      "text/plain": [
       "[<matplotlib.lines.Line2D at 0x16661b850>]"
      ]
     },
     "execution_count": 1595,
     "metadata": {},
     "output_type": "execute_result"
    },
    {
     "data": {
      "image/png": "[encoded data removed]",
      "text/plain": [
       "<Figure size 640x480 with 1 Axes>"
      ]
     },
     "metadata": {},
     "output_type": "display_data"
    }
   ],
   "source": [
    "plt.plot(weight1)"
   ]
  },
  {
   "cell_type": "code",
   "execution_count": 1596,
   "id": "c52dc580",
   "metadata": {},
   "outputs": [],
   "source": [
    "results_0 , resultSum_0 =printResultsBlock(X_train_filter_0,weight1)\n",
    "\n",
    "results_1 , resultSum_1 =printResultsBlock(X_train_filter_1,weight1)\n",
    "results_2 , resultSum_2 =printResultsBlock(X_train_filter_2,weight1)"
   ]
  },
  {
   "cell_type": "code",
   "execution_count": 1597,
   "id": "07ee26b9",
   "metadata": {},
   "outputs": [
    {
     "data": {
      "text/plain": [
       "112"
      ]
     },
     "execution_count": 1597,
     "metadata": {},
     "output_type": "execute_result"
    }
   ],
   "source": [
    "len(results_0[0])"
   ]
  },
  {
   "cell_type": "code",
   "execution_count": 1598,
   "id": "e4b70a3d",
   "metadata": {},
   "outputs": [],
   "source": [
    "def findMaxNode(result):\n",
    "    max_ = 0\n",
    "    indices = []\n",
    "    ansMode = []\n",
    "    for images in result:\n",
    "        max_index = -1\n",
    "        max_ = 0\n",
    "        for index in range(28):\n",
    "            if(images[index] > max_):\n",
    "                max_ = images[index]\n",
    "                max_index = index\n",
    "        \n",
    "        indices.append(max_index)\n",
    "        \n",
    "    data = Counter(indices)\n",
    "    mode = statistics.mode(indices)\n",
    "    return data,indices,mode"
   ]
  },
  {
   "cell_type": "code",
   "execution_count": 1599,
   "id": "d3b1121e",
   "metadata": {},
   "outputs": [],
   "source": [
    "data_0 , indices_0 , mode_0 = findMaxNode(results_0)\n",
    "data_1 , indices_1 , mode_1 = findMaxNode(results_1)\n",
    "data_2 , indices_2 , mode_2 = findMaxNode(results_2)"
   ]
  },
  {
   "cell_type": "code",
   "execution_count": 1600,
   "id": "3ad90003",
   "metadata": {},
   "outputs": [
    {
     "data": {
      "text/plain": [
       "Counter({22: 1274,\n",
       "         26: 2682,\n",
       "         18: 776,\n",
       "         21: 377,\n",
       "         -1: 201,\n",
       "         27: 461,\n",
       "         19: 18,\n",
       "         13: 9,\n",
       "         25: 80,\n",
       "         14: 5,\n",
       "         6: 1,\n",
       "         12: 1,\n",
       "         20: 15,\n",
       "         17: 3,\n",
       "         24: 1,\n",
       "         23: 1,\n",
       "         16: 1,\n",
       "         15: 14,\n",
       "         5: 1,\n",
       "         8: 2})"
      ]
     },
     "execution_count": 1600,
     "metadata": {},
     "output_type": "execute_result"
    }
   ],
   "source": [
    "data_0"
   ]
  },
  {
   "cell_type": "code",
   "execution_count": 1601,
   "id": "177cb0f3",
   "metadata": {},
   "outputs": [
    {
     "data": {
      "text/plain": [
       "26"
      ]
     },
     "execution_count": 1601,
     "metadata": {},
     "output_type": "execute_result"
    }
   ],
   "source": [
    "mode_0"
   ]
  },
  {
   "cell_type": "code",
   "execution_count": 1602,
   "id": "0f3c30e9",
   "metadata": {},
   "outputs": [
    {
     "data": {
      "text/plain": [
       "Counter({23: 171,\n",
       "         18: 1408,\n",
       "         21: 697,\n",
       "         27: 288,\n",
       "         26: 2639,\n",
       "         22: 1085,\n",
       "         25: 76,\n",
       "         20: 10,\n",
       "         19: 232,\n",
       "         16: 1,\n",
       "         -1: 86,\n",
       "         17: 21,\n",
       "         13: 10,\n",
       "         15: 8,\n",
       "         6: 2,\n",
       "         10: 2,\n",
       "         14: 4,\n",
       "         9: 1,\n",
       "         24: 1})"
      ]
     },
     "execution_count": 1602,
     "metadata": {},
     "output_type": "execute_result"
    }
   ],
   "source": [
    "data_1"
   ]
  },
  {
   "cell_type": "code",
   "execution_count": 1603,
   "id": "972c0647",
   "metadata": {},
   "outputs": [
    {
     "data": {
      "text/plain": [
       "26"
      ]
     },
     "execution_count": 1603,
     "metadata": {},
     "output_type": "execute_result"
    }
   ],
   "source": [
    "mode_1"
   ]
  },
  {
   "cell_type": "code",
   "execution_count": 1604,
   "id": "5795306b",
   "metadata": {},
   "outputs": [
    {
     "data": {
      "text/plain": [
       "Counter({26: 1979,\n",
       "         22: 676,\n",
       "         20: 271,\n",
       "         -1: 328,\n",
       "         21: 586,\n",
       "         27: 139,\n",
       "         15: 30,\n",
       "         18: 1740,\n",
       "         10: 25,\n",
       "         25: 83,\n",
       "         13: 23,\n",
       "         23: 1,\n",
       "         14: 12,\n",
       "         11: 1,\n",
       "         9: 30,\n",
       "         24: 7,\n",
       "         6: 6,\n",
       "         16: 7,\n",
       "         12: 7,\n",
       "         5: 3,\n",
       "         17: 2,\n",
       "         19: 2})"
      ]
     },
     "execution_count": 1604,
     "metadata": {},
     "output_type": "execute_result"
    }
   ],
   "source": [
    "data_2"
   ]
  },
  {
   "cell_type": "code",
   "execution_count": 1605,
   "id": "f9ff8aa5",
   "metadata": {},
   "outputs": [
    {
     "data": {
      "text/plain": [
       "26"
      ]
     },
     "execution_count": 1605,
     "metadata": {},
     "output_type": "execute_result"
    }
   ],
   "source": [
    "mode_2"
   ]
  },
  {
   "cell_type": "code",
   "execution_count": 1606,
   "id": "44229641",
   "metadata": {},
   "outputs": [],
   "source": [
    "#st.t.interval(alpha=0.95, df=len(data)-1, loc=np.mean(data), scale=st.sem(data))\n",
    "#do this and maximum val and then go with variations"
   ]
  },
  {
   "cell_type": "code",
   "execution_count": 1607,
   "id": "0d1d593b",
   "metadata": {},
   "outputs": [],
   "source": [
    "#results_0=printResultsBlock(X_train_filter_0,weight1)\n",
    "#results_1=printResultsBlock(X_train_filter_1,weight1)\n",
    "#results_2=printResultsBlock(X_train_filter_2,weight1)\n",
    "# results_3=printResultsBlock(X_train_filter_3,weight1)\n",
    "# results_4=printResultsBlock(X_train_filter_4,weight1)"
   ]
  },
  {
   "cell_type": "code",
   "execution_count": 1608,
   "id": "c578039c",
   "metadata": {},
   "outputs": [],
   "source": [
    "#results_0"
   ]
  },
  {
   "cell_type": "code",
   "execution_count": 1609,
   "id": "9a54997d",
   "metadata": {},
   "outputs": [],
   "source": [
    "#results_1"
   ]
  },
  {
   "cell_type": "code",
   "execution_count": 1610,
   "id": "53866c24",
   "metadata": {},
   "outputs": [],
   "source": [
    "#results_2"
   ]
  },
  {
   "cell_type": "code",
   "execution_count": 1611,
   "id": "a35c8176",
   "metadata": {},
   "outputs": [],
   "source": [
    "#results_3"
   ]
  },
  {
   "cell_type": "code",
   "execution_count": 1612,
   "id": "a395b19a",
   "metadata": {},
   "outputs": [],
   "source": [
    "meanOfTrainingData_0 = []\n",
    "medianOfTrainingData_0 = []\n",
    "for index in range(len(resultSum_0)):\n",
    "    meanOfTrainingData_0.append(np.mean(resultSum_0[index]))\n",
    "    medianOfTrainingData_0.append(np.median(resultSum_0[index]))\n",
    "    trainingMeanValue_0 = np.mean(medianOfTrainingData_0)"
   ]
  },
  {
   "cell_type": "code",
   "execution_count": 1613,
   "id": "faea5f23",
   "metadata": {},
   "outputs": [],
   "source": [
    "meanOfTrainingData_1 = []\n",
    "medianOfTrainingData_1 = []\n",
    "for index in range(len(resultSum_1)):\n",
    "    meanOfTrainingData_1.append(np.mean(resultSum_1[index]))\n",
    "    medianOfTrainingData_1.append(np.median(resultSum_1[index]))\n",
    "    trainingMeanValue_1 = np.mean(medianOfTrainingData_1)"
   ]
  },
  {
   "cell_type": "code",
   "execution_count": 1614,
   "id": "1741cefb",
   "metadata": {},
   "outputs": [],
   "source": [
    "meanOfTrainingData_2 = []\n",
    "medianOfTrainingData_2 = []\n",
    "for index in range(len(resultSum_2)):\n",
    "    meanOfTrainingData_2.append(np.mean(resultSum_2[index]))\n",
    "    medianOfTrainingData_2.append(np.median(resultSum_2[index]))\n",
    "    trainingMeanValue_2 = np.mean(medianOfTrainingData_2)"
   ]
  },
  {
   "cell_type": "code",
   "execution_count": 1615,
   "id": "503622f9",
   "metadata": {},
   "outputs": [],
   "source": [
    "# meanOfTrainingData_3 = []\n",
    "# medianOfTrainingData_3 = []\n",
    "# for index in range(len(results_3)):\n",
    "#     meanOfTrainingData_3.append(np.mean(results_3[index]))\n",
    "#     medianOfTrainingData_3.append(np.median(results_3[index]))\n",
    "#     trainingMeanValue_3 = np.mean(medianOfTrainingData_3)"
   ]
  },
  {
   "cell_type": "code",
   "execution_count": 1616,
   "id": "a265f102",
   "metadata": {},
   "outputs": [],
   "source": [
    "# meanOfTrainingData_4 = []\n",
    "# medianOfTrainingData_4 = []\n",
    "# for index in range(len(results_4)):\n",
    "#     meanOfTrainingData_4.append(np.mean(results_4[index]))\n",
    "#     medianOfTrainingData_4.append(np.median(results_4[index]))\n",
    "#     trainingMeanValue_4 = np.mean(medianOfTrainingData_4)"
   ]
  },
  {
   "cell_type": "code",
   "execution_count": 1617,
   "id": "71b300cc",
   "metadata": {},
   "outputs": [
    {
     "data": {
      "text/plain": [
       "7.49706901260388"
      ]
     },
     "execution_count": 1617,
     "metadata": {},
     "output_type": "execute_result"
    }
   ],
   "source": [
    "trainingMeanValue_0"
   ]
  },
  {
   "cell_type": "code",
   "execution_count": 1618,
   "id": "29bd0005",
   "metadata": {},
   "outputs": [
    {
     "data": {
      "text/plain": [
       "2.6343196870644228"
      ]
     },
     "execution_count": 1618,
     "metadata": {},
     "output_type": "execute_result"
    }
   ],
   "source": [
    "trainingMeanValue_1"
   ]
  },
  {
   "cell_type": "code",
   "execution_count": 1619,
   "id": "d3d614d1",
   "metadata": {},
   "outputs": [
    {
     "data": {
      "text/plain": [
       "6.980979330476247"
      ]
     },
     "execution_count": 1619,
     "metadata": {},
     "output_type": "execute_result"
    }
   ],
   "source": [
    "trainingMeanValue_2"
   ]
  },
  {
   "cell_type": "code",
   "execution_count": 1620,
   "id": "590c983c",
   "metadata": {},
   "outputs": [],
   "source": [
    "# trainingMeanValue_3"
   ]
  },
  {
   "cell_type": "code",
   "execution_count": 1621,
   "id": "da89ffc7",
   "metadata": {},
   "outputs": [],
   "source": [
    "# trainingMeanValue_4"
   ]
  },
  {
   "cell_type": "code",
   "execution_count": 1622,
   "id": "c209828c",
   "metadata": {},
   "outputs": [],
   "source": [
    "outputTrainingValues = np.array([trainingMeanValue_0,trainingMeanValue_1,trainingMeanValue_2])#,trainingMeanValue_3,trainingMeanValue_4])"
   ]
  },
  {
   "cell_type": "code",
   "execution_count": 1623,
   "id": "67783900",
   "metadata": {},
   "outputs": [],
   "source": [
    "outputTrainingValuesMax = np.array([9,10,17])"
   ]
  },
  {
   "cell_type": "code",
   "execution_count": 1624,
   "id": "8728faf9",
   "metadata": {},
   "outputs": [],
   "source": [
    "# Prediction"
   ]
  },
  {
   "cell_type": "code",
   "execution_count": 1625,
   "id": "5bd0676d",
   "metadata": {},
   "outputs": [],
   "source": [
    "def prediction(data,finalWeight):\n",
    "        predict = []\n",
    "        for item in data:\n",
    "            item = flattenInput(item)\n",
    "            res = np.dot(item.T,finalWeight)\n",
    "            res = np.median(res)\n",
    "            distance = np.abs(outputTrainingValues - res)\n",
    "            predict.append(np.argmin(distance))\n",
    "        return predict"
   ]
  },
  {
   "cell_type": "code",
   "execution_count": 1626,
   "id": "c09f4c0d",
   "metadata": {},
   "outputs": [],
   "source": [
    "def predictionBlocks(data,finalWeight):\n",
    "        predict = []\n",
    "        for item in data:\n",
    "            item = flattenInput(item)\n",
    "            res = np.dot(item.T,finalWeight)\n",
    "            distance = np.abs(outputTrainingValues - res)\n",
    "            predict.append(np.argmin(distance))\n",
    "        return predict"
   ]
  },
  {
   "cell_type": "code",
   "execution_count": null,
   "id": "5540122e",
   "metadata": {},
   "outputs": [],
   "source": []
  },
  {
   "cell_type": "code",
   "execution_count": 1627,
   "id": "18203ede",
   "metadata": {},
   "outputs": [],
   "source": [
    "def predictionMax(data,finalWeight):\n",
    "        predict = []\n",
    "        results, resultSum = printResultsBlock(data,finalWeight)\n",
    "        data_ , indices_ , mode_ = findMaxNode(results)\n",
    "        predictMax = []\n",
    "        combinedPred = []\n",
    "        for index in range(len(results)):\n",
    "            #print(resultSum[index])\n",
    "            #print(indices_[index])\n",
    "            distance = np.abs(outputTrainingValues - resultSum[index])\n",
    "            distanceMax = np.abs(outputTrainingValuesMax - indices_[index]) \n",
    "            \n",
    "            predict.append(np.argmin(distance))\n",
    "            predictMax.append(np.argmin(distanceMax))\n",
    "            \n",
    "            \n",
    "            #print(predictDist)\n",
    "            #if indices_[index] == 21:\n",
    "            #    predictMax.append(0)\n",
    "            #elif indices_[index] == 6:\n",
    "            #    predictMax.append(1)\n",
    "            #elif indices_[index] == 19:\n",
    "            #    predictMax.append(2)\n",
    "            \n",
    "           \n",
    "                #predict.append(0)\n",
    "                #if predictDist == 0 and predictMode == 1:\n",
    "                #    predict.append(0)\n",
    "                #elif predictDist == 1 and predictMode == 1:\n",
    "                #    predict.append(1)\n",
    "                #elif predictDist == 2 and predictMode == 1:\n",
    "                #    predict.append(2)\n",
    "        return predict , predictMax"
   ]
  },
  {
   "cell_type": "code",
   "execution_count": 1628,
   "id": "4b7f8be3",
   "metadata": {},
   "outputs": [],
   "source": [
    "#pred = predictionBlocks(X_test_filter ,weight1)"
   ]
  },
  {
   "cell_type": "code",
   "execution_count": 1629,
   "id": "bb67979a",
   "metadata": {},
   "outputs": [],
   "source": [
    "#pred = prediction(X_test_filter ,weight1)"
   ]
  },
  {
   "cell_type": "code",
   "execution_count": 1630,
   "id": "ff6ab04d",
   "metadata": {},
   "outputs": [],
   "source": [
    "pred , predictMax =  predictionMax(X_test_filter,weight1)"
   ]
  },
  {
   "cell_type": "code",
   "execution_count": 1631,
   "id": "5a2588c4",
   "metadata": {},
   "outputs": [
    {
     "data": {
      "text/plain": [
       "array([0, 1, 2])"
      ]
     },
     "execution_count": 1631,
     "metadata": {},
     "output_type": "execute_result"
    }
   ],
   "source": [
    "np.unique(pred)"
   ]
  },
  {
   "cell_type": "code",
   "execution_count": 1632,
   "id": "f7a7e622",
   "metadata": {},
   "outputs": [
    {
     "data": {
      "text/plain": [
       "array([0, 1, 2])"
      ]
     },
     "execution_count": 1632,
     "metadata": {},
     "output_type": "execute_result"
    }
   ],
   "source": [
    "np.unique(predictMax)"
   ]
  },
  {
   "cell_type": "code",
   "execution_count": 1633,
   "id": "2bfbb8fd",
   "metadata": {},
   "outputs": [
    {
     "data": {
      "text/plain": [
       "array([0, 1, 2], dtype=uint8)"
      ]
     },
     "execution_count": 1633,
     "metadata": {},
     "output_type": "execute_result"
    }
   ],
   "source": [
    "np.unique(Y_test_filter)"
   ]
  },
  {
   "cell_type": "code",
   "execution_count": 1634,
   "id": "e09674f0",
   "metadata": {},
   "outputs": [],
   "source": [
    "def compute_accuracy(y_true, y_pred):\n",
    "    correct_predictions = 0\n",
    "    accuracy = 0\n",
    "    for true, predicted in zip(y_true, y_pred):\n",
    "        if true == predicted:\n",
    "            correct_predictions += 1\n",
    "            accuracy = correct_predictions/len(y_true)\n",
    "    return accuracy"
   ]
  },
  {
   "cell_type": "code",
   "execution_count": 1635,
   "id": "e3465ff0",
   "metadata": {},
   "outputs": [],
   "source": [
    "acc = compute_accuracy(Y_test_filter,pred)"
   ]
  },
  {
   "cell_type": "code",
   "execution_count": 1636,
   "id": "92eadc36",
   "metadata": {},
   "outputs": [
    {
     "data": {
      "text/plain": [
       "0.5983476326660312"
      ]
     },
     "execution_count": 1636,
     "metadata": {},
     "output_type": "execute_result"
    }
   ],
   "source": [
    "acc"
   ]
  },
  {
   "cell_type": "code",
   "execution_count": 1637,
   "id": "b9062810",
   "metadata": {},
   "outputs": [],
   "source": [
    "acc = compute_accuracy(Y_test_filter,predictMax)"
   ]
  },
  {
   "cell_type": "code",
   "execution_count": 1638,
   "id": "1837a06b",
   "metadata": {},
   "outputs": [
    {
     "data": {
      "text/plain": [
       "0.3158563711471242"
      ]
     },
     "execution_count": 1638,
     "metadata": {},
     "output_type": "execute_result"
    }
   ],
   "source": [
    "acc"
   ]
  },
  {
   "cell_type": "markdown",
   "id": "7bb8639d",
   "metadata": {},
   "source": [
    "# Calculating Individual Accuracies"
   ]
  },
  {
   "cell_type": "code",
   "execution_count": 760,
   "id": "b997e66d",
   "metadata": {},
   "outputs": [],
   "source": [
    "def prediction_0(X, w):\n",
    "    result = []\n",
    "    res = printResultsBlock(X,w)\n",
    "    indices = findMaxNode(res)\n",
    "    \n",
    "    for info in indices:\n",
    "        if info == 8:\n",
    "            result.append(0)\n",
    "        else:\n",
    "            result.append(-1)\n",
    "    \n",
    "    return result\n",
    "        "
   ]
  },
  {
   "cell_type": "code",
   "execution_count": 761,
   "id": "34a5a2e5",
   "metadata": {},
   "outputs": [],
   "source": [
    "pred_for_0 , predMax_0 = predictionMax(X_test_filter_0 ,weight1)"
   ]
  },
  {
   "cell_type": "code",
   "execution_count": 762,
   "id": "dc813ecf",
   "metadata": {},
   "outputs": [],
   "source": [
    "acc_0 = compute_accuracy(Y_test_filter_0,predMax_0)"
   ]
  },
  {
   "cell_type": "code",
   "execution_count": 763,
   "id": "73d1cfe5",
   "metadata": {},
   "outputs": [
    {
     "data": {
      "text/plain": [
       "0.3295918367346939"
      ]
     },
     "execution_count": 763,
     "metadata": {},
     "output_type": "execute_result"
    }
   ],
   "source": [
    "acc_0"
   ]
  },
  {
   "cell_type": "code",
   "execution_count": 764,
   "id": "b9f58c24",
   "metadata": {},
   "outputs": [],
   "source": [
    "pred_for_1 , predMax_1= predictionMax(X_test_filter_1 ,weight1)"
   ]
  },
  {
   "cell_type": "code",
   "execution_count": 765,
   "id": "77354fd3",
   "metadata": {},
   "outputs": [],
   "source": [
    "acc_1 = compute_accuracy(Y_test_filter_1,predMax_1)"
   ]
  },
  {
   "cell_type": "code",
   "execution_count": 766,
   "id": "32382ba3",
   "metadata": {},
   "outputs": [
    {
     "data": {
      "text/plain": [
       "0.5277533039647577"
      ]
     },
     "execution_count": 766,
     "metadata": {},
     "output_type": "execute_result"
    }
   ],
   "source": [
    "acc_1"
   ]
  },
  {
   "cell_type": "code",
   "execution_count": 767,
   "id": "06bd8941",
   "metadata": {},
   "outputs": [],
   "source": [
    "pred_for_2 , predMax_2 = predictionMax(X_test_filter_2,weight1)"
   ]
  },
  {
   "cell_type": "code",
   "execution_count": 768,
   "id": "e9d1edba",
   "metadata": {},
   "outputs": [],
   "source": [
    "acc_2 = compute_accuracy(Y_test_filter_2,predMax_2)"
   ]
  },
  {
   "cell_type": "code",
   "execution_count": 769,
   "id": "edabbc61",
   "metadata": {},
   "outputs": [
    {
     "data": {
      "text/plain": [
       "0.6753875968992248"
      ]
     },
     "execution_count": 769,
     "metadata": {},
     "output_type": "execute_result"
    }
   ],
   "source": [
    "acc_2"
   ]
  },
  {
   "cell_type": "code",
   "execution_count": 770,
   "id": "4e2e9705",
   "metadata": {},
   "outputs": [],
   "source": [
    "#pred_for_3 = prediction(X_test_filter_3,weight1)"
   ]
  },
  {
   "cell_type": "code",
   "execution_count": 771,
   "id": "170c2442",
   "metadata": {},
   "outputs": [],
   "source": [
    "#acc_3 = compute_accuracy(Y_test_filter_3,pred_for_3)"
   ]
  },
  {
   "cell_type": "code",
   "execution_count": 772,
   "id": "655a4add",
   "metadata": {},
   "outputs": [],
   "source": [
    "#acc_3"
   ]
  },
  {
   "cell_type": "code",
   "execution_count": 773,
   "id": "c67c985c",
   "metadata": {},
   "outputs": [],
   "source": [
    "#pred_for_4 = prediction(X_test_filter_4,weight1)"
   ]
  },
  {
   "cell_type": "code",
   "execution_count": 774,
   "id": "36f5348b",
   "metadata": {},
   "outputs": [],
   "source": [
    "#acc_4 = compute_accuracy(Y_test_filter_4,pred_for_4)"
   ]
  },
  {
   "cell_type": "code",
   "execution_count": 775,
   "id": "13b5e8cf",
   "metadata": {},
   "outputs": [],
   "source": [
    "#acc_4"
   ]
  },
  {
   "cell_type": "markdown",
   "id": "ae141bb2",
   "metadata": {},
   "source": [
    "# Visualization"
   ]
  },
  {
   "cell_type": "code",
   "execution_count": 776,
   "id": "d55aee91",
   "metadata": {},
   "outputs": [],
   "source": [
    "#medianOfTrainingData_0,medianOfTrainingData_1,medianOfTrainingData_4"
   ]
  },
  {
   "cell_type": "code",
   "execution_count": 777,
   "id": "7024d245",
   "metadata": {},
   "outputs": [
    {
     "data": {
      "image/png": "[encoded data removed]",
      "text/plain": [
       "<Figure size 640x480 with 2 Axes>"
      ]
     },
     "metadata": {},
     "output_type": "display_data"
    }
   ],
   "source": [
    "import matplotlib.pyplot as plt\n",
    "import numpy\n",
    "from sklearn import metrics\n",
    "\n",
    "actual = numpy.random.binomial(1,.9,size = 1000)\n",
    "predicted = numpy.random.binomial(1,.9,size = 1000)\n",
    "\n",
    "confusion_matrix = metrics.confusion_matrix(Y_test_filter,pred)\n",
    "\n",
    "cm_display = metrics.ConfusionMatrixDisplay(confusion_matrix = confusion_matrix, display_labels = [0,1 ,2])\n",
    "\n",
    "cm_display.plot()\n",
    "plt.show()"
   ]
  },
  {
   "cell_type": "code",
   "execution_count": 779,
   "id": "e59ec1d8",
   "metadata": {},
   "outputs": [
    {
     "data": {
      "image/png": "[encoded data removed]",
      "text/plain": [
       "<Figure size 640x480 with 2 Axes>"
      ]
     },
     "metadata": {},
     "output_type": "display_data"
    }
   ],
   "source": [
    "import matplotlib.pyplot as plt\n",
    "import numpy\n",
    "from sklearn import metrics\n",
    "\n",
    "actual = numpy.random.binomial(1,.9,size = 1000)\n",
    "predicted = numpy.random.binomial(1,.9,size = 1000)\n",
    "\n",
    "confusion_matrix = metrics.confusion_matrix(Y_test_filter,predictMax)\n",
    "\n",
    "cm_display = metrics.ConfusionMatrixDisplay(confusion_matrix = confusion_matrix, display_labels = [0,1 ,2])\n",
    "\n",
    "cm_display.plot()\n",
    "plt.show()"
   ]
  },
  {
   "cell_type": "code",
   "execution_count": 548,
   "id": "d79615c1",
   "metadata": {},
   "outputs": [
    {
     "data": {
      "text/plain": [
       "5923"
      ]
     },
     "execution_count": 548,
     "metadata": {},
     "output_type": "execute_result"
    }
   ],
   "source": [
    "len(medianOfTrainingData_0)"
   ]
  },
  {
   "cell_type": "code",
   "execution_count": null,
   "id": "9e1ad661",
   "metadata": {},
   "outputs": [],
   "source": []
  },
  {
   "cell_type": "code",
   "execution_count": null,
   "id": "6b772f23",
   "metadata": {},
   "outputs": [],
   "source": []
  }
 ],
 "metadata": {
  "kernelspec": {
   "display_name": "Python 3.9 (Tensorflow)",
   "language": "python",
   "name": "tensorflow"
  },
  "language_info": {
   "codemirror_mode": {
    "name": "ipython",
    "version": 3
   },
   "file_extension": ".py",
   "mimetype": "text/x-python",
   "name": "python",
   "nbconvert_exporter": "python",
   "pygments_lexer": "ipython3",
   "version": "3.9.13"
  }
 },
 "nbformat": 4,
 "nbformat_minor": 5
}
