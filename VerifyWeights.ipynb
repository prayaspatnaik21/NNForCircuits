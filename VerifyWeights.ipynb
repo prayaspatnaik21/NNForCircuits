{
 "cells": [
  {
   "cell_type": "code",
   "execution_count": 5,
   "id": "fd18bf5d",
   "metadata": {},
   "outputs": [],
   "source": [
    "import pandas as pd\n",
    "from collections import Counter\n",
    "import numpy as np\n",
    "import matplotlib.pyplot as plt\n",
    "import sklearn\n",
    "import random\n",
    "import statistics"
   ]
  },
  {
   "cell_type": "code",
   "execution_count": 6,
   "id": "6bbafc2d",
   "metadata": {},
   "outputs": [],
   "source": [
    "from tensorflow.keras.datasets import mnist"
   ]
  },
  {
   "cell_type": "code",
   "execution_count": 7,
   "id": "ce468c19",
   "metadata": {},
   "outputs": [],
   "source": [
    "(X_train,Y_train) , (X_test,Y_test) = mnist.load_data()"
   ]
  },
  {
   "cell_type": "code",
   "execution_count": 8,
   "id": "59fc1577",
   "metadata": {},
   "outputs": [
    {
     "name": "stdout",
     "output_type": "stream",
     "text": [
      "MNIST Dataset Shape:\n",
      "X_train: (60000, 28, 28)\n",
      "Y_train: (60000,)\n",
      "X_test:  (10000, 28, 28)\n",
      "Y_test:  (10000,)\n"
     ]
    }
   ],
   "source": [
    "print('MNIST Dataset Shape:')\n",
    "print('X_train: ' + str(X_train.shape))\n",
    "print('Y_train: ' + str(Y_train.shape))\n",
    "print('X_test:  '  + str(X_test.shape))\n",
    "print('Y_test:  '  + str(Y_test.shape))"
   ]
  },
  {
   "cell_type": "code",
   "execution_count": 9,
   "id": "e488007f",
   "metadata": {},
   "outputs": [],
   "source": [
    "sharpen = np.array([\n",
    "    [0, -1, 0],\n",
    "    [-1, 5, -1],\n",
    "    [0, -1, 0]\n",
    "])\n",
    "\n",
    "blur = np.array([\n",
    "    [0.0625, 0.125, 0.0625],\n",
    "    [0.125,  0.25,  0.125],\n",
    "    [0.0625, 0.125, 0.0625]\n",
    "])\n",
    "\n",
    "outline = np.array([\n",
    "    [-1, -1, -1],\n",
    "    [-1,  8, -1],\n",
    "    [-1, -1, -1]\n",
    "])"
   ]
  },
  {
   "cell_type": "code",
   "execution_count": 10,
   "id": "1475fbbb",
   "metadata": {},
   "outputs": [],
   "source": [
    "def calculateOutputSize(imgSize, kernelSize):\n",
    "    return imgSize - kernelSize + 1;"
   ]
  },
  {
   "cell_type": "code",
   "execution_count": 11,
   "id": "4a49a29a",
   "metadata": {},
   "outputs": [],
   "source": [
    "def convolve(img, kernel):\n",
    "    outputSize = calculateOutputSize(img.shape[0],kernel.shape[0])\n",
    "    k = kernel.shape[0]\n",
    "    convolvedImage = np.zeros(shape=(outputSize, outputSize))\n",
    "    for rowIndex in range(outputSize):\n",
    "        for colIndex in range(outputSize):\n",
    "            mat = img[rowIndex:rowIndex+k, colIndex:colIndex+k]\n",
    "            convolvedImage[rowIndex, colIndex] = np.sum(np.multiply(mat, kernel))\n",
    "            \n",
    "    return convolvedImage"
   ]
  },
  {
   "cell_type": "code",
   "execution_count": 12,
   "id": "0ab48880",
   "metadata": {},
   "outputs": [],
   "source": [
    "# X_train_convolve = []\n",
    "\n",
    "# for img in X_train:\n",
    "#     img = convolve(img,blur)\n",
    "#     img = convolve(img,blur)\n",
    "#     img = convolve(img,blur)\n",
    "#     img = convolve(img,blur)\n",
    "#     #img = convolve(img,blur)\n",
    "#     X_train_convolve.append(img)"
   ]
  },
  {
   "cell_type": "code",
   "execution_count": 13,
   "id": "2fd179c4",
   "metadata": {},
   "outputs": [],
   "source": [
    "# X_train_convolve = np.array(X_train_convolve)"
   ]
  },
  {
   "cell_type": "code",
   "execution_count": 14,
   "id": "5dfc2564",
   "metadata": {},
   "outputs": [],
   "source": [
    "# X_test_convolve = []\n",
    "# for img in X_test:\n",
    "#     img = convolve(img,blur)\n",
    "#     img = convolve(img,blur)\n",
    "#     img = convolve(img,blur)\n",
    "#     img = convolve(img,blur)\n",
    "#     #img = convolve(img,blur)\n",
    "#     X_test_convolve.append(img)"
   ]
  },
  {
   "cell_type": "code",
   "execution_count": 15,
   "id": "af0d6992",
   "metadata": {},
   "outputs": [],
   "source": [
    "# X_test_convolve = np.array(X_test_convolve)  "
   ]
  },
  {
   "cell_type": "code",
   "execution_count": 16,
   "id": "863c0ca1",
   "metadata": {},
   "outputs": [],
   "source": [
    "# train_filter = np.where((Y_train == 0 ) | (Y_train == 1) | (Y_train == 2) | (Y_train == 3) | (Y_train == 4))\n",
    "# test_filter = np.where((Y_test == 0) | (Y_test == 1) | (Y_test == 2) | (Y_test == 3) | (Y_test == 4))"
   ]
  },
  {
   "cell_type": "code",
   "execution_count": 17,
   "id": "d803729c",
   "metadata": {},
   "outputs": [],
   "source": [
    "train_filter = np.where((Y_train == 0 ) | (Y_train == 1) | (Y_train == 2))\n",
    "test_filter = np.where((Y_test == 0) | (Y_test == 1) | (Y_test == 2))"
   ]
  },
  {
   "cell_type": "code",
   "execution_count": 18,
   "id": "8e35058c",
   "metadata": {},
   "outputs": [],
   "source": [
    "X_train_filter, Y_train_filter = X_train[train_filter], Y_train[train_filter]\n",
    "X_test_filter, Y_test_filter = X_test[test_filter], Y_test[test_filter]"
   ]
  },
  {
   "cell_type": "code",
   "execution_count": 19,
   "id": "9508cc4c",
   "metadata": {},
   "outputs": [],
   "source": [
    "train_filter_0 = np.where(Y_train == 0)\n",
    "test_filter_0 = np.where(Y_test == 0)\n",
    "\n",
    "X_train_filter_0 , Y_train_filter_0 = X_train[train_filter_0],Y_train[train_filter_0]\n",
    "X_test_filter_0 , Y_test_filter_0 = X_test[test_filter_0] , Y_test[test_filter_0]"
   ]
  },
  {
   "cell_type": "code",
   "execution_count": 20,
   "id": "3f743fc7",
   "metadata": {},
   "outputs": [],
   "source": [
    "train_filter_1 = np.where(Y_train == 1)\n",
    "test_filter_1 = np.where(Y_test == 1)\n",
    "\n",
    "X_train_filter_1 , Y_train_filter_1 = X_train[train_filter_1],Y_train[train_filter_1]\n",
    "X_test_filter_1 , Y_test_filter_1 = X_test[test_filter_1] , Y_test[test_filter_1]"
   ]
  },
  {
   "cell_type": "code",
   "execution_count": 21,
   "id": "0f785e2d",
   "metadata": {},
   "outputs": [],
   "source": [
    "# train_filter_3 = np.where(Y_train == 3)\n",
    "# test_filter_3 = np.where(Y_test == 3)\n",
    "\n",
    "# X_train_filter_3 , Y_train_filter_3 = X_train[train_filter_3],Y_train[train_filter_3]\n",
    "# X_test_filter_3 , Y_test_filter_3 = X_test[test_filter_3] , Y_test[test_filter_3]"
   ]
  },
  {
   "cell_type": "code",
   "execution_count": 22,
   "id": "0e8fea8d",
   "metadata": {},
   "outputs": [],
   "source": [
    "# train_filter_4 = np.where(Y_train == 4)\n",
    "# test_filter_4 = np.where(Y_test == 4)\n",
    "\n",
    "# X_train_filter_4 , Y_train_filter_4 = X_train[train_filter_4],Y_train[train_filter_4]\n",
    "# X_test_filter_4 , Y_test_filter_4 = X_test[test_filter_4] , Y_test[test_filter_4]"
   ]
  },
  {
   "cell_type": "code",
   "execution_count": 23,
   "id": "274f3549",
   "metadata": {},
   "outputs": [],
   "source": [
    "train_filter_2 = np.where(Y_train == 2)\n",
    "test_filter_2 = np.where(Y_test == 2)\n",
    "\n",
    "X_train_filter_2 , Y_train_filter_2 = X_train[train_filter_2],Y_train[train_filter_2]\n",
    "X_test_filter_2 , Y_test_filter_2 = X_test[test_filter_2] , Y_test[test_filter_2]"
   ]
  },
  {
   "cell_type": "code",
   "execution_count": 24,
   "id": "79d8c7d7",
   "metadata": {},
   "outputs": [],
   "source": [
    "# Normalize the Images"
   ]
  },
  {
   "cell_type": "code",
   "execution_count": 25,
   "id": "ccd77268",
   "metadata": {},
   "outputs": [],
   "source": [
    "X_train_filter = X_train_filter/255.0\n",
    "X_test_filter = X_test_filter/255.0"
   ]
  },
  {
   "cell_type": "code",
   "execution_count": 26,
   "id": "751c74f0",
   "metadata": {},
   "outputs": [],
   "source": [
    "X_train_filter_0 = X_train_filter_0/255.0\n",
    "X_test_filter_0 = X_test_filter_0/255.0"
   ]
  },
  {
   "cell_type": "code",
   "execution_count": 27,
   "id": "7e8d017c",
   "metadata": {},
   "outputs": [],
   "source": [
    "X_train_filter_2 = X_train_filter_2/255.0\n",
    "X_test_filter_2 = X_test_filter_2/255.0"
   ]
  },
  {
   "cell_type": "code",
   "execution_count": 28,
   "id": "cb94f8f4",
   "metadata": {},
   "outputs": [],
   "source": [
    "X_train_filter_1 = X_train_filter_1/255.0\n",
    "X_test_filter_1 = X_test_filter_1/255.0"
   ]
  },
  {
   "cell_type": "code",
   "execution_count": 29,
   "id": "275080af",
   "metadata": {},
   "outputs": [],
   "source": [
    "# X_train_filter_3 = X_train_filter_3/255.0\n",
    "# X_test_filter_3 = X_test_filter_3/255.0"
   ]
  },
  {
   "cell_type": "code",
   "execution_count": 30,
   "id": "8684de11",
   "metadata": {},
   "outputs": [],
   "source": [
    "# X_train_filter_4 = X_train_filter_4/255.0\n",
    "# X_test_filter_4 = X_test_filter_4/255.0"
   ]
  },
  {
   "cell_type": "code",
   "execution_count": 31,
   "id": "69e12e14",
   "metadata": {},
   "outputs": [
    {
     "data": {
      "text/plain": [
       "(28, 28)"
      ]
     },
     "execution_count": 31,
     "metadata": {},
     "output_type": "execute_result"
    }
   ],
   "source": [
    "X_train_filter_0[1].shape"
   ]
  },
  {
   "cell_type": "code",
   "execution_count": 32,
   "id": "2f13bf7d",
   "metadata": {},
   "outputs": [],
   "source": [
    "# Flattening the Input"
   ]
  },
  {
   "cell_type": "code",
   "execution_count": 33,
   "id": "4997f0e2",
   "metadata": {},
   "outputs": [],
   "source": [
    "def flattenInput(mat):\n",
    "        mat = mat.flatten()\n",
    "        mat = mat.reshape(mat.shape[0],1)\n",
    "        return mat"
   ]
  },
  {
   "cell_type": "code",
   "execution_count": 34,
   "id": "de730428",
   "metadata": {},
   "outputs": [],
   "source": [
    "# Weight Initialization(Random,Normalized)"
   ]
  },
  {
   "cell_type": "code",
   "execution_count": 35,
   "id": "9479785f",
   "metadata": {},
   "outputs": [],
   "source": [
    "def weightInitialization(rows , cols, type = \"random\"):\n",
    "    if(type == \"random\"):\n",
    "        initialWeights = np.random.random(size = (rows,cols))\n",
    "    else:\n",
    "        initialWeights = np.random.normal(size = (rows,cols))\n",
    "    initialWeights = initialWeights.reshape(rows,cols)\n",
    "    return initialWeights"
   ]
  },
  {
   "cell_type": "code",
   "execution_count": 36,
   "id": "8d69148d",
   "metadata": {},
   "outputs": [],
   "source": [
    "weights = weightInitialization(784,20,\"normalize\")"
   ]
  },
  {
   "cell_type": "code",
   "execution_count": 37,
   "id": "90967c1f",
   "metadata": {},
   "outputs": [
    {
     "data": {
      "text/plain": [
       "(784, 20)"
      ]
     },
     "execution_count": 37,
     "metadata": {},
     "output_type": "execute_result"
    }
   ],
   "source": [
    "weights.shape"
   ]
  },
  {
   "cell_type": "code",
   "execution_count": 38,
   "id": "58cbdb72",
   "metadata": {},
   "outputs": [],
   "source": [
    "# Manipulating the Array"
   ]
  },
  {
   "cell_type": "code",
   "execution_count": 39,
   "id": "19ea89ab",
   "metadata": {},
   "outputs": [],
   "source": [
    "def manipulatingTheArray(mat):\n",
    "    mat = flattenInput(mat)\n",
    "    \n",
    "    for index in range(mat.shape[0]): \n",
    "        if mat[index] == 0:\n",
    "            mat[index] = -0.002\n",
    "    return mat"
   ]
  },
  {
   "cell_type": "code",
   "execution_count": 40,
   "id": "cdaf3fd2",
   "metadata": {},
   "outputs": [],
   "source": [
    "# Thresholding Weight"
   ]
  },
  {
   "cell_type": "code",
   "execution_count": 41,
   "id": "27c0e5ad",
   "metadata": {},
   "outputs": [],
   "source": [
    "def thresholding(out):\n",
    "    for item in range(out.shape[1]):\n",
    "        if out[0][item] >= 0.8:\n",
    "            out[0][item] = 0.8\n",
    "        elif out[0][item] >= 0.5 and out[0][item] < 0.8:\n",
    "            out[0][item] = 0.5\n",
    "        elif out[0][item] > 0.1 and out[0][item] < 0.5:\n",
    "            out[0][item] = 0.3\n",
    "        else:\n",
    "            out[0][item] = 0.1\n",
    "    return out"
   ]
  },
  {
   "cell_type": "code",
   "execution_count": 42,
   "id": "b88b8e6d",
   "metadata": {},
   "outputs": [],
   "source": [
    "def ActThresholding(out):\n",
    "    for item in range(out.shape[1]):\n",
    "        if out[0][item] >= 0.9:\n",
    "            out[0][item] = 0.9\n",
    "        else:\n",
    "            out[0][item] = -0.9\n",
    "    return out"
   ]
  },
  {
   "cell_type": "code",
   "execution_count": 43,
   "id": "1245b278",
   "metadata": {},
   "outputs": [],
   "source": [
    "# Threshold Check"
   ]
  },
  {
   "cell_type": "code",
   "execution_count": 44,
   "id": "22121add",
   "metadata": {},
   "outputs": [],
   "source": [
    "def crossThreshold(out,neuronThreshold):\n",
    "    flag = 0\n",
    "    for item in range(out.shape[1]):\n",
    "        if out[0][item] > neuronThreshold[0][item]:\n",
    "            neuronThreshold[0][item] += 0.2\n",
    "            flag = 1\n",
    "    \n",
    "    if flag == 1:\n",
    "        return True\n",
    "    return False"
   ]
  },
  {
   "cell_type": "code",
   "execution_count": 45,
   "id": "630a7eb0",
   "metadata": {},
   "outputs": [],
   "source": [
    "def crossThresholdUpdate(afterActivation,neuronThreshold):\n",
    "    flag = 0\n",
    "    for item in range(afterActivation.shape[1]):\n",
    "        if afterActivation[0][item] > 0.8:\n",
    "            neuronThreshold[0][item] += 0.002\n",
    "            afterActivation[0][item] = 0\n",
    "        else:\n",
    "            afterActivation[0][item] = afterActivation[0][item] - 0.001\n",
    "            #neuronThreshold[0][item] -= 0.001\n",
    "            \n",
    "    return afterActivation,neuronThreshold"
   ]
  },
  {
   "cell_type": "code",
   "execution_count": 46,
   "id": "1efb59e7",
   "metadata": {},
   "outputs": [],
   "source": [
    "# Weight Threshold (Future Reference)"
   ]
  },
  {
   "cell_type": "code",
   "execution_count": 47,
   "id": "89147142",
   "metadata": {},
   "outputs": [],
   "source": [
    "def weightThreshold(weight):\n",
    "    for indexi in range(weight.shape[0]):\n",
    "        for indexj in range(weight.shape[1]):\n",
    "            if weight[indexi][indexj] >= 1:\n",
    "                weight[indexi][indexj] = 1\n",
    "    return weight"
   ]
  },
  {
   "cell_type": "code",
   "execution_count": 48,
   "id": "bbd81d06",
   "metadata": {},
   "outputs": [],
   "source": [
    "# Calculate Accuracy"
   ]
  },
  {
   "cell_type": "code",
   "execution_count": 49,
   "id": "7345c994",
   "metadata": {},
   "outputs": [],
   "source": [
    "def accuracy(data,finalWeight):\n",
    "    predict_0 = []\n",
    "    predict_7 = []\n",
    "    for item in data:\n",
    "        item = flattenInput(item)\n",
    "        res = np.dot(item.T,finalWeight)\n",
    "        res = np.median(res)\n",
    "        if res >= 55 and res <= 85:\n",
    "            predict_0.append(1)\n",
    "        elif res >=30 and res <55:\n",
    "            predict_7.append(1)\n",
    "    return len(predict_0), len(predict_7)"
   ]
  },
  {
   "cell_type": "code",
   "execution_count": 50,
   "id": "95827b4e",
   "metadata": {},
   "outputs": [],
   "source": [
    "# Print Results"
   ]
  },
  {
   "cell_type": "code",
   "execution_count": 51,
   "id": "2af6654c",
   "metadata": {},
   "outputs": [],
   "source": [
    "def printResults(inputImage,finalWeight):\n",
    "    result = []\n",
    "    for item in inputImage:\n",
    "        item = flattenInput(item)\n",
    "        #item = manipulatingTheArray(item)\n",
    "        result.append(np.dot(item.T,finalWeight))\n",
    "    return result"
   ]
  },
  {
   "cell_type": "code",
   "execution_count": 52,
   "id": "d60c4464",
   "metadata": {},
   "outputs": [],
   "source": [
    "def printResultsBlock(inputImage,weight):\n",
    "    result = []\n",
    "    resultSum = []\n",
    "    for item in inputImage:\n",
    "        item = flattenInput(item)\n",
    "        #item = manipulatingTheArray(item)\n",
    "        \n",
    "        startIndex = 0\n",
    "        blockSize = 7\n",
    "        pval = 0\n",
    "        resultRow = []\n",
    "        sum_ = 0\n",
    "        while(startIndex < 784):\n",
    "            image_ = item[startIndex:startIndex + blockSize]\n",
    "            weight_ = weight[startIndex : startIndex + blockSize]\n",
    "                \n",
    "            resultDotProduct = np.dot(image_.T,weight_)\n",
    "            sum_ = sum_ + resultDotProduct\n",
    "            resultRow.append(resultDotProduct)\n",
    "            startIndex += blockSize\n",
    "            \n",
    "        result.append(resultRow)\n",
    "        resultSum.append(sum_)\n",
    "    return result , resultSum\n",
    "\n"
   ]
  },
  {
   "cell_type": "code",
   "execution_count": 115,
   "id": "5072fbe0",
   "metadata": {},
   "outputs": [],
   "source": [
    "def printResultsBlockIncludingAnotherLayer(inputImage,weight1,weight2):\n",
    "    result = []\n",
    "    resultSum = []\n",
    "    for item in inputImage:\n",
    "        item = flattenInput(item)\n",
    "        #item = manipulatingTheArray(item)\n",
    "        \n",
    "        startIndex = 0\n",
    "        blockSize = 28\n",
    "        pval = 0\n",
    "        resultRow = []\n",
    "        sum_ = 0\n",
    "        while(startIndex < 784):\n",
    "            image_ = item[startIndex:startIndex + blockSize]\n",
    "            weight_ = weight1[startIndex : startIndex + blockSize]\n",
    "                \n",
    "            resultDotProduct = np.dot(image_.T,weight_)\n",
    "            sum_ = sum_ + resultDotProduct\n",
    "            resultRow.append(resultDotProduct)\n",
    "            startIndex += blockSize\n",
    "            \n",
    "        #result.append(resultRow)\n",
    "        \n",
    "        resultRow = np.array(resultRow)\n",
    "        ans = np.dot(resultRow.T,weight2)\n",
    "        result.append(ans)\n",
    "        \n",
    "    return result , resultRow\n"
   ]
  },
  {
   "cell_type": "code",
   "execution_count": 116,
   "id": "0fcb28d1",
   "metadata": {},
   "outputs": [],
   "source": [
    "def printResults2(inputImage,weight1,weight2):\n",
    "    result = []\n",
    "    for item in inputImage:\n",
    "        item = flattenInput(item)\n",
    "        out = np.dot(item.T,weight1)\n",
    "        out = np.dot(out,weight2)\n",
    "        result.append(out)\n",
    "    return result"
   ]
  },
  {
   "cell_type": "code",
   "execution_count": 117,
   "id": "a81e9477",
   "metadata": {},
   "outputs": [],
   "source": [
    "testFlatten = []\n",
    "\n",
    "for image_ in X_test:\n",
    "        image_ = flattenInput(image_)\n",
    "        testFlatten.append(image_)"
   ]
  },
  {
   "cell_type": "code",
   "execution_count": 118,
   "id": "2b236780",
   "metadata": {},
   "outputs": [],
   "source": [
    "def convertToBinary(activation,neuronThreshold):\n",
    "    for index in range(activation[0].shape[0]):\n",
    "        \n",
    "        if activation[0][index] > neuronThreshold[0][index]:\n",
    "            activation[0][index] = 0.9\n",
    "        else:\n",
    "            \n",
    "            activation[0][index] = 0.001\n",
    "            \n",
    "    return activation"
   ]
  },
  {
   "cell_type": "code",
   "execution_count": 119,
   "id": "dacc4fad",
   "metadata": {},
   "outputs": [],
   "source": [
    "def binaryConversion(image):\n",
    "    \n",
    "    for index in range(image.shape[0]):\n",
    "        if image[index] != 0:\n",
    "            image[index] = 1\n",
    "    \n",
    "    return image"
   ]
  },
  {
   "cell_type": "code",
   "execution_count": 120,
   "id": "215214de",
   "metadata": {},
   "outputs": [
    {
     "data": {
      "text/plain": [
       "(784, 1)"
      ]
     },
     "execution_count": 120,
     "metadata": {},
     "output_type": "execute_result"
    }
   ],
   "source": [
    "testFlatten[0].shape"
   ]
  },
  {
   "cell_type": "code",
   "execution_count": 121,
   "id": "220668b7",
   "metadata": {},
   "outputs": [],
   "source": [
    "x = np.full((4),1)"
   ]
  },
  {
   "cell_type": "code",
   "execution_count": 122,
   "id": "66f95d79",
   "metadata": {},
   "outputs": [
    {
     "data": {
      "text/plain": [
       "array([1, 1, 1, 1])"
      ]
     },
     "execution_count": 122,
     "metadata": {},
     "output_type": "execute_result"
    }
   ],
   "source": [
    "x"
   ]
  },
  {
   "cell_type": "code",
   "execution_count": 123,
   "id": "29b7d06c",
   "metadata": {},
   "outputs": [],
   "source": [
    "# Weight Update"
   ]
  },
  {
   "cell_type": "code",
   "execution_count": 124,
   "id": "a6ae7646",
   "metadata": {},
   "outputs": [],
   "source": [
    "def weightUpdateContainingMemoryElement(epoch,iteration,inputImage,weight):\n",
    "    \"\"\"\n",
    "    Every epoch , We are doing iterations for every image in \n",
    "    the list\n",
    "    \"\"\"\n",
    "    flattenImage = []\n",
    "    for image_ in inputImage:\n",
    "        image_ = flattenInput(image_)\n",
    "        flattenImage.append(image_)\n",
    "    out = np.array(0)\n",
    "    alpha =1e-5 #4 \n",
    "    beta = 1e-7 #5\n",
    "     # alpha , beta = 1e-3 , 1e-2 \n",
    "    # alpha ,beta = 1e-1,1e-2 best values\n",
    "    \n",
    "    thresholdNeurons = np.full((1,20),0.02)\n",
    "    for epoch_ in range(epoch):\n",
    "            random.shuffle(flattenImage)\n",
    "            for input_ in flattenImage:\n",
    "                    out = alpha * np.dot(input_.T , weight) + out \n",
    "                    #out = ActThresholding(out)\n",
    "                    inputM = manipulatingTheArray(input_)\n",
    "                    weight = weight + beta * np.dot(input_,out)\n",
    "                    weight = weightThreshold(weight)\n",
    "                    if(crossThreshold(out,thresholdNeurons)):\n",
    "                       out = 0.0\n",
    "                    else:\n",
    "                       out = out - beta * 0.01\n",
    "            \n",
    "            print(f\"Epoch number {epoch_} finishes\")\n",
    "    return weight"
   ]
  },
  {
   "cell_type": "code",
   "execution_count": 125,
   "id": "e6a1f1bf",
   "metadata": {},
   "outputs": [],
   "source": [
    "def weightUpdateThresholding(epoch,inputImage,weight):\n",
    "    \"\"\"\n",
    "    Every epoch , We are doing iterations for every image in \n",
    "    the list\n",
    "    \"\"\"\n",
    "    flattenImage = []\n",
    "    for image_ in inputImage:\n",
    "        image_ = flattenInput(image_)\n",
    "        image_ = binaryConversion(image_)\n",
    "        flattenImage.append(image_)\n",
    "    activation = np.array(0)\n",
    "    alpha =1e-5 #4 \n",
    "    beta = 1e-7 #5\n",
    "    \n",
    "    \n",
    "    \n",
    "    thresholdNeurons = np.full((1,200),0.02)\n",
    "    for epoch_ in range(epoch):\n",
    "            random.shuffle(flattenImage)\n",
    "            for input_ in flattenImage:\n",
    "                    activation = alpha * np.dot(input_.T , weight) + activation\n",
    "                    #out = ActThresholding(out)\n",
    "                    afterActivation = convertToBinary(activation,thresholdNeurons)\n",
    "                    #weight = weight + beta * np.dot(input_,afterActivation)\n",
    "                    \n",
    "                    \n",
    "                    \n",
    "                    afterActivation , thresholdNeuron = crossThresholdUpdate(afterActivation,thresholdNeurons)\n",
    "                    weight = weight + beta * np.dot(input_,afterActivation)\n",
    "                    activation = afterActivation\n",
    "            \n",
    "            print(f\"Epoch number {epoch_} finishes\")\n",
    "    return weight"
   ]
  },
  {
   "cell_type": "code",
   "execution_count": 126,
   "id": "106d77ee",
   "metadata": {},
   "outputs": [],
   "source": [
    "def weightUpdateThresholding(epoch,inputImage,weight):\n",
    "    \"\"\"\n",
    "    Every epoch , We are doing iterations for every image in \n",
    "    the list\n",
    "    \"\"\"\n",
    "    flattenImage = []\n",
    "    for image_ in inputImage:\n",
    "        image_ = flattenInput(image_)\n",
    "        image_ = binaryConversion(image_)\n",
    "        flattenImage.append(image_)\n",
    "    activation = np.array(0)\n",
    "    alpha =1e-5 #4 \n",
    "    beta = 1e-7 #5\n",
    "    \n",
    "    \n",
    "    \n",
    "    thresholdNeurons = np.full((1,201),0.02)\n",
    "    for epoch_ in range(epoch):\n",
    "            random.shuffle(flattenImage)\n",
    "            for input_ in flattenImage:\n",
    "                    activation = alpha * np.dot(input_.T , weight) + activation\n",
    "                    #out = ActThresholding(out)\n",
    "                    afterActivation = convertToBinary(activation,thresholdNeurons)\n",
    "                    #weight = weight + beta * np.dot(input_,afterActivation\n",
    "                    \n",
    "                    afterActivation , thresholdNeuron = crossThresholdUpdate(afterActivation,thresholdNeurons)\n",
    "                    weight = weight + beta * np.dot(input_,afterActivation)\n",
    "                    activation = afterActivation\n",
    "            \n",
    "            print(f\"Epoch number {epoch_} finishes\")\n",
    "    return weight"
   ]
  },
  {
   "cell_type": "code",
   "execution_count": 127,
   "id": "6591498f",
   "metadata": {},
   "outputs": [],
   "source": [
    "def multipleBlocks(epoch, inputImage, weight):\n",
    "    flattenImage = []\n",
    "    check  = []\n",
    "    for image_ in inputImage:\n",
    "        image_ = flattenInput(image_)\n",
    "        flattenImage.append(image_)\n",
    "    #creating block of images\n",
    "    #print(flattenImage[0])\n",
    "    \n",
    "    index = 0\n",
    "    blockSize = 28\n",
    "    \n",
    "    alpha = 0.1\n",
    "    for epoch_ in range(epoch):\n",
    "        random.shuffle(flattenImage)\n",
    "        for input_ in flattenImage:\n",
    "            \n",
    "            startIndex = 0\n",
    "            errorFromThePreviousLevel = 0\n",
    "            prevVal = 0\n",
    "            val = 0\n",
    "            pVal = 0\n",
    "            while(startIndex < 784):\n",
    "                image_ = input_[startIndex:startIndex + blockSize]\n",
    "                weight_ = weight[startIndex : startIndex + blockSize]\n",
    "                \n",
    "                dotProduct =  np.dot(image_.T,weight_)\n",
    "                \n",
    "                if dotProduct  >= 5 and dotProduct < 1000:\n",
    "                    for index in range(weight_.shape[0]):\n",
    "                        check.append(\"increase\")\n",
    "                        if weight_[index] < 200:\n",
    "                            weight_[index] = weight_[index] + alpha * dotProduct\n",
    "                elif dotProduct < 2:\n",
    "                     for index in range(weight_.shape[0]):\n",
    "                        check.append(\"decrease\")\n",
    "                        if weight_[index] > -200:\n",
    "                            weight_[index] = weight_[index] - alpha * dotProduct\n",
    "                startIndex += blockSize\n",
    "        \n",
    "        print(f\"Epoch : {epoch_} Completed\")\n",
    "    \n",
    "    return weight , check\n"
   ]
  },
  {
   "cell_type": "code",
   "execution_count": 383,
   "id": "f8d9e8f3",
   "metadata": {},
   "outputs": [],
   "source": [
    "def multipleBlocksWithMemoryElement(epoch, inputImage, weight1 , weight2):\n",
    "    flattenImage = []\n",
    "    check  = []\n",
    "    for image_ in inputImage:\n",
    "        image_ = flattenInput(image_)\n",
    "        flattenImage.append(image_)\n",
    "\n",
    "    \n",
    "    index = 0\n",
    "    blockSize = 28\n",
    "    blockIndex = 0\n",
    "    output = np.full((28,1),0)\n",
    "    output2Layer = np.full((3,1),0)\n",
    "    alpha = 0.1\n",
    "    for epoch_ in range(epoch):\n",
    "        random.shuffle(flattenImage)\n",
    "        output.fill(0)\n",
    "        output2Layer.fill(0)\n",
    "        for input_ in flattenImage:\n",
    "            \n",
    "            startIndex = 0\n",
    "            blockIndex = 0\n",
    "            while(startIndex < 784):\n",
    "                image_ = input_[startIndex:startIndex + blockSize]\n",
    "                weight_ = weight1[startIndex : startIndex + blockSize]\n",
    "                dotProduct =  np.dot(image_.T,weight_)\n",
    "                output[blockIndex] = output[blockIndex] + dotProduct\n",
    "                \n",
    "                if dotProduct  >= 5 and dotProduct < 200:\n",
    "                    for index in range(weight_.shape[0]):\n",
    "                        if weight_[index] < 50 and weight_[index] > 0:\n",
    "                            weight_[index] = weight_[index] + alpha * output[blockIndex]\n",
    "                elif dotProduct < 5:\n",
    "                     for index in range(weight_.shape[0]):\n",
    "                        if weight_[index] > -50 and weight_[index] < 3:\n",
    "                            weight_[index] = weight_[index] - alpha * output[blockIndex]\n",
    "                startIndex += blockSize\n",
    "                \n",
    "                if(output[blockIndex] > 100):\n",
    "                    output[blockIndex] = 0\n",
    "                else:\n",
    "                    output[blockIndex] = output[blockIndex] -  alpha * 0.9\n",
    "                blockIndex += 1\n",
    "            #print(output)\n",
    "            output2nLayer = np.dot(output.T,weight2)\n",
    "            output2Layer[0] = output2Layer[0] + output2nLayer[0][0]\n",
    "            output2Layer[1] = output2Layer[1] + output2nLayer[0][1]\n",
    "            output2Layer[2] = output2Layer[2] + output2nLayer[0][2]\n",
    "            \n",
    "            for index in range(3):\n",
    "                if(output2Layer[index] > 200):\n",
    "                    output2Layer[index] = 0\n",
    "                else:\n",
    "                    output2Layer[index] = output2Layer[index] -  alpha * 20\n",
    "            #print(output2nLayer.shape)\n",
    "            #print(output2nLayer)\n",
    "            for outputNeuronIndex in range(output2nLayer.shape[1]):\n",
    "                 #print(output2nLayer[0][outputNeuronIndex])\n",
    "                if output2Layer[outputNeuronIndex] > 20:\n",
    "                    for index in range(weight2.shape[0]):\n",
    "                        #print(weight2[index][outputNeuronIndex])\n",
    "                        if weight2[index][outputNeuronIndex] < 100 and output[index] > 0:\n",
    "                            weight2[index][outputNeuronIndex] = weight2[index][outputNeuronIndex] + alpha * output2Layer[outputNeuronIndex] + alpha * output[index]\n",
    "                            #weight2[index][outputNeuronIndex] = weight2[index][outputNeuronIndex] + alpha * output[]\n",
    "                            #print(weight2[index][outputNeuronIndex]\n",
    "                            \n",
    "                else:\n",
    "                    for index in range(weight2.shape[0]):\n",
    "                        #print(weight2[index][outputNeuronIndex])\n",
    "                        if weight2[index][outputNeuronIndex] > -100 and weight2[index][outputNeuronIndex] < 0:\n",
    "                            weight2[index][outputNeuronIndex] = weight2[index][outputNeuronIndex] - alpha * output2Layer[outputNeuronIndex] - alpha * output[index]\n",
    "                \n",
    "                        \n",
    "    #print(f\"Epoch : {epoch_} Completed\")\n",
    "    return weight1 , weight2 , check , output\n"
   ]
  },
  {
   "cell_type": "code",
   "execution_count": 384,
   "id": "fcae9aed",
   "metadata": {},
   "outputs": [],
   "source": [
    "# 0.9 is working well\n",
    "# 1.5"
   ]
  },
  {
   "cell_type": "code",
   "execution_count": 385,
   "id": "59cad9bc",
   "metadata": {},
   "outputs": [],
   "source": [
    "weight1 = weightInitialization(784,1)\n",
    "weight2 = weightInitialization(28,3)"
   ]
  },
  {
   "cell_type": "code",
   "execution_count": 386,
   "id": "4752723c",
   "metadata": {
    "scrolled": true
   },
   "outputs": [
    {
     "data": {
      "text/plain": [
       "[<matplotlib.lines.Line2D at 0x29045b3a0>]"
      ]
     },
     "execution_count": 386,
     "metadata": {},
     "output_type": "execute_result"
    },
    {
     "data": {
      "image/png": "[encoded data removed]",
      "text/plain": [
       "<Figure size 640x480 with 1 Axes>"
      ]
     },
     "metadata": {},
     "output_type": "display_data"
    }
   ],
   "source": [
    "plt.plot(weight1)"
   ]
  },
  {
   "cell_type": "code",
   "execution_count": 387,
   "id": "47c10525",
   "metadata": {},
   "outputs": [
    {
     "name": "stdout",
     "output_type": "stream",
     "text": [
      "[0.57753118]\n"
     ]
    }
   ],
   "source": [
    "print(weight1[456])\n",
    "weight1 ,weight2, check , output= multipleBlocksWithMemoryElement(1,X_train_filter,weight1,weight2)"
   ]
  },
  {
   "cell_type": "code",
   "execution_count": 388,
   "id": "4a830151",
   "metadata": {},
   "outputs": [
    {
     "data": {
      "text/plain": [
       "array([[ 7.20114944e-01],\n",
       "       [ 2.73357471e-01],\n",
       "       [ 5.28498999e-01],\n",
       "       [ 1.48663729e-01],\n",
       "       [ 4.51383993e-01],\n",
       "       [ 7.89907815e-01],\n",
       "       [ 7.90546163e-01],\n",
       "       [ 3.74763834e-01],\n",
       "       [ 8.08221960e-01],\n",
       "       [ 8.61523912e-01],\n",
       "       [ 4.89929811e-01],\n",
       "       [ 6.47023954e-01],\n",
       "       [ 1.65351577e-01],\n",
       "       [ 1.25407500e-01],\n",
       "       [ 7.23433247e-01],\n",
       "       [ 4.26890467e-01],\n",
       "       [ 1.36914935e-01],\n",
       "       [ 4.09967926e-01],\n",
       "       [ 2.87947719e-01],\n",
       "       [ 1.21652799e-01],\n",
       "       [ 4.77476676e-01],\n",
       "       [ 5.68552007e-01],\n",
       "       [ 7.38313758e-02],\n",
       "       [ 1.76423070e-01],\n",
       "       [ 1.54998529e-02],\n",
       "       [ 3.81285755e-02],\n",
       "       [ 8.36151078e-01],\n",
       "       [ 7.62136161e-02],\n",
       "       [ 2.64613838e-01],\n",
       "       [-1.12677428e-04],\n",
       "       [ 3.61916691e-01],\n",
       "       [-1.32298701e-01],\n",
       "       [-5.49111898e-03],\n",
       "       [ 8.09738352e-02],\n",
       "       [ 7.14500158e-02],\n",
       "       [ 6.93508196e-01],\n",
       "       [-1.81596284e-01],\n",
       "       [ 3.26617855e-01],\n",
       "       [ 1.86632390e-01],\n",
       "       [-8.93939778e-02],\n",
       "       [ 6.84611380e-01],\n",
       "       [ 8.78170729e-03],\n",
       "       [ 3.51692698e-01],\n",
       "       [ 1.35150280e-01],\n",
       "       [-4.39981933e-03],\n",
       "       [ 2.84634372e-01],\n",
       "       [-4.42313942e-03],\n",
       "       [ 2.79050420e-01],\n",
       "       [ 5.59263975e-01],\n",
       "       [ 4.80130734e-01],\n",
       "       [-1.78598402e-01],\n",
       "       [ 4.49023784e-01],\n",
       "       [-6.09130763e-02],\n",
       "       [ 5.79647478e-01],\n",
       "       [-2.62979368e-02],\n",
       "       [-1.90506826e-01],\n",
       "       [ 4.44599861e-02],\n",
       "       [ 9.86344984e-02],\n",
       "       [ 4.32944355e-02],\n",
       "       [-1.35902187e-01],\n",
       "       [-2.43269647e-01],\n",
       "       [-2.93959136e-01],\n",
       "       [-5.22064463e-01],\n",
       "       [-4.72302403e-01],\n",
       "       [ 1.84391792e-01],\n",
       "       [ 5.33261223e-02],\n",
       "       [ 1.00388889e-01],\n",
       "       [ 2.11605626e-01],\n",
       "       [ 3.58798078e-01],\n",
       "       [ 1.71842492e-01],\n",
       "       [-4.38499496e-01],\n",
       "       [-1.66592041e-01],\n",
       "       [-4.40919311e-01],\n",
       "       [ 1.48217867e-01],\n",
       "       [-2.12523200e-01],\n",
       "       [ 3.84453315e-02],\n",
       "       [-2.74474346e-01],\n",
       "       [-8.68887239e-02],\n",
       "       [-2.58267016e-01],\n",
       "       [-2.16490178e-01],\n",
       "       [-4.57150669e-01],\n",
       "       [-3.05983110e-01],\n",
       "       [-4.88759229e-01],\n",
       "       [ 9.45192702e-02],\n",
       "       [-4.97278616e-01],\n",
       "       [ 1.06993852e-01],\n",
       "       [ 4.45182154e-01],\n",
       "       [-3.35024215e-01],\n",
       "       [ 6.30882936e-02],\n",
       "       [ 3.54078816e-01],\n",
       "       [ 3.98205849e-01],\n",
       "       [-4.50736763e-01],\n",
       "       [-2.50906123e-01],\n",
       "       [-4.62268451e-01],\n",
       "       [ 1.23817704e-01],\n",
       "       [ 4.06211234e-01],\n",
       "       [ 1.49641585e-01],\n",
       "       [ 3.73162529e-01],\n",
       "       [ 1.16724630e-03],\n",
       "       [-2.25216046e-01],\n",
       "       [-6.35405178e-02],\n",
       "       [-9.10069257e-02],\n",
       "       [-3.59644593e-01],\n",
       "       [-3.48439551e-01],\n",
       "       [-4.58301491e-02],\n",
       "       [-1.60073838e-01],\n",
       "       [ 2.64043098e-01],\n",
       "       [ 4.50173196e-01],\n",
       "       [-3.43945791e-01],\n",
       "       [-3.13866222e-01],\n",
       "       [ 1.48250457e-03],\n",
       "       [-4.03987586e-01],\n",
       "       [-1.36847319e-01],\n",
       "       [-5.46463555e-01],\n",
       "       [-4.68354583e-01],\n",
       "       [-4.30934786e-01],\n",
       "       [ 2.20007952e-01],\n",
       "       [ 4.34556002e-02],\n",
       "       [-1.30715286e-01],\n",
       "       [ 2.78125352e-01],\n",
       "       [ 1.18893155e-01],\n",
       "       [-5.94687647e-01],\n",
       "       [-1.77164891e-01],\n",
       "       [-1.50537736e-02],\n",
       "       [-8.17307419e-02],\n",
       "       [ 3.26945772e-01],\n",
       "       [-2.84219710e-01],\n",
       "       [-5.36910248e-01],\n",
       "       [ 3.24443606e-01],\n",
       "       [-4.40424957e-01],\n",
       "       [ 2.64836042e-01],\n",
       "       [ 1.74648321e-01],\n",
       "       [ 3.81856602e-01],\n",
       "       [ 6.22786956e-02],\n",
       "       [ 4.59249790e-02],\n",
       "       [ 5.17277994e-02],\n",
       "       [-1.01301545e-01],\n",
       "       [-2.56376817e-01],\n",
       "       [ 2.67795849e-01],\n",
       "       [-1.18146370e-01],\n",
       "       [ 3.96005691e-01],\n",
       "       [ 1.45713470e-02],\n",
       "       [ 2.32545365e-02],\n",
       "       [ 2.35813419e-01],\n",
       "       [-3.98120845e-01],\n",
       "       [-1.39016807e-01],\n",
       "       [-7.24872667e-02],\n",
       "       [ 1.49537696e-01],\n",
       "       [ 4.06665389e-01],\n",
       "       [-1.57482993e-01],\n",
       "       [ 1.01762437e-01],\n",
       "       [ 1.04980849e-02],\n",
       "       [ 1.96856687e-01],\n",
       "       [-3.95492414e-01],\n",
       "       [-2.61437083e-01],\n",
       "       [-2.68677667e-01],\n",
       "       [ 2.23463849e-01],\n",
       "       [ 1.66449480e-02],\n",
       "       [ 1.10654398e-01],\n",
       "       [ 2.11704046e-01],\n",
       "       [ 1.54149845e-01],\n",
       "       [ 3.79264230e-01],\n",
       "       [-4.51557139e-01],\n",
       "       [ 3.52298623e-02],\n",
       "       [ 4.48254561e-02],\n",
       "       [-3.35075876e-01],\n",
       "       [-6.23299493e-02],\n",
       "       [-2.79331998e-01],\n",
       "       [ 1.56325886e-01],\n",
       "       [ 4.80865549e-01],\n",
       "       [ 4.72337555e-01],\n",
       "       [-2.99629952e-01],\n",
       "       [ 4.49515909e-01],\n",
       "       [ 3.24198038e-01],\n",
       "       [-3.13872986e-01],\n",
       "       [-2.97481528e-01],\n",
       "       [ 1.86636431e-01],\n",
       "       [ 4.88875729e-01],\n",
       "       [ 1.00781029e-01],\n",
       "       [-2.47681658e-01],\n",
       "       [-1.02292941e-01],\n",
       "       [ 1.88315450e-01],\n",
       "       [-2.30599968e-01],\n",
       "       [-2.10902188e-01],\n",
       "       [ 2.36023382e-01],\n",
       "       [-2.68048249e-01],\n",
       "       [ 3.72283982e-01],\n",
       "       [-3.92602255e-01],\n",
       "       [ 4.52287596e-01],\n",
       "       [ 2.75648940e-01],\n",
       "       [ 2.44151091e-01],\n",
       "       [ 2.23766929e-01],\n",
       "       [ 1.26342397e-01],\n",
       "       [-2.25607136e-01],\n",
       "       [ 2.40528271e-01],\n",
       "       [ 4.93547173e-01],\n",
       "       [ 4.90072014e-01],\n",
       "       [ 1.76927473e-02],\n",
       "       [ 3.04943832e-01],\n",
       "       [ 4.61168228e-01],\n",
       "       [ 2.29895378e-01],\n",
       "       [-1.39458142e-01],\n",
       "       [-1.44964582e-01],\n",
       "       [-1.43497890e-01],\n",
       "       [ 5.07699286e-01],\n",
       "       [-3.80741560e-01],\n",
       "       [-7.42229246e-03],\n",
       "       [-2.81925689e-01],\n",
       "       [-1.19250938e-01],\n",
       "       [ 1.57010084e-02],\n",
       "       [ 4.82082786e-01],\n",
       "       [ 2.62946972e-01],\n",
       "       [-2.02611358e-01],\n",
       "       [-1.77791827e-01],\n",
       "       [-1.56332208e-01],\n",
       "       [ 2.23350475e-01],\n",
       "       [-3.52190309e-01],\n",
       "       [ 5.60696828e-01],\n",
       "       [-1.48250137e-01],\n",
       "       [ 2.28639954e-02],\n",
       "       [-2.98020201e-01],\n",
       "       [ 3.71343587e-01],\n",
       "       [ 5.66996949e-01],\n",
       "       [ 3.37112654e-01],\n",
       "       [-2.70473035e-01],\n",
       "       [ 4.00284828e-01],\n",
       "       [ 3.35388199e-01],\n",
       "       [-3.77759333e-01],\n",
       "       [ 1.26861595e-01],\n",
       "       [-1.06576024e-03],\n",
       "       [-9.71059735e-03],\n",
       "       [ 4.63783562e-01],\n",
       "       [-3.77860457e-01],\n",
       "       [ 3.36255625e-01],\n",
       "       [ 1.30998126e-01],\n",
       "       [-2.61781638e-01],\n",
       "       [-1.41089147e-01],\n",
       "       [ 1.26922268e-01],\n",
       "       [ 3.92188725e-01],\n",
       "       [ 1.89903574e-01],\n",
       "       [-6.49017026e-02],\n",
       "       [-2.48243250e-01],\n",
       "       [ 9.49304239e-02],\n",
       "       [ 3.63272764e-01],\n",
       "       [-3.94503214e-01],\n",
       "       [-4.46381963e-02],\n",
       "       [-3.12578650e-01],\n",
       "       [ 2.70533036e-01],\n",
       "       [-3.69114910e-01],\n",
       "       [-2.22760926e-01],\n",
       "       [-1.02485919e-01],\n",
       "       [-3.12594679e-01],\n",
       "       [-8.78288398e-01],\n",
       "       [ 5.63866251e+01],\n",
       "       [ 5.60539648e+01],\n",
       "       [ 5.65612862e+01],\n",
       "       [ 5.61230524e+01],\n",
       "       [ 5.59163583e+01],\n",
       "       [ 5.60413004e+01],\n",
       "       [ 5.59664827e+01],\n",
       "       [ 5.66552468e+01],\n",
       "       [ 5.66237351e+01],\n",
       "       [ 5.64702617e+01],\n",
       "       [-8.48827056e-01],\n",
       "       [ 5.62113194e+01],\n",
       "       [ 5.60955611e+01],\n",
       "       [ 5.62339041e+01],\n",
       "       [ 5.60726678e+01],\n",
       "       [ 5.60171914e+01],\n",
       "       [-7.16516732e-01],\n",
       "       [ 5.63369785e+01],\n",
       "       [-7.44890641e-01],\n",
       "       [ 5.64467738e+01],\n",
       "       [ 5.63853921e+01],\n",
       "       [ 5.66631788e+01],\n",
       "       [ 5.62932228e+01],\n",
       "       [ 5.64471957e+01],\n",
       "       [ 5.65994209e+01],\n",
       "       [ 5.59127039e+01],\n",
       "       [-8.02467397e-01],\n",
       "       [ 4.23656434e-01],\n",
       "       [-4.23538397e-01],\n",
       "       [ 1.21583178e-01],\n",
       "       [ 1.29381623e-01],\n",
       "       [ 4.78516129e-02],\n",
       "       [-2.09360265e-01],\n",
       "       [-4.01381321e-01],\n",
       "       [-2.59529749e-01],\n",
       "       [ 1.10197083e-01],\n",
       "       [-3.47565479e-01],\n",
       "       [-3.33501101e-01],\n",
       "       [-4.19336757e-01],\n",
       "       [ 2.82603957e-01],\n",
       "       [ 4.68141694e-01],\n",
       "       [ 1.96649823e-01],\n",
       "       [ 1.68729916e-02],\n",
       "       [-3.00492970e-01],\n",
       "       [ 8.03241878e-04],\n",
       "       [ 2.88376280e-01],\n",
       "       [ 2.27773973e-01],\n",
       "       [ 2.57331740e-01],\n",
       "       [ 4.25495693e-01],\n",
       "       [-7.56925323e-03],\n",
       "       [-2.04557979e-02],\n",
       "       [ 8.56577150e-02],\n",
       "       [ 2.21112102e-01],\n",
       "       [ 3.49272220e-01],\n",
       "       [-4.13855453e-01],\n",
       "       [ 2.97174115e-01],\n",
       "       [ 5.36709457e-02],\n",
       "       [-4.45604914e-01],\n",
       "       [ 3.97275289e-01],\n",
       "       [-3.09479069e-02],\n",
       "       [ 1.85566288e-02],\n",
       "       [ 2.56475182e-02],\n",
       "       [ 1.47829284e-01],\n",
       "       [ 1.11312260e-01],\n",
       "       [ 4.74278463e-02],\n",
       "       [-8.86921827e-02],\n",
       "       [-5.48697622e-02],\n",
       "       [ 4.42655828e-01],\n",
       "       [-3.09298064e-01],\n",
       "       [-2.46620229e-01],\n",
       "       [ 2.34490137e-01],\n",
       "       [-2.87463657e-01],\n",
       "       [-2.91321938e-01],\n",
       "       [-2.61587504e-01],\n",
       "       [ 4.83712271e-01],\n",
       "       [-2.55691914e-01],\n",
       "       [-7.60067173e-03],\n",
       "       [-1.73051196e-03],\n",
       "       [ 9.55413928e-03],\n",
       "       [-3.66291619e-01],\n",
       "       [-1.69831572e-01],\n",
       "       [ 2.29703907e-01],\n",
       "       [-3.17117137e-01],\n",
       "       [ 3.47065952e-01],\n",
       "       [-8.36822676e-02],\n",
       "       [ 3.49247650e-01],\n",
       "       [ 3.53277140e-01],\n",
       "       [-2.68802986e-01],\n",
       "       [ 3.18747447e-01],\n",
       "       [ 4.27272319e-02],\n",
       "       [-9.13952695e-03],\n",
       "       [-4.65959861e-01],\n",
       "       [ 3.85690688e-01],\n",
       "       [ 2.33618717e-01],\n",
       "       [ 3.60910261e-01],\n",
       "       [ 3.55155501e-02],\n",
       "       [ 3.71133124e-01],\n",
       "       [ 2.47367448e-01],\n",
       "       [-4.90206322e-02],\n",
       "       [-1.77873176e-01],\n",
       "       [ 2.47299526e-01],\n",
       "       [-1.10523902e-01],\n",
       "       [ 2.20302627e-01],\n",
       "       [-5.08944834e-01],\n",
       "       [-2.07465891e-01],\n",
       "       [ 3.00998844e-01],\n",
       "       [ 1.29267028e-01],\n",
       "       [ 2.45894210e-01],\n",
       "       [ 2.04136609e-01],\n",
       "       [ 2.74455168e-01],\n",
       "       [-5.36383328e-01],\n",
       "       [ 1.88547735e-01],\n",
       "       [ 3.63734884e-01],\n",
       "       [ 1.62311053e-01],\n",
       "       [-3.59565739e-01],\n",
       "       [-3.38189367e-01],\n",
       "       [ 1.95406573e-01],\n",
       "       [ 3.64062138e-01],\n",
       "       [ 5.68562733e-02],\n",
       "       [ 1.73183850e-01],\n",
       "       [-6.85966839e-02],\n",
       "       [ 2.92904347e-01],\n",
       "       [ 1.43528749e-01],\n",
       "       [-2.64371329e-01],\n",
       "       [ 5.58921461e-01],\n",
       "       [ 5.51170792e-02],\n",
       "       [ 3.69904286e-01],\n",
       "       [ 1.61287968e-01],\n",
       "       [-1.63885651e-01],\n",
       "       [-3.38243104e-01],\n",
       "       [-1.05385568e-01],\n",
       "       [ 1.02250861e-01],\n",
       "       [-1.17186431e-01],\n",
       "       [-2.29771981e-01],\n",
       "       [ 3.20673210e-01],\n",
       "       [ 5.62866799e-01],\n",
       "       [-5.36695888e-02],\n",
       "       [-1.06296294e-01],\n",
       "       [ 8.13613458e-02],\n",
       "       [ 2.04272048e-01],\n",
       "       [-3.15451712e-01],\n",
       "       [ 5.59530571e-01],\n",
       "       [-1.13557296e-01],\n",
       "       [-1.67521207e-01],\n",
       "       [ 5.24658106e-01],\n",
       "       [ 3.06096496e-01],\n",
       "       [-3.67424190e-01],\n",
       "       [-5.50734560e-02],\n",
       "       [ 6.12440148e-02],\n",
       "       [-1.53476964e-01],\n",
       "       [-2.97069164e-02],\n",
       "       [ 5.96676915e-01],\n",
       "       [ 2.89865712e-01],\n",
       "       [-2.26282515e-02],\n",
       "       [-2.29878105e-01],\n",
       "       [-2.89370340e-01],\n",
       "       [-6.25994504e-02],\n",
       "       [ 2.97489930e-01],\n",
       "       [ 1.12534361e-01],\n",
       "       [-3.77285579e-01],\n",
       "       [ 2.77893243e-02],\n",
       "       [-3.89105826e-01],\n",
       "       [ 1.04949345e-01],\n",
       "       [ 4.08500118e-01],\n",
       "       [ 2.84522035e-01],\n",
       "       [ 4.35618781e-01],\n",
       "       [ 5.13613989e-02],\n",
       "       [ 1.56733797e-01],\n",
       "       [ 2.70158996e-01],\n",
       "       [ 1.99792502e-01],\n",
       "       [ 2.05436039e-01],\n",
       "       [ 4.18718900e-03],\n",
       "       [-2.51084390e-01],\n",
       "       [ 4.82112180e-01],\n",
       "       [ 3.06551881e-01],\n",
       "       [-3.06002801e-01],\n",
       "       [-2.12517550e-01],\n",
       "       [-3.08379031e-01],\n",
       "       [-1.86294154e-01],\n",
       "       [ 4.20194821e-01],\n",
       "       [ 2.64673700e-02],\n",
       "       [-9.29066314e-02],\n",
       "       [-1.84717878e-01],\n",
       "       [-4.70560305e-02],\n",
       "       [ 9.22239325e-02],\n",
       "       [-4.74820418e-01],\n",
       "       [ 2.21244334e-01],\n",
       "       [-8.40175884e-03],\n",
       "       [ 1.82772496e-01],\n",
       "       [-1.93692083e-01],\n",
       "       [-4.99777213e-01],\n",
       "       [-6.84588533e-02],\n",
       "       [-1.26053368e-01],\n",
       "       [ 2.32976585e-01],\n",
       "       [ 1.84563616e-01],\n",
       "       [ 5.35745470e-02],\n",
       "       [ 3.64131818e-01],\n",
       "       [ 1.94584583e-01],\n",
       "       [-3.99098456e-01],\n",
       "       [-1.25239497e-01],\n",
       "       [ 4.08251439e-01],\n",
       "       [-5.32207165e-02],\n",
       "       [-3.09164604e-01],\n",
       "       [ 1.77531178e-01],\n",
       "       [-1.47526499e-01],\n",
       "       [-7.40304323e-02],\n",
       "       [-1.20710311e-01],\n",
       "       [ 5.25325106e-01],\n",
       "       [-9.62319630e-02],\n",
       "       [ 4.23722789e-01],\n",
       "       [-2.61828528e-01],\n",
       "       [ 2.11378188e-02],\n",
       "       [-4.18380611e-02],\n",
       "       [ 5.63568147e-01],\n",
       "       [ 3.75345515e-01],\n",
       "       [-1.44855968e-01],\n",
       "       [-2.72567681e-01],\n",
       "       [ 1.14248377e-01],\n",
       "       [ 2.49309174e-01],\n",
       "       [-1.14909694e-01],\n",
       "       [ 5.86353190e-01],\n",
       "       [ 5.16828612e-01],\n",
       "       [-1.99058209e-02],\n",
       "       [ 5.03410808e+01],\n",
       "       [ 5.03234532e+01],\n",
       "       [ 5.59411669e+01],\n",
       "       [ 5.02440955e+01],\n",
       "       [ 5.59978090e+01],\n",
       "       [ 5.57115096e+01],\n",
       "       [ 5.02863469e+01],\n",
       "       [ 5.58031886e+01],\n",
       "       [ 5.58079377e+01],\n",
       "       [ 5.02668419e+01],\n",
       "       [ 5.59348003e+01],\n",
       "       [ 5.03046590e+01],\n",
       "       [ 5.01569636e+01],\n",
       "       [-1.14610181e-01],\n",
       "       [ 5.01181758e+01],\n",
       "       [ 5.58587610e+01],\n",
       "       [ 5.59348611e+01],\n",
       "       [ 5.00709284e+01],\n",
       "       [ 5.01755610e+01],\n",
       "       [ 5.61303318e+01],\n",
       "       [ 5.00420438e+01],\n",
       "       [ 5.57529423e+01],\n",
       "       [ 5.01030826e+01],\n",
       "       [ 5.60085552e+01],\n",
       "       [ 5.03841306e+01],\n",
       "       [ 5.01632270e+01],\n",
       "       [ 5.01604588e+01],\n",
       "       [ 5.61575226e+01],\n",
       "       [-9.75696085e-02],\n",
       "       [ 5.97475823e+01],\n",
       "       [ 5.94696438e+01],\n",
       "       [ 5.00031302e+01],\n",
       "       [ 5.94287171e+01],\n",
       "       [-3.46079421e-02],\n",
       "       [ 5.03747820e+01],\n",
       "       [ 5.94455640e+01],\n",
       "       [ 5.95665978e+01],\n",
       "       [ 5.97428602e+01],\n",
       "       [ 5.02754030e+01],\n",
       "       [ 5.95984989e+01],\n",
       "       [ 5.00716359e+01],\n",
       "       [ 5.94163066e+01],\n",
       "       [ 5.95901577e+01],\n",
       "       [ 5.97522861e+01],\n",
       "       [ 5.00931041e+01],\n",
       "       [ 5.98886412e+01],\n",
       "       [ 5.96035571e+01],\n",
       "       [ 5.01750949e+01],\n",
       "       [ 5.03678916e+01],\n",
       "       [ 5.03712839e+01],\n",
       "       [ 5.03221930e+01],\n",
       "       [ 5.98533666e+01],\n",
       "       [ 5.02611263e+01],\n",
       "       [ 5.00352787e+01],\n",
       "       [ 5.98875458e+01],\n",
       "       [ 5.98845423e+01],\n",
       "       [ 5.00877712e+01],\n",
       "       [ 5.00736161e+01],\n",
       "       [ 6.20417798e+01],\n",
       "       [ 5.00328204e+01],\n",
       "       [ 5.01703833e+01],\n",
       "       [ 6.17070013e+01],\n",
       "       [ 6.18777206e+01],\n",
       "       [ 6.20760106e+01],\n",
       "       [ 5.01813237e+01],\n",
       "       [ 6.21107671e+01],\n",
       "       [ 5.00985720e+01],\n",
       "       [ 6.21795357e+01],\n",
       "       [ 6.21310866e+01],\n",
       "       [ 6.19613058e+01],\n",
       "       [ 5.01836655e+01],\n",
       "       [ 6.21614504e+01],\n",
       "       [ 6.22243971e+01],\n",
       "       [ 6.21556977e+01],\n",
       "       [ 5.00950468e+01],\n",
       "       [ 6.22572524e+01],\n",
       "       [ 6.17082652e+01],\n",
       "       [ 6.21169997e+01],\n",
       "       [ 6.23208601e+01],\n",
       "       [ 6.19425148e+01],\n",
       "       [ 6.23969800e+01],\n",
       "       [ 6.21909013e+01],\n",
       "       [ 6.22083537e+01],\n",
       "       [-2.48150683e-01],\n",
       "       [ 5.00572080e+01],\n",
       "       [ 5.02693498e+01],\n",
       "       [ 5.04783436e+01],\n",
       "       [-1.64735213e+01],\n",
       "       [ 5.06910906e+01],\n",
       "       [ 5.04574006e+01],\n",
       "       [ 5.06057179e+01],\n",
       "       [ 5.02469127e+01],\n",
       "       [ 5.06122917e+01],\n",
       "       [ 5.03357902e+01],\n",
       "       [ 5.06927191e+01],\n",
       "       [-1.66079208e+01],\n",
       "       [-1.64951137e+01],\n",
       "       [ 5.01977161e+01],\n",
       "       [ 5.00802068e+01],\n",
       "       [ 5.04186179e+01],\n",
       "       [ 5.06023970e+01],\n",
       "       [ 5.06991135e+01],\n",
       "       [ 5.04160247e+01],\n",
       "       [ 5.02648818e+01],\n",
       "       [ 5.03331697e+01],\n",
       "       [-1.65067221e+01],\n",
       "       [ 5.02190494e+01],\n",
       "       [ 5.04358720e+01],\n",
       "       [ 5.02799764e+01],\n",
       "       [ 5.03706111e+01],\n",
       "       [-1.65327002e+01],\n",
       "       [-1.66747629e+01],\n",
       "       [-2.13157678e-01],\n",
       "       [-2.38984846e-01],\n",
       "       [-5.72252713e-02],\n",
       "       [ 9.90415195e-03],\n",
       "       [ 4.38769317e-01],\n",
       "       [-3.34666004e-01],\n",
       "       [ 5.00225970e-02],\n",
       "       [-3.93654898e-01],\n",
       "       [ 2.30135144e-01],\n",
       "       [ 4.83195436e-01],\n",
       "       [-6.70052907e-02],\n",
       "       [ 3.07233342e-01],\n",
       "       [-4.22831825e-01],\n",
       "       [ 3.75357004e-01],\n",
       "       [-1.77272966e-01],\n",
       "       [-2.41408635e-01],\n",
       "       [ 8.16209381e-02],\n",
       "       [ 1.94278902e-01],\n",
       "       [-3.30802036e-01],\n",
       "       [ 1.79077607e-01],\n",
       "       [-2.53397912e-01],\n",
       "       [-1.48913687e-01],\n",
       "       [-2.13662179e-01],\n",
       "       [-2.36401544e-01],\n",
       "       [ 5.96055568e-02],\n",
       "       [-4.27705928e-01],\n",
       "       [ 1.80984397e-02],\n",
       "       [ 1.07351914e-01],\n",
       "       [ 5.49196851e-02],\n",
       "       [ 2.49967888e-01],\n",
       "       [ 1.33965861e-01],\n",
       "       [ 1.87048239e-01],\n",
       "       [-2.64304152e-01],\n",
       "       [ 2.20612228e-01],\n",
       "       [-3.56852113e-01],\n",
       "       [-4.90547597e-01],\n",
       "       [ 3.22309341e-01],\n",
       "       [ 2.16996433e-01],\n",
       "       [-2.25264487e-01],\n",
       "       [ 1.56566850e-02],\n",
       "       [ 2.94017251e-01],\n",
       "       [ 3.35506624e-01],\n",
       "       [-3.84214034e-01],\n",
       "       [-1.13782844e-01],\n",
       "       [ 4.83621598e-01],\n",
       "       [-2.77486183e-01],\n",
       "       [ 4.57252481e-01],\n",
       "       [-2.32934289e-01],\n",
       "       [-1.44668493e-01],\n",
       "       [ 1.58764882e-01],\n",
       "       [ 3.22091518e-02],\n",
       "       [-2.32891415e-01],\n",
       "       [-2.79320068e-01],\n",
       "       [ 2.61932272e-01],\n",
       "       [-2.68646154e-01],\n",
       "       [ 2.42698490e-01],\n",
       "       [ 5.24962030e-02],\n",
       "       [ 2.22925300e-01],\n",
       "       [-3.35767177e-01],\n",
       "       [ 3.13184102e-01],\n",
       "       [ 2.52674560e-01],\n",
       "       [-2.25104210e-02],\n",
       "       [-2.79058383e-01],\n",
       "       [-1.12061612e-01],\n",
       "       [ 1.15825523e-01],\n",
       "       [ 2.88781612e-01],\n",
       "       [-2.66274215e-01],\n",
       "       [ 1.55581203e-01],\n",
       "       [-3.69887399e-01],\n",
       "       [-9.05206766e-02],\n",
       "       [ 1.24176456e-01],\n",
       "       [-4.02357504e-01],\n",
       "       [-1.85826039e-01],\n",
       "       [-2.16723256e-01],\n",
       "       [ 3.20687350e-01],\n",
       "       [ 2.62797215e-01],\n",
       "       [ 3.35706175e-02],\n",
       "       [ 2.42387859e-01],\n",
       "       [ 1.59689826e-01],\n",
       "       [ 3.06682329e-01],\n",
       "       [ 3.93962625e-02],\n",
       "       [ 2.36176994e-01],\n",
       "       [ 1.48742058e-01],\n",
       "       [ 4.98977836e-01],\n",
       "       [ 4.43700535e-01],\n",
       "       [ 1.78666626e-02],\n",
       "       [-1.01674805e-01],\n",
       "       [ 2.99743809e-01],\n",
       "       [-4.10191555e-01],\n",
       "       [-8.92681005e-02],\n",
       "       [-1.80754442e-01],\n",
       "       [ 2.06261924e-02],\n",
       "       [ 1.36794779e-01],\n",
       "       [ 2.40047974e-01],\n",
       "       [ 2.54285806e-01],\n",
       "       [-4.45570925e-01],\n",
       "       [-8.64887088e-02],\n",
       "       [ 2.70445168e-01],\n",
       "       [ 1.74134141e-01],\n",
       "       [-3.78802762e-01],\n",
       "       [ 1.20598697e-01],\n",
       "       [-4.47961347e-01],\n",
       "       [-1.55122353e-01],\n",
       "       [ 2.40691800e-01],\n",
       "       [-2.00800444e-01],\n",
       "       [ 3.81777873e-01],\n",
       "       [ 2.61931968e-01],\n",
       "       [ 3.50967530e-01],\n",
       "       [-1.71868100e-01],\n",
       "       [-3.43958316e-01],\n",
       "       [-4.73441706e-01],\n",
       "       [-4.37376902e-02],\n",
       "       [ 2.16243089e-01],\n",
       "       [ 4.86228075e-01],\n",
       "       [ 1.92791330e-01],\n",
       "       [ 6.52742055e-02],\n",
       "       [ 4.89369338e-01],\n",
       "       [-3.29873832e-01],\n",
       "       [-3.31866885e-01],\n",
       "       [ 3.99791432e-01],\n",
       "       [-3.50599348e-01],\n",
       "       [ 2.04565499e-01],\n",
       "       [ 3.68216100e-01],\n",
       "       [-3.86642028e-01],\n",
       "       [-4.20626966e-01],\n",
       "       [ 4.38564228e-01],\n",
       "       [-2.03392813e-01],\n",
       "       [ 3.84612251e-01],\n",
       "       [ 2.01076678e-01],\n",
       "       [-7.99063048e-02],\n",
       "       [ 3.75992354e-01],\n",
       "       [-3.00650440e-01],\n",
       "       [ 2.49143001e-01],\n",
       "       [ 3.82037872e-01],\n",
       "       [ 1.34002972e-01],\n",
       "       [ 4.61550497e-02],\n",
       "       [ 4.18520399e-01],\n",
       "       [ 2.38100218e-01],\n",
       "       [-6.42749066e-02],\n",
       "       [-1.53041441e-01],\n",
       "       [ 8.50572347e-01],\n",
       "       [ 5.51696597e-01],\n",
       "       [ 7.51872233e-01],\n",
       "       [ 8.80397468e-01],\n",
       "       [ 5.96979511e-01],\n",
       "       [ 2.23790452e-01],\n",
       "       [ 5.17566563e-01],\n",
       "       [ 1.81056249e-02],\n",
       "       [ 8.70213534e-01],\n",
       "       [ 8.32144434e-01],\n",
       "       [ 6.13515961e-01],\n",
       "       [ 8.81262095e-01],\n",
       "       [ 5.51671260e-01],\n",
       "       [ 3.09358393e-01],\n",
       "       [ 5.68540705e-01],\n",
       "       [ 3.87984780e-01],\n",
       "       [ 5.53790846e-01],\n",
       "       [ 5.59025336e-01],\n",
       "       [ 8.98158103e-01],\n",
       "       [ 1.44080802e-01],\n",
       "       [ 1.44727686e-01],\n",
       "       [ 4.26732333e-01],\n",
       "       [ 8.41334388e-01],\n",
       "       [ 7.86833822e-01],\n",
       "       [ 6.81143824e-01],\n",
       "       [ 4.73957707e-01],\n",
       "       [ 7.30404299e-02],\n",
       "       [ 8.12754586e-01],\n",
       "       [ 8.11246800e-01],\n",
       "       [ 7.82851004e-01],\n",
       "       [ 2.89773807e-01],\n",
       "       [ 1.34532402e-01],\n",
       "       [ 1.31000092e-02],\n",
       "       [ 9.60726682e-01],\n",
       "       [ 1.55372514e-01],\n",
       "       [ 1.48828962e-02],\n",
       "       [ 8.59488849e-01],\n",
       "       [ 7.99442303e-01],\n",
       "       [ 9.78091863e-01],\n",
       "       [ 9.39153901e-01],\n",
       "       [ 1.47564202e-02],\n",
       "       [ 8.01343409e-01],\n",
       "       [ 4.45908921e-01],\n",
       "       [ 8.28282357e-01],\n",
       "       [ 1.16562435e-01],\n",
       "       [ 1.86835654e-01],\n",
       "       [ 7.19012322e-01],\n",
       "       [ 8.89495679e-01],\n",
       "       [ 2.40886828e-01],\n",
       "       [ 6.45263933e-01],\n",
       "       [ 5.83043580e-01],\n",
       "       [ 2.86768781e-01],\n",
       "       [ 8.35253761e-01],\n",
       "       [ 4.72375693e-01],\n",
       "       [ 6.77954978e-01],\n",
       "       [ 5.94496204e-01]])"
      ]
     },
     "execution_count": 388,
     "metadata": {},
     "output_type": "execute_result"
    }
   ],
   "source": [
    "weight1"
   ]
  },
  {
   "cell_type": "code",
   "execution_count": 390,
   "id": "af9f1b23",
   "metadata": {},
   "outputs": [
    {
     "data": {
      "text/plain": [
       "array([[9.37946773e-01, 3.17441000e-01, 7.10784443e-01],\n",
       "       [5.42911037e-01, 9.09190370e-01, 3.37233952e-01],\n",
       "       [8.96446290e-01, 3.42729266e-01, 9.99531577e-01],\n",
       "       [4.43539925e-01, 7.21614120e-01, 6.91108454e-01],\n",
       "       [4.70480638e+00, 4.62333711e+00, 5.17671952e+00],\n",
       "       [4.91334493e+00, 3.95045136e+00, 4.71929872e+00],\n",
       "       [5.08414958e+00, 3.82287398e+00, 5.33951680e+00],\n",
       "       [4.56869757e+00, 3.78002350e+00, 5.24997192e+00],\n",
       "       [7.12101322e-01, 9.18418758e-01, 5.86206346e-01],\n",
       "       [3.38923951e+01, 2.82027249e+01, 3.59550398e+01],\n",
       "       [9.54355097e+00, 8.14943194e+00, 1.07849461e+01],\n",
       "       [8.31655281e-01, 5.05129078e-02, 9.44917615e-01],\n",
       "       [5.17186256e+00, 3.97653494e+00, 4.89765095e+00],\n",
       "       [4.43976860e+00, 3.74424956e+00, 4.78513705e+00],\n",
       "       [5.07738014e-01, 2.70812747e-01, 2.58083642e-01],\n",
       "       [4.59780844e+00, 4.55142637e+00, 5.57832556e+00],\n",
       "       [5.26252144e+00, 3.81244615e+00, 5.28726893e+00],\n",
       "       [6.29540381e+01, 8.66764057e+01, 6.21298003e+01],\n",
       "       [2.50140235e+01, 4.03392881e+01, 2.84719332e+01],\n",
       "       [1.90869289e+01, 4.24429419e+01, 4.84734774e+01],\n",
       "       [1.05938226e+02, 1.08059011e+02, 1.15689742e+02],\n",
       "       [4.88404676e+00, 4.21267905e+00, 5.43051665e+00],\n",
       "       [4.68098450e+00, 4.27752048e+00, 5.05619080e+00],\n",
       "       [9.14589055e-02, 9.92076297e-01, 1.55703344e-01],\n",
       "       [6.39004523e-01, 9.71760371e-01, 4.93632170e-01],\n",
       "       [8.14876996e-01, 4.37640423e-01, 1.73159259e-01],\n",
       "       [9.37903369e-01, 1.66916123e-01, 1.64421577e-01],\n",
       "       [7.33942865e-01, 2.43085055e-01, 1.32358927e-02]])"
      ]
     },
     "execution_count": 390,
     "metadata": {},
     "output_type": "execute_result"
    }
   ],
   "source": [
    "weight2"
   ]
  },
  {
   "cell_type": "code",
   "execution_count": 391,
   "id": "b51f1e7c",
   "metadata": {},
   "outputs": [
    {
     "data": {
      "text/plain": [
       "[<matplotlib.lines.Line2D at 0x290423cd0>]"
      ]
     },
     "execution_count": 391,
     "metadata": {},
     "output_type": "execute_result"
    },
    {
     "data": {
      "image/png": "[encoded data removed]",
      "text/plain": [
       "<Figure size 640x480 with 1 Axes>"
      ]
     },
     "metadata": {},
     "output_type": "display_data"
    }
   ],
   "source": [
    "plt.plot(weight1)"
   ]
  },
  {
   "cell_type": "code",
   "execution_count": 392,
   "id": "901a7cd2",
   "metadata": {},
   "outputs": [
    {
     "data": {
      "text/plain": [
       "array([0.17753118])"
      ]
     },
     "execution_count": 392,
     "metadata": {},
     "output_type": "execute_result"
    }
   ],
   "source": [
    "weight1[456]"
   ]
  },
  {
   "cell_type": "code",
   "execution_count": null,
   "id": "e329ab05",
   "metadata": {},
   "outputs": [],
   "source": []
  },
  {
   "cell_type": "code",
   "execution_count": 393,
   "id": "312e71e0",
   "metadata": {},
   "outputs": [
    {
     "data": {
      "text/plain": [
       "[<matplotlib.lines.Line2D at 0x290bccdc0>,\n",
       " <matplotlib.lines.Line2D at 0x290bcce20>,\n",
       " <matplotlib.lines.Line2D at 0x290bcce50>]"
      ]
     },
     "execution_count": 393,
     "metadata": {},
     "output_type": "execute_result"
    },
    {
     "data": {
      "image/png": "[encoded data removed]",
      "text/plain": [
       "<Figure size 640x480 with 1 Axes>"
      ]
     },
     "metadata": {},
     "output_type": "display_data"
    }
   ],
   "source": [
    "plt.plot(weight2)"
   ]
  },
  {
   "cell_type": "code",
   "execution_count": 394,
   "id": "c5bf3732",
   "metadata": {},
   "outputs": [],
   "source": [
    "def testingMemoryElementWork(inputImage,weight):\n",
    "    result = []\n",
    "    for item in inputImage:\n",
    "        item = flattenInput(item)\n",
    "        result.append(np.dot(item.T,weight))\n",
    "    return result"
   ]
  },
  {
   "cell_type": "code",
   "execution_count": 395,
   "id": "0194634a",
   "metadata": {},
   "outputs": [],
   "source": [
    "# weight1 = weightInitialization(784,200)\n",
    "# weight1 = weightUpdateThresholding(10,X_train_filter,weight1)"
   ]
  },
  {
   "cell_type": "code",
   "execution_count": 396,
   "id": "6de46829",
   "metadata": {},
   "outputs": [],
   "source": [
    "# weight1 = weightInitialization(784,20)\n",
    "# weight1 = weightUpdateContainingMemoryElement(2,1,X_train_filter,weight1)"
   ]
  },
  {
   "cell_type": "code",
   "execution_count": 397,
   "id": "4ad0859f",
   "metadata": {},
   "outputs": [
    {
     "data": {
      "text/plain": [
       "array([-16.49511374])"
      ]
     },
     "execution_count": 397,
     "metadata": {},
     "output_type": "execute_result"
    }
   ],
   "source": [
    "weight1[572]"
   ]
  },
  {
   "cell_type": "code",
   "execution_count": 398,
   "id": "3b7cf2ca",
   "metadata": {},
   "outputs": [],
   "source": [
    "# Finding the Values for the Digits\""
   ]
  },
  {
   "cell_type": "code",
   "execution_count": 399,
   "id": "99e2b742",
   "metadata": {},
   "outputs": [],
   "source": [
    "# results_0=printResults(X_train_filter_0,weight1)\n",
    "\n",
    "# results_1=printResults(X_train_filter_1,weight1)\n",
    "# results_2=printResults(X_train_filter_2,weight1)\n",
    "# results_3=printResults(X_train_filter_3,weight1)\n",
    "#results_4=printResults(X_train_filter_4,weight1)"
   ]
  },
  {
   "cell_type": "code",
   "execution_count": 400,
   "id": "8cccbd46",
   "metadata": {
    "scrolled": false
   },
   "outputs": [],
   "source": [
    "#weight1"
   ]
  },
  {
   "cell_type": "code",
   "execution_count": 401,
   "id": "7c0f2c7b",
   "metadata": {},
   "outputs": [],
   "source": [
    "results_0 , resultRow_0 = printResultsBlockIncludingAnotherLayer(X_train_filter_0,weight1,weight2)\n",
    "\n",
    "results_1 , resultRow_1 = printResultsBlockIncludingAnotherLayer(X_train_filter_1,weight1,weight2)\n",
    "results_2  , resultRow_2 = printResultsBlockIncludingAnotherLayer(X_train_filter_2,weight1,weight2)"
   ]
  },
  {
   "cell_type": "code",
   "execution_count": 402,
   "id": "4d54177c",
   "metadata": {},
   "outputs": [
    {
     "data": {
      "text/plain": [
       "array([[[ 99087.27587109, 132033.30232984, 118478.15944538]]])"
      ]
     },
     "execution_count": 402,
     "metadata": {},
     "output_type": "execute_result"
    }
   ],
   "source": [
    "results_2[0]"
   ]
  },
  {
   "cell_type": "code",
   "execution_count": 403,
   "id": "f8f7b32b",
   "metadata": {},
   "outputs": [
    {
     "data": {
      "text/plain": [
       "array([[[ 0.00000000e+00]],\n",
       "\n",
       "       [[ 0.00000000e+00]],\n",
       "\n",
       "       [[ 0.00000000e+00]],\n",
       "\n",
       "       [[-6.25102743e-02]],\n",
       "\n",
       "       [[ 6.56165991e-01]],\n",
       "\n",
       "       [[ 3.44003174e-01]],\n",
       "\n",
       "       [[ 3.76776035e-01]],\n",
       "\n",
       "       [[ 2.04385109e-01]],\n",
       "\n",
       "       [[-2.54005281e-01]],\n",
       "\n",
       "       [[ 1.02166757e+02]],\n",
       "\n",
       "       [[ 5.37631156e-01]],\n",
       "\n",
       "       [[-1.12896427e-01]],\n",
       "\n",
       "       [[-3.29100385e-01]],\n",
       "\n",
       "       [[-3.99756918e-01]],\n",
       "\n",
       "       [[ 2.97462381e-01]],\n",
       "\n",
       "       [[-2.85813359e-01]],\n",
       "\n",
       "       [[-2.72582093e-01]],\n",
       "\n",
       "       [[ 4.76116700e+02]],\n",
       "\n",
       "       [[ 4.62220869e+02]],\n",
       "\n",
       "       [[ 5.02791307e+02]],\n",
       "\n",
       "       [[ 2.94611931e+02]],\n",
       "\n",
       "       [[-1.92176374e-01]],\n",
       "\n",
       "       [[-5.71153170e-02]],\n",
       "\n",
       "       [[ 0.00000000e+00]],\n",
       "\n",
       "       [[ 0.00000000e+00]],\n",
       "\n",
       "       [[ 0.00000000e+00]],\n",
       "\n",
       "       [[ 0.00000000e+00]],\n",
       "\n",
       "       [[ 0.00000000e+00]]])"
      ]
     },
     "execution_count": 403,
     "metadata": {},
     "output_type": "execute_result"
    }
   ],
   "source": [
    "resultRow_2"
   ]
  },
  {
   "cell_type": "code",
   "execution_count": 404,
   "id": "da6b0d71",
   "metadata": {
    "scrolled": false
   },
   "outputs": [
    {
     "data": {
      "text/plain": [
       "array([[[79087.19753566, 95110.85564802, 93006.17760951]]])"
      ]
     },
     "execution_count": 404,
     "metadata": {},
     "output_type": "execute_result"
    }
   ],
   "source": [
    "results_0[0]"
   ]
  },
  {
   "cell_type": "code",
   "execution_count": 405,
   "id": "3eb3f865",
   "metadata": {},
   "outputs": [
    {
     "data": {
      "text/plain": [
       "array([[[ 0.00000000e+00]],\n",
       "\n",
       "       [[ 0.00000000e+00]],\n",
       "\n",
       "       [[ 0.00000000e+00]],\n",
       "\n",
       "       [[ 0.00000000e+00]],\n",
       "\n",
       "       [[ 4.86996631e-01]],\n",
       "\n",
       "       [[ 7.08868607e-01]],\n",
       "\n",
       "       [[ 9.11604101e-01]],\n",
       "\n",
       "       [[ 1.00484844e-01]],\n",
       "\n",
       "       [[ 2.18971890e-01]],\n",
       "\n",
       "       [[ 3.28248761e+02]],\n",
       "\n",
       "       [[ 8.56599415e-01]],\n",
       "\n",
       "       [[ 2.84080252e-02]],\n",
       "\n",
       "       [[ 1.06410409e+00]],\n",
       "\n",
       "       [[ 2.13496074e-01]],\n",
       "\n",
       "       [[-7.86069304e-01]],\n",
       "\n",
       "       [[ 1.61644770e-01]],\n",
       "\n",
       "       [[ 4.20019091e-01]],\n",
       "\n",
       "       [[ 3.43990779e+02]],\n",
       "\n",
       "       [[ 3.32071682e+02]],\n",
       "\n",
       "       [[ 5.02141206e+02]],\n",
       "\n",
       "       [[ 4.65849679e+02]],\n",
       "\n",
       "       [[ 4.74380228e-01]],\n",
       "\n",
       "       [[-4.14165400e-01]],\n",
       "\n",
       "       [[ 5.09229617e-02]],\n",
       "\n",
       "       [[ 0.00000000e+00]],\n",
       "\n",
       "       [[ 0.00000000e+00]],\n",
       "\n",
       "       [[ 0.00000000e+00]],\n",
       "\n",
       "       [[ 0.00000000e+00]]])"
      ]
     },
     "execution_count": 405,
     "metadata": {},
     "output_type": "execute_result"
    }
   ],
   "source": [
    "resultRow_0"
   ]
  },
  {
   "cell_type": "code",
   "execution_count": 406,
   "id": "57c85d91",
   "metadata": {},
   "outputs": [
    {
     "data": {
      "text/plain": [
       "array([[[ 0.00000000e+00]],\n",
       "\n",
       "       [[ 0.00000000e+00]],\n",
       "\n",
       "       [[ 0.00000000e+00]],\n",
       "\n",
       "       [[ 0.00000000e+00]],\n",
       "\n",
       "       [[ 0.00000000e+00]],\n",
       "\n",
       "       [[ 2.28352046e-01]],\n",
       "\n",
       "       [[ 5.59992132e-01]],\n",
       "\n",
       "       [[ 1.29154558e-01]],\n",
       "\n",
       "       [[ 8.00414610e-02]],\n",
       "\n",
       "       [[ 6.06282576e+01]],\n",
       "\n",
       "       [[ 2.15349761e-02]],\n",
       "\n",
       "       [[-3.96655712e-01]],\n",
       "\n",
       "       [[-6.71705876e-02]],\n",
       "\n",
       "       [[ 4.77547364e-01]],\n",
       "\n",
       "       [[ 1.92692765e-01]],\n",
       "\n",
       "       [[ 1.04493957e-01]],\n",
       "\n",
       "       [[ 4.67029540e-01]],\n",
       "\n",
       "       [[ 6.27575189e+01]],\n",
       "\n",
       "       [[ 1.15401509e+02]],\n",
       "\n",
       "       [[ 1.08338885e+02]],\n",
       "\n",
       "       [[ 1.85777434e+01]],\n",
       "\n",
       "       [[ 1.12787794e-01]],\n",
       "\n",
       "       [[-9.59800551e-02]],\n",
       "\n",
       "       [[ 2.87455462e-03]],\n",
       "\n",
       "       [[ 3.30553052e-01]],\n",
       "\n",
       "       [[ 0.00000000e+00]],\n",
       "\n",
       "       [[ 0.00000000e+00]],\n",
       "\n",
       "       [[ 0.00000000e+00]]])"
      ]
     },
     "execution_count": 406,
     "metadata": {},
     "output_type": "execute_result"
    }
   ],
   "source": [
    "resultRow_1"
   ]
  },
  {
   "cell_type": "code",
   "execution_count": 407,
   "id": "5391b374",
   "metadata": {},
   "outputs": [
    {
     "data": {
      "text/plain": [
       "array([[[27267.9505514 , 37595.56233466, 34330.12748858]]])"
      ]
     },
     "execution_count": 407,
     "metadata": {},
     "output_type": "execute_result"
    }
   ],
   "source": [
    "results_1[0]"
   ]
  },
  {
   "cell_type": "code",
   "execution_count": 331,
   "id": "02d9ff26",
   "metadata": {},
   "outputs": [
    {
     "data": {
      "text/plain": [
       "[<matplotlib.lines.Line2D at 0x290586850>]"
      ]
     },
     "execution_count": 331,
     "metadata": {},
     "output_type": "execute_result"
    },
    {
     "data": {
      "image/png": "[encoded data removed]",
      "text/plain": [
       "<Figure size 640x480 with 1 Axes>"
      ]
     },
     "metadata": {},
     "output_type": "display_data"
    }
   ],
   "source": [
    "plt.plot(weight1)"
   ]
  },
  {
   "cell_type": "code",
   "execution_count": 1596,
   "id": "c52dc580",
   "metadata": {},
   "outputs": [],
   "source": [
    "results_0 , resultSum_0 =printResultsBlock(X_train_filter_0,weight1)\n",
    "\n",
    "results_1 , resultSum_1 =printResultsBlock(X_train_filter_1,weight1)\n",
    "results_2 , resultSum_2 =printResultsBlock(X_train_filter_2,weight1)"
   ]
  },
  {
   "cell_type": "code",
   "execution_count": 1597,
   "id": "07ee26b9",
   "metadata": {},
   "outputs": [
    {
     "data": {
      "text/plain": [
       "112"
      ]
     },
     "execution_count": 1597,
     "metadata": {},
     "output_type": "execute_result"
    }
   ],
   "source": [
    "len(results_0[0])"
   ]
  },
  {
   "cell_type": "code",
   "execution_count": 1598,
   "id": "e4b70a3d",
   "metadata": {},
   "outputs": [],
   "source": [
    "def findMaxNode(result):\n",
    "    max_ = 0\n",
    "    indices = []\n",
    "    ansMode = []\n",
    "    for images in result:\n",
    "        max_index = -1\n",
    "        max_ = 0\n",
    "        for index in range(28):\n",
    "            if(images[index] > max_):\n",
    "                max_ = images[index]\n",
    "                max_index = index\n",
    "        \n",
    "        indices.append(max_index)\n",
    "        \n",
    "    data = Counter(indices)\n",
    "    mode = statistics.mode(indices)\n",
    "    return data,indices,mode"
   ]
  },
  {
   "cell_type": "code",
   "execution_count": 1599,
   "id": "d3b1121e",
   "metadata": {},
   "outputs": [],
   "source": [
    "data_0 , indices_0 , mode_0 = findMaxNode(results_0)\n",
    "data_1 , indices_1 , mode_1 = findMaxNode(results_1)\n",
    "data_2 , indices_2 , mode_2 = findMaxNode(results_2)"
   ]
  },
  {
   "cell_type": "code",
   "execution_count": 1600,
   "id": "3ad90003",
   "metadata": {},
   "outputs": [
    {
     "data": {
      "text/plain": [
       "Counter({22: 1274,\n",
       "         26: 2682,\n",
       "         18: 776,\n",
       "         21: 377,\n",
       "         -1: 201,\n",
       "         27: 461,\n",
       "         19: 18,\n",
       "         13: 9,\n",
       "         25: 80,\n",
       "         14: 5,\n",
       "         6: 1,\n",
       "         12: 1,\n",
       "         20: 15,\n",
       "         17: 3,\n",
       "         24: 1,\n",
       "         23: 1,\n",
       "         16: 1,\n",
       "         15: 14,\n",
       "         5: 1,\n",
       "         8: 2})"
      ]
     },
     "execution_count": 1600,
     "metadata": {},
     "output_type": "execute_result"
    }
   ],
   "source": [
    "data_0"
   ]
  },
  {
   "cell_type": "code",
   "execution_count": 1601,
   "id": "177cb0f3",
   "metadata": {},
   "outputs": [
    {
     "data": {
      "text/plain": [
       "26"
      ]
     },
     "execution_count": 1601,
     "metadata": {},
     "output_type": "execute_result"
    }
   ],
   "source": [
    "mode_0"
   ]
  },
  {
   "cell_type": "code",
   "execution_count": 1602,
   "id": "0f3c30e9",
   "metadata": {},
   "outputs": [
    {
     "data": {
      "text/plain": [
       "Counter({23: 171,\n",
       "         18: 1408,\n",
       "         21: 697,\n",
       "         27: 288,\n",
       "         26: 2639,\n",
       "         22: 1085,\n",
       "         25: 76,\n",
       "         20: 10,\n",
       "         19: 232,\n",
       "         16: 1,\n",
       "         -1: 86,\n",
       "         17: 21,\n",
       "         13: 10,\n",
       "         15: 8,\n",
       "         6: 2,\n",
       "         10: 2,\n",
       "         14: 4,\n",
       "         9: 1,\n",
       "         24: 1})"
      ]
     },
     "execution_count": 1602,
     "metadata": {},
     "output_type": "execute_result"
    }
   ],
   "source": [
    "data_1"
   ]
  },
  {
   "cell_type": "code",
   "execution_count": 1603,
   "id": "972c0647",
   "metadata": {},
   "outputs": [
    {
     "data": {
      "text/plain": [
       "26"
      ]
     },
     "execution_count": 1603,
     "metadata": {},
     "output_type": "execute_result"
    }
   ],
   "source": [
    "mode_1"
   ]
  },
  {
   "cell_type": "code",
   "execution_count": 1604,
   "id": "5795306b",
   "metadata": {},
   "outputs": [
    {
     "data": {
      "text/plain": [
       "Counter({26: 1979,\n",
       "         22: 676,\n",
       "         20: 271,\n",
       "         -1: 328,\n",
       "         21: 586,\n",
       "         27: 139,\n",
       "         15: 30,\n",
       "         18: 1740,\n",
       "         10: 25,\n",
       "         25: 83,\n",
       "         13: 23,\n",
       "         23: 1,\n",
       "         14: 12,\n",
       "         11: 1,\n",
       "         9: 30,\n",
       "         24: 7,\n",
       "         6: 6,\n",
       "         16: 7,\n",
       "         12: 7,\n",
       "         5: 3,\n",
       "         17: 2,\n",
       "         19: 2})"
      ]
     },
     "execution_count": 1604,
     "metadata": {},
     "output_type": "execute_result"
    }
   ],
   "source": [
    "data_2"
   ]
  },
  {
   "cell_type": "code",
   "execution_count": 1605,
   "id": "f9ff8aa5",
   "metadata": {},
   "outputs": [
    {
     "data": {
      "text/plain": [
       "26"
      ]
     },
     "execution_count": 1605,
     "metadata": {},
     "output_type": "execute_result"
    }
   ],
   "source": [
    "mode_2"
   ]
  },
  {
   "cell_type": "code",
   "execution_count": 1606,
   "id": "44229641",
   "metadata": {},
   "outputs": [],
   "source": [
    "#st.t.interval(alpha=0.95, df=len(data)-1, loc=np.mean(data), scale=st.sem(data))\n",
    "#do this and maximum val and then go with variations"
   ]
  },
  {
   "cell_type": "code",
   "execution_count": 1607,
   "id": "0d1d593b",
   "metadata": {},
   "outputs": [],
   "source": [
    "#results_0=printResultsBlock(X_train_filter_0,weight1)\n",
    "#results_1=printResultsBlock(X_train_filter_1,weight1)\n",
    "#results_2=printResultsBlock(X_train_filter_2,weight1)\n",
    "# results_3=printResultsBlock(X_train_filter_3,weight1)\n",
    "# results_4=printResultsBlock(X_train_filter_4,weight1)"
   ]
  },
  {
   "cell_type": "code",
   "execution_count": 1608,
   "id": "c578039c",
   "metadata": {},
   "outputs": [],
   "source": [
    "#results_0"
   ]
  },
  {
   "cell_type": "code",
   "execution_count": 1609,
   "id": "9a54997d",
   "metadata": {},
   "outputs": [],
   "source": [
    "#results_1"
   ]
  },
  {
   "cell_type": "code",
   "execution_count": 1610,
   "id": "53866c24",
   "metadata": {},
   "outputs": [],
   "source": [
    "#results_2"
   ]
  },
  {
   "cell_type": "code",
   "execution_count": 1611,
   "id": "a35c8176",
   "metadata": {},
   "outputs": [],
   "source": [
    "#results_3"
   ]
  },
  {
   "cell_type": "code",
   "execution_count": 1612,
   "id": "a395b19a",
   "metadata": {},
   "outputs": [],
   "source": [
    "meanOfTrainingData_0 = []\n",
    "medianOfTrainingData_0 = []\n",
    "for index in range(len(resultSum_0)):\n",
    "    meanOfTrainingData_0.append(np.mean(resultSum_0[index]))\n",
    "    medianOfTrainingData_0.append(np.median(resultSum_0[index]))\n",
    "    trainingMeanValue_0 = np.mean(medianOfTrainingData_0)"
   ]
  },
  {
   "cell_type": "code",
   "execution_count": 1613,
   "id": "faea5f23",
   "metadata": {},
   "outputs": [],
   "source": [
    "meanOfTrainingData_1 = []\n",
    "medianOfTrainingData_1 = []\n",
    "for index in range(len(resultSum_1)):\n",
    "    meanOfTrainingData_1.append(np.mean(resultSum_1[index]))\n",
    "    medianOfTrainingData_1.append(np.median(resultSum_1[index]))\n",
    "    trainingMeanValue_1 = np.mean(medianOfTrainingData_1)"
   ]
  },
  {
   "cell_type": "code",
   "execution_count": 1614,
   "id": "1741cefb",
   "metadata": {},
   "outputs": [],
   "source": [
    "meanOfTrainingData_2 = []\n",
    "medianOfTrainingData_2 = []\n",
    "for index in range(len(resultSum_2)):\n",
    "    meanOfTrainingData_2.append(np.mean(resultSum_2[index]))\n",
    "    medianOfTrainingData_2.append(np.median(resultSum_2[index]))\n",
    "    trainingMeanValue_2 = np.mean(medianOfTrainingData_2)"
   ]
  },
  {
   "cell_type": "code",
   "execution_count": 1615,
   "id": "503622f9",
   "metadata": {},
   "outputs": [],
   "source": [
    "# meanOfTrainingData_3 = []\n",
    "# medianOfTrainingData_3 = []\n",
    "# for index in range(len(results_3)):\n",
    "#     meanOfTrainingData_3.append(np.mean(results_3[index]))\n",
    "#     medianOfTrainingData_3.append(np.median(results_3[index]))\n",
    "#     trainingMeanValue_3 = np.mean(medianOfTrainingData_3)"
   ]
  },
  {
   "cell_type": "code",
   "execution_count": 1616,
   "id": "a265f102",
   "metadata": {},
   "outputs": [],
   "source": [
    "# meanOfTrainingData_4 = []\n",
    "# medianOfTrainingData_4 = []\n",
    "# for index in range(len(results_4)):\n",
    "#     meanOfTrainingData_4.append(np.mean(results_4[index]))\n",
    "#     medianOfTrainingData_4.append(np.median(results_4[index]))\n",
    "#     trainingMeanValue_4 = np.mean(medianOfTrainingData_4)"
   ]
  },
  {
   "cell_type": "code",
   "execution_count": 1617,
   "id": "71b300cc",
   "metadata": {},
   "outputs": [
    {
     "data": {
      "text/plain": [
       "7.49706901260388"
      ]
     },
     "execution_count": 1617,
     "metadata": {},
     "output_type": "execute_result"
    }
   ],
   "source": [
    "trainingMeanValue_0"
   ]
  },
  {
   "cell_type": "code",
   "execution_count": 1618,
   "id": "29bd0005",
   "metadata": {},
   "outputs": [
    {
     "data": {
      "text/plain": [
       "2.6343196870644228"
      ]
     },
     "execution_count": 1618,
     "metadata": {},
     "output_type": "execute_result"
    }
   ],
   "source": [
    "trainingMeanValue_1"
   ]
  },
  {
   "cell_type": "code",
   "execution_count": 1619,
   "id": "d3d614d1",
   "metadata": {},
   "outputs": [
    {
     "data": {
      "text/plain": [
       "6.980979330476247"
      ]
     },
     "execution_count": 1619,
     "metadata": {},
     "output_type": "execute_result"
    }
   ],
   "source": [
    "trainingMeanValue_2"
   ]
  },
  {
   "cell_type": "code",
   "execution_count": 1620,
   "id": "590c983c",
   "metadata": {},
   "outputs": [],
   "source": [
    "# trainingMeanValue_3"
   ]
  },
  {
   "cell_type": "code",
   "execution_count": 1621,
   "id": "da89ffc7",
   "metadata": {},
   "outputs": [],
   "source": [
    "# trainingMeanValue_4"
   ]
  },
  {
   "cell_type": "code",
   "execution_count": 1622,
   "id": "c209828c",
   "metadata": {},
   "outputs": [],
   "source": [
    "outputTrainingValues = np.array([trainingMeanValue_0,trainingMeanValue_1,trainingMeanValue_2])#,trainingMeanValue_3,trainingMeanValue_4])"
   ]
  },
  {
   "cell_type": "code",
   "execution_count": 1623,
   "id": "67783900",
   "metadata": {},
   "outputs": [],
   "source": [
    "outputTrainingValuesMax = np.array([9,10,17])"
   ]
  },
  {
   "cell_type": "code",
   "execution_count": 1624,
   "id": "8728faf9",
   "metadata": {},
   "outputs": [],
   "source": [
    "# Prediction"
   ]
  },
  {
   "cell_type": "code",
   "execution_count": 1625,
   "id": "5bd0676d",
   "metadata": {},
   "outputs": [],
   "source": [
    "def prediction(data,finalWeight):\n",
    "        predict = []\n",
    "        for item in data:\n",
    "            item = flattenInput(item)\n",
    "            res = np.dot(item.T,finalWeight)\n",
    "            res = np.median(res)\n",
    "            distance = np.abs(outputTrainingValues - res)\n",
    "            predict.append(np.argmin(distance))\n",
    "        return predict"
   ]
  },
  {
   "cell_type": "code",
   "execution_count": 1626,
   "id": "c09f4c0d",
   "metadata": {},
   "outputs": [],
   "source": [
    "def predictionBlocks(data,finalWeight):\n",
    "        predict = []\n",
    "        for item in data:\n",
    "            item = flattenInput(item)\n",
    "            res = np.dot(item.T,finalWeight)\n",
    "            distance = np.abs(outputTrainingValues - res)\n",
    "            predict.append(np.argmin(distance))\n",
    "        return predict"
   ]
  },
  {
   "cell_type": "code",
   "execution_count": null,
   "id": "5540122e",
   "metadata": {},
   "outputs": [],
   "source": []
  },
  {
   "cell_type": "code",
   "execution_count": 1627,
   "id": "18203ede",
   "metadata": {},
   "outputs": [],
   "source": [
    "def predictionMax(data,finalWeight):\n",
    "        predict = []\n",
    "        results, resultSum = printResultsBlock(data,finalWeight)\n",
    "        data_ , indices_ , mode_ = findMaxNode(results)\n",
    "        predictMax = []\n",
    "        combinedPred = []\n",
    "        for index in range(len(results)):\n",
    "            #print(resultSum[index])\n",
    "            #print(indices_[index])\n",
    "            distance = np.abs(outputTrainingValues - resultSum[index])\n",
    "            distanceMax = np.abs(outputTrainingValuesMax - indices_[index]) \n",
    "            \n",
    "            predict.append(np.argmin(distance))\n",
    "            predictMax.append(np.argmin(distanceMax))\n",
    "            \n",
    "            \n",
    "            #print(predictDist)\n",
    "            #if indices_[index] == 21:\n",
    "            #    predictMax.append(0)\n",
    "            #elif indices_[index] == 6:\n",
    "            #    predictMax.append(1)\n",
    "            #elif indices_[index] == 19:\n",
    "            #    predictMax.append(2)\n",
    "            \n",
    "           \n",
    "                #predict.append(0)\n",
    "                #if predictDist == 0 and predictMode == 1:\n",
    "                #    predict.append(0)\n",
    "                #elif predictDist == 1 and predictMode == 1:\n",
    "                #    predict.append(1)\n",
    "                #elif predictDist == 2 and predictMode == 1:\n",
    "                #    predict.append(2)\n",
    "        return predict , predictMax"
   ]
  },
  {
   "cell_type": "code",
   "execution_count": 1628,
   "id": "4b7f8be3",
   "metadata": {},
   "outputs": [],
   "source": [
    "#pred = predictionBlocks(X_test_filter ,weight1)"
   ]
  },
  {
   "cell_type": "code",
   "execution_count": 1629,
   "id": "bb67979a",
   "metadata": {},
   "outputs": [],
   "source": [
    "#pred = prediction(X_test_filter ,weight1)"
   ]
  },
  {
   "cell_type": "code",
   "execution_count": 1630,
   "id": "ff6ab04d",
   "metadata": {},
   "outputs": [],
   "source": [
    "pred , predictMax =  predictionMax(X_test_filter,weight1)"
   ]
  },
  {
   "cell_type": "code",
   "execution_count": 1631,
   "id": "5a2588c4",
   "metadata": {},
   "outputs": [
    {
     "data": {
      "text/plain": [
       "array([0, 1, 2])"
      ]
     },
     "execution_count": 1631,
     "metadata": {},
     "output_type": "execute_result"
    }
   ],
   "source": [
    "np.unique(pred)"
   ]
  },
  {
   "cell_type": "code",
   "execution_count": 1632,
   "id": "f7a7e622",
   "metadata": {},
   "outputs": [
    {
     "data": {
      "text/plain": [
       "array([0, 1, 2])"
      ]
     },
     "execution_count": 1632,
     "metadata": {},
     "output_type": "execute_result"
    }
   ],
   "source": [
    "np.unique(predictMax)"
   ]
  },
  {
   "cell_type": "code",
   "execution_count": 1633,
   "id": "2bfbb8fd",
   "metadata": {},
   "outputs": [
    {
     "data": {
      "text/plain": [
       "array([0, 1, 2], dtype=uint8)"
      ]
     },
     "execution_count": 1633,
     "metadata": {},
     "output_type": "execute_result"
    }
   ],
   "source": [
    "np.unique(Y_test_filter)"
   ]
  },
  {
   "cell_type": "code",
   "execution_count": 1634,
   "id": "e09674f0",
   "metadata": {},
   "outputs": [],
   "source": [
    "def compute_accuracy(y_true, y_pred):\n",
    "    correct_predictions = 0\n",
    "    accuracy = 0\n",
    "    for true, predicted in zip(y_true, y_pred):\n",
    "        if true == predicted:\n",
    "            correct_predictions += 1\n",
    "            accuracy = correct_predictions/len(y_true)\n",
    "    return accuracy"
   ]
  },
  {
   "cell_type": "code",
   "execution_count": 1635,
   "id": "e3465ff0",
   "metadata": {},
   "outputs": [],
   "source": [
    "acc = compute_accuracy(Y_test_filter,pred)"
   ]
  },
  {
   "cell_type": "code",
   "execution_count": 1636,
   "id": "92eadc36",
   "metadata": {},
   "outputs": [
    {
     "data": {
      "text/plain": [
       "0.5983476326660312"
      ]
     },
     "execution_count": 1636,
     "metadata": {},
     "output_type": "execute_result"
    }
   ],
   "source": [
    "acc"
   ]
  },
  {
   "cell_type": "code",
   "execution_count": 1637,
   "id": "b9062810",
   "metadata": {},
   "outputs": [],
   "source": [
    "acc = compute_accuracy(Y_test_filter,predictMax)"
   ]
  },
  {
   "cell_type": "code",
   "execution_count": 1638,
   "id": "1837a06b",
   "metadata": {},
   "outputs": [
    {
     "data": {
      "text/plain": [
       "0.3158563711471242"
      ]
     },
     "execution_count": 1638,
     "metadata": {},
     "output_type": "execute_result"
    }
   ],
   "source": [
    "acc"
   ]
  },
  {
   "cell_type": "markdown",
   "id": "7bb8639d",
   "metadata": {},
   "source": [
    "# Calculating Individual Accuracies"
   ]
  },
  {
   "cell_type": "code",
   "execution_count": 760,
   "id": "b997e66d",
   "metadata": {},
   "outputs": [],
   "source": [
    "def prediction_0(X, w):\n",
    "    result = []\n",
    "    res = printResultsBlock(X,w)\n",
    "    indices = findMaxNode(res)\n",
    "    \n",
    "    for info in indices:\n",
    "        if info == 8:\n",
    "            result.append(0)\n",
    "        else:\n",
    "            result.append(-1)\n",
    "    \n",
    "    return result\n",
    "        "
   ]
  },
  {
   "cell_type": "code",
   "execution_count": 761,
   "id": "34a5a2e5",
   "metadata": {},
   "outputs": [],
   "source": [
    "pred_for_0 , predMax_0 = predictionMax(X_test_filter_0 ,weight1)"
   ]
  },
  {
   "cell_type": "code",
   "execution_count": 762,
   "id": "dc813ecf",
   "metadata": {},
   "outputs": [],
   "source": [
    "acc_0 = compute_accuracy(Y_test_filter_0,predMax_0)"
   ]
  },
  {
   "cell_type": "code",
   "execution_count": 763,
   "id": "73d1cfe5",
   "metadata": {},
   "outputs": [
    {
     "data": {
      "text/plain": [
       "0.3295918367346939"
      ]
     },
     "execution_count": 763,
     "metadata": {},
     "output_type": "execute_result"
    }
   ],
   "source": [
    "acc_0"
   ]
  },
  {
   "cell_type": "code",
   "execution_count": 764,
   "id": "b9f58c24",
   "metadata": {},
   "outputs": [],
   "source": [
    "pred_for_1 , predMax_1= predictionMax(X_test_filter_1 ,weight1)"
   ]
  },
  {
   "cell_type": "code",
   "execution_count": 765,
   "id": "77354fd3",
   "metadata": {},
   "outputs": [],
   "source": [
    "acc_1 = compute_accuracy(Y_test_filter_1,predMax_1)"
   ]
  },
  {
   "cell_type": "code",
   "execution_count": 766,
   "id": "32382ba3",
   "metadata": {},
   "outputs": [
    {
     "data": {
      "text/plain": [
       "0.5277533039647577"
      ]
     },
     "execution_count": 766,
     "metadata": {},
     "output_type": "execute_result"
    }
   ],
   "source": [
    "acc_1"
   ]
  },
  {
   "cell_type": "code",
   "execution_count": 767,
   "id": "06bd8941",
   "metadata": {},
   "outputs": [],
   "source": [
    "pred_for_2 , predMax_2 = predictionMax(X_test_filter_2,weight1)"
   ]
  },
  {
   "cell_type": "code",
   "execution_count": 768,
   "id": "e9d1edba",
   "metadata": {},
   "outputs": [],
   "source": [
    "acc_2 = compute_accuracy(Y_test_filter_2,predMax_2)"
   ]
  },
  {
   "cell_type": "code",
   "execution_count": 769,
   "id": "edabbc61",
   "metadata": {},
   "outputs": [
    {
     "data": {
      "text/plain": [
       "0.6753875968992248"
      ]
     },
     "execution_count": 769,
     "metadata": {},
     "output_type": "execute_result"
    }
   ],
   "source": [
    "acc_2"
   ]
  },
  {
   "cell_type": "code",
   "execution_count": 770,
   "id": "4e2e9705",
   "metadata": {},
   "outputs": [],
   "source": [
    "#pred_for_3 = prediction(X_test_filter_3,weight1)"
   ]
  },
  {
   "cell_type": "code",
   "execution_count": 771,
   "id": "170c2442",
   "metadata": {},
   "outputs": [],
   "source": [
    "#acc_3 = compute_accuracy(Y_test_filter_3,pred_for_3)"
   ]
  },
  {
   "cell_type": "code",
   "execution_count": 772,
   "id": "655a4add",
   "metadata": {},
   "outputs": [],
   "source": [
    "#acc_3"
   ]
  },
  {
   "cell_type": "code",
   "execution_count": 773,
   "id": "c67c985c",
   "metadata": {},
   "outputs": [],
   "source": [
    "#pred_for_4 = prediction(X_test_filter_4,weight1)"
   ]
  },
  {
   "cell_type": "code",
   "execution_count": 774,
   "id": "36f5348b",
   "metadata": {},
   "outputs": [],
   "source": [
    "#acc_4 = compute_accuracy(Y_test_filter_4,pred_for_4)"
   ]
  },
  {
   "cell_type": "code",
   "execution_count": 775,
   "id": "13b5e8cf",
   "metadata": {},
   "outputs": [],
   "source": [
    "#acc_4"
   ]
  },
  {
   "cell_type": "markdown",
   "id": "ae141bb2",
   "metadata": {},
   "source": [
    "# Visualization"
   ]
  },
  {
   "cell_type": "code",
   "execution_count": 776,
   "id": "d55aee91",
   "metadata": {},
   "outputs": [],
   "source": [
    "#medianOfTrainingData_0,medianOfTrainingData_1,medianOfTrainingData_4"
   ]
  },
  {
   "cell_type": "code",
   "execution_count": 777,
   "id": "7024d245",
   "metadata": {},
   "outputs": [
    {
     "data": {
      "image/png": "[encoded data removed]",
      "text/plain": [
       "<Figure size 640x480 with 2 Axes>"
      ]
     },
     "metadata": {},
     "output_type": "display_data"
    }
   ],
   "source": [
    "import matplotlib.pyplot as plt\n",
    "import numpy\n",
    "from sklearn import metrics\n",
    "\n",
    "actual = numpy.random.binomial(1,.9,size = 1000)\n",
    "predicted = numpy.random.binomial(1,.9,size = 1000)\n",
    "\n",
    "confusion_matrix = metrics.confusion_matrix(Y_test_filter,pred)\n",
    "\n",
    "cm_display = metrics.ConfusionMatrixDisplay(confusion_matrix = confusion_matrix, display_labels = [0,1 ,2])\n",
    "\n",
    "cm_display.plot()\n",
    "plt.show()"
   ]
  },
  {
   "cell_type": "code",
   "execution_count": 779,
   "id": "e59ec1d8",
   "metadata": {},
   "outputs": [
    {
     "data": {
      "image/png": "[encoded data removed]",
      "text/plain": [
       "<Figure size 640x480 with 2 Axes>"
      ]
     },
     "metadata": {},
     "output_type": "display_data"
    }
   ],
   "source": [
    "import matplotlib.pyplot as plt\n",
    "import numpy\n",
    "from sklearn import metrics\n",
    "\n",
    "actual = numpy.random.binomial(1,.9,size = 1000)\n",
    "predicted = numpy.random.binomial(1,.9,size = 1000)\n",
    "\n",
    "confusion_matrix = metrics.confusion_matrix(Y_test_filter,predictMax)\n",
    "\n",
    "cm_display = metrics.ConfusionMatrixDisplay(confusion_matrix = confusion_matrix, display_labels = [0,1 ,2])\n",
    "\n",
    "cm_display.plot()\n",
    "plt.show()"
   ]
  },
  {
   "cell_type": "code",
   "execution_count": 548,
   "id": "d79615c1",
   "metadata": {},
   "outputs": [
    {
     "data": {
      "text/plain": [
       "5923"
      ]
     },
     "execution_count": 548,
     "metadata": {},
     "output_type": "execute_result"
    }
   ],
   "source": [
    "len(medianOfTrainingData_0)"
   ]
  },
  {
   "cell_type": "code",
   "execution_count": null,
   "id": "9e1ad661",
   "metadata": {},
   "outputs": [],
   "source": [
    "if _name_ == \"_main_\":\n",
    "    summary = []\n",
    "\n",
    "    for key_size in key_sizes:\n",
    "        attempts_list = []\n",
    "        for i in range(total_runs):\n",
    "            attempts = find_nonce(message, key_size)\n",
    "            attempts_list.append(attempts)\n",
    "        average_attempts = round(sum(attempts_list) / total_runs, 4)\n",
    "        sum_ = 0\n",
    "        for a in attempts_list:\n",
    "            sum_ = sum_ + (a-average_attempts)**2)\n",
    "        variance = sum_ / total_runs\n",
    "        standard_deviation = round(variance ** 0.5, 4)\n",
    "        summary.append((key_size, average_attempts, standard_deviation))"
   ]
  },
  {
   "cell_type": "code",
   "execution_count": null,
   "id": "6b772f23",
   "metadata": {},
   "outputs": [],
   "source": []
  }
 ],
 "metadata": {
  "kernelspec": {
   "display_name": "Python 3.9 (Tensorflow)",
   "language": "python",
   "name": "tensorflow"
  },
  "language_info": {
   "codemirror_mode": {
    "name": "ipython",
    "version": 3
   },
   "file_extension": ".py",
   "mimetype": "text/x-python",
   "name": "python",
   "nbconvert_exporter": "python",
   "pygments_lexer": "ipython3",
   "version": "3.9.13"
  }
 },
 "nbformat": 4,
 "nbformat_minor": 5
}
