{
 "cells": [
  {
   "cell_type": "code",
   "execution_count": 1,
   "id": "fd18bf5d",
   "metadata": {},
   "outputs": [],
   "source": [
    "import pandas as pd\n",
    "from collections import Counter\n",
    "import numpy as np\n",
    "import matplotlib.pyplot as plt\n",
    "import sklearn\n",
    "import random\n",
    "import statistics\n",
    "import tensorflow as tf"
   ]
  },
  {
   "cell_type": "code",
   "execution_count": 2,
   "id": "6bbafc2d",
   "metadata": {},
   "outputs": [],
   "source": [
    "from tensorflow.keras.datasets import mnist"
   ]
  },
  {
   "cell_type": "code",
   "execution_count": 3,
   "id": "ce468c19",
   "metadata": {},
   "outputs": [],
   "source": [
    "(X_train,Y_train) , (X_test,Y_test) = mnist.load_data()"
   ]
  },
  {
   "cell_type": "code",
   "execution_count": 4,
   "id": "59fc1577",
   "metadata": {},
   "outputs": [
    {
     "name": "stdout",
     "output_type": "stream",
     "text": [
      "MNIST Dataset Shape:\n",
      "X_train: (60000, 28, 28)\n",
      "Y_train: (60000,)\n",
      "X_test:  (10000, 28, 28)\n",
      "Y_test:  (10000,)\n"
     ]
    }
   ],
   "source": [
    "print('MNIST Dataset Shape:')\n",
    "print('X_train: ' + str(X_train.shape))\n",
    "print('Y_train: ' + str(Y_train.shape))\n",
    "print('X_test:  '  + str(X_test.shape))\n",
    "print('Y_test:  '  + str(Y_test.shape))"
   ]
  },
  {
   "cell_type": "code",
   "execution_count": 5,
   "id": "7fe717a4",
   "metadata": {},
   "outputs": [
    {
     "name": "stdout",
     "output_type": "stream",
     "text": [
      "Resized Image Shape: (10, 10, 1)\n",
      "Label: 5\n"
     ]
    },
    {
     "name": "stderr",
     "output_type": "stream",
     "text": [
      "2023-10-21 20:33:06.872702: W tensorflow/core/platform/profile_utils/cpu_utils.cc:128] Failed to get CPU frequency: 0 Hz\n"
     ]
    },
    {
     "data": {
      "image/png": "[encoded data removed]",
      "text/plain": [
       "<Figure size 640x480 with 1 Axes>"
      ]
     },
     "metadata": {},
     "output_type": "display_data"
    }
   ],
   "source": [
    "# Create a TensorFlow dataset\n",
    "dataset = tf.data.Dataset.from_tensor_slices((X_train, Y_train))\n",
    "\n",
    "# Define a function to resize the images\n",
    "def resize_image(image, target_size=(10, 10)):\n",
    "    resized_image = tf.image.resize(image, target_size)\n",
    "    return resized_image\n",
    "\n",
    "# Map the resize_image function to the dataset\n",
    "target_size = [10, 10]\n",
    "resized_dataset = dataset.map(lambda x, y: (resize_image(tf.expand_dims(x, axis=-1), target_size), y))\n",
    "\n",
    "# (Optional) Normalize the pixel values\n",
    "# resized_dataset = resized_dataset.map(lambda x, y: (x / 255.0, y))\n",
    "\n",
    "# Iterate through the resized dataset\n",
    "for image, label in resized_dataset.take(1):# Take the first 5 samples as an example\n",
    "    print(\"Resized Image Shape:\", image.shape)\n",
    "    print(\"Label:\", label.numpy())\n",
    "    plt.imshow(image)\n"
   ]
  },
  {
   "cell_type": "code",
   "execution_count": null,
   "id": "a7db542d",
   "metadata": {},
   "outputs": [],
   "source": []
  },
  {
   "cell_type": "code",
   "execution_count": 6,
   "id": "e488007f",
   "metadata": {},
   "outputs": [],
   "source": [
    "# sharpen = np.array([\n",
    "#     [0, -1, 0],\n",
    "#     [-1, 5, -1],\n",
    "#     [0, -1, 0]\n",
    "# ])\n",
    "\n",
    "# blur = np.array([\n",
    "#     [0.0625, 0.125, 0.0625],\n",
    "#     [0.125,  0.25,  0.125],\n",
    "#     [0.0625, 0.125, 0.0625]\n",
    "# ])\n",
    "\n",
    "# outline = np.array([\n",
    "#     [-1, -1, -1],\n",
    "#     [-1,  8, -1],\n",
    "#     [-1, -1, -1]\n",
    "# ])"
   ]
  },
  {
   "cell_type": "code",
   "execution_count": 7,
   "id": "1475fbbb",
   "metadata": {},
   "outputs": [],
   "source": [
    "# def calculateOutputSize(imgSize, kernelSize):\n",
    "#     return imgSize - kernelSize + 1;"
   ]
  },
  {
   "cell_type": "code",
   "execution_count": 8,
   "id": "4a49a29a",
   "metadata": {},
   "outputs": [],
   "source": [
    "# def convolve(img, kernel):\n",
    "#     outputSize = calculateOutputSize(img.shape[0],kernel.shape[0])\n",
    "#     k = kernel.shape[0]\n",
    "#     convolvedImage = np.zeros(shape=(outputSize, outputSize))\n",
    "#     for rowIndex in range(outputSize):\n",
    "#         for colIndex in range(outputSize):\n",
    "#             mat = img[rowIndex:rowIndex+k, colIndex:colIndex+k]\n",
    "#             convolvedImage[rowIndex, colIndex] = np.sum(np.multiply(mat, kernel))\n",
    "            \n",
    "#     return convolvedImage"
   ]
  },
  {
   "cell_type": "code",
   "execution_count": 9,
   "id": "0ab48880",
   "metadata": {},
   "outputs": [],
   "source": [
    "# X_train_convolve = []\n",
    "\n",
    "# for img in X_train:\n",
    "#     img = convolve(img,blur)\n",
    "#     img = convolve(img,blur)\n",
    "#     img = convolve(img,blur)\n",
    "#     img = convolve(img,blur)\n",
    "#     #img = convolve(img,blur)\n",
    "#     X_train_convolve.append(img)"
   ]
  },
  {
   "cell_type": "code",
   "execution_count": 10,
   "id": "2fd179c4",
   "metadata": {},
   "outputs": [],
   "source": [
    "# X_train_convolve = np.array(X_train_convolve)"
   ]
  },
  {
   "cell_type": "code",
   "execution_count": 11,
   "id": "5dfc2564",
   "metadata": {},
   "outputs": [],
   "source": [
    "# X_test_convolve = []\n",
    "# for img in X_test:\n",
    "#     img = convolve(img,blur)\n",
    "#     img = convolve(img,blur)\n",
    "#     img = convolve(img,blur)\n",
    "#     img = convolve(img,blur)\n",
    "#     #img = convolve(img,blur)\n",
    "#     X_test_convolve.append(img)"
   ]
  },
  {
   "cell_type": "code",
   "execution_count": 12,
   "id": "af0d6992",
   "metadata": {},
   "outputs": [],
   "source": [
    "# X_test_convolve = np.array(X_test_convolve)  "
   ]
  },
  {
   "cell_type": "code",
   "execution_count": 13,
   "id": "863c0ca1",
   "metadata": {},
   "outputs": [],
   "source": [
    "# train_filter = np.where((Y_train == 0 ) | (Y_train == 1) | (Y_train == 2) | (Y_train == 3) | (Y_train == 4))\n",
    "# test_filter = np.where((Y_test == 0) | (Y_test == 1) | (Y_test == 2) | (Y_test == 3) | (Y_test == 4))"
   ]
  },
  {
   "cell_type": "code",
   "execution_count": 14,
   "id": "330237c5",
   "metadata": {},
   "outputs": [],
   "source": [
    "class imagePreparation:\n",
    "    def __init__(trainX , trainY , testX , testY):\n",
    "        self.trainX = trainX\n",
    "        self.trainY = trainY\n",
    "        self.testX = testX\n",
    "        self.testY = testy\n",
    "    \n",
    "    def giveData(need):\n",
    "        data = []\n",
    "        trainFilter = np.where()\n",
    "        \n",
    "        "
   ]
  },
  {
   "cell_type": "markdown",
   "id": "486fa34b",
   "metadata": {},
   "source": [
    "# Filter out data (0,1,2)"
   ]
  },
  {
   "cell_type": "code",
   "execution_count": 15,
   "id": "d803729c",
   "metadata": {},
   "outputs": [],
   "source": [
    "train_filter = np.where((Y_train == 0 ) | (Y_train == 1) | (Y_train == 2))\n",
    "test_filter = np.where((Y_test == 0) | (Y_test == 1) | (Y_test == 2))"
   ]
  },
  {
   "cell_type": "code",
   "execution_count": 16,
   "id": "8e35058c",
   "metadata": {},
   "outputs": [],
   "source": [
    "X_train_filter, Y_train_filter = X_train[train_filter], Y_train[train_filter]\n",
    "X_test_filter, Y_test_filter = X_test[test_filter], Y_test[test_filter]"
   ]
  },
  {
   "cell_type": "code",
   "execution_count": 17,
   "id": "9508cc4c",
   "metadata": {},
   "outputs": [],
   "source": [
    "train_filter_0 = np.where(Y_train == 0)\n",
    "test_filter_0 = np.where(Y_test == 0)\n",
    "\n",
    "X_train_filter_0 , Y_train_filter_0 = X_train[train_filter_0],Y_train[train_filter_0]\n",
    "X_test_filter_0 , Y_test_filter_0 = X_test[test_filter_0] , Y_test[test_filter_0]"
   ]
  },
  {
   "cell_type": "code",
   "execution_count": 18,
   "id": "3f743fc7",
   "metadata": {},
   "outputs": [],
   "source": [
    "train_filter_1 = np.where(Y_train == 1)\n",
    "test_filter_1 = np.where(Y_test == 1)\n",
    "\n",
    "X_train_filter_1 , Y_train_filter_1 = X_train[train_filter_1],Y_train[train_filter_1]\n",
    "X_test_filter_1 , Y_test_filter_1 = X_test[test_filter_1] , Y_test[test_filter_1]"
   ]
  },
  {
   "cell_type": "code",
   "execution_count": 19,
   "id": "0f785e2d",
   "metadata": {},
   "outputs": [],
   "source": [
    "# train_filter_3 = np.where(Y_train == 3)\n",
    "# test_filter_3 = np.where(Y_test == 3)\n",
    "\n",
    "# X_train_filter_3 , Y_train_filter_3 = X_train[train_filter_3],Y_train[train_filter_3]\n",
    "# X_test_filter_3 , Y_test_filter_3 = X_test[test_filter_3] , Y_test[test_filter_3]"
   ]
  },
  {
   "cell_type": "code",
   "execution_count": 20,
   "id": "0e8fea8d",
   "metadata": {},
   "outputs": [],
   "source": [
    "# train_filter_4 = np.where(Y_train == 4)\n",
    "# test_filter_4 = np.where(Y_test == 4)\n",
    "\n",
    "# X_train_filter_4 , Y_train_filter_4 = X_train[train_filter_4],Y_train[train_filter_4]\n",
    "# X_test_filter_4 , Y_test_filter_4 = X_test[test_filter_4] , Y_test[test_filter_4]"
   ]
  },
  {
   "cell_type": "code",
   "execution_count": 21,
   "id": "274f3549",
   "metadata": {},
   "outputs": [],
   "source": [
    "train_filter_2 = np.where(Y_train == 2)\n",
    "test_filter_2 = np.where(Y_test == 2)\n",
    "\n",
    "X_train_filter_2 , Y_train_filter_2 = X_train[train_filter_2],Y_train[train_filter_2]\n",
    "X_test_filter_2 , Y_test_filter_2 = X_test[test_filter_2] , Y_test[test_filter_2]"
   ]
  },
  {
   "cell_type": "code",
   "execution_count": 22,
   "id": "79d8c7d7",
   "metadata": {},
   "outputs": [],
   "source": [
    "# Normalize the Images"
   ]
  },
  {
   "cell_type": "code",
   "execution_count": 23,
   "id": "ccd77268",
   "metadata": {},
   "outputs": [],
   "source": [
    "X_train_filter = X_train_filter/255.0\n",
    "X_test_filter = X_test_filter/255.0"
   ]
  },
  {
   "cell_type": "code",
   "execution_count": 24,
   "id": "751c74f0",
   "metadata": {},
   "outputs": [],
   "source": [
    "X_train_filter_0 = X_train_filter_0/255.0\n",
    "X_test_filter_0 = X_test_filter_0/255.0"
   ]
  },
  {
   "cell_type": "code",
   "execution_count": 25,
   "id": "7e8d017c",
   "metadata": {},
   "outputs": [],
   "source": [
    "X_train_filter_2 = X_train_filter_2/255.0\n",
    "X_test_filter_2 = X_test_filter_2/255.0"
   ]
  },
  {
   "cell_type": "code",
   "execution_count": 26,
   "id": "cb94f8f4",
   "metadata": {},
   "outputs": [],
   "source": [
    "X_train_filter_1 = X_train_filter_1/255.0\n",
    "X_test_filter_1 = X_test_filter_1/255.0"
   ]
  },
  {
   "cell_type": "code",
   "execution_count": 27,
   "id": "275080af",
   "metadata": {},
   "outputs": [],
   "source": [
    "# X_train_filter_3 = X_train_filter_3/255.0\n",
    "# X_test_filter_3 = X_test_filter_3/255.0"
   ]
  },
  {
   "cell_type": "code",
   "execution_count": 28,
   "id": "8684de11",
   "metadata": {},
   "outputs": [],
   "source": [
    "# X_train_filter_4 = X_train_filter_4/255.0\n",
    "# X_test_filter_4 = X_test_filter_4/255.0"
   ]
  },
  {
   "cell_type": "code",
   "execution_count": 29,
   "id": "69e12e14",
   "metadata": {},
   "outputs": [
    {
     "data": {
      "text/plain": [
       "(28, 28)"
      ]
     },
     "execution_count": 29,
     "metadata": {},
     "output_type": "execute_result"
    }
   ],
   "source": [
    "X_train_filter_0[1].shape"
   ]
  },
  {
   "cell_type": "code",
   "execution_count": 30,
   "id": "6394894d",
   "metadata": {},
   "outputs": [
    {
     "data": {
      "text/plain": [
       "<matplotlib.image.AxesImage at 0x289ebb1c0>"
      ]
     },
     "execution_count": 30,
     "metadata": {},
     "output_type": "execute_result"
    },
    {
     "data": {
      "image/png": "[encoded data removed]",
      "text/plain": [
       "<Figure size 640x480 with 1 Axes>"
      ]
     },
     "metadata": {},
     "output_type": "display_data"
    }
   ],
   "source": [
    "plt.imshow(X_train_filter_2[0])"
   ]
  },
  {
   "cell_type": "code",
   "execution_count": 31,
   "id": "2f13bf7d",
   "metadata": {},
   "outputs": [],
   "source": [
    "# Flattening the Input"
   ]
  },
  {
   "cell_type": "code",
   "execution_count": 32,
   "id": "4997f0e2",
   "metadata": {},
   "outputs": [],
   "source": [
    "def flattenInput(mat):\n",
    "        mat = mat.flatten()\n",
    "        mat = mat.reshape(mat.shape[0],1)\n",
    "        return mat"
   ]
  },
  {
   "cell_type": "code",
   "execution_count": 33,
   "id": "de730428",
   "metadata": {},
   "outputs": [],
   "source": [
    "# Weight Initialization(Random,Normalized)"
   ]
  },
  {
   "cell_type": "code",
   "execution_count": 34,
   "id": "9479785f",
   "metadata": {},
   "outputs": [],
   "source": [
    "def weightInitialization(rows , cols, type = \"random\"):\n",
    "    if(type == \"random\"):\n",
    "        initialWeights = np.random.random(size = (rows,cols))\n",
    "    else:\n",
    "        initialWeights = np.random.normal(size = (rows,cols))\n",
    "    initialWeights = initialWeights.reshape(rows,cols)\n",
    "    return initialWeights"
   ]
  },
  {
   "cell_type": "code",
   "execution_count": 35,
   "id": "8d69148d",
   "metadata": {},
   "outputs": [],
   "source": [
    "weights = weightInitialization(784,20,\"normalize\")"
   ]
  },
  {
   "cell_type": "code",
   "execution_count": 36,
   "id": "90967c1f",
   "metadata": {},
   "outputs": [
    {
     "data": {
      "text/plain": [
       "(784, 20)"
      ]
     },
     "execution_count": 36,
     "metadata": {},
     "output_type": "execute_result"
    }
   ],
   "source": [
    "weights.shape"
   ]
  },
  {
   "cell_type": "code",
   "execution_count": 37,
   "id": "58cbdb72",
   "metadata": {},
   "outputs": [],
   "source": [
    "# Manipulating the Array"
   ]
  },
  {
   "cell_type": "code",
   "execution_count": 38,
   "id": "19ea89ab",
   "metadata": {},
   "outputs": [],
   "source": [
    "def manipulatingTheArray(mat):\n",
    "    mat = flattenInput(mat)\n",
    "    \n",
    "    for index in range(mat.shape[0]): \n",
    "        if mat[index] == 0:\n",
    "            mat[index] = -0.002\n",
    "    return mat"
   ]
  },
  {
   "cell_type": "code",
   "execution_count": 39,
   "id": "cdaf3fd2",
   "metadata": {},
   "outputs": [],
   "source": [
    "# Thresholding Weight"
   ]
  },
  {
   "cell_type": "code",
   "execution_count": 40,
   "id": "27c0e5ad",
   "metadata": {},
   "outputs": [],
   "source": [
    "def thresholding(out):\n",
    "    for item in range(out.shape[1]):\n",
    "        if out[0][item] >= 0.8:\n",
    "            out[0][item] = 0.8\n",
    "        elif out[0][item] >= 0.5 and out[0][item] < 0.8:\n",
    "            out[0][item] = 0.5\n",
    "        elif out[0][item] > 0.1 and out[0][item] < 0.5:\n",
    "            out[0][item] = 0.3\n",
    "        else:\n",
    "            out[0][item] = 0.1\n",
    "    return out"
   ]
  },
  {
   "cell_type": "code",
   "execution_count": 41,
   "id": "b88b8e6d",
   "metadata": {},
   "outputs": [],
   "source": [
    "def ActThresholding(out):\n",
    "    for item in range(out.shape[1]):\n",
    "        if out[0][item] >= 0.9:\n",
    "            out[0][item] = 0.9\n",
    "        else:\n",
    "            out[0][item] = -0.9\n",
    "    return out"
   ]
  },
  {
   "cell_type": "code",
   "execution_count": 42,
   "id": "1245b278",
   "metadata": {},
   "outputs": [],
   "source": [
    "# Threshold Check"
   ]
  },
  {
   "cell_type": "code",
   "execution_count": 43,
   "id": "22121add",
   "metadata": {},
   "outputs": [],
   "source": [
    "def crossThreshold(out,neuronThreshold):\n",
    "    flag = 0\n",
    "    for item in range(out.shape[1]):\n",
    "        if out[0][item] > neuronThreshold[0][item]:\n",
    "            neuronThreshold[0][item] += 0.2\n",
    "            flag = 1\n",
    "    \n",
    "    if flag == 1:\n",
    "        return True\n",
    "    return False"
   ]
  },
  {
   "cell_type": "markdown",
   "id": "e4933c14",
   "metadata": {},
   "source": [
    "# Cross Threshold Update\n",
    "* function : crossThresholdUpdate\n",
    "* parameter: afteractivation , neuronThreshold Matrix\n",
    "* return : updated activation matrix"
   ]
  },
  {
   "cell_type": "code",
   "execution_count": 44,
   "id": "630a7eb0",
   "metadata": {},
   "outputs": [],
   "source": [
    "def crossThresholdUpdate(afterActivation,neuronThreshold):\n",
    "    for item in range(afterActivation.shape[1]):\n",
    "        if afterActivation[0][item] > 0.8:\n",
    "            neuronThreshold[0][item] += 0.002\n",
    "            afterActivation[0][item] = 0\n",
    "        else:\n",
    "            afterActivation[0][item] = afterActivation[0][item] - 0.001\n",
    "            \n",
    "    return afterActivation"
   ]
  },
  {
   "cell_type": "code",
   "execution_count": 45,
   "id": "1efb59e7",
   "metadata": {},
   "outputs": [],
   "source": [
    "# Weight Threshold (Future Reference)"
   ]
  },
  {
   "cell_type": "code",
   "execution_count": 46,
   "id": "89147142",
   "metadata": {},
   "outputs": [],
   "source": [
    "def weightThreshold(weight):\n",
    "    for indexi in range(weight.shape[0]):\n",
    "        for indexj in range(weight.shape[1]):\n",
    "            if weight[indexi][indexj] >= 1:\n",
    "                weight[indexi][indexj] = 1\n",
    "    return weight"
   ]
  },
  {
   "cell_type": "code",
   "execution_count": 47,
   "id": "bbd81d06",
   "metadata": {},
   "outputs": [],
   "source": [
    "# Calculate Accuracy"
   ]
  },
  {
   "cell_type": "code",
   "execution_count": 48,
   "id": "7345c994",
   "metadata": {},
   "outputs": [],
   "source": [
    "def accuracy(data,finalWeight):\n",
    "    predict_0 = []\n",
    "    predict_7 = []\n",
    "    for item in data:\n",
    "        item = flattenInput(item)\n",
    "        res = np.dot(item.T,finalWeight)\n",
    "        res = np.median(res)\n",
    "        if res >= 55 and res <= 85:\n",
    "            predict_0.append(1)\n",
    "        elif res >=30 and res <55:\n",
    "            predict_7.append(1)\n",
    "    return len(predict_0), len(predict_7)"
   ]
  },
  {
   "cell_type": "code",
   "execution_count": 49,
   "id": "95827b4e",
   "metadata": {},
   "outputs": [],
   "source": [
    "# Print Results"
   ]
  },
  {
   "cell_type": "code",
   "execution_count": 50,
   "id": "2af6654c",
   "metadata": {},
   "outputs": [],
   "source": [
    "def printResults(inputImage,finalWeight):\n",
    "    result = []\n",
    "    for item in inputImage:\n",
    "        item = flattenInput(item)\n",
    "        #item = manipulatingTheArray(item)\n",
    "        result.append(np.dot(item.T,finalWeight))\n",
    "    return result"
   ]
  },
  {
   "cell_type": "code",
   "execution_count": 51,
   "id": "d60c4464",
   "metadata": {},
   "outputs": [],
   "source": [
    "def printResultsBlock(inputImage,weight):\n",
    "    result = []\n",
    "    resultSum = []\n",
    "    for item in inputImage:\n",
    "        item = flattenInput(item)\n",
    "        #item = manipulatingTheArray(item)\n",
    "        \n",
    "        startIndex = 0\n",
    "        blockSize = 7\n",
    "        pval = 0\n",
    "        resultRow = []\n",
    "        sum_ = 0\n",
    "        while(startIndex < 784):\n",
    "            image_ = item[startIndex:startIndex + blockSize]\n",
    "            weight_ = weight[startIndex : startIndex + blockSize]\n",
    "                \n",
    "            resultDotProduct = np.dot(image_.T,weight_)\n",
    "            sum_ = sum_ + resultDotProduct\n",
    "            resultRow.append(resultDotProduct)\n",
    "            startIndex += blockSize\n",
    "            \n",
    "        result.append(resultRow)\n",
    "        resultSum.append(sum_)\n",
    "    return result , resultSum\n",
    "\n"
   ]
  },
  {
   "cell_type": "markdown",
   "id": "18df552c",
   "metadata": {},
   "source": [
    "# Print Result\n",
    "\n",
    "* function   : printResultsBlockIncludingAnotherLayer\n",
    "* parameters : images , weights of (1st Layer , 2nd Layer)\n",
    "* return     : final result and 1st layer result"
   ]
  },
  {
   "cell_type": "code",
   "execution_count": 52,
   "id": "5072fbe0",
   "metadata": {},
   "outputs": [],
   "source": [
    "def printResultsBlockIncludingAnotherLayer(inputImage,weight1,weight2):\n",
    "    result = []\n",
    "    resultSum = []\n",
    "    for item in inputImage:\n",
    "        item = flattenInput(item)\n",
    "        #item = manipulatingTheArray(item)\n",
    "        \n",
    "        startIndex = 0\n",
    "        blockSize = 28\n",
    "        pval = 0\n",
    "        resultRow = []\n",
    "        sum_ = 0\n",
    "        while(startIndex < 784):\n",
    "            image_ = item[startIndex:startIndex + blockSize]\n",
    "            weight_ = weight1[startIndex : startIndex + blockSize]\n",
    "                \n",
    "            resultDotProduct = np.dot(image_.T,weight_)\n",
    "            sum_ = sum_ + resultDotProduct\n",
    "            resultRow.append(resultDotProduct)\n",
    "            startIndex += blockSize\n",
    "            \n",
    "        #result.append(resultRow)\n",
    "        \n",
    "        resultRow = np.array(resultRow)\n",
    "        ans = np.dot(resultRow.T,weight2)\n",
    "        result.append(ans)\n",
    "        \n",
    "    return result , resultRow\n"
   ]
  },
  {
   "cell_type": "markdown",
   "id": "8fc6dad8",
   "metadata": {},
   "source": [
    "# Print Result( Other way of calculating results)\n",
    "\n",
    "* function    : printResults2(Need to think of a better name)\n",
    "* parameters  : images , weights (1st Layer , 2nd Layer)\n",
    "* return      : result matrix"
   ]
  },
  {
   "cell_type": "code",
   "execution_count": 53,
   "id": "0fcb28d1",
   "metadata": {},
   "outputs": [],
   "source": [
    "def printResults2(inputImage,weight1,weight2):\n",
    "    result = []\n",
    "    for item in inputImage:\n",
    "        item = flattenInput(item)\n",
    "        out = np.dot(item.T,weight1)\n",
    "        out = np.dot(out,weight2)\n",
    "        result.append(out)\n",
    "    return result"
   ]
  },
  {
   "cell_type": "markdown",
   "id": "918a2d1f",
   "metadata": {},
   "source": [
    "* flatten the test image set"
   ]
  },
  {
   "cell_type": "code",
   "execution_count": 54,
   "id": "a81e9477",
   "metadata": {},
   "outputs": [],
   "source": [
    "testFlatten = []\n",
    "\n",
    "for image_ in X_test:\n",
    "        image_ = flattenInput(image_)\n",
    "        testFlatten.append(image_)"
   ]
  },
  {
   "cell_type": "markdown",
   "id": "7b237661",
   "metadata": {},
   "source": [
    "# ConverToBinary\n",
    "\n",
    "* function   : convertToBinary\n",
    "* parameters : activation and neuronThreshold matrix\n",
    "* return : updated activation matrix\n",
    "* Description: if the value in the activation is greater than the threshold value for that neuron , then value becomes 0.9 otherwise 0.001"
   ]
  },
  {
   "cell_type": "code",
   "execution_count": 55,
   "id": "2b236780",
   "metadata": {},
   "outputs": [],
   "source": [
    "def convertToBinary(activation,neuronThreshold):\n",
    "    for index in range(activation[0].shape[0]):\n",
    "        \n",
    "        if activation[0][index] > neuronThreshold[0][index]:\n",
    "            activation[0][index] = 0.9\n",
    "        else:\n",
    "            \n",
    "            activation[0][index] = 0.001\n",
    "            \n",
    "    return activation"
   ]
  },
  {
   "cell_type": "code",
   "execution_count": 56,
   "id": "dacc4fad",
   "metadata": {},
   "outputs": [],
   "source": [
    "# def binaryConversion(image):\n",
    "    \n",
    "#     for index in range(image.shape[0]):\n",
    "#         if image[index] != 0:\n",
    "#             image[index] = 1\n",
    "    \n",
    "#     return image"
   ]
  },
  {
   "cell_type": "code",
   "execution_count": 57,
   "id": "215214de",
   "metadata": {},
   "outputs": [
    {
     "data": {
      "text/plain": [
       "(784, 1)"
      ]
     },
     "execution_count": 57,
     "metadata": {},
     "output_type": "execute_result"
    }
   ],
   "source": [
    "testFlatten[0].shape"
   ]
  },
  {
   "cell_type": "code",
   "execution_count": 58,
   "id": "220668b7",
   "metadata": {},
   "outputs": [],
   "source": [
    "x = np.full((4),1)"
   ]
  },
  {
   "cell_type": "code",
   "execution_count": 59,
   "id": "66f95d79",
   "metadata": {},
   "outputs": [
    {
     "data": {
      "text/plain": [
       "array([1, 1, 1, 1])"
      ]
     },
     "execution_count": 59,
     "metadata": {},
     "output_type": "execute_result"
    }
   ],
   "source": [
    "x"
   ]
  },
  {
   "cell_type": "code",
   "execution_count": 60,
   "id": "29b7d06c",
   "metadata": {},
   "outputs": [],
   "source": [
    "# Weight Update"
   ]
  },
  {
   "cell_type": "code",
   "execution_count": 61,
   "id": "a6ae7646",
   "metadata": {},
   "outputs": [],
   "source": [
    "def weightUpdateContainingMemoryElement(epoch,iteration,inputImage,weight):\n",
    "    \"\"\"\n",
    "    Every epoch , We are doing iterations for every image in \n",
    "    the list\n",
    "    \"\"\"\n",
    "    flattenImage = []\n",
    "    for image_ in inputImage:\n",
    "        image_ = flattenInput(image_)\n",
    "        flattenImage.append(image_)\n",
    "    out = np.array(0)\n",
    "    alpha =1e-5 #4 \n",
    "    beta = 1e-7 #5\n",
    "     # alpha , beta = 1e-3 , 1e-2 \n",
    "    # alpha ,beta = 1e-1,1e-2 best values\n",
    "    \n",
    "    thresholdNeurons = np.full((1,20),0.02)\n",
    "    for epoch_ in range(epoch):\n",
    "            random.shuffle(flattenImage)\n",
    "            for input_ in flattenImage:\n",
    "                    out = alpha * np.dot(input_.T , weight) + out # dot product of input and weight and adding to out\n",
    "                    #out = ActThresholding(out)\n",
    "                    inputM = manipulatingTheArray(input_) # manipulating out (similiar to thresholding)\n",
    "                    weight = weight + beta * np.dot(input_,out) # Adding it to weight\n",
    "                    weight = weightThreshold(weight) # weight thresholding\n",
    "#                     if(crossThreshold(out,thresholdNeurons)):\n",
    "#                        out = 0.0\n",
    "#                     else:\n",
    "#                        out = out - beta * 0.01\n",
    "                    thresholdNeurons = crossThreshold(out,thresholdNeurons) #updating the threshold matrix\n",
    "            \n",
    "            print(f\"Epoch number {epoch_} finishes\")\n",
    "    return weight"
   ]
  },
  {
   "cell_type": "code",
   "execution_count": 62,
   "id": "97effd6f",
   "metadata": {},
   "outputs": [],
   "source": [
    "# Normalize function given min , max\n",
    "def normalize(arr, t_min, t_max):\n",
    "    norm_arr = []\n",
    "    diff = t_max - t_min\n",
    "    diff_arr = max(arr) - min(arr)   \n",
    "    for i in arr:\n",
    "        temp = (((i - min(arr))*diff)/diff_arr) + t_min\n",
    "        norm_arr.append(temp)\n",
    "    return norm_arr"
   ]
  },
  {
   "cell_type": "code",
   "execution_count": 63,
   "id": "e6a1f1bf",
   "metadata": {},
   "outputs": [],
   "source": [
    "def weightUpdateThresholding(epoch,inputImage,weight):\n",
    "    \"\"\"\n",
    "    Every epoch , We are doing iterations for every image in \n",
    "    the list\n",
    "    \"\"\"\n",
    "    flattenImage = []\n",
    "    for image_ in inputImage:\n",
    "        image_ = flattenInput(image_)\n",
    "        image_ = binaryConversion(image_)\n",
    "        flattenImage.append(image_)\n",
    "    activation = np.array(0)\n",
    "    alpha =1e-5 #4 \n",
    "    beta = 1e-7 #5\n",
    "    \n",
    "    thresholdNeurons = np.full((1,200),0.02)\n",
    "    for epoch_ in range(epoch):\n",
    "            random.shuffle(flattenImage)\n",
    "            for input_ in flattenImage:\n",
    "                    activation = alpha * np.dot(input_.T , weight) + activation # dot product of input and weight and adding to out\n",
    "                    #out = ActThresholding(out)\n",
    "                    afterActivation = convertToBinary(activation,thresholdNeurons) # Calculate activation\n",
    "                    #weight = weight + beta * np.dot(input_,afterActivation)\n",
    "                    afterActivation = crossThresholdUpdate(afterActivation,thresholdNeurons) #Cross Threshold function\n",
    "                    weight = weight + beta * np.dot(input_,afterActivation) # Add to the weight\n",
    "                    activation = afterActivation # change the activation value to the current one\n",
    "            \n",
    "            print(f\"Epoch number {epoch_} finishes\")\n",
    "    return weight"
   ]
  },
  {
   "cell_type": "code",
   "execution_count": 64,
   "id": "106d77ee",
   "metadata": {},
   "outputs": [],
   "source": [
    "def weightUpdateThresholding(epoch,inputImage,weight):\n",
    "    \"\"\"\n",
    "    Every epoch , We are doing iterations for every image in \n",
    "    the list\n",
    "    \"\"\"\n",
    "    flattenImage = []\n",
    "    for image_ in inputImage:\n",
    "        image_ = flattenInput(image_)\n",
    "        image_ = binaryConversion(image_)\n",
    "        flattenImage.append(image_)\n",
    "    activation = np.array(0)\n",
    "    alpha =1e-5 #4 \n",
    "    beta = 1e-7 #5\n",
    "    \n",
    "    \n",
    "    \n",
    "    thresholdNeurons = np.full((1,201),0.02)\n",
    "    for epoch_ in range(epoch):\n",
    "            random.shuffle(flattenImage)\n",
    "            for input_ in flattenImage:\n",
    "                    activation = alpha * np.dot(input_.T , weight) + activation\n",
    "                    #out = ActThresholding(out)\n",
    "                    afterActivation = convertToBinary(activation,thresholdNeurons)\n",
    "                    #weight = weight + beta * np.dot(input_,afterActivation\n",
    "                    \n",
    "                    afterActivation , thresholdNeuron = crossThresholdUpdate(afterActivation,thresholdNeurons)\n",
    "                    weight = weight + beta * np.dot(input_,afterActivation)\n",
    "                    activation = afterActivation\n",
    "            \n",
    "            print(f\"Epoch number {epoch_} finishes\")\n",
    "    return weight"
   ]
  },
  {
   "cell_type": "code",
   "execution_count": 65,
   "id": "6591498f",
   "metadata": {},
   "outputs": [],
   "source": [
    "def multipleBlocks(epoch, inputImage, weight):\n",
    "    flattenImage = []\n",
    "    check  = []\n",
    "    for image_ in inputImage:\n",
    "        image_ = flattenInput(image_)\n",
    "        flattenImage.append(image_)\n",
    "    #creating block of images\n",
    "    #print(flattenImage[0])\n",
    "    \n",
    "    index = 0\n",
    "    blockSize = 28\n",
    "    \n",
    "    alpha = 0.1\n",
    "    for epoch_ in range(epoch):\n",
    "        random.shuffle(flattenImage)\n",
    "        for input_ in flattenImage:\n",
    "            \n",
    "            startIndex = 0\n",
    "            errorFromThePreviousLevel = 0\n",
    "            prevVal = 0\n",
    "            val = 0\n",
    "            pVal = 0\n",
    "            while(startIndex < 784):\n",
    "                image_ = input_[startIndex:startIndex + blockSize]\n",
    "                weight_ = weight[startIndex : startIndex + blockSize]\n",
    "                \n",
    "                dotProduct =  np.dot(image_.T,weight_)\n",
    "                \n",
    "                if dotProduct  >= 5 and dotProduct < 1000:\n",
    "                    for index in range(weight_.shape[0]):\n",
    "                        check.append(\"increase\")\n",
    "                        if weight_[index] < 200:\n",
    "                            weight_[index] = weight_[index] + alpha * dotProduct\n",
    "                elif dotProduct < 2:\n",
    "                     for index in range(weight_.shape[0]):\n",
    "                        check.append(\"decrease\")\n",
    "                        if weight_[index] > -200:\n",
    "                            weight_[index] = weight_[index] - alpha * dotProduct\n",
    "                startIndex += blockSize\n",
    "        \n",
    "        print(f\"Epoch : {epoch_} Completed\")\n",
    "    \n",
    "    return weight , check\n"
   ]
  },
  {
   "cell_type": "code",
   "execution_count": 66,
   "id": "f8d9e8f3",
   "metadata": {},
   "outputs": [],
   "source": [
    "def multipleBlocksWithMemoryElement(epoch, inputImage, weight1 , weight2):\n",
    "    flattenImage = []\n",
    "    check  = []\n",
    "    for image_ in inputImage:\n",
    "        image_ = flattenInput(image_)\n",
    "        flattenImage.append(image_)\n",
    "\n",
    "    \n",
    "    index = 0\n",
    "    blockSize = 28\n",
    "    blockIndex = 0\n",
    "    output = np.full((28,1),0)\n",
    "    output2Layer = np.full((3,1),0)\n",
    "    alpha = 0.1\n",
    "    for epoch_ in range(epoch):\n",
    "        random.shuffle(flattenImage)\n",
    "        output.fill(0)\n",
    "        output2Layer.fill(0)\n",
    "        for input_ in flattenImage:\n",
    "            \n",
    "            startIndex = 0\n",
    "            blockIndex = 0\n",
    "            while(startIndex < 784):\n",
    "                image_ = input_[startIndex:startIndex + blockSize]\n",
    "                weight_ = weight1[startIndex : startIndex + blockSize]\n",
    "                dotProduct =  np.dot(image_.T,weight_)\n",
    "                output[blockIndex] = output[blockIndex] + dotProduct\n",
    "                \n",
    "                if dotProduct  >= 5 and dotProduct < 200:\n",
    "                    for index in range(weight_.shape[0]):\n",
    "                        if weight_[index] < 50 and weight_[index] > 0:\n",
    "                            weight_[index] = weight_[index] + alpha * output[blockIndex]\n",
    "                elif dotProduct < 5:\n",
    "                     for index in range(weight_.shape[0]):\n",
    "                        if weight_[index] > -50 and weight_[index] < 3:\n",
    "                            weight_[index] = weight_[index] - alpha * output[blockIndex]\n",
    "                startIndex += blockSize\n",
    "                \n",
    "                if(output[blockIndex] > 100):\n",
    "                    output[blockIndex] = 0\n",
    "                else:\n",
    "                    output[blockIndex] = output[blockIndex] -  alpha * 0.9\n",
    "                blockIndex += 1\n",
    "            #print(output)\n",
    "            output2nLayer = np.dot(output.T,weight2)\n",
    "            output2Layer[0] = output2Layer[0] + output2nLayer[0][0]\n",
    "            output2Layer[1] = output2Layer[1] + output2nLayer[0][1]\n",
    "            output2Layer[2] = output2Layer[2] + output2nLayer[0][2]\n",
    "            \n",
    "            for index in range(3):\n",
    "                if(output2Layer[index] > 200):\n",
    "                    output2Layer[index] = 0\n",
    "                else:\n",
    "                    output2Layer[index] = output2Layer[index] -  alpha * 20\n",
    "            #print(output2nLayer.shape)\n",
    "            #print(output2nLayer)\n",
    "            for outputNeuronIndex in range(output2nLayer.shape[1]):\n",
    "                 #print(output2nLayer[0][outputNeuronIndex])\n",
    "                if output2Layer[outputNeuronIndex] > 20:\n",
    "                    for index in range(weight2.shape[0]):\n",
    "                        #print(weight2[index][outputNeuronIndex])\n",
    "                        if weight2[index][outputNeuronIndex] < 100 and output[index] > 30:\n",
    "                            weight2[index][outputNeuronIndex] = weight2[index][outputNeuronIndex] + alpha * output2Layer[outputNeuronIndex] + alpha * output[index]\n",
    "                            #weight2[index][outputNeuronIndex] = weight2[index][outputNeuronIndex] + alpha * output[]\n",
    "                            #print(weight2[index][outputNeuronIndex]\n",
    "                            \n",
    "                else:\n",
    "                    for index in range(weight2.shape[0]):\n",
    "                        #print(weight2[index][outputNeuronIndex])\n",
    "                        if weight2[index][outputNeuronIndex] > -100 and weight2[index][outputNeuronIndex] < 0:\n",
    "                            weight2[index][outputNeuronIndex] = weight2[index][outputNeuronIndex] - alpha * output2Layer[outputNeuronIndex] - alpha * output[index]\n",
    "                \n",
    "                        \n",
    "    #print(f\"Epoch : {epoch_} Completed\")\n",
    "    return weight1 , weight2 , check , output\n"
   ]
  },
  {
   "cell_type": "code",
   "execution_count": 67,
   "id": "a7b9a010",
   "metadata": {},
   "outputs": [],
   "source": [
    "def hidden(epoch, inputImage, weight1 , weight2):\n",
    "    flattenImage = []\n",
    "    check  = []\n",
    "    for image_ in inputImage:\n",
    "        image_ = flattenInput(image_)\n",
    "        flattenImage.append(image_)\n",
    "\n",
    "    \n",
    "    index = 0\n",
    "    blockSize = 28\n",
    "    blockIndex = 0\n",
    "    output = np.full((28,1),0)\n",
    "    output2Layer = np.full((3,1),0)\n",
    "    alpha = 0.1\n",
    "    for epoch_ in range(epoch):\n",
    "        random.shuffle(flattenImage)\n",
    "        output.fill(0)\n",
    "        output2Layer.fill(0)\n",
    "        for input_ in flattenImage:\n",
    "            \n",
    "            startIndex = 0\n",
    "            blockIndex = 0\n",
    "            while(startIndex < 784):\n",
    "                image_ = input_[startIndex:startIndex + blockSize]\n",
    "                weight_ = weight1[startIndex : startIndex + blockSize]\n",
    "                dotProduct =  np.dot(image_.T,weight_)\n",
    "                output[blockIndex] = output[blockIndex] + dotProduct\n",
    "                \n",
    "                if dotProduct  >= 5 and dotProduct < 200:\n",
    "                    for index in range(weight_.shape[0]):\n",
    "                        if weight_[index] < 50 and weight_[index] > 0:\n",
    "                            weight_[index] = weight_[index] + alpha * output[blockIndex]\n",
    "                elif dotProduct < 5:\n",
    "                     for index in range(weight_.shape[0]):\n",
    "                        if weight_[index] > -50 and weight_[index] < 3:\n",
    "                            weight_[index] = weight_[index] - alpha * output[blockIndex]\n",
    "                startIndex += blockSize\n",
    "                \n",
    "                if(output[blockIndex] > 100):\n",
    "                    output[blockIndex] = 0\n",
    "                else:\n",
    "                    output[blockIndex] = output[blockIndex] -  alpha * 0.9\n",
    "                blockIndex += 1\n",
    "            #print(output)\n",
    "            output = np.array(normalize(output,0,1))\n",
    "            \n",
    "            output2nLayer = np.dot(output.T,weight2)\n",
    "            output2Layer[0] = output2Layer[0] + output2nLayer[0][0]\n",
    "            output2Layer[1] = output2Layer[1] + output2nLayer[0][1]\n",
    "            output2Layer[2] = output2Layer[2] + output2nLayer[0][2]\n",
    "            \n",
    "            output2Layer = np.array(normalize(output2Layer,0,1))\n",
    "            \n",
    "            for index in range(3):\n",
    "                if(output2Layer[index] > 200):\n",
    "                    output2Layer[index] = 0\n",
    "                else:\n",
    "                    output2Layer[index] = output2Layer[index] -  alpha * 0.9\n",
    "            #print(output2nLayer.shape)\n",
    "            #print(output2nLayer)\n",
    "            for outputNeuronIndex in range(output2nLayer.shape[1]):\n",
    "                 #print(output2nLayer[0][outputNeuronIndex])\n",
    "                if output2Layer[outputNeuronIndex] > 20:\n",
    "                    for index in range(weight2.shape[0]):\n",
    "                        #print(weight2[index][outputNeuronIndex])\n",
    "                        if weight2[index][outputNeuronIndex] < 10:\n",
    "                            weight2[index][outputNeuronIndex] = weight2[index][outputNeuronIndex] + alpha * output2Layer[outputNeuronIndex] + alpha * output[index]\n",
    "                            #weight2[index][outputNeuronIndex] = weight2[index][outputNeuronIndex] + alpha * output[]\n",
    "                            #print(weight2[index][outputNeuronIndex]\n",
    "                else:\n",
    "                    for index in range(weight2.shape[0]):\n",
    "                        #print(weight2[index][outputNeuronIndex])\n",
    "                        if weight2[index][outputNeuronIndex] > -10 and weight2[index][outputNeuronIndex] < 0 :\n",
    "                            weight2[index][outputNeuronIndex] = weight2[index][outputNeuronIndex] - alpha * output2Layer[outputNeuronIndex] - alpha * output[index]\n",
    "                \n",
    "                        \n",
    "    #print(f\"Epoch : {epoch_} Completed\")\n",
    "    return weight1 , weight2 , check , output\n"
   ]
  },
  {
   "cell_type": "code",
   "execution_count": 68,
   "id": "fcae9aed",
   "metadata": {},
   "outputs": [],
   "source": [
    "# 0.9 is working well\n",
    "# 1.5"
   ]
  },
  {
   "cell_type": "code",
   "execution_count": 69,
   "id": "59cad9bc",
   "metadata": {},
   "outputs": [],
   "source": [
    "weight1 = weightInitialization(784,1)\n",
    "weight2 = weightInitialization(28,3)"
   ]
  },
  {
   "cell_type": "code",
   "execution_count": 70,
   "id": "4752723c",
   "metadata": {
    "scrolled": true
   },
   "outputs": [
    {
     "data": {
      "text/plain": [
       "[<matplotlib.lines.Line2D at 0x2980ac4c0>]"
      ]
     },
     "execution_count": 70,
     "metadata": {},
     "output_type": "execute_result"
    },
    {
     "data": {
      "image/png": "[encoded data removed]",
      "text/plain": [
       "<Figure size 640x480 with 1 Axes>"
      ]
     },
     "metadata": {},
     "output_type": "display_data"
    }
   ],
   "source": [
    "plt.plot(weight1)"
   ]
  },
  {
   "cell_type": "code",
   "execution_count": 71,
   "id": "47c10525",
   "metadata": {},
   "outputs": [
    {
     "name": "stdout",
     "output_type": "stream",
     "text": [
      "[0.83699459]\n"
     ]
    },
    {
     "name": "stderr",
     "output_type": "stream",
     "text": [
      "/var/folders/l8/ff1gcl6975n_zzc22b_6swxr0000gn/T/ipykernel_65985/190708699.py:7: RuntimeWarning: invalid value encountered in divide\n",
      "  temp = (((i - min(arr))*diff)/diff_arr) + t_min\n"
     ]
    }
   ],
   "source": [
    "print(weight1[456])\n",
    "weight1 ,weight2, check , output= hidden(1,X_train_filter,weight1,weight2)"
   ]
  },
  {
   "cell_type": "code",
   "execution_count": 72,
   "id": "4a830151",
   "metadata": {},
   "outputs": [
    {
     "data": {
      "text/plain": [
       "array([[-5.00471916e+01],\n",
       "       [-5.00183685e+01],\n",
       "       [-5.00873817e+01],\n",
       "       [-5.00130092e+01],\n",
       "       [-5.00551188e+01],\n",
       "       [-5.00247648e+01],\n",
       "       [-5.00621641e+01],\n",
       "       [-5.00007136e+01],\n",
       "       [-5.00316558e+01],\n",
       "       [-5.00591855e+01],\n",
       "       [-5.00647526e+01],\n",
       "       [-5.00551339e+01],\n",
       "       [-5.00416632e+01],\n",
       "       [-5.00269287e+01],\n",
       "       [-5.00477645e+01],\n",
       "       [-5.00040689e+01],\n",
       "       [-5.00590287e+01],\n",
       "       [-5.00151433e+01],\n",
       "       [-5.00646769e+01],\n",
       "       [-5.00069999e+01],\n",
       "       [-5.00026287e+01],\n",
       "       [-5.00822636e+01],\n",
       "       [-5.00242849e+01],\n",
       "       [-5.00697165e+01],\n",
       "       [-5.00155634e+01],\n",
       "       [-5.00289116e+01],\n",
       "       [-5.00960148e+01],\n",
       "       [-5.00443310e+01],\n",
       "       [-5.00588750e+01],\n",
       "       [-5.00521387e+01],\n",
       "       [-5.00087275e+01],\n",
       "       [-5.00683127e+01],\n",
       "       [-5.00379831e+01],\n",
       "       [-5.00596792e+01],\n",
       "       [-5.00767336e+01],\n",
       "       [-5.00003845e+01],\n",
       "       [-5.00826235e+01],\n",
       "       [-5.00746136e+01],\n",
       "       [-5.00073951e+01],\n",
       "       [-5.00586604e+01],\n",
       "       [-5.00776813e+01],\n",
       "       [-5.00564714e+01],\n",
       "       [-5.00048322e+01],\n",
       "       [-5.00154469e+01],\n",
       "       [-5.00117342e+01],\n",
       "       [-5.00479407e+01],\n",
       "       [-5.00687519e+01],\n",
       "       [-5.00144689e+01],\n",
       "       [-5.00636827e+01],\n",
       "       [-5.00328817e+01],\n",
       "       [-5.00490397e+01],\n",
       "       [-5.00432370e+01],\n",
       "       [-5.00069244e+01],\n",
       "       [-5.00596509e+01],\n",
       "       [-5.00050890e+01],\n",
       "       [-5.00446547e+01],\n",
       "       [-2.82416125e+01],\n",
       "       [-2.88696634e+01],\n",
       "       [-2.87911634e+01],\n",
       "       [-2.81966236e+01],\n",
       "       [-2.82335417e+01],\n",
       "       [-2.87091979e+01],\n",
       "       [-2.87828528e+01],\n",
       "       [-2.86426923e+01],\n",
       "       [-2.80120887e+01],\n",
       "       [-2.86223985e+01],\n",
       "       [-2.81753567e+01],\n",
       "       [-2.80303905e+01],\n",
       "       [-2.82100685e+01],\n",
       "       [-2.79580461e+01],\n",
       "       [-2.82074211e+01],\n",
       "       [-2.81933374e+01],\n",
       "       [-2.86269480e+01],\n",
       "       [-2.85137940e+01],\n",
       "       [-2.85897433e+01],\n",
       "       [-2.80205112e+01],\n",
       "       [-2.85377090e+01],\n",
       "       [-2.88191577e+01],\n",
       "       [-2.80567019e+01],\n",
       "       [-2.82505100e+01],\n",
       "       [-2.88190876e+01],\n",
       "       [-2.82043616e+01],\n",
       "       [-2.87658303e+01],\n",
       "       [-2.85540751e+01],\n",
       "       [-1.40019962e+00],\n",
       "       [-1.06756455e+00],\n",
       "       [-9.83043292e-01],\n",
       "       [-7.70306151e-01],\n",
       "       [-1.20887770e+00],\n",
       "       [-1.13889362e+00],\n",
       "       [-1.14825539e+00],\n",
       "       [-1.23291975e+00],\n",
       "       [-1.42271988e+00],\n",
       "       [-9.29779128e-01],\n",
       "       [-8.94103314e-01],\n",
       "       [-1.48291324e+00],\n",
       "       [-6.98488251e-01],\n",
       "       [-6.43605169e-01],\n",
       "       [-1.11933112e+00],\n",
       "       [-1.25824587e+00],\n",
       "       [-1.19095792e+00],\n",
       "       [-6.92907884e-01],\n",
       "       [-6.87518846e-01],\n",
       "       [-9.20077621e-01],\n",
       "       [-9.93518497e-01],\n",
       "       [-1.17312855e+00],\n",
       "       [-1.45014800e+00],\n",
       "       [-1.27826950e+00],\n",
       "       [-1.20728062e+00],\n",
       "       [-1.23294908e+00],\n",
       "       [-1.26821448e+00],\n",
       "       [-7.91921177e-01],\n",
       "       [-2.12443516e-01],\n",
       "       [ 4.65226963e-01],\n",
       "       [ 2.11138394e-01],\n",
       "       [ 1.52689433e-01],\n",
       "       [ 3.15593945e-01],\n",
       "       [-3.56316466e-01],\n",
       "       [-5.25087972e-01],\n",
       "       [-1.23365688e-01],\n",
       "       [-3.16667928e-01],\n",
       "       [-6.60733948e-02],\n",
       "       [ 9.73691196e-02],\n",
       "       [-2.58524971e-01],\n",
       "       [-9.85761463e-02],\n",
       "       [ 3.84719309e-01],\n",
       "       [ 2.10314769e-01],\n",
       "       [-2.26441690e-01],\n",
       "       [ 5.29566903e-02],\n",
       "       [-5.09179970e-01],\n",
       "       [-8.30697397e-02],\n",
       "       [ 3.69902483e-01],\n",
       "       [-2.13945646e-01],\n",
       "       [-3.05153372e-01],\n",
       "       [-4.14448598e-01],\n",
       "       [ 3.98874876e-01],\n",
       "       [ 2.65413596e-01],\n",
       "       [-3.18775820e-01],\n",
       "       [ 1.68034183e-01],\n",
       "       [-2.86869447e-01],\n",
       "       [-3.26499754e-01],\n",
       "       [-2.92925477e-01],\n",
       "       [-3.23860899e-01],\n",
       "       [ 6.47110344e-02],\n",
       "       [ 1.81386121e-01],\n",
       "       [-3.82456440e-01],\n",
       "       [ 4.29557612e-01],\n",
       "       [ 5.77662347e-01],\n",
       "       [-2.57604461e-02],\n",
       "       [-7.02017149e-02],\n",
       "       [ 3.01080107e-02],\n",
       "       [ 3.75202135e-01],\n",
       "       [-3.62489019e-01],\n",
       "       [-2.70529713e-01],\n",
       "       [-3.69601756e-01],\n",
       "       [-2.54524419e-01],\n",
       "       [ 2.42357106e-01],\n",
       "       [-1.98639314e-01],\n",
       "       [ 5.82789209e-01],\n",
       "       [ 3.16101803e-01],\n",
       "       [-1.79107633e-01],\n",
       "       [ 2.64208302e-01],\n",
       "       [ 5.05804666e-01],\n",
       "       [-2.00804414e-01],\n",
       "       [ 1.57917788e-01],\n",
       "       [ 5.33622521e-01],\n",
       "       [-2.26312690e-01],\n",
       "       [ 4.11529096e-01],\n",
       "       [ 1.28314752e-01],\n",
       "       [-3.47876036e-01],\n",
       "       [ 3.38820882e-02],\n",
       "       [-4.79749564e-02],\n",
       "       [ 4.37380237e-01],\n",
       "       [-2.23720978e-01],\n",
       "       [-2.22565017e-01],\n",
       "       [-4.85504062e-01],\n",
       "       [ 7.39133241e-02],\n",
       "       [ 2.56494971e-02],\n",
       "       [ 2.08313353e-01],\n",
       "       [-4.10993564e-01],\n",
       "       [-7.35561584e-02],\n",
       "       [-5.12369282e-01],\n",
       "       [ 5.70349214e-02],\n",
       "       [-4.47753445e-01],\n",
       "       [-5.97301439e-02],\n",
       "       [ 1.42473140e-01],\n",
       "       [ 4.31652060e-01],\n",
       "       [-3.60795297e-01],\n",
       "       [ 8.35737246e-02],\n",
       "       [ 3.61573426e-01],\n",
       "       [ 1.44149606e-01],\n",
       "       [-2.94550812e-01],\n",
       "       [-1.09073039e-01],\n",
       "       [ 6.98085457e-02],\n",
       "       [-2.42251552e-01],\n",
       "       [-1.40624453e-01],\n",
       "       [ 5.47098441e+01],\n",
       "       [ 5.45924861e+01],\n",
       "       [ 5.43630416e+01],\n",
       "       [ 5.47380260e+01],\n",
       "       [ 5.41407977e+01],\n",
       "       [ 5.45389867e+01],\n",
       "       [ 5.48173043e+01],\n",
       "       [ 5.45802692e+01],\n",
       "       [ 5.41801373e+01],\n",
       "       [ 5.41729653e+01],\n",
       "       [ 5.48029196e+01],\n",
       "       [ 5.43967623e+01],\n",
       "       [ 5.48715876e+01],\n",
       "       [ 5.42884890e+01],\n",
       "       [ 5.42154152e+01],\n",
       "       [ 5.45778478e+01],\n",
       "       [ 5.43049484e+01],\n",
       "       [ 5.47193327e+01],\n",
       "       [ 5.43708592e+01],\n",
       "       [ 5.46102984e+01],\n",
       "       [ 5.46960108e+01],\n",
       "       [ 5.45247575e+01],\n",
       "       [ 5.46478218e+01],\n",
       "       [ 5.47474863e+01],\n",
       "       [ 5.48187877e+01],\n",
       "       [ 5.40628510e+01],\n",
       "       [ 5.40660104e+01],\n",
       "       [ 5.48116258e+01],\n",
       "       [ 6.63807342e+01],\n",
       "       [ 6.63787479e+01],\n",
       "       [ 5.04332535e+01],\n",
       "       [ 6.63406579e+01],\n",
       "       [ 5.00578566e+01],\n",
       "       [ 5.01662014e+01],\n",
       "       [ 6.67667711e+01],\n",
       "       [ 5.03223470e+01],\n",
       "       [ 5.03217787e+01],\n",
       "       [ 6.66190722e+01],\n",
       "       [ 5.00563216e+01],\n",
       "       [ 6.64218997e+01],\n",
       "       [ 6.66114709e+01],\n",
       "       [ 5.01139366e+01],\n",
       "       [ 6.63475857e+01],\n",
       "       [ 5.02396112e+01],\n",
       "       [ 6.68119892e+01],\n",
       "       [ 6.64805182e+01],\n",
       "       [ 5.03360138e+01],\n",
       "       [ 5.00464052e+01],\n",
       "       [ 5.03201820e+01],\n",
       "       [ 6.65777262e+01],\n",
       "       [ 5.01660637e+01],\n",
       "       [ 6.64254143e+01],\n",
       "       [ 5.01301624e+01],\n",
       "       [ 6.65815474e+01],\n",
       "       [ 5.03715155e+01],\n",
       "       [ 5.00466858e+01],\n",
       "       [-5.19751006e-01],\n",
       "       [-8.65113128e-02],\n",
       "       [ 1.46554548e-01],\n",
       "       [-4.66726624e-01],\n",
       "       [-5.54982249e-01],\n",
       "       [-1.34905248e-01],\n",
       "       [-2.17729769e-01],\n",
       "       [-4.74106155e-01],\n",
       "       [-2.51548946e-01],\n",
       "       [ 2.82131882e-01],\n",
       "       [-1.91701338e-01],\n",
       "       [ 2.63954360e-01],\n",
       "       [-1.54226069e-01],\n",
       "       [-4.69803117e-01],\n",
       "       [ 5.53803106e-04],\n",
       "       [-1.58894090e-02],\n",
       "       [ 2.50668528e-01],\n",
       "       [-2.46947478e-01],\n",
       "       [ 2.16923905e-01],\n",
       "       [-1.25371543e-01],\n",
       "       [-4.92129688e-01],\n",
       "       [ 2.37342947e-01],\n",
       "       [-1.40621004e-01],\n",
       "       [ 1.39588540e-01],\n",
       "       [ 6.41958930e-02],\n",
       "       [-4.16935376e-01],\n",
       "       [-6.62471609e-01],\n",
       "       [ 1.84116529e-01],\n",
       "       [ 3.34890428e-01],\n",
       "       [-1.29129551e-01],\n",
       "       [-3.21265188e-01],\n",
       "       [ 8.18037831e-02],\n",
       "       [ 3.30205898e-01],\n",
       "       [-1.72217165e-02],\n",
       "       [-3.25212903e-01],\n",
       "       [-3.38938361e-01],\n",
       "       [ 2.44733312e-01],\n",
       "       [-3.76539995e-01],\n",
       "       [ 3.63659431e-01],\n",
       "       [-1.05580479e-01],\n",
       "       [-4.21705774e-01],\n",
       "       [ 1.93764846e-02],\n",
       "       [ 4.54909048e-01],\n",
       "       [ 8.79415204e-02],\n",
       "       [-2.54469815e-01],\n",
       "       [-3.37486261e-01],\n",
       "       [-1.32484681e-01],\n",
       "       [-5.23965719e-01],\n",
       "       [ 1.39503380e-01],\n",
       "       [ 5.86373456e-02],\n",
       "       [-2.23456696e-01],\n",
       "       [-4.27091093e-01],\n",
       "       [-4.96461308e-01],\n",
       "       [-7.46316606e-03],\n",
       "       [-1.39631071e-01],\n",
       "       [ 9.12557705e-02],\n",
       "       [ 1.00643011e-01],\n",
       "       [-1.83985696e-01],\n",
       "       [ 1.75819052e-01],\n",
       "       [ 2.20898376e-01],\n",
       "       [ 4.60957243e-01],\n",
       "       [ 1.63084957e-01],\n",
       "       [ 3.09196820e-01],\n",
       "       [ 3.30310003e-01],\n",
       "       [-1.67266603e-01],\n",
       "       [-2.84768903e-01],\n",
       "       [-1.06740092e-01],\n",
       "       [-2.47015483e-01],\n",
       "       [ 1.19922167e-02],\n",
       "       [ 5.13699621e-01],\n",
       "       [ 3.12209501e-01],\n",
       "       [-4.12278937e-01],\n",
       "       [-3.34316698e-01],\n",
       "       [-8.30519526e-03],\n",
       "       [-1.47400279e-01],\n",
       "       [ 3.52878705e-01],\n",
       "       [ 1.38427515e-01],\n",
       "       [-3.23271094e-01],\n",
       "       [ 1.17696986e-01],\n",
       "       [ 7.34292792e-02],\n",
       "       [ 2.82374422e-01],\n",
       "       [-3.85215632e-01],\n",
       "       [ 3.17281941e-01],\n",
       "       [ 3.16980356e-01],\n",
       "       [-4.77206812e-01],\n",
       "       [ 3.19384057e-02],\n",
       "       [-3.81334422e-01],\n",
       "       [ 5.11967831e-02],\n",
       "       [-9.35439293e-02],\n",
       "       [-1.48799375e-01],\n",
       "       [-3.30491824e-01],\n",
       "       [-5.01329035e-01],\n",
       "       [-6.04838106e-02],\n",
       "       [-4.01349947e-01],\n",
       "       [ 2.86088181e-01],\n",
       "       [-5.29161279e-01],\n",
       "       [ 1.01372939e-01],\n",
       "       [-4.37621909e-01],\n",
       "       [-4.26521503e-01],\n",
       "       [ 7.81520345e-02],\n",
       "       [-1.11535883e-01],\n",
       "       [-1.10705405e-01],\n",
       "       [ 9.86088383e-02],\n",
       "       [-2.49065995e-01],\n",
       "       [ 2.82660098e-01],\n",
       "       [ 2.47488899e-01],\n",
       "       [-4.98891896e-01],\n",
       "       [ 2.57584672e-01],\n",
       "       [ 2.20297619e-01],\n",
       "       [-1.78415807e-01],\n",
       "       [-5.45209001e-02],\n",
       "       [-1.62597716e-01],\n",
       "       [-9.23869691e-02],\n",
       "       [-4.00258604e-01],\n",
       "       [-1.39423153e-01],\n",
       "       [ 2.60850067e-01],\n",
       "       [-3.08481388e-01],\n",
       "       [-6.23519813e-01],\n",
       "       [-5.43922893e-01],\n",
       "       [ 1.40736139e-01],\n",
       "       [-4.26296991e-01],\n",
       "       [-5.46215317e-01],\n",
       "       [ 3.55425012e-01],\n",
       "       [-4.96966843e-01],\n",
       "       [-3.28007098e-01],\n",
       "       [ 6.91831251e-02],\n",
       "       [-1.62670003e-01],\n",
       "       [-3.09996269e-01],\n",
       "       [ 1.85994075e-01],\n",
       "       [ 1.52038244e-01],\n",
       "       [-3.94404728e-01],\n",
       "       [-1.35198374e-01],\n",
       "       [ 3.17558710e-01],\n",
       "       [ 2.34413251e-01],\n",
       "       [ 2.61810024e-01],\n",
       "       [-4.38666865e-01],\n",
       "       [ 2.82833430e-01],\n",
       "       [ 3.52487496e-01],\n",
       "       [-3.38546179e-01],\n",
       "       [-4.94979821e-01],\n",
       "       [-2.06224206e-01],\n",
       "       [ 1.50677069e-01],\n",
       "       [ 2.10739239e-01],\n",
       "       [-4.13208351e-01],\n",
       "       [-2.89364118e-01],\n",
       "       [-4.35678394e-01],\n",
       "       [ 1.31758374e-01],\n",
       "       [-3.42454245e-01],\n",
       "       [-4.50674742e-01],\n",
       "       [ 2.18056191e-01],\n",
       "       [ 1.47676802e-01],\n",
       "       [-3.14400063e-01],\n",
       "       [ 3.60923177e-01],\n",
       "       [ 2.19846494e-01],\n",
       "       [-2.16852671e-01],\n",
       "       [-5.16817743e-01],\n",
       "       [ 3.59653482e-01],\n",
       "       [ 2.87068931e-01],\n",
       "       [-1.06267332e-01],\n",
       "       [-1.82195122e-01],\n",
       "       [ 1.65307973e-01],\n",
       "       [ 7.51120895e-02],\n",
       "       [-4.24529024e-02],\n",
       "       [ 4.09376447e-01],\n",
       "       [ 6.74310015e-02],\n",
       "       [ 3.49061553e-01],\n",
       "       [-1.64185614e-01],\n",
       "       [-1.30778527e-01],\n",
       "       [ 3.07361747e-01],\n",
       "       [ 2.41018934e-01],\n",
       "       [ 6.08339247e-02],\n",
       "       [-3.54943680e-01],\n",
       "       [-8.52442097e-02],\n",
       "       [-2.82525171e-01],\n",
       "       [ 4.98397855e-01],\n",
       "       [ 2.11237420e-01],\n",
       "       [ 5.22016499e-02],\n",
       "       [-3.66336073e-01],\n",
       "       [ 3.25652643e-01],\n",
       "       [-4.73443172e-01],\n",
       "       [ 2.02786870e-01],\n",
       "       [-3.59907261e-01],\n",
       "       [-5.46477019e-02],\n",
       "       [-1.76358160e-01],\n",
       "       [ 1.98736613e-01],\n",
       "       [ 2.35304407e-01],\n",
       "       [-3.48413176e-01],\n",
       "       [ 2.93426248e-01],\n",
       "       [ 8.44839811e-02],\n",
       "       [-8.24693425e-02],\n",
       "       [-2.75908249e-02],\n",
       "       [ 5.48869662e-02],\n",
       "       [ 2.82864516e-01],\n",
       "       [ 3.61944120e-01],\n",
       "       [-1.85720743e-01],\n",
       "       [-1.11880237e-01],\n",
       "       [-3.46960894e-01],\n",
       "       [ 1.55342473e-01],\n",
       "       [ 6.94141422e-02],\n",
       "       [-9.92299532e-02],\n",
       "       [ 3.71321650e-01],\n",
       "       [-2.63742118e-01],\n",
       "       [-2.96203782e-01],\n",
       "       [ 5.00524132e-01],\n",
       "       [ 4.58818069e-01],\n",
       "       [ 6.06573953e-01],\n",
       "       [-3.37967239e-01],\n",
       "       [ 5.47906226e-01],\n",
       "       [-2.87760287e-01],\n",
       "       [ 2.10561189e-01],\n",
       "       [-5.35860104e-02],\n",
       "       [-2.67880319e-01],\n",
       "       [-5.41456092e-02],\n",
       "       [ 1.26872022e-01],\n",
       "       [-1.32564145e-01],\n",
       "       [-1.94856908e-01],\n",
       "       [ 5.50539837e-01],\n",
       "       [-3.31898553e-01],\n",
       "       [ 2.25291356e-01],\n",
       "       [-3.06956060e-01],\n",
       "       [ 4.12455200e-01],\n",
       "       [ 1.50958703e-02],\n",
       "       [ 6.08969861e-02],\n",
       "       [ 4.22635299e-01],\n",
       "       [-5.29380894e-02],\n",
       "       [-4.12477356e-01],\n",
       "       [-4.93653008e-01],\n",
       "       [ 2.26078140e-01],\n",
       "       [-1.11252587e-01],\n",
       "       [ 2.87594626e-02],\n",
       "       [ 3.16851715e-01],\n",
       "       [ 5.13090284e-02],\n",
       "       [ 1.59052673e-02],\n",
       "       [ 2.11052165e-01],\n",
       "       [-9.16267345e-03],\n",
       "       [-3.05747192e-01],\n",
       "       [ 9.00549403e-02],\n",
       "       [ 3.08395325e-01],\n",
       "       [ 2.63635433e-01],\n",
       "       [-2.32016548e-01],\n",
       "       [ 3.27747093e-01],\n",
       "       [-4.71257050e-01],\n",
       "       [-1.92527041e-01],\n",
       "       [ 2.01673421e-01],\n",
       "       [-2.25878652e-02],\n",
       "       [ 9.70952779e-02],\n",
       "       [ 3.55130283e-01],\n",
       "       [-2.33222129e-01],\n",
       "       [ 2.58103888e-01],\n",
       "       [-2.11100174e-01],\n",
       "       [-5.66152168e-01],\n",
       "       [ 3.40044133e-01],\n",
       "       [ 6.27695689e+01],\n",
       "       [ 6.24902273e+01],\n",
       "       [ 6.21500706e+01],\n",
       "       [ 6.29129436e+01],\n",
       "       [ 6.22479237e+01],\n",
       "       [ 6.19723405e+01],\n",
       "       [ 6.19637284e+01],\n",
       "       [ 6.26097699e+01],\n",
       "       [ 6.19790001e+01],\n",
       "       [ 6.23009150e+01],\n",
       "       [ 6.22104721e+01],\n",
       "       [ 6.24473061e+01],\n",
       "       [ 6.27681214e+01],\n",
       "       [ 6.21037058e+01],\n",
       "       [ 6.21805960e+01],\n",
       "       [ 6.26431888e+01],\n",
       "       [ 6.22406010e+01],\n",
       "       [ 6.25405666e+01],\n",
       "       [ 6.21963309e+01],\n",
       "       [ 6.27920041e+01],\n",
       "       [ 6.25528196e+01],\n",
       "       [ 6.21690268e+01],\n",
       "       [ 6.26697972e+01],\n",
       "       [ 6.27601636e+01],\n",
       "       [ 6.20381876e+01],\n",
       "       [ 6.27435589e+01],\n",
       "       [ 6.26147859e+01],\n",
       "       [ 6.24978316e+01],\n",
       "       [-2.09548742e-01],\n",
       "       [-1.29373321e-01],\n",
       "       [ 1.44977777e-01],\n",
       "       [-8.71418542e-02],\n",
       "       [ 5.47814745e-01],\n",
       "       [-3.01232536e-01],\n",
       "       [ 1.95222537e-01],\n",
       "       [ 5.24437176e-01],\n",
       "       [-1.59102676e-01],\n",
       "       [-5.81506290e-02],\n",
       "       [ 5.24400692e-01],\n",
       "       [ 9.60754267e-02],\n",
       "       [-2.65782547e-01],\n",
       "       [-2.49716570e-01],\n",
       "       [-2.38479329e-01],\n",
       "       [-3.65475744e-01],\n",
       "       [-1.66620583e-01],\n",
       "       [ 5.27780888e-01],\n",
       "       [ 2.87162196e-01],\n",
       "       [ 5.66595205e-01],\n",
       "       [-1.26474259e-01],\n",
       "       [-3.34328213e-01],\n",
       "       [ 3.02212210e-01],\n",
       "       [-2.94082720e-01],\n",
       "       [-3.72361383e-01],\n",
       "       [ 2.42327302e-01],\n",
       "       [-7.55062357e-02],\n",
       "       [-1.99401812e-01],\n",
       "       [ 5.16288930e+01],\n",
       "       [ 5.17504268e+01],\n",
       "       [ 5.20754621e+01],\n",
       "       [ 5.13763670e+01],\n",
       "       [ 5.20692414e+01],\n",
       "       [-5.49384079e+00],\n",
       "       [ 5.15005946e+01],\n",
       "       [ 5.16598291e+01],\n",
       "       [-5.50225132e+00],\n",
       "       [ 5.12690567e+01],\n",
       "       [-5.45279008e+00],\n",
       "       [ 5.16504253e+01],\n",
       "       [ 5.19298487e+01],\n",
       "       [ 5.18118974e+01],\n",
       "       [ 5.19564521e+01],\n",
       "       [-5.44910748e+00],\n",
       "       [ 5.20589628e+01],\n",
       "       [ 5.19948870e+01],\n",
       "       [ 5.13559829e+01],\n",
       "       [ 5.14555970e+01],\n",
       "       [ 5.13218094e+01],\n",
       "       [-5.48895363e+00],\n",
       "       [-5.45261753e+00],\n",
       "       [-5.47429388e+00],\n",
       "       [ 5.13470149e+01],\n",
       "       [ 5.13334380e+01],\n",
       "       [ 5.15442302e+01],\n",
       "       [ 5.17447894e+01],\n",
       "       [ 5.74075457e+01],\n",
       "       [ 5.70769305e+01],\n",
       "       [ 5.76293930e+01],\n",
       "       [ 5.71482449e+01],\n",
       "       [ 5.72966632e+01],\n",
       "       [ 5.75765777e+01],\n",
       "       [ 5.70799136e+01],\n",
       "       [ 5.73830372e+01],\n",
       "       [ 5.75308574e+01],\n",
       "       [ 5.71507489e+01],\n",
       "       [ 5.69082798e+01],\n",
       "       [ 5.70811050e+01],\n",
       "       [ 5.76054854e+01],\n",
       "       [ 5.75138235e+01],\n",
       "       [ 5.75895515e+01],\n",
       "       [ 5.71660112e+01],\n",
       "       [ 5.75282184e+01],\n",
       "       [ 5.67161306e+01],\n",
       "       [ 5.69166212e+01],\n",
       "       [ 5.68600736e+01],\n",
       "       [ 5.67255216e+01],\n",
       "       [ 5.73215496e+01],\n",
       "       [ 5.76311984e+01],\n",
       "       [ 5.71672165e+01],\n",
       "       [ 5.71638241e+01],\n",
       "       [ 5.74404311e+01],\n",
       "       [ 5.76740582e+01],\n",
       "       [ 5.71486285e+01],\n",
       "       [ 6.50120402e+01],\n",
       "       [ 6.48872383e+01],\n",
       "       [ 6.43250827e+01],\n",
       "       [ 6.44443763e+01],\n",
       "       [ 6.47991712e+01],\n",
       "       [ 6.48252779e+01],\n",
       "       [ 6.49793050e+01],\n",
       "       [ 6.52202448e+01],\n",
       "       [ 6.45437767e+01],\n",
       "       [ 6.51240559e+01],\n",
       "       [ 6.44784223e+01],\n",
       "       [ 6.50311136e+01],\n",
       "       [ 6.52724678e+01],\n",
       "       [ 6.51984738e+01],\n",
       "       [ 6.48226560e+01],\n",
       "       [ 6.44180551e+01],\n",
       "       [ 6.49495908e+01],\n",
       "       [ 6.51332610e+01],\n",
       "       [ 6.47583277e+01],\n",
       "       [ 6.44319915e+01],\n",
       "       [ 6.48069598e+01],\n",
       "       [ 6.51218432e+01],\n",
       "       [ 6.52820505e+01],\n",
       "       [ 6.49585858e+01],\n",
       "       [ 6.48911839e+01],\n",
       "       [ 6.48178874e+01],\n",
       "       [ 6.46547520e+01],\n",
       "       [ 6.46810943e+01],\n",
       "       [-2.81660995e-01],\n",
       "       [ 4.61464699e-02],\n",
       "       [-3.49234368e-01],\n",
       "       [-1.77383093e-01],\n",
       "       [ 7.46874563e-02],\n",
       "       [ 5.94914113e-02],\n",
       "       [ 1.30579739e-01],\n",
       "       [-1.01262222e-02],\n",
       "       [-3.78077393e-01],\n",
       "       [-3.50257521e-01],\n",
       "       [ 2.05014564e-01],\n",
       "       [ 2.32362556e-02],\n",
       "       [-3.30261230e-01],\n",
       "       [ 5.34884883e-02],\n",
       "       [-4.89354925e-01],\n",
       "       [-1.57142192e-01],\n",
       "       [ 1.59711816e-01],\n",
       "       [-5.29467692e-01],\n",
       "       [ 1.08922290e-01],\n",
       "       [-2.28939823e-01],\n",
       "       [-5.90112879e-01],\n",
       "       [-5.50680735e-01],\n",
       "       [ 1.18562281e-02],\n",
       "       [-3.26836200e-01],\n",
       "       [ 4.31453664e-02],\n",
       "       [ 3.03242020e-01],\n",
       "       [ 2.20545161e-03],\n",
       "       [ 5.15058848e-02],\n",
       "       [-7.51077145e-01],\n",
       "       [-7.48480659e-01],\n",
       "       [-7.43322809e-01],\n",
       "       [-1.01546586e+00],\n",
       "       [-1.22445760e+00],\n",
       "       [-1.31036148e+00],\n",
       "       [-1.57608531e+00],\n",
       "       [-1.29378319e+00],\n",
       "       [-1.32323472e+00],\n",
       "       [-1.37293614e+00],\n",
       "       [-1.49812124e+00],\n",
       "       [-8.06628401e-01],\n",
       "       [-1.21453814e+00],\n",
       "       [-1.17714712e+00],\n",
       "       [-1.56676772e+00],\n",
       "       [-1.27804166e+00],\n",
       "       [-9.61498955e-01],\n",
       "       [-8.14065028e-01],\n",
       "       [-1.14692306e+00],\n",
       "       [-1.57751285e+00],\n",
       "       [-1.38787795e+00],\n",
       "       [-1.57181581e+00],\n",
       "       [-1.48645483e+00],\n",
       "       [-1.03622998e+00],\n",
       "       [-7.58237508e-01],\n",
       "       [-1.49095612e+00],\n",
       "       [-7.91650485e-01],\n",
       "       [-1.60732359e+00],\n",
       "       [-5.00658552e+01],\n",
       "       [-5.00670424e+01],\n",
       "       [-5.00846826e+01],\n",
       "       [-5.00033142e+01],\n",
       "       [-5.00709935e+01],\n",
       "       [-5.00191719e+01],\n",
       "       [-5.00043566e+01],\n",
       "       [-5.00030438e+01],\n",
       "       [-5.00319929e+01],\n",
       "       [-5.00064116e+01],\n",
       "       [-5.00630697e+01],\n",
       "       [-5.00519415e+01],\n",
       "       [-5.00683116e+01],\n",
       "       [-5.00686648e+01],\n",
       "       [-5.00129218e+01],\n",
       "       [-5.00571361e+01],\n",
       "       [-5.00514541e+01],\n",
       "       [-5.00586638e+01],\n",
       "       [-5.00234798e+01],\n",
       "       [-5.00574858e+01],\n",
       "       [-5.00535941e+01],\n",
       "       [-5.00483668e+01],\n",
       "       [-5.00449040e+01],\n",
       "       [-5.00457193e+01],\n",
       "       [-5.00187164e+01],\n",
       "       [-5.00129324e+01],\n",
       "       [-5.00024149e+01],\n",
       "       [-5.00395545e+01],\n",
       "       [-5.00310103e+01],\n",
       "       [-5.00118951e+01],\n",
       "       [-5.00675396e+01],\n",
       "       [-5.00337575e+01],\n",
       "       [-5.00262409e+01],\n",
       "       [-5.00900688e+01],\n",
       "       [-5.00298565e+01],\n",
       "       [-5.00563720e+01],\n",
       "       [-5.00303111e+01],\n",
       "       [-5.00496471e+01],\n",
       "       [-5.00360467e+01],\n",
       "       [-5.00736629e+01],\n",
       "       [-5.00718566e+01],\n",
       "       [-5.00667419e+01],\n",
       "       [-5.00426784e+01],\n",
       "       [-5.00792157e+01],\n",
       "       [-5.00648886e+01],\n",
       "       [-5.00419412e+01],\n",
       "       [-5.00610687e+01],\n",
       "       [-5.00698363e+01],\n",
       "       [-5.00498082e+01],\n",
       "       [-5.00308709e+01],\n",
       "       [-5.00170646e+01],\n",
       "       [-5.00529586e+01],\n",
       "       [-5.00280162e+01],\n",
       "       [-5.00298157e+01],\n",
       "       [-5.00263458e+01],\n",
       "       [-5.00062889e+01],\n",
       "       [-5.00546477e+01],\n",
       "       [-5.00964673e+01],\n",
       "       [-5.00800595e+01],\n",
       "       [-5.00465680e+01],\n",
       "       [-5.00816552e+01],\n",
       "       [-5.00870858e+01],\n",
       "       [-5.00181932e+01],\n",
       "       [-5.00875924e+01],\n",
       "       [-5.00174799e+01],\n",
       "       [-5.00035761e+01],\n",
       "       [-5.00945850e+01],\n",
       "       [-5.00659233e+01],\n",
       "       [-5.00397493e+01],\n",
       "       [-5.00702790e+01],\n",
       "       [-5.00457272e+01],\n",
       "       [-5.00436278e+01],\n",
       "       [-5.00108039e+01],\n",
       "       [-5.00431588e+01],\n",
       "       [-5.00865495e+01],\n",
       "       [-5.00435489e+01],\n",
       "       [-5.00035320e+01],\n",
       "       [-5.00008220e+01],\n",
       "       [-5.00928060e+01],\n",
       "       [-5.00022969e+01],\n",
       "       [-5.00170259e+01],\n",
       "       [-5.00080314e+01],\n",
       "       [-5.00124624e+01],\n",
       "       [-5.00007510e+01]])"
      ]
     },
     "execution_count": 72,
     "metadata": {},
     "output_type": "execute_result"
    }
   ],
   "source": [
    "weight1"
   ]
  },
  {
   "cell_type": "code",
   "execution_count": 73,
   "id": "af9f1b23",
   "metadata": {},
   "outputs": [
    {
     "data": {
      "text/plain": [
       "array([[0.83608289, 0.45138528, 0.59662282],\n",
       "       [0.17150435, 0.72546474, 0.52917644],\n",
       "       [0.88298686, 0.10497873, 0.61997305],\n",
       "       [0.95343924, 0.01715892, 0.84664847],\n",
       "       [0.39190512, 0.58820137, 0.46149973],\n",
       "       [0.6388382 , 0.13094837, 0.77115057],\n",
       "       [0.92864768, 0.30973115, 0.70753793],\n",
       "       [0.77070216, 0.80763952, 0.38152582],\n",
       "       [0.66646176, 0.42402271, 0.01854688],\n",
       "       [0.19761593, 0.07444628, 0.9401155 ],\n",
       "       [0.56013516, 0.91654467, 0.0484681 ],\n",
       "       [0.77672191, 0.54204716, 0.55573909],\n",
       "       [0.03904023, 0.71834069, 0.21494894],\n",
       "       [0.96399835, 0.35918602, 0.99435237],\n",
       "       [0.4518206 , 0.96409281, 0.02146994],\n",
       "       [0.00920646, 0.10170491, 0.83912659],\n",
       "       [0.98716657, 0.65561463, 0.03112148],\n",
       "       [0.30746376, 0.98537373, 0.10034281],\n",
       "       [0.47214458, 0.49672502, 0.22704957],\n",
       "       [0.33889755, 0.8506018 , 0.80216988],\n",
       "       [0.16066733, 0.09777752, 0.74349547],\n",
       "       [0.24192071, 0.38020064, 0.0511877 ],\n",
       "       [0.04210128, 0.5313725 , 0.56541607],\n",
       "       [0.56286598, 0.05558777, 0.75759637],\n",
       "       [0.64260001, 0.78320643, 0.6192602 ],\n",
       "       [0.41016529, 0.18899598, 0.02587621],\n",
       "       [0.84930482, 0.25961834, 0.43107253],\n",
       "       [0.59928024, 0.01157229, 0.58181789]])"
      ]
     },
     "execution_count": 73,
     "metadata": {},
     "output_type": "execute_result"
    }
   ],
   "source": [
    "weight2"
   ]
  },
  {
   "cell_type": "code",
   "execution_count": 74,
   "id": "b51f1e7c",
   "metadata": {},
   "outputs": [
    {
     "data": {
      "text/plain": [
       "[<matplotlib.lines.Line2D at 0x29a9f4100>]"
      ]
     },
     "execution_count": 74,
     "metadata": {},
     "output_type": "execute_result"
    },
    {
     "data": {
      "image/png": "[encoded data removed]",
      "text/plain": [
       "<Figure size 640x480 with 1 Axes>"
      ]
     },
     "metadata": {},
     "output_type": "display_data"
    }
   ],
   "source": [
    "plt.plot(weight1)"
   ]
  },
  {
   "cell_type": "code",
   "execution_count": 75,
   "id": "901a7cd2",
   "metadata": {},
   "outputs": [
    {
     "data": {
      "text/plain": [
       "array([0.45881807])"
      ]
     },
     "execution_count": 75,
     "metadata": {},
     "output_type": "execute_result"
    }
   ],
   "source": [
    "weight1[456]"
   ]
  },
  {
   "cell_type": "code",
   "execution_count": null,
   "id": "e329ab05",
   "metadata": {},
   "outputs": [],
   "source": []
  },
  {
   "cell_type": "code",
   "execution_count": 76,
   "id": "312e71e0",
   "metadata": {},
   "outputs": [
    {
     "data": {
      "text/plain": [
       "[<matplotlib.lines.Line2D at 0x2996c32e0>,\n",
       " <matplotlib.lines.Line2D at 0x2996b4160>,\n",
       " <matplotlib.lines.Line2D at 0x2996b4190>]"
      ]
     },
     "execution_count": 76,
     "metadata": {},
     "output_type": "execute_result"
    },
    {
     "data": {
      "image/png": "[encoded data removed]",
      "text/plain": [
       "<Figure size 640x480 with 1 Axes>"
      ]
     },
     "metadata": {},
     "output_type": "display_data"
    }
   ],
   "source": [
    "plt.plot(weight2)"
   ]
  },
  {
   "cell_type": "code",
   "execution_count": 77,
   "id": "c5bf3732",
   "metadata": {},
   "outputs": [],
   "source": [
    "def testingMemoryElementWork(inputImage,weight):\n",
    "    result = []\n",
    "    for item in inputImage:\n",
    "        item = flattenInput(item)\n",
    "        result.append(np.dot(item.T,weight))\n",
    "    return result"
   ]
  },
  {
   "cell_type": "code",
   "execution_count": 78,
   "id": "0194634a",
   "metadata": {},
   "outputs": [],
   "source": [
    "# weight1 = weightInitialization(784,200)\n",
    "# weight1 = weightUpdateThresholding(10,X_train_filter,weight1)"
   ]
  },
  {
   "cell_type": "code",
   "execution_count": 79,
   "id": "6de46829",
   "metadata": {},
   "outputs": [],
   "source": [
    "# weight1 = weightInitialization(784,20)\n",
    "# weight1 = weightUpdateContainingMemoryElement(2,1,X_train_filter,weight1)"
   ]
  },
  {
   "cell_type": "code",
   "execution_count": 80,
   "id": "4ad0859f",
   "metadata": {},
   "outputs": [
    {
     "data": {
      "text/plain": [
       "array([51.92984874])"
      ]
     },
     "execution_count": 80,
     "metadata": {},
     "output_type": "execute_result"
    }
   ],
   "source": [
    "weight1[572]"
   ]
  },
  {
   "cell_type": "code",
   "execution_count": 81,
   "id": "61910d55",
   "metadata": {},
   "outputs": [
    {
     "data": {
      "text/plain": [
       "array([[-5.00471916e+01],\n",
       "       [-5.00183685e+01],\n",
       "       [-5.00873817e+01],\n",
       "       [-5.00130092e+01],\n",
       "       [-5.00551188e+01],\n",
       "       [-5.00247648e+01],\n",
       "       [-5.00621641e+01],\n",
       "       [-5.00007136e+01],\n",
       "       [-5.00316558e+01],\n",
       "       [-5.00591855e+01],\n",
       "       [-5.00647526e+01],\n",
       "       [-5.00551339e+01],\n",
       "       [-5.00416632e+01],\n",
       "       [-5.00269287e+01],\n",
       "       [-5.00477645e+01],\n",
       "       [-5.00040689e+01],\n",
       "       [-5.00590287e+01],\n",
       "       [-5.00151433e+01],\n",
       "       [-5.00646769e+01],\n",
       "       [-5.00069999e+01],\n",
       "       [-5.00026287e+01],\n",
       "       [-5.00822636e+01],\n",
       "       [-5.00242849e+01],\n",
       "       [-5.00697165e+01],\n",
       "       [-5.00155634e+01],\n",
       "       [-5.00289116e+01],\n",
       "       [-5.00960148e+01],\n",
       "       [-5.00443310e+01],\n",
       "       [-5.00588750e+01],\n",
       "       [-5.00521387e+01],\n",
       "       [-5.00087275e+01],\n",
       "       [-5.00683127e+01],\n",
       "       [-5.00379831e+01],\n",
       "       [-5.00596792e+01],\n",
       "       [-5.00767336e+01],\n",
       "       [-5.00003845e+01],\n",
       "       [-5.00826235e+01],\n",
       "       [-5.00746136e+01],\n",
       "       [-5.00073951e+01],\n",
       "       [-5.00586604e+01],\n",
       "       [-5.00776813e+01],\n",
       "       [-5.00564714e+01],\n",
       "       [-5.00048322e+01],\n",
       "       [-5.00154469e+01],\n",
       "       [-5.00117342e+01],\n",
       "       [-5.00479407e+01],\n",
       "       [-5.00687519e+01],\n",
       "       [-5.00144689e+01],\n",
       "       [-5.00636827e+01],\n",
       "       [-5.00328817e+01],\n",
       "       [-5.00490397e+01],\n",
       "       [-5.00432370e+01],\n",
       "       [-5.00069244e+01],\n",
       "       [-5.00596509e+01],\n",
       "       [-5.00050890e+01],\n",
       "       [-5.00446547e+01],\n",
       "       [-2.82416125e+01],\n",
       "       [-2.88696634e+01],\n",
       "       [-2.87911634e+01],\n",
       "       [-2.81966236e+01],\n",
       "       [-2.82335417e+01],\n",
       "       [-2.87091979e+01],\n",
       "       [-2.87828528e+01],\n",
       "       [-2.86426923e+01],\n",
       "       [-2.80120887e+01],\n",
       "       [-2.86223985e+01],\n",
       "       [-2.81753567e+01],\n",
       "       [-2.80303905e+01],\n",
       "       [-2.82100685e+01],\n",
       "       [-2.79580461e+01],\n",
       "       [-2.82074211e+01],\n",
       "       [-2.81933374e+01],\n",
       "       [-2.86269480e+01],\n",
       "       [-2.85137940e+01],\n",
       "       [-2.85897433e+01],\n",
       "       [-2.80205112e+01],\n",
       "       [-2.85377090e+01],\n",
       "       [-2.88191577e+01],\n",
       "       [-2.80567019e+01],\n",
       "       [-2.82505100e+01],\n",
       "       [-2.88190876e+01],\n",
       "       [-2.82043616e+01],\n",
       "       [-2.87658303e+01],\n",
       "       [-2.85540751e+01],\n",
       "       [-1.40019962e+00],\n",
       "       [-1.06756455e+00],\n",
       "       [-9.83043292e-01],\n",
       "       [-7.70306151e-01],\n",
       "       [-1.20887770e+00],\n",
       "       [-1.13889362e+00],\n",
       "       [-1.14825539e+00],\n",
       "       [-1.23291975e+00],\n",
       "       [-1.42271988e+00],\n",
       "       [-9.29779128e-01],\n",
       "       [-8.94103314e-01],\n",
       "       [-1.48291324e+00],\n",
       "       [-6.98488251e-01],\n",
       "       [-6.43605169e-01],\n",
       "       [-1.11933112e+00],\n",
       "       [-1.25824587e+00],\n",
       "       [-1.19095792e+00],\n",
       "       [-6.92907884e-01],\n",
       "       [-6.87518846e-01],\n",
       "       [-9.20077621e-01],\n",
       "       [-9.93518497e-01],\n",
       "       [-1.17312855e+00],\n",
       "       [-1.45014800e+00],\n",
       "       [-1.27826950e+00],\n",
       "       [-1.20728062e+00],\n",
       "       [-1.23294908e+00],\n",
       "       [-1.26821448e+00],\n",
       "       [-7.91921177e-01],\n",
       "       [-2.12443516e-01],\n",
       "       [ 4.65226963e-01],\n",
       "       [ 2.11138394e-01],\n",
       "       [ 1.52689433e-01],\n",
       "       [ 3.15593945e-01],\n",
       "       [-3.56316466e-01],\n",
       "       [-5.25087972e-01],\n",
       "       [-1.23365688e-01],\n",
       "       [-3.16667928e-01],\n",
       "       [-6.60733948e-02],\n",
       "       [ 9.73691196e-02],\n",
       "       [-2.58524971e-01],\n",
       "       [-9.85761463e-02],\n",
       "       [ 3.84719309e-01],\n",
       "       [ 2.10314769e-01],\n",
       "       [-2.26441690e-01],\n",
       "       [ 5.29566903e-02],\n",
       "       [-5.09179970e-01],\n",
       "       [-8.30697397e-02],\n",
       "       [ 3.69902483e-01],\n",
       "       [-2.13945646e-01],\n",
       "       [-3.05153372e-01],\n",
       "       [-4.14448598e-01],\n",
       "       [ 3.98874876e-01],\n",
       "       [ 2.65413596e-01],\n",
       "       [-3.18775820e-01],\n",
       "       [ 1.68034183e-01],\n",
       "       [-2.86869447e-01],\n",
       "       [-3.26499754e-01],\n",
       "       [-2.92925477e-01],\n",
       "       [-3.23860899e-01],\n",
       "       [ 6.47110344e-02],\n",
       "       [ 1.81386121e-01],\n",
       "       [-3.82456440e-01],\n",
       "       [ 4.29557612e-01],\n",
       "       [ 5.77662347e-01],\n",
       "       [-2.57604461e-02],\n",
       "       [-7.02017149e-02],\n",
       "       [ 3.01080107e-02],\n",
       "       [ 3.75202135e-01],\n",
       "       [-3.62489019e-01],\n",
       "       [-2.70529713e-01],\n",
       "       [-3.69601756e-01],\n",
       "       [-2.54524419e-01],\n",
       "       [ 2.42357106e-01],\n",
       "       [-1.98639314e-01],\n",
       "       [ 5.82789209e-01],\n",
       "       [ 3.16101803e-01],\n",
       "       [-1.79107633e-01],\n",
       "       [ 2.64208302e-01],\n",
       "       [ 5.05804666e-01],\n",
       "       [-2.00804414e-01],\n",
       "       [ 1.57917788e-01],\n",
       "       [ 5.33622521e-01],\n",
       "       [-2.26312690e-01],\n",
       "       [ 4.11529096e-01],\n",
       "       [ 1.28314752e-01],\n",
       "       [-3.47876036e-01],\n",
       "       [ 3.38820882e-02],\n",
       "       [-4.79749564e-02],\n",
       "       [ 4.37380237e-01],\n",
       "       [-2.23720978e-01],\n",
       "       [-2.22565017e-01],\n",
       "       [-4.85504062e-01],\n",
       "       [ 7.39133241e-02],\n",
       "       [ 2.56494971e-02],\n",
       "       [ 2.08313353e-01],\n",
       "       [-4.10993564e-01],\n",
       "       [-7.35561584e-02],\n",
       "       [-5.12369282e-01],\n",
       "       [ 5.70349214e-02],\n",
       "       [-4.47753445e-01],\n",
       "       [-5.97301439e-02],\n",
       "       [ 1.42473140e-01],\n",
       "       [ 4.31652060e-01],\n",
       "       [-3.60795297e-01],\n",
       "       [ 8.35737246e-02],\n",
       "       [ 3.61573426e-01],\n",
       "       [ 1.44149606e-01],\n",
       "       [-2.94550812e-01],\n",
       "       [-1.09073039e-01],\n",
       "       [ 6.98085457e-02],\n",
       "       [-2.42251552e-01],\n",
       "       [-1.40624453e-01],\n",
       "       [ 5.47098441e+01],\n",
       "       [ 5.45924861e+01],\n",
       "       [ 5.43630416e+01],\n",
       "       [ 5.47380260e+01],\n",
       "       [ 5.41407977e+01],\n",
       "       [ 5.45389867e+01],\n",
       "       [ 5.48173043e+01],\n",
       "       [ 5.45802692e+01],\n",
       "       [ 5.41801373e+01],\n",
       "       [ 5.41729653e+01],\n",
       "       [ 5.48029196e+01],\n",
       "       [ 5.43967623e+01],\n",
       "       [ 5.48715876e+01],\n",
       "       [ 5.42884890e+01],\n",
       "       [ 5.42154152e+01],\n",
       "       [ 5.45778478e+01],\n",
       "       [ 5.43049484e+01],\n",
       "       [ 5.47193327e+01],\n",
       "       [ 5.43708592e+01],\n",
       "       [ 5.46102984e+01],\n",
       "       [ 5.46960108e+01],\n",
       "       [ 5.45247575e+01],\n",
       "       [ 5.46478218e+01],\n",
       "       [ 5.47474863e+01],\n",
       "       [ 5.48187877e+01],\n",
       "       [ 5.40628510e+01],\n",
       "       [ 5.40660104e+01],\n",
       "       [ 5.48116258e+01],\n",
       "       [ 6.63807342e+01],\n",
       "       [ 6.63787479e+01],\n",
       "       [ 5.04332535e+01],\n",
       "       [ 6.63406579e+01],\n",
       "       [ 5.00578566e+01],\n",
       "       [ 5.01662014e+01],\n",
       "       [ 6.67667711e+01],\n",
       "       [ 5.03223470e+01],\n",
       "       [ 5.03217787e+01],\n",
       "       [ 6.66190722e+01],\n",
       "       [ 5.00563216e+01],\n",
       "       [ 6.64218997e+01],\n",
       "       [ 6.66114709e+01],\n",
       "       [ 5.01139366e+01],\n",
       "       [ 6.63475857e+01],\n",
       "       [ 5.02396112e+01],\n",
       "       [ 6.68119892e+01],\n",
       "       [ 6.64805182e+01],\n",
       "       [ 5.03360138e+01],\n",
       "       [ 5.00464052e+01],\n",
       "       [ 5.03201820e+01],\n",
       "       [ 6.65777262e+01],\n",
       "       [ 5.01660637e+01],\n",
       "       [ 6.64254143e+01],\n",
       "       [ 5.01301624e+01],\n",
       "       [ 6.65815474e+01],\n",
       "       [ 5.03715155e+01],\n",
       "       [ 5.00466858e+01],\n",
       "       [-5.19751006e-01],\n",
       "       [-8.65113128e-02],\n",
       "       [ 1.46554548e-01],\n",
       "       [-4.66726624e-01],\n",
       "       [-5.54982249e-01],\n",
       "       [-1.34905248e-01],\n",
       "       [-2.17729769e-01],\n",
       "       [-4.74106155e-01],\n",
       "       [-2.51548946e-01],\n",
       "       [ 2.82131882e-01],\n",
       "       [-1.91701338e-01],\n",
       "       [ 2.63954360e-01],\n",
       "       [-1.54226069e-01],\n",
       "       [-4.69803117e-01],\n",
       "       [ 5.53803106e-04],\n",
       "       [-1.58894090e-02],\n",
       "       [ 2.50668528e-01],\n",
       "       [-2.46947478e-01],\n",
       "       [ 2.16923905e-01],\n",
       "       [-1.25371543e-01],\n",
       "       [-4.92129688e-01],\n",
       "       [ 2.37342947e-01],\n",
       "       [-1.40621004e-01],\n",
       "       [ 1.39588540e-01],\n",
       "       [ 6.41958930e-02],\n",
       "       [-4.16935376e-01],\n",
       "       [-6.62471609e-01],\n",
       "       [ 1.84116529e-01],\n",
       "       [ 3.34890428e-01],\n",
       "       [-1.29129551e-01],\n",
       "       [-3.21265188e-01],\n",
       "       [ 8.18037831e-02],\n",
       "       [ 3.30205898e-01],\n",
       "       [-1.72217165e-02],\n",
       "       [-3.25212903e-01],\n",
       "       [-3.38938361e-01],\n",
       "       [ 2.44733312e-01],\n",
       "       [-3.76539995e-01],\n",
       "       [ 3.63659431e-01],\n",
       "       [-1.05580479e-01],\n",
       "       [-4.21705774e-01],\n",
       "       [ 1.93764846e-02],\n",
       "       [ 4.54909048e-01],\n",
       "       [ 8.79415204e-02],\n",
       "       [-2.54469815e-01],\n",
       "       [-3.37486261e-01],\n",
       "       [-1.32484681e-01],\n",
       "       [-5.23965719e-01],\n",
       "       [ 1.39503380e-01],\n",
       "       [ 5.86373456e-02],\n",
       "       [-2.23456696e-01],\n",
       "       [-4.27091093e-01],\n",
       "       [-4.96461308e-01],\n",
       "       [-7.46316606e-03],\n",
       "       [-1.39631071e-01],\n",
       "       [ 9.12557705e-02],\n",
       "       [ 1.00643011e-01],\n",
       "       [-1.83985696e-01],\n",
       "       [ 1.75819052e-01],\n",
       "       [ 2.20898376e-01],\n",
       "       [ 4.60957243e-01],\n",
       "       [ 1.63084957e-01],\n",
       "       [ 3.09196820e-01],\n",
       "       [ 3.30310003e-01],\n",
       "       [-1.67266603e-01],\n",
       "       [-2.84768903e-01],\n",
       "       [-1.06740092e-01],\n",
       "       [-2.47015483e-01],\n",
       "       [ 1.19922167e-02],\n",
       "       [ 5.13699621e-01],\n",
       "       [ 3.12209501e-01],\n",
       "       [-4.12278937e-01],\n",
       "       [-3.34316698e-01],\n",
       "       [-8.30519526e-03],\n",
       "       [-1.47400279e-01],\n",
       "       [ 3.52878705e-01],\n",
       "       [ 1.38427515e-01],\n",
       "       [-3.23271094e-01],\n",
       "       [ 1.17696986e-01],\n",
       "       [ 7.34292792e-02],\n",
       "       [ 2.82374422e-01],\n",
       "       [-3.85215632e-01],\n",
       "       [ 3.17281941e-01],\n",
       "       [ 3.16980356e-01],\n",
       "       [-4.77206812e-01],\n",
       "       [ 3.19384057e-02],\n",
       "       [-3.81334422e-01],\n",
       "       [ 5.11967831e-02],\n",
       "       [-9.35439293e-02],\n",
       "       [-1.48799375e-01],\n",
       "       [-3.30491824e-01],\n",
       "       [-5.01329035e-01],\n",
       "       [-6.04838106e-02],\n",
       "       [-4.01349947e-01],\n",
       "       [ 2.86088181e-01],\n",
       "       [-5.29161279e-01],\n",
       "       [ 1.01372939e-01],\n",
       "       [-4.37621909e-01],\n",
       "       [-4.26521503e-01],\n",
       "       [ 7.81520345e-02],\n",
       "       [-1.11535883e-01],\n",
       "       [-1.10705405e-01],\n",
       "       [ 9.86088383e-02],\n",
       "       [-2.49065995e-01],\n",
       "       [ 2.82660098e-01],\n",
       "       [ 2.47488899e-01],\n",
       "       [-4.98891896e-01],\n",
       "       [ 2.57584672e-01],\n",
       "       [ 2.20297619e-01],\n",
       "       [-1.78415807e-01],\n",
       "       [-5.45209001e-02],\n",
       "       [-1.62597716e-01],\n",
       "       [-9.23869691e-02],\n",
       "       [-4.00258604e-01],\n",
       "       [-1.39423153e-01],\n",
       "       [ 2.60850067e-01],\n",
       "       [-3.08481388e-01],\n",
       "       [-6.23519813e-01],\n",
       "       [-5.43922893e-01],\n",
       "       [ 1.40736139e-01],\n",
       "       [-4.26296991e-01],\n",
       "       [-5.46215317e-01],\n",
       "       [ 3.55425012e-01],\n",
       "       [-4.96966843e-01],\n",
       "       [-3.28007098e-01],\n",
       "       [ 6.91831251e-02],\n",
       "       [-1.62670003e-01],\n",
       "       [-3.09996269e-01],\n",
       "       [ 1.85994075e-01],\n",
       "       [ 1.52038244e-01],\n",
       "       [-3.94404728e-01],\n",
       "       [-1.35198374e-01],\n",
       "       [ 3.17558710e-01],\n",
       "       [ 2.34413251e-01],\n",
       "       [ 2.61810024e-01],\n",
       "       [-4.38666865e-01],\n",
       "       [ 2.82833430e-01],\n",
       "       [ 3.52487496e-01],\n",
       "       [-3.38546179e-01],\n",
       "       [-4.94979821e-01],\n",
       "       [-2.06224206e-01],\n",
       "       [ 1.50677069e-01],\n",
       "       [ 2.10739239e-01],\n",
       "       [-4.13208351e-01],\n",
       "       [-2.89364118e-01],\n",
       "       [-4.35678394e-01],\n",
       "       [ 1.31758374e-01],\n",
       "       [-3.42454245e-01],\n",
       "       [-4.50674742e-01],\n",
       "       [ 2.18056191e-01],\n",
       "       [ 1.47676802e-01],\n",
       "       [-3.14400063e-01],\n",
       "       [ 3.60923177e-01],\n",
       "       [ 2.19846494e-01],\n",
       "       [-2.16852671e-01],\n",
       "       [-5.16817743e-01],\n",
       "       [ 3.59653482e-01],\n",
       "       [ 2.87068931e-01],\n",
       "       [-1.06267332e-01],\n",
       "       [-1.82195122e-01],\n",
       "       [ 1.65307973e-01],\n",
       "       [ 7.51120895e-02],\n",
       "       [-4.24529024e-02],\n",
       "       [ 4.09376447e-01],\n",
       "       [ 6.74310015e-02],\n",
       "       [ 3.49061553e-01],\n",
       "       [-1.64185614e-01],\n",
       "       [-1.30778527e-01],\n",
       "       [ 3.07361747e-01],\n",
       "       [ 2.41018934e-01],\n",
       "       [ 6.08339247e-02],\n",
       "       [-3.54943680e-01],\n",
       "       [-8.52442097e-02],\n",
       "       [-2.82525171e-01],\n",
       "       [ 4.98397855e-01],\n",
       "       [ 2.11237420e-01],\n",
       "       [ 5.22016499e-02],\n",
       "       [-3.66336073e-01],\n",
       "       [ 3.25652643e-01],\n",
       "       [-4.73443172e-01],\n",
       "       [ 2.02786870e-01],\n",
       "       [-3.59907261e-01],\n",
       "       [-5.46477019e-02],\n",
       "       [-1.76358160e-01],\n",
       "       [ 1.98736613e-01],\n",
       "       [ 2.35304407e-01],\n",
       "       [-3.48413176e-01],\n",
       "       [ 2.93426248e-01],\n",
       "       [ 8.44839811e-02],\n",
       "       [-8.24693425e-02],\n",
       "       [-2.75908249e-02],\n",
       "       [ 5.48869662e-02],\n",
       "       [ 2.82864516e-01],\n",
       "       [ 3.61944120e-01],\n",
       "       [-1.85720743e-01],\n",
       "       [-1.11880237e-01],\n",
       "       [-3.46960894e-01],\n",
       "       [ 1.55342473e-01],\n",
       "       [ 6.94141422e-02],\n",
       "       [-9.92299532e-02],\n",
       "       [ 3.71321650e-01],\n",
       "       [-2.63742118e-01],\n",
       "       [-2.96203782e-01],\n",
       "       [ 5.00524132e-01],\n",
       "       [ 4.58818069e-01],\n",
       "       [ 6.06573953e-01],\n",
       "       [-3.37967239e-01],\n",
       "       [ 5.47906226e-01],\n",
       "       [-2.87760287e-01],\n",
       "       [ 2.10561189e-01],\n",
       "       [-5.35860104e-02],\n",
       "       [-2.67880319e-01],\n",
       "       [-5.41456092e-02],\n",
       "       [ 1.26872022e-01],\n",
       "       [-1.32564145e-01],\n",
       "       [-1.94856908e-01],\n",
       "       [ 5.50539837e-01],\n",
       "       [-3.31898553e-01],\n",
       "       [ 2.25291356e-01],\n",
       "       [-3.06956060e-01],\n",
       "       [ 4.12455200e-01],\n",
       "       [ 1.50958703e-02],\n",
       "       [ 6.08969861e-02],\n",
       "       [ 4.22635299e-01],\n",
       "       [-5.29380894e-02],\n",
       "       [-4.12477356e-01],\n",
       "       [-4.93653008e-01],\n",
       "       [ 2.26078140e-01],\n",
       "       [-1.11252587e-01],\n",
       "       [ 2.87594626e-02],\n",
       "       [ 3.16851715e-01],\n",
       "       [ 5.13090284e-02],\n",
       "       [ 1.59052673e-02],\n",
       "       [ 2.11052165e-01],\n",
       "       [-9.16267345e-03],\n",
       "       [-3.05747192e-01],\n",
       "       [ 9.00549403e-02],\n",
       "       [ 3.08395325e-01],\n",
       "       [ 2.63635433e-01],\n",
       "       [-2.32016548e-01],\n",
       "       [ 3.27747093e-01],\n",
       "       [-4.71257050e-01],\n",
       "       [-1.92527041e-01],\n",
       "       [ 2.01673421e-01],\n",
       "       [-2.25878652e-02],\n",
       "       [ 9.70952779e-02],\n",
       "       [ 3.55130283e-01],\n",
       "       [-2.33222129e-01],\n",
       "       [ 2.58103888e-01],\n",
       "       [-2.11100174e-01],\n",
       "       [-5.66152168e-01],\n",
       "       [ 3.40044133e-01],\n",
       "       [ 6.27695689e+01],\n",
       "       [ 6.24902273e+01],\n",
       "       [ 6.21500706e+01],\n",
       "       [ 6.29129436e+01],\n",
       "       [ 6.22479237e+01],\n",
       "       [ 6.19723405e+01],\n",
       "       [ 6.19637284e+01],\n",
       "       [ 6.26097699e+01],\n",
       "       [ 6.19790001e+01],\n",
       "       [ 6.23009150e+01],\n",
       "       [ 6.22104721e+01],\n",
       "       [ 6.24473061e+01],\n",
       "       [ 6.27681214e+01],\n",
       "       [ 6.21037058e+01],\n",
       "       [ 6.21805960e+01],\n",
       "       [ 6.26431888e+01],\n",
       "       [ 6.22406010e+01],\n",
       "       [ 6.25405666e+01],\n",
       "       [ 6.21963309e+01],\n",
       "       [ 6.27920041e+01],\n",
       "       [ 6.25528196e+01],\n",
       "       [ 6.21690268e+01],\n",
       "       [ 6.26697972e+01],\n",
       "       [ 6.27601636e+01],\n",
       "       [ 6.20381876e+01],\n",
       "       [ 6.27435589e+01],\n",
       "       [ 6.26147859e+01],\n",
       "       [ 6.24978316e+01],\n",
       "       [-2.09548742e-01],\n",
       "       [-1.29373321e-01],\n",
       "       [ 1.44977777e-01],\n",
       "       [-8.71418542e-02],\n",
       "       [ 5.47814745e-01],\n",
       "       [-3.01232536e-01],\n",
       "       [ 1.95222537e-01],\n",
       "       [ 5.24437176e-01],\n",
       "       [-1.59102676e-01],\n",
       "       [-5.81506290e-02],\n",
       "       [ 5.24400692e-01],\n",
       "       [ 9.60754267e-02],\n",
       "       [-2.65782547e-01],\n",
       "       [-2.49716570e-01],\n",
       "       [-2.38479329e-01],\n",
       "       [-3.65475744e-01],\n",
       "       [-1.66620583e-01],\n",
       "       [ 5.27780888e-01],\n",
       "       [ 2.87162196e-01],\n",
       "       [ 5.66595205e-01],\n",
       "       [-1.26474259e-01],\n",
       "       [-3.34328213e-01],\n",
       "       [ 3.02212210e-01],\n",
       "       [-2.94082720e-01],\n",
       "       [-3.72361383e-01],\n",
       "       [ 2.42327302e-01],\n",
       "       [-7.55062357e-02],\n",
       "       [-1.99401812e-01],\n",
       "       [ 5.16288930e+01],\n",
       "       [ 5.17504268e+01],\n",
       "       [ 5.20754621e+01],\n",
       "       [ 5.13763670e+01],\n",
       "       [ 5.20692414e+01],\n",
       "       [-5.49384079e+00],\n",
       "       [ 5.15005946e+01],\n",
       "       [ 5.16598291e+01],\n",
       "       [-5.50225132e+00],\n",
       "       [ 5.12690567e+01],\n",
       "       [-5.45279008e+00],\n",
       "       [ 5.16504253e+01],\n",
       "       [ 5.19298487e+01],\n",
       "       [ 5.18118974e+01],\n",
       "       [ 5.19564521e+01],\n",
       "       [-5.44910748e+00],\n",
       "       [ 5.20589628e+01],\n",
       "       [ 5.19948870e+01],\n",
       "       [ 5.13559829e+01],\n",
       "       [ 5.14555970e+01],\n",
       "       [ 5.13218094e+01],\n",
       "       [-5.48895363e+00],\n",
       "       [-5.45261753e+00],\n",
       "       [-5.47429388e+00],\n",
       "       [ 5.13470149e+01],\n",
       "       [ 5.13334380e+01],\n",
       "       [ 5.15442302e+01],\n",
       "       [ 5.17447894e+01],\n",
       "       [ 5.74075457e+01],\n",
       "       [ 5.70769305e+01],\n",
       "       [ 5.76293930e+01],\n",
       "       [ 5.71482449e+01],\n",
       "       [ 5.72966632e+01],\n",
       "       [ 5.75765777e+01],\n",
       "       [ 5.70799136e+01],\n",
       "       [ 5.73830372e+01],\n",
       "       [ 5.75308574e+01],\n",
       "       [ 5.71507489e+01],\n",
       "       [ 5.69082798e+01],\n",
       "       [ 5.70811050e+01],\n",
       "       [ 5.76054854e+01],\n",
       "       [ 5.75138235e+01],\n",
       "       [ 5.75895515e+01],\n",
       "       [ 5.71660112e+01],\n",
       "       [ 5.75282184e+01],\n",
       "       [ 5.67161306e+01],\n",
       "       [ 5.69166212e+01],\n",
       "       [ 5.68600736e+01],\n",
       "       [ 5.67255216e+01],\n",
       "       [ 5.73215496e+01],\n",
       "       [ 5.76311984e+01],\n",
       "       [ 5.71672165e+01],\n",
       "       [ 5.71638241e+01],\n",
       "       [ 5.74404311e+01],\n",
       "       [ 5.76740582e+01],\n",
       "       [ 5.71486285e+01],\n",
       "       [ 6.50120402e+01],\n",
       "       [ 6.48872383e+01],\n",
       "       [ 6.43250827e+01],\n",
       "       [ 6.44443763e+01],\n",
       "       [ 6.47991712e+01],\n",
       "       [ 6.48252779e+01],\n",
       "       [ 6.49793050e+01],\n",
       "       [ 6.52202448e+01],\n",
       "       [ 6.45437767e+01],\n",
       "       [ 6.51240559e+01],\n",
       "       [ 6.44784223e+01],\n",
       "       [ 6.50311136e+01],\n",
       "       [ 6.52724678e+01],\n",
       "       [ 6.51984738e+01],\n",
       "       [ 6.48226560e+01],\n",
       "       [ 6.44180551e+01],\n",
       "       [ 6.49495908e+01],\n",
       "       [ 6.51332610e+01],\n",
       "       [ 6.47583277e+01],\n",
       "       [ 6.44319915e+01],\n",
       "       [ 6.48069598e+01],\n",
       "       [ 6.51218432e+01],\n",
       "       [ 6.52820505e+01],\n",
       "       [ 6.49585858e+01],\n",
       "       [ 6.48911839e+01],\n",
       "       [ 6.48178874e+01],\n",
       "       [ 6.46547520e+01],\n",
       "       [ 6.46810943e+01],\n",
       "       [-2.81660995e-01],\n",
       "       [ 4.61464699e-02],\n",
       "       [-3.49234368e-01],\n",
       "       [-1.77383093e-01],\n",
       "       [ 7.46874563e-02],\n",
       "       [ 5.94914113e-02],\n",
       "       [ 1.30579739e-01],\n",
       "       [-1.01262222e-02],\n",
       "       [-3.78077393e-01],\n",
       "       [-3.50257521e-01],\n",
       "       [ 2.05014564e-01],\n",
       "       [ 2.32362556e-02],\n",
       "       [-3.30261230e-01],\n",
       "       [ 5.34884883e-02],\n",
       "       [-4.89354925e-01],\n",
       "       [-1.57142192e-01],\n",
       "       [ 1.59711816e-01],\n",
       "       [-5.29467692e-01],\n",
       "       [ 1.08922290e-01],\n",
       "       [-2.28939823e-01],\n",
       "       [-5.90112879e-01],\n",
       "       [-5.50680735e-01],\n",
       "       [ 1.18562281e-02],\n",
       "       [-3.26836200e-01],\n",
       "       [ 4.31453664e-02],\n",
       "       [ 3.03242020e-01],\n",
       "       [ 2.20545161e-03],\n",
       "       [ 5.15058848e-02],\n",
       "       [-7.51077145e-01],\n",
       "       [-7.48480659e-01],\n",
       "       [-7.43322809e-01],\n",
       "       [-1.01546586e+00],\n",
       "       [-1.22445760e+00],\n",
       "       [-1.31036148e+00],\n",
       "       [-1.57608531e+00],\n",
       "       [-1.29378319e+00],\n",
       "       [-1.32323472e+00],\n",
       "       [-1.37293614e+00],\n",
       "       [-1.49812124e+00],\n",
       "       [-8.06628401e-01],\n",
       "       [-1.21453814e+00],\n",
       "       [-1.17714712e+00],\n",
       "       [-1.56676772e+00],\n",
       "       [-1.27804166e+00],\n",
       "       [-9.61498955e-01],\n",
       "       [-8.14065028e-01],\n",
       "       [-1.14692306e+00],\n",
       "       [-1.57751285e+00],\n",
       "       [-1.38787795e+00],\n",
       "       [-1.57181581e+00],\n",
       "       [-1.48645483e+00],\n",
       "       [-1.03622998e+00],\n",
       "       [-7.58237508e-01],\n",
       "       [-1.49095612e+00],\n",
       "       [-7.91650485e-01],\n",
       "       [-1.60732359e+00],\n",
       "       [-5.00658552e+01],\n",
       "       [-5.00670424e+01],\n",
       "       [-5.00846826e+01],\n",
       "       [-5.00033142e+01],\n",
       "       [-5.00709935e+01],\n",
       "       [-5.00191719e+01],\n",
       "       [-5.00043566e+01],\n",
       "       [-5.00030438e+01],\n",
       "       [-5.00319929e+01],\n",
       "       [-5.00064116e+01],\n",
       "       [-5.00630697e+01],\n",
       "       [-5.00519415e+01],\n",
       "       [-5.00683116e+01],\n",
       "       [-5.00686648e+01],\n",
       "       [-5.00129218e+01],\n",
       "       [-5.00571361e+01],\n",
       "       [-5.00514541e+01],\n",
       "       [-5.00586638e+01],\n",
       "       [-5.00234798e+01],\n",
       "       [-5.00574858e+01],\n",
       "       [-5.00535941e+01],\n",
       "       [-5.00483668e+01],\n",
       "       [-5.00449040e+01],\n",
       "       [-5.00457193e+01],\n",
       "       [-5.00187164e+01],\n",
       "       [-5.00129324e+01],\n",
       "       [-5.00024149e+01],\n",
       "       [-5.00395545e+01],\n",
       "       [-5.00310103e+01],\n",
       "       [-5.00118951e+01],\n",
       "       [-5.00675396e+01],\n",
       "       [-5.00337575e+01],\n",
       "       [-5.00262409e+01],\n",
       "       [-5.00900688e+01],\n",
       "       [-5.00298565e+01],\n",
       "       [-5.00563720e+01],\n",
       "       [-5.00303111e+01],\n",
       "       [-5.00496471e+01],\n",
       "       [-5.00360467e+01],\n",
       "       [-5.00736629e+01],\n",
       "       [-5.00718566e+01],\n",
       "       [-5.00667419e+01],\n",
       "       [-5.00426784e+01],\n",
       "       [-5.00792157e+01],\n",
       "       [-5.00648886e+01],\n",
       "       [-5.00419412e+01],\n",
       "       [-5.00610687e+01],\n",
       "       [-5.00698363e+01],\n",
       "       [-5.00498082e+01],\n",
       "       [-5.00308709e+01],\n",
       "       [-5.00170646e+01],\n",
       "       [-5.00529586e+01],\n",
       "       [-5.00280162e+01],\n",
       "       [-5.00298157e+01],\n",
       "       [-5.00263458e+01],\n",
       "       [-5.00062889e+01],\n",
       "       [-5.00546477e+01],\n",
       "       [-5.00964673e+01],\n",
       "       [-5.00800595e+01],\n",
       "       [-5.00465680e+01],\n",
       "       [-5.00816552e+01],\n",
       "       [-5.00870858e+01],\n",
       "       [-5.00181932e+01],\n",
       "       [-5.00875924e+01],\n",
       "       [-5.00174799e+01],\n",
       "       [-5.00035761e+01],\n",
       "       [-5.00945850e+01],\n",
       "       [-5.00659233e+01],\n",
       "       [-5.00397493e+01],\n",
       "       [-5.00702790e+01],\n",
       "       [-5.00457272e+01],\n",
       "       [-5.00436278e+01],\n",
       "       [-5.00108039e+01],\n",
       "       [-5.00431588e+01],\n",
       "       [-5.00865495e+01],\n",
       "       [-5.00435489e+01],\n",
       "       [-5.00035320e+01],\n",
       "       [-5.00008220e+01],\n",
       "       [-5.00928060e+01],\n",
       "       [-5.00022969e+01],\n",
       "       [-5.00170259e+01],\n",
       "       [-5.00080314e+01],\n",
       "       [-5.00124624e+01],\n",
       "       [-5.00007510e+01]])"
      ]
     },
     "execution_count": 81,
     "metadata": {},
     "output_type": "execute_result"
    }
   ],
   "source": [
    "weight1"
   ]
  },
  {
   "cell_type": "code",
   "execution_count": 82,
   "id": "deca7b1f",
   "metadata": {},
   "outputs": [
    {
     "data": {
      "text/plain": [
       "array([[0.83608289, 0.45138528, 0.59662282],\n",
       "       [0.17150435, 0.72546474, 0.52917644],\n",
       "       [0.88298686, 0.10497873, 0.61997305],\n",
       "       [0.95343924, 0.01715892, 0.84664847],\n",
       "       [0.39190512, 0.58820137, 0.46149973],\n",
       "       [0.6388382 , 0.13094837, 0.77115057],\n",
       "       [0.92864768, 0.30973115, 0.70753793],\n",
       "       [0.77070216, 0.80763952, 0.38152582],\n",
       "       [0.66646176, 0.42402271, 0.01854688],\n",
       "       [0.19761593, 0.07444628, 0.9401155 ],\n",
       "       [0.56013516, 0.91654467, 0.0484681 ],\n",
       "       [0.77672191, 0.54204716, 0.55573909],\n",
       "       [0.03904023, 0.71834069, 0.21494894],\n",
       "       [0.96399835, 0.35918602, 0.99435237],\n",
       "       [0.4518206 , 0.96409281, 0.02146994],\n",
       "       [0.00920646, 0.10170491, 0.83912659],\n",
       "       [0.98716657, 0.65561463, 0.03112148],\n",
       "       [0.30746376, 0.98537373, 0.10034281],\n",
       "       [0.47214458, 0.49672502, 0.22704957],\n",
       "       [0.33889755, 0.8506018 , 0.80216988],\n",
       "       [0.16066733, 0.09777752, 0.74349547],\n",
       "       [0.24192071, 0.38020064, 0.0511877 ],\n",
       "       [0.04210128, 0.5313725 , 0.56541607],\n",
       "       [0.56286598, 0.05558777, 0.75759637],\n",
       "       [0.64260001, 0.78320643, 0.6192602 ],\n",
       "       [0.41016529, 0.18899598, 0.02587621],\n",
       "       [0.84930482, 0.25961834, 0.43107253],\n",
       "       [0.59928024, 0.01157229, 0.58181789]])"
      ]
     },
     "execution_count": 82,
     "metadata": {},
     "output_type": "execute_result"
    }
   ],
   "source": [
    "weight2"
   ]
  },
  {
   "cell_type": "code",
   "execution_count": 83,
   "id": "3b7cf2ca",
   "metadata": {},
   "outputs": [],
   "source": [
    "# Finding the Values for the Digits\""
   ]
  },
  {
   "cell_type": "code",
   "execution_count": 84,
   "id": "99e2b742",
   "metadata": {},
   "outputs": [],
   "source": [
    "# results_0=printResults(X_train_filter_0,weight1)\n",
    "\n",
    "# results_1=printResults(X_train_filter_1,weight1)\n",
    "# results_2=printResults(X_train_filter_2,weight1)\n",
    "# results_3=printResults(X_train_filter_3,weight1)\n",
    "#results_4=printResults(X_train_filter_4,weight1)"
   ]
  },
  {
   "cell_type": "code",
   "execution_count": 85,
   "id": "8cccbd46",
   "metadata": {
    "scrolled": false
   },
   "outputs": [],
   "source": [
    "#Saving the result of 0,1,2"
   ]
  },
  {
   "cell_type": "code",
   "execution_count": 86,
   "id": "7c0f2c7b",
   "metadata": {},
   "outputs": [],
   "source": [
    "results_0 , resultRow_0 = printResultsBlockIncludingAnotherLayer(X_train_filter_0,weight1,weight2)\n",
    "\n",
    "results_1 , resultRow_1 = printResultsBlockIncludingAnotherLayer(X_train_filter_1,weight1,weight2)\n",
    "results_2  , resultRow_2 = printResultsBlockIncludingAnotherLayer(X_train_filter_2,weight1,weight2)"
   ]
  },
  {
   "cell_type": "code",
   "execution_count": 87,
   "id": "d0064b78",
   "metadata": {},
   "outputs": [
    {
     "data": {
      "text/plain": [
       "5923"
      ]
     },
     "execution_count": 87,
     "metadata": {},
     "output_type": "execute_result"
    }
   ],
   "source": [
    "len(results_0)"
   ]
  },
  {
   "cell_type": "code",
   "execution_count": 88,
   "id": "64a679ef",
   "metadata": {},
   "outputs": [],
   "source": [
    "index1_results_0 = []\n",
    "for index in range(len(results_0)):\n",
    "    #print(results_0[index][0][0][1])\n",
    "    index1_results_0.append(results_0[index][0][0][1])"
   ]
  },
  {
   "cell_type": "code",
   "execution_count": 89,
   "id": "12d03a72",
   "metadata": {},
   "outputs": [],
   "source": [
    "def resultMax(result):\n",
    "    maxValue = []\n",
    "    for index in range(len(result)):\n",
    "        maxValue.append(max(result[index][0][0]))\n",
    "    return maxValue"
   ]
  },
  {
   "cell_type": "code",
   "execution_count": 90,
   "id": "b6d02574",
   "metadata": {},
   "outputs": [],
   "source": [
    "maxValue0 = resultMax(results_0)\n",
    "maxValue1 = resultMax(results_1)\n",
    "maxValue2 = resultMax(results_2)"
   ]
  },
  {
   "cell_type": "code",
   "execution_count": 91,
   "id": "1e4e66b5",
   "metadata": {},
   "outputs": [
    {
     "data": {
      "text/plain": [
       "[1193.0503927124064,\n",
       " 1264.049702646042,\n",
       " 1276.9404530018744,\n",
       " 1164.5625754007576,\n",
       " 1690.9217036461503,\n",
       " 1597.871802592052,\n",
       " 1494.2293929288867,\n",
       " 1126.4668897330073,\n",
       " 1470.1725073048137,\n",
       " 1261.8382699652882,\n",
       " 1344.081074039817,\n",
       " 1312.528341244548,\n",
       " 1408.900215492209,\n",
       " 1366.4646731692217,\n",
       " 1444.2275470818774,\n",
       " 900.6735548740808,\n",
       " 1456.448022975506,\n",
       " 1880.8146827297528,\n",
       " 1370.843745238802,\n",
       " 1334.0196497337972,\n",
       " 1074.967917340576,\n",
       " 1520.630594588079,\n",
       " 1654.713043291034,\n",
       " 573.0939327379936,\n",
       " 942.1631819230247,\n",
       " 1531.05446221564,\n",
       " 593.765131365282,\n",
       " 961.9012945404163,\n",
       " 932.7631130995221,\n",
       " 1582.9162642215645,\n",
       " 310.9303105980551,\n",
       " 1566.3312492060522,\n",
       " 1625.5024467517674,\n",
       " 1240.256260855222,\n",
       " 1505.1068265784872,\n",
       " 1316.560571746482,\n",
       " 1020.4374700894142,\n",
       " 1346.4485347168795,\n",
       " 1584.7003155463663,\n",
       " 1693.4959030599837,\n",
       " 1624.221306489655,\n",
       " 1416.6206718989192,\n",
       " 1770.8877548281491,\n",
       " 1226.3480731755676,\n",
       " 1241.2752849728868,\n",
       " 1620.8271277308484,\n",
       " 1608.4746556903913,\n",
       " 1573.957738139584,\n",
       " 1303.09642722504,\n",
       " 919.155073015606,\n",
       " 1453.0153435699604,\n",
       " 1025.7903244020313,\n",
       " 1604.5912975935044,\n",
       " 729.1967676759905,\n",
       " 1322.4285631124178,\n",
       " 1573.6216296183784,\n",
       " 1097.354725011281,\n",
       " 1503.6874178807063,\n",
       " 1209.6196654283565,\n",
       " 1205.3197406459285,\n",
       " 1138.351866829884,\n",
       " 1326.6510034920755,\n",
       " 1268.573104997095,\n",
       " 962.7825628937404,\n",
       " 797.6874218303121,\n",
       " 791.64823882996,\n",
       " 1199.361568048696,\n",
       " 1428.5286723771653,\n",
       " 1459.9723268150326,\n",
       " 1104.9299786063843,\n",
       " 1475.3355398533538,\n",
       " 1463.1913711215973,\n",
       " 1465.9703059923818,\n",
       " 1641.0610180105637,\n",
       " 1475.2537215691739,\n",
       " 1123.1591315039013,\n",
       " 1565.545344420324,\n",
       " 1410.8464883811832,\n",
       " 1200.4178488788118,\n",
       " 1029.167731057124,\n",
       " 1253.6317608138268,\n",
       " 1386.8264749049301,\n",
       " 1557.6569441859517,\n",
       " 1336.3278170212848,\n",
       " 1016.2520059529028,\n",
       " 1674.3012897528745,\n",
       " 1131.4509793335128,\n",
       " 1060.2388433560106,\n",
       " 1324.4745936754362,\n",
       " 826.8048959462069,\n",
       " 1270.1546697352994,\n",
       " 1011.936664715336,\n",
       " 909.5760139114439,\n",
       " 929.6303113063493,\n",
       " 1050.2868452757987,\n",
       " 1042.6218825651094,\n",
       " 1138.6815414978032,\n",
       " 863.7035342452567,\n",
       " 933.3240843973693,\n",
       " 1286.2236392016102,\n",
       " 1276.816900718463,\n",
       " 1017.9967540613757,\n",
       " 1714.753363186036,\n",
       " 654.3400775085894,\n",
       " 904.3200944361636,\n",
       " 1306.1642085681453,\n",
       " 1444.3573710203964,\n",
       " 1041.9310487246755,\n",
       " 1367.456041476785,\n",
       " 841.3244298373066,\n",
       " 1217.2076373417515,\n",
       " 882.7548304383057,\n",
       " 928.3180999036532,\n",
       " 1243.7439013108224,\n",
       " 528.6410105081588,\n",
       " 1772.3957891751877,\n",
       " 1549.3078105582672,\n",
       " 1900.2178081015138,\n",
       " 1163.774347135297,\n",
       " 1039.9721273943926,\n",
       " 1248.097735111588,\n",
       " 1066.9939144020193,\n",
       " 1359.1201350474598,\n",
       " 1528.6961700000957,\n",
       " 1500.3942826066107,\n",
       " 1925.6994800066445,\n",
       " 1587.0438853359165,\n",
       " 1839.5944331958042,\n",
       " 1570.1298026580926,\n",
       " 1319.3454349066285,\n",
       " 1329.7603637815948,\n",
       " 1351.7024002635321,\n",
       " 1477.200575748165,\n",
       " 851.2024515596542,\n",
       " 1407.3771180621163,\n",
       " 984.3204154101127,\n",
       " 1480.107880434617,\n",
       " 1618.9950527435249,\n",
       " 1492.328875457188,\n",
       " 1590.425828874137,\n",
       " 1378.6666098595442,\n",
       " 1368.087366483531,\n",
       " 847.7051078011237,\n",
       " 1550.906672539118,\n",
       " 1126.7914355658322,\n",
       " 1241.5962740500552,\n",
       " 1218.6455378829612,\n",
       " 1340.6582568788078,\n",
       " 1179.809039344044,\n",
       " 1220.2317938411475,\n",
       " 958.5238132841052,\n",
       " 1244.7821198438114,\n",
       " 1145.218381786065,\n",
       " 1012.8782665312831,\n",
       " 1300.5832575933293,\n",
       " 1438.1394706338067,\n",
       " 1583.3245914751244,\n",
       " 1794.1046044054874,\n",
       " 1367.0037596115453,\n",
       " 1500.2171093315064,\n",
       " 1592.774091454773,\n",
       " 1457.3830922242025,\n",
       " 1789.035572407992,\n",
       " 1639.849778582012,\n",
       " 1667.8879221315592,\n",
       " 1384.9900071152908,\n",
       " 1188.8184804007128,\n",
       " 1470.5193217979302,\n",
       " 1457.96632423036,\n",
       " 876.9980109378828,\n",
       " 1251.1289747416727,\n",
       " 1133.0203190435982,\n",
       " 1285.7851838622987,\n",
       " 1426.0717872769767,\n",
       " 1482.833187749379,\n",
       " 1567.4896422413667,\n",
       " 1238.0078976472428,\n",
       " 737.9579558940949,\n",
       " 1313.5343719467048,\n",
       " 1396.343710012201,\n",
       " 547.9333394326021,\n",
       " 1522.8765382313798,\n",
       " 676.1423410351872,\n",
       " 1786.9454130039123,\n",
       " 1616.6284641301959,\n",
       " 1371.050106057498,\n",
       " 1396.3103365778927,\n",
       " 1953.1365827667626,\n",
       " 1428.6689368583857,\n",
       " 1737.9952351952281,\n",
       " 1847.0396033041172,\n",
       " 1974.005660509694,\n",
       " 1205.7435250812014,\n",
       " 982.3183984325574,\n",
       " 679.626532271563,\n",
       " 1664.992266407323,\n",
       " 1254.167675941978,\n",
       " 1170.0934875018947,\n",
       " 1751.3576059998902,\n",
       " 1433.6124284772432,\n",
       " 1270.9144253449358,\n",
       " 1209.5361639885753,\n",
       " 1288.9439794037767,\n",
       " 1360.3111023604945,\n",
       " 1601.0287317566865,\n",
       " 1552.5575988207622,\n",
       " 1726.52691400706,\n",
       " 1010.7155524831282,\n",
       " 1779.7940134918333,\n",
       " 949.3641790480048,\n",
       " 1376.2069921364155,\n",
       " 1614.9703917602505,\n",
       " 1808.4126571373185,\n",
       " 1482.9270863510765,\n",
       " 1105.5115546495092,\n",
       " 1595.0728557668565,\n",
       " 754.8184434642674,\n",
       " 1345.8192150563016,\n",
       " 1230.2100400335312,\n",
       " 1433.2402588645346,\n",
       " 1175.8640224211308,\n",
       " 917.514110938222,\n",
       " 1472.2475393874581,\n",
       " 1424.8124505859348,\n",
       " 1534.1958009682612,\n",
       " 1412.5801156829648,\n",
       " 846.7904759952706,\n",
       " 1662.3646838423822,\n",
       " 1337.6538033261766,\n",
       " 654.3630514729616,\n",
       " 1169.147760089559,\n",
       " 1419.8862060756273,\n",
       " 1514.6422267361904,\n",
       " 1419.2988821267172,\n",
       " 1111.270637251333,\n",
       " 1574.933542810359,\n",
       " 789.9107980997034,\n",
       " 1298.1880199516509,\n",
       " 1671.1506409038745,\n",
       " 889.7784889468027,\n",
       " 1546.8420249108424,\n",
       " 1223.5236656860918,\n",
       " 1196.7912599435772,\n",
       " 1173.5873242363173,\n",
       " 1417.6435753832095,\n",
       " 1193.9324023163447,\n",
       " 1309.3237004293826,\n",
       " 1394.6249086144899,\n",
       " 946.7713308527425,\n",
       " 1016.1384059480197,\n",
       " 1219.9780658896427,\n",
       " 1423.2724495852945,\n",
       " 1353.4413288630276,\n",
       " 1450.4451350979527,\n",
       " 1099.6235588590566,\n",
       " 1214.1499656710992,\n",
       " 1046.5587889322571,\n",
       " 925.458973857117,\n",
       " 1701.438930965579,\n",
       " 1585.300626868056,\n",
       " 815.7071354949989,\n",
       " 559.9992434232273,\n",
       " 1095.4479031603107,\n",
       " 995.118546351694,\n",
       " 1261.2861599893208,\n",
       " 325.7844241555664,\n",
       " 1335.4537012789533,\n",
       " 891.8910374180256,\n",
       " 920.1487470965807,\n",
       " 945.4789873634193,\n",
       " 1514.155262077645,\n",
       " 1562.3759209662273,\n",
       " 1047.6901441072039,\n",
       " 1061.6617879582654,\n",
       " 887.194886097595,\n",
       " 1118.3255972206243,\n",
       " 1374.120367645293,\n",
       " 1686.176440213549,\n",
       " 1443.0193167566918,\n",
       " 1396.4745460419056,\n",
       " 1063.31119379293,\n",
       " 939.9553573537817,\n",
       " 1130.4841141847128,\n",
       " 1136.1206064034052,\n",
       " 1388.6600292741946,\n",
       " 970.361566349938,\n",
       " 962.4795717619104,\n",
       " 1459.7393983962202,\n",
       " 1408.6337443455411,\n",
       " 1049.1569750666436,\n",
       " 1308.3120385935076,\n",
       " 1490.8197213016,\n",
       " 1009.195758148564,\n",
       " 1286.324397508764,\n",
       " 1827.8237276399755,\n",
       " 1050.0076160483668,\n",
       " 1436.476299963886,\n",
       " 1263.6391203313092,\n",
       " 1289.8237118972017,\n",
       " 1538.6280797217357,\n",
       " 1225.6474225247025,\n",
       " 1070.09972523103,\n",
       " 1280.7611415554768,\n",
       " 1529.347417275379,\n",
       " 1293.859696218982,\n",
       " 1250.306667757929,\n",
       " 1333.2229360966037,\n",
       " 1139.66491797867,\n",
       " 1226.883866384528,\n",
       " 1401.1984814604616,\n",
       " 1556.6595797612918,\n",
       " 1118.666174948971,\n",
       " 1429.8077937219307,\n",
       " 1422.1675697876476,\n",
       " 1641.9871101501144,\n",
       " 1421.1925723747797,\n",
       " 858.9847575982789,\n",
       " 1172.7337296635221,\n",
       " 1677.5609916013202,\n",
       " 1411.2286044758964,\n",
       " 1254.914360217933,\n",
       " 1465.0231887496416,\n",
       " 1064.0346379566138,\n",
       " 1317.0852026748587,\n",
       " 1240.0256685685733,\n",
       " 929.6387980696953,\n",
       " 791.5795246717747,\n",
       " 1358.4589838681827,\n",
       " 699.9498815662192,\n",
       " 724.1568042160882,\n",
       " 1372.5438977109047,\n",
       " 1215.2087657219365,\n",
       " 1680.504624815776,\n",
       " 1389.1238611769443,\n",
       " 1304.1163779737308,\n",
       " 1396.775710272887,\n",
       " 1289.2510300420577,\n",
       " 1559.221717551479,\n",
       " 1684.0179047260337,\n",
       " 1283.5290091995612,\n",
       " 1918.6683313485694,\n",
       " 1051.8775899517566,\n",
       " 1436.679117013802,\n",
       " 1119.5667995058702,\n",
       " 1044.1656299213648,\n",
       " 1154.1063525174595,\n",
       " 1354.270443524611,\n",
       " 1810.7807555154568,\n",
       " 1004.6927635174653,\n",
       " 995.3617185696371,\n",
       " 1377.810164842422,\n",
       " 779.9585984333779,\n",
       " 1326.067916137775,\n",
       " 1921.6467355764375,\n",
       " 1448.4040167579349,\n",
       " 1446.1761393046093,\n",
       " 1656.502930067931,\n",
       " 1212.0656806352074,\n",
       " 1034.3604256794492,\n",
       " 1281.9543813542925,\n",
       " 1780.052449410623,\n",
       " 1661.5910984814566,\n",
       " 1219.1176055719163,\n",
       " 796.1111043382807,\n",
       " 1736.5890153513749,\n",
       " 1634.1218060060176,\n",
       " 1188.6857010140884,\n",
       " 1029.6719160993205,\n",
       " 1442.9835559221096,\n",
       " 1208.9559163874144,\n",
       " 598.1281283756175,\n",
       " 978.3590520189855,\n",
       " 1586.7987938191009,\n",
       " 1127.1309016664188,\n",
       " 1654.4954645017217,\n",
       " 1387.7444470222083,\n",
       " 1058.2261790498912,\n",
       " 1014.1149133534365,\n",
       " 946.6473924406786,\n",
       " 1567.9932920656822,\n",
       " 941.2764956995899,\n",
       " 1015.9153867264259,\n",
       " 1612.3146732395217,\n",
       " 1314.093116561698,\n",
       " 1479.3131200888124,\n",
       " 974.4150089740957,\n",
       " 1388.4014970573269,\n",
       " 1696.9499879202147,\n",
       " 986.2159254530839,\n",
       " 999.4057794284793,\n",
       " 1318.478085293864,\n",
       " 1517.8291077430129,\n",
       " 834.1267914845955,\n",
       " 1230.6038135256254,\n",
       " 1387.1266081209417,\n",
       " 1283.9444183969874,\n",
       " 1884.863099556177,\n",
       " 1716.8926551314578,\n",
       " 1241.3352572544807,\n",
       " 1474.6820636727657,\n",
       " 1119.71421014122,\n",
       " 1020.623429230893,\n",
       " 1568.1053262299997,\n",
       " 1319.150642074076,\n",
       " 1874.9158328499193,\n",
       " 1364.1953292104763,\n",
       " 1301.2162482290205,\n",
       " 1642.9834623181414,\n",
       " 1250.9689361841881,\n",
       " 1298.4172810750197,\n",
       " 1163.128856871968,\n",
       " 1060.5246496853254,\n",
       " 880.030688265658,\n",
       " 1044.2514069056367,\n",
       " 941.2690755518156,\n",
       " 1409.6347210685326,\n",
       " 1417.468561652806,\n",
       " 1498.8279826979522,\n",
       " 1176.5470778294475,\n",
       " 1043.1278063937339,\n",
       " 1146.5732899638797,\n",
       " 1468.6472738749478,\n",
       " 1046.4753293630988,\n",
       " 1419.5596267641295,\n",
       " 1711.2821819656422,\n",
       " 1542.4005727078804,\n",
       " 1735.9977157106398,\n",
       " 689.5973610495666,\n",
       " 811.8719262013764,\n",
       " 1816.4089358102735,\n",
       " 1757.7239360132214,\n",
       " 1419.2023139209084,\n",
       " 830.9083940903989,\n",
       " 1684.458792888831,\n",
       " 1050.435469900606,\n",
       " 1400.4863608654741,\n",
       " 1585.110301134068,\n",
       " 1233.3147007555986,\n",
       " 1585.7796312896644,\n",
       " 1699.0741398906032,\n",
       " 1116.2946831755926,\n",
       " 1040.7131673252998,\n",
       " 1717.1569909561886,\n",
       " 761.5091209419069,\n",
       " 1951.3754394667756,\n",
       " 1861.6205465809373,\n",
       " 551.1518973034568,\n",
       " 913.9278771899179,\n",
       " 1297.5370642827174,\n",
       " 1004.0049498247427,\n",
       " 1467.39344574494,\n",
       " 1105.7365067068472,\n",
       " 1348.4112343703493,\n",
       " 1094.1826274110454,\n",
       " 1041.784533242013,\n",
       " 1434.9184954989269,\n",
       " 795.9233635540118,\n",
       " 934.1314388161801,\n",
       " 1246.3645508188602,\n",
       " 1068.932678408488,\n",
       " 1297.1144850110084,\n",
       " 633.8981439858283,\n",
       " 1481.5113967700868,\n",
       " 1517.2452794716903,\n",
       " 1859.1824430405222,\n",
       " 1171.1511112934197,\n",
       " 1459.0471994165887,\n",
       " 1356.0274042261703,\n",
       " 1740.5959621840461,\n",
       " 1078.2649658244206,\n",
       " 1318.0466621932962,\n",
       " 594.8683724049635,\n",
       " 1679.9406279424825,\n",
       " 1318.475005704698,\n",
       " 1385.0196811223523,\n",
       " 1050.6602947431916,\n",
       " 1289.5800175903553,\n",
       " 1789.3427364181937,\n",
       " 1067.0364364834409,\n",
       " 1482.6265953996945,\n",
       " 1173.3157942196206,\n",
       " 1462.851451321786,\n",
       " 1664.9915637617562,\n",
       " 1208.3403089716994,\n",
       " 805.4373330045078,\n",
       " 1509.0569737177557,\n",
       " 1187.5560043580022,\n",
       " 1578.2572319177693,\n",
       " 683.3108802167407,\n",
       " 1525.7431274819282,\n",
       " 1224.2497229997925,\n",
       " 1423.597708082214,\n",
       " 1516.5628303855885,\n",
       " 1719.2182443855813,\n",
       " 1615.9261037012484,\n",
       " 1252.2016715981583,\n",
       " 735.9928610833733,\n",
       " 1596.841653399114,\n",
       " 1358.3133741113909,\n",
       " 1583.9759905315527,\n",
       " 1542.6464848999615,\n",
       " 1201.8106216355243,\n",
       " 801.9364808510952,\n",
       " 507.57555248959665,\n",
       " 1286.5589740774628,\n",
       " 1611.0916841050812,\n",
       " 1506.115870857024,\n",
       " 1350.3207302943633,\n",
       " 1827.1278315826341,\n",
       " 1314.664187025816,\n",
       " 1469.6076994601453,\n",
       " 1246.8411374352509,\n",
       " 1265.155945075534,\n",
       " 1289.2474194350327,\n",
       " 1293.3237267429142,\n",
       " 1124.8104898346462,\n",
       " 491.81859352121154,\n",
       " 108.94318645022871,\n",
       " 1427.0350922997234,\n",
       " 1758.5733901452613,\n",
       " 1962.1861659669976,\n",
       " 1131.9433629262628,\n",
       " 1021.6152120956282,\n",
       " 1513.23891382936,\n",
       " 892.2607295988814,\n",
       " 1405.8023468979209,\n",
       " 1688.1906144089985,\n",
       " 1268.578615200083,\n",
       " 1667.5134896937172,\n",
       " 1312.616327074944,\n",
       " 1513.8122730609007,\n",
       " 1728.5671817933858,\n",
       " 696.5231101209788,\n",
       " 796.036373434453,\n",
       " 1250.4239503209094,\n",
       " 2031.4466668086948,\n",
       " 716.9928879714938,\n",
       " 1822.0048418404665,\n",
       " 1424.523922781209,\n",
       " 1640.6103785608377,\n",
       " 890.7674422775057,\n",
       " 900.1495798922169,\n",
       " 1482.3040403333803,\n",
       " 1698.0118577256706,\n",
       " 1008.2059133321438,\n",
       " 1535.5379880947678,\n",
       " 1307.7562637532385,\n",
       " 1775.2358944003272,\n",
       " 1364.9180612039713,\n",
       " 1572.849306353149,\n",
       " 1547.6615780003012,\n",
       " 878.4968492219878,\n",
       " 1440.6061499130774,\n",
       " 632.5916034572232,\n",
       " 1410.7024178985723,\n",
       " 1229.3329164167333,\n",
       " 1486.1174298883473,\n",
       " 1289.6843644030262,\n",
       " 1085.1726875914276,\n",
       " 1271.4776836632577,\n",
       " 1486.6482841426953,\n",
       " 1308.725773384759,\n",
       " 841.5144374570195,\n",
       " 1245.9855210046403,\n",
       " 1547.13638875935,\n",
       " 1038.1375253252227,\n",
       " 1801.0963202656724,\n",
       " 1167.0089164886895,\n",
       " 1230.439341056856,\n",
       " 1432.022956318573,\n",
       " 1179.0307411551687,\n",
       " 1254.978008077785,\n",
       " 999.1636691847665,\n",
       " 1527.9692052884168,\n",
       " 1460.361452793237,\n",
       " 1203.057458800382,\n",
       " 562.8148719806923,\n",
       " 800.0589765499467,\n",
       " 1529.4695474595248,\n",
       " 1103.783221770244,\n",
       " 1156.6137713814348,\n",
       " 1566.154338205418,\n",
       " 936.3093063884572,\n",
       " 1070.7097519322433,\n",
       " 1135.9313494121234,\n",
       " 1008.9877214692114,\n",
       " 1370.6984463848378,\n",
       " 687.2053763115789,\n",
       " 1583.0598708771151,\n",
       " 1618.8042372281348,\n",
       " 1535.2297554877234,\n",
       " 1424.477484424517,\n",
       " 1476.2780346981565,\n",
       " 995.5310615556938,\n",
       " 1869.6798686604477,\n",
       " 829.4251894026617,\n",
       " 2065.8092254522203,\n",
       " 1642.5099826898536,\n",
       " 1672.250520208259,\n",
       " 683.1940518408137,\n",
       " 867.8780063732701,\n",
       " 2001.5330984705997,\n",
       " 1467.7646405258406,\n",
       " 1610.3315798894155,\n",
       " 1443.945977935104,\n",
       " 1397.5238395560766,\n",
       " 1306.1289115717561,\n",
       " 1718.302612047038,\n",
       " 1532.3328197444969,\n",
       " 1319.3650217262252,\n",
       " 1024.7492130887345,\n",
       " 1592.7294898630646,\n",
       " 1197.8849207976164,\n",
       " 865.1388379139216,\n",
       " 1161.0921088640553,\n",
       " 1066.2528095799894,\n",
       " 1165.4068913642877,\n",
       " 858.9061713623757,\n",
       " 1497.441305333332,\n",
       " 953.7272558151941,\n",
       " 1130.2683085664914,\n",
       " 1240.6464510265475,\n",
       " 1094.0184789414166,\n",
       " 1289.8367262313564,\n",
       " 1527.0043428553379,\n",
       " 1485.2945502393388,\n",
       " 1484.3029026918875,\n",
       " 1565.0241699227618,\n",
       " 1357.4132890171684,\n",
       " 974.262198113186,\n",
       " 1499.6206205941849,\n",
       " 992.9491200079307,\n",
       " 891.1842052690904,\n",
       " 1196.2658530151073,\n",
       " 1505.241104794592,\n",
       " 1181.5979566222727,\n",
       " 789.2778126452397,\n",
       " 752.2153526563202,\n",
       " 272.94028629742104,\n",
       " 1380.963172103523,\n",
       " 1802.3871240962078,\n",
       " 1176.0661886969954,\n",
       " 1326.0324590322016,\n",
       " 1484.0656945851435,\n",
       " 1524.5831735706872,\n",
       " 1401.1188490525574,\n",
       " 1724.5376063545573,\n",
       " 1410.6646549081975,\n",
       " 1523.8884985891598,\n",
       " 1212.9234522223946,\n",
       " 1162.4280850840682,\n",
       " 1192.439332586007,\n",
       " 867.1302816450074,\n",
       " 925.6096463171949,\n",
       " 1305.5579140952102,\n",
       " 1012.787789070996,\n",
       " 1222.5736446667229,\n",
       " 1705.3073417050646,\n",
       " 1581.6184883687167,\n",
       " 509.20502325112324,\n",
       " 729.6243188568128,\n",
       " 812.5616432351751,\n",
       " 724.3293534957245,\n",
       " 863.085294927771,\n",
       " 1097.760879825026,\n",
       " 875.9419064846543,\n",
       " 987.9556471049506,\n",
       " 1642.9251187637085,\n",
       " 913.4453150516553,\n",
       " 1025.7843120323516,\n",
       " 813.5016973916034,\n",
       " 772.7615743765267,\n",
       " 821.5441991735069,\n",
       " 915.10975369146,\n",
       " 1628.4743712521124,\n",
       " 1702.5282551414405,\n",
       " 1431.6777375063477,\n",
       " 1715.7111636757975,\n",
       " 1431.3937095648414,\n",
       " 1077.0177013253954,\n",
       " 1371.368758663951,\n",
       " 779.7999685256328,\n",
       " 1254.338398160058,\n",
       " 1716.0552594161115,\n",
       " 1857.6937954010866,\n",
       " 1518.8506234033628,\n",
       " 1302.5968874022553,\n",
       " 1743.5241722281764,\n",
       " 1642.7307469046752,\n",
       " 1581.5052555416346,\n",
       " 1106.6144985414971,\n",
       " 1545.1657728470943,\n",
       " 1192.6054621875237,\n",
       " 1072.4781544025427,\n",
       " 1506.097176850912,\n",
       " 1521.7934109149005,\n",
       " 1150.062176045369,\n",
       " 1883.7496106626163,\n",
       " 1176.9291645413148,\n",
       " 1462.48737960426,\n",
       " 1157.9436088700063,\n",
       " 1230.4564175780135,\n",
       " 939.774920503319,\n",
       " 952.7144743849176,\n",
       " 1684.387766519301,\n",
       " 1077.1088554815194,\n",
       " 1036.5681711759303,\n",
       " 1223.750261351946,\n",
       " 1002.019372027015,\n",
       " 1439.7895266968274,\n",
       " 1419.603492467182,\n",
       " 1141.4794685544953,\n",
       " 1069.03051537069,\n",
       " 1401.6266510513617,\n",
       " 935.5132542494573,\n",
       " 718.0168125821785,\n",
       " 951.485436970584,\n",
       " 1771.568399984852,\n",
       " 678.1172634077279,\n",
       " 586.0461526909596,\n",
       " 1926.0897194849688,\n",
       " 1440.4277517867222,\n",
       " 1509.9017436453355,\n",
       " 802.6650444821445,\n",
       " 800.0743380897468,\n",
       " 813.9769135696513,\n",
       " 1368.7138593188954,\n",
       " 742.4280541132109,\n",
       " 915.2396867831404,\n",
       " 1313.9069294266671,\n",
       " 870.9782616650953,\n",
       " 938.0363603149598,\n",
       " 703.4973437989655,\n",
       " 1219.8799062482615,\n",
       " 1151.572606265655,\n",
       " 1153.676666576526,\n",
       " 1178.4009394393454,\n",
       " 816.3311322919902,\n",
       " 1038.9230707329225,\n",
       " 1332.3732953051122,\n",
       " 783.1299216756432,\n",
       " 1279.2914854407406,\n",
       " 890.7493642429088,\n",
       " 1035.0334251478064,\n",
       " 728.73280991548,\n",
       " 821.7697569001404,\n",
       " 1105.6551433758204,\n",
       " 1535.9769504017415,\n",
       " 873.1116254721048,\n",
       " 881.2051624697982,\n",
       " 1877.550253578748,\n",
       " 793.712937478878,\n",
       " 921.3359098398106,\n",
       " 813.1460898832613,\n",
       " 1634.8628605275235,\n",
       " 1221.7887461015373,\n",
       " 1372.8537329151804,\n",
       " 1080.6632182600956,\n",
       " 1321.9997047848437,\n",
       " 1489.0241703999131,\n",
       " 1556.0545647239292,\n",
       " 1355.0570067874933,\n",
       " 1316.239275535146,\n",
       " 931.8729491522282,\n",
       " 1240.8298086849454,\n",
       " 706.0453611542936,\n",
       " 1358.4988913034174,\n",
       " 1257.0793350963945,\n",
       " 1590.9560203864469,\n",
       " 1136.17215956342,\n",
       " 1498.85902520268,\n",
       " 1125.1545746542838,\n",
       " 941.5992266332527,\n",
       " 1490.4555750322709,\n",
       " 1584.243821953973,\n",
       " 745.9054058136757,\n",
       " 1122.8307066903487,\n",
       " 1103.8842147458818,\n",
       " 1184.461036312901,\n",
       " 1403.6260226596082,\n",
       " 1873.7482470862976,\n",
       " 1679.789651915736,\n",
       " 1512.4118853167513,\n",
       " 1647.1176590178623,\n",
       " 1878.275138566734,\n",
       " 1223.0317274944812,\n",
       " 1397.6236180894684,\n",
       " 1143.221430073771,\n",
       " 1331.4744606217803,\n",
       " 1050.2047492687393,\n",
       " 917.640201352774,\n",
       " 1670.7545142487847,\n",
       " 1145.7839567375268,\n",
       " 1621.487544493722,\n",
       " 2031.0355404406844,\n",
       " 1467.8946918273555,\n",
       " 1944.791736726736,\n",
       " 1331.4633528983863,\n",
       " 1303.3194113111613,\n",
       " 1342.3972716782514,\n",
       " 734.0194067520465,\n",
       " 1060.261890035813,\n",
       " 1206.7179896459054,\n",
       " 1560.9813053233668,\n",
       " 1961.864057628255,\n",
       " 1627.2687867938007,\n",
       " 694.5923810144557,\n",
       " 1521.6960779779324,\n",
       " 1742.659245683369,\n",
       " 1116.4612985015713,\n",
       " 1528.2879394801776,\n",
       " 1293.5512415025905,\n",
       " 1463.4147076090553,\n",
       " 1251.4499944898205,\n",
       " 922.241416733939,\n",
       " 1095.838629247388,\n",
       " 1368.6144869895318,\n",
       " 1028.6539576155521,\n",
       " 1051.4502523992662,\n",
       " 1076.9010502161161,\n",
       " 1325.4853492866016,\n",
       " 1477.9663844103925,\n",
       " 1456.5061074380546,\n",
       " 1096.2568978928548,\n",
       " 1222.8409383658654,\n",
       " 1095.868131625734,\n",
       " 1813.484274253676,\n",
       " 958.5832250130726,\n",
       " 1391.7913993857103,\n",
       " 1391.1909489432967,\n",
       " 1553.8945315476014,\n",
       " 898.573745784095,\n",
       " 930.6427207172601,\n",
       " 773.9477799817004,\n",
       " 1060.5926273157688,\n",
       " 1267.4058777401992,\n",
       " 1410.1106259420874,\n",
       " 1371.0468463849918,\n",
       " 1270.1760778269413,\n",
       " 1288.1160319338853,\n",
       " 1409.753563589276,\n",
       " 1028.9441572040917,\n",
       " 1203.756258733386,\n",
       " 1195.403125810709,\n",
       " 1439.430649490575,\n",
       " 1341.123725051452,\n",
       " 1223.4480694183792,\n",
       " 671.4047224884549,\n",
       " 1597.4981514960994,\n",
       " 1450.2425403827224,\n",
       " 1612.337925518606,\n",
       " 1494.061853437184,\n",
       " 1947.2459326975224,\n",
       " 1823.2693910642458,\n",
       " 1967.8804297659908,\n",
       " 1959.3830374934132,\n",
       " 1016.6589519927755,\n",
       " 1888.5546674421994,\n",
       " 1381.1220564380415,\n",
       " 1811.7192119581139,\n",
       " 1996.7192524885952,\n",
       " 1648.6321405620183,\n",
       " 1882.8558809010688,\n",
       " 1286.136768430335,\n",
       " 1493.7456550105417,\n",
       " 974.9729802358797,\n",
       " 1409.9464853948443,\n",
       " 1411.3580279907992,\n",
       " 1119.0736858911291,\n",
       " 1251.9605122413482,\n",
       " 1646.7675341305185,\n",
       " 1504.4894426252129,\n",
       " 1266.7280167470465,\n",
       " 1626.6163052502911,\n",
       " 1395.5646245964178,\n",
       " 1216.887876334971,\n",
       " 1058.4214283594072,\n",
       " 1233.6734306958829,\n",
       " 1115.7232970002,\n",
       " 1357.0266649519208,\n",
       " 1476.2961224644478,\n",
       " 1758.2370763529434,\n",
       " 858.7101600537765,\n",
       " 1422.7838497401383,\n",
       " 869.8029531055154,\n",
       " 1370.9946458892055,\n",
       " 1570.68263504141,\n",
       " 1314.381347004598,\n",
       " 1597.780435194321,\n",
       " 1699.815733244958,\n",
       " 1123.1050494092103,\n",
       " 1816.5539369972728,\n",
       " 1519.8775006253984,\n",
       " 1099.8907809766524,\n",
       " 1104.9248386652387,\n",
       " 838.5972438207463,\n",
       " 1311.154984594679,\n",
       " 1393.1181419516163,\n",
       " 1234.2425193008235,\n",
       " 1690.4912216851951,\n",
       " 907.3583558868235,\n",
       " 1399.6992452687366,\n",
       " 1747.2569283953787,\n",
       " 1018.3277903961389,\n",
       " 1438.4932566751086,\n",
       " 1049.1593542940004,\n",
       " 1323.1631273551425,\n",
       " 1424.892212624139,\n",
       " 1423.2731206139938,\n",
       " 1023.9138099579219,\n",
       " 1545.1607275711485,\n",
       " 1064.4958907768355,\n",
       " 1506.0286590817313,\n",
       " 1697.542044220686,\n",
       " 1667.2699154038703,\n",
       " 1366.191018684607,\n",
       " 1479.9744176654835,\n",
       " 1095.9074433514631,\n",
       " 1480.6697881828552,\n",
       " 1224.1352605078791,\n",
       " 933.5987595936602,\n",
       " 952.983114253664,\n",
       " 1582.3448010416014,\n",
       " 1658.484282959098,\n",
       " 1447.3632134961927,\n",
       " 759.1445315335693,\n",
       " 1017.8345353049612,\n",
       " 627.8635456803214,\n",
       " 1594.076704773777,\n",
       " 952.0923973181655,\n",
       " 775.1125073243596,\n",
       " 999.5254869895441,\n",
       " 866.6352323806879,\n",
       " 1510.8686175822768,\n",
       " 1383.05409210629,\n",
       " 997.453500237322,\n",
       " 1230.8785128742124,\n",
       " 1126.1328161268912,\n",
       " 1370.5079048881112,\n",
       " 901.6849551604379,\n",
       " 1170.2769580177612,\n",
       " 1547.7549135113654,\n",
       " 898.531113343973,\n",
       " 1662.9933116662153,\n",
       " 879.7120786634136,\n",
       " 1292.944240882901,\n",
       " 1739.0494664412895,\n",
       " 1241.5676088346072,\n",
       " 1355.4327621166772,\n",
       " 1476.3055788620197,\n",
       " 1935.498643149625,\n",
       " 1159.1070083597829,\n",
       " 1847.076482684845,\n",
       " 904.6148573541698,\n",
       " 1401.7850599353783,\n",
       " 1422.3832742363736,\n",
       " 1021.4157826015952,\n",
       " 920.4691387797071,\n",
       " 1991.4955375634984,\n",
       " 1037.7151652977316,\n",
       " 1127.115077217401,\n",
       " 1755.6705831120541,\n",
       " 996.6245314549572,\n",
       " 1979.5714758315216,\n",
       " 1119.834041597501,\n",
       " 1357.9494862231466,\n",
       " 1668.259939338717,\n",
       " 2019.8971377967703,\n",
       " 683.7347992105945,\n",
       " 1590.3095422845745,\n",
       " 1312.1764072539886,\n",
       " 764.2395183972922,\n",
       " 1767.4762092572084,\n",
       " 1280.9855592662489,\n",
       " 1385.4528102103347,\n",
       " 1444.1723613825452,\n",
       " 971.0690762354518,\n",
       " 1119.681866516008,\n",
       " 1577.359819279206,\n",
       " 1357.708653800379,\n",
       " 1425.5467933540297,\n",
       " 1399.0723016442296,\n",
       " 984.0742889390724,\n",
       " 1153.0307105042568,\n",
       " 1346.0580518725722,\n",
       " 1225.6916394873738,\n",
       " 1441.0971555555002,\n",
       " 1313.7482209652692,\n",
       " 1304.6071263524643,\n",
       " 1116.2071880572155,\n",
       " 1847.838935947058,\n",
       " 1004.9607692688687,\n",
       " 1224.750484780107,\n",
       " 1186.7623106156905,\n",
       " 1367.122243259275,\n",
       " 1347.1879619425154,\n",
       " 891.448058447494,\n",
       " 1140.5868237464874,\n",
       " 1711.4092762054383,\n",
       " 1324.6413625459832,\n",
       " ...]"
      ]
     },
     "execution_count": 91,
     "metadata": {},
     "output_type": "execute_result"
    }
   ],
   "source": [
    "maxValue0"
   ]
  },
  {
   "cell_type": "code",
   "execution_count": 92,
   "id": "f4bcfd45",
   "metadata": {},
   "outputs": [
    {
     "data": {
      "text/plain": [
       "[<matplotlib.lines.Line2D at 0x29a2dd4c0>]"
      ]
     },
     "execution_count": 92,
     "metadata": {},
     "output_type": "execute_result"
    },
    {
     "data": {
      "image/png": "[encoded data removed]",
      "text/plain": [
       "<Figure size 640x480 with 1 Axes>"
      ]
     },
     "metadata": {},
     "output_type": "display_data"
    }
   ],
   "source": [
    "# maxValue0 = np.array(maxValue0)\n",
    "# maxValue0 = maxValue0.reshape(-1,5923)\n",
    "plt.plot(maxValue0)"
   ]
  },
  {
   "cell_type": "code",
   "execution_count": 93,
   "id": "c1a3c6ee",
   "metadata": {},
   "outputs": [
    {
     "data": {
      "text/plain": [
       "[<matplotlib.lines.Line2D at 0x29a34ca90>]"
      ]
     },
     "execution_count": 93,
     "metadata": {},
     "output_type": "execute_result"
    },
    {
     "data": {
      "image/png": "[encoded data removed]",
      "text/plain": [
       "<Figure size 640x480 with 1 Axes>"
      ]
     },
     "metadata": {},
     "output_type": "display_data"
    }
   ],
   "source": [
    "plt.plot(maxValue1)"
   ]
  },
  {
   "cell_type": "code",
   "execution_count": 94,
   "id": "4221ec84",
   "metadata": {},
   "outputs": [
    {
     "data": {
      "text/plain": [
       "[<matplotlib.lines.Line2D at 0x29a3d5610>]"
      ]
     },
     "execution_count": 94,
     "metadata": {},
     "output_type": "execute_result"
    },
    {
     "data": {
      "image/png": "[encoded data removed]",
      "text/plain": [
       "<Figure size 640x480 with 1 Axes>"
      ]
     },
     "metadata": {},
     "output_type": "display_data"
    }
   ],
   "source": [
    "plt.plot(maxValue2)"
   ]
  },
  {
   "cell_type": "code",
   "execution_count": 95,
   "id": "26d352eb",
   "metadata": {},
   "outputs": [
    {
     "data": {
      "text/plain": [
       "[<matplotlib.lines.Line2D at 0x29a4533a0>]"
      ]
     },
     "execution_count": 95,
     "metadata": {},
     "output_type": "execute_result"
    },
    {
     "data": {
      "image/png": "[encoded data removed]",
      "text/plain": [
       "<Figure size 640x480 with 1 Axes>"
      ]
     },
     "metadata": {},
     "output_type": "display_data"
    }
   ],
   "source": [
    "plt.plot(index1_results_0)"
   ]
  },
  {
   "cell_type": "code",
   "execution_count": 96,
   "id": "058433d9",
   "metadata": {},
   "outputs": [],
   "source": [
    "resultSum_0 = maxValue0\n",
    "resultSum_1 = maxValue1\n",
    "resultSum_2 = maxValue2"
   ]
  },
  {
   "cell_type": "code",
   "execution_count": 97,
   "id": "5d9b70f5",
   "metadata": {},
   "outputs": [
    {
     "data": {
      "text/plain": [
       "(1, 3)"
      ]
     },
     "execution_count": 97,
     "metadata": {},
     "output_type": "execute_result"
    }
   ],
   "source": [
    "results_0[0][0].shape"
   ]
  },
  {
   "cell_type": "code",
   "execution_count": null,
   "id": "8391bb34",
   "metadata": {},
   "outputs": [],
   "source": []
  },
  {
   "cell_type": "code",
   "execution_count": 98,
   "id": "e2300336",
   "metadata": {},
   "outputs": [
    {
     "data": {
      "text/plain": [
       "array([[[1016.60444722, 1193.05039271,  737.60789475]]])"
      ]
     },
     "execution_count": 98,
     "metadata": {},
     "output_type": "execute_result"
    }
   ],
   "source": [
    "results_0[0]"
   ]
  },
  {
   "cell_type": "code",
   "execution_count": 99,
   "id": "1ba481ef",
   "metadata": {},
   "outputs": [
    {
     "data": {
      "text/plain": [
       "1193.0503927124064"
      ]
     },
     "execution_count": 99,
     "metadata": {},
     "output_type": "execute_result"
    }
   ],
   "source": [
    "results_0[0][0][0][1]"
   ]
  },
  {
   "cell_type": "code",
   "execution_count": 100,
   "id": "3e180bb8",
   "metadata": {},
   "outputs": [
    {
     "data": {
      "text/plain": [
       "array([[[445.69190794, 542.32040177, 363.89813197]]])"
      ]
     },
     "execution_count": 100,
     "metadata": {},
     "output_type": "execute_result"
    }
   ],
   "source": [
    "results_1[1]"
   ]
  },
  {
   "cell_type": "code",
   "execution_count": 101,
   "id": "965f17c8",
   "metadata": {},
   "outputs": [
    {
     "data": {
      "text/plain": [
       "542.3204017718772"
      ]
     },
     "execution_count": 101,
     "metadata": {},
     "output_type": "execute_result"
    }
   ],
   "source": [
    "results_1[1][0][0][1]"
   ]
  },
  {
   "cell_type": "code",
   "execution_count": 102,
   "id": "54bdb4dd",
   "metadata": {},
   "outputs": [
    {
     "data": {
      "text/plain": [
       "548.5217498292526"
      ]
     },
     "execution_count": 102,
     "metadata": {},
     "output_type": "execute_result"
    }
   ],
   "source": [
    "results_1[0][0][0][1]"
   ]
  },
  {
   "cell_type": "code",
   "execution_count": 103,
   "id": "4d54177c",
   "metadata": {},
   "outputs": [
    {
     "data": {
      "text/plain": [
       "array([[[1059.36323669, 1063.96079601,  581.72571043]]])"
      ]
     },
     "execution_count": 103,
     "metadata": {},
     "output_type": "execute_result"
    }
   ],
   "source": [
    "results_2[0]"
   ]
  },
  {
   "cell_type": "code",
   "execution_count": 104,
   "id": "d1a202cd",
   "metadata": {},
   "outputs": [
    {
     "data": {
      "text/plain": [
       "array([[[461.37451086, 548.52174983, 355.09522265]]])"
      ]
     },
     "execution_count": 104,
     "metadata": {},
     "output_type": "execute_result"
    }
   ],
   "source": [
    "results_1[0]"
   ]
  },
  {
   "cell_type": "code",
   "execution_count": 105,
   "id": "f8f7b32b",
   "metadata": {},
   "outputs": [
    {
     "data": {
      "text/plain": [
       "array([[[ 0.00000000e+00]],\n",
       "\n",
       "       [[ 0.00000000e+00]],\n",
       "\n",
       "       [[ 0.00000000e+00]],\n",
       "\n",
       "       [[-3.48607213e-01]],\n",
       "\n",
       "       [[-7.36022338e-01]],\n",
       "\n",
       "       [[ 1.23000693e+00]],\n",
       "\n",
       "       [[-1.54669791e-01]],\n",
       "\n",
       "       [[ 1.56689360e+02]],\n",
       "\n",
       "       [[ 1.04491566e+02]],\n",
       "\n",
       "       [[ 4.87970750e-02]],\n",
       "\n",
       "       [[-2.71132478e-02]],\n",
       "\n",
       "       [[ 1.19554734e-04]],\n",
       "\n",
       "       [[ 9.67143324e-02]],\n",
       "\n",
       "       [[-4.33090592e-01]],\n",
       "\n",
       "       [[ 1.27387710e-02]],\n",
       "\n",
       "       [[ 2.35606938e-01]],\n",
       "\n",
       "       [[ 1.18294767e+00]],\n",
       "\n",
       "       [[ 7.19501312e-01]],\n",
       "\n",
       "       [[ 5.76427753e+02]],\n",
       "\n",
       "       [[ 9.04846990e-01]],\n",
       "\n",
       "       [[ 1.75374489e+02]],\n",
       "\n",
       "       [[ 2.49387917e+02]],\n",
       "\n",
       "       [[ 1.88590435e+01]],\n",
       "\n",
       "       [[ 0.00000000e+00]],\n",
       "\n",
       "       [[ 0.00000000e+00]],\n",
       "\n",
       "       [[ 0.00000000e+00]],\n",
       "\n",
       "       [[ 0.00000000e+00]],\n",
       "\n",
       "       [[ 0.00000000e+00]]])"
      ]
     },
     "execution_count": 105,
     "metadata": {},
     "output_type": "execute_result"
    }
   ],
   "source": [
    "resultRow_2"
   ]
  },
  {
   "cell_type": "code",
   "execution_count": 106,
   "id": "da6b0d71",
   "metadata": {
    "scrolled": false
   },
   "outputs": [
    {
     "data": {
      "text/plain": [
       "array([[[1016.60444722, 1193.05039271,  737.60789475]]])"
      ]
     },
     "execution_count": 106,
     "metadata": {},
     "output_type": "execute_result"
    }
   ],
   "source": [
    "results_0[0]"
   ]
  },
  {
   "cell_type": "code",
   "execution_count": 107,
   "id": "3eb3f865",
   "metadata": {},
   "outputs": [
    {
     "data": {
      "text/plain": [
       "array([[[ 0.00000000e+00]],\n",
       "\n",
       "       [[ 0.00000000e+00]],\n",
       "\n",
       "       [[ 0.00000000e+00]],\n",
       "\n",
       "       [[ 0.00000000e+00]],\n",
       "\n",
       "       [[-1.78468062e-01]],\n",
       "\n",
       "       [[ 1.00865528e+00]],\n",
       "\n",
       "       [[ 1.27503331e-01]],\n",
       "\n",
       "       [[ 4.95000760e+02]],\n",
       "\n",
       "       [[ 4.59269292e+02]],\n",
       "\n",
       "       [[-2.76762807e-01]],\n",
       "\n",
       "       [[-5.50376971e-01]],\n",
       "\n",
       "       [[ 4.39965664e-01]],\n",
       "\n",
       "       [[-4.13785823e-01]],\n",
       "\n",
       "       [[-4.56809787e-01]],\n",
       "\n",
       "       [[-8.47804132e-02]],\n",
       "\n",
       "       [[ 3.21870882e-01]],\n",
       "\n",
       "       [[ 3.24033830e-01]],\n",
       "\n",
       "       [[-2.06785253e-02]],\n",
       "\n",
       "       [[ 4.32679356e+02]],\n",
       "\n",
       "       [[-6.86142001e-02]],\n",
       "\n",
       "       [[ 4.01671243e+02]],\n",
       "\n",
       "       [[ 6.23144328e+02]],\n",
       "\n",
       "       [[ 4.79978329e+02]],\n",
       "\n",
       "       [[-2.66658012e-01]],\n",
       "\n",
       "       [[ 0.00000000e+00]],\n",
       "\n",
       "       [[ 0.00000000e+00]],\n",
       "\n",
       "       [[ 0.00000000e+00]],\n",
       "\n",
       "       [[ 0.00000000e+00]]])"
      ]
     },
     "execution_count": 107,
     "metadata": {},
     "output_type": "execute_result"
    }
   ],
   "source": [
    "resultRow_0"
   ]
  },
  {
   "cell_type": "code",
   "execution_count": 108,
   "id": "57c85d91",
   "metadata": {},
   "outputs": [
    {
     "data": {
      "text/plain": [
       "array([[[ 0.00000000e+00]],\n",
       "\n",
       "       [[ 0.00000000e+00]],\n",
       "\n",
       "       [[ 0.00000000e+00]],\n",
       "\n",
       "       [[ 0.00000000e+00]],\n",
       "\n",
       "       [[ 0.00000000e+00]],\n",
       "\n",
       "       [[ 3.64308929e-01]],\n",
       "\n",
       "       [[ 4.01131007e-01]],\n",
       "\n",
       "       [[ 1.05383093e+02]],\n",
       "\n",
       "       [[ 1.06255367e+02]],\n",
       "\n",
       "       [[ 2.75201333e-02]],\n",
       "\n",
       "       [[-6.02893931e-01]],\n",
       "\n",
       "       [[-5.09415720e-01]],\n",
       "\n",
       "       [[-1.90067214e-01]],\n",
       "\n",
       "       [[-3.71473350e-01]],\n",
       "\n",
       "       [[-9.92103971e-02]],\n",
       "\n",
       "       [[-3.21868759e-01]],\n",
       "\n",
       "       [[-2.70941866e-02]],\n",
       "\n",
       "       [[ 2.01548360e-01]],\n",
       "\n",
       "       [[ 1.31752089e+02]],\n",
       "\n",
       "       [[-9.17581717e-03]],\n",
       "\n",
       "       [[ 5.76718534e+01]],\n",
       "\n",
       "       [[ 8.35618989e+01]],\n",
       "\n",
       "       [[ 1.00017121e+02]],\n",
       "\n",
       "       [[-9.41099483e-02]],\n",
       "\n",
       "       [[-1.91991324e+00]],\n",
       "\n",
       "       [[ 0.00000000e+00]],\n",
       "\n",
       "       [[ 0.00000000e+00]],\n",
       "\n",
       "       [[ 0.00000000e+00]]])"
      ]
     },
     "execution_count": 108,
     "metadata": {},
     "output_type": "execute_result"
    }
   ],
   "source": [
    "resultRow_1"
   ]
  },
  {
   "cell_type": "code",
   "execution_count": 109,
   "id": "5391b374",
   "metadata": {},
   "outputs": [
    {
     "data": {
      "text/plain": [
       "array([[[461.37451086, 548.52174983, 355.09522265]]])"
      ]
     },
     "execution_count": 109,
     "metadata": {},
     "output_type": "execute_result"
    }
   ],
   "source": [
    "results_1[0]"
   ]
  },
  {
   "cell_type": "code",
   "execution_count": 110,
   "id": "02d9ff26",
   "metadata": {},
   "outputs": [
    {
     "data": {
      "text/plain": [
       "[<matplotlib.lines.Line2D at 0x29a4cd100>]"
      ]
     },
     "execution_count": 110,
     "metadata": {},
     "output_type": "execute_result"
    },
    {
     "data": {
      "image/png": "[encoded data removed]",
      "text/plain": [
       "<Figure size 640x480 with 1 Axes>"
      ]
     },
     "metadata": {},
     "output_type": "display_data"
    }
   ],
   "source": [
    "plt.plot(weight1)"
   ]
  },
  {
   "cell_type": "code",
   "execution_count": 111,
   "id": "c52dc580",
   "metadata": {},
   "outputs": [],
   "source": [
    "results_0 , resultSum_0 =printResultsBlock(X_train_filter_0,weight1)\n",
    "\n",
    "results_1 , resultSum_1 =printResultsBlock(X_train_filter_1,weight1)\n",
    "results_2 , resultSum_2 =printResultsBlock(X_train_filter_2,weight1)"
   ]
  },
  {
   "cell_type": "code",
   "execution_count": 112,
   "id": "07ee26b9",
   "metadata": {},
   "outputs": [
    {
     "data": {
      "text/plain": [
       "112"
      ]
     },
     "execution_count": 112,
     "metadata": {},
     "output_type": "execute_result"
    }
   ],
   "source": [
    "len(results_0[0])"
   ]
  },
  {
   "cell_type": "code",
   "execution_count": 113,
   "id": "e4b70a3d",
   "metadata": {},
   "outputs": [],
   "source": [
    "def findMaxNode(result):\n",
    "    max_ = 0\n",
    "    indices = []\n",
    "    ansMode = []\n",
    "    for images in result:\n",
    "        max_index = -1\n",
    "        max_ = 0\n",
    "        for index in range(28):\n",
    "            if(images[index] > max_):\n",
    "                max_ = images[index]\n",
    "                max_index = index\n",
    "        \n",
    "        indices.append(max_index)\n",
    "        \n",
    "    data = Counter(indices)\n",
    "    mode = statistics.mode(indices)\n",
    "    return data,indices,mode"
   ]
  },
  {
   "cell_type": "code",
   "execution_count": 114,
   "id": "d3b1121e",
   "metadata": {},
   "outputs": [],
   "source": [
    "data_0 , indices_0 , mode_0 = findMaxNode(results_0)\n",
    "data_1 , indices_1 , mode_1 = findMaxNode(results_1)\n",
    "data_2 , indices_2 , mode_2 = findMaxNode(results_2)"
   ]
  },
  {
   "cell_type": "code",
   "execution_count": 115,
   "id": "3ad90003",
   "metadata": {},
   "outputs": [
    {
     "data": {
      "text/plain": [
       "Counter({22: 1985,\n",
       "         -1: 1185,\n",
       "         17: 983,\n",
       "         21: 115,\n",
       "         27: 785,\n",
       "         18: 124,\n",
       "         26: 441,\n",
       "         23: 277,\n",
       "         25: 11,\n",
       "         24: 3,\n",
       "         20: 13,\n",
       "         16: 1})"
      ]
     },
     "execution_count": 115,
     "metadata": {},
     "output_type": "execute_result"
    }
   ],
   "source": [
    "data_0"
   ]
  },
  {
   "cell_type": "code",
   "execution_count": 116,
   "id": "177cb0f3",
   "metadata": {},
   "outputs": [
    {
     "data": {
      "text/plain": [
       "22"
      ]
     },
     "execution_count": 116,
     "metadata": {},
     "output_type": "execute_result"
    }
   ],
   "source": [
    "mode_0"
   ]
  },
  {
   "cell_type": "code",
   "execution_count": 117,
   "id": "0f3c30e9",
   "metadata": {},
   "outputs": [
    {
     "data": {
      "text/plain": [
       "Counter({22: 2412,\n",
       "         17: 1026,\n",
       "         26: 619,\n",
       "         -1: 1915,\n",
       "         21: 83,\n",
       "         27: 131,\n",
       "         18: 235,\n",
       "         23: 313,\n",
       "         25: 5,\n",
       "         20: 1,\n",
       "         24: 1,\n",
       "         16: 1})"
      ]
     },
     "execution_count": 117,
     "metadata": {},
     "output_type": "execute_result"
    }
   ],
   "source": [
    "data_1"
   ]
  },
  {
   "cell_type": "code",
   "execution_count": 118,
   "id": "972c0647",
   "metadata": {},
   "outputs": [
    {
     "data": {
      "text/plain": [
       "22"
      ]
     },
     "execution_count": 118,
     "metadata": {},
     "output_type": "execute_result"
    }
   ],
   "source": [
    "mode_1"
   ]
  },
  {
   "cell_type": "code",
   "execution_count": 119,
   "id": "5795306b",
   "metadata": {},
   "outputs": [
    {
     "data": {
      "text/plain": [
       "Counter({22: 1252,\n",
       "         -1: 893,\n",
       "         27: 481,\n",
       "         21: 482,\n",
       "         17: 1323,\n",
       "         26: 747,\n",
       "         23: 210,\n",
       "         18: 380,\n",
       "         20: 148,\n",
       "         25: 41,\n",
       "         24: 1})"
      ]
     },
     "execution_count": 119,
     "metadata": {},
     "output_type": "execute_result"
    }
   ],
   "source": [
    "data_2"
   ]
  },
  {
   "cell_type": "code",
   "execution_count": 120,
   "id": "f9ff8aa5",
   "metadata": {},
   "outputs": [
    {
     "data": {
      "text/plain": [
       "17"
      ]
     },
     "execution_count": 120,
     "metadata": {},
     "output_type": "execute_result"
    }
   ],
   "source": [
    "mode_2"
   ]
  },
  {
   "cell_type": "code",
   "execution_count": 121,
   "id": "44229641",
   "metadata": {},
   "outputs": [],
   "source": [
    "#st.t.interval(alpha=0.95, df=len(data)-1, loc=np.mean(data), scale=st.sem(data))\n",
    "#do this and maximum val and then go with variations"
   ]
  },
  {
   "cell_type": "code",
   "execution_count": 122,
   "id": "0d1d593b",
   "metadata": {},
   "outputs": [],
   "source": [
    "#results_0=printResultsBlock(X_train_filter_0,weight1)\n",
    "#results_1=printResultsBlock(X_train_filter_1,weight1)\n",
    "#results_2=printResultsBlock(X_train_filter_2,weight1)\n",
    "# results_3=printResultsBlock(X_train_filter_3,weight1)\n",
    "# results_4=printResultsBlock(X_train_filter_4,weight1)"
   ]
  },
  {
   "cell_type": "code",
   "execution_count": 123,
   "id": "c578039c",
   "metadata": {},
   "outputs": [],
   "source": [
    "#results_0"
   ]
  },
  {
   "cell_type": "code",
   "execution_count": 124,
   "id": "9a54997d",
   "metadata": {},
   "outputs": [],
   "source": [
    "#results_1"
   ]
  },
  {
   "cell_type": "code",
   "execution_count": 125,
   "id": "53866c24",
   "metadata": {},
   "outputs": [],
   "source": [
    "#results_2"
   ]
  },
  {
   "cell_type": "code",
   "execution_count": 126,
   "id": "a35c8176",
   "metadata": {},
   "outputs": [],
   "source": [
    "#results_3"
   ]
  },
  {
   "cell_type": "code",
   "execution_count": 127,
   "id": "a395b19a",
   "metadata": {},
   "outputs": [],
   "source": [
    "meanOfTrainingData_0 = []\n",
    "medianOfTrainingData_0 = []\n",
    "for index in range(len(resultSum_0)):\n",
    "    meanOfTrainingData_0.append(np.mean(resultSum_0[index]))\n",
    "    medianOfTrainingData_0.append(np.median(resultSum_0[index]))\n",
    "    trainingMeanValue_0 = np.mean(medianOfTrainingData_0)"
   ]
  },
  {
   "cell_type": "code",
   "execution_count": 128,
   "id": "faea5f23",
   "metadata": {},
   "outputs": [],
   "source": [
    "meanOfTrainingData_1 = []\n",
    "medianOfTrainingData_1 = []\n",
    "for index in range(len(resultSum_1)):\n",
    "    meanOfTrainingData_1.append(np.mean(resultSum_1[index]))\n",
    "    medianOfTrainingData_1.append(np.median(resultSum_1[index]))\n",
    "    trainingMeanValue_1 = np.mean(medianOfTrainingData_1)"
   ]
  },
  {
   "cell_type": "code",
   "execution_count": 129,
   "id": "1741cefb",
   "metadata": {},
   "outputs": [],
   "source": [
    "meanOfTrainingData_2 = []\n",
    "medianOfTrainingData_2 = []\n",
    "for index in range(len(resultSum_2)):\n",
    "    meanOfTrainingData_2.append(np.mean(resultSum_2[index]))\n",
    "    medianOfTrainingData_2.append(np.median(resultSum_2[index]))\n",
    "    trainingMeanValue_2 = np.mean(medianOfTrainingData_2)"
   ]
  },
  {
   "cell_type": "code",
   "execution_count": 130,
   "id": "503622f9",
   "metadata": {},
   "outputs": [],
   "source": [
    "# meanOfTrainingData_3 = []\n",
    "# medianOfTrainingData_3 = []\n",
    "# for index in range(len(results_3)):\n",
    "#     meanOfTrainingData_3.append(np.mean(results_3[index]))\n",
    "#     medianOfTrainingData_3.append(np.median(results_3[index]))\n",
    "#     trainingMeanValue_3 = np.mean(medianOfTrainingData_3)"
   ]
  },
  {
   "cell_type": "code",
   "execution_count": 131,
   "id": "a265f102",
   "metadata": {},
   "outputs": [],
   "source": [
    "# meanOfTrainingData_4 = []\n",
    "# medianOfTrainingData_4 = []\n",
    "# for index in range(len(results_4)):\n",
    "#     meanOfTrainingData_4.append(np.mean(results_4[index]))\n",
    "#     medianOfTrainingData_4.append(np.median(results_4[index]))\n",
    "#     trainingMeanValue_4 = np.mean(medianOfTrainingData_4)"
   ]
  },
  {
   "cell_type": "code",
   "execution_count": 132,
   "id": "71b300cc",
   "metadata": {},
   "outputs": [
    {
     "data": {
      "text/plain": [
       "2692.727759875949"
      ]
     },
     "execution_count": 132,
     "metadata": {},
     "output_type": "execute_result"
    }
   ],
   "source": [
    "trainingMeanValue_0"
   ]
  },
  {
   "cell_type": "code",
   "execution_count": 133,
   "id": "29bd0005",
   "metadata": {},
   "outputs": [
    {
     "data": {
      "text/plain": [
       "1048.7615322471772"
      ]
     },
     "execution_count": 133,
     "metadata": {},
     "output_type": "execute_result"
    }
   ],
   "source": [
    "trainingMeanValue_1"
   ]
  },
  {
   "cell_type": "code",
   "execution_count": 134,
   "id": "d3d614d1",
   "metadata": {},
   "outputs": [
    {
     "data": {
      "text/plain": [
       "2266.892784545336"
      ]
     },
     "execution_count": 134,
     "metadata": {},
     "output_type": "execute_result"
    }
   ],
   "source": [
    "trainingMeanValue_2"
   ]
  },
  {
   "cell_type": "code",
   "execution_count": 135,
   "id": "590c983c",
   "metadata": {},
   "outputs": [],
   "source": [
    "# trainingMeanValue_3"
   ]
  },
  {
   "cell_type": "code",
   "execution_count": 136,
   "id": "da89ffc7",
   "metadata": {},
   "outputs": [],
   "source": [
    "# trainingMeanValue_4"
   ]
  },
  {
   "cell_type": "code",
   "execution_count": 137,
   "id": "c209828c",
   "metadata": {},
   "outputs": [],
   "source": [
    "outputTrainingValues = np.array([trainingMeanValue_0,trainingMeanValue_1,trainingMeanValue_2])#,trainingMeanValue_3,trainingMeanValue_4])"
   ]
  },
  {
   "cell_type": "code",
   "execution_count": 138,
   "id": "67783900",
   "metadata": {},
   "outputs": [],
   "source": [
    "outputTrainingValuesMax = np.array([9,10,17])"
   ]
  },
  {
   "cell_type": "code",
   "execution_count": 139,
   "id": "8728faf9",
   "metadata": {},
   "outputs": [],
   "source": [
    "# Prediction"
   ]
  },
  {
   "cell_type": "code",
   "execution_count": 140,
   "id": "5bd0676d",
   "metadata": {},
   "outputs": [],
   "source": [
    "def prediction(data,finalWeight):\n",
    "        predict = []\n",
    "        for item in data:\n",
    "            item = flattenInput(item)\n",
    "            res = np.dot(item.T,finalWeight)\n",
    "            res = np.median(res)\n",
    "            distance = np.abs(outputTrainingValues - res)\n",
    "            predict.append(np.argmin(distance))\n",
    "        return predict"
   ]
  },
  {
   "cell_type": "code",
   "execution_count": 141,
   "id": "c09f4c0d",
   "metadata": {},
   "outputs": [],
   "source": [
    "def predictionBlocks(data,finalWeight):\n",
    "        predict = []\n",
    "        for item in data:\n",
    "            item = flattenInput(item)\n",
    "            res = np.dot(item.T,finalWeight)\n",
    "            distance = np.abs(outputTrainingValues - res)\n",
    "            predict.append(np.argmin(distance))\n",
    "        return predict"
   ]
  },
  {
   "cell_type": "code",
   "execution_count": null,
   "id": "5540122e",
   "metadata": {},
   "outputs": [],
   "source": []
  },
  {
   "cell_type": "code",
   "execution_count": 142,
   "id": "18203ede",
   "metadata": {},
   "outputs": [],
   "source": [
    "def predictionMax(data,finalWeight):\n",
    "        predict = []\n",
    "        results, resultSum = printResultsBlockIncludingAnotherLayer(data,weight1 , weight2)\n",
    "        #data_ , indices_ , mode_ = findMaxNode(results)\n",
    "        predictMax = []\n",
    "        combinedPred = []\n",
    "        for index in range(len(results)):\n",
    "            #print(resultSum[index])\n",
    "            #print(indices_[index])\n",
    "            distance = np.abs(outputTrainingValues - results[index])\n",
    "            #distanceMax = np.abs(outputTrainingValuesMax - indices_[index]) \n",
    "            \n",
    "            predict.append(np.argmin(distance))\n",
    "            #predictMax.append(np.argmin(distanceMax))\n",
    "            \n",
    "            \n",
    "            #print(predictDist)\n",
    "            #if indices_[index] == 21:\n",
    "            #    predictMax.append(0)\n",
    "            #elif indices_[index] == 6:\n",
    "            #    predictMax.append(1)\n",
    "            #elif indices_[index] == 19:\n",
    "            #    predictMax.append(2)\n",
    "            \n",
    "           \n",
    "                #predict.append(0)\n",
    "                #if predictDist == 0 and predictMode == 1:\n",
    "                #    predict.append(0)\n",
    "                #elif predictDist == 1 and predictMode == 1:\n",
    "                #    predict.append(1)\n",
    "                #elif predictDist == 2 and predictMode == 1:\n",
    "                #    predict.append(2)\n",
    "        return predict , predictMax"
   ]
  },
  {
   "cell_type": "code",
   "execution_count": 143,
   "id": "4b7f8be3",
   "metadata": {},
   "outputs": [],
   "source": [
    "#pred = predictionBlocks(X_test_filter ,weight1)"
   ]
  },
  {
   "cell_type": "code",
   "execution_count": 144,
   "id": "bb67979a",
   "metadata": {},
   "outputs": [],
   "source": [
    "#pred = prediction(X_test_filter ,weight1)"
   ]
  },
  {
   "cell_type": "code",
   "execution_count": 145,
   "id": "ff6ab04d",
   "metadata": {},
   "outputs": [],
   "source": [
    "pred , predictMax =  predictionMax(X_test_filter,weight1)"
   ]
  },
  {
   "cell_type": "code",
   "execution_count": 146,
   "id": "5a2588c4",
   "metadata": {},
   "outputs": [
    {
     "data": {
      "text/plain": [
       "array([0, 1, 2])"
      ]
     },
     "execution_count": 146,
     "metadata": {},
     "output_type": "execute_result"
    }
   ],
   "source": [
    "np.unique(pred)"
   ]
  },
  {
   "cell_type": "code",
   "execution_count": 147,
   "id": "f7a7e622",
   "metadata": {},
   "outputs": [
    {
     "data": {
      "text/plain": [
       "array([], dtype=float64)"
      ]
     },
     "execution_count": 147,
     "metadata": {},
     "output_type": "execute_result"
    }
   ],
   "source": [
    "np.unique(predictMax)"
   ]
  },
  {
   "cell_type": "code",
   "execution_count": 148,
   "id": "2bfbb8fd",
   "metadata": {},
   "outputs": [
    {
     "data": {
      "text/plain": [
       "array([0, 1, 2], dtype=uint8)"
      ]
     },
     "execution_count": 148,
     "metadata": {},
     "output_type": "execute_result"
    }
   ],
   "source": [
    "np.unique(Y_test_filter)"
   ]
  },
  {
   "cell_type": "code",
   "execution_count": 149,
   "id": "e09674f0",
   "metadata": {},
   "outputs": [],
   "source": [
    "def compute_accuracy(y_true, y_pred):\n",
    "    correct_predictions = 0\n",
    "    accuracy = 0\n",
    "    for true, predicted in zip(y_true, y_pred):\n",
    "        if true == predicted:\n",
    "            correct_predictions += 1\n",
    "            accuracy = correct_predictions/len(y_true)\n",
    "    return accuracy"
   ]
  },
  {
   "cell_type": "code",
   "execution_count": 150,
   "id": "e3465ff0",
   "metadata": {},
   "outputs": [],
   "source": [
    "acc = compute_accuracy(Y_test_filter,pred)"
   ]
  },
  {
   "cell_type": "code",
   "execution_count": 151,
   "id": "92eadc36",
   "metadata": {},
   "outputs": [
    {
     "data": {
      "text/plain": [
       "0.36542739116619"
      ]
     },
     "execution_count": 151,
     "metadata": {},
     "output_type": "execute_result"
    }
   ],
   "source": [
    "acc"
   ]
  },
  {
   "cell_type": "code",
   "execution_count": 152,
   "id": "b9062810",
   "metadata": {},
   "outputs": [],
   "source": [
    "acc = compute_accuracy(Y_test_filter,predictMax)"
   ]
  },
  {
   "cell_type": "code",
   "execution_count": 153,
   "id": "1837a06b",
   "metadata": {},
   "outputs": [
    {
     "data": {
      "text/plain": [
       "0"
      ]
     },
     "execution_count": 153,
     "metadata": {},
     "output_type": "execute_result"
    }
   ],
   "source": [
    "acc"
   ]
  },
  {
   "cell_type": "markdown",
   "id": "7bb8639d",
   "metadata": {},
   "source": [
    "# Calculating Individual Accuracies"
   ]
  },
  {
   "cell_type": "code",
   "execution_count": 154,
   "id": "b997e66d",
   "metadata": {},
   "outputs": [],
   "source": [
    "def prediction_0(X, w):\n",
    "    result = []\n",
    "    res = printResultsBlock(X,w)\n",
    "    indices = findMaxNode(res)\n",
    "    \n",
    "    for info in indices:\n",
    "        if info == 8:\n",
    "            result.append(0)\n",
    "        else:\n",
    "            result.append(-1)\n",
    "    \n",
    "    return result\n",
    "        "
   ]
  },
  {
   "cell_type": "code",
   "execution_count": 155,
   "id": "34a5a2e5",
   "metadata": {},
   "outputs": [],
   "source": [
    "pred_for_0 , predMax_0 = predictionMax(X_test_filter_0 ,weight1)"
   ]
  },
  {
   "cell_type": "code",
   "execution_count": 156,
   "id": "dc813ecf",
   "metadata": {},
   "outputs": [],
   "source": [
    "acc_0 = compute_accuracy(Y_test_filter_0,predMax_0)"
   ]
  },
  {
   "cell_type": "code",
   "execution_count": 157,
   "id": "73d1cfe5",
   "metadata": {},
   "outputs": [
    {
     "data": {
      "text/plain": [
       "0"
      ]
     },
     "execution_count": 157,
     "metadata": {},
     "output_type": "execute_result"
    }
   ],
   "source": [
    "acc_0"
   ]
  },
  {
   "cell_type": "code",
   "execution_count": 158,
   "id": "b9f58c24",
   "metadata": {},
   "outputs": [],
   "source": [
    "pred_for_1 , predMax_1= predictionMax(X_test_filter_1 ,weight1)"
   ]
  },
  {
   "cell_type": "code",
   "execution_count": 159,
   "id": "77354fd3",
   "metadata": {},
   "outputs": [],
   "source": [
    "acc_1 = compute_accuracy(Y_test_filter_1,predMax_1)"
   ]
  },
  {
   "cell_type": "code",
   "execution_count": 160,
   "id": "32382ba3",
   "metadata": {},
   "outputs": [
    {
     "data": {
      "text/plain": [
       "0"
      ]
     },
     "execution_count": 160,
     "metadata": {},
     "output_type": "execute_result"
    }
   ],
   "source": [
    "acc_1"
   ]
  },
  {
   "cell_type": "code",
   "execution_count": 161,
   "id": "06bd8941",
   "metadata": {},
   "outputs": [],
   "source": [
    "pred_for_2 , predMax_2 = predictionMax(X_test_filter_2,weight1)"
   ]
  },
  {
   "cell_type": "code",
   "execution_count": 162,
   "id": "e9d1edba",
   "metadata": {},
   "outputs": [],
   "source": [
    "acc_2 = compute_accuracy(Y_test_filter_2,predMax_2)"
   ]
  },
  {
   "cell_type": "code",
   "execution_count": 163,
   "id": "edabbc61",
   "metadata": {},
   "outputs": [
    {
     "data": {
      "text/plain": [
       "0"
      ]
     },
     "execution_count": 163,
     "metadata": {},
     "output_type": "execute_result"
    }
   ],
   "source": [
    "acc_2"
   ]
  },
  {
   "cell_type": "code",
   "execution_count": 164,
   "id": "4e2e9705",
   "metadata": {},
   "outputs": [],
   "source": [
    "#pred_for_3 = prediction(X_test_filter_3,weight1)"
   ]
  },
  {
   "cell_type": "code",
   "execution_count": 165,
   "id": "170c2442",
   "metadata": {},
   "outputs": [],
   "source": [
    "#acc_3 = compute_accuracy(Y_test_filter_3,pred_for_3)"
   ]
  },
  {
   "cell_type": "code",
   "execution_count": 166,
   "id": "655a4add",
   "metadata": {},
   "outputs": [],
   "source": [
    "#acc_3"
   ]
  },
  {
   "cell_type": "code",
   "execution_count": 167,
   "id": "c67c985c",
   "metadata": {},
   "outputs": [],
   "source": [
    "#pred_for_4 = prediction(X_test_filter_4,weight1)"
   ]
  },
  {
   "cell_type": "code",
   "execution_count": 168,
   "id": "36f5348b",
   "metadata": {},
   "outputs": [],
   "source": [
    "#acc_4 = compute_accuracy(Y_test_filter_4,pred_for_4)"
   ]
  },
  {
   "cell_type": "code",
   "execution_count": 169,
   "id": "13b5e8cf",
   "metadata": {},
   "outputs": [],
   "source": [
    "#acc_4"
   ]
  },
  {
   "cell_type": "markdown",
   "id": "ae141bb2",
   "metadata": {},
   "source": [
    "# Visualization"
   ]
  },
  {
   "cell_type": "code",
   "execution_count": 170,
   "id": "d55aee91",
   "metadata": {},
   "outputs": [],
   "source": [
    "#medianOfTrainingData_0,medianOfTrainingData_1,medianOfTrainingData_4"
   ]
  },
  {
   "cell_type": "code",
   "execution_count": 171,
   "id": "7024d245",
   "metadata": {
    "scrolled": true
   },
   "outputs": [
    {
     "data": {
      "image/png": "[encoded data removed]",
      "text/plain": [
       "<Figure size 640x480 with 2 Axes>"
      ]
     },
     "metadata": {},
     "output_type": "display_data"
    }
   ],
   "source": [
    "import matplotlib.pyplot as plt\n",
    "import numpy\n",
    "from sklearn import metrics\n",
    "\n",
    "actual = numpy.random.binomial(1,.9,size = 1000)\n",
    "predicted = numpy.random.binomial(1,.9,size = 1000)\n",
    "\n",
    "confusion_matrix = metrics.confusion_matrix(Y_test_filter,pred)\n",
    "\n",
    "cm_display = metrics.ConfusionMatrixDisplay(confusion_matrix = confusion_matrix, display_labels = [0,1 ,2])\n",
    "\n",
    "cm_display.plot()\n",
    "plt.show()"
   ]
  },
  {
   "cell_type": "code",
   "execution_count": 172,
   "id": "e59ec1d8",
   "metadata": {},
   "outputs": [],
   "source": [
    "# import matplotlib.pyplot as plt\n",
    "# import numpy\n",
    "# from sklearn import metrics\n",
    "\n",
    "# actual = numpy.random.binomial(1,.9,size = 1000)\n",
    "# predicted = numpy.random.binomial(1,.9,size = 1000)\n",
    "\n",
    "# confusion_matrix = metrics.confusion_matrix(Y_test_filter,predictMax)\n",
    "\n",
    "# cm_display = metrics.ConfusionMatrixDisplay(confusion_matrix = confusion_matrix, display_labels = [0,1 ,2])\n",
    "\n",
    "# cm_display.plot()\n",
    "# plt.show()"
   ]
  },
  {
   "cell_type": "code",
   "execution_count": 172,
   "id": "d79615c1",
   "metadata": {},
   "outputs": [
    {
     "data": {
      "text/plain": [
       "5923"
      ]
     },
     "execution_count": 172,
     "metadata": {},
     "output_type": "execute_result"
    }
   ],
   "source": [
    "len(medianOfTrainingData_0)"
   ]
  },
  {
   "cell_type": "code",
   "execution_count": 174,
   "id": "9e1ad661",
   "metadata": {},
   "outputs": [],
   "source": [
    "# if _name_ == \"_main_\":\n",
    "#     summary = []\n",
    "\n",
    "#     for key_size in key_sizes:\n",
    "#         attempts_list = []\n",
    "#         for i in range(total_runs):\n",
    "#             attempts = find_nonce(message, key_size)\n",
    "#             attempts_list.append(attempts)\n",
    "#         average_attempts = round(sum(attempts_list) / total_runs, 4)\n",
    "#         sum_ = 0\n",
    "#         for a in attempts_list:\n",
    "#             sum_ = sum_ + (a-average_attempts)**2)\n",
    "#         variance = sum_ / total_runs\n",
    "#         standard_deviation = round(variance ** 0.5, 4)\n",
    "#         summary.append((key_size, average_attempts, standard_deviation))"
   ]
  },
  {
   "cell_type": "code",
   "execution_count": null,
   "id": "6b772f23",
   "metadata": {},
   "outputs": [],
   "source": []
  }
 ],
 "metadata": {
  "kernelspec": {
   "display_name": "Python 3 (ipykernel)",
   "language": "python",
   "name": "python3"
  },
  "language_info": {
   "codemirror_mode": {
    "name": "ipython",
    "version": 3
   },
   "file_extension": ".py",
   "mimetype": "text/x-python",
   "name": "python",
   "nbconvert_exporter": "python",
   "pygments_lexer": "ipython3",
   "version": "3.8.15"
  }
 },
 "nbformat": 4,
 "nbformat_minor": 5
}
